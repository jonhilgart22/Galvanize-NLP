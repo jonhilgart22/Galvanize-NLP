{
 "cells": [
  {
   "cell_type": "markdown",
   "metadata": {
    "collapsed": true
   },
   "source": [
    "# Choose your own adventure story\n",
    "\n",
    "### First define the different stories available\n",
    "- Sherlock\n",
    "- Alice in Wonderland\n",
    "- Ulysses\n"
   ]
  },
  {
   "cell_type": "code",
   "execution_count": 1,
   "metadata": {
    "collapsed": false
   },
   "outputs": [
    {
     "name": "stdout",
     "output_type": "stream",
     "text": [
      "hi\n"
     ]
    }
   ],
   "source": [
    "print('hi')"
   ]
  },
  {
   "cell_type": "code",
   "execution_count": 2,
   "metadata": {
    "collapsed": true
   },
   "outputs": [],
   "source": [
    "from textblob import TextBlob\n",
    "from collections import Counter\n",
    "import nltk\n",
    "from functools import reduce\n",
    "import operator\n",
    "import numpy as np"
   ]
  },
  {
   "cell_type": "code",
   "execution_count": 3,
   "metadata": {
    "collapsed": false
   },
   "outputs": [
    {
     "name": "stdout",
     "output_type": "stream",
     "text": [
      "Welcome to a choose yur own adventure story! Below you will pick\n"
     ]
    }
   ],
   "source": [
    "print('Welcome to a choose yur own adventure story! Below you will pick')"
   ]
  },
  {
   "cell_type": "code",
   "execution_count": 32,
   "metadata": {
    "collapsed": false
   },
   "outputs": [
    {
     "name": "stdout",
     "output_type": "stream",
     "text": [
      "Which story would you like to inhabit? You can choose Sherlock, Alice in Wonderland, or Ulysses.Sherlock\n"
     ]
    }
   ],
   "source": [
    "story_names = ['Sherlock','Alice in Wonderland','Ulysses']\n",
    "while True:\n",
    "    story = input(\"Which story would you like to inhabit? You can choose Sherlock, Alice in Wonderland, or Ulysses.\")\n",
    "    if story in story_names:\n",
    "        break"
   ]
  },
  {
   "cell_type": "code",
   "execution_count": 33,
   "metadata": {
    "collapsed": true
   },
   "outputs": [],
   "source": [
    "## Open the appropriate story based upon the user input\n",
    "if story =='Alice in Wonderland':\n",
    "    with open(\"../corpora/alice_in_wonderland.txt\") as f:\n",
    "        text = f.read()\n",
    "elif story =='Sherlock':\n",
    "    with open(\"../corpora/sherlock_all.txt\") as f:\n",
    "        text = f.read()\n",
    "elif story =='Ulysses':\n",
    "    with open(\"../corpora/ulysses.txt\") as f:\n",
    "        text = f.read()"
   ]
  },
  {
   "cell_type": "code",
   "execution_count": 34,
   "metadata": {
    "collapsed": true
   },
   "outputs": [],
   "source": [
    "#Clean the text"
   ]
  },
  {
   "cell_type": "code",
   "execution_count": 35,
   "metadata": {
    "collapsed": false
   },
   "outputs": [],
   "source": [
    "#Token the words, count the frequency of each token, and create a unigram, bigram, and trigram dictionary\n",
    "blob_text = TextBlob(text)\n",
    "text_tokens = blob_text.tokens\n",
    "text_counter_unigram = Counter(text_tokens)\n",
    "text_counter_bigram = Counter(nltk.bigrams(text_tokens))\n",
    "text_counter_trigram = Counter(nltk.trigrams(text_tokens))"
   ]
  },
  {
   "cell_type": "code",
   "execution_count": 36,
   "metadata": {
    "collapsed": false
   },
   "outputs": [],
   "source": [
    "def prob_distribution(counter):\n",
    "    \"\"\"Return the probability based upon a counter dictionary\"\"\"\n",
    "    #increase by 100000 to use numpy random choice\n",
    "    return {k:value/sum(counter.values()) for k,value in counter.items()}\n",
    "    \n",
    "    \n",
    "\n",
    "\n",
    "# def product(iterable):\n",
    "#     \"Multiply the numbers together.  (Like `sum`, but with multiplication.)\"\n",
    "#     return reduce(operator.mul, iterable, 1)\n",
    "\n",
    "# def prob_words(words):\n",
    "#     \"Probability of words, assuming each word is independent of others.\"\n",
    "#     return product(prob_distrubtion(w) for w in words)"
   ]
  },
  {
   "cell_type": "code",
   "execution_count": 37,
   "metadata": {
    "collapsed": false
   },
   "outputs": [],
   "source": [
    "#Probability distributions for different text combinations\n",
    "#This takes ~10 minutes to run\n",
    "prob_dist_unigram = prob_distribution(text_counter_unigram)\n",
    "prob_dist_bigram = prob_distribution(text_counter_bigram)"
   ]
  },
  {
   "cell_type": "code",
   "execution_count": 50,
   "metadata": {
    "collapsed": true
   },
   "outputs": [],
   "source": [
    "prob_dist_trigram = prob_distribution(text_counter_trigram)"
   ]
  },
  {
   "cell_type": "code",
   "execution_count": 13,
   "metadata": {
    "collapsed": false
   },
   "outputs": [],
   "source": [
    "def cond_prob_word(word, prev):\n",
    "    \"Conditional probability of word, given previous word.\"\n",
    "    bigram = (prev , word)\n",
    "    if prob_dist_bigram[bigram] > 0 and prob_dist_unigram[prev] > 0:\n",
    "        \n",
    "        return prob_dist_bigram[bigram] / prob_dist_unigram[prev]\n",
    "    else: # Average the back-off value and zero.\n",
    "        return prob_dist_unigram[word] / 2\n"
   ]
  },
  {
   "cell_type": "code",
   "execution_count": null,
   "metadata": {
    "collapsed": true
   },
   "outputs": [],
   "source": [
    "def con_prob_trigram(start,middle,end):\n",
    "    \"\"\"Find the conditional probability of a trigram model.\"\"\"\n",
    "    trigram = (end ,middle , start)\n",
    "    bigram = ()\n",
    "    if prob_dist_trigram[trigram] > 0 and prob_dist_bigram[end] > 0:\n",
    "        \n",
    "        return prob_dist_bigram[bigram] / prob_dist_unigram[end]\n",
    "    else: # Average the back-off value and zero.\n",
    "        return prob_dist_unigram[word] / 2"
   ]
  },
  {
   "cell_type": "markdown",
   "metadata": {},
   "source": [
    "http://stackoverflow.com/questions/22722079/choosing-elements-from-python-list-based-on-probability\n",
    "\n",
    "Assign each name its relative probability, such that the sum of all probabilities is 1. This relative value is called \"weight\".\n",
    "Select a random number between 0 and 1\n",
    "Walk the list, substracting the weight of each item from your number as you go\n",
    "When you go to 0 or below, pick the current item."
   ]
  },
  {
   "cell_type": "code",
   "execution_count": 47,
   "metadata": {
    "collapsed": false
   },
   "outputs": [],
   "source": [
    "def sentence_generator(probability_dict_unigram, probability_dict_bigram,probability_dict_trigram, number_of_sentences):\n",
    "    \"\"\"Generate random sentences based upon the probabilities given the the probability_dict\"\"\"\n",
    "    number=0\n",
    "    generated_text=[]\n",
    "    character_counter = 0\n",
    "        \n",
    "    #Find starting words of sentences\n",
    "    starting_chars = [item[1]  for item in list(probability_dict_bigram.keys()) if item[0]==\".\"]\n",
    "    starting_chars_counter = Counter(starting_chars)\n",
    "    #print(starting_chars)\n",
    "    \n",
    "    #find list of unigram probabilities for starting characters\n",
    "    starting_prob = prob_distribution(starting_chars_counter)\n",
    "    \n",
    "    #Pick an initial starting character\n",
    "    start_char_index = np.random.choice([i for i in range(len(starting_chars))],1,p=list(starting_prob.values()))\n",
    "    generated_text.append(starting_chars[start_char_index])\n",
    "    print(generated_text,'generated text')\n",
    "    \n",
    "    while number !=number_of_sentences: #make sure we have this number of sentences\n",
    "      \n",
    "        print(generated_text,'generated text')\n",
    "        \n",
    "        if len(generated_text)<3:\n",
    "        \n",
    "            words_list = list(probability_dict_bigram.keys())\n",
    "            prev_character=generated_text[character_counter]\n",
    "\n",
    "            current_word_options = [i[1] for i in text_counter_bigram if i[0]==prev_character] #Find bigrams with prev char\n",
    "            print(current_word_options, ' current word options')\n",
    "\n",
    "            prob_bigram_list = []\n",
    "            for curr_word in current_word_options:\n",
    "                prob_bigram_list.append(cond_prob_word(curr_word,prev_character))\n",
    "\n",
    "            #print(prob_bigram_list, ' prob bigram')\n",
    "            print(sum(prob_bigram_list))\n",
    "\n",
    "            # weighted choice algorithm\n",
    "            # http://stackoverflow.com/questions/22722079/choosing-elements-from-python-list-based-on-probability\n",
    "            # 1) pick random number between 0 and 1\n",
    "            # 2) walk through the list, subtracting each item from your number as your go\n",
    "            # 3 ) when you go to 0 or below, pick the current item\n",
    "            weight = np.random.random()\n",
    "            print(weight,'weight')\n",
    "            bigram_word_index = 0\n",
    "\n",
    "            for index,prob in enumerate(prob_bigram_list):\n",
    "                weight -=prob\n",
    "                if weight <0:\n",
    "                    bigram_word_index=index\n",
    "\n",
    "            word = current_word_options[bigram_word_index]\n",
    "        \n",
    "            generated_text.append(word)\n",
    "            \n",
    "        elif len(generated_text)>2: ###trigram \n",
    "            \n",
    "            words_list = list(probability_dict_trigram.keys())\n",
    "            prev_character=generated_text[character_counter]\n",
    "\n",
    "            current_word_options = [(i[1],i[2]) for i in text_counter_trigram if i[0]==prev_character] #Find bigrams with prev char\n",
    "            # tuple ('The', 'boy', 'went) i[0]=The, i[1]=boy, i[2]=went\n",
    "            print(current_word_options, ' current word options')\n",
    "\n",
    "            prob_trigram_list = []\n",
    "            for curr_word in current_word_options: ##adjust for trigram\n",
    "                prob_trigram_list.append(cond_prob_word(curr_word,prev_character))\n",
    "\n",
    "            #print(prob_bigram_list, ' prob bigram')\n",
    "            print(sum(prob_bigram_list))\n",
    "\n",
    "            # weighted choice algorithm\n",
    "            # http://stackoverflow.com/questions/22722079/choosing-elements-from-python-list-based-on-probability\n",
    "            # 1) pick random number between 0 and 1\n",
    "            # 2) walk through the list, subtracting each item from your number as your go\n",
    "            # 3 ) when you go to 0 or below, pick the current item\n",
    "            weight = np.random.random()\n",
    "            print(weight,'weight')\n",
    "            bigram_word_index = 0\n",
    "\n",
    "            for index,prob in enumerate(prob_bigram_list):\n",
    "                weight -=prob\n",
    "                if weight <0:\n",
    "                    bigram_word_index=index\n",
    "\n",
    "            word = current_word_options[bigram_word_index]\n",
    "        \n",
    "            generated_text.append(word)\n",
    "            \n",
    "        \n",
    "        \n",
    "        if word ==\".\": ##end of the sentence\n",
    "            number+=1\n",
    "        character_counter+=1 ## go to the next character\n",
    "        if character_counter==15:\n",
    "            break\n",
    "\n",
    "       \n",
    "    return generated_text"
   ]
  },
  {
   "cell_type": "code",
   "execution_count": 170,
   "metadata": {
    "collapsed": false
   },
   "outputs": [
    {
     "data": {
      "text/plain": [
       "0"
      ]
     },
     "execution_count": 170,
     "metadata": {},
     "output_type": "execute_result"
    }
   ],
   "source": [
    "text_counter_bigram[('boy','the')]"
   ]
  },
  {
   "cell_type": "markdown",
   "metadata": {},
   "source": [
    "# TESTING"
   ]
  },
  {
   "cell_type": "code",
   "execution_count": null,
   "metadata": {
    "collapsed": false
   },
   "outputs": [],
   "source": [
    "cond_prob_word('the','man')"
   ]
  },
  {
   "cell_type": "code",
   "execution_count": 49,
   "metadata": {
    "collapsed": false
   },
   "outputs": [
    {
     "name": "stderr",
     "output_type": "stream",
     "text": [
      "/Users/jonathanhilgart/anaconda/envs/nlp/lib/python3.5/site-packages/ipykernel/__main__.py:17: VisibleDeprecationWarning: converting an array with ndim > 0 to an index will result in an error in the future\n"
     ]
    },
    {
     "name": "stdout",
     "output_type": "stream",
     "text": [
      "['Light'] generated text\n",
      "['Light'] generated text\n",
      "['a']  current word options\n",
      "1.0000079601990048\n",
      "0.396627238563532 weight\n",
      "['Light', 'a'] generated text\n",
      "['harmonium', 'proposal', 'parallel', 'gambler', 'well-dressed', 'hurry', 'teetotaler', 'calf', 'similar', 'lens', 'definite', 'baby', 'basin', 'pencil', 'coat', 'red-covered', 'small', 'trap', 'noise', 'serious', 'perplexing', 'purple', 'neat', 'beauty', 'jump', 'grove', 'bachelor', 'faded', 'newcomer', 'suggestive', 'scandal', 'disadvantage', 'Hercules', 'dozen', 'full-sailed', 'glance', 'signal', 'sombre', 'probable', 'danseuse', 'guinea', 'delight', 'nice', 'gesture', 'splash', 'distracting', 'light-house', 'plunge', 'trick', 'clever', 'suicide', 'drab', 'witness', 'care', 'false', 'form', 'distinct', 'sharp-eyed', 'noble', 'jesting', 'gale', 'youth', 'slow', 'passing', 'bitter', 'realistic', 'rule', 'point', 'glimpse', 'while', 'boot-lace', 'subject', 'holder', 'household', 'bet', 'regular', 'whitewashed', 'check', 'windfall', 'cigar-holder', 'cold', 'thing', 'Freemason', 'fear', 'slim', 'country', 'word', 'cabinet', 'third', 'fess', 'two-edged', 'chapter', 'lamp-post', 'glitter', 'receipt', 'questionable', 'minute', 'turn', 'parapet', 'Testament', 'long', 'lonely', 'recognised', 'slice', 'wash', 'touch', 'hunting', 'copper', 'folded', 'suite', 'confidant', 'couch', 'California', 'commission', 'drunkard', 'regurgitation', 'funny', 'bulge', 'garden', 'reporter', 'call', 'winding', 'coquettish', 'sensitive', 'cat', 'child', 'quiet', 'good-sized', 'job', 'mere', 'pair', 'Sunday-school', 'locket', 'rending', 'frightened', 'desperate', 'silent', 'remark', 'common-looking', 'grin', 'rough', 'satisfaction', 'not', 'fragment', 'side', 'field', 'peace-offering', 'composer', 'reward', 'questioning', 'fifty-guinea', 'pretty', 'weapon', 'grand', 'friend', 'gash', 'tall', 'half', 'curious', 'link', 'window-sill', 'petty', 'trite', 'staff-commander', 'living', 'vacancy', 'protestation', 'dear', 'disappointment', 'surgeon', 'feeling', 'branded', 'strongly', 'soft', 'rather', 'drive', 'match-seller', 'basketful', 'rabbit', 'Mr.', 'poor', 'boat', 'horrible', 'charge', 'sum', 'lantern', 'left-handed', 'dramatic', 'remarkable', 'secret', 'sister', 'middle-sized', 'cellar', 'flight', 'four-wheeler', 'rifle', 'sound', 'British', 'deposit', 'maid', 'curtain', 'married', 'pity', 'temptation', 'booted', 'handsome', 'hook', 'detail', 'tunnel', 'date', 'widower', 'provision', 'situation', 'prior', 'gentleman', 'Dane', 'hopeless', 'myth', 'cashier', 'mole', 'loafer', 'lane', 'life-preserver', 'bonny', 'month', 'marriage', 'photograph', 'cold-blooded', 'bit', 'chance', 'twitter', 'headache', 'writ', 'gipsy', 'sheet', 'clanging', 'surpliced', 'lucky', 'dead', 'human', 'subdued', 'gold', 'sunbeam', 'conclusion', 'grey', 'fit', 'lover', 'bird', 'philanthropist', 'plainly', 'previous', 'smart', 'confession', 'girl', 'fair', 'soul', 'deep', 'rake', 'beggar', 'tack', 'crab', 'sweeping', 'lurid', 'well-known', 'clatter', 'conclusive', 'cushion', 'blind', 'cigar', 'wonderful', 'love', 'heading', 'reply', 'yawn', 'listless', 'slop-shop', 'remarkably', 'visitor', 'roof', 'low', 'perpetual', 'colonel', 'quartering', 'gravel-drive', 'row', 'handkerchief', 'scream', 'hansom', 'quarter', 'supper', 'bloody', 'decided', 'pitiable', 'cabman', 'gaol-bird', 'plot', 'brain', 'pheasant', 'note.', 'day', 'second-floor', 'steamer', 'position', 'speedy', 'magnifying', 'pale', 'list', 'gibe', 'precious', 'vulgar', 'lovely', 'pack', 'possibility', 'wife', 'hard', 'suspicion', 'trusty', 'counsellor', 'smarter', 'true', 'purveyor', 'lawn', 'brother', 'tooth-brush', 'dream', 'Roylott', 'nucleus', 'crippled', 'supply', 'quarter-past', 'pen', 'shudder', 'talk', 'labyrinth', 'flickering', 'caraffe', 'half-pay', 'movement', 'night-bird', 'brickish', 'Lascar', 'lengthy', 'loop', 'piece', 'technical', 'fad', 'line', 'one', 'hunting-crop', 'moustache', 'fortnight', 'better', 'rush', 'couple', 'walk', 'size', 'foot', 'foreign', 'stricken', 'delicate', 'crumpled', 'smile', 'possible', 'shrimp', 'sinister', 'tinge', 'narrative', 'gaol', 'trout', 'damning', 'plover', 'sliding', 'bundle', 'meaning', 'dangerous', 'mystery', 'coroner', 'stop', 'weariness', 'tomboy', 'doctor', 'three', 'weak', 'wreck', 'hydraulic', 'murder', 'comical', 'customary', 'sad', 'steep', 'lawyer', 'society', 'friendly', 'tidy', 'less', 'worthy', 'cheetah', 'captured', 'lie', 'sudden', 'gas-jet', 'simple', 'fly', 'knot', 'comparatively', 'sardonic', 'thoroughly', 'man', 'caseful', 'business', 'sovereign', 'sealed', 'note', 'disagreeable', 'pitch', 'demon', 'pinch', 'tapping', 'painful', 'scene', 'manufactory', 'pince-nez', 'bride', 'chase', 'fellow-countryman', 'best', 'hard-headed', 'horsey-looking', 'sneer', 'hoarse', 'card', 'fait', 'cluster', 'cord', 'cashbox', 'mistake', 'purpose', 'muttered', 'poky', 'pleasant', 'sweetheart', 'recess', 'sallow', 'gruff', 'hesitating', 'pocket', 'pained', 'sailing-ship', 'battered', 'fierce', 'groan', 'fresh', 'gang', 'trap-door', 'test-tube', 'pawnbroker', 'hundred', 'large', 'well-lit', 'great', 'dog', 'pipe-rack', 'mirror', 'duty', 'client', 'pile', 'facility', 'fine', 'danger', 'chestnut', 'butcher', 'public', 'villain', 'dissolute', 'farthing', 'star', 'force', 'theory', 'strange', 'roar', 'detective', 'solution', 'German', 'healthy', 'camera', 'patient', 'logical', 'bridge', 'boy', 'woman', 'chink', 'sweet', 'lunatic', 'gallows', 'tone', 'twentieth', 'higher', 'cripple', 'succession', 'barmaid', 'brighter', 'tune', 'successful', 'pink', 'stand', 'singular', 'fish-monger', 'particular', 'Hebrew', 'packet', 'weaver', 'possession', 'fringe', 'vile', 'moral', 'weary', 'sight', 'tiny', 'rich', 'heaving', 'prosecution', 'struggle', 'brief', 'private', 'newly', 'way', 'hound', 'copy', 'penny', 'dark-lantern', 'vague', 'morose', 'sturdy', 'chair', 'spark', 'piteous', 'pistol', 'useless', 'bulldog', 'chinchilla', 'part', 'speckled', 'collection', 'journey', 'twig', 'wedding-dress', 'crown', 'pit', 'short', 'ring', 'family', 'hereditary', 'kindly', 'baleful', 'doddering', 'terrible', 'capital', 'step', 'few', 'crackling', 'carriage', 'place', 'number', 'zigzag', 'white', 'year', 'monarch', 'holiday', 'magician', 'group', 'compositor', 'pleasure', 'three-legged', 'formidable', 'net', 'fact', 'disgraceful', 'fuss', 'real', 'planter', 'comfortable-looking', 'common', 'lobster', 'telegram', 'gush', 'railway', 'permanent', 'pure', 'heavy', 'lady', 'slipper', 'tree', 'mask', 'pate', 'last', 'conceivable', 'name', 'box', 'process', 'map', 'broken', 'shade', 'fee', 'page', 'companion', 'retort', 'night', 'finer', 'Scotch', 'hearty', 'luxurious', 'smoke-laden', 'flaw', 'telephone', 'shattered', 'schoolmaster', 'hobby', 'civilised', 'powerful', 'practical', 'high', 'light', 'criminal', 'second', 'picture', 'bee', 'minister', 'drunken-looking', 'German-speaking', 'Republican', 'youngster', 'nutshell', 'verdict', 'gun', 'shorter', 'relative', 'deal', 'kettle', 'vice', 'feather', 'heart', 'dense', 'beautiful', 'lamp', 'driving-rod', 'young', 'trumpet', 'glowing', 'sort', 'cheery', 'thin', 'greater', 'plain-clothes', 'groom', 'brooch', 'trifle', 'fiver', 'voice', 'plumber', 'swarm', 'sprig', 'snake', 'gulp', 'startled', 'drawn', 'late', 'room', 'housekeeper', 'certain', 'blow', 'fairly', 'herd', 'head', 'seat', 'scent', 'nod', 'mews', 'burst', 'mining', 'prompt', 'sleepless', 'clean-cut', 'doubt', 'bank', 'morning', 'peculiar', 'question', 'better-lined', 'plain', 'disputatious', 'devil', 'governess', 'double-bedded', 'snigger', 'cleaver', 'bright-looking', 'flush', 'church', 'cry', 'wild', 'boarding-school', 'single', 'coster', 'bill', 'grievous', 'breath', 'solicitor', 'different', 'noiseless', 'desultory', 'fancy', 'massive', 'start', 'gong', 'whip', 'yellow-backed', 'whisky', 'clear', 'gallop', 'cool', 'preliminary', 'perfectly', 'whistle', 'clergyman', 'misfortune', 'purely', 'poison', 'stain', 'presumption', 'barred', 'visit', 'stare', 'fellow', 'gigantic', 'smear', 'pipe', 'sense', 'cage', 'more', 'cell', 'course', 'letter', 'dog-cart', 'wonderfully', 'giant', 'thick', 'clue', 'glass', 'considerable', 'shriek', 'peasant', 'price', 'twist', 'snow-clad', 'fowl', 'scheming', 'sympathy', 'wedding-morning', 'monograph', 'quavering', 'very', 'terrified', 'crate', 'saucer', 'slightly', 'salary', 'joy', 'murderous', 'pathway', 'trace', 'loss', 'gaping', 'valuable', 'whole', 'cap', 'salesman', 'homely', 'quill-pen', 'coloured', 'black', 'shock', 'welcome', 'distinctly', 'quick', 'credit', 'panel', 'radius', 'Fashionable', 'faint', 'deduction', 'dash', 'relic', 'loathsome', 'plaid', 'strong', 'sceptic', 'column', 'pikestaff', 'slight', 'fairer', 'firm', 'paragraph', 'dark', 'temporary', 'delusion', 'frantic', 'bad', 'case', 'basket-chair', 'dreary', 'wayside', 'popular', 'particularly', 'moment', 'ladder', 'bell-pull', 'level', 'keen', 'search', 'complete', 'nature', 'national', 'chronicler', 'game', 'shawl', 'hat', 'wicked', 'hand', 'grave', 'policeman', 'commanding', 'red-head', 'match-box', 'likely', 'means', 'cave', 'prisoner', 'cloudless', 'pause', 'dull', 'system', 'husband', 'sidelong', 'nervous', 'frowning', 'wave', 'bonnet', 'joke', 'tallish', 'steely', 'furniture', 'widespread', 'guttering', 'specialist', 'precursor', 'state', 'highway', 'gin-shop', 'character', 'promise', 'week', 'thumb', 'pillow', 'hat-securer', 'certainty', 'constable', 'wrinkled', 'register', 'Christmas', 'red-headed', 'matter', 'ghastly', 'perfect', 'moody', 'boiling', 'bob', 'crack', 'bland', 'social', 'dying', 'door', 'shapeless', 'benefactor', 'violent', 'tide-waiter', 'wire', 'bouquet', 'really', 'sour', 'slit', 'pea-jacket', 'bite', 'ship', 'station', 'tortured', 'liar', 'professional', 'quill', 'problem', 'life', 'lenient', 'bright', 'tissue', 'trouble', \"will-o'-the-wisp\", 'claim', 'thief', 'series', 'slut', 'shabby', 'match', 'patentee', 'pocket-book', 'shelf', 'monomaniac', 'squalid', 'local', 'compressed', 'cigarette', 'registry', 'builder', 'nonentity', 'trivial', 'queen', 'stream', 'double-edged', 'game-keeper', 'nurse-girl', 'dweller', 'window', 'decline', 'goose', 'burden', 'length', 'cascade', 'square', 'limp', 'mile', 'contrast', 'crisis', 'catastrophe', 'comfortable', 'rat', 'huge', 'sentence', 'sharp', 'meditative', 'lure', 'close', 'porch', 'confectioner', 'passage', 'skylight', 'horrid', 'swamp', 'government', 'baboon', 'face', 'forceps', 'peaked', 'bed', 'verbatim', 'crib', 'chap', 'kind', 'cup', 'bedroom', 'dishonoured', 'gentle', 'populous', 'traveller', 'wink', 'dirty', 'cart', 'chill', 'shilling', 'slate-coloured', 'toy', 'blunt', 'lad', 'broad', 'brown', 'spirit', 'look', 'brave', 'gasogene', 'commonplace', 'thousand', 'cab', 'tinker', 'working', 'dress', 'metallic', 'union', 'stately', 'drawer', 'careful', 'court', 'brilliantly', 'gold-mine', 'hurried', 'sedentary', 'person', 'time', 'quite', 'weakening', 'dummy', 'mass', 'seven-mile', 'change', 'scissors-grinder', 'degree', 'shake-down', 'revolver', 'Bohemian', 'mind', 'miners', 'twinkle', 'cracked', 'warning', 'ventilator', 'dazed', 'guilty', 'medical', 'prank', 'band', 'bean', 'monotonous', 'loud', 'will', 'foreigner', 'hotel', 'narrow', 'big', 'tap', 'general', 'double', 'consideration', 'park-keeper', 'blaze', 'sitting-room', 'royal', 'task', 'fire', 'rescue', 'somewhat', 'broad-brimmed', 'house', 'curt', 'waste', 'dressing-table', 'magnificent', 'right', 'sigh', 'mixed', 'correspondent', 'stout', 'felony', 'wooden', 'wager', 'chain', 'most', 'red', 'hideous', 'partie', 'disguise', 'typewriter', 'happy', 'wish', 'confused', 'corner', 'brisk', 'flag', 'little', 'pew', 'cloud', 'crust', 'cosy', 'personal', 'suit', 'candle', 'communication', 'Chinese', 'victim', 'slave', '``', 'standing', 'yellow', 'circle', 'bent', 'result', 'deadly', 'nipper', 'Bible', 'vitriol-throwing', 'lumber-room', 'device', 'despairing', 'knife', 'boot', 'curve', 'paper', 'member', 'story', 'fool', 'card-case', 'brilliant', 'passion', 'new', 'woodcock', 'view', 'decrepit', 'much', 'decidedly', 'shadow', 'pointed', 'round', 'return', 'dreadful', 'persevering', 'police-station', 'crime', 'ruined', 'sheep', 'madman', 'request', 'book', 'sign', 'disturbance', 'king', 'good', 'train', 'bijou', 'clump', 'clean', 'cause', 'rifled', 'richness', 'usual']  current word options\n",
      "1.0000079601989955\n",
      "0.20733800066907648 weight\n",
      "['Light', 'a', 'usual'] generated text\n",
      "['at', ',', '.', 'country', 'writing', 'symptom', 'routine', 'round', 'signal', 'in']  current word options\n",
      "1.0000079601990048\n",
      "0.5834059034422264 weight\n",
      "['Light', 'a', 'usual', 'in'] generated text\n",
      "['discovering', 'wax', 'Regent', 'rough', 'England', 'one', 'Bradshaw', 'absolute', 'every', 'addition', 'and', 'half', 'catching', '1846', 'absurd', 'April', 'good', 'anger', 'rubbing', 'McQuire', 'intense', 'saying', 'it', 'Rucastle', 'vegetables', 'here', 'English', 'bed', 'uncontrollable', 'thinking', 'clearing', 'hopes', 'many', 'deep', 'following', 'Upper', 'Horace', 'Sussex', 'dreadful', 'undoing', 'Leadenhall', 'Andover', '.', 'need', 'peace', 'hand', 'recognising', 'allowing', 'Dundee', 'looking', 'from', 'pencil', 'China', 'Fresno', 'all', 'passing', 'only', 'Tottenham', 'cool', 'practice', 'yours', 'sheer', 'France', 'Kent', 'ten', 'four', 'forming', 'June', 'command', 'between', 'Cornwall', 'darkness', 'preventing', 'no', 'person', 'business', 'Swandam', 'conjunction', 'their', 'these', 'considerable', 'proving', 'doubt', 'Bloomsbury', 'society', 'Gordon', 'entering', 'debt', 'sight', 'soft', 'you', 'Bow', 'wait', 'deserting', 'truth', 'America', 'satisfying', 'love', 'uniform', 'fear', \"'77\", 'fact', 'others', 'danger', 'to-night', 'turn', 'black', 'chief', 'memory', 'California', 'order', 'gold', 'Auckland', 'Arizona', 'possession', 'horror', 'southern', 'me', 'other', 'white', 'twenty', 'Afghanistan', 'everything.', 'German', 'to', 'safety', 'vile', 'any', 'word', 'avoiding', 'in', 'agricultural', 'water', 'prison', 'Florida', 'its', 'London', 'size', 'which', 'lodgings', 'money', 'Bristol', 'perfectly', 'places', 'excellent', 'spite', 'as', 'thought', 'Brixton', 'fold', 'return', 'light', 'convincing', 'cold', 'favour', 'crime', 'The', 'May', 'silence', 'error', 'question', 'Berkshire', \"'84\", 'surprise', 'red', 'this', 'ferocious', 'getting', 'two', 'playing', 'serious', 'admiring', 'low', 'before', 'time', 'making', 'planning', 'attempting', 'Gravesend', 'Sherlock', 'foolscap', 'Middlesex', 'astonishment', 'March', 'terrible', 'Winchester', 'Scotland', 'Bohemia', 'those', 'bewilderment', 'some', 'Aberdeen', 'body', 'green', 'several', 'unravelling', 'animated', 'carrying', 'place', 'my', 'last', 'without', \"'Frisco\", 'hope', 'your', 'colour', 'unfeigned', 'Herefordshire', 'at', 'miners', 'January', 'town', 'swiftly', \"'83\", 'Jackson', 'justice', 'weak', 'shade', 'mind', 'anything', 'Tennessee', 'just', 'extending', 'Hafiz', 'Serpentine', 'New', 'Northumberland', 'little', 'exchange', 'whom', 'then', 'pitch', 'Southampton', 'ready', 'opposing', 'custody', 'feature', 'bringing', 'with', 'amazement', 'Montana', 'Holmes', 'our', 'evening', 'sorrow', 'both', '1887', 'by', '!', 'contact', 'five', 'company', ',', 'Baker', 'an', 'front', 'producing', 'he', 'different', 'them', 'monosyllables', 'unimportant', 'Chesterfield', 'quest', 'Nova', 'marriage', 'despair', 'his', 'hard', 'conversation', 'him', 'Europe', 'that', 'coming', 'Australia', 'staring', 'so', 'strange', 'itself', 'public', 'Philadelphia', 'Mr.', 'having', ';', 'engaging', 'sitting', 'particular', 'there', 'judicial', 'patience.', 'India', 'for', 'height', 'themselves', 'less', 'part', 'reference', 'breaking', 'gushes', 'wines', 'nose', 'waiting', 'running', 'explaining', 'search', 'vain', 'another', 'braving', 'private', 'mine', 'couples', 'reply', 'such', 'case', 'a', 'excavating', 'begging', 'view', 'Covent', 'Victoria', 'tears', 'death', 'connection', 'deference', 'far-gone', 'notes', 'buttons', 'failing', 'her', 'grief', 'upon', 'typewriting', 'not', 'drawing', 'communication', 'Pentonville', 'the', 'action', 'Rotterdam', 'ignorance', 'completely', 'Scarlet', 'finding', 'church', 'high', 'what', 'contemplation', 'considering', 'Kensington']  current word options\n",
      "1.0000079601990028\n",
      "0.5845766662819772 weight\n",
      "['Light', 'a', 'usual', 'in', 'Kensington'] generated text\n",
      "['I']  current word options\n",
      "1.0000079601990048\n",
      "0.15362162400702162 weight\n",
      "['Light', 'a', 'usual', 'in', 'Kensington', 'I'] generated text\n",
      "['flash', 'at', 'shook', 'cried', 'really', 'trust', 'merely', 'became', 'could', 'continually', 'tied', 'regret', 'descended', 'pray', 'wrote', 'walked', 'dine', 'see', 'dressed', 'speak', 'lounged', 'hurled', 'heard', 'question', 'entered', 'eat', 'often', 'wo', 'only', 'still', 'rely', 'agree', 'blinked', 'settled', 'feared', 'inquired', 'retain', 'and', 'eliminated', 'endeavoured', 'foresee', 'regretted', 'forget', 'make', 'fell', 'passed', 'found', 'observe', 'plied', 'rose', 'buy', 'carefully', 'fished', 'finish', 'implored', 'as', 'do', 'placed', 'asked.', 'should', 'charged', 'came', 'am', 'sleep', 'clambered', 'ejaculated', 'liked', 'shuddered', 'opened', 'kept', 'gave', 'perceive', 'nodded', 'asks.', 'simply', 'groaned', 'feel', 'bore', 'hardened', 'jumped', 'waited', 'did', 'used', 'ca', 'stay', 'miss', 'knelt', 'followed', 'urged', 'surveyed', 'gather', 'asked', 'live', 'sit', 'offered', 'stared', 'fix', '?', 'felt', 'ought', 'crouched', 'ordered', 'expected', 'bought', 'lifted', 'set', 'always', 'hear', 'bent', 'go', 'seem', 'watched', 'interrupt', 'slept', 'you', 'unlocked', 'noted', 'must', 'then', 'smoked', 'instantly', 'know', 'mean', 'tried', 'lay', 'recognise', 'in', 'rushed', 'struck', 'held', 'worn', 'forbid', 'keep', 'coupled', 'pushed', 'paid', 'fully', 'sold', 'help', 'failed', 'happened', 'signed', 'once', 'shall', 'presume', 'will', 'understood', 'fail', 'staggered', 'tell', 'stood', 'went', 'thank', 'saw', 'owe', 'beg', 'hope', 'returned', 'recall', 'grew', 'answered.', 'thrust', 'daresay', 'seated', 'cudgelled', 'confess', 'congratulate', 'clapped', 'paced', 'roared', 'begin', 'sprang', 'glance', 'gazed', 'ended', 'wished', 'bowed', 'hazarded', 'perceived', 'lent', \"'ll\", 'earn', 'continue', 'locked', 'stop', 'satisfy', 'picked', 'got', 'doubt', 'said', 'attempt', 'behind', 'began', 'drove', 'ascended', 'tossed', 'lowered', 'hesitated', 'whispered', 'smiled', 'shouted', 'fancy', 'assured', 'promise', 'spoke.', 'spoke', 'rang', 'read', 'pondered', 'seized', 'wired', 'took', 'concealed', 'been', 'visited', 'suggest', 'consider', 'never', 'threw', 'lock', 'adopted', 'think', 'raise', 'cared', 'need', 'travelled', '.', 'spared', 'changed', 'seemed', 'painted', 'wanted', 'recognised', 'quite', 'believe', 'put', 'mentioned', 'alone', 'warn', 'learn', ';', \"'m\", 'soon', 'married', 'answer', 'were', 'thought', 'reached', 'conduct', 'exclaimed', 'laughed', 'find', 'ask', 'wonder', 'advertised', 'traced', \"'d\", 'imagine', 'hardly', 'hurried', 'remarked', 'uttered', 'hate', 'remain', 'come', 'meant', 'begged', 'known', 'rapidly', 'understand', 'knew', 'approached.', 'pay', 'invited', 'wish', 'blew', 'ruefully', 'marked', 'ventured', 'fainted', 'received', 'not', 'looked', 'strolled', 'ate', 'repeatedly', 'seen', 'snatched', 'yelled', 'describe', 'may', 'write', 'suddenly', 'say', 'parted', 'guessed', ',', 'guess', 'was', 'repeat', 'suppose', 'motioned', 'deserve', 'poured', 'journeyed', 'the', 'have', 'told', 'expect', 'learned', 'made', 'observed', 'let', 'look', 'chose', 'noticed', 'call', 'volunteered', 'carried', 'usually', 'assure', 'glanced', 'claim', 'disregarded', 'started', 'ran', 'just', 'woke', 'answered', 'surprised', 'managed', 'be', 'pointed', 'remembered', 'already', 'rather', 'actually', 'searched', \"'ve\", 'would', 'can', 'sent', 'much', 'called', 'suspected', 'hoped', 'gained', 'forgot', 'undid', 'braved', 'want', 'hastened', 'sponged', 'leave', 'slipped', 'take', 'gasped', 'turned', 'extend', 'served', 'prepare', 'determined', 'spend', 'said.', 'backed', 'very', 'kissed', 'cried.', 'distinctly', 'sha', 'love', 'laid', 'arrived', 'get', 'caught', 'deduce', 'screamed', 'ever', 'swear', 'deduced', 'dropped', 'to', 'brought', 'approached', 'panted.', 'had', 'on', 'frequently', 'employed', 'care', 'remained', 'hold', 'slink', 'give', 'listened', 'dashed', 'fear', 'drew', 'remember', 'examined', 'promised', 'retired', 'left', 'decide', 'sat', 'met', 'might']  current word options\n",
      "1.0000079601990022\n",
      "0.08741736605918204 weight\n",
      "['Light', 'a', 'usual', 'in', 'Kensington', 'I', 'might'] generated text\n",
      "['very', 'rely', 'either', 'veil', 'direct', '.', 'not', 'fly', 'help', 'think', 'come', 'spend', ',', 'appear', 'make', 'settle', 'never', 'die', 'grow', 'leave', 'prove', 'cross', 'at', 'be', 'roughly', 'play', 'expect', 'solder', 'give', 'befall', 'seem', 'or', 'change', 'suit', 'see', 'afford', 'catch', 'have', 'get', 'care', 'escape', 'find', 'lead', 'betray', 'tell', 'with', 'cause', 'throw', 'hardly', 'avert', 'still', 'take']  current word options\n",
      "1.0000079601990057\n",
      "0.5106992150757679 weight\n",
      "['Light', 'a', 'usual', 'in', 'Kensington', 'I', 'might', 'take'] generated text\n",
      "['it', 'them', 'great', 'your', 'place', 'charge', '?', 'nothing', 'some', 'an', 'wiser', 'comfort', 'when', '.', 'my', 'for', 'the', 'up', 'you', 'in', 'advantage', 'him', 'his', 'me', 'this', 'no', 'effect', '$', 'a', 'us', 'care', 'any']  current word options\n",
      "1.000007960199005\n",
      "0.9458406057263807 weight\n",
      "['Light', 'a', 'usual', 'in', 'Kensington', 'I', 'might', 'take', 'any'] generated text\n",
      "['practice', 'effort', 'warning', 'letters', 'change', 'beggar', 'words', 'other', 'workmen', 'others', 'humiliation', 'emotion', 'furniture', 'traces', 'pleasure', 'misfortune', 'features', 'harm', 'dress', 'mystery', 'which', 'burglar', 'man', 'risks', 'on', 'case', 'friends', 'future', 'legal', 'longer', 'influence', 'violence', 'positive', 'rate', 'signs', 'investigation', 'sort', 'satisfactory', 'reply', 'manner', 'little', 'connection', 'visitors', 'chance', 'young', 'feature', 'preliminary', 'of', 'creature', 'moment', 'doubt', 'news', 'more', 'pretext', 'criminal', 'point', 'information', 'region', 'light', 'gentleman', 'very', 'such', 'inconvenience', 'definite', 'family', 'piece', 'statement', 'time', 'competition', 'bearing', '.', 'old', 'one', 'hesitation', 'expense', 'grievance', 'dislike', 'doubts', 'chemical', 'action', 'assistance', 'missing', 'tax', 'mischief', 'unnecessary', 'steps', 'reason', 'way']  current word options\n",
      "1.000007960199004\n",
      "0.20669033404129278 weight\n",
      "['Light', 'a', 'usual', 'in', 'Kensington', 'I', 'might', 'take', 'any', 'way'] generated text\n",
      "['over', 'downstairs', 'past', 'up', 'a', 'has', 'to', 'merely', 'in', '.', 'down', 'of', 'and', ':', 'led', 'he', 'be', 'back', '?', 'dependent', 'along', 'I', 'across', 'there', 'you', 'when', 'we', 'with', ',', 'for', 'homeward', 'that', 'out', 'among', 'home', 'as', 'into', 'altered']  current word options\n",
      "1.0000079601990055\n",
      "0.5335385204527364 weight\n",
      "['Light', 'a', 'usual', 'in', 'Kensington', 'I', 'might', 'take', 'any', 'way', 'altered'] generated text\n",
      "['.']  current word options\n",
      "1.0000079601990048\n",
      "0.5460179528459741 weight\n"
     ]
    },
    {
     "data": {
      "text/plain": [
       "['Light',\n",
       " 'a',\n",
       " 'usual',\n",
       " 'in',\n",
       " 'Kensington',\n",
       " 'I',\n",
       " 'might',\n",
       " 'take',\n",
       " 'any',\n",
       " 'way',\n",
       " 'altered',\n",
       " '.']"
      ]
     },
     "execution_count": 49,
     "metadata": {},
     "output_type": "execute_result"
    }
   ],
   "source": [
    "sentence_generator(prob_dist_unigram,prob_dist_bigram,1)"
   ]
  },
  {
   "cell_type": "code",
   "execution_count": 37,
   "metadata": {
    "collapsed": true
   },
   "outputs": [],
   "source": [
    "l = [1,2,3,4,3,2,334234,2,2,3,3,4,4,3,2,2,2,2]"
   ]
  },
  {
   "cell_type": "code",
   "execution_count": 38,
   "metadata": {
    "collapsed": true
   },
   "outputs": [],
   "source": [
    "coun_l = Counter(l)"
   ]
  },
  {
   "cell_type": "raw",
   "metadata": {},
   "source": []
  },
  {
   "cell_type": "code",
   "execution_count": 43,
   "metadata": {
    "collapsed": false
   },
   "outputs": [
    {
     "data": {
      "text/plain": [
       "{1: 0.05555555555555555,\n",
       " 2: 0.4444444444444444,\n",
       " 3: 0.2777777777777778,\n",
       " 4: 0.16666666666666666,\n",
       " 334234: 0.05555555555555555}"
      ]
     },
     "execution_count": 43,
     "metadata": {},
     "output_type": "execute_result"
    }
   ],
   "source": [
    "prob_distribution(coun_l)"
   ]
  },
  {
   "cell_type": "code",
   "execution_count": 181,
   "metadata": {
    "collapsed": false
   },
   "outputs": [
    {
     "data": {
      "text/plain": [
       "0.545593768033727"
      ]
     },
     "execution_count": 181,
     "metadata": {},
     "output_type": "execute_result"
    }
   ],
   "source": [
    "np.random.random()"
   ]
  },
  {
   "cell_type": "code",
   "execution_count": null,
   "metadata": {
    "collapsed": true
   },
   "outputs": [],
   "source": []
  }
 ],
 "metadata": {
  "anaconda-cloud": {},
  "kernelspec": {
   "display_name": "Python [nlp]",
   "language": "python",
   "name": "Python [nlp]"
  },
  "language_info": {
   "codemirror_mode": {
    "name": "ipython",
    "version": 3
   },
   "file_extension": ".py",
   "mimetype": "text/x-python",
   "name": "python",
   "nbconvert_exporter": "python",
   "pygments_lexer": "ipython3",
   "version": "3.5.2"
  }
 },
 "nbformat": 4,
 "nbformat_minor": 0
}
