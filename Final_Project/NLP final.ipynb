{
 "cells": [
  {
   "cell_type": "markdown",
   "metadata": {
    "collapsed": true
   },
   "source": [
    "# Choose your own adventure story\n",
    "\n",
    "### You are about to embark on a choosen your own adventure story with none other than Donal Trump! You have the option to inhabit the world of Alice in Wonderland, Sherlock, or Ulysses. As you move throughout the story, think about your next decision carefully...danger awaits around every turn!\n",
    "\n",
    "> Stories\n",
    "- Sherlock\n",
    "- Alice in Wonderland\n",
    "- Ulysses\n",
    "\n",
    "#### Resources\n",
    "> Trump speeches https://github.com/ryanmcdermott/trump-speeches\n",
    "\n",
    "> TFIDF http://stackoverflow.com/questions/12118720/python-tf-idf-cosine-to-find-document-similarity\n"
   ]
  },
  {
   "cell_type": "code",
   "execution_count": 23,
   "metadata": {
    "collapsed": false
   },
   "outputs": [],
   "source": [
    "from textblob import TextBlob\n",
    "from collections import Counter\n",
    "from collections import defaultdict\n",
    "import nltk\n",
    "from functools import reduce\n",
    "import operator\n",
    "import numpy as np\n",
    "import re\n",
    "from spacy.en import English\n",
    "## The sentence generator module contains a trigram model for sentence generation\n",
    "from sentence_generator import prob_distribution,cond_prob_bigram,cond_prob_trigram,sentence_generate\n",
    "from sklearn.metrics.pairwise import linear_kernel\n",
    "from sklearn.feature_extraction.text import TfidfVectorizer\n",
    "from story_chunks import place_of_story"
   ]
  },
  {
   "cell_type": "code",
   "execution_count": 56,
   "metadata": {
    "collapsed": false
   },
   "outputs": [
    {
     "name": "stdout",
     "output_type": "stream",
     "text": [
      "The autoreload extension is already loaded. To reload it, use:\n",
      "  %reload_ext autoreload\n"
     ]
    }
   ],
   "source": [
    "%load_ext autoreload"
   ]
  },
  {
   "cell_type": "code",
   "execution_count": 100,
   "metadata": {
    "collapsed": false
   },
   "outputs": [],
   "source": [
    "%autoreload 2"
   ]
  },
  {
   "cell_type": "code",
   "execution_count": 12,
   "metadata": {
    "collapsed": false
   },
   "outputs": [
    {
     "name": "stdout",
     "output_type": "stream",
     "text": [
      "Which story would you like to read? You can choose Sherlock, Alice in Wonderland, or Ulysses.Alice in Wonderland\n"
     ]
    }
   ],
   "source": [
    "# First, we need to decide which world the user would like to inhabit\n",
    "story_names = ['Grimms fairy tales','Alice in Wonderland','Ulysses']\n",
    "while True:\n",
    "    story = input(\"Which story would you like to read? You can choose Sherlock, Alice in Wonderland, or Ulysses.\")\n",
    "    if story not in story_names:\n",
    "        print('Please spell the name correctly.')\n",
    "    if story in story_names:\n",
    "        break"
   ]
  },
  {
   "cell_type": "code",
   "execution_count": 103,
   "metadata": {
    "collapsed": false
   },
   "outputs": [],
   "source": [
    "## Open Trump speeches to predict sentences off of\n",
    "with open(\"speeches.txt\") as f:\n",
    "        text_trump = f.read()\n",
    "#Clean trump text\n",
    "text= re.sub(r'[-!@#$%^&*()\\n\\]]+',' ',text_trump)\n",
    "text = text.lower()\n",
    "#Token the Trump words, count the frequency of each token, and create a unigram, bigram, and trigram dictionary\n",
    "blob_text = TextBlob(text)\n",
    "text_tokens = blob_text.tokens\n",
    "text_counter_unigram_trump = Counter(text_tokens)\n",
    "text_counter_bigram_trump = Counter(nltk.bigrams(text_tokens))\n",
    "text_counter_trigram_trump = Counter(nltk.trigrams(text_tokens))\n",
    "#Probability distributions for different text combinations\n",
    "#This takes ~10 minutes to run\n",
    "prob_dist_unigram_trump = prob_distribution(text_counter_unigram)\n",
    "prob_dist_bigram_trump = prob_distribution(text_counter_bigram)\n",
    "prob_dist_trigram_trump = prob_distribution(text_counter_trigram)"
   ]
  },
  {
   "cell_type": "code",
   "execution_count": 46,
   "metadata": {
    "collapsed": false
   },
   "outputs": [],
   "source": [
    "## Open the appropriate story based upon the user input\n",
    "if story =='Alice in Wonderland':\n",
    "    with open(\"alice_in_wonderland_copy.txt\") as f:\n",
    "        text_s = f.read()\n",
    "elif story =='Grimms fairy tales':\n",
    "    with open(\"grimms_fairy_tales.txt\") as f:\n",
    "        text_s = f.read()\n",
    "elif story =='Ulysses':\n",
    "    with open(\"ulysses_copy.txt\") as f:\n",
    "        text_s = f.read()\n",
    "#Clean the text. Remove all punctuation except for periods, question marks, and exclamation points.\n",
    "punctuation ='[ \\ * \\ [ - _ , : ; @ # $ % ^ & * ( ) \\]  \\n \\']'.split(' ')\n",
    "text_t = re.sub(r'[-!@#$%^&*()\\n]',' ',text_s)\n",
    "\n",
    "#Token the words, count the frequency of each token, and create a unigram, bigram, and trigram dictionary\n",
    "# blob_text_story = TextBlob(text_t)\n",
    "# text_tokens_story = blob_text_story.tokens\n",
    "# text_counter_unigram_story = Counter(text_tokens_story)\n",
    "# text_counter_bigram_story = Counter(nltk.bigrams(text_tokens_story))\n",
    "# text_counter_trigram_story = Counter(nltk.trigrams(text_tokens_story))\n",
    "\n",
    "# #Probability distributions for different text combinations\n",
    "# #This takes ~10 minutes to run\n",
    "# prob_dist_unigram_story = prob_distribution(text_counter_unigram_story)\n",
    "# prob_dist_bigram_story = prob_distribution(text_counter_bigram_story)\n",
    "# prob_dist_trigram_story = prob_distribution(text_counter_trigram_story)"
   ]
  },
  {
   "cell_type": "code",
   "execution_count": 45,
   "metadata": {
    "collapsed": false
   },
   "outputs": [
    {
     "data": {
      "text/plain": [
       "\"alice's adventures in wonderland  lewis carroll  the millennium fulcrum edition 3.0     chapter i. down the rabbit hole  alice was beginning to get very tired of sitting by her sister on the bank, and of having nothing to do: once or twice she had peeped into the book her sister was reading, but it had no pictures or conversations in it, 'and what is the use of a book,' thought alice 'without pictures or conversations?'  so she was considering in her own mind  as well as she could, for the hot day made her feel very sleepy and stupid , whether the pleasure of making a daisy chain would be worth the trouble of getting up and picking the daisies, when suddenly a white rabbit with pink eyes ran close by her.  there was nothing so very remarkable in that; nor did alice think it so very much out of the way to hear the rabbit say to itself, 'oh dear  oh dear  i shall be late '  when she though\""
      ]
     },
     "execution_count": 45,
     "metadata": {},
     "output_type": "execute_result"
    }
   ],
   "source": [
    "text_t[:900]"
   ]
  },
  {
   "cell_type": "code",
   "execution_count": 47,
   "metadata": {
    "collapsed": false
   },
   "outputs": [],
   "source": [
    "#NER for the story characters and places - Entites {'GPE', 'CARDINAL', 'PRODUCT',\n",
    "#'DATE', 'ORG', 'WORK_OF_ART', 'NORP', 'QUANTITY', 'TIME', 'PERSON', 'ORDINAL', 'MONEY', 'LOC', 'LANGUAGE', 'FAC'}\n",
    "# takes ~ 2 minutes\n",
    "nlp = English()\n",
    "ner_story_tokens = nlp(text_t)\n",
    "count=0\n",
    "possible_entities = defaultdict(list)\n",
    "for token in ner_story_tokens:\n",
    "    if token.ent_type_ != \"\":\n",
    "        if str(token) in possible_entities.values():\n",
    "            pass\n",
    "        else:\n",
    "            if len(token)<3: ## check that it is an actual entity \n",
    "                pass\n",
    "            else:\n",
    "                possible_entities[token.ent_type_].append(str(token).lower())"
   ]
  },
  {
   "cell_type": "code",
   "execution_count": 48,
   "metadata": {
    "collapsed": false
   },
   "outputs": [],
   "source": [
    "## find the most common entities used in the story\n",
    "people_counter = Counter(possible_entities['PERSON'])\n",
    "place_counter = Counter(possible_entities['GPE'])\n",
    "org_counter = Counter(possible_entities['ORG'])\n",
    "language_counter = Counter(possible_entities['LANGUAGE'])\n",
    "product_counter = Counter(possible_entities['PRODUCT'])"
   ]
  },
  {
   "cell_type": "markdown",
   "metadata": {},
   "source": [
    "## We have a text generator for Trump and NER recognition for the story; now, move onto the actual adventure!"
   ]
  },
  {
   "cell_type": "code",
   "execution_count": 50,
   "metadata": {
    "collapsed": false
   },
   "outputs": [],
   "source": [
    "### need to keep track of the different entities used and in what order, # put in items here\n",
    "#story - variable for story name\n",
    "#Counters below\n",
    "#people_counter = Counter(possible_entities['PERSON'])\n",
    "# place_counter = Counter(possible_entities['GPE'])\n",
    "# org_counter = Counter(possible_entities['ORG'])\n",
    "# language_counter = Counter(possible_entities['LANGUAGE'])\n",
    "# product_counter = Counter(possible_entities['PRODUCT'])\n",
    "#items_chosen , choices of items made\n",
    "protagonist=people_counter.most_common(1)[0][0].lower()\n",
    "antagonist = people_counter.most_common(2)[1][0].lower()\n",
    "place_one= place_counter.most_common(1)[0][0].lower()\n",
    "place_two = place_counter.most_common(2)[1][0].lower()\n",
    "language_one = language_counter.most_common(1)[0][0].lower()\n",
    "\n",
    "\n",
    "#utility_item_chocen, funny_item_chosen, transportation_item_chosen\n",
    "utility_items='pocketknife flashlight'.split(' ')\n",
    "funny_items='half-eaten-sandwich broken-lightbulb'.split(' ')\n",
    "transportation_items = 'skateboardbBike rollerblades'.split(' ')\n"
   ]
  },
  {
   "cell_type": "code",
   "execution_count": null,
   "metadata": {
    "collapsed": true
   },
   "outputs": [],
   "source": [
    "print('Welcome to a choose yur own adventure story!\\n Below you will pick a story, and you will explore that world with a fellow campanion./n\\\n",
    "Throughout the story, you will have different options for next steps to take.\\n \\\n",
    "Your goal is to choose the options that lead you safely on your adventure. \\n \\\n",
    "However, be careful! Danger awaits around every turn.')"
   ]
  },
  {
   "cell_type": "code",
   "execution_count": 104,
   "metadata": {
    "collapsed": false
   },
   "outputs": [
    {
     "name": "stderr",
     "output_type": "stream",
     "text": [
      "/Users/jonathanhilgart/DSCI6004-student/Final_Project/sentence_generator.py:55: VisibleDeprecationWarning: converting an array with ndim > 0 to an index will result in an error in the future\n",
      "  generated_text.append(starting_chars[start_char_index])\n"
     ]
    },
    {
     "data": {
      "text/plain": [
       "'Rush hour when the great traders , one of the entire middle east . Our country is a terrific person . One of the blue and i shouldn’t say that . '"
      ]
     },
     "execution_count": 104,
     "metadata": {},
     "output_type": "execute_result"
    }
   ],
   "source": [
    "\n",
    "\n",
    "sentence_generate(prob_dist_unigram_trump,prob_dist_bigram_trump,prob_dist_trigram_trump,\\\n",
    "                  3,prob_dist_trigram_trump,prob_dist_bigram_trump,prob_dist_unigram_trump,\\\n",
    "                  text_counter_bigram_trump,text_counter_trigram_trump)"
   ]
  },
  {
   "cell_type": "code",
   "execution_count": null,
   "metadata": {
    "collapsed": false
   },
   "outputs": [],
   "source": [
    "###### The first section of the story   \n",
    "print('You awake and look around \"Hey, I think I recognize this place\", you think to yourself. You realize \\\n",
    "that you are sitting down on something, you can not quite tell what, but you feel strangely awake.\\\n",
    "You turn to your right and see {} from {}. On your left, you see \\\n",
    "Donald Trump. You wonder where you are and how this all happened, but before you can think too much \\\n",
    "Trump turns to you and says '.format(protagonist,story),\\\n",
    "      sentence_generate(prob_dist_unigram_trump,prob_dist_bigram_trump,prob_dist_trigram_trump,3,\\\n",
    "                         prob_dist_trigram_trump,prob_dist_bigram_trump,prob_dist_unigram_trump),\\\n",
    "        'Well that was weird you think to yourself. Shaking it off, you turn to {} who says, \\\n",
    "        \"Welcome to {}! We are excited to have you and your friend explore our \\\n",
    "        world. Before we start what do you want to bring with you on your \\\n",
    "        journey?'.format(protagonist,story),\\\n",
    "        \"'Please pick one from each category,' instructes {}.\".format(protagonist))\n",
    "print()## keep track of the options chosen\n",
    "while True:\n",
    "    print()\n",
    "    print(utility_items)\n",
    "    utility_item_chosen = input(\"Which item would you like?\")\n",
    "    if utility_item_chosen in utility_items:\n",
    "        break\n",
    "    else:\n",
    "        print('Please spell the word correctly without the quotes')\n",
    "while True:\n",
    "    print()\n",
    "    print(funny_items)\n",
    "    funny_item_chosen = input(\"Which of these would you like?\")\n",
    "    if funny_item_chosen in funny_items:\n",
    "        break\n",
    "    else:\n",
    "        print('Please spell the word correctly without the quotes')\n",
    "while True:\n",
    "    print()\n",
    "    print(transportation_items)\n",
    "    trans_item_chosen = input('Which of these would you like?')\n",
    "    if trans_item_chosen in transportation_items:\n",
    "        break\n",
    "    else:\n",
    "        print('Please spell the word correctly without the quotes')\n",
    "items_chosen =[utility_item_chosen,funny_item_chosen,trans_item_chosen]\n",
    "while True:\n",
    "    choice1 = input('Please write a sentence for what you would like to do next incorporating an item you have choosen.\\\n",
    "    If you want to see the items you have, type items.')  \n",
    "    if choice1 =='items':\n",
    "        print(utility_item_chosen,trans_item_chosen,funny_item_chosen)\n",
    "    else:\n",
    "        return choice1\n"
   ]
  },
  {
   "cell_type": "markdown",
   "metadata": {},
   "source": [
    "### After each block of story, the sentence entered by the user will be picked by an IR system  for the next part of the story."
   ]
  },
  {
   "cell_type": "code",
   "execution_count": null,
   "metadata": {
    "collapsed": false
   },
   "outputs": [],
   "source": [
    "antagonist = []\n",
    "antagonist = people_counter.most_common(3)[0][0]\n",
    "antagonist"
   ]
  },
  {
   "cell_type": "code",
   "execution_count": null,
   "metadata": {
    "collapsed": false
   },
   "outputs": [],
   "source": [
    "people_counter.most_common(2)[1][0]"
   ]
  },
  {
   "cell_type": "code",
   "execution_count": null,
   "metadata": {
    "collapsed": false
   },
   "outputs": [],
   "source": [
    "possible_entities['PERSON']"
   ]
  },
  {
   "cell_type": "code",
   "execution_count": null,
   "metadata": {
    "collapsed": true
   },
   "outputs": [],
   "source": []
  },
  {
   "cell_type": "code",
   "execution_count": null,
   "metadata": {
    "collapsed": true
   },
   "outputs": [],
   "source": []
  },
  {
   "cell_type": "code",
   "execution_count": null,
   "metadata": {
    "collapsed": true
   },
   "outputs": [],
   "source": []
  },
  {
   "cell_type": "code",
   "execution_count": null,
   "metadata": {
    "collapsed": true
   },
   "outputs": [],
   "source": []
  },
  {
   "cell_type": "markdown",
   "metadata": {},
   "source": [
    "# TESTING"
   ]
  },
  {
   "cell_type": "code",
   "execution_count": null,
   "metadata": {
    "collapsed": false
   },
   "outputs": [],
   "source": [
    "#prob_dist_unigram_trump = prob_distribution(text_counter_unigram)\n",
    "prob_dist_bigram_trump = prob_distribution(text_counter_bigram)\n",
    "prob_dist_trigram_trump"
   ]
  },
  {
   "cell_type": "code",
   "execution_count": 14,
   "metadata": {
    "collapsed": false
   },
   "outputs": [
    {
     "ename": "NameError",
     "evalue": "name 'sentence_generate' is not defined",
     "output_type": "error",
     "traceback": [
      "\u001b[0;31m---------------------------------------------------------------------------\u001b[0m",
      "\u001b[0;31mNameError\u001b[0m                                 Traceback (most recent call last)",
      "\u001b[0;32m<ipython-input-14-f9c65914fd00>\u001b[0m in \u001b[0;36m<module>\u001b[0;34m()\u001b[0m\n\u001b[0;32m----> 1\u001b[0;31m \u001b[0msentence_generate\u001b[0m\u001b[0;34m(\u001b[0m\u001b[0mprob_dist_unigram_trump\u001b[0m\u001b[0;34m,\u001b[0m\u001b[0mprob_dist_bigram_trump\u001b[0m\u001b[0;34m,\u001b[0m\u001b[0mprob_dist_trigram_trump\u001b[0m\u001b[0;34m,\u001b[0m\u001b[0;36m3\u001b[0m\u001b[0;34m,\u001b[0m                         \u001b[0mprob_dist_trigram_trump\u001b[0m\u001b[0;34m,\u001b[0m\u001b[0mprob_dist_bigram_trump\u001b[0m\u001b[0;34m,\u001b[0m\u001b[0mprob_dist_unigram_trump\u001b[0m\u001b[0;34m)\u001b[0m\u001b[0;34m\u001b[0m\u001b[0m\n\u001b[0m",
      "\u001b[0;31mNameError\u001b[0m: name 'sentence_generate' is not defined"
     ]
    }
   ],
   "source": [
    "sentence_generate(prob_dist_unigram_trump,prob_dist_bigram_trump,prob_dist_trigram_trump,3,\\\n",
    "                         prob_dist_trigram_trump,prob_dist_bigram_trump,prob_dist_unigram_trump)"
   ]
  },
  {
   "cell_type": "code",
   "execution_count": null,
   "metadata": {
    "collapsed": true
   },
   "outputs": [],
   "source": [
    "l = [1,2,3,4,3,2,334234,2,2,3,3,4,4,3,2,2,2,2]"
   ]
  },
  {
   "cell_type": "code",
   "execution_count": 30,
   "metadata": {
    "collapsed": false
   },
   "outputs": [
    {
     "data": {
      "text/plain": [
       "\"it.''that\""
      ]
     },
     "execution_count": 30,
     "metadata": {},
     "output_type": "execute_result"
    }
   ],
   "source": [
    "antagonist"
   ]
  },
  {
   "cell_type": "code",
   "execution_count": 106,
   "metadata": {
    "collapsed": false
   },
   "outputs": [
    {
     "name": "stderr",
     "output_type": "stream",
     "text": [
      "/Users/jonathanhilgart/DSCI6004-student/Final_Project/sentence_generator.py:55: VisibleDeprecationWarning: converting an array with ndim > 0 to an index will result in an error in the future\n",
      "  generated_text.append(starting_chars[start_char_index])\n"
     ]
    },
    {
     "data": {
      "text/plain": [
       "['You have the feeling that something bad was going to happen so you pull out your pocketknife. alice looks at you and asks,\"So what do you\\t\\tthink you are going to do with that? That is not going to save you. You notice cheshire in the distance and you yell to trump \"Run for it!\"',\n",
       " 'All of a sudden, you remember that you have not eaten lunch. \"Silly me!\" you think to yourself as your pull out your half-eaten-sandwich.\\t\\tYou chew happily for a while before deciding it was time to more on. \"Time to go you mention to Trump\". As you walk you suddenly come across gryphon \\t\\twho asks \"What are ye doing here?\" ',\n",
       " ' After talking with alice you asked \"What do we do around here?\". alice replies, \"Currently, I am avoiding gryphon because they are looking\\t\\tto round up everyone who speaks gryphon!\" \"Oh no!\" You think to yourself \"They are going to capture Trump!\"Trump turns and says Come second chance and the other day on television , there will be by both parties — democrats , i promise . But they don’t know . Obamacare is a fact , they just bought it very , very strongly , you have to say , or to the back of the deal was a terrible , horrible , corrupt pacs – they’re corrupt – they don’t even know what’s going on in chicago .  .\\t\\tWould should you do next?']"
      ]
     },
     "execution_count": 106,
     "metadata": {},
     "output_type": "execute_result"
    }
   ],
   "source": [
    "story_one = place_of_story(1,protagonist,antagonist,place_one,place_two, sentence_generate(prob_dist_unigram_trump,prob_dist_bigram_trump,prob_dist_trigram_trump,3,\\\n",
    "                         prob_dist_trigram_trump,prob_dist_bigram_trump,prob_dist_unigram_trump,text_counter_bigram_trump,text_counter_trigram_trump)) #protagonist\n",
    "story_one"
   ]
  },
  {
   "cell_type": "code",
   "execution_count": 112,
   "metadata": {
    "collapsed": false
   },
   "outputs": [],
   "source": [
    "query = ['Dam Trump!']"
   ]
  },
  {
   "cell_type": "code",
   "execution_count": 108,
   "metadata": {
    "collapsed": true
   },
   "outputs": [],
   "source": [
    "tfidf = TfidfVectorizer()"
   ]
  },
  {
   "cell_type": "code",
   "execution_count": 110,
   "metadata": {
    "collapsed": false
   },
   "outputs": [],
   "source": [
    "tf_idf_story= tfidf.fit_transform(story_one)"
   ]
  },
  {
   "cell_type": "code",
   "execution_count": 111,
   "metadata": {
    "collapsed": false
   },
   "outputs": [
    {
     "data": {
      "text/plain": [
       "<3x126 sparse matrix of type '<class 'numpy.float64'>'\n",
       "\twith 166 stored elements in Compressed Sparse Row format>"
      ]
     },
     "execution_count": 111,
     "metadata": {},
     "output_type": "execute_result"
    }
   ],
   "source": [
    "tf_idf_story"
   ]
  },
  {
   "cell_type": "code",
   "execution_count": null,
   "metadata": {
    "collapsed": true
   },
   "outputs": [],
   "source": []
  },
  {
   "cell_type": "code",
   "execution_count": 113,
   "metadata": {
    "collapsed": false
   },
   "outputs": [
    {
     "data": {
      "text/plain": [
       "<1x126 sparse matrix of type '<class 'numpy.float64'>'\n",
       "\twith 1 stored elements in Compressed Sparse Row format>"
      ]
     },
     "execution_count": 113,
     "metadata": {},
     "output_type": "execute_result"
    }
   ],
   "source": [
    "query_tfidf = tfidf.transform(query)\n",
    "query_tfidf"
   ]
  },
  {
   "cell_type": "code",
   "execution_count": 114,
   "metadata": {
    "collapsed": false
   },
   "outputs": [
    {
     "data": {
      "text/plain": [
       "array([ 0.07034936,  0.07164993,  0.09629021])"
      ]
     },
     "execution_count": 114,
     "metadata": {},
     "output_type": "execute_result"
    }
   ],
   "source": [
    "cosine_sim = linear_kernel(tf_idf_story,query_tfidf).flatten()\n",
    "cosine_sim"
   ]
  },
  {
   "cell_type": "code",
   "execution_count": 115,
   "metadata": {
    "collapsed": false
   },
   "outputs": [
    {
     "data": {
      "text/plain": [
       "2"
      ]
     },
     "execution_count": 115,
     "metadata": {},
     "output_type": "execute_result"
    }
   ],
   "source": [
    "cosine_sim.argsort()[::-1][0]"
   ]
  },
  {
   "cell_type": "code",
   "execution_count": 116,
   "metadata": {
    "collapsed": false
   },
   "outputs": [
    {
     "data": {
      "text/plain": [
       "' After talking with alice you asked \"What do we do around here?\". alice replies, \"Currently, I am avoiding gryphon because they are looking\\t\\tto round up everyone who speaks gryphon!\" \"Oh no!\" You think to yourself \"They are going to capture Trump!\"Trump turns and says Come second chance and the other day on television , there will be by both parties — democrats , i promise . But they don’t know . Obamacare is a fact , they just bought it very , very strongly , you have to say , or to the back of the deal was a terrible , horrible , corrupt pacs – they’re corrupt – they don’t even know what’s going on in chicago .  .\\t\\tWould should you do next?'"
      ]
     },
     "execution_count": 116,
     "metadata": {},
     "output_type": "execute_result"
    }
   ],
   "source": [
    "story_one[cosine_sim.argsort()[::-1][0]]"
   ]
  },
  {
   "cell_type": "code",
   "execution_count": null,
   "metadata": {
    "collapsed": true
   },
   "outputs": [],
   "source": []
  }
 ],
 "metadata": {
  "anaconda-cloud": {},
  "kernelspec": {
   "display_name": "Python [conda env:nlp]",
   "language": "python",
   "name": "conda-env-nlp-py"
  },
  "language_info": {
   "codemirror_mode": {
    "name": "ipython",
    "version": 3
   },
   "file_extension": ".py",
   "mimetype": "text/x-python",
   "name": "python",
   "nbconvert_exporter": "python",
   "pygments_lexer": "ipython3",
   "version": "3.5.2"
  }
 },
 "nbformat": 4,
 "nbformat_minor": 0
}
