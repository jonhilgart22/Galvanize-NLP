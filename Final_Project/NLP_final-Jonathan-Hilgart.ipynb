{
 "cells": [
  {
   "cell_type": "markdown",
   "metadata": {
    "collapsed": true
   },
   "source": [
    "# Choose Your Own Adventure Story\n",
    "\n",
    "- You are about to embark on a choosen your own adventure story with none other than Donald Trump! You have the option to inhabit the world of Alice in Wonderland, The Grimms Fairy Tales, or Ulysses. As you move throughout the story, think about your next decision carefully...danger awaits around every turn!\n",
    "\n",
    "![alt text](choose_your_own_adventure.png \"Title\")\n",
    "\n",
    "> Stories to choose from\n",
    "- Grimms Fairy Tales\n",
    "- Alice in Wonderland\n",
    "- Ulysses\n",
    "\n",
    "#### Resources\n",
    "> Trump speeches https://github.com/ryanmcdermott/trump-speeches\n",
    "\n",
    "> TFIDF http://stackoverflow.com/questions/12118720/python-tf-idf-cosine-to-find-document-similarity\n",
    "\n",
    "> Mad Libs inspiration: https://www.pinterest.com/explore/mad-libs/\n",
    "\n",
    "> word2vec https://rare-technologies.com/word2vec-tutorial/\n",
    "\n",
    "\n",
    "#### How to play this game\n",
    "\n",
    "- This choose your own adventure story works as follows. I have defined four sets of 'story chunks'. You can think of these story chunks as scaffolding for a mad libs style game (i.e. there are variables to input nouns, verbs, proper nouns, named entities ...etc. First, before the user starts the game, I generated unigram, bigram, and trigram word probabilities off of a Donald Trump speech corpus. \n",
    "- Next, the user picks a story (a world in inhabit). After this, I perform Part Of Speech (POS) and Named Entity Recognition (NER) to extract the relevant nouns, verbs, proper nouns ..etc from the story. \n",
    "- After this, the user selects three items to bring with them through out story.\n",
    "- As the user proceeds, he/she will have to enter a sentence incorporating one of the items brought with them in order to decide what part of the story to visit next.\n",
    "- This user sentence is used as a query for a TF-IDF information retreival task. In addition, word2vec is performed on the query and story chunks to determine the most similar word to the ones entered by the user.\n",
    "- Finally, the user continues to proceed until the reach the end or die.\n",
    "\n",
    "#### Architecture of system\n",
    "![alt text](architecture.png \"Title\")\n",
    "\n",
    "#### Notes\n",
    "- The word2vec model is not very stable due to the small size of the training corpus (the various story chunks). We could train on a larger corpora, but I am more interested in the similarity between the user query and current words in the story chunk.\n",
    "- There are four sections to the game. Everyone will reach the thirs section, and then it depends on your choice of what to do next if you make it to the fourth section.\n"
   ]
  },
  {
   "cell_type": "code",
   "execution_count": 374,
   "metadata": {
    "collapsed": false
   },
   "outputs": [
    {
     "name": "stdout",
     "output_type": "stream",
     "text": [
      "Populating the interactive namespace from numpy and matplotlib\n"
     ]
    },
    {
     "name": "stderr",
     "output_type": "stream",
     "text": [
      "/Users/jonathanhilgart/anaconda/envs/nlp/lib/python3.5/site-packages/IPython/core/magics/pylab.py:161: UserWarning: pylab import has clobbered these variables: ['f', 'text', 'choice']\n",
      "`%matplotlib` prevents importing * from pylab and numpy\n",
      "  \"\\n`%matplotlib` prevents importing * from pylab and numpy\"\n"
     ]
    }
   ],
   "source": [
    "from textblob import TextBlob\n",
    "from collections import Counter\n",
    "from collections import defaultdict\n",
    "import nltk\n",
    "from functools import reduce\n",
    "import operator\n",
    "import numpy as np\n",
    "import re\n",
    "from spacy.en import English\n",
    "## The sentence generator module contains a trigram model for sentence generation\n",
    "from sentence_generator import SentenceGenerator\n",
    "from sklearn.metrics.pairwise import linear_kernel\n",
    "from sklearn.feature_extraction.text import TfidfVectorizer\n",
    "from story_chunks import place_of_story\n",
    "from sklearn.metrics import accuracy_score\n",
    "from Evaluation_Metrics_word2vec import accuracy_score_test,word2vec\n",
    "import seaborn as sns\n",
    "import gensim\n",
    "from nltk.stem.wordnet import WordNetLemmatizer\n",
    "%pylab inline"
   ]
  },
  {
   "cell_type": "code",
   "execution_count": 45,
   "metadata": {
    "collapsed": false
   },
   "outputs": [
    {
     "name": "stdout",
     "output_type": "stream",
     "text": [
      "Which story would you like to read? You can choose Grimms fairy tales, Alice in Wonderland, or Ulysses.Alice in Wonderland\n"
     ]
    }
   ],
   "source": [
    "# First, we need to decide which world the user would like to inhabit\n",
    "story_names = ['Grimms fairy tales','Alice in Wonderland','Ulysses']\n",
    "while True:\n",
    "    story = input(\"Which story would you like to read? You can choose Grimms fairy tales, Alice in Wonderland, or Ulysses.\")\n",
    "    if story not in story_names:\n",
    "        print('Please spell the name correctly.')\n",
    "    if story in story_names:\n",
    "        break"
   ]
  },
  {
   "cell_type": "code",
   "execution_count": 403,
   "metadata": {
    "collapsed": false
   },
   "outputs": [],
   "source": [
    "## Open Trump speeches to create probabilistic sentence generation\n",
    "with open(\"speeches.txt\") as f:\n",
    "        text_trump = f.read()\n",
    "#Clean trump text\n",
    "text= re.sub(r'[-!@#$%^&*()\\n_]+',' ',text_trump)\n",
    "text = text.lower() ## lower the letters to increase the number of matches\n",
    "#Token the Trump words, count the frequency of each token, and create a unigram, bigram, and trigram dictionary\n",
    "## Inside SentenceGenerator we are tokenizing the text, creating counters of the token,\n",
    "#and then craeting unigram, bigram, and trigram probability distribution over the corpus\n",
    "trump_story = SentenceGenerator(text)"
   ]
  },
  {
   "cell_type": "markdown",
   "metadata": {},
   "source": [
    "- Evaluate what lemmatizing would do to the Trump text"
   ]
  },
  {
   "cell_type": "code",
   "execution_count": 388,
   "metadata": {
    "collapsed": false
   },
   "outputs": [
    {
     "data": {
      "text/plain": [
       "['\\ufeffspeech',\n",
       " '1',\n",
       " '...',\n",
       " 'thank',\n",
       " 'you',\n",
       " 'so',\n",
       " 'much',\n",
       " '.',\n",
       " 'that',\n",
       " \"'s\",\n",
       " 'so',\n",
       " 'nice',\n",
       " '.',\n",
       " 'is',\n",
       " \"n't\",\n",
       " 'he',\n",
       " 'a',\n",
       " 'great',\n",
       " 'guy',\n",
       " '.',\n",
       " 'he',\n",
       " 'does',\n",
       " \"n't\",\n",
       " 'get',\n",
       " 'a',\n",
       " 'fair',\n",
       " 'press',\n",
       " ';',\n",
       " 'he',\n",
       " 'does',\n",
       " \"n't\",\n",
       " 'get',\n",
       " 'it',\n",
       " '.',\n",
       " 'it',\n",
       " \"'s\",\n",
       " 'just',\n",
       " 'not',\n",
       " 'fair',\n",
       " '.',\n",
       " 'and',\n",
       " 'i',\n",
       " 'have',\n",
       " 'to',\n",
       " 'tell',\n",
       " 'you',\n",
       " 'i',\n",
       " \"'m\",\n",
       " 'here',\n",
       " ',',\n",
       " 'and',\n",
       " 'very',\n",
       " 'strongly',\n",
       " 'here',\n",
       " ',']"
      ]
     },
     "execution_count": 388,
     "metadata": {},
     "output_type": "execute_result"
    }
   ],
   "source": [
    "nltk.tokenize.word_tokenize(text[:200])"
   ]
  },
  {
   "cell_type": "code",
   "execution_count": 402,
   "metadata": {
    "collapsed": false
   },
   "outputs": [
    {
     "data": {
      "text/plain": [
       "['\\ufeffspeech',\n",
       " '1',\n",
       " '...',\n",
       " 'thank',\n",
       " 'you',\n",
       " 'so',\n",
       " 'much',\n",
       " '.',\n",
       " 'that',\n",
       " \"'s\",\n",
       " 'so',\n",
       " 'nice',\n",
       " '.',\n",
       " 'is',\n",
       " \"n't\",\n",
       " 'he',\n",
       " 'a',\n",
       " 'great',\n",
       " 'guy',\n",
       " '.',\n",
       " 'he',\n",
       " 'doe',\n",
       " \"n't\",\n",
       " 'get',\n",
       " 'a',\n",
       " 'fair',\n",
       " 'press',\n",
       " ';',\n",
       " 'he',\n",
       " 'doe',\n",
       " \"n't\",\n",
       " 'get',\n",
       " 'it',\n",
       " '.',\n",
       " 'it',\n",
       " \"'s\",\n",
       " 'just',\n",
       " 'not',\n",
       " 'fair',\n",
       " '.',\n",
       " 'and',\n",
       " 'i',\n",
       " 'have',\n",
       " 'to',\n",
       " 'tell',\n",
       " 'you',\n",
       " 'i',\n",
       " \"'m\",\n",
       " 'here',\n",
       " ',',\n",
       " 'and',\n",
       " 'very',\n",
       " 'strongly',\n",
       " 'here',\n",
       " ',']"
      ]
     },
     "execution_count": 402,
     "metadata": {},
     "output_type": "execute_result"
    }
   ],
   "source": [
    "lmtzr = WordNetLemmatizer()\n",
    "[lmtzr.lemmatize(i) for i in nltk.tokenize.word_tokenize(text[:200])]"
   ]
  },
  {
   "cell_type": "markdown",
   "metadata": {},
   "source": [
    "- Lemmatizing appears to make the Trump text more un-readable (does is transformed to doe). Also stemming is not appropriate here  since the goal is to generate natural language; it is best to keep the words unadultered as possible. The only exception is making everything lowercase. This helps improve the match rate for the unigram/bigram/ and trigram models.\n",
    "- In addition, I used a simple backoff model for trigram/bigrams that where if the word was not present, then look at one level lower (i.e. if at Trigram look at Bigram, Bigram look at unigram), and then average the probabiliy of the word combination one level down over the number of words.\n",
    "    - For example, if I have the trigram 'this is great', but I do not have 'this is great' in my corpus. Then, I would look at the bigram of 'this is'; if that was in my corpus, I would divide the probability here by two and use that as the backoff probability for 'this is great'."
   ]
  },
  {
   "cell_type": "code",
   "execution_count": null,
   "metadata": {
    "collapsed": true
   },
   "outputs": [],
   "source": []
  },
  {
   "cell_type": "code",
   "execution_count": 449,
   "metadata": {
    "collapsed": false
   },
   "outputs": [],
   "source": [
    "## Open Alice in Wonderland for NER evaluation\n",
    "with open(\"alice_in_wonderland_copy.txt\") as f:\n",
    "        text_alice = f.read()\n",
    "## Open the appropriate story based upon the user input\n",
    "\n",
    "if story =='Alice in Wonderland':\n",
    "    with open(\"alice_in_wonderland_copy.txt\") as f:\n",
    "        text_s = f.read()\n",
    "elif story =='Grimms fairy tales':\n",
    "    with open(\"grimms_fairy_tales.txt\") as f:\n",
    "        text_s = f.read()\n",
    "elif story =='Ulysses':\n",
    "    with open(\"ulysses_copy.txt\") as f:\n",
    "        text_s = f.read()\n",
    "#Clean the text. Remove all punctuation except for periods, question marks, and exclamation points.\n",
    "\n",
    "text_t = re.sub(r'[-!@#$%^&*()\\n_]+',' ',text_s)\n",
    "text_a = re.sub(r'[-!@#$%^&*()\\n_]+',' ',text_alice)\n",
    "text_a_notprocessed = text_alice\n",
    "\n",
    "lmtzr = WordNetLemmatizer()\n",
    "text_t_lemmatized =''\n",
    "### lemmatize the text. Below, this worked well for Alice in Wonderland.\n",
    "for i in nltk.tokenize.word_tokenize(text_t):\n",
    "    text_t_lemmatized+=lmtzr.lemmatize(i)+' '\n",
    "\n",
    "blob_text_story = TextBlob(text_t_lemmatized)\n",
    "blob_text_alice = TextBlob(text_a)\n",
    "blob_text_alice_unprocessed = TextBlob(text_a_notprocessed)"
   ]
  },
  {
   "cell_type": "markdown",
   "metadata": {},
   "source": [
    "- Lemmatization works better for NER. Look at the differences for Alice in Wonderland below."
   ]
  },
  {
   "cell_type": "code",
   "execution_count": 442,
   "metadata": {
    "collapsed": false
   },
   "outputs": [
    {
     "data": {
      "text/plain": [
       "\"ALICE'S ADVENTURES IN WONDERLAND Lewis Carroll THE MILLENNIUM FULCRUM EDITION 3.0 CHAPTER I. Down the Rabbit Hole Alice was beginning to get very tired of sitting by her sister on the bank, and of hav\""
      ]
     },
     "execution_count": 442,
     "metadata": {},
     "output_type": "execute_result"
    }
   ],
   "source": [
    "text_a[:200]"
   ]
  },
  {
   "cell_type": "code",
   "execution_count": 444,
   "metadata": {
    "collapsed": false
   },
   "outputs": [
    {
     "data": {
      "text/plain": [
       "\"ALICE 'S ADVENTURES IN WONDERLAND Lewis Carroll THE MILLENNIUM FULCRUM EDITION 3.0 CHAPTER I . Down the Rabbit Hole Alice wa beginning to get very tired of sitting by her sister on the bank , and of h\""
      ]
     },
     "execution_count": 444,
     "metadata": {},
     "output_type": "execute_result"
    }
   ],
   "source": [
    "# This will change is another story besides Alice in Wonderland is choosen.\n",
    "text_t_lemmatized[:200]"
   ]
  },
  {
   "cell_type": "code",
   "execution_count": 445,
   "metadata": {
    "collapsed": false
   },
   "outputs": [
    {
     "data": {
      "text/plain": [
       "TextBlob(\"ALICE 'S ADVENTURES IN WONDERLAND Lewis Carroll THE MILLENNIUM FULCRUM EDITION 3.0 CHAPTER I . Down the Rabbit Hole Alice wa beginning to get very tired of sitting by her sister on the bank , and of h\")"
      ]
     },
     "execution_count": 445,
     "metadata": {},
     "output_type": "execute_result"
    }
   ],
   "source": [
    "blob_text_story[:200]"
   ]
  },
  {
   "cell_type": "code",
   "execution_count": 440,
   "metadata": {
    "collapsed": false
   },
   "outputs": [],
   "source": [
    "## This in the final POS used\n",
    "#POS for the story ## JJ - adjective ##NN - noun ##NNS - common noun plural ## NNP - proper noun plural #VB - verb\n",
    "pos_entities = defaultdict(list)\n",
    "for word,pos in blob_text_story.tags:\n",
    "    if pos != \"\":\n",
    "        pos_entities[pos].append(str(word).lower())"
   ]
  },
  {
   "cell_type": "code",
   "execution_count": 448,
   "metadata": {
    "collapsed": false
   },
   "outputs": [],
   "source": [
    "## THis is the final NER used. Other evaluations below.\n",
    "#NER for the story characters and places - Entites {'GPE', 'CARDINAL', 'PRODUCT',\n",
    "#'DATE', 'ORG', 'WORK_OF_ART', 'NORP', 'QUANTITY', 'TIME', 'PERSON', 'ORDINAL', 'MONEY', 'LOC', 'LANGUAGE', 'FAC'}\n",
    "# takes ~ 2 minutes\n",
    "nlp = English()\n",
    "ner_story_tokens = nlp(text_t_lemmatized)\n",
    "possible_entities = defaultdict(list)\n",
    "for token in ner_story_tokens:\n",
    "    if token.ent_type_ != \"\":\n",
    "        if str(token) in possible_entities.values():\n",
    "            pass\n",
    "        else:\n",
    "            if len(token)<3: ## check that it is an actual entity \n",
    "                pass\n",
    "            else:\n",
    "                possible_entities[token.ent_type_].append(str(token).lower())"
   ]
  },
  {
   "cell_type": "markdown",
   "metadata": {},
   "source": [
    "## Named Entity Evaluation and Part of Speech Evaluation using Alice in Wonderland text\n",
    "- We will evaluate both processed text and raw text. Precessed is the removal of special characters and some punctuation marks.\n",
    "- Data for this section at the end of this notebook\n"
   ]
  },
  {
   "cell_type": "markdown",
   "metadata": {},
   "source": [
    "#### Processed text first"
   ]
  },
  {
   "cell_type": "code",
   "execution_count": 56,
   "metadata": {
    "collapsed": true
   },
   "outputs": [],
   "source": [
    "## duplicate the loop above for Alice in Wonderland\n",
    "\n",
    "nlp = English()\n",
    "ner_story_tokens_alice = nlp(text_a)\n",
    "possible_entities_alice = defaultdict(list)\n",
    "for token in ner_story_tokens_alice:\n",
    "    if token.ent_type_ != \"\":\n",
    "        if str(token) in possible_entities_alice.values():\n",
    "            pass\n",
    "        else:\n",
    "            if len(token)<3: ## check that it is an actual entity \n",
    "                pass\n",
    "            else:\n",
    "                possible_entities_alice[token.ent_type_].append(str(token).lower())\n",
    "## turn the list into a set  \n",
    "possible_entities_set ={}\n",
    "for k in possible_entities_alice.keys():\n",
    "    possible_entities_set[k]= set(possible_entities_alice[k])"
   ]
  },
  {
   "cell_type": "code",
   "execution_count": 104,
   "metadata": {
    "collapsed": true
   },
   "outputs": [],
   "source": [
    "## duplicate the loop above for Alice in Wonderland\n",
    "\n",
    "#POS for the story ## JJ - adjective ##NN - noun ##NNS - common noun plural ## NNP - proper noun plural #VB - verb\n",
    "pos_entities_alice = defaultdict(list)\n",
    "for word,pos in blob_text_alice.tags:\n",
    "    if pos != \"\":\n",
    "        pos_entities_alice[pos].append(str(word).lower())"
   ]
  },
  {
   "cell_type": "markdown",
   "metadata": {},
   "source": [
    "#### Not processed text second"
   ]
  },
  {
   "cell_type": "code",
   "execution_count": 275,
   "metadata": {
    "collapsed": true
   },
   "outputs": [],
   "source": [
    "## duplicate the loop above for Alice in Wonderland with unprocessed text\n",
    "\n",
    "nlp = English()\n",
    "ner_story_tokens_alice_notprocessed = nlp(text_a_notprocessed)\n",
    "possible_entities_alice_notprocessed = defaultdict(list)\n",
    "for token in ner_story_tokens_alice_notprocessed:\n",
    "    if token.ent_type_ != \"\":\n",
    "        if str(token) in possible_entities_alice_notprocessed.values():\n",
    "            pass\n",
    "        else:\n",
    "            if len(token)<3: ## check that it is an actual entity \n",
    "                pass\n",
    "            else:\n",
    "                possible_entities_alice_notprocessed[token.ent_type_].append(str(token).lower())\n"
   ]
  },
  {
   "cell_type": "code",
   "execution_count": 277,
   "metadata": {
    "collapsed": true
   },
   "outputs": [],
   "source": [
    "## duplicate the loop above for Alice in Wonderland - with unprocessed text\n",
    "\n",
    "#POS for the story ## JJ - adjective ##NN - noun ##NNS - common noun plural ## NNP - proper noun plural #VB - verb\n",
    "pos_entities_alice_unprocessed = defaultdict(list)\n",
    "for word,pos in blob_text_alice_unprocessed.tags:\n",
    "    if pos != \"\":\n",
    "        pos_entities_alice_unprocessed[pos].append(str(word).lower())"
   ]
  },
  {
   "cell_type": "code",
   "execution_count": 311,
   "metadata": {
    "collapsed": false
   },
   "outputs": [],
   "source": [
    "### USE NLTK to compare POS to\n",
    "pos_entities_alice_nltk_unprocessed = defaultdict(list)\n",
    "for w,tag in nltk.pos_tag(nltk.tokenize.word_tokenize(text_a_notprocessed)):\n",
    "    if tag !='':\n",
    "        pos_entities_alice_nltk_unprocessed[tag].append(str(w).lower())\n",
    "        \n"
   ]
  },
  {
   "cell_type": "markdown",
   "metadata": {},
   "source": [
    "#### Lemmatized Alice in Wonderland text\n",
    "- Used on text that had punctuation removed"
   ]
  },
  {
   "cell_type": "code",
   "execution_count": 419,
   "metadata": {
    "collapsed": false
   },
   "outputs": [],
   "source": [
    "## duplicate the loop above for Alice in Wonderland - lemmatized on processed text\n",
    "\n",
    "nlp = English()\n",
    "ner_story_tokens_alice_lemm = nlp(text_a_lemmatized)\n",
    "possible_entities_alice_lemm = defaultdict(list)\n",
    "for token in ner_story_tokens_alice_lemm:\n",
    "    if token.ent_type_ != \"\":\n",
    "        if str(token) in possible_entities_alice_lemm.values():\n",
    "            pass\n",
    "        else:\n",
    "            if len(token)<3: ## check that it is an actual entity \n",
    "                pass\n",
    "            else:\n",
    "                possible_entities_alice_lemm[token.ent_type_].append(str(token).lower())\n"
   ]
  },
  {
   "cell_type": "code",
   "execution_count": 433,
   "metadata": {
    "collapsed": false
   },
   "outputs": [
    {
     "data": {
      "text/plain": [
       "{'english', 'french'}"
      ]
     },
     "execution_count": 433,
     "metadata": {},
     "output_type": "execute_result"
    }
   ],
   "source": [
    "set(possible_entities_alice_lemm['LANGUAGE'])"
   ]
  },
  {
   "cell_type": "code",
   "execution_count": null,
   "metadata": {
    "collapsed": true
   },
   "outputs": [],
   "source": []
  },
  {
   "cell_type": "code",
   "execution_count": null,
   "metadata": {
    "collapsed": true
   },
   "outputs": [],
   "source": []
  },
  {
   "cell_type": "code",
   "execution_count": null,
   "metadata": {
    "collapsed": true
   },
   "outputs": [],
   "source": []
  },
  {
   "cell_type": "markdown",
   "metadata": {},
   "source": [
    "## Below, are the 'correct' items from each  NER section.  I also looked at TextBlob POS accuracy.\n",
    "- Note, I definitely missed some items here. However, this should give a rough indication of performance.\n",
    "- Feel free to skip the the actual story section.\n"
   ]
  },
  {
   "cell_type": "code",
   "execution_count": 372,
   "metadata": {
    "collapsed": false
   },
   "outputs": [],
   "source": []
  },
  {
   "cell_type": "markdown",
   "metadata": {},
   "source": [
    "#### NER Evaluation - Text Processing\n"
   ]
  },
  {
   "cell_type": "code",
   "execution_count": 325,
   "metadata": {
    "collapsed": false
   },
   "outputs": [
    {
     "name": "stdout",
     "output_type": "stream",
     "text": [
      "Accuracy for the person NER task for Alice in Wonderland is 63.38%\n"
     ]
    }
   ],
   "source": [
    "num_correct_person = 0 \n",
    "num_incorrect_person = 0\n",
    "for person in possible_entities_set['PERSON']:\n",
    "    if person in correct_person_entities:\n",
    "        num_correct_person+=1\n",
    "    else:\n",
    "        num_incorrect_person+=1\n",
    "alice_person_accuracy = num_correct_person/(num_correct_person+num_incorrect_person)\n",
    "print('Accuracy for the person NER task for Alice in Wonderland is {:.2%}'.format(num_correct_person/(num_correct_person+num_incorrect_person)))"
   ]
  },
  {
   "cell_type": "code",
   "execution_count": 326,
   "metadata": {
    "collapsed": false
   },
   "outputs": [
    {
     "name": "stdout",
     "output_type": "stream",
     "text": [
      "Accuracy for the org NER task for Alice in Wonderland is 38.18%\n"
     ]
    }
   ],
   "source": [
    "num_correct_org = 0 \n",
    "num_incorrect_org = 0\n",
    "for p in possible_entities_set['ORG']:\n",
    "    if p in correct_org_entities:\n",
    "        num_correct_org+=1\n",
    "    else:\n",
    "        num_incorrect_org+=1\n",
    "alice_org_accuracy = num_correct_org/(num_correct_org+num_incorrect_org)\n",
    "print('Accuracy for the org NER task for Alice in Wonderland is {:.2%}'.format(num_correct_org/(num_correct_org+num_incorrect_org)))"
   ]
  },
  {
   "cell_type": "code",
   "execution_count": 327,
   "metadata": {
    "collapsed": false
   },
   "outputs": [
    {
     "name": "stdout",
     "output_type": "stream",
     "text": [
      "Accuracy for the date NER task for Alice in Wonderland is 56.25%\n"
     ]
    }
   ],
   "source": [
    "num_correct_date = 0 \n",
    "num_incorrect_date = 0\n",
    "for p in possible_entities_set['DATE']:\n",
    "    if p in correct_date_entities:\n",
    "        num_correct_date+=1\n",
    "    else:\n",
    "        num_incorrect_date+=1\n",
    "alice_date_accuracy = num_correct_date/(num_correct_date+num_incorrect_date)\n",
    "print('Accuracy for the date NER task for Alice in Wonderland is {:.2%}'.format(alice_date_accuracy))"
   ]
  },
  {
   "cell_type": "code",
   "execution_count": 328,
   "metadata": {
    "collapsed": false
   },
   "outputs": [
    {
     "name": "stdout",
     "output_type": "stream",
     "text": [
      "Accuracy for the language NER task for Alice in Wonderland is 100.00%\n"
     ]
    }
   ],
   "source": [
    "num_correct_lang = 0 \n",
    "num_incorrect_lang = 0\n",
    "for p in possible_entities_set['LANGUAGE']:\n",
    "    if p in correct_lang_entities:\n",
    "        num_correct_lang+=1\n",
    "    else:\n",
    "        num_incorrect_lang+=1\n",
    "alice_lang_accuracy = num_correct_lang/(num_correct_lang+num_incorrect_lang)\n",
    "print('Accuracy for the language NER task for Alice in Wonderland is {:.2%}'.format(alice_lang_accuracy))"
   ]
  },
  {
   "cell_type": "markdown",
   "metadata": {},
   "source": [
    "#### NER on unprocessed text"
   ]
  },
  {
   "cell_type": "code",
   "execution_count": 329,
   "metadata": {
    "collapsed": false
   },
   "outputs": [
    {
     "name": "stdout",
     "output_type": "stream",
     "text": [
      "Accuracy for the person NER task with unprocessed text for Alice in Wonderland is 86.16%\n"
     ]
    }
   ],
   "source": [
    "num_correct_person_notprocessed = 0 \n",
    "num_incorrect_person_notprocessed = 0\n",
    "for person in possible_entities_alice_notprocessed['PERSON']:\n",
    "    if person in correct_person_entities_notprocessed:\n",
    "        num_correct_person_notprocessed+=1\n",
    "    else:\n",
    "        num_incorrect_person_notprocessed+=1\n",
    "alice_person_notprocessed_accuracy = num_correct_person_notprocessed/(num_correct_person_notprocessed+num_incorrect_person_notprocessed)\n",
    "print('Accuracy for the person NER task with unprocessed text for Alice in Wonderland is {:.2%}'.format(alice_person_notprocessed_accuracy))"
   ]
  },
  {
   "cell_type": "code",
   "execution_count": 330,
   "metadata": {
    "collapsed": false
   },
   "outputs": [
    {
     "name": "stdout",
     "output_type": "stream",
     "text": [
      "Accuracy for the org NER task with unprocessed text for Alice in Wonderland is 51.01%\n"
     ]
    }
   ],
   "source": [
    "num_correct_org_notprocessed = 0 \n",
    "num_incorrect_org_notprocessed = 0\n",
    "for p in possible_entities_alice_notprocessed['ORG']:\n",
    "    if p in correct_org_entities_notprocessed:\n",
    "        num_correct_org_notprocessed+=1\n",
    "    else:\n",
    "        num_incorrect_org_notprocessed+=1\n",
    "alice_org_accuracy_notprocessed = num_correct_org_notprocessed/(num_correct_org_notprocessed+num_incorrect_org_notprocessed)\n",
    "print('Accuracy for the org NER task with unprocessed text for Alice in Wonderland is {:.2%}'.format(alice_org_accuracy_notprocessed))"
   ]
  },
  {
   "cell_type": "code",
   "execution_count": 331,
   "metadata": {
    "collapsed": false
   },
   "outputs": [
    {
     "name": "stdout",
     "output_type": "stream",
     "text": [
      "Accuracy for the date NER task with unprocessed text for Alice in Wonderland is 56.25%\n"
     ]
    }
   ],
   "source": [
    "num_correct_date_notprocessed = 0 \n",
    "num_incorrect_date_notprocessed = 0\n",
    "for p in possible_entities_set['DATE']:\n",
    "    if p in correct_date_entities:\n",
    "        num_correct_date_notprocessed+=1\n",
    "    else:\n",
    "        num_incorrect_date_notprocessed+=1\n",
    "alice_date_accuracy_notprocessed = num_correct_date_notprocessed/(num_correct_date_notprocessed+num_incorrect_date_notprocessed)\n",
    "print('Accuracy for the date NER task with unprocessed text for Alice in Wonderland is {:.2%}'.format(alice_date_accuracy_notprocessed))"
   ]
  },
  {
   "cell_type": "code",
   "execution_count": 332,
   "metadata": {
    "collapsed": false
   },
   "outputs": [
    {
     "name": "stdout",
     "output_type": "stream",
     "text": [
      "Accuracy for the language NER task with unprocessed data for Alice in Wonderland is 100.00%\n"
     ]
    }
   ],
   "source": [
    "###languages are the same for processed and unprocessed text\n",
    "\n",
    "alice_lang_accuracy_notprocesed = alice_lang_accuracy\n",
    "print('Accuracy for the language NER task with unprocessed data for Alice in Wonderland is {:.2%}'.format(alice_lang_accuracy_notprocesed))"
   ]
  },
  {
   "cell_type": "markdown",
   "metadata": {},
   "source": [
    "#### NER on lemmatized and pre-processed text"
   ]
  },
  {
   "cell_type": "code",
   "execution_count": 424,
   "metadata": {
    "collapsed": false
   },
   "outputs": [
    {
     "name": "stdout",
     "output_type": "stream",
     "text": [
      "Accuracy for the person NER task with lemmatization for Alice in Wonderland is 91.96%\n"
     ]
    }
   ],
   "source": [
    "num_correct_person_lemm = 0 \n",
    "num_incorrect_person_lemm = 0\n",
    "for person in possible_entities_alice_lemm['PERSON']:\n",
    "    if person in correct_person_lemm:\n",
    "        num_correct_person_lemm+=1\n",
    "    else:\n",
    "        num_incorrect_person_lemm+=1\n",
    "alice_person_accuracy_lemm = num_correct_person_lemm/(num_correct_person_lemm+num_incorrect_person_lemm)\n",
    "print('Accuracy for the person NER task with lemmatization  and processed textfor Alice in Wonderland is {:.2%}'.format(alice_person_accuracy_lemm))"
   ]
  },
  {
   "cell_type": "code",
   "execution_count": 428,
   "metadata": {
    "collapsed": false
   },
   "outputs": [
    {
     "name": "stdout",
     "output_type": "stream",
     "text": [
      "Accuracy for the org NER task with processed text and lemmatization for Alice in Wonderland is 38.46%\n"
     ]
    }
   ],
   "source": [
    "num_correct_org_lemm = 0 \n",
    "num_incorrect_org_lemm= 0\n",
    "for p in possible_entities_alice_lemm['ORG']:\n",
    "    if p in correct_org_lemm:\n",
    "        num_correct_org_lemm+=1\n",
    "    else:\n",
    "        num_incorrect_org_lemm+=1\n",
    "alice_org_accuracy_lemm = num_correct_org_lemm/(num_correct_org_lemm+num_incorrect_org_lemm)\n",
    "print('Accuracy for the org NER task with processed text and lemmatization for Alice in Wonderland is {:.2%}'.format(alice_org_accuracy_lemm))"
   ]
  },
  {
   "cell_type": "code",
   "execution_count": 432,
   "metadata": {
    "collapsed": false
   },
   "outputs": [
    {
     "name": "stdout",
     "output_type": "stream",
     "text": [
      "Accuracy for the date NER task with lemmatization and processed text for Alice in Wonderland is 50.00%\n"
     ]
    }
   ],
   "source": [
    "num_correct_date_lemm = 0 \n",
    "num_incorrect_date_lemm = 0\n",
    "for p in possible_entities_alice_lemm['DATE']:\n",
    "    if p in correct_date_lemm:\n",
    "        num_correct_date_lemm+=1\n",
    "    else:\n",
    "        num_incorrect_date_lemm+=1\n",
    "alice_date_accuracy_lemm = num_correct_date_lemm/(num_correct_date_lemm+num_incorrect_date_lemm)\n",
    "print('Accuracy for the date NER task with lemmatization and processed text for Alice in Wonderland is {:.2%}'.format(alice_date_accuracy_lemm))"
   ]
  },
  {
   "cell_type": "code",
   "execution_count": 434,
   "metadata": {
    "collapsed": false
   },
   "outputs": [
    {
     "name": "stdout",
     "output_type": "stream",
     "text": [
      "Accuracy for the language NER task with processed data and lemmatization for Alice in Wonderland is 100.00%\n"
     ]
    }
   ],
   "source": [
    "###languages are the same for processed and unprocessed text and lemmatized\n",
    "\n",
    "alice_lang_accuracy_lemm = alice_lang_accuracy\n",
    "print('Accuracy for the language NER task with processed data and lemmatization for Alice in Wonderland is {:.2%}'.format(alice_lang_accuracy_lemm))"
   ]
  },
  {
   "cell_type": "code",
   "execution_count": null,
   "metadata": {
    "collapsed": true
   },
   "outputs": [],
   "source": []
  },
  {
   "cell_type": "code",
   "execution_count": null,
   "metadata": {
    "collapsed": true
   },
   "outputs": [],
   "source": []
  },
  {
   "cell_type": "markdown",
   "metadata": {},
   "source": [
    "#### POS evaluation - Text processing\n",
    "- Only looked at TextBlob here"
   ]
  },
  {
   "cell_type": "code",
   "execution_count": 333,
   "metadata": {
    "collapsed": false
   },
   "outputs": [
    {
     "name": "stdout",
     "output_type": "stream",
     "text": [
      "Accuracy for the NN POS task for Alice in Wonderland is 98.12%\n"
     ]
    }
   ],
   "source": [
    "num_correct_nn = 0 \n",
    "num_incorrect_nn = 0\n",
    "for p in pos_entities_alice['NN']:\n",
    "    if p in correct_noun_pos:\n",
    "        num_correct_nn+=1\n",
    "    else:\n",
    "        num_incorrect_nn+=1\n",
    "alice_nn_accuracy = num_correct_nn/(num_correct_nn+num_incorrect_nn)\n",
    "print('Accuracy for the NN POS task for Alice in Wonderland is {:.2%}'.format(alice_nn_accuracy))"
   ]
  },
  {
   "cell_type": "code",
   "execution_count": 334,
   "metadata": {
    "collapsed": false
   },
   "outputs": [
    {
     "name": "stdout",
     "output_type": "stream",
     "text": [
      "Accuracy for the NNP POS task for Alice in Wonderland is 82.26%\n"
     ]
    }
   ],
   "source": [
    "num_correct_nnp = 0 \n",
    "num_incorrect_nnp = 0\n",
    "for p in pos_entities_alice['NNP']:\n",
    "    if p in correct_propernoun_pos:\n",
    "        num_correct_nnp+=1\n",
    "    else:\n",
    "        num_incorrect_nnp+=1\n",
    "alice_nnp_accuracy = num_correct_nnp/(num_correct_nnp+num_incorrect_nnp)\n",
    "print('Accuracy for the NNP POS task for Alice in Wonderland is {:.2%}'.format(alice_nnp_accuracy))"
   ]
  },
  {
   "cell_type": "code",
   "execution_count": 335,
   "metadata": {
    "collapsed": false
   },
   "outputs": [
    {
     "name": "stdout",
     "output_type": "stream",
     "text": [
      "Accuracy for the VB POS task for Alice in Wonderland is 87.78%\n"
     ]
    }
   ],
   "source": [
    "num_correct_vb = 0 \n",
    "num_incorrect_vb = 0\n",
    "for p in pos_entities_alice['VB']:\n",
    "    if p in correct_vb_pos:\n",
    "        num_correct_vb+=1\n",
    "    else:\n",
    "        num_incorrect_vb+=1\n",
    "alice_vb_accuracy = num_correct_vb/(num_correct_vb+num_incorrect_vb)\n",
    "print('Accuracy for the VB POS task for Alice in Wonderland is {:.2%}'.format(alice_vb_accuracy))"
   ]
  },
  {
   "cell_type": "code",
   "execution_count": 336,
   "metadata": {
    "collapsed": false
   },
   "outputs": [
    {
     "name": "stdout",
     "output_type": "stream",
     "text": [
      "Accuracy for the NNS POS task for Alice in Wonderland is 92.46%\n"
     ]
    }
   ],
   "source": [
    "num_correct_nns = 0 \n",
    "num_incorrect_nns = 0\n",
    "for p in pos_entities_alice['NNS']:\n",
    "    if p in correct_nns_pos:\n",
    "        num_correct_nns+=1\n",
    "    else:\n",
    "        num_incorrect_nns+=1\n",
    "alice_nns_accuracy = num_correct_nns/(num_correct_nns+num_incorrect_nns)\n",
    "print('Accuracy for the NNS POS task for Alice in Wonderland is {:.2%}'.format(alice_nns_accuracy))"
   ]
  },
  {
   "cell_type": "code",
   "execution_count": null,
   "metadata": {
    "collapsed": true
   },
   "outputs": [],
   "source": []
  },
  {
   "cell_type": "markdown",
   "metadata": {},
   "source": [
    "#### Results of Accuracy Evaluation - POS / NER\n",
    "- Evaluate the impact of text processing"
   ]
  },
  {
   "cell_type": "code",
   "execution_count": 337,
   "metadata": {
    "collapsed": false
   },
   "outputs": [
    {
     "data": {
      "image/png": "[encoded data removed]",
      "text/plain": [
       "<matplotlib.figure.Figure at 0x1275509b0>"
      ]
     },
     "metadata": {},
     "output_type": "display_data"
    }
   ],
   "source": [
    "plt.title('Spacey NER accuracy - With Text Processing')\n",
    "sns.barplot(x=['Language','Person','Date','Org']\\\n",
    "            ,y=[alice_lang_accuracy,alice_person_accuracy,alice_date_accuracy,alice_org_accuracy])\n",
    "\n",
    "plt.ylabel('Accuracy');"
   ]
  },
  {
   "cell_type": "code",
   "execution_count": 338,
   "metadata": {
    "collapsed": false
   },
   "outputs": [
    {
     "data": {
      "image/png": "[encoded data removed]",
      "text/plain": [
       "<matplotlib.figure.Figure at 0x126d6ab70>"
      ]
     },
     "metadata": {},
     "output_type": "display_data"
    }
   ],
   "source": [
    "plt.title('TextBlob POS Accuracy - With Text Processing')\n",
    "sns.barplot(x=['NN','NNS','VB','NNP']\\\n",
    "            ,y=[alice_nn_accuracy,alice_nns_accuracy,alice_vb_accuracy,alice_nnp_accuracy])\n",
    "plt.ylabel('Accuracy');"
   ]
  },
  {
   "cell_type": "code",
   "execution_count": 341,
   "metadata": {
    "collapsed": false
   },
   "outputs": [
    {
     "data": {
      "image/png": "[encoded data removed]",
      "text/plain": [
       "<matplotlib.figure.Figure at 0x12739fef0>"
      ]
     },
     "metadata": {},
     "output_type": "display_data"
    }
   ],
   "source": [
    "plt.title('Spacey NER accuracy - Without Text Processing')\n",
    "sns.barplot(x=['Language','Person','Date','Org']\\\n",
    "            ,y=[alice_lang_accuracy_notprocesed,alice_person_notprocessed_accuracy,alice_date_accuracy_notprocessed,\\\n",
    "                alice_org_accuracy_notprocessed])\n",
    "plt.ylabel('Accuracy');"
   ]
  },
  {
   "cell_type": "code",
   "execution_count": 436,
   "metadata": {
    "collapsed": false
   },
   "outputs": [
    {
     "data": {
      "image/png": "[encoded data removed]",
      "text/plain": [
       "<matplotlib.figure.Figure at 0x126cc22b0>"
      ]
     },
     "metadata": {},
     "output_type": "display_data"
    }
   ],
   "source": [
    "plt.title('Spacey NER accuracy - Processed Text and Lemmatization')\n",
    "sns.barplot(x=['Language','Person','Date','Org']\\\n",
    "            ,y=[alice_lang_accuracy_lemm,alice_person_accuracy_lemm,alice_date_accuracy_lemm,\\\n",
    "                alice_org_accuracy_lemm])\n",
    "plt.ylabel('Accuracy');"
   ]
  },
  {
   "cell_type": "code",
   "execution_count": null,
   "metadata": {
    "collapsed": true
   },
   "outputs": [],
   "source": []
  },
  {
   "cell_type": "code",
   "execution_count": null,
   "metadata": {
    "collapsed": true
   },
   "outputs": [],
   "source": []
  },
  {
   "cell_type": "markdown",
   "metadata": {},
   "source": [
    "#### As we can see above, our NER and POS recognition is not perfect. Therefore, some of the entities we plug in may not make sense."
   ]
  },
  {
   "cell_type": "code",
   "execution_count": 450,
   "metadata": {
    "collapsed": false
   },
   "outputs": [],
   "source": [
    "## find the most common entities used in the story\n",
    "people_counter = Counter(possible_entities['PERSON'])\n",
    "place_counter = Counter(possible_entities['GPE'])\n",
    "org_counter = Counter(possible_entities['ORG'])\n",
    "language_counter = Counter(possible_entities['LANGUAGE'])\n",
    "product_counter = Counter(possible_entities['PRODUCT'])\n",
    "### find the most common POS for different words\n",
    "single_noun_com_counter= Counter(pos_entities['NN'])\n",
    "plural_noun_com_counter = Counter(pos_entities['NNS'])\n",
    "verb_counter= Counter(pos_entities['VB'])"
   ]
  },
  {
   "cell_type": "markdown",
   "metadata": {},
   "source": [
    "## We have a text generator for Trump and named entity recognition / part of speech tagging completed for the story; now, move onto the actual adventure!\n",
    "- Count the most common occurance of nouns, verbs, named entities to represent the major variables that will be plugged into our mad libs scaffolding."
   ]
  },
  {
   "cell_type": "code",
   "execution_count": 451,
   "metadata": {
    "collapsed": false
   },
   "outputs": [],
   "source": [
    "### need to keep track of the different entities used and in what order\n",
    "protagonist=people_counter.most_common(1)[0][0].lower()\n",
    "antagonist = people_counter.most_common(2)[1][0].lower()\n",
    "place_one= place_counter.most_common(1)[0][0].lower()\n",
    "place_two = place_counter.most_common(2)[1][0].lower()\n",
    "language_one = language_counter.most_common(1)[0][0].lower()\n",
    "single_noun_one =single_noun_com_counter.most_common(1)[0][0].lower()\n",
    "single_noun_two = single_noun_com_counter.most_common(2)[1][0].lower()\n",
    "plural_noun_one = plural_noun_com_counter.most_common(1)[0][0].lower()\n",
    "plural_noun_two = plural_noun_com_counter.most_common(2)[1][0].lower()\n",
    "verb_one = verb_counter.most_common(1)[0][0].lower()\n",
    "verb_two = verb_counter.most_common(2)[1][0].lower()\n",
    "verb_three = verb_counter.most_common(3)[2][0].lower()\n",
    "#utility_item_chosen, funny_item_chosen, transportation_item_chosen\n",
    "utility_items='pocketknife flashlight'.split(' ')\n",
    "funny_items='half-eaten-sandwich broken-lightbulb'.split(' ')\n",
    "transportation_items = 'skateboard bike'.split(' ')"
   ]
  },
  {
   "cell_type": "markdown",
   "metadata": {},
   "source": [
    "- Look at the different entities and parts of speech you will be interacting with."
   ]
  },
  {
   "cell_type": "code",
   "execution_count": 452,
   "metadata": {
    "collapsed": false
   },
   "outputs": [
    {
     "data": {
      "text/plain": [
       "'alice'"
      ]
     },
     "execution_count": 452,
     "metadata": {},
     "output_type": "execute_result"
    }
   ],
   "source": [
    "protagonist"
   ]
  },
  {
   "cell_type": "code",
   "execution_count": 453,
   "metadata": {
    "collapsed": false
   },
   "outputs": [
    {
     "data": {
      "text/plain": [
       "'gryphon'"
      ]
     },
     "execution_count": 453,
     "metadata": {},
     "output_type": "execute_result"
    }
   ],
   "source": [
    "antagonist"
   ]
  },
  {
   "cell_type": "code",
   "execution_count": 454,
   "metadata": {
    "collapsed": false
   },
   "outputs": [
    {
     "data": {
      "text/plain": [
       "'rome'"
      ]
     },
     "execution_count": 454,
     "metadata": {},
     "output_type": "execute_result"
    }
   ],
   "source": [
    "place_one"
   ]
  },
  {
   "cell_type": "code",
   "execution_count": 455,
   "metadata": {
    "collapsed": false
   },
   "outputs": [
    {
     "data": {
      "text/plain": [
       "'paris'"
      ]
     },
     "execution_count": 455,
     "metadata": {},
     "output_type": "execute_result"
    }
   ],
   "source": [
    "place_two"
   ]
  },
  {
   "cell_type": "code",
   "execution_count": 456,
   "metadata": {
    "collapsed": false
   },
   "outputs": [
    {
     "data": {
      "text/plain": [
       "'thing'"
      ]
     },
     "execution_count": 456,
     "metadata": {},
     "output_type": "execute_result"
    }
   ],
   "source": [
    "single_noun_one"
   ]
  },
  {
   "cell_type": "code",
   "execution_count": 457,
   "metadata": {
    "collapsed": false
   },
   "outputs": [
    {
     "data": {
      "text/plain": [
       "'time'"
      ]
     },
     "execution_count": 457,
     "metadata": {},
     "output_type": "execute_result"
    }
   ],
   "source": [
    "single_noun_two"
   ]
  },
  {
   "cell_type": "code",
   "execution_count": 458,
   "metadata": {
    "collapsed": false
   },
   "outputs": [
    {
     "data": {
      "text/plain": [
       "'be'"
      ]
     },
     "execution_count": 458,
     "metadata": {},
     "output_type": "execute_result"
    }
   ],
   "source": [
    "verb_one"
   ]
  },
  {
   "cell_type": "code",
   "execution_count": 459,
   "metadata": {
    "collapsed": false
   },
   "outputs": [
    {
     "data": {
      "text/plain": [
       "'have'"
      ]
     },
     "execution_count": 459,
     "metadata": {},
     "output_type": "execute_result"
    }
   ],
   "source": [
    "verb_two"
   ]
  },
  {
   "cell_type": "markdown",
   "metadata": {},
   "source": [
    "# Start the story\n",
    "- For the information retrieval section, I used TF-IDF with cosine similarity. In the evaluation section, we can see this worked much better than Jaccard Similarity."
   ]
  },
  {
   "cell_type": "code",
   "execution_count": 357,
   "metadata": {
    "collapsed": false
   },
   "outputs": [
    {
     "name": "stdout",
     "output_type": "stream",
     "text": [
      "Welcome to a choose your own adventure story!\n",
      " Below you will pick a story, and you will explore that world with a campanion. Throughout the story, you will have different options for next steps to take. Your goal is to choose the options that lead you safely on your adventure.  However, be careful! Danger awaits around every turn.\n"
     ]
    }
   ],
   "source": [
    "print('Welcome to a choose your own adventure story!\\n Below you will pick a story, and you will explore that world with a campanion. \\\n",
    "Throughout the story, you will have different options for next steps to take. \\\n",
    "Your goal is to choose the options that lead you safely on your adventure.  \\\n",
    "However, be careful! Danger awaits around every turn.')"
   ]
  },
  {
   "cell_type": "code",
   "execution_count": 358,
   "metadata": {
    "collapsed": false
   },
   "outputs": [
    {
     "name": "stdout",
     "output_type": "stream",
     "text": [
      "You awake and look around \"Hey, I think I recognize this place\", you think to yourself. You realize that you are sitting down on something, you can not quite tell what, but you feel strangely awake. You turn to your right and see alice from Alice in Wonderland. On your left, you see Donald Trump. You wonder where you are and how this all happened, but before you can think too much Trump turns to you and says  Favored for someone else in either party , or john deere , `` make america great again . I have a victory and let them fight each other . It was even made .  Well that was weird you think to yourself. Shaking it off, you turn to alice who says,         \"Welcome to Alice in Wonderland! We are excited to have you and your friend explore our         world. Before we start what do you want to bring with you on your         journey? 'Please pick one from each category,' instructes alice.\n",
      "\n",
      "\n",
      "['pocketknife', 'flashlight']\n",
      "Which item would you like?pocketknife\n",
      "\n",
      "['half-eaten-sandwich', 'broken-lightbulb']\n",
      "Which of these would you like?half-eaten-sandwich\n",
      "\n",
      "['skateboard', 'bike']\n",
      "Which of these would you like?bike\n"
     ]
    }
   ],
   "source": [
    "###### The first section of the story   \n",
    "print('You awake and look around \"Hey, I think I recognize this place\", you think to yourself. You realize \\\n",
    "that you are sitting down on something, you can not quite tell what, but you feel strangely awake. \\\n",
    "You turn to your right and see {} from {}. On your left, you see \\\n",
    "Donald Trump. You wonder where you are and how this all happened, but before you can think too much \\\n",
    "Trump turns to you and says '.format(protagonist,story),\\\n",
    "      trump_story.sentence_generate(3),\\\n",
    "        'Well that was weird you think to yourself. Shaking it off, you turn to {} who says, \\\n",
    "        \"Welcome to {}! We are excited to have you and your friend explore our \\\n",
    "        world. Before we start what do you want to bring with you on your \\\n",
    "        journey?'.format(protagonist,story),\\\n",
    "        \"'Please pick one from each category,' instructes {}.\".format(protagonist))\n",
    "print()## keep track of the options chosen\n",
    "while True:\n",
    "    print()\n",
    "    print(utility_items)\n",
    "    utility_item_chosen = input(\"Which item would you like?\")\n",
    "    if utility_item_chosen in utility_items:\n",
    "        break\n",
    "    else:\n",
    "        print('Please spell the word correctly without the quotes')\n",
    "while True:\n",
    "    print()\n",
    "    print(funny_items)\n",
    "    funny_item_chosen = input(\"Which of these would you like?\")\n",
    "    if funny_item_chosen in funny_items:\n",
    "        break\n",
    "    else:\n",
    "        print('Please spell the word correctly without the quotes')\n",
    "while True:\n",
    "    print()\n",
    "    print(transportation_items)\n",
    "    trans_item_chosen = input('Which of these would you like?')\n",
    "    if trans_item_chosen in transportation_items:\n",
    "        break\n",
    "    else:\n",
    "        print('Please spell the word correctly without the quotes')\n"
   ]
  },
  {
   "cell_type": "code",
   "execution_count": 359,
   "metadata": {
    "collapsed": false
   },
   "outputs": [
    {
     "name": "stdout",
     "output_type": "stream",
     "text": [
      "Please write a sentence for what you would like to do next    incorporating an item you have choosen.If you want to see the items you have, type items.run away with my sando\n"
     ]
    }
   ],
   "source": [
    "#First choice by the user\n",
    "choice1=[]\n",
    "while True:\n",
    "    choice = input('Please write a sentence for what you would like to do next\\\n",
    "    incorporating an item you have choosen.If you want to see the items you have, type items.')  \n",
    "    if choice =='items':\n",
    "        print(utility_item_chosen,trans_item_chosen,funny_item_chosen)\n",
    "    else:\n",
    "        choice1.append(choice)\n",
    "        break"
   ]
  },
  {
   "cell_type": "markdown",
   "metadata": {},
   "source": [
    "### After each block of story, the sentence entered by the user will be used by an IR system (tf-idf with cosine similarity) to pick the  next part of the story.\n",
    "- In addition, word2vec will pull of the more similar words in the current story chunk to the words entered by a user (assuming the words entered by the user are in the story chunk. If not, they are not used for the word2vec model). "
   ]
  },
  {
   "cell_type": "code",
   "execution_count": 360,
   "metadata": {
    "collapsed": false
   },
   "outputs": [],
   "source": [
    "# the first section of possible texts for the story\n",
    "storychunk_one = place_of_story(1,protagonist,antagonist,place_one,language_one,\\\n",
    "                        trump_story.sentence_generate(2),place_two,\\\n",
    "                          single_noun_one,single_noun_two,plural_noun_one,plural_noun_two,verb_one,verb_two,verb_three) #protagonist"
   ]
  },
  {
   "cell_type": "code",
   "execution_count": 361,
   "metadata": {
    "collapsed": false
   },
   "outputs": [
    {
     "name": "stderr",
     "output_type": "stream",
     "text": [
      "WARNING:gensim.models.word2vec:under 10 jobs per worker: consider setting a smaller `batch_words' for smoother alpha decay\n"
     ]
    },
    {
     "name": "stdout",
     "output_type": "stream",
     "text": [
      "The words most similar (in the given story chunk) to the following query words (vectors added together): ['run', 'with']\n"
     ]
    },
    {
     "data": {
      "text/plain": [
       "[('be', 0.35223403573036194),\n",
       " ('happily', 0.27199500799179077),\n",
       " ('that', 0.2559588849544525),\n",
       " ('do', 0.2550390958786011),\n",
       " ('who', 0.24346351623535156),\n",
       " ('have', 0.24343758821487427),\n",
       " ('trump', 0.23861822485923767),\n",
       " ('alice', 0.23612971603870392),\n",
       " ('time', 0.23193146288394928),\n",
       " ('even', 0.21129761636257172)]"
      ]
     },
     "execution_count": 361,
     "metadata": {},
     "output_type": "execute_result"
    }
   ],
   "source": [
    "word2vec(storychunk_one,choice1)"
   ]
  },
  {
   "cell_type": "markdown",
   "metadata": {},
   "source": [
    "# Retrieve the next story chunk"
   ]
  },
  {
   "cell_type": "code",
   "execution_count": 362,
   "metadata": {
    "collapsed": false
   },
   "outputs": [
    {
     "data": {
      "text/plain": [
       "'You have the feeling that something bad was going to happen so you pull out your pocketknife. alice looks at you and asks,\"So what do youthink you are going to do with that? That is not going to save you. You notice dormouse in the distance and you yell to trump \"Run for it!\" . Where should you run to?'"
      ]
     },
     "execution_count": 362,
     "metadata": {},
     "output_type": "execute_result"
    }
   ],
   "source": [
    "# TFIDF with cosine similarity\n",
    "tfidf_one = TfidfVectorizer() \n",
    "tf_idf_storyone= tfidf_one.fit_transform(storychunk_one) ##tf-idf on the possible story chunks in storychunk_one\n",
    "choice1_tfidf = tfidf_one.transform(choice1) ## turn the user sentence into a vector\n",
    "cosine_sim_one = linear_kernel(tf_idf_storyone,choice1_tfidf).flatten() ## cosine similarity between the story chunks and user sentence\n",
    "re.sub(r'(\\t)','',storychunk_one[cosine_sim_one.argsort()[::-1][0]]) ##return the story chunk"
   ]
  },
  {
   "cell_type": "code",
   "execution_count": 363,
   "metadata": {
    "collapsed": false
   },
   "outputs": [
    {
     "name": "stdout",
     "output_type": "stream",
     "text": [
      "Please write a sentence for what you would like to do next     incorporating an item you have choosen.If you want to see the items you have, type items.run away to eat my half-eaten-sandwich\n"
     ]
    }
   ],
   "source": [
    "choice2=[]\n",
    "while True:\n",
    "    choice = input('Please write a sentence for what you would like to do next \\\n",
    "    incorporating an item you have choosen.If you want to see the items you have, type items.')  \n",
    "    if choice =='items':\n",
    "        print(utility_item_chosen,trans_item_chosen,funny_item_chosen)\n",
    "    else:\n",
    "        choice2.append(choice)\n",
    "        break\n",
    "        "
   ]
  },
  {
   "cell_type": "markdown",
   "metadata": {},
   "source": [
    "## Second story chunk"
   ]
  },
  {
   "cell_type": "code",
   "execution_count": 364,
   "metadata": {
    "collapsed": false
   },
   "outputs": [
    {
     "data": {
      "text/plain": [
       "'Feeling upset, you take out your half-eaten-sandwich from lunch and throw it on the ground. You watch the jelly ooze onto the ground with disappointment.   Trump turns to your with bulging eyes and  a hand over his stomach and says He stopped . And what are we going to do this thing is if you want to fix our rigged system so we have . Record , record , putting the american people can’t do that one ?  . Now what?  '"
      ]
     },
     "execution_count": 364,
     "metadata": {},
     "output_type": "execute_result"
    }
   ],
   "source": [
    "# the second section of possible texts for the story\n",
    "storychunk_two = place_of_story(2,protagonist,antagonist,place_one,language_one,\\\n",
    "                        trump_story.sentence_generate(3),place_two,\\\n",
    "                          single_noun_one,single_noun_two,plural_noun_one,plural_noun_two,verb_one,verb_two,verb_three) \n",
    "tfidf_two = TfidfVectorizer()  #create a model\n",
    "tf_idf_storytwo= tfidf_two.fit_transform(storychunk_two) ##tf-idf on the possible story chunks in storychunk_one\n",
    "choice2_tfidf = tfidf_two.transform(choice2) ## turn the user sentence into a vector\n",
    "cosine_sim_two = linear_kernel(tf_idf_storytwo,choice2_tfidf).flatten() ## cosine similarity between the story chunks and user sentence\n",
    "re.sub(r'(\\t)','',storychunk_two[cosine_sim_two.argsort()[::-1][0]]) ##return the story chunk"
   ]
  },
  {
   "cell_type": "code",
   "execution_count": 365,
   "metadata": {
    "collapsed": false
   },
   "outputs": [
    {
     "name": "stderr",
     "output_type": "stream",
     "text": [
      "WARNING:gensim.models.word2vec:under 10 jobs per worker: consider setting a smaller `batch_words' for smoother alpha decay\n"
     ]
    },
    {
     "name": "stdout",
     "output_type": "stream",
     "text": [
      "The words most similar (in the given story chunk) to the following query words (vectors added together): ['to', 'my', 'half-eaten-sandwich']\n"
     ]
    },
    {
     "data": {
      "text/plain": [
       "[('the', 0.3080666661262512),\n",
       " ('emits', 0.26748454570770264),\n",
       " ('with', 0.2587265074253082),\n",
       " ('while', 0.2566555142402649),\n",
       " ('thinking', 0.2508894205093384),\n",
       " ('before', 0.24582356214523315),\n",
       " ('end', 0.23640254139900208),\n",
       " ('was', 0.22884947061538696),\n",
       " ('trump', 0.22222858667373657),\n",
       " ('exclaims', 0.22191467881202698)]"
      ]
     },
     "execution_count": 365,
     "metadata": {},
     "output_type": "execute_result"
    }
   ],
   "source": [
    "## Top related words for story chunk two\n",
    "word2vec(storychunk_two,choice2)"
   ]
  },
  {
   "cell_type": "code",
   "execution_count": 366,
   "metadata": {
    "collapsed": false
   },
   "outputs": [
    {
     "name": "stdout",
     "output_type": "stream",
     "text": [
      "Please write a sentence for what you would like to do next     incorporating an item you have choosen.If you want to see the items you have, type items.let's go explore another part with my half-eaten-sandwich\n"
     ]
    }
   ],
   "source": [
    "choice3=[]\n",
    "while True:\n",
    "    choice = input('Please write a sentence for what you would like to do next \\\n",
    "    incorporating an item you have choosen.If you want to see the items you have, type items.')  \n",
    "    if choice =='items':\n",
    "        print(utility_item_chosen,trans_item_chosen,funny_item_chosen)\n",
    "    else:\n",
    "        choice3.append(choice)\n",
    "        break\n",
    "        "
   ]
  },
  {
   "cell_type": "markdown",
   "metadata": {},
   "source": [
    "## Third story chunk"
   ]
  },
  {
   "cell_type": "code",
   "execution_count": 367,
   "metadata": {
    "collapsed": false
   },
   "outputs": [
    {
     "data": {
      "text/plain": [
       "'You quickly take out what is left of your half-eaten-sandwich and show it to alice.  \"Good,\" sayd alice, \"We can use this to pay off gryphon and get you to the way\".   You wonder where that is, or who gryphon is, but you follow alice. What should you do now?'"
      ]
     },
     "execution_count": 367,
     "metadata": {},
     "output_type": "execute_result"
    }
   ],
   "source": [
    "# the third section of possible texts for the story\n",
    "storychunk_three = place_of_story(3,protagonist,antagonist,place_one,language_one,\\\n",
    "                        trump_story.sentence_generate(4),place_two,\\\n",
    "                          single_noun_one,single_noun_two,plural_noun_one,plural_noun_two,verb_one,verb_two,verb_three) \n",
    "\n",
    "tfidf_three = TfidfVectorizer()  #create a model\n",
    "tf_idf_storythree= tfidf_three.fit_transform(storychunk_three) ##tf-idf on the possible story chunks in storychunk_one\n",
    "choice3_tfidf = tfidf_three.transform(choice3) ## turn the user sentence into a vector\n",
    "cosine_sim_three = linear_kernel(tf_idf_storythree,choice3_tfidf).flatten() ## cosine similarity between the story chunks and user sentence\n",
    "third_section = re.sub(r'(\\t)','',storychunk_three[cosine_sim_three.argsort()[::-1][0]] )\n",
    "third_section ##return the story chunk"
   ]
  },
  {
   "cell_type": "code",
   "execution_count": 368,
   "metadata": {
    "collapsed": false
   },
   "outputs": [
    {
     "name": "stderr",
     "output_type": "stream",
     "text": [
      "WARNING:gensim.models.word2vec:under 10 jobs per worker: consider setting a smaller `batch_words' for smoother alpha decay\n"
     ]
    },
    {
     "name": "stdout",
     "output_type": "stream",
     "text": [
      "The words most similar (in the given story chunk) to the following query words (vectors added together): ['with', 'half-eaten-sandwich']\n"
     ]
    },
    {
     "data": {
      "text/plain": [
       "[('above', 0.3896535634994507),\n",
       " ('flashlight', 0.31827521324157715),\n",
       " ('the', 0.26740217208862305),\n",
       " ('storm', 0.24488885700702667),\n",
       " (')', 0.22980721294879913),\n",
       " ('trump', 0.22599923610687256),\n",
       " ('to', 0.21912923455238342),\n",
       " ('before', 0.21571339666843414),\n",
       " ('what', 0.21542954444885254),\n",
       " ('ash', 0.2089400738477707)]"
      ]
     },
     "execution_count": 368,
     "metadata": {},
     "output_type": "execute_result"
    }
   ],
   "source": [
    "## Top related words for story chunk three\n",
    "word2vec(storychunk_three,choice3)"
   ]
  },
  {
   "cell_type": "code",
   "execution_count": 369,
   "metadata": {
    "collapsed": false
   },
   "outputs": [
    {
     "name": "stdout",
     "output_type": "stream",
     "text": [
      "Please write a sentence for what you would like to do next         incorporating an item you have choosen.If you want to see the items you have, type items.let's explore some more with my bike\n"
     ]
    }
   ],
   "source": [
    "if 'dead' in third_section:\n",
    "    print('You died with Trump by your side. Better luck next time!')\n",
    "elif 'died' in third_section:\n",
    "    print('You died with Trump by your side. Better luck next time!')\n",
    "else:\n",
    "    choice4=[]\n",
    "    while True:\n",
    "        choice = input('Please write a sentence for what you would like to do next \\\n",
    "        incorporating an item you have choosen.If you want to see the items you have, type items.')  \n",
    "        if choice =='items':\n",
    "            print(utility_item_chosen,trans_item_chosen,funny_item_chosen)\n",
    "        else:\n",
    "            choice4.append(choice)\n",
    "            break\n"
   ]
  },
  {
   "cell_type": "markdown",
   "metadata": {},
   "source": [
    "## Fourth story chunk (if you make it this far)"
   ]
  },
  {
   "cell_type": "code",
   "execution_count": 370,
   "metadata": {
    "collapsed": false
   },
   "outputs": [
    {
     "data": {
      "text/plain": [
       "' \"Congratulations!\" says alice \"You defeated gryphon and survived Alice in Wonderland. Best of luck in your future adventures\" '"
      ]
     },
     "execution_count": 370,
     "metadata": {},
     "output_type": "execute_result"
    }
   ],
   "source": [
    "#The fourth chunck - Only go here if the user made it here\n",
    "storychunk_four = place_of_story(4,protagonist,antagonist,place_one,language_one,\\\n",
    "                        trump_story.sentence_generate(2),place_two,\\\n",
    "                          single_noun_one,single_noun_two,plural_noun_one,plural_noun_two,verb_one,verb_two,verb_three,story) \n",
    "\n",
    "tfidf_four = TfidfVectorizer()  #create a model\n",
    "tf_idf_storyfour= tfidf_four.fit_transform(storychunk_four) ##tf-idf on the possible story chunks in storychunk_one\n",
    "choice4_tfidf = tfidf_four.transform(choice4) ## turn the user sentence into a vector\n",
    "cosine_sim_four = linear_kernel(tf_idf_storyfour,choice4_tfidf).flatten() ## cosine similarity between the story chunks and user sentence\n",
    "fourth_section = re.sub(r'(\\t)','',storychunk_four[cosine_sim_four.argsort()[::-1][0]] )\n",
    "fourth_section ##return the story chunk"
   ]
  },
  {
   "cell_type": "markdown",
   "metadata": {},
   "source": [
    "- The secret to surviving is using the half eaten sandwich at the third story section :). Now, let us test the accuracy of the IR system."
   ]
  },
  {
   "cell_type": "markdown",
   "metadata": {},
   "source": [
    "## Evaluation Metrics\n",
    "> Accuracy\n",
    "\n",
    "- To evaluate our system, we want to look at the sentence entered by our users that contains an item they choose (i.e. bike) and pick the response that has that item. Since there is only one correct answer for each query, we will look at the average accuracy using each item over a number of queries.\n",
    "- We will examine both TF-IDF with cosine similarity as well as Jaccard Similarity here."
   ]
  },
  {
   "cell_type": "code",
   "execution_count": 178,
   "metadata": {
    "collapsed": false
   },
   "outputs": [],
   "source": [
    "test_chunk_one = place_of_story(1,protagonist,antagonist,place_one,language_one,\\\n",
    "                        trump_story.sentence_generate(3),place_two,\\\n",
    "                          single_noun_one,single_noun_two,plural_noun_one,plural_noun_two,verb_one,verb_two,verb_three,story)"
   ]
  },
  {
   "cell_type": "code",
   "execution_count": 179,
   "metadata": {
    "collapsed": false
   },
   "outputs": [],
   "source": [
    "test_chunk_two = place_of_story(2,protagonist,antagonist,place_one,language_one,\\\n",
    "                        trump_story.sentence_generate(3),place_two,\\\n",
    "                          single_noun_one,single_noun_two,plural_noun_one,plural_noun_two,verb_one,verb_two,verb_three,story)"
   ]
  },
  {
   "cell_type": "code",
   "execution_count": 180,
   "metadata": {
    "collapsed": false
   },
   "outputs": [],
   "source": [
    "test_chunk_three = place_of_story(3,protagonist,antagonist,place_one,language_one,\\\n",
    "                        trump_story.sentence_generate(3),place_two,\\\n",
    "                          single_noun_one,single_noun_two,plural_noun_one,plural_noun_two,verb_one,verb_two,verb_three,story)"
   ]
  },
  {
   "cell_type": "code",
   "execution_count": 349,
   "metadata": {
    "collapsed": false
   },
   "outputs": [],
   "source": [
    "list_of_test_one_queries = [['pocketknife'],\\\n",
    "                            ['I like to run with my pocketknife'],\\\n",
    "                            ['This is a flashy fun way to show how cool you are with friends pocketknife'],\\\n",
    "                           ['Do you know who I am that I love to watch Trump with my pocketknife?'],\\\n",
    "                           ['This is incredible!\\\n",
    "                           I love to carve wood and eat food with my own pocketknife even though you know Trump\\\n",
    "                           has a way with words!']]\n",
    "\n",
    "list_of_test_two_queries =[['half-eaten-sandwich'],\n",
    "                          ['I like to run around the town with my half-eaten-sandwich'],\n",
    "                          [\"Wow, he really has a way with words with your half-eaten-sandwich\"],\n",
    "                          ['asdf asdf sandwich asdfa'],\n",
    "                          ['This is lightsaber battle run fight half-eaten-sandwich']]\n",
    "\n",
    "list_of_test_three_queries = [['bike'],\n",
    "                             ['i like to ride my bicycle i like to ribe my bike'],\n",
    "                             ['run away to the furtherst point that you can with your bike'],\n",
    "                             ['looing at the moon and the stars and trump overhead you jump on the bike'],\n",
    "                             ['You look around and decide to run and jump on your bike. Good this is good says Trump . I like the way you think.']]"
   ]
  },
  {
   "cell_type": "markdown",
   "metadata": {},
   "source": [
    "#### Evaluate TF-IDF IR"
   ]
  },
  {
   "cell_type": "code",
   "execution_count": 566,
   "metadata": {
    "collapsed": false
   },
   "outputs": [
    {
     "name": "stdout",
     "output_type": "stream",
     "text": [
      "('The accuracy is', 0.8, 'The query that failed was :', [['This is incredible!                           I love to carve wood and eat food with my own pocketknife even though you know Trump                           has a way with words!']])\n",
      "('The accuracy is', 1.0, 'The correct queries are', [['pocketknife'], ['I like to run with my pocketknife'], ['This is a flashy fun way to show how cool you are with friends pocketknife'], ['Do you know who I am that I love to watch Trump with my pocketknife?'], ['This is incredible!                           I love to carve wood and eat food with my own pocketknife even though you know Trump                           has a way with words!']])\n",
      "('The accuracy is', 0.8, 'The query that failed was :', [['This is a flashy fun way to show how cool you are with friends pocketknife']])\n"
     ]
    }
   ],
   "source": [
    "#First chuck - pocketknife\n",
    "print(accuracy_score_test(list_of_test_one_queries,test_chunk_one,'pocketknife','tfidf'))\n",
    "txt,acc_one_pocket,quertxt,query_one = accuracy_score_test(list_of_test_one_queries,test_chunk_one,'pocketknife','tfidf')\n",
    "q_one = [TextBlob(query_two[i][0]) for i in range(len(query_one))]\n",
    "avg_len_query_one_pocket = \\\n",
    "int(np.mean(([sum(list(Counter(q_one[i]).values())) for i in range(len(q_one))] )))\n",
    "\n",
    "## Second Chunk - pocketknife\n",
    "print(accuracy_score_test(list_of_test_one_queries,test_chunk_two,'pocketknife','tfidf'))\n",
    "txt,acc_two_pocket,quertxt,query_two = accuracy_score_test(list_of_test_one_queries,test_chunk_two,'pocketknife','tfidf')\n",
    "q_two = [TextBlob(query_two[i][0]) for i in range(len(query_two))]\n",
    "avg_len_query_two_pocket= int(np.mean(([sum(list(Counter(q_two[i]).values())) for i in range(len(q_two))] )))\n",
    "\n",
    "## Third chunk - pocketknife\n",
    "print(accuracy_score_test(list_of_test_one_queries,test_chunk_three,'pocketknife','tfidf'))\n",
    "txt,acc_three_pocket,quertxt,query_three = accuracy_score_test(list_of_test_one_queries,test_chunk_three,'pocketknife','tfidf')\n",
    "q_three = [TextBlob(query_three[0][i]) for i in range(len(query_three))]\n",
    "avg_len_query_three_pocket= int(np.mean(([sum(list(Counter(q_three[i]).values())) for i in range(len(q_three))] )))\n"
   ]
  },
  {
   "cell_type": "code",
   "execution_count": 527,
   "metadata": {
    "collapsed": false
   },
   "outputs": [
    {
     "name": "stdout",
     "output_type": "stream",
     "text": [
      "('The accuracy is', 0.8, 'The query that failed was :', [['run away to the furtherst point that you can with your bike']])\n",
      "('The accuracy is', 0.2, 'The query that failed was :', [['i like to ride my bicycle i like to ribe my bike'], ['run away to the furtherst point that you can with your bike'], ['looing at the moon and the stars and trump overhead you jump on the bike'], ['You look around and decide to run and jump on your bike. Good this is good says Trump . I like the way you think.']])\n",
      "('The accuracy is', 1.0, 'The correct queries are', [['bike'], ['i like to ride my bicycle i like to ribe my bike'], ['run away to the furtherst point that you can with your bike'], ['looing at the moon and the stars and trump overhead you jump on the bike'], ['You look around and decide to run and jump on your bike. Good this is good says Trump . I like the way you think.']])\n"
     ]
    }
   ],
   "source": [
    "#First chuck - bicycle\n",
    "print(accuracy_score_test(list_of_test_three_queries,test_chunk_one,'bike','tfidf'))\n",
    "txt,acc_one_bike,quertxt,query_one_bike = accuracy_score_test(list_of_test_three_queries,test_chunk_one,'bike','tfidf')\n",
    "q_one_bike = [TextBlob(query_one_bike[i][0]) for i in range(len(query_one_bike))]\n",
    "avg_len_query_one_bike= int(np.mean(([sum(list(Counter(q_one_bike[i]).values())) for i in range(len(q_one_bike))] )))\n",
    "    \n",
    "#Second Chunk - bicycle\n",
    "print(accuracy_score_test(list_of_test_three_queries,test_chunk_two,'bike','tfidf'))\n",
    "txt,acc_two_bike,quertxt,query_two_bike = accuracy_score_test(list_of_test_three_queries,test_chunk_two,'bike','tfidf')\n",
    "q_two_bike = [TextBlob(query_two_bike[i][0]) for i in range(len(query_two_bike))]\n",
    "avg_len_query_two_bike= int(np.mean(([sum(list(Counter(q_two_bike[i]).values())) for i in range(len(q_two_bike))] )))\n",
    "    \n",
    "#Third chunk\n",
    "print(accuracy_score_test(list_of_test_three_queries,test_chunk_three,'bike','tfidf'))\n",
    "txt,acc_three_bike,quertxt,query_three_bike = accuracy_score_test(list_of_test_three_queries,test_chunk_three,'bike','tfidf')\n",
    "q_three_bike = [TextBlob(query_three_bike[i][0]) for i in range(len(query_three_bike))]\n",
    "avg_len_query_three_bike= int(np.mean(([sum(list(Counter(q_three_bike[i]).values())) for i in range(len(q_three_bike))] )))"
   ]
  },
  {
   "cell_type": "markdown",
   "metadata": {},
   "source": [
    "### Next - test Jaccard Similarity for the IR task"
   ]
  },
  {
   "cell_type": "code",
   "execution_count": 557,
   "metadata": {
    "collapsed": false
   },
   "outputs": [
    {
     "name": "stdout",
     "output_type": "stream",
     "text": [
      "('The accuracy is', 0.6, 'The query that failed was :', [['Do you know who I am that I love to watch Trump with my pocketknife?'], ['This is incredible!                           I love to carve wood and eat food with my own pocketknife even though you know Trump                           has a way with words!']])\n",
      "('The accuracy is', 0.4, 'The query that failed was :', [['I like to run with my pocketknife'], ['Do you know who I am that I love to watch Trump with my pocketknife?'], ['This is incredible!                           I love to carve wood and eat food with my own pocketknife even though you know Trump                           has a way with words!']])\n",
      "('The accuracy is', 0.6, 'The query that failed was :', [['This is a flashy fun way to show how cool you are with friends pocketknife'], ['Do you know who I am that I love to watch Trump with my pocketknife?']])\n"
     ]
    }
   ],
   "source": [
    "#First chuck - pocketknife - jaccard\n",
    "print(accuracy_score_test(list_of_test_one_queries,test_chunk_one,'pocketknife','jaccard'))\n",
    "txt,acc_one_pocket_jacc,quertxt,query_one_pocket_jacc = accuracy_score_test(list_of_test_one_queries,test_chunk_one,'pocketknife','jaccard')\n",
    "q_one_pocket_jacc = [TextBlob(query_one_pocket_jacc[i][0]) for i in range(len(query_one_pocket_jacc))]\n",
    "avg_query_one_pocket_jacc = \\\n",
    "int(np.mean(([sum(list(Counter(q_one_pocket_jacc[i]).values())) for i in range(len(q_one_pocket_jacc))] )))\n",
    "\n",
    "#Second Chunk - pocketknife - jaccard\n",
    "print(accuracy_score_test(list_of_test_one_queries,test_chunk_two,'pocketknife','jaccard'))\n",
    "txt,acc_two_pocket_jacc,quertxt,query_two_pocket_jacc = accuracy_score_test(list_of_test_one_queries,test_chunk_two,'pocketknife','jaccard')\n",
    "q_two_pocket_jacc = [TextBlob(query_two_pocket_jacc[i][0]) for i in range(len(query_two_pocket_jacc))]\n",
    "avg_len_query_two_pocket_jacc= \\\n",
    "int(np.mean(([sum(list(Counter(q_two_pocket_jacc[i]).values())) for i in range(len(q_two_pocket_jacc))] )))\n",
    "    \n",
    "#Third chunk - pocketknife - jaccard\n",
    "print(accuracy_score_test(list_of_test_one_queries,test_chunk_three,'pocketknife','jaccard'))\n",
    "txt,acc_three_pocket_jacc,quertxt,query_three_pocket_jacc = accuracy_score_test(list_of_test_one_queries,test_chunk_three,'pocketknife','jaccard')\n",
    "q_three_pocket_jacc = [TextBlob(query_three_pocket_jacc[i][0]) for i in range(len(query_three_pocket_jacc))]\n",
    "avg_len_query_three_pocket_jacc=\\\n",
    "int(np.mean(([sum(list(Counter(q_three_pocket_jacc[i]).values())) for i in range(len(q_three_pocket_jacc))] )))"
   ]
  },
  {
   "cell_type": "code",
   "execution_count": 574,
   "metadata": {
    "collapsed": false
   },
   "outputs": [
    {
     "name": "stdout",
     "output_type": "stream",
     "text": [
      "('The accuracy is', 1.0, 'The correct queries are', [['bike'], ['i like to ride my bicycle i like to ribe my bike'], ['run away to the furtherst point that you can with your bike'], ['looing at the moon and the stars and trump overhead you jump on the bike'], ['You look around and decide to run and jump on your bike. Good this is good says Trump . I like the way you think.']])\n",
      "('The accuracy is', 0.8, 'The query that failed was :', [['looing at the moon and the stars and trump overhead you jump on the bike']])\n",
      "('The accuracy is', 0.6, 'The query that failed was :', [['run away to the furtherst point that you can with your bike'], ['You look around and decide to run and jump on your bike. Good this is good says Trump . I like the way you think.']])\n"
     ]
    }
   ],
   "source": [
    "#First chuck - bike - jaccard\n",
    "print(accuracy_score_test(list_of_test_three_queries,test_chunk_one,'bike','jaccard'))\n",
    "txt,acc_one_bike_jacc,quertxt,query_one_bike_jacc = accuracy_score_test(list_of_test_three_queries,test_chunk_one,'bike','jaccard')\n",
    "q_one_bike_jacc = [TextBlob(query_one_bike_jacc[i][0]) for i in range(len(query_one_bike_jacc))]\n",
    "avg_query_one_bike_jacc = \\\n",
    "int(np.mean(([sum(list(Counter(q_one_bike_jacc[i]).values())) for i in range(len(q_one_bike_jacc))] )))\n",
    "\n",
    "#Second Chunk -bike - jaccard\n",
    "print(accuracy_score_test(list_of_test_three_queries,test_chunk_two,'bike','jaccard'))\n",
    "txt,acc_two_bike_jacc,quertxt,query_two_bike_jacc = accuracy_score_test(list_of_test_three_queries,test_chunk_two,'bike','jaccard')\n",
    "q_two_bike_jacc = [TextBlob(query_two_bike_jacc[i][0]) for i in range(len(query_two_bike_jacc))]\n",
    "avg_len_query_two_bike_jacc= \\\n",
    "int(np.mean(([sum(list(Counter(q_two_bike_jacc[i]).values())) for i in range(len(q_two_bike_jacc))] )))\n",
    "    \n",
    "#Third chunk - bike- jaccard\n",
    "print(accuracy_score_test(list_of_test_three_queries,test_chunk_three,'bike','jaccard'))\n",
    "txt,acc_three_bike_jacc,quertxt,query_three_bike_jacc = accuracy_score_test(list_of_test_three_queries,test_chunk_three,'bike','jaccard')\n",
    "q_three_bike_jacc = [TextBlob(query_three_bike_jacc[i][0]) for i in range(len(query_three_bike_jacc))]\n",
    "avg_len_query_three_bike_jacc=\\\n",
    "int(np.mean(([sum(list(Counter(q_three_bike_jacc[i]).values())) for i in range(len(q_three_bike_jacc))] )))"
   ]
  },
  {
   "cell_type": "code",
   "execution_count": null,
   "metadata": {
    "collapsed": true
   },
   "outputs": [],
   "source": []
  },
  {
   "cell_type": "code",
   "execution_count": null,
   "metadata": {
    "collapsed": true
   },
   "outputs": [],
   "source": []
  },
  {
   "cell_type": "markdown",
   "metadata": {},
   "source": [
    "## Graph the results"
   ]
  },
  {
   "cell_type": "code",
   "execution_count": 569,
   "metadata": {
    "collapsed": false
   },
   "outputs": [
    {
     "data": {
      "image/png": "[encoded data removed]",
      "text/plain": [
       "<matplotlib.figure.Figure at 0x2b2d5c320>"
      ]
     },
     "metadata": {},
     "output_type": "display_data"
    }
   ],
   "source": [
    "plt.title('Avg query length vs Accuracy with TF-IDF (Pocketknife - keyword)')\n",
    "sns.barplot(x=[avg_len_query_two_pocket,avg_len_query_one_pocket,avg_len_query_three_pocket],\\\n",
    "           y=[acc_two_pocket,acc_one_pocket,acc_three_pocket])\n",
    "plt.ylabel('Accuracy')\n",
    "plt.xlabel('Average query length');"
   ]
  },
  {
   "cell_type": "code",
   "execution_count": 563,
   "metadata": {
    "collapsed": false
   },
   "outputs": [
    {
     "data": {
      "image/png": "[encoded data removed]",
      "text/plain": [
       "<matplotlib.figure.Figure at 0x2897adf60>"
      ]
     },
     "metadata": {},
     "output_type": "display_data"
    }
   ],
   "source": [
    "plt.title('Avg query length vs Accuracy with Jaccard Similarity (Pocketknife - keyword)')\n",
    "sns.barplot(x=[avg_query_one_pocket_jacc,avg_len_query_two_pocket_jacc,avg_len_query_three_pocket_jacc],\\\n",
    "           y=[acc_one_pocket_jacc,acc_two_pocket_jacc,acc_three_pocket_jacc])\n",
    "plt.ylabel('Accuracy')\n",
    "plt.xlabel('Average query length')\n",
    "plt.ylim(0,1);"
   ]
  },
  {
   "cell_type": "code",
   "execution_count": 570,
   "metadata": {
    "collapsed": false
   },
   "outputs": [
    {
     "data": {
      "image/png": "[encoded data removed]",
      "text/plain": [
       "<matplotlib.figure.Figure at 0x2b2ebe588>"
      ]
     },
     "metadata": {},
     "output_type": "display_data"
    }
   ],
   "source": [
    "## test bike keyword with TF-IDF\n",
    "plt.title('Avg query length vs Accuracy with TF-IDF (Bike - keyword)')\n",
    "sns.barplot(x=[avg_len_query_one_bike,avg_len_query_two_bike,avg_len_query_three_bike],\\\n",
    "           y=[acc_one_bike,acc_two_bike,acc_three_bike])\n",
    "plt.ylabel('Accuracy')\n",
    "plt.xlabel('Average query length');"
   ]
  },
  {
   "cell_type": "code",
   "execution_count": null,
   "metadata": {
    "collapsed": true
   },
   "outputs": [],
   "source": [
    "plt.title('Avg query length vs Accuracy with Jaccard Similarity (Bike- keyword)')\n",
    "sns.barplot(x=[avg_query_one_pocket_jacc,avg_len_query_two_pocket_jacc,avg_len_query_three_pocket_jacc],\\\n",
    "           y=[acc_one_pocket_jacc,acc_two_pocket_jacc,acc_three_pocket_jacc])\n",
    "plt.ylabel('Accuracy')\n",
    "plt.xlabel('Average query length')\n",
    "plt.ylim(0,1);"
   ]
  },
  {
   "cell_type": "markdown",
   "metadata": {},
   "source": [
    "> In general, our IR system, TF-IDF with cosine similarity, works pretty well unless the query closely resembles a different story chunk or if the query is long. In addition, TF-IDF seems to outperform Jaccard Similarity on the queries tested. "
   ]
  },
  {
   "cell_type": "markdown",
   "metadata": {
    "collapsed": true
   },
   "source": [
    "### Data to evaluate POS/NER"
   ]
  },
  {
   "cell_type": "code",
   "execution_count": 430,
   "metadata": {
    "collapsed": true
   },
   "outputs": [],
   "source": [
    "### List of correct person named entities\n",
    "correct_person_entities = {'ada','alice','ann','atheling','beau','bill','brandy','carroll','chapter','cheshire','dinah',\n",
    " 'dinn','dodo','dormouse','eaglet','edgar','edwin','elsie','footman','gryphon','hatter','herald','hjckrrh','jack','knave','lacie',\n",
    " 'lewis', 'lory', 'mabel','magpie','mary','mock','morcar','mouse','normans','northumbria',\n",
    " 'pat',\n",
    " 'puss',\n",
    " 'queen',\n",
    " 'rabbit',\n",
    " 'shakespeare',\n",
    " 'tortoise',\n",
    " 'treacle',\n",
    " 'turtle',\n",
    " 'william'}\n",
    "\n",
    "correct_person_entities_notprocessed = {'ada',\n",
    " 'alice',\n",
    " 'ann',\n",
    " 'atheling',\n",
    " 'beau',\n",
    " 'bill',\n",
    " 'brandy',\n",
    " 'carroll',\n",
    " 'cheshire',\n",
    " 'conqueror',\n",
    " 'dodo',\n",
    " 'dormouse',\n",
    " 'eaglet',\n",
    " 'edgar',\n",
    " 'edwin',\n",
    " 'elsie',\n",
    " 'footman',\n",
    " 'gryphon',\n",
    " 'hatter',\n",
    " 'jack',\n",
    " 'knave',\n",
    " 'lacie',\n",
    " 'lewis',\n",
    " 'lizard',\n",
    " 'lory',\n",
    " 'mabel',\n",
    " 'magpie',\n",
    " 'mary',\n",
    " 'morcar',\n",
    " 'northumbria',\n",
    " 'quadrille',\n",
    " 'queen',\n",
    " 'shakespeare',\n",
    " 'william'}\n",
    "\n",
    "## COrrect organization named entities\n",
    "\n",
    "correct_org_entities = {'dodo','dodo','dodo','mouse','caterpillar','caterpillar',\n",
    " 'alice','caterpillar','caterpillar','caterpillar','myself','caterpillar','caterpillar','caterpillar','caterpillar','caterpillar','caterpillar',\n",
    " 'caterpillar','caterpillar','caterpillar','caterpillar','caterpillar','caterpillar','pigeon','pigeon','pigeon','pigeon'\n",
    " 'footman','duchess','mad','tea','party','hare','mine','dormouse','hatter','dormouse','hatter','dormouse',\n",
    " 'dormouse',\n",
    " 'cheshire',\n",
    " 'duchess',\n",
    "                        'washing',\n",
    " 'caterpillar',\n",
    " 'lobster',\n",
    " 'quadrille',\n",
    " 'gryphon',\n",
    " 'knave',\n",
    " 'march',}\n",
    "\n",
    "correct_org_entities_notprocessed ={\n",
    " 'canary',\n",
    " 'caterpillar',\n",
    " 'cheshire',\n",
    " 'conqueror',\n",
    " 'dormouse',\n",
    " 'gryphon',\n",
    " 'hare',\n",
    " 'hatter',\n",
    " 'herald',\n",
    " 'pigeon',\n",
    " 'queen',\n",
    " 'rabbit'}\n",
    "\n",
    "### Correct date named entities\n",
    "\n",
    "correct_date_entities = {\n",
    " 'day',\n",
    " 'days',\n",
    " 'half',\n",
    " 'march',\n",
    " 'may',\n",
    " 'minute',\n",
    " 'minutes',\n",
    " 'one',\n",
    " 'summer',\n",
    " 'three',\n",
    " 'today',\n",
    " 'tomorrow',\n",
    " 'two',\n",
    " 'week',\n",
    " 'weeks',\n",
    " 'winter',\n",
    " 'year',\n",
    " 'yesterday'}\n",
    "\n",
    "correct_date_entities_notprocessed={'day',\n",
    " 'days',\n",
    " 'march',\n",
    " 'summer',\n",
    " 'today',\n",
    " 'week',\n",
    " 'weeks',\n",
    " 'winter',\n",
    " 'yesterday'}\n",
    "\n",
    "correct_propernoun_pos = {\n",
    " \"'alice\",\n",
    " \"'arrum\",\n",
    " \"'curiouser\",\n",
    " \"'hjckrrh\",\n",
    " \"'how\",\n",
    " \"'i\",\n",
    " \"'moral\",\n",
    " \"'poison\",\n",
    " \"'the\",\n",
    " \"'there\",\n",
    " \"'they\",\n",
    " \"'this\",\n",
    " \"'you\",\n",
    " 'ada',\n",
    " 'adventures',\n",
    " 'advice',\n",
    " 'alice',\n",
    "\n",
    "\n",
    " 'ann',\n",
    " 'atheling',\n",
    " 'australia',\n",
    " 'beautiful',\n",
    " 'bee',\n",
    " 'besides',\n",
    " 'best',\n",
    " 'between',\n",
    " 'bill',\n",
    " 'boots',\n",
    " 'canary',\n",
    " 'canterbury',\n",
    " 'carroll',\n",
    " 'cat',\n",
    " 'cat.',\n",
    " 'caterpillar',\n",
    " 'caucus',\n",
    " 'cheshire',\n",
    " 'chorus',\n",
    " 'christmas',\n",
    " 'coils',\n",
    "\n",
    " 'conqueror',\n",
    " 'crab',\n",
    " 'croquet',\n",
    " 'derision',\n",
    " 'dinah',\n",
    " 'dinn',\n",
    " 'distraction',\n",
    " 'dormouse',\n",
    " 'doth',\n",
    " 'down',\n",
    " 'drawling',\n",
    " 'duchess',\n",
    " 'duck',\n",
    " 'eaglet',\n",
    " 'edgar',\n",
    " 'edition',\n",
    " 'edwin',\n",
    " 'elsie',\n",
    " 'england',\n",
    " 'english',\n",
    " 'esq',\n",
    " 'evidence',\n",
    " 'fainting',\n",
    " 'father',\n",
    " 'fender',\n",
    " 'footman',\n",
    " 'forty',\n",
    " 'france',\n",
    " 'french',\n",
    " 'frog',\n",
    " 'from',\n",
    " 'fulcrum',\n",
    " 'game',\n",
    " 'gave',\n",
    " 'geography',\n",
    " 'grammar',\n",
    " 'grief',\n",
    " 'ground',\n",
    " 'gryphon',\n",
    " 'gryphon.',\n",
    " 'hated',\n",
    " 'hatter',\n",
    " 'heads',\n",
    " 'hearthrug',\n",
    " 'hearts',\n",
    " 'here',\n",
    " 'high',\n",
    " 'him',\n",
    " 'his',\n",
    " 'hole',\n",
    " 'hush',\n",
    " 'imagine',\n",
    " 'jack',\n",
    " 'just',\n",
    " 'keep',\n",
    " 'king',\n",
    " 'kings',\n",
    " 'knave',\n",
    " 'know',\n",
    " 'lacie',\n",
    " 'latin',\n",
    " 'latitude',\n",
    " 'laughing',\n",
    " 'leave',\n",
    " 'lewis',\n",
    " 'little',\n",
    " 'lizard',\n",
    " 'lobster',\n",
    " 'london',\n",
    " 'longitude',\n",
    " 'lory',\n",
    " 'love',\n",
    " 'ma',\n",
    " \"ma'am\",\n",
    " 'mabel',\n",
    " 'mad',\n",
    " 'magpie',\n",
    " 'majesty',\n",
    " 'march',\n",
    " 'marmalade',\n",
    " 'mary',\n",
    " 'may',\n",
    " 'maybe',\n",
    " 'mercia',\n",
    " 'millennium',\n",
    " 'miss',\n",
    " 'mock',\n",
    " 'morcar',\n",
    " 'more',\n",
    " 'mouse',\n",
    " 'mouse.',\n",
    " 'multiplication',\n",
    " 'must',\n",
    " 'myself',\n",
    " 'mystery',\n",
    " 'nay',\n",
    " 'near',\n",
    " 'never',\n",
    " 'new',\n",
    " 'nile',\n",
    " 'northumbria',\n",
    " 'outside',\n",
    " 'owl',\n",
    " 'panther',\n",
    " 'paris',\n",
    " 'party',\n",
    " 'pat',\n",
    " 'pennyworth',\n",
    " 'pepper',\n",
    " 'persons',\n",
    " 'pig',\n",
    " 'pigeon',\n",
    " 'pinch',\n",
    " 'please',\n",
    " 'plenty',\n",
    " 'pocket',\n",
    " 'pool',\n",
    " 'poor',\n",
    " 'pray',\n",
    " 'precious',\n",
    " 'prizes',\n",
    " 'puss',\n",
    " 'quadrille',\n",
    " 'queen',\n",
    " 'queens',\n",
    " 'quick',\n",
    " 'rabbit',\n",
    " 'race',\n",
    " 'red',\n",
    " 'returned',\n",
    " 'right',\n",
    " 'rome',\n",
    " 'run',\n",
    " 'said',\n",
    " 'seaography',\n",
    " 'serpent',\n",
    " 'seven',\n",
    " 'shakespeare',\n",
    " 'shark',\n",
    " 'she',\n",
    " 'shoes',\n",
    " 'sir',\n",
    " 'sluggard',\n",
    " 'some',\n",
    " 'somebody',\n",
    " 'something',\n",
    " 'soup',\n",
    " 'stigand',\n",
    " 'suppress',\n",
    " 'swim',\n",
    " 'table',\n",
    " 'take',\n",
    " 'tarts',\n",
    " 'tea',\n",
    " 'tears',\n",
    " 'than',\n",
    " 'tillie',\n",
    " 'time',\n",
    " 'tortoise',\n",
    " 'trims',\n",
    " 'turn',\n",
    " 'turtle',\n",
    " 'twinkle',\n",
    " 'uglification',\n",
    " 'vi',\n",
    " 'vii',\n",
    " 'viii',\n",
    " 'visit',\n",
    " 'voice',\n",
    " 'waistcoat',\n",
    " 'will',\n",
    " 'william',\n",
    " 'with',\n",
    " 'wonderland',\n",
    " 'writhing',\n",
    " 'x',\n",
    " 'xi',\n",
    " 'xii',\n",
    " 'zealand'}\n",
    "\n",
    "correct_vb_pos = {\n",
    " \"''tis\",\n",
    " \"'allow\",\n",
    " \"'and\",\n",
    " \"'are\",\n",
    " \"'begin\",\n",
    " \"'behead\",\n",
    " \"'by\",\n",
    " \"'call\",\n",
    " \"'come\",\n",
    " \"'consider\",\n",
    " \"'do\",\n",
    " \"'does\",\n",
    " \"'drink\",\n",
    " \"'explain\",\n",
    " \"'fetch\",\n",
    " \"'give\",\n",
    " \"'go\",\n",
    " \"'hand\",\n",
    " \"'have\",\n",
    " \"'he\",\n",
    " \"'hold\",\n",
    " \"'how\",\n",
    " \"'in\",\n",
    " \"'it\",\n",
    " \"'just\",\n",
    " \"'keep\",\n",
    " \"'leave\",\n",
    " \"'let\",\n",
    " \"'of\",\n",
    " \"'speak\",\n",
    " \"'stand\",\n",
    " \"'suppose\",\n",
    " \"'swim\",\n",
    " \"'take\",\n",
    " \"'tell\",\n",
    " \"'turn\",\n",
    " \"'wake\",\n",
    " \"'which\",\n",
    " \"'write\",\n",
    " 'abide',\n",
    " 'afford',\n",
    " 'agree',\n",
    " 'alice',\n",
    " 'allow',\n",
    " 'annoy',\n",
    " 'answer',\n",
    " 'appear',\n",
    " 'ask',\n",
    " 'avoid',\n",
    " 'be',\n",
    " 'bear',\n",
    " 'beat',\n",
    " 'beautify',\n",
    " 'become',\n",
    " 'beg',\n",
    " 'begin',\n",
    " 'believe',\n",
    " 'belong',\n",
    " 'bend',\n",
    " 'better',\n",
    " 'bite',\n",
    " 'bother',\n",
    " 'box',\n",
    " 'break',\n",
    " 'breathe',\n",
    " 'bring',\n",
    " 'burn',\n",
    " 'call',\n",
    " 'care',\n",
    " 'carry',\n",
    " 'catch',\n",
    " 'cats',\n",
    " 'change',\n",
    " 'choke',\n",
    " 'clever',\n",
    " 'climb',\n",
    " 'come',\n",
    " 'consider',\n",
    " 'cost',\n",
    " 'creep',\n",
    " 'croquet',\n",
    " 'cross',\n",
    " 'cry',\n",
    " 'curtsey',\n",
    " 'cut',\n",
    " 'dare',\n",
    " 'dear',\n",
    " 'declare',\n",
    " 'deny',\n",
    " 'die',\n",
    " 'disagree',\n",
    " 'disobey',\n",
    " 'dive',\n",
    " 'doth',\n",
    " 'double',\n",
    " 'doubt',\n",
    " 'draw',\n",
    " 'dream',\n",
    " 'drink',\n",
    " 'drive',\n",
    " 'drop',\n",
    " 'dry',\n",
    " 'dull',\n",
    " 'ear',\n",
    " 'eat',\n",
    " 'eaten',\n",
    " 'encourage',\n",
    " 'enjoy',\n",
    " 'escape',\n",
    " 'examine',\n",
    " 'execute',\n",
    " 'execution',\n",
    " 'explain',\n",
    " 'fall',\n",
    " 'feel',\n",
    " 'fetch',\n",
    " 'fig',\n",
    " 'find',\n",
    " 'finish',\n",
    " 'finished',\n",
    " 'fix',\n",
    " 'fly',\n",
    " 'follow',\n",
    " 'forget',\n",
    " 'forgotten',\n",
    " 'frighten',\n",
    " 'gather',\n",
    " 'get',\n",
    " 'give',\n",
    " 'go',\n",
    " 'grin',\n",
    " 'grow',\n",
    " 'grunt',\n",
    " 'guard',\n",
    " 'guess',\n",
    " 'happen',\n",
    " 'hear',\n",
    " 'help',\n",
    " 'herself',\n",
    " 'hide',\n",
    " 'hold',\n",
    " 'hope',\n",
    " 'imagine',\n",
    " 'improve',\n",
    " 'injure',\n",
    " 'interrupt',\n",
    " 'introduce',\n",
    " 'invent',\n",
    " 'join',\n",
    " 'keep',\n",
    " 'kettle',\n",
    " 'kick',\n",
    " 'kill',\n",
    " 'kiss',\n",
    " 'kneel',\n",
    " 'knock',\n",
    " 'knot',\n",
    " 'know',\n",
    " 'land',\n",
    " 'learn',\n",
    " 'leave',\n",
    " 'lie',\n",
    " 'like',\n",
    " 'listen',\n",
    " 'live',\n",
    " 'look',\n",
    " 'lose',\n",
    " 'make',\n",
    " 'manage',\n",
    " 'mark',\n",
    " 'matter',\n",
    " 'mean',\n",
    " 'measure',\n",
    " 'meet',\n",
    " 'miss',\n",
    " 'mistake',\n",
    " 'move',\n",
    " 'mustard',\n",
    " 'needs',\n",
    " 'notice',\n",
    " 'nurse',\n",
    " 'offend',\n",
    " 'offer',\n",
    " 'open',\n",
    " 'pass',\n",
    " 'pinch',\n",
    " 'play',\n",
    " 'please',\n",
    " 'pocket',\n",
    " 'pop',\n",
    " 'prevent',\n",
    " 'proceed',\n",
    " 'prosecute',\n",
    " 'prove',\n",
    " 'purpose',\n",
    " 'push',\n",
    " 'put',\n",
    " 'queer',\n",
    " 'quiver',\n",
    " 'reach',\n",
    " 'read',\n",
    " 'remain',\n",
    " 'remark',\n",
    " 'remember',\n",
    " 'repeat',\n",
    " 'rest',\n",
    " 'rise',\n",
    " 'round',\n",
    " 'rubbed',\n",
    " 'run',\n",
    " 'savage',\n",
    " 'save',\n",
    " 'say',\n",
    " 'sea',\n",
    " 'see',\n",
    " 'seem',\n",
    " 'sell',\n",
    " 'send',\n",
    " 'set',\n",
    " 'settle',\n",
    " 'show',\n",
    " 'shrink',\n",
    " 'shut',\n",
    " 'sign',\n",
    " 'signify',\n",
    " 'sing',\n",
    " 'sink',\n",
    " 'sir',\n",
    " 'sit',\n",
    " 'sneeze',\n",
    " 'sound',\n",
    " 'speak',\n",
    " 'spell',\n",
    " 'squeeze',\n",
    " 'stairs',\n",
    " 'stand',\n",
    " 'stay',\n",
    " 'stoop',\n",
    " 'stop',\n",
    " 'sugar',\n",
    " 'suit',\n",
    " 'suppose',\n",
    " 'swallow',\n",
    " 'sweet',\n",
    " 'swim',\n",
    " 'take',\n",
    " 'talk',\n",
    " 'taste',\n",
    " 'tell',\n",
    " 'think',\n",
    " 'thoroughly',\n",
    " 'throw',\n",
    " 'thump',\n",
    " 'till',\n",
    " 'touch',\n",
    " 'treacle',\n",
    " 'tremble',\n",
    " 'trot',\n",
    " 'try',\n",
    " 'turn',\n",
    " 'twice',\n",
    " 'twist',\n",
    " 'uglify',\n",
    " 'understand',\n",
    " 'undo',\n",
    " 'untwist',\n",
    " 'use',\n",
    " 'wag',\n",
    " 'walk',\n",
    " 'want',\n",
    " 'wash',\n",
    " 'watch',\n",
    " 'whisper',\n",
    " 'whistle',\n",
    " 'win',\n",
    " 'wink',\n",
    " 'wish',\n",
    " 'wonder',\n",
    " 'work',\n",
    " 'worry',\n",
    " 'write'}\n",
    "\n",
    "## correct language named entities\n",
    "\n",
    "correct_lang_entities = {'english', 'french'}\n",
    "\n",
    "correct_lang_entities_notprocessed = {'english', 'french'}\n",
    "\n",
    "## Correct plural common nouns\n",
    "\n",
    "correct_nns_pos = {\n",
    " \"'boots\",\n",
    " \"'creatures\",\n",
    " \"'crumbs\",\n",
    " \"'explanations\",\n",
    " \"'flamingoes\",\n",
    " \"'seals\",\n",
    " \"'soles\",\n",
    " 'accounts',\n",
    " 'adventures',\n",
    " 'afterwards',\n",
    " 'animals',\n",
    " 'answers',\n",
    " 'apples',\n",
    " 'arches',\n",
    " 'arguments',\n",
    " 'arms',\n",
    " 'attempts',\n",
    " 'attends',\n",
    " 'axes',\n",
    " 'backs',\n",
    " 'balls',\n",
    " 'banks',\n",
    " 'bats',\n",
    " 'beasts',\n",
    " 'beds',\n",
    " 'bells',\n",
    " 'besides',\n",
    " 'birds',\n",
    " 'blades',\n",
    " 'blasts',\n",
    " 'blows',\n",
    " 'bones',\n",
    " 'books',\n",
    " 'boots',\n",
    " 'branches',\n",
    " 'buttons',\n",
    " 'cakes',\n",
    " 'cards',\n",
    " 'cares',\n",
    " 'cartwheels',\n",
    " 'cats',\n",
    " 'cattle',\n",
    " 'chains',\n",
    " 'changes',\n",
    " 'charges',\n",
    " 'children',\n",
    " 'chimneys',\n",
    " 'clubs',\n",
    " 'comfits',\n",
    " 'conversations',\n",
    " 'corners',\n",
    " 'couples',\n",
    " 'courtiers',\n",
    " 'creatures',\n",
    " 'cries',\n",
    " 'croquet',\n",
    " 'crumbs',\n",
    " 'cupboards',\n",
    " 'curls',\n",
    " 'currants',\n",
    " 'dainties',\n",
    " 'daisies',\n",
    " 'dates',\n",
    " 'days',\n",
    " 'dears',\n",
    " 'desks',\n",
    " 'diamonds',\n",
    " 'difficulties',\n",
    " 'directions',\n",
    " 'dishes',\n",
    " 'dogs',\n",
    " 'doors',\n",
    " 'downwards',\n",
    " 'ears',\n",
    " 'eats',\n",
    " 'editions',\n",
    " 'educations',\n",
    " 'eels',\n",
    " 'eggs',\n",
    " 'elbows',\n",
    " 'executions',\n",
    " 'extras',\n",
    " 'eyelids',\n",
    " 'eyes',\n",
    " 'feathers',\n",
    " 'feelings',\n",
    " 'feet',\n",
    " 'ferrets',\n",
    " 'figures',\n",
    " 'fishes',\n",
    " 'fits',\n",
    " 'flamingoes',\n",
    " 'flappers',\n",
    " 'flowers',\n",
    " 'footmen',\n",
    " 'footsteps',\n",
    " 'forwards',\n",
    " 'fountains',\n",
    " 'frames',\n",
    " 'friends',\n",
    " 'furrows',\n",
    " 'gallons',\n",
    " 'games',\n",
    " 'gardeners',\n",
    " 'girls',\n",
    " 'gloves',\n",
    " 'grins',\n",
    " 'guests',\n",
    " 'hands',\n",
    " 'hatters',\n",
    " 'heads',\n",
    " 'hearts',\n",
    " 'hedgehogs',\n",
    " 'hedges',\n",
    " 'heels',\n",
    " 'hers',\n",
    " 'histories',\n",
    " 'hours',\n",
    " 'houses',\n",
    " 'inches',\n",
    " 'inwards',\n",
    " 'irons',\n",
    " 'jaws',\n",
    " 'joys',\n",
    " 'jurors',\n",
    " 'jurymen',\n",
    " 'knuckles',\n",
    " 'lamps',\n",
    " 'leaders',\n",
    " 'leaves',\n",
    " 'legs',\n",
    " 'lessons',\n",
    " 'letters',\n",
    " 'limbs',\n",
    " 'lines',\n",
    " 'lips',\n",
    " 'listeners',\n",
    " 'lives',\n",
    " 'lobsters',\n",
    " 'locks',\n",
    " 'machines',\n",
    " 'mallets',\n",
    " 'manners',\n",
    " 'maps',\n",
    " 'matters',\n",
    " 'men',\n",
    " 'messages',\n",
    " 'mice',\n",
    " 'miles',\n",
    " 'minutes',\n",
    " 'morals',\n",
    " 'mouths',\n",
    " 'names',\n",
    " 'newspapers',\n",
    " 'noises',\n",
    " 'officers',\n",
    " 'ones',\n",
    " 'onions',\n",
    " 'others',\n",
    " 'pairs',\n",
    " 'partners',\n",
    " 'parts',\n",
    " 'pebbles',\n",
    " 'pencils',\n",
    " 'people',\n",
    " 'pictures',\n",
    " 'pieces',\n",
    " 'pigs',\n",
    " 'places',\n",
    " 'plates',\n",
    " 'players',\n",
    " 'pounds',\n",
    " 'presents',\n",
    " 'pretexts',\n",
    " 'prizes',\n",
    " 'processions',\n",
    " 'questions',\n",
    " 'rabbits',\n",
    " 'rats',\n",
    " 'ravens',\n",
    " 'reasons',\n",
    " 'reeds',\n",
    " 'refreshments',\n",
    " 'remarks',\n",
    " 'remedies',\n",
    " 'riddles',\n",
    " 'ridges',\n",
    " 'ringlets',\n",
    " 'roots',\n",
    " 'roses',\n",
    " 'rules',\n",
    " 'sands',\n",
    " 'saucepans',\n",
    " 'serpents',\n",
    " 'sharks',\n",
    " 'shelves',\n",
    " 'shillings',\n",
    " 'shoes',\n",
    " 'shoulders',\n",
    " 'sides',\n",
    " 'singers',\n",
    " 'sisters',\n",
    " 'sizes',\n",
    " 'slates',\n",
    " 'soldiers',\n",
    " 'sorrows',\n",
    " 'sorts',\n",
    " 'sounds',\n",
    " 'spades',\n",
    " 'spectacles',\n",
    " 'stairs',\n",
    " 'sticks',\n",
    " 'stockings',\n",
    " 'strings',\n",
    " 'subjects',\n",
    " 'tails',\n",
    " 'tales',\n",
    " 'tarts',\n",
    " 'tastes',\n",
    " 'teacups',\n",
    " 'tears',\n",
    " 'teeth',\n",
    " 'telescopes',\n",
    " 'terms',\n",
    " 'theirs',\n",
    " 'things',\n",
    " 'thoughts',\n",
    " 'times',\n",
    " 'toes',\n",
    " 'tones',\n",
    " 'tops',\n",
    " 'towards',\n",
    " 'traps',\n",
    " 'trees',\n",
    " 'trials',\n",
    " 'turns',\n",
    " 'turtles',\n",
    " 'upstairs',\n",
    " 'variations',\n",
    " 'verses',\n",
    " 'voices',\n",
    " 'waters',\n",
    " 'ways',\n",
    " 'weeks',\n",
    " 'whiles',\n",
    " 'whiskers',\n",
    " 'whispers',\n",
    " 'wings',\n",
    " 'wits',\n",
    " 'words',\n",
    " 'works',\n",
    " 'yards',\n",
    " 'years'}\n",
    "\n",
    "correct_person_lemm = {'ada',\n",
    " 'alice',\n",
    " 'ann',\n",
    " 'atheling',\n",
    " 'beau',\n",
    " 'bill',\n",
    " 'brandy',\n",
    " 'carroll',\n",
    " 'cheshire',\n",
    " 'conqueror',\n",
    " 'dinn',\n",
    " 'dodo',\n",
    " 'dormouse',\n",
    " 'eaglet',\n",
    " 'edgar',\n",
    " 'edwin',\n",
    " 'gryphon',\n",
    " 'hatter',\n",
    " 'herald',\n",
    " 'hjckrrh',\n",
    " 'jack',\n",
    " 'lacie',\n",
    " 'lewis',\n",
    " 'lory',\n",
    " \"ma'am\",\n",
    " 'mabel',\n",
    " 'magpie',\n",
    " 'mary',\n",
    " 'mercia',\n",
    " 'morcar',\n",
    " 'mouse',\n",
    " 'northumbria',\n",
    " 'pepper',\n",
    " 'pigeon',\n",
    " 'queen',\n",
    " 'rabbit',\n",
    " 'shakespeare',\n",
    " 'tortoise',\n",
    " 'turtle',\n",
    " 'twinkle', 'william'}\n",
    "\n",
    "correct_org_lemm = {\n",
    " 'cheshire',\n",
    " 'court',\n",
    " 'dodo',\n",
    " 'dormouse',\n",
    " 'duchess',\n",
    " 'grammar',\n",
    " 'gryphon',\n",
    " 'hare',\n",
    " 'hatter',\n",
    " 'hearthrug',\n",
    " 'latin',\n",
    " 'mouse',\n",
    " 'pigeon',\n",
    " 'quadrille',\n",
    " 'queen',\n",
    " 'rabbit',\n",
    " 'turtle'}\n",
    "\n",
    "correct_date_lemm = {\n",
    "\n",
    " 'day',\n",
    "\n",
    " 'march',\n",
    " 'may',\n",
    " 'minute',\n",
    "\n",
    "\n",
    " 'summer',\n",
    "\n",
    " 'today',\n",
    " 'tomorrow',\n",
    "\n",
    " 'week',\n",
    "  'yesterday'}"
   ]
  },
  {
   "cell_type": "code",
   "execution_count": null,
   "metadata": {
    "collapsed": true
   },
   "outputs": [],
   "source": []
  }
 ],
 "metadata": {
  "anaconda-cloud": {},
  "kernelspec": {
   "display_name": "Python [conda env:nlp]",
   "language": "python",
   "name": "conda-env-nlp-py"
  },
  "language_info": {
   "codemirror_mode": {
    "name": "ipython",
    "version": 3
   },
   "file_extension": ".py",
   "mimetype": "text/x-python",
   "name": "python",
   "nbconvert_exporter": "python",
   "pygments_lexer": "ipython3",
   "version": "3.5.2"
  }
 },
 "nbformat": 4,
 "nbformat_minor": 0
}
