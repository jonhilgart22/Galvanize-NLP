{
 "cells": [
  {
   "cell_type": "markdown",
   "metadata": {
    "slideshow": {
     "slide_type": "slide"
    }
   },
   "source": [
    "Even more regex\n",
    "-----\n",
    "\n",
    "![](images/face_tat.png)"
   ]
  },
  {
   "cell_type": "markdown",
   "metadata": {
    "slideshow": {
     "slide_type": "slide"
    }
   },
   "source": [
    "By The End Of This Session You Should Be Able To:\n",
    "----\n",
    "\n",
    "- Use qualifiers to add optional elements\n",
    "- Describe a regex workflow and how to think about debugging\n",
    "- Use capturing groups to post-process your matches"
   ]
  },
  {
   "cell_type": "markdown",
   "metadata": {
    "slideshow": {
     "slide_type": "slide"
    }
   },
   "source": [
    "Matching phone numbers\n",
    "----\n",
    "\n",
    "![](https://s3-media4.fl.yelpcdn.com/bphoto/DBdoasm-ehGN5vm2r0qEEg/180s.jpg)\n",
    "\n",
    "g cafe phone number: 415-805-1888"
   ]
  },
  {
   "cell_type": "markdown",
   "metadata": {
    "slideshow": {
     "slide_type": "fragment"
    }
   },
   "source": [
    "Match it:\n",
    "`[0-9][0-9][0-9]-[0-9][0-9][0-9]-[0-9][0-9][0-9][0-9]`  \n",
    "`\\d\\d\\d-\\d\\d\\d-\\d\\d\\d\\d`  \n",
    "`\\d{3}-\\d{3}-\\d{4}`  \n",
    "\n",
    "[Test it](http://regexr.com/)"
   ]
  },
  {
   "cell_type": "markdown",
   "metadata": {
    "slideshow": {
     "slide_type": "slide"
    }
   },
   "source": [
    "Great!\n",
    "\n",
    "`\\d{3}-\\d{3}-\\d{4}` uses Quantifiers.\n",
    "\n",
    "Quantifiers: allow you to specify how many times the preceding expression should match.\n",
    "    \n",
    "{} is extact quantifier."
   ]
  },
  {
   "cell_type": "markdown",
   "metadata": {
    "slideshow": {
     "slide_type": "slide"
    }
   },
   "source": [
    "Unextact quantifiers\n",
    "-----\n",
    "\n",
    "| Symbol | Matches |  \n",
    "|:-------:|:------:|\n",
    "| question mark (?) | zero or one |\n",
    "| the asterisk (*) | zero or more |\n",
    "| plus sign (+) | one or more |  "
   ]
  },
  {
   "cell_type": "markdown",
   "metadata": {
    "slideshow": {
     "slide_type": "slide"
    }
   },
   "source": [
    "`z?a` # zero or one\n",
    "\n",
    "chunk: za, a   \n",
    "chink: z, zzza\n",
    "\n",
    "`z*a` # zero or more\n",
    "\n",
    "chunk: za, a, zzza   \n",
    "chink: z\n",
    "\n",
    "`z+a` # one or more\n",
    "    \n",
    "chunk: za, zzza   \n",
    "chink: z, a\n",
    "\n",
    "[Test it](http://regexr.com/)"
   ]
  },
  {
   "cell_type": "markdown",
   "metadata": {
    "slideshow": {
     "slide_type": "slide"
    }
   },
   "source": [
    "RegEx Workflow\n",
    "-----\n",
    "\n",
    "- Start with raw text\n",
    "- Filter with pattern\n",
    "- Return capturing groups\n",
    "- Reformat based on capturing groups\n",
    "- Test with unit tests"
   ]
  },
  {
   "cell_type": "markdown",
   "metadata": {
    "collapsed": true,
    "slideshow": {
     "slide_type": "slide"
    }
   },
   "source": [
    "-----\n",
    "Capturing groups\n",
    "-----\n",
    "\n",
    "Problem: You have odd line breaks in your text."
   ]
  },
  {
   "cell_type": "code",
   "execution_count": 2,
   "metadata": {
    "collapsed": false,
    "slideshow": {
     "slide_type": "fragment"
    }
   },
   "outputs": [
    {
     "name": "stdout",
     "output_type": "stream",
     "text": [
      "Long-\n",
      "term problems with short-\n",
      "term solutions.\n"
     ]
    }
   ],
   "source": [
    "text = 'Long-\\nterm problems with short-\\nterm solutions.'\n",
    "print(text)"
   ]
  },
  {
   "cell_type": "markdown",
   "metadata": {
    "slideshow": {
     "slide_type": "fragment"
    }
   },
   "source": [
    "Solution: Write a regex to find the \"dash with line break\" and replace it with just a line break."
   ]
  },
  {
   "cell_type": "code",
   "execution_count": 3,
   "metadata": {
    "collapsed": true,
    "slideshow": {
     "slide_type": "slide"
    }
   },
   "outputs": [],
   "source": [
    "import re"
   ]
  },
  {
   "cell_type": "code",
   "execution_count": 4,
   "metadata": {
    "collapsed": false,
    "slideshow": {
     "slide_type": "fragment"
    }
   },
   "outputs": [
    {
     "data": {
      "text/plain": [
       "'- problems with - solutions.'"
      ]
     },
     "execution_count": 4,
     "metadata": {},
     "output_type": "execute_result"
    }
   ],
   "source": [
    "# 1st Attempt\n",
    "text = 'Long-\\nterm problems with short-\\nterm solutions.'\n",
    "re.sub('(\\w+)-\\n(\\w+)', r'-', text)"
   ]
  },
  {
   "cell_type": "markdown",
   "metadata": {
    "slideshow": {
     "slide_type": "fragment"
    }
   },
   "source": [
    "Not right!\n",
    "\n",
    "We need capturing groups!\n",
    "\n",
    "Caputuring groups allow you to apply regex operators to the groups that have been matched by regex."
   ]
  },
  {
   "cell_type": "markdown",
   "metadata": {
    "slideshow": {
     "slide_type": "fragment"
    }
   },
   "source": [
    "For for example, if you wanted to list all the image files in a folder. You could then use a pattern such as `^(IMG\\d+\\.png)$` to capture and extract the full filename, but if you only wanted to capture the filename without the extension, you could use the pattern `^(IMG\\d+)\\.png$` which only captures the part before the period."
   ]
  },
  {
   "cell_type": "code",
   "execution_count": 5,
   "metadata": {
    "collapsed": false,
    "slideshow": {
     "slide_type": "slide"
    }
   },
   "outputs": [
    {
     "data": {
      "text/plain": [
       "'Long-term problems with short-term solutions.'"
      ]
     },
     "execution_count": 5,
     "metadata": {},
     "output_type": "execute_result"
    }
   ],
   "source": [
    "re.sub('(\\w+)-\\n(\\w+)', r'\\1-\\2', text)"
   ]
  },
  {
   "cell_type": "markdown",
   "metadata": {
    "collapsed": true,
    "slideshow": {
     "slide_type": "fragment"
    }
   },
   "source": [
    "The parentheses around the word characters (specified by \\w) means that any matching text should be captured into a group.  \n",
    "\n",
    "The '\\1' and '\\2' specifiers refer to the text in the first and second captured groups.  \n",
    "\n",
    "\"Long\" and \"term\" are the first and second captured groups for the first match.  \n",
    "\"short\" and \"term\" are the first and second captured groups for the next match."
   ]
  },
  {
   "cell_type": "markdown",
   "metadata": {
    "collapsed": true,
    "slideshow": {
     "slide_type": "fragment"
    }
   },
   "source": [
    "__NOTE: 1-based indexing__"
   ]
  },
  {
   "cell_type": "markdown",
   "metadata": {
    "slideshow": {
     "slide_type": "slide"
    }
   },
   "source": [
    "Summary\n",
    "-----\n",
    "\n",
    "- Think through your problem with a workflow so you can isolate where bugs are\n",
    "    - Start with raw text\n",
    "    - Filter with pattern\n",
    "    - Return capturing groups\n",
    "    - Reformat based on capturing groups\n",
    "    - Test with unit tests\n",
    "- Manipulate the results of your regex matches with capturing groups"
   ]
  },
  {
   "cell_type": "markdown",
   "metadata": {
    "slideshow": {
     "slide_type": "slide"
    }
   },
   "source": [
    "<br>\n",
    "<br> \n",
    "<br>\n",
    "\n",
    "----"
   ]
  }
 ],
 "metadata": {
  "celltoolbar": "Slideshow",
  "kernelspec": {
   "display_name": "Python 3",
   "language": "python",
   "name": "python3"
  },
  "language_info": {
   "codemirror_mode": {
    "name": "ipython",
    "version": 3
   },
   "file_extension": ".py",
   "mimetype": "text/x-python",
   "name": "python",
   "nbconvert_exporter": "python",
   "pygments_lexer": "ipython3",
   "version": "3.5.2"
  }
 },
 "nbformat": 4,
 "nbformat_minor": 1
}
