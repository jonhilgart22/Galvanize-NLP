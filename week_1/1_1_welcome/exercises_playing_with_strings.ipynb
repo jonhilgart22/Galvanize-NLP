{
 "cells": [
  {
   "cell_type": "markdown",
   "metadata": {},
   "source": [
    "# Python Koans: About Strings"
   ]
  },
  {
   "cell_type": "markdown",
   "metadata": {},
   "source": [
    "[Python koans](https://github.com/gregmalcolm/python_koans) in an IPython notebook.\n",
    "\n",
    "HT to @[jhamrick](https://github.com/jhamrick)"
   ]
  },
  {
   "cell_type": "markdown",
   "metadata": {},
   "source": [
    "## Varieties of quote characters"
   ]
  },
  {
   "cell_type": "code",
   "execution_count": 2,
   "metadata": {
    "collapsed": false
   },
   "outputs": [],
   "source": [
    "# replace the __ with an equality operator (like == or !=)\n",
    "string = \"Hello, world.\"\n",
    "assert type(string) __ str"
   ]
  },
  {
   "cell_type": "code",
   "execution_count": null,
   "metadata": {
    "collapsed": false
   },
   "outputs": [],
   "source": [
    "# replace the __ with an equality operator (like == or !=)\n",
    "string1 = 'Goodbye, world.'\n",
    "string2 = \"Goodbye, world.\"\n",
    "assert string1 __ string2"
   ]
  },
  {
   "cell_type": "code",
   "execution_count": null,
   "metadata": {
    "collapsed": false
   },
   "outputs": [],
   "source": [
    "# fix the syntax error\n",
    "print \"Goodbye, world.'"
   ]
  },
  {
   "cell_type": "code",
   "execution_count": null,
   "metadata": {
    "collapsed": false
   },
   "outputs": [],
   "source": [
    "# fix the syntax error\n",
    "print 'Goodbye, world.\""
   ]
  },
  {
   "cell_type": "code",
   "execution_count": null,
   "metadata": {
    "collapsed": false
   },
   "outputs": [],
   "source": [
    "# replace the __ with an equality operator (like == or !=)\n",
    "string1 = \"\"\"Howdy, world!\"\"\"\n",
    "string2 = 'Howdy, world!'\n",
    "assert string1 __ string2"
   ]
  },
  {
   "cell_type": "code",
   "execution_count": null,
   "metadata": {
    "collapsed": false
   },
   "outputs": [],
   "source": [
    "# fix the syntax error\n",
    "print \"\"\"Howdy, world!\"\"\"\n",
    "print \"\"Howdy, world!\"\"\n",
    "print \"Howdy, world!\""
   ]
  },
  {
   "cell_type": "code",
   "execution_count": null,
   "metadata": {
    "collapsed": false
   },
   "outputs": [],
   "source": [
    "# replace the __ with an equality operator (like == or !=)\n",
    "string = '''Bonjour tout le monde!'''\n",
    "string = \"Bonjour tout le monde!\"\n",
    "assert string1 __ string2"
   ]
  },
  {
   "cell_type": "code",
   "execution_count": null,
   "metadata": {
    "collapsed": false
   },
   "outputs": [],
   "source": [
    "# fix the syntax error\n",
    "print '''Bonjour tout le monde!'''\n",
    "print ''Bonjour tout le monde!''\n",
    "print 'Bonjour tout le monde!'"
   ]
  },
  {
   "cell_type": "code",
   "execution_count": null,
   "metadata": {
    "collapsed": false
   },
   "outputs": [],
   "source": [
    "# fix the syntax error\n",
    "print '''Bonjour tout le monde!\"\"\""
   ]
  },
  {
   "cell_type": "code",
   "execution_count": null,
   "metadata": {
    "collapsed": false
   },
   "outputs": [],
   "source": [
    "# replace the __ with an equality operator (like == or !=)\n",
    "string = r\"Konnichi wa, world!\"\n",
    "string = \"Konnichi wa, world!\"\n",
    "assert string1 __ string2"
   ]
  },
  {
   "cell_type": "markdown",
   "metadata": {},
   "source": [
    "## Escaping quote characters"
   ]
  },
  {
   "cell_type": "code",
   "execution_count": null,
   "metadata": {
    "collapsed": false
   },
   "outputs": [],
   "source": [
    "# replace the __ with an equality operator (like == or !=)\n",
    "a = \"He said, \\\"Don't\\\"\"\n",
    "b = 'He said, \"Don\\'t\"'\n",
    "assert a __ b"
   ]
  },
  {
   "cell_type": "code",
   "execution_count": null,
   "metadata": {
    "collapsed": false
   },
   "outputs": [],
   "source": [
    "# replace the __ with an equality operator (like == or !=)\n",
    "a = \"He said, \\\"Don't\\\"\"\n",
    "b = 'He said, \\'Don\"t\\''\n",
    "assert a __ b"
   ]
  },
  {
   "cell_type": "code",
   "execution_count": null,
   "metadata": {
    "collapsed": false
   },
   "outputs": [],
   "source": [
    "# replace the __ with an equality operator (like == or !=)\n",
    "a = \"He said, 'Don\\\"t'\"\n",
    "b = 'He said, \"Don\\'t\"'\n",
    "assert a __ b"
   ]
  },
  {
   "cell_type": "code",
   "execution_count": null,
   "metadata": {
    "collapsed": false
   },
   "outputs": [],
   "source": [
    "# fix the syntax error\n",
    "print \"He said, \"Go Away.\"\""
   ]
  },
  {
   "cell_type": "code",
   "execution_count": null,
   "metadata": {
    "collapsed": false
   },
   "outputs": [],
   "source": [
    "# fix the syntax error\n",
    "print 'He said, 'Go Away.''"
   ]
  },
  {
   "cell_type": "code",
   "execution_count": null,
   "metadata": {
    "collapsed": false
   },
   "outputs": [],
   "source": [
    "# fix the syntax error\n",
    "print 'He said, \"Don't\"'"
   ]
  },
  {
   "cell_type": "code",
   "execution_count": null,
   "metadata": {
    "collapsed": false
   },
   "outputs": [],
   "source": [
    "# replace the __ with an equality operator (like == or !=)\n",
    "a = \"Hello \\\"world\\\".\"\n",
    "b = \"\"\"Hello \"world\".\"\"\"\n",
    "assert a __ b"
   ]
  },
  {
   "cell_type": "code",
   "execution_count": null,
   "metadata": {
    "collapsed": false
   },
   "outputs": [],
   "source": [
    "# fix the syntax error (hint: escape one of the quotes)\n",
    "print \"\"\"Hello \"world\"\"\"\""
   ]
  },
  {
   "cell_type": "markdown",
   "metadata": {},
   "source": [
    "## Escape characters and newlines"
   ]
  },
  {
   "cell_type": "code",
   "execution_count": null,
   "metadata": {
    "collapsed": false
   },
   "outputs": [],
   "source": [
    "# replace __ with the length of the string\n",
    "string = \"\\n\"\n",
    "assert '\\n' == string\n",
    "assert \"\"\"\\n\"\"\" == string\n",
    "assert __ == len(string)"
   ]
  },
  {
   "cell_type": "code",
   "execution_count": null,
   "metadata": {
    "collapsed": false
   },
   "outputs": [],
   "source": [
    "# replace __ with the length of the string\n",
    "string = \"\\t\"\n",
    "assert '\\t' == string\n",
    "assert \"\"\"\\t\"\"\" == string\n",
    "assert __ == len(string)"
   ]
  },
  {
   "cell_type": "code",
   "execution_count": null,
   "metadata": {
    "collapsed": false
   },
   "outputs": [],
   "source": [
    "# replace __ with the length of the string\n",
    "string = \"\\m\"\n",
    "assert '\\m' == string\n",
    "assert \"\"\"\\m\"\"\" == string\n",
    "assert __ == len(string)"
   ]
  },
  {
   "cell_type": "code",
   "execution_count": null,
   "metadata": {
    "collapsed": false
   },
   "outputs": [],
   "source": [
    "# replace the __ with an equality operator (like == or !=)\n",
    "string1 = \"It was the best of times,\\n\\\n",
    "It was the worst of times.\"\n",
    "string2 = \"\"\"It was the best of times,\n",
    "It was the worst of times.\"\"\"\n",
    "assert string1 __ string2"
   ]
  },
  {
   "cell_type": "code",
   "execution_count": null,
   "metadata": {
    "collapsed": false
   },
   "outputs": [],
   "source": [
    "# replace the __ with an equality operator (like == or !=)\n",
    "string1 = \"It was the best of times,\\n\\\n",
    "It was the worst of times.\"\n",
    "string2 = \"It was the best of times, It was the worst of times.\"\n",
    "assert string1 __ string2"
   ]
  },
  {
   "cell_type": "code",
   "execution_count": null,
   "metadata": {
    "collapsed": false
   },
   "outputs": [],
   "source": [
    "# fix string1 or string2 so the test passes\n",
    "string1 = \"It was the best of times,\\\n",
    "It was the worst of times.\"\n",
    "string2 = \"It was the best of times, It was the worst of times.\"\n",
    "assert string1 == string2"
   ]
  },
  {
   "cell_type": "code",
   "execution_count": null,
   "metadata": {
    "collapsed": false
   },
   "outputs": [],
   "source": [
    "# replace the __ with an equality operator (like == or !=)\n",
    "string1 = \"It was the best of times,\\n\\\n",
    "It was the worst of times.\"\n",
    "string2 = \"\"\"It was the best of times,\\n\\\n",
    "It was the worst of times.\"\"\"\n",
    "assert string1 __ string2"
   ]
  },
  {
   "cell_type": "code",
   "execution_count": null,
   "metadata": {
    "collapsed": false
   },
   "outputs": [],
   "source": [
    "# replace the __ with an equality operator (like == or !=)\n",
    "string1 = \"\\nHowdy,\\nworld!\\n\"\n",
    "string2 = \"\"\"\n",
    "Howdy,\n",
    "world!\n",
    "\"\"\"\n",
    "assert string1 __ string2"
   ]
  },
  {
   "cell_type": "code",
   "execution_count": null,
   "metadata": {
    "collapsed": false
   },
   "outputs": [],
   "source": [
    "# replace the __ with an equality operator (like == or !=)\n",
    "string1 = \"\\n Howdy,\\n world!\\n\"\n",
    "string2 = \"\"\"\n",
    "Howdy,\n",
    "world!\n",
    "\"\"\"\n",
    "assert string1 __ string2"
   ]
  },
  {
   "cell_type": "code",
   "execution_count": null,
   "metadata": {
    "collapsed": false
   },
   "outputs": [],
   "source": [
    "# replace the __ with an equality operator (like == or !=)\n",
    "string1 = \"\\n\\\n",
    "Howdy,\\n\\\n",
    "world!\\n\\\n",
    "\"\n",
    "string2 = \"\"\"\n",
    "Howdy,\n",
    "world!\n",
    "\"\"\"\n",
    "string1 __ string2"
   ]
  },
  {
   "cell_type": "markdown",
   "metadata": {},
   "source": [
    "## Concatenating strings"
   ]
  },
  {
   "cell_type": "code",
   "execution_count": null,
   "metadata": {
    "collapsed": false
   },
   "outputs": [],
   "source": [
    "# replace __ with a string\n",
    "string = \"Hello, \" + \"world\"\n",
    "assert __ == string"
   ]
  },
  {
   "cell_type": "code",
   "execution_count": null,
   "metadata": {
    "collapsed": false
   },
   "outputs": [],
   "source": [
    "# replace __ with a string\n",
    "string = \"Hallo\" \", \" \"Welt\"\n",
    "assert __ == string"
   ]
  },
  {
   "cell_type": "code",
   "execution_count": null,
   "metadata": {
    "collapsed": false
   },
   "outputs": [],
   "source": [
    "# replace __ with strings\n",
    "hi = \"Hello, \"\n",
    "there = \"world\"\n",
    "string = hi + there\n",
    "assert __ == hi\n",
    "assert __ == there\n",
    "assert __ == string"
   ]
  },
  {
   "cell_type": "code",
   "execution_count": null,
   "metadata": {
    "collapsed": false
   },
   "outputs": [],
   "source": [
    "# replace __ with strings\n",
    "hi = \"Hello, \"\n",
    "there = \"world\"\n",
    "hi += there\n",
    "assert __ == hi\n",
    "assert __ == there"
   ]
  },
  {
   "cell_type": "code",
   "execution_count": null,
   "metadata": {
    "collapsed": false
   },
   "outputs": [],
   "source": [
    "# replace __ with strings\n",
    "original = \"Hello, \"\n",
    "hi = original\n",
    "there = \"world\"\n",
    "hi += there\n",
    "assert __ == original\n",
    "assert __ == hi\n",
    "assert __ == there"
   ]
  },
  {
   "cell_type": "markdown",
   "metadata": {},
   "source": [
    "<br>\n",
    "<br> \n",
    "<br>\n",
    "\n",
    "----"
   ]
  }
 ],
 "metadata": {
  "anaconda-cloud": {},
  "kernelspec": {
   "display_name": "Python 3",
   "language": "python",
   "name": "python3"
  },
  "language_info": {
   "codemirror_mode": {
    "name": "ipython",
    "version": 3
   },
   "file_extension": ".py",
   "mimetype": "text/x-python",
   "name": "python",
   "nbconvert_exporter": "python",
   "pygments_lexer": "ipython3",
   "version": "3.5.2"
  }
 },
 "nbformat": 4,
 "nbformat_minor": 0
}
