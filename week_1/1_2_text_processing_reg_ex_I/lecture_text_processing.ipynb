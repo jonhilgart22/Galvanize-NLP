{
 "cells": [
  {
   "cell_type": "markdown",
   "metadata": {
    "slideshow": {
     "slide_type": "slide"
    }
   },
   "source": [
    "----\n",
    "Text Processing\n",
    "=====\n",
    "\n",
    "![](http://ecx.images-amazon.com/images/I/512LDICmVjL._SX311_BO1,204,203,200_.jpg)"
   ]
  },
  {
   "cell_type": "markdown",
   "metadata": {
    "slideshow": {
     "slide_type": "slide"
    }
   },
   "source": [
    "By The End Of This Session You Should Be Able To:\n",
    "----\n",
    "\n",
    "- List the different levels of text processing\n",
    "- Use the Python Standard Library to generate text\n",
    "- Write \"pretty\" classes in Python"
   ]
  },
  {
   "cell_type": "markdown",
   "metadata": {
    "slideshow": {
     "slide_type": "slide"
    }
   },
   "source": [
    "----\n",
    "Text Processing Levels\n",
    "-----\n",
    "\n",
    "1. Character\n",
    "2. Words \n",
    "3. Sentences / multiple words\n",
    "4. Paragraphs / multiple sentences \n",
    "5. Document\n",
    "6. Corpus / multiple documents \n",
    " \n",
    "Source: Taming Text, p 9"
   ]
  },
  {
   "cell_type": "markdown",
   "metadata": {
    "slideshow": {
     "slide_type": "slide"
    }
   },
   "source": [
    "-----\n",
    "Character\n",
    "------\n",
    "\n",
    "- Character encodings\n",
    "- Case (upper and lower)\n",
    "- Punctuation\n",
    "- Numbers "
   ]
  },
  {
   "cell_type": "markdown",
   "metadata": {
    "slideshow": {
     "slide_type": "slide"
    }
   },
   "source": [
    "----\n",
    "Words\n",
    "-----\n",
    "\n",
    "- Word segmentation: dividing text into words. Fairly easy for English and other languages that use whitespace; much harder for languages like Chinese and Japanese.\n",
    "- Stemming: the process of shortening a word to its base or root form.\n",
    "- Abbreviations, acronyms, and spelling. All help understand words."
   ]
  },
  {
   "cell_type": "markdown",
   "metadata": {
    "slideshow": {
     "slide_type": "slide"
    }
   },
   "source": [
    "------\n",
    "Sentences\n",
    "-----\n",
    "\n",
    "- Sentence boundary detection is a well-understood problem in English, but is still not perfect.\n",
    "- Phrase detection. San Francisco and quick red fox are examples of phrases.\n",
    "- Parsing: breaking sentences down into subject-verb and other relation- ships often yields useful information about words and their relation- ships to each other.\n",
    "- Combining the definitions of words and their relationships to each other to determine the meaning of a sentence."
   ]
  },
  {
   "cell_type": "markdown",
   "metadata": {
    "slideshow": {
     "slide_type": "slide"
    }
   },
   "source": [
    "------\n",
    "Paragraphs\n",
    "------\n",
    "\n",
    "At this level, processing becomes more difficult in an effort to find deeper understanding of an author’s intent. \n",
    "\n",
    "For example, algorithms for summarization often require being able to identify which sentences are more important than others."
   ]
  },
  {
   "cell_type": "markdown",
   "metadata": {
    "slideshow": {
     "slide_type": "slide"
    }
   },
   "source": [
    "----\n",
    "Document\n",
    "----\n",
    "\n",
    "Similar to the paragraph level, understanding the meaning of a document often requires knowledge that goes beyond what’s contained in the actual document. \n",
    "\n",
    "Authors often expect readers to have a certain background or possess certain reading skills. "
   ]
  },
  {
   "cell_type": "markdown",
   "metadata": {
    "slideshow": {
     "slide_type": "slide"
    }
   },
   "source": [
    "----\n",
    "Corpus\n",
    "-----\n",
    "\n",
    "At this level, people want to quickly find items of interest as well as group related documents and read summaries of those documents.\n",
    "\n",
    "Applications that can aggregate and organize facts and opinions and find relationships are particularly useful."
   ]
  },
  {
   "cell_type": "markdown",
   "metadata": {
    "collapsed": true,
    "slideshow": {
     "slide_type": "slide"
    }
   },
   "source": [
    "---- \n",
    "Python is \"batteries included\" for text processing\n",
    "-----\n",
    "\n",
    "![](http://abstrusegoose.com/strips/batteries_included.png)"
   ]
  },
  {
   "cell_type": "code",
   "execution_count": 1,
   "metadata": {
    "collapsed": true,
    "slideshow": {
     "slide_type": "slide"
    }
   },
   "outputs": [],
   "source": [
    "from string import *"
   ]
  },
  {
   "cell_type": "code",
   "execution_count": 2,
   "metadata": {
    "collapsed": false,
    "slideshow": {
     "slide_type": "fragment"
    }
   },
   "outputs": [
    {
     "name": "stdout",
     "output_type": "stream",
     "text": [
      "Variable          Type                  Data/Info\n",
      "-------------------------------------------------\n",
      "Formatter         type                  <class 'string.Formatter'>\n",
      "Template          _TemplateMetaclass    <class 'string.Template'>\n",
      "ascii_letters     str                   abcdefghijklmnopqrstuvwxy<...>BCDEFGHIJKLMNOPQRSTUVWXYZ\n",
      "ascii_lowercase   str                   abcdefghijklmnopqrstuvwxyz\n",
      "ascii_uppercase   str                   ABCDEFGHIJKLMNOPQRSTUVWXYZ\n",
      "capwords          function              <function capwords at 0x10250eb70>\n",
      "digits            str                   0123456789\n",
      "hexdigits         str                   0123456789abcdefABCDEF\n",
      "octdigits         str                   01234567\n",
      "printable         str                   0123456789abcdefghijklmno<...>/:;<=>?@[\\]^_`{|}~ \t\\n\r",
      "\u000b",
      "\f",
      "\n",
      "punctuation       str                   !\"#$%&'()*+,-./:;<=>?@[\\]^_`{|}~\n",
      "whitespace        str                    \t\\n\r",
      "\u000b",
      "\f",
      "\n"
     ]
    }
   ],
   "source": [
    "whos"
   ]
  },
  {
   "cell_type": "code",
   "execution_count": 3,
   "metadata": {
    "collapsed": true,
    "slideshow": {
     "slide_type": "slide"
    }
   },
   "outputs": [],
   "source": [
    "phrase_dirty = \"You have to be f*#$ing with me!?\""
   ]
  },
  {
   "cell_type": "code",
   "execution_count": 13,
   "metadata": {
    "collapsed": false,
    "slideshow": {
     "slide_type": "fragment"
    }
   },
   "outputs": [
    {
     "data": {
      "text/plain": [
       "'You Have To Be F*#$ing With Me.'"
      ]
     },
     "execution_count": 13,
     "metadata": {},
     "output_type": "execute_result"
    }
   ],
   "source": [
    "capwords(phrase_dirty)"
   ]
  },
  {
   "cell_type": "markdown",
   "metadata": {
    "slideshow": {
     "slide_type": "slide"
    }
   },
   "source": [
    "Student Activity\n",
    "-----"
   ]
  },
  {
   "cell_type": "code",
   "execution_count": 11,
   "metadata": {
    "collapsed": false,
    "slideshow": {
     "slide_type": "fragment"
    }
   },
   "outputs": [],
   "source": [
    "# TODO: Remove the punctuation from the  phrase\n",
    "phrase_dirty = \"You have to be f*#$ing with me!?\"\n",
    "\n",
    "assert phrase_radio_edit == 'You have to be fing with me'"
   ]
  },
  {
   "cell_type": "code",
   "execution_count": 7,
   "metadata": {
    "collapsed": true,
    "slideshow": {
     "slide_type": "fragment"
    }
   },
   "outputs": [],
   "source": [
    "phrase_radio_edit = \"\".join([c for c in phrase_dirty if c not in punctuation])"
   ]
  },
  {
   "cell_type": "markdown",
   "metadata": {
    "slideshow": {
     "slide_type": "slide"
    }
   },
   "source": [
    "Student Activity\n",
    "-----\n",
    "\n",
    "Let's make a simple password generator function!\n",
    "\n",
    "Your one-liner should return something like this:  \n",
    "'kZmuSUVeVC'   \n",
    "'mGEsuIfl91'  \n",
    "'FEFsWwAgLM'"
   ]
  },
  {
   "cell_type": "code",
   "execution_count": null,
   "metadata": {
    "collapsed": true,
    "slideshow": {
     "slide_type": "fragment"
    }
   },
   "outputs": [],
   "source": [
    "import random\n",
    "import string\n",
    "\n",
    "n = 10\n",
    "random = ''.join((random.choice(string.ascii_letters + string.digits) for n in range(n)))"
   ]
  },
  {
   "cell_type": "markdown",
   "metadata": {
    "slideshow": {
     "slide_type": "slide"
    }
   },
   "source": [
    "----\n",
    "Extending Python with new classes\n",
    "----"
   ]
  },
  {
   "cell_type": "code",
   "execution_count": 39,
   "metadata": {
    "collapsed": true,
    "slideshow": {
     "slide_type": "slide"
    }
   },
   "outputs": [],
   "source": [
    "s = Sentence('\"The time has come,\" the Walrus said,')"
   ]
  },
  {
   "cell_type": "code",
   "execution_count": 40,
   "metadata": {
    "collapsed": false,
    "slideshow": {
     "slide_type": "fragment"
    }
   },
   "outputs": [
    {
     "data": {
      "text/plain": [
       "Sentence('\"The time ha... Walrus said,')"
      ]
     },
     "execution_count": 40,
     "metadata": {},
     "output_type": "execute_result"
    }
   ],
   "source": [
    "s"
   ]
  },
  {
   "cell_type": "code",
   "execution_count": 41,
   "metadata": {
    "collapsed": false,
    "slideshow": {
     "slide_type": "fragment"
    }
   },
   "outputs": [
    {
     "data": {
      "text/plain": [
       "['\"The', 'time', 'has', 'come,\"', 'the', 'Walrus', 'said,']"
      ]
     },
     "execution_count": 41,
     "metadata": {},
     "output_type": "execute_result"
    }
   ],
   "source": [
    "s.words"
   ]
  },
  {
   "cell_type": "code",
   "execution_count": 43,
   "metadata": {
    "collapsed": false,
    "slideshow": {
     "slide_type": "slide"
    }
   },
   "outputs": [],
   "source": [
    "import reprlib\n",
    "\n",
    "class Sentence:\n",
    "    \"A data structure to hold English sentences for simplied processing.\"\n",
    "    def __init__(self, text): \n",
    "        self.text = text\n",
    "        self.words = text.split(\" \")\n",
    "    \n",
    "    def __getitem__(self, index):\n",
    "        return self.words[index] \n",
    "    \n",
    "    def __len__(self):\n",
    "        return len(self.words) \n",
    "    \n",
    "    def __repr__(self):\n",
    "        return 'Sentence({})'.format(reprlib.repr(self.text))"
   ]
  },
  {
   "cell_type": "code",
   "execution_count": null,
   "metadata": {
    "collapsed": true,
    "slideshow": {
     "slide_type": "fragment"
    }
   },
   "outputs": [],
   "source": [
    "s."
   ]
  },
  {
   "cell_type": "code",
   "execution_count": 42,
   "metadata": {
    "collapsed": false,
    "slideshow": {
     "slide_type": "fragment"
    }
   },
   "outputs": [
    {
     "data": {
      "text/plain": [
       "'the'"
      ]
     },
     "execution_count": 42,
     "metadata": {},
     "output_type": "execute_result"
    }
   ],
   "source": [
    "s[4]"
   ]
  },
  {
   "cell_type": "markdown",
   "metadata": {
    "slideshow": {
     "slide_type": "slide"
    }
   },
   "source": [
    "Classes should have:\n",
    "\n",
    "0. Meet spec, aka work correctly\n",
    "1. Docstrings\n",
    "2. Nice representations"
   ]
  },
  {
   "cell_type": "code",
   "execution_count": 44,
   "metadata": {
    "collapsed": true,
    "slideshow": {
     "slide_type": "slide"
    }
   },
   "outputs": [],
   "source": [
    "import textblob"
   ]
  },
  {
   "cell_type": "code",
   "execution_count": 45,
   "metadata": {
    "collapsed": true,
    "slideshow": {
     "slide_type": "fragment"
    }
   },
   "outputs": [],
   "source": [
    "textblob?"
   ]
  },
  {
   "cell_type": "markdown",
   "metadata": {
    "slideshow": {
     "slide_type": "fragment"
    }
   },
   "source": [
    "[RTFM: textblob](https://textblob.readthedocs.io/en/dev/)"
   ]
  },
  {
   "cell_type": "code",
   "execution_count": 53,
   "metadata": {
    "collapsed": false,
    "slideshow": {
     "slide_type": "slide"
    }
   },
   "outputs": [],
   "source": [
    "from textblob import TextBlob\n",
    "\n",
    "text = '''\n",
    "It’s too bad that some of the young people that were killed over the weekend \n",
    "didn’t have guns attached to their [hip], \n",
    "frankly, where bullets could have flown in the opposite direction...\n",
    "'''\n",
    "\n",
    "blob = TextBlob(text)"
   ]
  },
  {
   "cell_type": "code",
   "execution_count": 54,
   "metadata": {
    "collapsed": false,
    "slideshow": {
     "slide_type": "fragment"
    }
   },
   "outputs": [
    {
     "data": {
      "text/plain": [
       "WordList(['It’s', 'too', 'bad', 'that', 'some', 'of', 'the', 'young', 'people', 'that', 'were', 'killed', 'over', 'the', 'weekend', 'didn’t', 'have', 'guns', 'attached', 'to', 'their', 'hip', 'frankly', 'where', 'bullets', 'could', 'have', 'flown', 'in', 'the', 'opposite', 'direction'])"
      ]
     },
     "execution_count": 54,
     "metadata": {},
     "output_type": "execute_result"
    }
   ],
   "source": [
    "blob.words"
   ]
  },
  {
   "cell_type": "code",
   "execution_count": 55,
   "metadata": {
    "collapsed": false,
    "slideshow": {
     "slide_type": "slide"
    }
   },
   "outputs": [
    {
     "data": {
      "text/plain": [
       "defaultdict(int,\n",
       "            {'attached': 1,\n",
       "             'bad': 1,\n",
       "             'bullets': 1,\n",
       "             'could': 1,\n",
       "             'didn’t': 1,\n",
       "             'direction': 1,\n",
       "             'flown': 1,\n",
       "             'frankly': 1,\n",
       "             'guns': 1,\n",
       "             'have': 2,\n",
       "             'hip': 1,\n",
       "             'in': 1,\n",
       "             'it’s': 1,\n",
       "             'killed': 1,\n",
       "             'of': 1,\n",
       "             'opposite': 1,\n",
       "             'over': 1,\n",
       "             'people': 1,\n",
       "             'some': 1,\n",
       "             'that': 2,\n",
       "             'the': 3,\n",
       "             'their': 1,\n",
       "             'to': 1,\n",
       "             'too': 1,\n",
       "             'weekend': 1,\n",
       "             'were': 1,\n",
       "             'where': 1,\n",
       "             'young': 1})"
      ]
     },
     "execution_count": 55,
     "metadata": {},
     "output_type": "execute_result"
    }
   ],
   "source": [
    "blob.word_counts"
   ]
  },
  {
   "cell_type": "code",
   "execution_count": 56,
   "metadata": {
    "collapsed": false,
    "slideshow": {
     "slide_type": "slide"
    }
   },
   "outputs": [
    {
     "data": {
      "text/plain": [
       "Sentiment(polarity=-0.19999999999999996, subjectivity=0.26666666666666666)"
      ]
     },
     "execution_count": 56,
     "metadata": {},
     "output_type": "execute_result"
    }
   ],
   "source": [
    "blob.sentiment"
   ]
  },
  {
   "cell_type": "markdown",
   "metadata": {
    "collapsed": true,
    "slideshow": {
     "slide_type": "slide"
    }
   },
   "source": [
    "Summary\n",
    "-----\n",
    "\n",
    "- Language has many levels. Pick the right level to process and model.\n",
    "- Use the Standard Library. DO IT!\n",
    "- Don't be afraid to create your data structures.\n",
    "- But often people have already created good ones."
   ]
  },
  {
   "cell_type": "markdown",
   "metadata": {
    "slideshow": {
     "slide_type": "slide"
    }
   },
   "source": [
    "<br>\n",
    "<br> \n",
    "<br>\n",
    "\n",
    "----"
   ]
  }
 ],
 "metadata": {
  "celltoolbar": "Slideshow",
  "kernelspec": {
   "display_name": "Python 3",
   "language": "python",
   "name": "python3"
  },
  "language_info": {
   "codemirror_mode": {
    "name": "ipython",
    "version": 3
   },
   "file_extension": ".py",
   "mimetype": "text/x-python",
   "name": "python",
   "nbconvert_exporter": "python",
   "pygments_lexer": "ipython3",
   "version": "3.5.2"
  }
 },
 "nbformat": 4,
 "nbformat_minor": 0
}
