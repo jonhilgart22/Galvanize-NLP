{
 "cells": [
  {
   "cell_type": "markdown",
   "metadata": {},
   "source": [
    "# Regular Expression workbook"
   ]
  },
  {
   "cell_type": "markdown",
   "metadata": {},
   "source": [
    "## By The End of This Workbook You Will Be Able To:\n",
    "- Be able to write basic regex in Python"
   ]
  },
  {
   "cell_type": "markdown",
   "metadata": {},
   "source": [
    "It is important to have a REPL when learning any new programming skill, quick feedback is critical for learning. Here are suggested regex REPLs: <br>\n",
    "[General realtime regex tester](http://regexr.com/) \n",
    "\n",
    "[Python spefic realtime regex tester](http://pythex.org/)"
   ]
  },
  {
   "cell_type": "markdown",
   "metadata": {},
   "source": [
    "\n",
    "<br>\n",
    "<br> \n",
    "<br>\n",
    "\n",
    "----"
   ]
  },
  {
   "cell_type": "markdown",
   "metadata": {},
   "source": [
    "[This is a gentle intro to regex library in Python](https://docs.python.org/2/howto/regex.html). Work your way through it before tackling the problems below"
   ]
  },
  {
   "cell_type": "markdown",
   "metadata": {},
   "source": [
    "## Regex Practice Problems"
   ]
  },
  {
   "cell_type": "code",
   "execution_count": 1,
   "metadata": {
    "collapsed": false
   },
   "outputs": [
    {
     "name": "stdout",
     "output_type": "stream",
     "text": [
      "['woodchuck', 'Woodchuck']\n"
     ]
    }
   ],
   "source": [
    "import re\n",
    "\n",
    "# Basic example of regex in Python\n",
    "pattern = '[wW]oodchuck'\n",
    "string = 'foo woodchuck bar Woodchuck'\n",
    "m = re.findall(pattern, string)\n",
    "print(m)"
   ]
  },
  {
   "cell_type": "code",
   "execution_count": 6,
   "metadata": {
    "collapsed": false
   },
   "outputs": [
    {
     "name": "stdout",
     "output_type": "stream",
     "text": [
      "['G', 'a', 'l', 'v', 'a', 'n', 'i', 'z', 'e', ' ', ' ', 'T', 'e', 'h', 'a', 'm', 'a', ' ', 'S', 't', '.']\n"
     ]
    }
   ],
   "source": [
    "# TODO: Replace the empty string with a regex that finds all the characters that are not digits\n",
    "\n",
    "pattern = '[abcdefghijklmnopqrstuvqxyzABCDEFGHIJKLMNOPQRSTUVWXYZ. ]'\n",
    "string = 'Galvanize 44 Tehama St.'\n",
    "m = re.findall(pattern, string)\n",
    "print(m)\n",
    "assert m == ['G', 'a', 'l', 'v', 'a', 'n', 'i', 'z', 'e', ' ', ' ', 'T', 'e', 'h', 'a', 'm', 'a', ' ', 'S', 't', '.']"
   ]
  },
  {
   "cell_type": "markdown",
   "metadata": {},
   "source": [
    "<details><summary>\n",
    "Click here for a solution.\n",
    "</summary>\n",
    "`\n",
    "pattern = '[^1234567890]'\n",
    "`\n",
    "</details>"
   ]
  },
  {
   "cell_type": "code",
   "execution_count": 10,
   "metadata": {
    "collapsed": false
   },
   "outputs": [
    {
     "name": "stdout",
     "output_type": "stream",
     "text": [
      "['amy@galvanize.com', 'bob@abc.com']\n"
     ]
    }
   ],
   "source": [
    "# TODO: Replace the empty string with a regex that finds emails address\n",
    "\n",
    "pattern = '[\\w\\.-]+@[\\w\\.-]+'\n",
    "string = 'purple amy@galvanize.com, blah monkey bob@abc.com blah dishwasher'\n",
    "m = re.findall(pattern, string)\n",
    "print(m)\n",
    "assert m == ['amy@galvanize.com', 'bob@abc.com']"
   ]
  },
  {
   "cell_type": "markdown",
   "metadata": {},
   "source": [
    "<details><summary>\n",
    "Click here for a solution.\n",
    "</summary>\n",
    "`\n",
    "pattern = '[\\w\\.-]+@[\\w\\.-]+'\n",
    "`\n",
    "</details>"
   ]
  },
  {
   "cell_type": "code",
   "execution_count": 11,
   "metadata": {
    "collapsed": false
   },
   "outputs": [],
   "source": [
    "# TODO: Replace the empty string with a regex that finds emails address and groups them by name and domain\n",
    "\n",
    "pattern = '([\\w\\.-]+)@([\\w\\.-]+)'\n",
    "string = 'purple amy@galvanize.com, blah monkey bob@abc.com blah dishwasher'\n",
    "m = re.findall(pattern, string)\n",
    "assert m == [('amy', 'galvanize.com'), ('bob', 'abc.com')]"
   ]
  },
  {
   "cell_type": "markdown",
   "metadata": {},
   "source": [
    "<details><summary>\n",
    "Click here for a solution.\n",
    "</summary>\n",
    "`\n",
    "pattern = '([\\w\\.-]+)@([\\w\\.-]+)'\n",
    "`\n",
    "</details>"
   ]
  },
  {
   "cell_type": "markdown",
   "metadata": {},
   "source": [
    "### Notes about regex in Python\n",
    "There are several types of `str`\n",
    "\n",
    "`r''` are raw string literals. These tend to be favored when writing regex. <br>\n",
    "`u''` are Unicode strings. These are favored over 8-bit strings. In Python 2 the default str is 8-bit. In Python 3 the default str is Unicode.\n",
    "\n",
    "[More discussion here](http://stackoverflow.com/questions/2081640/what-exactly-do-u-and-r-string-flags-do-in-python-and-what-are-raw-string-l)\n",
    "\n",
    "Don't worry about this too much the class will cover it on \"Text Encoding\" Day."
   ]
  },
  {
   "cell_type": "markdown",
   "metadata": {
    "collapsed": true
   },
   "source": [
    "__Optional__: [Practice with regex golf](https://regex.alf.nu/)"
   ]
  },
  {
   "cell_type": "markdown",
   "metadata": {},
   "source": [
    "---\n",
    "Help with regex for emails\n",
    "---\n",
    "\n",
    "![](http://twiki.org/p/pub/Codev/TWikiPresentation2013x03x07/regex-example.png)"
   ]
  },
  {
   "cell_type": "markdown",
   "metadata": {},
   "source": [
    "<br>\n",
    "<br> \n",
    "<br>\n",
    "\n",
    "----"
   ]
  }
 ],
 "metadata": {
  "kernelspec": {
   "display_name": "Python [nlp]",
   "language": "python",
   "name": "Python [nlp]"
  },
  "language_info": {
   "codemirror_mode": {
    "name": "ipython",
    "version": 3
   },
   "file_extension": ".py",
   "mimetype": "text/x-python",
   "name": "python",
   "nbconvert_exporter": "python",
   "pygments_lexer": "ipython3",
   "version": "3.5.2"
  }
 },
 "nbformat": 4,
 "nbformat_minor": 0
}
