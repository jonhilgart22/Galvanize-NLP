{
 "cells": [
  {
   "cell_type": "markdown",
   "metadata": {
    "slideshow": {
     "slide_type": "slide"
    }
   },
   "source": [
    "![](http://www.nickrobinson.org/wp-content/uploads/2015/05/william_ford_gibson.jpg)"
   ]
  },
  {
   "cell_type": "markdown",
   "metadata": {
    "slideshow": {
     "slide_type": "slide"
    }
   },
   "source": [
    "By The End Of This Session You Should Be Able To:\n",
    "----\n",
    "\n",
    "- Explain how matrices can be extended with tensors\n",
    "- Explain why people are excited about chatbots\n",
    "- Understand how deep learning can impact NLP"
   ]
  },
  {
   "cell_type": "markdown",
   "metadata": {
    "slideshow": {
     "slide_type": "slide"
    }
   },
   "source": [
    "What the hell is a tensor?\n",
    "---\n",
    "\n",
    "A tensor is a n-dimensional array.\n",
    "\n",
    "![](images/tensor_intro.png)"
   ]
  },
  {
   "cell_type": "markdown",
   "metadata": {
    "slideshow": {
     "slide_type": "slide"
    }
   },
   "source": [
    "![](images/tensor_dim.png)\n",
    " \n",
    "![](images/higher_order.png)"
   ]
  },
  {
   "cell_type": "markdown",
   "metadata": {
    "slideshow": {
     "slide_type": "slide"
    }
   },
   "source": [
    "Why tensors?\n",
    "---\n",
    "\n",
    "Tensors can model higher-order relationships. "
   ]
  },
  {
   "cell_type": "markdown",
   "metadata": {
    "slideshow": {
     "slide_type": "slide"
    }
   },
   "source": [
    "![](images/nlp_t.png)\n",
    "\n",
    "If you want to only represent pair-wise relationships (e.g., document-term), then use a matrix. \n",
    "\n",
    "On the other hand, if you want to respresent more complex relationship (e.g., document-term-year-author), then use a tensor\n",
    "\n",
    "[Source](http://www.sandia.gov/~tgkolda/pubs/pubfiles/SAND2006-2079.pdf)"
   ]
  },
  {
   "cell_type": "markdown",
   "metadata": {
    "slideshow": {
     "slide_type": "slide"
    }
   },
   "source": [
    "Collbaration Filtering (with meta-data)\n",
    "------\n",
    "\n",
    "![](images/relationships.png)\n",
    "\n",
    "Users, items and __tags__\n",
    "\n",
    "[Source](http://dl.acm.org/citation.cfm?id=1454017)"
   ]
  },
  {
   "cell_type": "markdown",
   "metadata": {
    "slideshow": {
     "slide_type": "slide"
    }
   },
   "source": [
    "Tensors: The way of the future\n",
    "----\n",
    "\n",
    "The Data Science community is just starting to develop the wide-spread knowledge base, language, and tools to handle tensors.\n",
    " \n",
    "![](http://xarray.pydata.org/en/stable/_images/dataset-diagram-logo.png)\n",
    "\n",
    "http://xarray.pydata.org/en/stable/"
   ]
  },
  {
   "cell_type": "markdown",
   "metadata": {
    "slideshow": {
     "slide_type": "slide"
    }
   },
   "source": [
    "Check for understanding\n",
    "-----\n",
    "\n",
    "What is the difference between an array and tabular data?"
   ]
  },
  {
   "cell_type": "markdown",
   "metadata": {
    "slideshow": {
     "slide_type": "slide"
    }
   },
   "source": [
    "Each array only contains the same types of data.\n",
    "\n",
    "Tabular data can contain mixed types (categorical and numeric)."
   ]
  },
  {
   "cell_type": "markdown",
   "metadata": {
    "slideshow": {
     "slide_type": "slide"
    }
   },
   "source": [
    "Further study\n",
    "---\n",
    "\n",
    "- \"Tensor Methods - A New Paradigm for Training Probabilistic Models, Neural Networks and Reinforcement Learning\"\n",
    "    - https://www.youtube.com/watch?v=YpnlAQTY1Mc\n",
    "    - http://www.slideshare.net/SessionsEvents/animashree-anandkumar-electrical-engineering-and-cs-dept-uc-irvine-at-mlconf-sf-111315\n",
    "- http://www.cs.cmu.edu/~christos/TALKS/SIGMOD-07-tutorial/tensor3.pdf\n",
    "- ftp://ftp.esat.kuleuven.be/pub/SISTA/ida/reports/97-75.pdf\n",
    "- http://www.sandia.gov/~tgkolda/pubs/pubfiles/SAND2007-6702.pdf\n",
    "- http://www.chemometrics.ru/materials/presentations/wsc6/T09.pdf\n",
    "- https://en.wikipedia.org/wiki/Tensor_rank_decomposition"
   ]
  },
  {
   "cell_type": "markdown",
   "metadata": {
    "slideshow": {
     "slide_type": "slide"
    }
   },
   "source": [
    "NL is a great UI\n",
    "---\n",
    "\n",
    "![](http://static.boredpanda.com/blog/wp-content/uploads/2015/11/poor-design-decisions-481__605.jpg)\n",
    "\n",
    "Design is important\n",
    "\n",
    "We use NL every day to communicate with each other. In the future, we'll use it to communicate more and more with computers. It is artificial that we have to type and use screens. UI will evolve to become transparent. NLP will be a force multiplier for that transition\n",
    "\n",
    "As an intermediate step chat interface. It is silly that there are some many apps. I predict in the future. There will be meta-apps. That are AI chatbots that will give you information and do things for you."
   ]
  },
  {
   "cell_type": "markdown",
   "metadata": {
    "slideshow": {
     "slide_type": "slide"
    }
   },
   "source": [
    "Reasons to be bullish on chat at UI \n",
    "-----\n",
    "\n",
    "- Chat is a common interface for many APIs / IoT (the Internet of Things)\n",
    "- Every user interaction is also a survey\n",
    "- UI is testable, while the surface area of a visual interface is almost untestable\n",
    "- The UI is a log file\n",
    "\n",
    "[Chat as UI 1](http://www.wired.com/2015/06/future-ui-design-old-school-text-messages/)  \n",
    "[Chat as UI 2](https://medium.com/@acroll/on-chat-as-interface-92a68d2bf854#.i9rhhfql3)"
   ]
  },
  {
   "cell_type": "markdown",
   "metadata": {
    "slideshow": {
     "slide_type": "slide"
    }
   },
   "source": [
    "NLP algorithms: Application beyond words\n",
    "----\n",
    "\n",
    "NLP has borrowed from other disciplines (Math, Statistics, and Machine Learning). Now it is starting to give back. "
   ]
  },
  {
   "cell_type": "markdown",
   "metadata": {
    "slideshow": {
     "slide_type": "fragment"
    }
   },
   "source": [
    "For example, word2vec is applied to clinical diagnosis. A research could clinical diagnosis notes to find the co-occurrence of disease and symptoms. There is too much medical research for any doctor to up on it all.\n",
    "\n",
    "Casey Stella treated discrete clinical events (i.e. Diagnoses, drugs prescribed, etc.) in a medical dataset as non-textual \"words”. He found that heart disease or hardening of the arteries is associated with \"Personal history of peptic ulcer disease\". Partially due to smokers having a higher than average incidence of peptic ulcers and atherosclerosis. \n",
    "\n",
    "[Using Natural Language Processing on Non-Textual Data with MLLib](https://www.youtube.com/watch?v=rWphXAdcoe0)   \n",
    "[Slides](http://www.slideshare.net/gpano/natural-language-processing-on-nontextual-data)   \n",
    "[Code](https://github.com/cestella/presentations/blob/master/NLP_on_non_textual_data/src/main/ipython/clinical2vec.ipynb)"
   ]
  },
  {
   "cell_type": "markdown",
   "metadata": {
    "collapsed": true,
    "slideshow": {
     "slide_type": "slide"
    }
   },
   "source": [
    "---\n",
    "Deep Learning is eating machine learning\n",
    "----\n",
    "\n",
    "![](images/current_ml.png)\n",
    "\n",
    "![](images/future_ml.png)\n",
    "\n",
    "We spent much of the course learning how to do feature engineering. Deep learning automates much of that process."
   ]
  },
  {
   "cell_type": "markdown",
   "metadata": {
    "slideshow": {
     "slide_type": "slide"
    }
   },
   "source": [
    "New NLP workflow\n",
    "----\n",
    "\n",
    "1. Embed\n",
    "2. Encode\n",
    "3. Attend\n",
    "4. Predict\n",
    "\n",
    "[Source](https://explosion.ai/blog/deep-learning-formula-nlp)\n"
   ]
  },
  {
   "cell_type": "markdown",
   "metadata": {
    "slideshow": {
     "slide_type": "slide"
    }
   },
   "source": [
    "---\n",
    "Types of neural networks\n",
    "---\n",
    "\n",
    "| Abbreviation|  Name | Description |  \n",
    "|:-------:|:------ | :------| \n",
    "| [NN](https://en.wikipedia.org/wiki/Artificial_neural_network) | Neural Network | Restricted Boltzmann with at least 1 hidden layer |\n",
    "| [CNN](https://en.wikipedia.org/wiki/Convolutional_neural_network) | Convolutional Neural Network | Like vision, learns reoccurring features across space |\n",
    "| [RNN](https://en.wikipedia.org/wiki/Recurrent_neural_network)| Recurrent Neural Network| Learns sequences through a type of short-term memory |\n",
    "| [LTSM](https://en.wikipedia.org/wiki/Long_short-term_memory) | Long short-term memory | Like RNN but can learn between long time lags | "
   ]
  },
  {
   "cell_type": "markdown",
   "metadata": {
    "slideshow": {
     "slide_type": "slide"
    }
   },
   "source": [
    "NLP is just Time Series disguise\n",
    "---\n",
    "\n",
    "Recurrent neural networks (RNN) are awesome!\n",
    "\n",
    "<img src=\"images/charseq.jpeg\" style=\"width: 400px;\"/>\n",
    "\n",
    "<img src=\"images/rnn_unit.png\" style=\"width: 400px;\"/>\n",
    "\n",
    "RNN learns sequences, in particular mapping of sequence-to-sequence"
   ]
  },
  {
   "cell_type": "markdown",
   "metadata": {
    "slideshow": {
     "slide_type": "slide"
    }
   },
   "source": [
    "Many challenges can be described as sequence-to-sequence.\n",
    "\n",
    "Examples:\n",
    "\n",
    "- Translation\n",
    "- Image captioning"
   ]
  },
  {
   "cell_type": "markdown",
   "metadata": {
    "slideshow": {
     "slide_type": "slide"
    }
   },
   "source": [
    "Rap Battle with RNNs\n",
    "---\n",
    "\n",
    "<img src=\"http://orig03.deviantart.net/2ae0/f/2013/326/1/c/unit_mmlp2__the_rap_bot_by_frederickwalter-d6v5g7c.jpg\" style=\"width: 400px;\"/>"
   ]
  },
  {
   "cell_type": "markdown",
   "metadata": {
    "slideshow": {
     "slide_type": "slide"
    }
   },
   "source": [
    "| Challenge | Model Response  |  \n",
    "|:-------:|:------:|\n",
    "| picture on the quota its time to roll | ya for a quarter i mind and soul |\n",
    "| thug deep in my soul that got me bugged | love you on the control the drugs |  \n",
    "| nights of 51 jipped be light on this cash | in the concrete mics you right in the ass |\n",
    "| what would i do | just me and you |\n",
    "| we get rid of the child | and the number and a wild |\n",
    "\n",
    "[Source](http://ijcai.org/Proceedings/15/Papers/358.pdf)"
   ]
  },
  {
   "cell_type": "markdown",
   "metadata": {
    "slideshow": {
     "slide_type": "slide"
    }
   },
   "source": [
    "What is the core problem in Deep Learning that needs a solution?\n",
    "-----\n",
    "\n",
    "![](https://cdn-images-1.medium.com/max/600/1*wUZiI2Mg2cncuMWWXIiBgQ.png)\n",
    "\n",
    "How to respresent \"common sense\". Right now the models can learn from data but have no notion of the \"real world\"."
   ]
  },
  {
   "cell_type": "markdown",
   "metadata": {
    "slideshow": {
     "slide_type": "slide"
    }
   },
   "source": [
    "Further study for Deep Learning\n",
    "---\n",
    "- [A Primer on Neural Network Models for Natural Language Processing](http://u.cs.biu.ac.il/~yogo/nnlp.pdf)\n",
    "- [Compositionality with Deep Neural Networks](https://staff.fnwi.uva.nl/e.kanoulas/wp-content/uploads/Lecture-6-2-Compositinality-with-Deep-Neural-Networks.pdf) \n",
    "- [Deep learning for NLP by Standford](http://cs224d.stanford.edu/)\n",
    "- [The Unreasonable Effectiveness of Recurrent Neural Networks](http://karpathy.github.io/2015/05/21/rnn-effectiveness/)\n",
    "- [Richard Socher's talk](https://www.youtube.com/watch?v=oGk1v1jQITw&list=PLrAXtmErZgOfMuxkACrYnD2fTgbzk2THW&index=3)"
   ]
  },
  {
   "cell_type": "markdown",
   "metadata": {
    "slideshow": {
     "slide_type": "slide"
    }
   },
   "source": [
    "Summary\n",
    "---\n",
    "\n",
    "- Tensors extend matrices to n-dimensions\n",
    "- Tensor can the represent more complex relationships\n",
    "- Chatbots are exciting because they are more CS than design\n",
    "- Deep Learning is eating machine learning. __Learn it__"
   ]
  },
  {
   "cell_type": "markdown",
   "metadata": {
    "slideshow": {
     "slide_type": "slide"
    }
   },
   "source": [
    "<br>\n",
    "<br> \n",
    "<br>\n",
    "\n",
    "----"
   ]
  },
  {
   "cell_type": "markdown",
   "metadata": {
    "slideshow": {
     "slide_type": "slide"
    }
   },
   "source": [
    "---\n",
    "RNNs for NLP\n",
    "---\n",
    "\n",
    "![](http://simaaron.github.io/images/RNN_arc_2.png)\n",
    "\n",
    "2 RNNs going into different directions\n",
    "\n",
    "The forward RNN reads the input sequence from start to end, while the backward RNN reads it from end to start. \n",
    "\n",
    "The two RNNs are stacked on top of each others and their states are typically combined by appending the two vectors. \n",
    "\n",
    "![](https://devblogs.nvidia.com/wp-content/uploads/2015/07/Figure2_biRNN.png)\n",
    "\n",
    "Bidirectional RNNs are often used in Natural Language problems, where we want to take the context from both before and after a word into account before making a prediction.\n",
    "\n",
    "\n",
    "---\n",
    "Sources\n",
    "----\n",
    "[Bidirectional Recurrent Neural Networks as Generative Models](https://papers.nips.cc/paper/5651-bidirectional-recurrent-neural-networks-as-generative-models.pdf)\n",
    "- [Implementation in TensorFlow](https://github.com/aymericdamien/TensorFlow-Examples/blob/master/examples/3%20-%20Neural%20Networks/bidirectional_rnn.py)"
   ]
  },
  {
   "cell_type": "markdown",
   "metadata": {
    "slideshow": {
     "slide_type": "slide"
    }
   },
   "source": [
    "<br>\n",
    "<br> \n",
    "<br>\n",
    "\n",
    "----"
   ]
  }
 ],
 "metadata": {
  "celltoolbar": "Slideshow",
  "kernelspec": {
   "display_name": "Python 3",
   "language": "python",
   "name": "python3"
  },
  "language_info": {
   "codemirror_mode": {
    "name": "ipython",
    "version": 3
   },
   "file_extension": ".py",
   "mimetype": "text/x-python",
   "name": "python",
   "nbconvert_exporter": "python",
   "pygments_lexer": "ipython3",
   "version": "3.5.2"
  }
 },
 "nbformat": 4,
 "nbformat_minor": 0
}
