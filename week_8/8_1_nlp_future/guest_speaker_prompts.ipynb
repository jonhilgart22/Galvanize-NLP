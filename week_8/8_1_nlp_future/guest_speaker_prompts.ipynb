{
 "cells": [
  {
   "cell_type": "markdown",
   "metadata": {},
   "source": [
    "---\n",
    "Topics\n",
    "====\n",
    "\n",
    "- Your journey in Natural Language Processing (NLP).\n",
    "- How you learned NLP.\n",
    "- Things you wished you had learned earlier.\n",
    "- Stories from the \"trenches\".\n",
    "- Your favorite Natural Language Processing tool or technique. Why is it important?\n",
    "- What trend is most exciting to you?\n",
    "- The future of Natural Language Processing."
   ]
  },
  {
   "cell_type": "markdown",
   "metadata": {},
   "source": [
    "<br>\n",
    "<br> \n",
    "<br>\n",
    "\n",
    "----"
   ]
  }
 ],
 "metadata": {
  "kernelspec": {
   "display_name": "Python 3",
   "language": "python",
   "name": "python3"
  },
  "language_info": {
   "codemirror_mode": {
    "name": "ipython",
    "version": 3
   },
   "file_extension": ".py",
   "mimetype": "text/x-python",
   "name": "python",
   "nbconvert_exporter": "python",
   "pygments_lexer": "ipython3",
   "version": "3.5.1"
  }
 },
 "nbformat": 4,
 "nbformat_minor": 0
}
