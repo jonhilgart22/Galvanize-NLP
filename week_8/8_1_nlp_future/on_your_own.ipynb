{
 "cells": [
  {
   "cell_type": "markdown",
   "metadata": {},
   "source": [
    "# On Your Own"
   ]
  },
  {
   "cell_type": "markdown",
   "metadata": {},
   "source": [
    "![](images/nlp_cloud.png)"
   ]
  },
  {
   "cell_type": "markdown",
   "metadata": {},
   "source": [
    "1. Write down a list of NLP systems you have recently used.  \n",
    "> For example, Google search uses NLP to process both the query and webpages to return the best answer.\n",
    "\n",
    "2. What is impressive about these systems?\n",
    "\n",
    "3. How did these systems __not__ meet your expectations?\n",
    "\n",
    "4. Why is building NLP systems hard?"
   ]
  }
 ],
 "metadata": {
  "kernelspec": {
   "display_name": "Python 3",
   "language": "python",
   "name": "python3"
  },
  "language_info": {
   "codemirror_mode": {
    "name": "ipython",
    "version": 3
   },
   "file_extension": ".py",
   "mimetype": "text/x-python",
   "name": "python",
   "nbconvert_exporter": "python",
   "pygments_lexer": "ipython3",
   "version": "3.5.1"
  }
 },
 "nbformat": 4,
 "nbformat_minor": 0
}
