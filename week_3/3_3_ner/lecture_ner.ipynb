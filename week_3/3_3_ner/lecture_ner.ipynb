{
 "cells": [
  {
   "cell_type": "markdown",
   "metadata": {
    "slideshow": {
     "slide_type": "slide"
    }
   },
   "source": [
    "---\n",
    "Named Entity Recognition (NER)\n",
    "---\n",
    "\n",
    "![](https://researchkb.files.wordpress.com/2014/02/ner.png)"
   ]
  },
  {
   "cell_type": "markdown",
   "metadata": {
    "slideshow": {
     "slide_type": "slide"
    }
   },
   "source": [
    "> Knowledge worker adds value to information.   \n",
    "> \\- Peter Drucker "
   ]
  },
  {
   "cell_type": "markdown",
   "metadata": {
    "slideshow": {
     "slide_type": "fragment"
    }
   },
   "source": [
    "---\n",
    "\n",
    "> Data Scientist adds value to data.  \n",
    "> \\- Brian Spiering\n"
   ]
  },
  {
   "cell_type": "markdown",
   "metadata": {
    "slideshow": {
     "slide_type": "slide"
    }
   },
   "source": [
    "By The End Of This Session You Should Be Able To:\n",
    "----\n",
    "\n",
    "- Explain how NER builds on POS tagging\n",
    "- Describe conceptually how to train NER\n",
    "- Pick the best system for NER tagging"
   ]
  },
  {
   "cell_type": "markdown",
   "metadata": {
    "slideshow": {
     "slide_type": "slide"
    }
   },
   "source": [
    "---\n",
    "NER Overview\n",
    "---\n",
    "\n",
    "- NER is a \"Strict Type\" system for human language\n"
   ]
  },
  {
   "cell_type": "markdown",
   "metadata": {
    "slideshow": {
     "slide_type": "fragment"
    }
   },
   "source": [
    "\n",
    "- NER is \"easy\" in English "
   ]
  },
  {
   "cell_type": "markdown",
   "metadata": {
    "slideshow": {
     "slide_type": "slide"
    }
   },
   "source": [
    "---\n",
    "Common NE Types\n",
    "---\n",
    "\n",
    "- ORGANIZATION: Georgia-Pacific Corp., WHO\n",
    "- PERSON: Eddy Bonte, President Obama\n",
    "- LOCATION: Murray River, Mount Everest\n",
    "- DATE: June, 2008-06-29\n",
    "- TIME: two fifty a m, 1:30 p.m.\n",
    "- MONEY: 175 million Canadian Dollars, GBP 10.40\n",
    "- PERCENT: twenty pct, 18.75 %\n",
    "- FACILITY: Washington Monument, Stonehenge\n",
    "- GPE (Geo-political entity): South East Asia, Midlothian"
   ]
  },
  {
   "cell_type": "markdown",
   "metadata": {
    "slideshow": {
     "slide_type": "slide"
    }
   },
   "source": [
    "Feel free to define your own\n",
    "-----\n",
    "\n",
    "- PRESIDENT: Trump, Washington, Lincoln\n",
    "- COUNTRY: Thailand\n",
    "- POSITION / JOB_TITLE: Product Manager, Data Scientist\n",
    "- PRODUCT: Apple Watch"
   ]
  },
  {
   "cell_type": "markdown",
   "metadata": {
    "slideshow": {
     "slide_type": "slide"
    }
   },
   "source": [
    "---\n",
    "NER Methods (POS flashback)\n",
    "---\n",
    "\n",
    "1. Rule-based, aka make a dictionary\n",
    "2. Statistical Models, aka using Graphical Models\n",
    "3. Deep Learning, aka what everyone does now"
   ]
  },
  {
   "cell_type": "markdown",
   "metadata": {
    "slideshow": {
     "slide_type": "slide"
    }
   },
   "source": [
    "---\n",
    "1. Rule based\n",
    "----\n",
    "\n",
    "Use a combination of lists and regular expressions to identify named entities. \n",
    "\n",
    "Examples:\n",
    "\n",
    "```python\n",
    "{\"Dick\": PERSON,\n",
    "\"Jane\": PERSON}\n",
    "```"
   ]
  },
  {
   "cell_type": "markdown",
   "metadata": {
    "slideshow": {
     "slide_type": "slide"
    }
   },
   "source": [
    "Gazetteers\n",
    "-----\n",
    "\n",
    "![](images/gazetteer.png)\n",
    "\n",
    "> A gazetteer consists of a set of lists containing names of entities such as cities, organizations, days of the week, etc. These lists are used to find occurrences of these names in text, e.g. for the task of named entity recognition."
   ]
  },
  {
   "cell_type": "markdown",
   "metadata": {
    "slideshow": {
     "slide_type": "slide"
    }
   },
   "source": [
    "Gazetteers\n",
    "-----\n",
    "\n",
    "[How to make a gazetteer](http://www.aclweb.org/anthology/P08-1047)\n",
    "\n",
    "Then use it to train other models\n",
    "\n",
    "![](images/extend)"
   ]
  },
  {
   "cell_type": "markdown",
   "metadata": {
    "slideshow": {
     "slide_type": "slide"
    }
   },
   "source": [
    "Gazetteers\n",
    "-----\n",
    "\n",
    "__Pros__:\n",
    "\n",
    "- Simplest model (that could possible work)\n",
    "- Minimum Viable Solution (MVP)\n",
    "- Works for most cases overall\n",
    "- Performs nicely within specific, well-understood, static domains"
   ]
  },
  {
   "cell_type": "markdown",
   "metadata": {},
   "source": [
    "Gazetteers\n",
    "-----\n",
    "\n",
    "__Cons__:\n",
    "\n",
    "- Deterministic\n",
    "- Brittle\n",
    "- Maintaining the lists is labor intensive\n",
    "- Moving to other languages or domains may involve repeating much of the work.\n",
    "- Many proper nouns are also valid in other ways (such as Will or Hope). \n",
    "- Names of people and places are often the same — Washington (state, D.C., or George) or Cicero (the ancient philosopher, the town in New York, or some other place).Remember - dealing with ambiguity is hard.\n",
    "- Many names are conjunctions of other names, such as the Scottish Exhibition and Conference Center. It’s not always clear where the name ends.\n",
    "- It’s difficult to model dependencies between names across a document using rules based on regular expressions.\n",
    "\n"
   ]
  },
  {
   "cell_type": "markdown",
   "metadata": {
    "slideshow": {
     "slide_type": "slide"
    }
   },
   "source": [
    "---\n",
    "2. Statistical Models\n",
    "---\n",
    "\n",
    "Typically the classifier looks at each word in a sentence and decides whether it’s the start of a named entity, the continuation of an already started entity, or not part of a name at all. By combining these predictions, you can use a classifier to identify a sequence of words that make up a name.\n",
    "\n",
    "- Currently most common\n",
    "- \"Good enough\" for performance and speed\n",
    "- Examples:\n",
    "    - Conditional random fields (CRFs)\n",
    "    - Hidden Markov model (HMM)\n",
    "    - Viterbi"
   ]
  },
  {
   "cell_type": "markdown",
   "metadata": {
    "slideshow": {
     "slide_type": "slide"
    }
   },
   "source": [
    "Statistical Models\n",
    "-----\n",
    "\n",
    "__Pros__\n",
    "\n",
    "- Rule-based methods can be incorporated as features and as such are only one source of information.\n",
    "- Moving to other languages or domains may only involve minimal code changes.\n",
    "- It’s easier to model the context within a sentence and in a document.\n",
    "- The classifier can be retrained to incorporate additional text or other features.\n",
    "- With sufficient amounts of training data, the performance can be near to human quality, even if people are less than perfect at the task of identifying names. \n",
    "- Good NER systems are usually capable of better than 90% of the time in evaluation.\n",
    "\n"
   ]
  },
  {
   "cell_type": "markdown",
   "metadata": {
    "slideshow": {
     "slide_type": "slide"
    }
   },
   "source": [
    "Statistical Models\n",
    "-----\n",
    "\n",
    "__Cons__\n",
    "\n",
    "- The main disadvantage of such approaches is the need for human-annotated data.\n",
    "- Also you may not have enough data"
   ]
  },
  {
   "cell_type": "markdown",
   "metadata": {
    "slideshow": {
     "slide_type": "slide"
    }
   },
   "source": [
    "3. Deep Learning via Recurrent Neural Network (RNN)\n",
    "----\n",
    "\n",
    "![](https://s3.amazonaws.com/poly-screenshots.angel.co/Project/56/200582/51ca1ecf91f8477a4d8f0a796f6c62c4-original.png)"
   ]
  },
  {
   "cell_type": "markdown",
   "metadata": {
    "slideshow": {
     "slide_type": "slide"
    }
   },
   "source": [
    "----\n",
    "High Level Overview\n",
    "---\n",
    "\n",
    "![](images/ie-architecture.png)"
   ]
  },
  {
   "cell_type": "markdown",
   "metadata": {
    "slideshow": {
     "slide_type": "slide"
    }
   },
   "source": [
    "Summary\n",
    "----\n",
    "\n",
    "- NER is more specific version of POS tagging\n",
    "- NER can be done with rules, graphical models, or deep learning"
   ]
  },
  {
   "cell_type": "markdown",
   "metadata": {
    "collapsed": true,
    "slideshow": {
     "slide_type": "slide"
    }
   },
   "source": [
    "<br>\n",
    "<br>\n",
    "----"
   ]
  }
 ],
 "metadata": {
  "anaconda-cloud": {},
  "celltoolbar": "Slideshow",
  "kernelspec": {
   "display_name": "Python 3",
   "language": "python",
   "name": "python3"
  },
  "language_info": {
   "codemirror_mode": {
    "name": "ipython",
    "version": 3
   },
   "file_extension": ".py",
   "mimetype": "text/x-python",
   "name": "python",
   "nbconvert_exporter": "python",
   "pygments_lexer": "ipython3",
   "version": "3.5.2"
  }
 },
 "nbformat": 4,
 "nbformat_minor": 0
}
