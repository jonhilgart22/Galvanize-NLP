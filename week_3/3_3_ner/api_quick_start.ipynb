{
 "cells": [
  {
   "cell_type": "markdown",
   "metadata": {},
   "source": [
    "APIs for Fun and Profit 💰💰💰\n",
    "-----\n",
    "\n",
    "__when I start to use a new api:__\n",
    "![](http://i.imgur.com/MBAGWYB.gif)"
   ]
  },
  {
   "cell_type": "markdown",
   "metadata": {},
   "source": [
    "What is an API?\n",
    "-----\n",
    "\n",
    "Application\n",
    "Programming \n",
    "Interface\n",
    "\n",
    "Helps computers talk to other computers"
   ]
  },
  {
   "cell_type": "markdown",
   "metadata": {},
   "source": [
    "Why API?\n",
    "----\n",
    "\n",
    "Get lots of clean data fast\n",
    "\n",
    "APIs are __way better__ than webscraping"
   ]
  },
  {
   "cell_type": "markdown",
   "metadata": {},
   "source": [
    "API wharehouses\n",
    "---\n",
    "\n",
    "![](https://www.mashape.com//assets/images/logo.png)\n",
    "\n",
    "https://market.mashape.com/\n",
    "\n",
    "And there is [rapidapi.com](https://rapidapi.com/)"
   ]
  },
  {
   "cell_type": "markdown",
   "metadata": {},
   "source": [
    "Query Urban Dictionary API\n",
    "====\n",
    "\n",
    "https://market.mashape.com/community/urban-dictionary"
   ]
  },
  {
   "cell_type": "markdown",
   "metadata": {},
   "source": [
    "Based off [this package](https://github.com/chrisvoncsefalvay/urbanpyctionary)"
   ]
  },
  {
   "cell_type": "code",
   "execution_count": 1,
   "metadata": {
    "collapsed": false
   },
   "outputs": [],
   "source": [
    "try:\n",
    "    from urbanpyctionary.client import Client\n",
    "except ImportError:\n",
    "    import pip\n",
    "    pip.main(['install', 'urbanpyctionary'])"
   ]
  },
  {
   "cell_type": "code",
   "execution_count": 2,
   "metadata": {
    "collapsed": false
   },
   "outputs": [],
   "source": [
    "# Setup API\n",
    "c = Client(API_key=\"Po3yiyifWkmsh1mhsxLrP9TB747Ip1h5Ag1jsnJuE52CcFiZno\") # Signup here: https://www.mashape.com/community/urban-dictionary"
   ]
  },
  {
   "cell_type": "code",
   "execution_count": 4,
   "metadata": {
    "collapsed": false
   },
   "outputs": [],
   "source": [
    "# Get request object for a wrod\n",
    "r = c.get(\"rekt\")"
   ]
  },
  {
   "cell_type": "code",
   "execution_count": 5,
   "metadata": {
    "collapsed": false
   },
   "outputs": [
    {
     "data": {
      "text/plain": [
       "'\"Brian got rekt\"\\r\\n\"Oh my days, Brian got annihilated! #Rekt\"'"
      ]
     },
     "execution_count": 5,
     "metadata": {},
     "output_type": "execute_result"
    }
   ],
   "source": [
    "# Get a sentence\n",
    "r[0].example.replace('Ella', 'Brian')"
   ]
  },
  {
   "cell_type": "code",
   "execution_count": 15,
   "metadata": {
    "collapsed": false
   },
   "outputs": [
    {
     "name": "stdout",
     "output_type": "stream",
     "text": [
      "{   'author': 'jazzylad',\n",
      "    'current_vote': '',\n",
      "    'defid': 8003980,\n",
      "    'definition': 'When someone gets completely destroyed.',\n",
      "    'example': '\"Ella got rekt\"\\r\\n\"Oh my days, Ella got annihilated! #Rekt\"',\n",
      "    'permalink': 'http://rekt.urbanup.com/8003980',\n",
      "    'thumbs_down': 3808,\n",
      "    'thumbs_up': 7531,\n",
      "    'word': 'Rekt'}\n"
     ]
    }
   ],
   "source": [
    "# What else is available?\n",
    "r[0].browse()"
   ]
  },
  {
   "cell_type": "markdown",
   "metadata": {},
   "source": [
    "----\n",
    "What if an API doesn't have Python package?\n",
    "-----"
   ]
  },
  {
   "cell_type": "code",
   "execution_count": 2,
   "metadata": {
    "collapsed": true
   },
   "outputs": [],
   "source": [
    "import requests # Hello old friend!"
   ]
  },
  {
   "cell_type": "code",
   "execution_count": 15,
   "metadata": {
    "collapsed": true
   },
   "outputs": [],
   "source": [
    "url = \"https://mashape-community-urban-dictionary.p.mashape.com/define?term=rekt\"\n",
    "api_key = \"Po3yiyifWkmsh1mhsxLrP9TB747Ip1h5Ag1jsnJuE52CcFiZno\""
   ]
  },
  {
   "cell_type": "code",
   "execution_count": 16,
   "metadata": {
    "collapsed": true
   },
   "outputs": [],
   "source": [
    "headers={\n",
    "    \"X-Mashape-Key\": api_key,\n",
    "    \"Accept\": \"text/plain\"\n",
    "  }"
   ]
  },
  {
   "cell_type": "code",
   "execution_count": 17,
   "metadata": {
    "collapsed": false
   },
   "outputs": [],
   "source": [
    "r = requests.get(url,\n",
    "                 headers=headers)"
   ]
  },
  {
   "cell_type": "code",
   "execution_count": 18,
   "metadata": {
    "collapsed": false
   },
   "outputs": [
    {
     "data": {
      "text/plain": [
       "{'list': [{'author': 'jazzylad',\n",
       "   'current_vote': '',\n",
       "   'defid': 8003980,\n",
       "   'definition': 'When someone gets completely destroyed.',\n",
       "   'example': '\"Ella got rekt\"\\r\\n\"Oh my days, Ella got annihilated! #Rekt\"',\n",
       "   'permalink': 'http://rekt.urbanup.com/8003980',\n",
       "   'thumbs_down': 3812,\n",
       "   'thumbs_up': 7558,\n",
       "   'word': 'Rekt'},\n",
       "  {'author': 'PossiblyCouldOKIWill',\n",
       "   'current_vote': '',\n",
       "   'defid': 5868234,\n",
       "   'definition': 'Text for \"Wrecked\", as sooo drunk you\\'ve forgotten your name but can just about type a text to your mate whose missed called you',\n",
       "   'example': 'hi m8, totes rekt, tlk 2mo',\n",
       "   'permalink': 'http://rekt.urbanup.com/5868234',\n",
       "   'thumbs_down': 605,\n",
       "   'thumbs_up': 3060,\n",
       "   'word': 'Rekt'},\n",
       "  {'author': 'No_Gambit',\n",
       "   'current_vote': '',\n",
       "   'defid': 7043615,\n",
       "   'definition': 'A term for the word \"Wrecked.\" Can be used in text messages when one is in a hurry. Can also be used in online gaming when a player would cause another player to send hate mail regarding the skill of the one causing the anger.',\n",
       "   'example': \"Text Example\\r\\nTexter 1: OMG Casey jst rekt his car nd Im in the ambulance w/him right now\\r\\nTexter 2: lol Is he okay?\\n\\nOnline Gaming Example\\r\\nPlayer 1: Why don't you get some actual skill and play the game right instead of spamming magic?\\r\\nPlayer 2: Get rekt skrub\",\n",
       "   'permalink': 'http://rekt.urbanup.com/7043615',\n",
       "   'thumbs_down': 357,\n",
       "   'thumbs_up': 1242,\n",
       "   'word': 'rekt'},\n",
       "  {'author': 'Im IN Faze Clan 101',\n",
       "   'current_vote': '',\n",
       "   'defid': 7998747,\n",
       "   'definition': 'The MLG OG Hardcore Snoop Dog 420 Blaze it Faze Clan way of saying Wrecked',\n",
       "   'example': 'I just noscoped that scrub. Rekt.',\n",
       "   'permalink': 'http://rekt.urbanup.com/7998747',\n",
       "   'thumbs_down': 194,\n",
       "   'thumbs_up': 711,\n",
       "   'word': 'Rekt'},\n",
       "  {'author': 'fuxkypu',\n",
       "   'current_vote': '',\n",
       "   'defid': 7902092,\n",
       "   'definition': 'A popular phrase used by commenters on pun pages. Made popular by Jeff \"Rekt\" Suzuki.',\n",
       "   'example': '\"INSERT RANDOM PUN ABOUT TRAIN CRASH\"\\n\\nJeft: Get rekt',\n",
       "   'permalink': 'http://rekt.urbanup.com/7902092',\n",
       "   'thumbs_down': 229,\n",
       "   'thumbs_up': 367,\n",
       "   'word': 'rekt'},\n",
       "  {'author': \"Aaron'sFriends\",\n",
       "   'current_vote': '',\n",
       "   'defid': 8049639,\n",
       "   'definition': \"When someone throws multiple rapid fire insults at a particular person so quickly that they don't have time to register the previous insults and are therefor speechless because they are trying to remember the insults so they can defend themselves.\",\n",
       "   'example': 'You just got Rekt.',\n",
       "   'permalink': 'http://rekt.urbanup.com/8049639',\n",
       "   'thumbs_down': 99,\n",
       "   'thumbs_up': 209,\n",
       "   'word': 'Rekt'},\n",
       "  {'author': 'Pegu',\n",
       "   'current_vote': '',\n",
       "   'defid': 8146838,\n",
       "   'definition': 'A word used to describe some or in action of someone who got \"owned\" or decimated in a fight or argument. It is widely used by gamers and hipsters. This doesn\\'t mean your not cool by saying this.',\n",
       "   'example': 'Gamer 1: You think you can [1v1] me and not get rekt?\\r\\nGamer 2: Unless your looking to suck my dick.\\r\\nGamer 1: When did genitals get evolved?',\n",
       "   'permalink': 'http://rekt.urbanup.com/8146838',\n",
       "   'thumbs_down': 57,\n",
       "   'thumbs_up': 133,\n",
       "   'word': 'Rekt'},\n",
       "  {'author': 'xarya',\n",
       "   'current_vote': '',\n",
       "   'defid': 7996543,\n",
       "   'definition': 'Another definition to \"wreck\" and it\\'s used for online gaming and when you\\'re drunk.',\n",
       "   'example': 'Lawrence : ey\\r\\nJennifer : m8 u rekt',\n",
       "   'permalink': 'http://rekt.urbanup.com/7996543',\n",
       "   'thumbs_down': 46,\n",
       "   'thumbs_up': 59,\n",
       "   'word': 'Rekt'},\n",
       "  {'author': 'Guyn',\n",
       "   'current_vote': '',\n",
       "   'defid': 8372311,\n",
       "   'definition': 'A word to say when: A noob/Newby gets absolutely dominated.',\n",
       "   'example': 'WOOOOAAAHHHHHH, U GOT JUST GOT [REKT] SKR00B',\n",
       "   'permalink': 'http://rekt.urbanup.com/8372311',\n",
       "   'thumbs_down': 8,\n",
       "   'thumbs_up': 15,\n",
       "   'word': 'Rekt'},\n",
       "  {'author': 'PHP99',\n",
       "   'current_vote': '',\n",
       "   'defid': 7367743,\n",
       "   'definition': 'A word commonly use by the many swaggots which surf the internet who are too lazy to type out the word \"Wrecked\" and therefore resort to the word \"Rekt\". Also used by various other users. Etc. Etc.',\n",
       "   'example': 'Eg1:\\n\\nYou: Hey Guise!\\r\\nRandom Swaggot: lol rekt\\r\\nYou: MHM?\\r\\nRandom Swaggot 2: get rekt\\n\\nEg2:\\n\\nYou: DUUUUDE, i raped the dude in Starcraft. UHN.\\r\\nDUUUUUDE: lel he got rekt\\r\\nYou: ikr',\n",
       "   'permalink': 'http://rekt.urbanup.com/7367743',\n",
       "   'thumbs_down': 178,\n",
       "   'thumbs_up': 186,\n",
       "   'word': 'Rekt'}],\n",
       " 'result_type': 'exact',\n",
       " 'sounds': ['http://api.twilio.com/2008-08-01/Accounts/ACd09691b82112e4b26fce156d7c01d0ed/Recordings/REdf8559d60d81b677253362afc42b95cd.mp3',\n",
       "  'http://api.twilio.com/2008-08-01/Accounts/ACd09691b82112e4b26fce156d7c01d0ed/Recordings/REc8e68c57d01a0a62401d23b8d0f66a38.mp3',\n",
       "  'http://wav.urbandictionary.com/rekt-26332.wav',\n",
       "  'http://wav.urbandictionary.com/rekt-27904.wav',\n",
       "  'http://wav.urbandictionary.com/rekt-28026.wav',\n",
       "  'http://wav.urbandictionary.com/rekt-29904.wav',\n",
       "  'http://wav.urbandictionary.com/rekt-31550.wav',\n",
       "  'http://wav.urbandictionary.com/rekt-32161.wav',\n",
       "  'http://api.twilio.com/2008-08-01/Accounts/ACd09691b82112e4b26fce156d7c01d0ed/Recordings/REb55feb1058743299faf4139a4ce3d866.mp3',\n",
       "  'http://wav.urbandictionary.com/rekt-33184.wav',\n",
       "  'http://wav.urbandictionary.com/rekt-34808.wav',\n",
       "  'http://wav.urbandictionary.com/rekt-35870.wav',\n",
       "  'http://wav.urbandictionary.com/rekt-37890.wav',\n",
       "  'http://wav.urbandictionary.com/rekt-38430.wav',\n",
       "  'http://wav.urbandictionary.com/rekt-38541.wav',\n",
       "  'http://wav.urbandictionary.com/rekt-38561.wav',\n",
       "  'http://wav.urbandictionary.com/rekt-38737.wav',\n",
       "  'http://wav.urbandictionary.com/rekt-39502.wav',\n",
       "  'http://wav.urbandictionary.com/rekt-39507.wav',\n",
       "  'http://wav.urbandictionary.com/rekt-39554.wav',\n",
       "  'http://wav.urbandictionary.com/rekt-39555.wav',\n",
       "  'http://wav.urbandictionary.com/rekt-39556.wav',\n",
       "  'http://wav.urbandictionary.com/rekt-39639.wav',\n",
       "  'http://wav.urbandictionary.com/rekt-39645.wav',\n",
       "  'http://wav.urbandictionary.com/rekt-39713.wav',\n",
       "  'http://wav.urbandictionary.com/rekt-39926.wav',\n",
       "  'http://wav.urbandictionary.com/rekt-39948.wav',\n",
       "  'http://wav.urbandictionary.com/rekt-40039.wav',\n",
       "  'http://wav.urbandictionary.com/rekt-40052.wav',\n",
       "  'http://wav.urbandictionary.com/rekt-40603.wav',\n",
       "  'http://wav.urbandictionary.com/rekt-40632.wav',\n",
       "  'http://wav.urbandictionary.com/rekt-40720.wav',\n",
       "  'http://wav.urbandictionary.com/rekt-40761.wav',\n",
       "  'http://wav.urbandictionary.com/rekt-41179.wav',\n",
       "  'http://wav.urbandictionary.com/rekt-41464.wav',\n",
       "  'http://wav.urbandictionary.com/rekt-42014.wav',\n",
       "  'http://media.urbandictionary.com/sound/rekt-42909.mp3',\n",
       "  'http://media.urbandictionary.com/sound/rekt-42910.mp3',\n",
       "  'http://media.urbandictionary.com/sound/rekt-42911.mp3',\n",
       "  'http://media.urbandictionary.com/sound/rekt-42927.mp3',\n",
       "  'http://media.urbandictionary.com/sound/rekt-44601.mp3',\n",
       "  'http://media.urbandictionary.com/sound/rekt-44602.mp3',\n",
       "  'http://media.urbandictionary.com/sound/rekt-44603.mp3'],\n",
       " 'tags': ['wrecked',\n",
       "  'wrecked',\n",
       "  'owned',\n",
       "  'owned',\n",
       "  'pwnd',\n",
       "  'pwnd',\n",
       "  'anger',\n",
       "  'anger',\n",
       "  'lel',\n",
       "  'lel']}"
      ]
     },
     "execution_count": 18,
     "metadata": {},
     "output_type": "execute_result"
    }
   ],
   "source": [
    "r.json()"
   ]
  },
  {
   "cell_type": "markdown",
   "metadata": {
    "collapsed": true
   },
   "source": [
    "__when I master an API__\n",
    "![](http://i.imgur.com/RGcanyW.gif)"
   ]
  },
  {
   "cell_type": "markdown",
   "metadata": {},
   "source": [
    "<br>\n",
    "<br>\n",
    "----"
   ]
  }
 ],
 "metadata": {
  "kernelspec": {
   "display_name": "Python 3",
   "language": "python",
   "name": "python3"
  },
  "language_info": {
   "codemirror_mode": {
    "name": "ipython",
    "version": 3
   },
   "file_extension": ".py",
   "mimetype": "text/x-python",
   "name": "python",
   "nbconvert_exporter": "python",
   "pygments_lexer": "ipython3",
   "version": "3.5.2"
  }
 },
 "nbformat": 4,
 "nbformat_minor": 0
}
