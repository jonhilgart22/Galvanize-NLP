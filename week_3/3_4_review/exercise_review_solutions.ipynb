{
 "cells": [
  {
   "cell_type": "code",
   "execution_count": 30,
   "metadata": {
    "collapsed": true
   },
   "outputs": [],
   "source": [
    "reset -fs"
   ]
  },
  {
   "cell_type": "code",
   "execution_count": 31,
   "metadata": {
    "collapsed": true
   },
   "outputs": [],
   "source": [
    "from collections import Counter\n",
    "from string import punctuation"
   ]
  },
  {
   "cell_type": "code",
   "execution_count": 51,
   "metadata": {
    "collapsed": false
   },
   "outputs": [],
   "source": [
    "def check_make_ransom(magazine, note):\n",
    "    \"Check if there are enough letters in the magazine to make the ransom note\"\n",
    "\n",
    "    # Munge data\n",
    "    magazine = \"\".join(c for c in magazine if c not in punctuation).lower().replace(\" \", \"\")\n",
    "    note = \"\".join(c for c in note if c not in punctuation).lower().replace(\" \", \"\")\n",
    "\n",
    "    magazine_letter_count = Counter(magazine)\n",
    "    note_letter_count = Counter(note)\n",
    "    \n",
    "    # Short-curcuit, if magazine is completely missing a need letter then return a quick False\n",
    "    if not set(note_letter_count.keys()).issubset(set(magazine_letter_count.keys())):\n",
    "        False\n",
    "    \n",
    "    for char in note_letter_count: # Need to confirm that we have enough character for each word in note\n",
    "        if note_letter_count[char] <= magazine_letter_count[char]:\n",
    "            continue\n",
    "        else:\n",
    "            return False\n",
    "    else:\n",
    "        return True"
   ]
  },
  {
   "cell_type": "code",
   "execution_count": 52,
   "metadata": {
    "collapsed": false
   },
   "outputs": [],
   "source": [
    "assert check_make_ransom(\"abc\", \"\") == True\n",
    "assert check_make_ransom(\"\", \"abc\") == False\n",
    "assert check_make_ransom(\"abc\", \"cba\") == True\n",
    "assert check_make_ransom(\"abcd\", \"abc\") == True\n",
    "assert check_make_ransom(\"abc\", \"abcd\") == False\n",
    "assert check_make_ransom(\"aabbcc\", \"abab\") == True\n",
    "assert check_make_ransom(\"aabbcc\", \"ccc\") == False\n",
    "assert check_make_ransom(\"The Morse code\", \"Here come dots\") ==  True\n",
    "assert check_make_ransom(\"Slot Machines\", \"Cash lost in 'em\") == True"
   ]
  },
  {
   "cell_type": "markdown",
   "metadata": {},
   "source": [
    "Check if checks of note are a subset of magazine"
   ]
  },
  {
   "cell_type": "code",
   "execution_count": 43,
   "metadata": {
    "collapsed": false
   },
   "outputs": [],
   "source": [
    "# True\n",
    "mag = Counter(\"ab\")\n",
    "note = Counter(\"abcd\")\n",
    "# note = Counter(\"c\")"
   ]
  },
  {
   "cell_type": "code",
   "execution_count": 46,
   "metadata": {
    "collapsed": false
   },
   "outputs": [],
   "source": [
    "# False \n",
    "mag = Counter(\"ab\") \n",
    "note = Counter(\"abc\")"
   ]
  },
  {
   "cell_type": "code",
   "execution_count": 47,
   "metadata": {
    "collapsed": false
   },
   "outputs": [],
   "source": [
    "# (note.keys()).issubset(mag.keys())"
   ]
  },
  {
   "cell_type": "code",
   "execution_count": 48,
   "metadata": {
    "collapsed": false
   },
   "outputs": [
    {
     "data": {
      "text/plain": [
       "False"
      ]
     },
     "execution_count": 48,
     "metadata": {},
     "output_type": "execute_result"
    }
   ],
   "source": []
  },
  {
   "cell_type": "code",
   "execution_count": null,
   "metadata": {
    "collapsed": true
   },
   "outputs": [],
   "source": [
    "t.isdisjoint"
   ]
  }
 ],
 "metadata": {
  "kernelspec": {
   "display_name": "Python 3",
   "language": "python",
   "name": "python3"
  },
  "language_info": {
   "codemirror_mode": {
    "name": "ipython",
    "version": 3
   },
   "file_extension": ".py",
   "mimetype": "text/x-python",
   "name": "python",
   "nbconvert_exporter": "python",
   "pygments_lexer": "ipython3",
   "version": "3.5.2"
  }
 },
 "nbformat": 4,
 "nbformat_minor": 0
}
