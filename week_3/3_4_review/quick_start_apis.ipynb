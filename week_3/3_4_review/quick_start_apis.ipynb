{
 "cells": [
  {
   "cell_type": "markdown",
   "metadata": {},
   "source": [
    "API fun\n",
    "-----\n",
    "\n",
    "__when I start to use a new api:__\n",
    "![](http://i.imgur.com/MBAGWYB.gif)"
   ]
  },
  {
   "cell_type": "markdown",
   "metadata": {},
   "source": [
    "What is an API?\n",
    "-----\n",
    "\n",
    "Application\n",
    "Programming \n",
    "Interface\n",
    "\n",
    "Helps computers talk to other computers"
   ]
  },
  {
   "cell_type": "markdown",
   "metadata": {},
   "source": [
    "Why API?\n",
    "----\n",
    "\n",
    "Get lots of clean data fast\n",
    "\n",
    "APIs are __way better__ than webscraping"
   ]
  },
  {
   "cell_type": "markdown",
   "metadata": {},
   "source": [
    "Mashape: API wharehouse\n",
    "---\n",
    "\n",
    "![](https://www.mashape.com//assets/images/logo.png)\n",
    "\n",
    "https://market.mashape.com/"
   ]
  },
  {
   "cell_type": "markdown",
   "metadata": {},
   "source": [
    "Query Urban Dictionary API\n",
    "====\n",
    "\n",
    "https://market.mashape.com/community/urban-dictionary"
   ]
  },
  {
   "cell_type": "markdown",
   "metadata": {},
   "source": [
    "Based off [this package](https://github.com/chrisvoncsefalvay/urbanpyctionary)"
   ]
  },
  {
   "cell_type": "code",
   "execution_count": 1,
   "metadata": {
    "collapsed": false
   },
   "outputs": [],
   "source": [
    "try:\n",
    "    from urbanpyctionary.client import Client\n",
    "except ImportError:\n",
    "    import pip\n",
    "    pip.main(['install', 'urbanpyctionary'])"
   ]
  },
  {
   "cell_type": "code",
   "execution_count": 2,
   "metadata": {
    "collapsed": false
   },
   "outputs": [],
   "source": [
    "# Setup API\n",
    "c = Client(API_key=\"Po3yiyifWkmsh1mhsxLrP9TB747Ip1h5Ag1jsnJuE52CcFiZno\") # Signup here: https://www.mashape.com/community/urban-dictionary"
   ]
  },
  {
   "cell_type": "code",
   "execution_count": 4,
   "metadata": {
    "collapsed": false
   },
   "outputs": [],
   "source": [
    "# Get request object for a wrod\n",
    "r = c.get(\"rekt\")"
   ]
  },
  {
   "cell_type": "code",
   "execution_count": 5,
   "metadata": {
    "collapsed": false
   },
   "outputs": [
    {
     "data": {
      "text/plain": [
       "'\"Brian got rekt\"\\r\\n\"Oh my days, Brian got annihilated! #Rekt\"'"
      ]
     },
     "execution_count": 5,
     "metadata": {},
     "output_type": "execute_result"
    }
   ],
   "source": [
    "# Get a sentence\n",
    "r[0].example.replace('Ella', 'Brian')"
   ]
  },
  {
   "cell_type": "code",
   "execution_count": 15,
   "metadata": {
    "collapsed": false
   },
   "outputs": [
    {
     "name": "stdout",
     "output_type": "stream",
     "text": [
      "{   'author': 'jazzylad',\n",
      "    'current_vote': '',\n",
      "    'defid': 8003980,\n",
      "    'definition': 'When someone gets completely destroyed.',\n",
      "    'example': '\"Ella got rekt\"\\r\\n\"Oh my days, Ella got annihilated! #Rekt\"',\n",
      "    'permalink': 'http://rekt.urbanup.com/8003980',\n",
      "    'thumbs_down': 3808,\n",
      "    'thumbs_up': 7531,\n",
      "    'word': 'Rekt'}\n"
     ]
    }
   ],
   "source": [
    "# What else is available?\n",
    "r[0].browse()"
   ]
  },
  {
   "cell_type": "markdown",
   "metadata": {
    "collapsed": true
   },
   "source": [
    "__when I master an API__\n",
    "![](http://i.imgur.com/RGcanyW.gif)"
   ]
  },
  {
   "cell_type": "markdown",
   "metadata": {},
   "source": [
    "<br>\n",
    "<br>\n",
    "----"
   ]
  }
 ],
 "metadata": {
  "kernelspec": {
   "display_name": "Python 3",
   "language": "python",
   "name": "python3"
  },
  "language_info": {
   "codemirror_mode": {
    "name": "ipython",
    "version": 3
   },
   "file_extension": ".py",
   "mimetype": "text/x-python",
   "name": "python",
   "nbconvert_exporter": "python",
   "pygments_lexer": "ipython3",
   "version": "3.5.2"
  }
 },
 "nbformat": 4,
 "nbformat_minor": 0
}
