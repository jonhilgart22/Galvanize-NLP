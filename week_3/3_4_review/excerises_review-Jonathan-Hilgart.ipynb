{
 "cells": [
  {
   "cell_type": "markdown",
   "metadata": {},
   "source": [
    "----\n",
    "Challenge Exercises\n",
    "----"
   ]
  },
  {
   "cell_type": "markdown",
   "metadata": {},
   "source": [
    "![](images/ransom.jpg)\n",
    "\n",
    "Given all the contents of a magazine and a ransom note, write a function that will return True if the ransom note can be made from the magazine or otherwise return False.  \n",
    "\n",
    "Constraints:\n",
    "\n",
    "- Ignore case, spaces, and punctuation.\n",
    "- Consider runtime performance. What data structures would reduce the number of passes through the data?"
   ]
  },
  {
   "cell_type": "code",
   "execution_count": 1,
   "metadata": {
    "collapsed": true
   },
   "outputs": [],
   "source": [
    "from string import punctuation"
   ]
  },
  {
   "cell_type": "code",
   "execution_count": 36,
   "metadata": {
    "collapsed": true
   },
   "outputs": [],
   "source": [
    "l = '$5sdfsdf! sdf  sdf'"
   ]
  },
  {
   "cell_type": "code",
   "execution_count": 37,
   "metadata": {
    "collapsed": false
   },
   "outputs": [],
   "source": [
    "f= TextBlob(l)\n"
   ]
  },
  {
   "cell_type": "code",
   "execution_count": 71,
   "metadata": {
    "collapsed": false
   },
   "outputs": [
    {
     "data": {
      "text/plain": [
       "{' ', '!', '$', '5', 'd', 'f', 's'}"
      ]
     },
     "execution_count": 71,
     "metadata": {},
     "output_type": "execute_result"
    }
   ],
   "source": [
    "set(l)"
   ]
  },
  {
   "cell_type": "code",
   "execution_count": 25,
   "metadata": {
    "collapsed": true
   },
   "outputs": [],
   "source": [
    "from textblob import TextBlob"
   ]
  },
  {
   "cell_type": "code",
   "execution_count": 99,
   "metadata": {
    "collapsed": true
   },
   "outputs": [],
   "source": [
    "from collections import Counter"
   ]
  },
  {
   "cell_type": "code",
   "execution_count": 157,
   "metadata": {
    "collapsed": false
   },
   "outputs": [],
   "source": [
    "def check_make_ransom(magazine, note):\n",
    "    \"Check if there are enough letters in the magazine to make the ransom note\"\n",
    "    \n",
    "    magazine = magazine.strip(punctuation)\n",
    "    magazine = magazine.replace(' ','')\n",
    "    magazine = magazine.lower()\n",
    "    magazine_count = Counter(magazine)\n",
    "    \n",
    "    note = note.strip(punctuation)\n",
    "    note=note.replace(' ','')\n",
    "    note=note.replace(\"'\",'')\n",
    "    note=note.lower()\n",
    "    note_length = len(note)\n",
    "    note_count = Counter(note)\n",
    "    \n",
    "    \n",
    "\n",
    "    if note_length==0:\n",
    "         return True\n",
    "    \n",
    "#     if magazine_count == note_count:\n",
    "#         return True\n",
    "#     else:\n",
    "#         return False\n",
    "    \n",
    "    \n",
    "    #print(magazine_count,note_count)\n",
    "\n",
    "    #print(note,'note')\n",
    "    #print(magazine,'magazine')\n",
    "    note_length = len(note)\n",
    "    matched_letters = 0\n",
    "    \n",
    "    if note_length==0:\n",
    "        return True\n",
    "    \n",
    "    for letter in magazine:\n",
    "        for item in note:\n",
    "            if letter == item:\n",
    "                matched_letters+=1\n",
    "                break\n",
    "    #print(matched_letters, 'matched')\n",
    "    \n",
    "    #print(note_length, 'note length')\n",
    "    if matched_letters == note_length:\n",
    "        return True\n",
    "    else:\n",
    "        return False\n",
    "\n",
    "            \n",
    "    \n",
    "    "
   ]
  },
  {
   "cell_type": "code",
   "execution_count": 155,
   "metadata": {
    "collapsed": false
   },
   "outputs": [
    {
     "name": "stdout",
     "output_type": "stream",
     "text": [
      "The slowest run took 14.79 times longer than the fastest. This could mean that an intermediate result is being cached.\n",
      "10000 loops, best of 3: 17.1 µs per loop\n"
     ]
    }
   ],
   "source": [
    "%timeit check_make_ransom(\"Slot Machines\", \"Cash lost in 'em\") "
   ]
  },
  {
   "cell_type": "code",
   "execution_count": 158,
   "metadata": {
    "collapsed": false
   },
   "outputs": [],
   "source": [
    "assert check_make_ransom(\"abc\", \"\") == True\n",
    "assert check_make_ransom(\"\", \"abc\") == False\n",
    "assert check_make_ransom(\"abcd\", \"abc\") == True\n",
    "assert check_make_ransom(\"abc\", \"abcd\") == False\n",
    "assert check_make_ransom(\"aabbcc\", \"abab\") == True\n",
    "assert check_make_ransom(\"aabbcc\", \"ccc\") == False\n",
    "assert check_make_ransom(\"The Morse code\", \"Here come dots\") ==  True\n",
    "assert check_make_ransom(\"Slot Machines\", \"Cash lost in 'em\") == True"
   ]
  },
  {
   "cell_type": "markdown",
   "metadata": {},
   "source": [
    "<br>\n",
    "<br>\n",
    "-----"
   ]
  },
  {
   "cell_type": "code",
   "execution_count": null,
   "metadata": {
    "collapsed": true
   },
   "outputs": [],
   "source": []
  },
  {
   "cell_type": "code",
   "execution_count": 166,
   "metadata": {
    "collapsed": false
   },
   "outputs": [],
   "source": [
    "def check_make_ransom_two(magazine, note):\n",
    "    \"Check if there are enough letters in the magazine to make the ransom note\"\n",
    "    \n",
    "    magazine = magazine.strip(punctuation)\n",
    "    magazine = magazine.replace(' ','')\n",
    "    magazine = magazine.lower()\n",
    "    magazine_count = Counter(magazine)\n",
    "    \n",
    "    note = note.strip(punctuation)\n",
    "    note=note.replace(' ','')\n",
    "    note=note.replace(\"'\",'')\n",
    "    note=note.lower()\n",
    "    note_length = len(note)\n",
    "    note_count = Counter(note)\n",
    "    \n",
    "    \n",
    "\n",
    "    if note_length==0:\n",
    "         return True\n",
    "    \n",
    "    for k,v in note_count.items():\n",
    "        if k in magazine_count:\n",
    "            if magazine_count[k]>=v:\n",
    "                pass\n",
    "            else:\n",
    "               \n",
    "                return False\n",
    "            \n",
    "        else:\n",
    "\n",
    "            return False\n",
    "        \n",
    "    return True\n",
    "        \n",
    "\n",
    "            \n",
    "    \n",
    "    "
   ]
  },
  {
   "cell_type": "code",
   "execution_count": 167,
   "metadata": {
    "collapsed": false
   },
   "outputs": [
    {
     "data": {
      "text/plain": [
       "False"
      ]
     },
     "execution_count": 167,
     "metadata": {},
     "output_type": "execute_result"
    }
   ],
   "source": [
    "check_make_ransom_two(\"aabbcc\", \"ccc\")"
   ]
  },
  {
   "cell_type": "code",
   "execution_count": 168,
   "metadata": {
    "collapsed": false
   },
   "outputs": [],
   "source": [
    "assert check_make_ransom_two(\"abc\", \"\") == True\n",
    "assert check_make_ransom_two(\"\", \"abc\") == False\n",
    "assert check_make_ransom_two(\"abcd\", \"abc\") == True\n",
    "assert check_make_ransom_two(\"abc\", \"abcd\") == False\n",
    "assert check_make_ransom_two(\"aabbcc\", \"abab\") == True\n",
    "assert check_make_ransom_two(\"aabbcc\", \"ccc\") == False\n",
    "assert check_make_ransom_two(\"The Morse code\", \"Here come dots\") ==  True\n",
    "assert check_make_ransom_two(\"Slot Machines\", \"Cash lost in 'em\") == True"
   ]
  },
  {
   "cell_type": "code",
   "execution_count": 169,
   "metadata": {
    "collapsed": false
   },
   "outputs": [
    {
     "name": "stdout",
     "output_type": "stream",
     "text": [
      "10000 loops, best of 3: 16.3 µs per loop\n"
     ]
    }
   ],
   "source": [
    "%timeit check_make_ransom_two(\"Slot Machines\", \"Cash lost in 'em\") "
   ]
  },
  {
   "cell_type": "code",
   "execution_count": null,
   "metadata": {
    "collapsed": true
   },
   "outputs": [],
   "source": []
  }
 ],
 "metadata": {
  "kernelspec": {
   "display_name": "Python [nlp]",
   "language": "python",
   "name": "Python [nlp]"
  },
  "language_info": {
   "codemirror_mode": {
    "name": "ipython",
    "version": 3
   },
   "file_extension": ".py",
   "mimetype": "text/x-python",
   "name": "python",
   "nbconvert_exporter": "python",
   "pygments_lexer": "ipython3",
   "version": "3.5.2"
  }
 },
 "nbformat": 4,
 "nbformat_minor": 0
}
