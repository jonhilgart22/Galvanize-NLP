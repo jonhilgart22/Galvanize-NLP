{
 "cells": [
  {
   "cell_type": "markdown",
   "metadata": {
    "slideshow": {
     "slide_type": "slide"
    }
   },
   "source": [
    "----\n",
    "Spell Correction\n",
    "====\n",
    "\n",
    "![](http://www.oxbridgeediting.co.uk/blog/wp-content/uploads/2011/03/1409351331_ade37ae95a.jpg)"
   ]
  },
  {
   "cell_type": "markdown",
   "metadata": {
    "slideshow": {
     "slide_type": "slide"
    }
   },
   "source": [
    "By The End Of This Session You Should Be Able To:\n",
    "----\n",
    "\n",
    "- List the different approaches to spell correction\n",
    "- Describe the logic behind probabilistic spell correction \n",
    "- Code a spell correction system"
   ]
  },
  {
   "cell_type": "markdown",
   "metadata": {
    "slideshow": {
     "slide_type": "slide"
    }
   },
   "source": [
    "Spell checker steps\n",
    "----\n",
    "\n",
    "1) Detect the incorrect word\n"
   ]
  },
  {
   "cell_type": "markdown",
   "metadata": {
    "slideshow": {
     "slide_type": "fragment"
    }
   },
   "source": [
    "2) Generate candidate suggestions\n"
   ]
  },
  {
   "cell_type": "markdown",
   "metadata": {
    "slideshow": {
     "slide_type": "fragment"
    }
   },
   "source": [
    "3) Score and rank the candidate replacements"
   ]
  },
  {
   "cell_type": "markdown",
   "metadata": {
    "slideshow": {
     "slide_type": "slide"
    }
   },
   "source": [
    "Noisy Channel Overview\n",
    "----\n",
    "\n",
    "![](images/noisy.png)\n",
    "\n",
    "- Assumption: Any word __not__ in the dictionary is an error  \n",
    "- Generate candidates: find dictionary words that are similar to error  \n",
    "- Choose the candidate which is best:\n",
    "   1. Shortest weighted edit distance\n",
    "   2. Highest noisy channel probability  "
   ]
  },
  {
   "cell_type": "markdown",
   "metadata": {
    "slideshow": {
     "slide_type": "slide"
    }
   },
   "source": [
    "---\n",
    "Remeber Bayes Rule?\n",
    "---\n",
    "\n",
    "<img src=\"http://www.psychologyinaction.org/wp-content/uploads/2012/10/bayes-rule-e1350930203949.png\" style=\"width: 500px;\"/>\n",
    "\n"
   ]
  },
  {
   "cell_type": "markdown",
   "metadata": {
    "slideshow": {
     "slide_type": "slide"
    }
   },
   "source": [
    "Apply Bayes Rule\n",
    "----\n",
    "\n",
    "![](images/bayes_rule.png) \n",
    "\n",
    "Apply Bayes rule to find the maximum: Likelihood (channel/error model) times prior (language model)"
   ]
  },
  {
   "cell_type": "markdown",
   "metadata": {
    "slideshow": {
     "slide_type": "slide"
    }
   },
   "source": [
    "![](images/bayes_rule.png) \n",
    "\n",
    "Generate likelihood/channel model from common misspelling confusion matrix\n",
    "\n",
    "Generate prior/language model from corpus"
   ]
  },
  {
   "cell_type": "markdown",
   "metadata": {
    "slideshow": {
     "slide_type": "slide"
    }
   },
   "source": [
    "---\n",
    "The Noisy Channel Model Spell Correction Workflow\n",
    "---\n",
    "\n",
    "1. Generate candidates\n",
    "2. Find channel model probabilities\n",
    "3. Find Language Model probabilities\n",
    "4. Multiple them\n",
    "5. The highest probabilities is the best possible replacement"
   ]
  },
  {
   "cell_type": "markdown",
   "metadata": {
    "slideshow": {
     "slide_type": "slide"
    }
   },
   "source": [
    "How to extend Noisy Channel's Language Model to ngrams \n",
    "---\n",
    "\n",
    "Pick most likely sequence from the corpus\n"
   ]
  },
  {
   "cell_type": "markdown",
   "metadata": {
    "slideshow": {
     "slide_type": "fragment"
    }
   },
   "source": [
    "This is combinational explosion 💥 and quickly becomes a serious optimization problem\n",
    "    \n",
    "Simplify by assuming independence between error and Language Model"
   ]
  },
  {
   "cell_type": "markdown",
   "metadata": {
    "slideshow": {
     "slide_type": "slide"
    }
   },
   "source": [
    "---\n",
    "Student Activity\n",
    "---\n",
    "\n",
    "We have just covered Noisy Channel approach.\n",
    "\n",
    "Brainstorm other methods for spell correction..."
   ]
  },
  {
   "cell_type": "markdown",
   "metadata": {
    "slideshow": {
     "slide_type": "fragment"
    }
   },
   "source": [
    "- Dictionary look-up\n",
    "- Similarity / Edit distance\n",
    "- Weighted Edit distance (higher priority to pairs which sound similar or which are close to each other on the keyboard layout)\n",
    "- Hidden Markov Model\n",
    "- Deep learning sequence model"
   ]
  },
  {
   "cell_type": "markdown",
   "metadata": {
    "slideshow": {
     "slide_type": "slide"
    }
   },
   "source": [
    "Compare Models: Noisy Channel vs. Norvig\n",
    "----\n",
    "\n",
    "<img src=\"images/channel_appoarch.png\" style=\"width: 350px;\"/>\n",
    "\n",
    "__Norvig model__\n",
    "```\n",
    "def edits1(word):\n",
    "    \"Return all strings that are one edit away from this word.\"\n",
    "    pairs      = splits(word)\n",
    "    deletes    = [a+b[1:]           for (a, b) in pairs if b]\n",
    "    transposes = [a+b[1]+b[0]+b[2:] for (a, b) in pairs if len(b) > 1]\n",
    "    replaces   = [a+c+b[1:]         for (a, b) in pairs for c in alphabet if b]\n",
    "    inserts    = [a+c+b             for (a, b) in pairs for c in alphabet]\n",
    "    return set(deletes + transposes + replaces + inserts)\n",
    "```"
   ]
  },
  {
   "cell_type": "markdown",
   "metadata": {
    "slideshow": {
     "slide_type": "slide"
    }
   },
   "source": [
    "---\n",
    "Check for understanding\n",
    "---\n",
    "\n",
    "<details><summary>\n",
    "What is the most important difference bewteen these models?\n",
    "</summary>\n",
    "<br>\n",
    "The channel model is a conditioned on overall frequency, aka normalized.\n",
    "<br>\n",
    "<br>\n",
    "Norvig's is simplier!\n",
    "</details>"
   ]
  },
  {
   "cell_type": "markdown",
   "metadata": {
    "slideshow": {
     "slide_type": "slide"
    }
   },
   "source": [
    "---\n",
    "Summary\n",
    "----\n",
    "\n",
    "- Break spell correction into steps:\n",
    "    1. Detect the incorrect word\n",
    "    2. Generate candidate suggestions\n",
    "    3. Score and rank the candidate replacements\n",
    "- Dictionaries are brittle. \n",
    "- Bayes rules helps.\n",
    "- More data is __always__ better. Let's leverage web-scale corpora!"
   ]
  },
  {
   "cell_type": "markdown",
   "metadata": {
    "slideshow": {
     "slide_type": "slide"
    }
   },
   "source": [
    "<br>\n",
    "<br>\n",
    "---"
   ]
  }
 ],
 "metadata": {
  "celltoolbar": "Slideshow",
  "kernelspec": {
   "display_name": "Python 3",
   "language": "python",
   "name": "python3"
  },
  "language_info": {
   "codemirror_mode": {
    "name": "ipython",
    "version": 3
   },
   "file_extension": ".py",
   "mimetype": "text/x-python",
   "name": "python",
   "nbconvert_exporter": "python",
   "pygments_lexer": "ipython3",
   "version": "3.5.2"
  }
 },
 "nbformat": 4,
 "nbformat_minor": 0
}
