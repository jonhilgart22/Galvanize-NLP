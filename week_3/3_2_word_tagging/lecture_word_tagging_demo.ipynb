{
 "cells": [
  {
   "cell_type": "markdown",
   "metadata": {},
   "source": [
    "Part of Speech (POS) tagging \n",
    "-----\n",
    "\n",
    "![](https://nicholasdale.files.wordpress.com/2015/10/parts-of-speech.jpg)"
   ]
  },
  {
   "cell_type": "markdown",
   "metadata": {},
   "source": [
    "Overiview\n",
    "-----\n",
    "\n",
    "- English tokens can be put into groups (aka, parts of speech)\n",
    "- Make useful (hard) classification\n",
    "- Penn Treebank is the default labels\n",
    "- There are other labels"
   ]
  },
  {
   "cell_type": "markdown",
   "metadata": {},
   "source": [
    "----\n",
    "Programmatically apply pos tags\n",
    "---"
   ]
  },
  {
   "cell_type": "code",
   "execution_count": 1,
   "metadata": {
    "collapsed": true
   },
   "outputs": [],
   "source": [
    "reset -fs"
   ]
  },
  {
   "cell_type": "markdown",
   "metadata": {},
   "source": [
    "Download spacy's English Language Models if you don't have it"
   ]
  },
  {
   "cell_type": "code",
   "execution_count": null,
   "metadata": {
    "collapsed": true
   },
   "outputs": [],
   "source": [
    "# ! python -m spacy.en.download"
   ]
  },
  {
   "cell_type": "code",
   "execution_count": 1,
   "metadata": {
    "collapsed": true
   },
   "outputs": [],
   "source": [
    "from spacy.en import English  "
   ]
  },
  {
   "cell_type": "code",
   "execution_count": 2,
   "metadata": {
    "collapsed": true
   },
   "outputs": [],
   "source": [
    "nlp = English(tagger=True,\n",
    "              parser=False,  \n",
    "              entity=False)"
   ]
  },
  {
   "cell_type": "code",
   "execution_count": 3,
   "metadata": {
    "collapsed": false
   },
   "outputs": [
    {
     "name": "stdout",
     "output_type": "stream",
     "text": [
      "See\t| VB\n",
      "Dick\t| NNP\n",
      "run\t| VB\n",
      ".\t| .\n"
     ]
    }
   ],
   "source": [
    "sentence = \"See Dick run.\"\n",
    "tokens = nlp(sentence)\n",
    "\n",
    "for token in tokens:\n",
    "    print(token, token.tag_, sep=\"\\t| \")"
   ]
  },
  {
   "cell_type": "markdown",
   "metadata": {},
   "source": [
    "[Tag sentence demo](http://spacy.io/displacy/)"
   ]
  },
  {
   "cell_type": "markdown",
   "metadata": {},
   "source": [
    "-----"
   ]
  },
  {
   "cell_type": "code",
   "execution_count": 4,
   "metadata": {
    "collapsed": true
   },
   "outputs": [],
   "source": [
    "from nltk import tokenize, pos_tag"
   ]
  },
  {
   "cell_type": "code",
   "execution_count": 5,
   "metadata": {
    "collapsed": true
   },
   "outputs": [],
   "source": [
    "phrase = \"I'll be back!\""
   ]
  },
  {
   "cell_type": "code",
   "execution_count": 6,
   "metadata": {
    "collapsed": true
   },
   "outputs": [],
   "source": [
    "tokens = tokenize.word_tokenize(phrase)"
   ]
  },
  {
   "cell_type": "code",
   "execution_count": 7,
   "metadata": {
    "collapsed": false
   },
   "outputs": [
    {
     "data": {
      "text/plain": [
       "[('I', 'PRP'), (\"'ll\", 'MD'), ('be', 'VB'), ('back', 'RB'), ('!', '.')]"
      ]
     },
     "execution_count": 7,
     "metadata": {},
     "output_type": "execute_result"
    }
   ],
   "source": [
    "pos_tag(tokens)"
   ]
  },
  {
   "cell_type": "code",
   "execution_count": 8,
   "metadata": {
    "collapsed": false
   },
   "outputs": [
    {
     "name": "stdout",
     "output_type": "stream",
     "text": [
      "('I', 'PRP')\n",
      "(\"'ll\", 'MD')\n",
      "('be', 'VB')\n",
      "('back', 'RB')\n",
      "('!', '.')\n"
     ]
    }
   ],
   "source": [
    "print(*pos_tag(tokens), sep=\"\\n\")"
   ]
  },
  {
   "cell_type": "markdown",
   "metadata": {},
   "source": [
    "What is diff between ntlk and spaCy?\n",
    "-----\n",
    "\n",
    "There's a philosophical difference between spaCy and NLTK. \n",
    "\n",
    "spaCy is written to help you get things done. It's minimal and opinionated. We want to provide you with exactly one way to do it --- the right way. Spacy has accurate part-of-speech tagger + dependency parser. If you want something that has good defaults, Spacy is the way to go.\n",
    "\n",
    "In contrast, NLTK was created to support education. Most of what's there is for demo purposes, to help students explore ideas. But if you have your own data that you want to train on, NLTK is probably better. "
   ]
  },
  {
   "cell_type": "markdown",
   "metadata": {},
   "source": [
    "----"
   ]
  },
  {
   "cell_type": "code",
   "execution_count": 18,
   "metadata": {
    "collapsed": true
   },
   "outputs": [],
   "source": [
    "from textblob import TextBlob"
   ]
  },
  {
   "cell_type": "code",
   "execution_count": 13,
   "metadata": {
    "collapsed": false
   },
   "outputs": [
    {
     "name": "stdout",
     "output_type": "stream",
     "text": [
      "('I', 'PRP')\n",
      "(\"'ll\", 'MD')\n",
      "('be', 'VB')\n",
      "('back', 'RB')\n"
     ]
    }
   ],
   "source": [
    "print(*TextBlob(\"I'll be back.\").tags, sep=\"\\n\")"
   ]
  },
  {
   "cell_type": "code",
   "execution_count": 14,
   "metadata": {
    "collapsed": false
   },
   "outputs": [
    {
     "data": {
      "text/plain": [
       "[('He', 'PRP'),\n",
       " ('is', 'VBZ'),\n",
       " ('a', 'DT'),\n",
       " ('tall', 'JJ'),\n",
       " ('skinny', 'NN'),\n",
       " ('guy', 'NN'),\n",
       " ('with', 'IN'),\n",
       " ('a', 'DT'),\n",
       " ('long', 'JJ'),\n",
       " ('sad', 'JJ'),\n",
       " ('mean-looking', 'JJ'),\n",
       " ('kisser', 'NN'),\n",
       " ('and', 'CC'),\n",
       " ('a', 'DT'),\n",
       " ('mournful', 'JJ'),\n",
       " ('voice', 'NN')]"
      ]
     },
     "execution_count": 14,
     "metadata": {},
     "output_type": "execute_result"
    }
   ],
   "source": [
    "TextBlob('He is a tall skinny guy with a long, sad, mean-looking kisser, and a mournful voice.').tags"
   ]
  },
  {
   "cell_type": "code",
   "execution_count": 15,
   "metadata": {
    "collapsed": false
   },
   "outputs": [
    {
     "data": {
      "text/plain": [
       "[('If', 'IN'),\n",
       " ('only', 'RB'),\n",
       " ('Bradley', 'NNP'),\n",
       " (\"'s\", 'POS'),\n",
       " ('arm', 'NN'),\n",
       " ('was', 'VBD'),\n",
       " ('longer', 'RBR'),\n",
       " ('Best', 'JJS'),\n",
       " ('photo', 'NN'),\n",
       " ('ever', 'RB'),\n",
       " ('oscars', 'NNS')]"
      ]
     },
     "execution_count": 15,
     "metadata": {},
     "output_type": "execute_result"
    }
   ],
   "source": [
    "TextBlob(\"If only Bradley's arm was longer. Best photo ever. #oscars\").tags"
   ]
  },
  {
   "cell_type": "markdown",
   "metadata": {},
   "source": [
    "What happened to the hash tag?"
   ]
  },
  {
   "cell_type": "code",
   "execution_count": 16,
   "metadata": {
    "collapsed": false
   },
   "outputs": [
    {
     "data": {
      "text/plain": [
       "[('If', 'IN'),\n",
       " ('only', 'RB'),\n",
       " ('Bradley', 'NNP'),\n",
       " (\"'s\", 'POS'),\n",
       " ('arm', 'NN'),\n",
       " ('was', 'VBD'),\n",
       " ('longer', 'RBR'),\n",
       " ('.', '.'),\n",
       " ('Best', 'JJS'),\n",
       " ('photo', 'NN'),\n",
       " ('ever', 'RB'),\n",
       " ('.', '.'),\n",
       " ('#', '#'),\n",
       " ('oscars', 'NNS')]"
      ]
     },
     "execution_count": 16,
     "metadata": {},
     "output_type": "execute_result"
    }
   ],
   "source": [
    "pos_tag(tokenize.word_tokenize(\"If only Bradley's arm was longer. Best photo ever. #oscars\"))"
   ]
  },
  {
   "cell_type": "markdown",
   "metadata": {},
   "source": [
    "---\n",
    "Deep Dive into Penn Treebank POS tags\n",
    "----\n",
    "\n",
    "Penn Tags: somewhat popular but awful (not human readable)"
   ]
  },
  {
   "cell_type": "markdown",
   "metadata": {},
   "source": [
    "[List of Penn Treebank POS tags](https://www.ling.upenn.edu/courses/Fall_2003/ling001/penn_treebank_pos.html)"
   ]
  },
  {
   "cell_type": "code",
   "execution_count": 9,
   "metadata": {
    "collapsed": true
   },
   "outputs": [],
   "source": [
    "import nltk"
   ]
  },
  {
   "cell_type": "code",
   "execution_count": 10,
   "metadata": {
    "collapsed": false
   },
   "outputs": [],
   "source": [
    "tags = nltk.data.load('help/tagsets/upenn_tagset.pickle')"
   ]
  },
  {
   "cell_type": "code",
   "execution_count": 11,
   "metadata": {
    "collapsed": false
   },
   "outputs": [
    {
     "data": {
      "text/plain": [
       "{'$': ('dollar', '$ -$ --$ A$ C$ HK$ M$ NZ$ S$ U.S.$ US$ '),\n",
       " \"''\": ('closing quotation mark', \"' '' \"),\n",
       " '(': ('opening parenthesis', '( [ { '),\n",
       " ')': ('closing parenthesis', ') ] } '),\n",
       " ',': ('comma', ', '),\n",
       " '--': ('dash', '-- '),\n",
       " '.': ('sentence terminator', '. ! ? '),\n",
       " ':': ('colon or ellipsis', ': ; ... '),\n",
       " 'CC': ('conjunction, coordinating',\n",
       "  \"& 'n and both but either et for less minus neither nor or plus so therefore times v. versus vs. whether yet \"),\n",
       " 'CD': ('numeral, cardinal',\n",
       "  \"mid-1890 nine-thirty forty-two one-tenth ten million 0.5 one forty-seven 1987 twenty '79 zero two 78-degrees eighty-four IX '60s .025 fifteen 271,124 dozen quintillion DM2,000 ... \"),\n",
       " 'DT': ('determiner',\n",
       "  'all an another any both del each either every half la many much nary neither no some such that the them these this those '),\n",
       " 'EX': ('existential there', 'there '),\n",
       " 'FW': ('foreign word',\n",
       "  \"gemeinschaft hund ich jeux habeas Haementeria Herr K'ang-si vous lutihaw alai je jour objets salutaris fille quibusdam pas trop Monte terram fiche oui corporis ... \"),\n",
       " 'IN': ('preposition or conjunction, subordinating',\n",
       "  'astride among uppon whether out inside pro despite on by throughout below within for towards near behind atop around if like until below next into if beside ... '),\n",
       " 'JJ': ('adjective or numeral, ordinal',\n",
       "  'third ill-mannered pre-war regrettable oiled calamitous first separable ectoplasmic battery-powered participatory fourth still-to-be-named multilingual multi-disciplinary ... '),\n",
       " 'JJR': ('adjective, comparative',\n",
       "  'bleaker braver breezier briefer brighter brisker broader bumper busier calmer cheaper choosier cleaner clearer closer colder commoner costlier cozier creamier crunchier cuter ... '),\n",
       " 'JJS': ('adjective, superlative',\n",
       "  'calmest cheapest choicest classiest cleanest clearest closest commonest corniest costliest crassest creepiest crudest cutest darkest deadliest dearest deepest densest dinkiest ... '),\n",
       " 'LS': ('list item marker',\n",
       "  'A A. B B. C C. D E F First G H I J K One SP-44001 SP-44002 SP-44005 SP-44007 Second Third Three Two * a b c d first five four one six three two '),\n",
       " 'MD': ('modal auxiliary',\n",
       "  \"can cannot could couldn't dare may might must need ought shall should shouldn't will would \"),\n",
       " 'NN': ('noun, common, singular or mass',\n",
       "  'common-carrier cabbage knuckle-duster Casino afghan shed thermostat investment slide humour falloff slick wind hyena override subhumanity machinist ... '),\n",
       " 'NNP': ('noun, proper, singular',\n",
       "  'Motown Venneboerger Czestochwa Ranzer Conchita Trumplane Christos Oceanside Escobar Kreisler Sawyer Cougar Yvette Ervin ODI Darryl CTCA Shannon A.K.C. Meltex Liverpool ... '),\n",
       " 'NNPS': ('noun, proper, plural',\n",
       "  'Americans Americas Amharas Amityvilles Amusements Anarcho-Syndicalists Andalusians Andes Andruses Angels Animals Anthony Antilles Antiques Apache Apaches Apocrypha ... '),\n",
       " 'NNS': ('noun, common, plural',\n",
       "  'undergraduates scotches bric-a-brac products bodyguards facets coasts divestitures storehouses designs clubs fragrances averages subjectivists apprehensions muses factory-jobs ... '),\n",
       " 'PDT': ('pre-determiner', 'all both half many quite such sure this '),\n",
       " 'POS': ('genitive marker', \"' 's \"),\n",
       " 'PRP': ('pronoun, personal',\n",
       "  'hers herself him himself hisself it itself me myself one oneself ours ourselves ownself self she thee theirs them themselves they thou thy us '),\n",
       " 'PRP$': ('pronoun, possessive', 'her his mine my our ours their thy your '),\n",
       " 'RB': ('adverb',\n",
       "  'occasionally unabatingly maddeningly adventurously professedly stirringly prominently technologically magisterially predominately swiftly fiscally pitilessly ... '),\n",
       " 'RBR': ('adverb, comparative',\n",
       "  'further gloomier grander graver greater grimmer harder harsher healthier heavier higher however larger later leaner lengthier less-perfectly lesser lonelier longer louder lower more ... '),\n",
       " 'RBS': ('adverb, superlative',\n",
       "  'best biggest bluntest earliest farthest first furthest hardest heartiest highest largest least less most nearest second tightest worst '),\n",
       " 'RP': ('particle',\n",
       "  'aboard about across along apart around aside at away back before behind by crop down ever fast for forth from go high i.e. in into just later low more off on open out over per pie raising start teeth that through under unto up up-pp upon whole with you '),\n",
       " 'SYM': ('symbol',\n",
       "  \"% & ' '' ''. ) ). * + ,. < = > @ A[fj] U.S U.S.S.R * ** *** \"),\n",
       " 'TO': ('\"to\" as preposition or infinitive marker', 'to '),\n",
       " 'UH': ('interjection',\n",
       "  'Goodbye Goody Gosh Wow Jeepers Jee-sus Hubba Hey Kee-reist Oops amen huh howdy uh dammit whammo shucks heck anyways whodunnit honey golly man baby diddle hush sonuvabitch ... '),\n",
       " 'VB': ('verb, base form',\n",
       "  'ask assemble assess assign assume atone attention avoid bake balkanize bank begin behold believe bend benefit bevel beware bless boil bomb boost brace break bring broil brush build ... '),\n",
       " 'VBD': ('verb, past tense',\n",
       "  'dipped pleaded swiped regummed soaked tidied convened halted registered cushioned exacted snubbed strode aimed adopted belied figgered speculated wore appreciated contemplated ... '),\n",
       " 'VBG': ('verb, present participle or gerund',\n",
       "  \"telegraphing stirring focusing angering judging stalling lactating hankerin' alleging veering capping approaching traveling besieging encrypting interrupting erasing wincing ... \"),\n",
       " 'VBN': ('verb, past participle',\n",
       "  'multihulled dilapidated aerosolized chaired languished panelized used experimented flourished imitated reunifed factored condensed sheared unsettled primed dubbed desired ... '),\n",
       " 'VBP': ('verb, present tense, not 3rd person singular',\n",
       "  'predominate wrap resort sue twist spill cure lengthen brush terminate appear tend stray glisten obtain comprise detest tease attract emphasize mold postpone sever return wag ... '),\n",
       " 'VBZ': ('verb, present tense, 3rd person singular',\n",
       "  'bases reconstructs marks mixes displeases seals carps weaves snatches slumps stretches authorizes smolders pictures emerges stockpiles seduces fizzes uses bolsters slaps speaks pleads ... '),\n",
       " 'WDT': ('WH-determiner', 'that what whatever which whichever '),\n",
       " 'WP': ('WH-pronoun',\n",
       "  'that what whatever whatsoever which who whom whosoever '),\n",
       " 'WP$': ('WH-pronoun, possessive', 'whose '),\n",
       " 'WRB': ('Wh-adverb',\n",
       "  'how however whence whenever where whereby whereever wherein whereof why '),\n",
       " '``': ('opening quotation mark', '` `` ')}"
      ]
     },
     "execution_count": 11,
     "metadata": {},
     "output_type": "execute_result"
    }
   ],
   "source": [
    "tags"
   ]
  },
  {
   "cell_type": "markdown",
   "metadata": {},
   "source": [
    "Wow! That is a lot of tags"
   ]
  },
  {
   "cell_type": "code",
   "execution_count": 13,
   "metadata": {
    "collapsed": true
   },
   "outputs": [],
   "source": [
    "pen_label = 'NN' "
   ]
  },
  {
   "cell_type": "code",
   "execution_count": 14,
   "metadata": {
    "collapsed": false
   },
   "outputs": [
    {
     "name": "stdout",
     "output_type": "stream",
     "text": [
      "NN: noun, common, singular or mass\n",
      "    common-carrier cabbage knuckle-duster Casino afghan shed thermostat\n",
      "    investment slide humour falloff slick wind hyena override subhumanity\n",
      "    machinist ...\n"
     ]
    }
   ],
   "source": [
    "nltk.help.upenn_tagset(pen_label)"
   ]
  },
  {
   "cell_type": "code",
   "execution_count": 15,
   "metadata": {
    "collapsed": false
   },
   "outputs": [
    {
     "data": {
      "text/plain": [
       "'noun, common, singular or mass'"
      ]
     },
     "execution_count": 15,
     "metadata": {},
     "output_type": "execute_result"
    }
   ],
   "source": [
    "tags[pen_label][0]"
   ]
  },
  {
   "cell_type": "markdown",
   "metadata": {},
   "source": [
    "Let's just grab the most important part"
   ]
  },
  {
   "cell_type": "code",
   "execution_count": 22,
   "metadata": {
    "collapsed": false
   },
   "outputs": [
    {
     "data": {
      "text/plain": [
       "'noun'"
      ]
     },
     "execution_count": 22,
     "metadata": {},
     "output_type": "execute_result"
    }
   ],
   "source": [
    "tags[pen_label][0].split(',')[0]"
   ]
  },
  {
   "cell_type": "code",
   "execution_count": 16,
   "metadata": {
    "collapsed": false
   },
   "outputs": [],
   "source": [
    "tags_simple = {pen_label:long_description[0].split(',')[0]\n",
    "                   for pen_label, long_description in tags.items()}"
   ]
  },
  {
   "cell_type": "code",
   "execution_count": 25,
   "metadata": {
    "collapsed": false
   },
   "outputs": [
    {
     "data": {
      "text/plain": [
       "{'$': 'dollar',\n",
       " \"''\": 'closing quotation mark',\n",
       " '(': 'opening parenthesis',\n",
       " ')': 'closing parenthesis',\n",
       " ',': 'comma',\n",
       " '--': 'dash',\n",
       " '.': 'sentence terminator',\n",
       " ':': 'colon or ellipsis',\n",
       " 'CC': 'conjunction',\n",
       " 'CD': 'numeral',\n",
       " 'DT': 'determiner',\n",
       " 'EX': 'existential there',\n",
       " 'FW': 'foreign word',\n",
       " 'IN': 'preposition or conjunction',\n",
       " 'JJ': 'adjective or numeral',\n",
       " 'JJR': 'adjective',\n",
       " 'JJS': 'adjective',\n",
       " 'LS': 'list item marker',\n",
       " 'MD': 'modal auxiliary',\n",
       " 'NN': 'noun',\n",
       " 'NNP': 'noun',\n",
       " 'NNPS': 'noun',\n",
       " 'NNS': 'noun',\n",
       " 'PDT': 'pre-determiner',\n",
       " 'POS': 'genitive marker',\n",
       " 'PRP': 'pronoun',\n",
       " 'PRP$': 'pronoun',\n",
       " 'RB': 'adverb',\n",
       " 'RBR': 'adverb',\n",
       " 'RBS': 'adverb',\n",
       " 'RP': 'particle',\n",
       " 'SYM': 'symbol',\n",
       " 'TO': '\"to\" as preposition or infinitive marker',\n",
       " 'UH': 'interjection',\n",
       " 'VB': 'verb',\n",
       " 'VBD': 'verb',\n",
       " 'VBG': 'verb',\n",
       " 'VBN': 'verb',\n",
       " 'VBP': 'verb',\n",
       " 'VBZ': 'verb',\n",
       " 'WDT': 'WH-determiner',\n",
       " 'WP': 'WH-pronoun',\n",
       " 'WP$': 'WH-pronoun',\n",
       " 'WRB': 'Wh-adverb',\n",
       " '``': 'opening quotation mark'}"
      ]
     },
     "execution_count": 25,
     "metadata": {},
     "output_type": "execute_result"
    }
   ],
   "source": [
    "tags_simple"
   ]
  },
  {
   "cell_type": "markdown",
   "metadata": {},
   "source": [
    "Okay let's replace the cryptic Penn tags with the longer descriptions"
   ]
  },
  {
   "cell_type": "code",
   "execution_count": 19,
   "metadata": {
    "collapsed": false
   },
   "outputs": [],
   "source": [
    "tagged = TextBlob(\"I'll be back.\").tags"
   ]
  },
  {
   "cell_type": "code",
   "execution_count": 20,
   "metadata": {
    "collapsed": false
   },
   "outputs": [
    {
     "data": {
      "text/plain": [
       "'PRP'"
      ]
     },
     "execution_count": 20,
     "metadata": {},
     "output_type": "execute_result"
    }
   ],
   "source": [
    "tagged[0][1]"
   ]
  },
  {
   "cell_type": "code",
   "execution_count": 21,
   "metadata": {
    "collapsed": false
   },
   "outputs": [
    {
     "data": {
      "text/plain": [
       "[('I', 'pronoun'),\n",
       " (\"'ll\", 'modal auxiliary'),\n",
       " ('be', 'verb'),\n",
       " ('back', 'adverb')]"
      ]
     },
     "execution_count": 21,
     "metadata": {},
     "output_type": "execute_result"
    }
   ],
   "source": [
    "[(item[0], tags_simple[item[1]]) for item in tagged]"
   ]
  },
  {
   "cell_type": "markdown",
   "metadata": {},
   "source": [
    "***"
   ]
  }
 ],
 "metadata": {
  "kernelspec": {
   "display_name": "Python 3",
   "language": "python",
   "name": "python3"
  },
  "language_info": {
   "codemirror_mode": {
    "name": "ipython",
    "version": 3
   },
   "file_extension": ".py",
   "mimetype": "text/x-python",
   "name": "python",
   "nbconvert_exporter": "python",
   "pygments_lexer": "ipython3",
   "version": "3.5.2"
  }
 },
 "nbformat": 4,
 "nbformat_minor": 0
}
