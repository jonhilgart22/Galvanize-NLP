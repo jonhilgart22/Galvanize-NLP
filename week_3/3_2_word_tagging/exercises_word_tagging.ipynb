{
 "cells": [
  {
   "cell_type": "markdown",
   "metadata": {},
   "source": [
    "POS tagging exercises\n",
    "----"
   ]
  },
  {
   "cell_type": "markdown",
   "metadata": {},
   "source": [
    "Compare packages: nltk vs. TextBlob"
   ]
  },
  {
   "cell_type": "code",
   "execution_count": 42,
   "metadata": {
    "collapsed": true
   },
   "outputs": [],
   "source": [
    "reset -fs"
   ]
  },
  {
   "cell_type": "code",
   "execution_count": 43,
   "metadata": {
    "collapsed": true
   },
   "outputs": [],
   "source": [
    "text = \"\"\"My whole life is about winning. I don't lose often. I almost never lose.\n",
    "- Donald Trump\"\"\""
   ]
  },
  {
   "cell_type": "code",
   "execution_count": 44,
   "metadata": {
    "collapsed": false
   },
   "outputs": [],
   "source": [
    "# TODO: POS tag the tokens with nltk\n"
   ]
  },
  {
   "cell_type": "code",
   "execution_count": 45,
   "metadata": {
    "collapsed": false
   },
   "outputs": [],
   "source": [
    "assert tags_nltk == [('My', 'PRP$'),\n",
    " ('whole', 'JJ'),\n",
    " ('life', 'NN'),\n",
    " ('is', 'VBZ'),\n",
    " ('about', 'IN'),\n",
    " ('winning', 'VBG'),\n",
    " ('.', '.'),\n",
    " ('I', 'PRP'),\n",
    " ('do', 'VBP'),\n",
    " (\"n't\", 'RB'),\n",
    " ('lose', 'VB'),\n",
    " ('often', 'RB'),\n",
    " ('.', '.'),\n",
    " ('I', 'PRP'),\n",
    " ('almost', 'RB'),\n",
    " ('never', 'RB'),\n",
    " ('lose', 'VBP'),\n",
    " ('.', '.'),\n",
    " ('-', ':'),\n",
    " ('Donald', 'NNP'),\n",
    " ('Trump', 'NNP')]"
   ]
  },
  {
   "cell_type": "code",
   "execution_count": 46,
   "metadata": {
    "collapsed": true
   },
   "outputs": [],
   "source": [
    "# TODO: POS tag the tokens with TextBlob\n",
    "\n"
   ]
  },
  {
   "cell_type": "code",
   "execution_count": 47,
   "metadata": {
    "collapsed": false
   },
   "outputs": [],
   "source": [
    "assert tags_blob == [('My', 'PRP$'),\n",
    " ('whole', 'JJ'),\n",
    " ('life', 'NN'),\n",
    " ('is', 'VBZ'),\n",
    " ('about', 'IN'),\n",
    " ('winning', 'VBG'),\n",
    " ('I', 'PRP'),\n",
    " ('do', 'VBP'),\n",
    " (\"n't\", 'RB'),\n",
    " ('lose', 'VB'),\n",
    " ('often', 'RB'),\n",
    " ('I', 'PRP'),\n",
    " ('almost', 'RB'),\n",
    " ('never', 'RB'),\n",
    " ('lose', 'VBP'),\n",
    " ('Donald', 'NNP'),\n",
    " ('Trump', 'NNP')]\n"
   ]
  },
  {
   "cell_type": "code",
   "execution_count": 48,
   "metadata": {
    "collapsed": true
   },
   "outputs": [],
   "source": [
    "# TODO: Compare the results by hand (DO NOT WRITE ANY CODE). Are the same? Why or Why not?"
   ]
  },
  {
   "cell_type": "code",
   "execution_count": null,
   "metadata": {
    "collapsed": true
   },
   "outputs": [],
   "source": []
  },
  {
   "cell_type": "code",
   "execution_count": 49,
   "metadata": {
    "collapsed": true
   },
   "outputs": [],
   "source": [
    "# TODO: Which api is easier to use?\n",
    "\n",
    "# Why? Try to describe in it computer science / oop terms"
   ]
  },
  {
   "cell_type": "code",
   "execution_count": null,
   "metadata": {
    "collapsed": true
   },
   "outputs": [],
   "source": []
  },
  {
   "cell_type": "markdown",
   "metadata": {},
   "source": [
    "<details><summary>\n",
    "Click here for hints\n",
    "</summary>\n",
    "- [Class methods](https://julien.danjou.info/blog/2013/guide-python-static-class-abstract-methods)  \n",
    "- [Properties](http://www.python-course.eu/python3_properties.php)\n",
    "</details>"
   ]
  },
  {
   "cell_type": "markdown",
   "metadata": {},
   "source": [
    "----\n",
    "Let's define custom tags (fancy).\n",
    "\n",
    "![](https://media.giphy.com/media/VlchmIoZPjjYQ/giphy.gif)"
   ]
  },
  {
   "cell_type": "markdown",
   "metadata": {},
   "source": [
    "Default tagger: use the most frequent tag"
   ]
  },
  {
   "cell_type": "code",
   "execution_count": 50,
   "metadata": {
    "collapsed": false
   },
   "outputs": [],
   "source": [
    "tokens = \"Thieves leave young athletes in the dark\".split()"
   ]
  },
  {
   "cell_type": "code",
   "execution_count": 51,
   "metadata": {
    "collapsed": false
   },
   "outputs": [],
   "source": [
    "# TODO: Create a default tagger makes all tags NN - Noun, singular or mass\n"
   ]
  },
  {
   "cell_type": "code",
   "execution_count": 52,
   "metadata": {
    "collapsed": false
   },
   "outputs": [],
   "source": [
    "default_tags = default_tagger.tag(tokens)"
   ]
  },
  {
   "cell_type": "code",
   "execution_count": 53,
   "metadata": {
    "collapsed": true
   },
   "outputs": [],
   "source": [
    "assert default_tags == [('Thieves', 'NN'),\n",
    " ('leave', 'NN'),\n",
    " ('young', 'NN'),\n",
    " ('athletes', 'NN'),\n",
    " ('in', 'NN'),\n",
    " ('the', 'NN'),\n",
    " ('dark', 'NN')]"
   ]
  },
  {
   "cell_type": "code",
   "execution_count": 54,
   "metadata": {
    "collapsed": true
   },
   "outputs": [],
   "source": [
    "# TODO: Is a default tagger good for anything?"
   ]
  },
  {
   "cell_type": "code",
   "execution_count": null,
   "metadata": {
    "collapsed": true
   },
   "outputs": [],
   "source": []
  },
  {
   "cell_type": "markdown",
   "metadata": {},
   "source": [
    "The regular expression tagger"
   ]
  },
  {
   "cell_type": "code",
   "execution_count": 55,
   "metadata": {
    "collapsed": true
   },
   "outputs": [],
   "source": [
    "text = 'He was born in March 1991'"
   ]
  },
  {
   "cell_type": "markdown",
   "metadata": {},
   "source": [
    "tags:  \n",
    "```('He', 'PRP')\n",
    "('was', 'VBD')\n",
    "('born', 'VBN')\n",
    "('in', 'IN')\n",
    "('March', 'NNP')\n",
    "('1991', 'CD')```"
   ]
  },
  {
   "cell_type": "markdown",
   "metadata": {},
   "source": [
    "('March', 'NNP') is not a great category."
   ]
  },
  {
   "cell_type": "code",
   "execution_count": 56,
   "metadata": {
    "collapsed": false
   },
   "outputs": [
    {
     "name": "stdout",
     "output_type": "stream",
     "text": [
      "('He', None)\n",
      "('was', None)\n",
      "('born', None)\n",
      "('in', None)\n",
      "('March', 'MONTH')\n",
      "('1991', None)\n"
     ]
    }
   ],
   "source": [
    "# Custom POS tags\n",
    "pattern = [(r'(March)$','MONTH')]\n",
    "tagger = nltk.RegexpTagger(pattern)\n",
    "\n",
    "print(*tagger.tag(nltk.word_tokenize(text)), sep='\\n')"
   ]
  },
  {
   "cell_type": "code",
   "execution_count": 57,
   "metadata": {
    "collapsed": true
   },
   "outputs": [],
   "source": [
    "# TODO: Change pattern to include all months. "
   ]
  },
  {
   "cell_type": "code",
   "execution_count": null,
   "metadata": {
    "collapsed": false
   },
   "outputs": [],
   "source": []
  },
  {
   "cell_type": "markdown",
   "metadata": {},
   "source": [
    "<br>\n",
    "<br>\n",
    "<details><summary>\n",
    "Click here for a hint:\n",
    "</summary>\n",
    "Load months from Standard Library. Then programmatically write the pattern.\n",
    "</details>"
   ]
  },
  {
   "cell_type": "markdown",
   "metadata": {},
   "source": [
    "Text your new pattern against this text:"
   ]
  },
  {
   "cell_type": "code",
   "execution_count": 59,
   "metadata": {
    "collapsed": true
   },
   "outputs": [],
   "source": [
    "text = \"\"\"January brings the snow,\n",
    "makes our feet and fingers glow.\n",
    "\n",
    "February brings the rain,\n",
    "Thaws the frozen lake again.\n",
    "\n",
    "March brings breezes loud and shrill,\n",
    "stirs the dancing daffodil.\n",
    "\n",
    "April brings the primrose sweet,\n",
    "Scatters daises at our feet.\n",
    "\n",
    "May brings flocks of pretty lambs,\n",
    "Skipping by their fleecy damns.\n",
    "|\n",
    "June brings tulips, lilies, roses,\n",
    "Fills the children's hand with posies.\n",
    "\n",
    "Hot july brings cooling showers,\n",
    "Apricots and gillyflowers.\n",
    "\n",
    "August brings the sheaves of corn,\n",
    "Then the harvest home is borne.\n",
    "\n",
    "Warm september brings the fruit,\n",
    "Sportsmen then begin to shoot.\n",
    "\n",
    "Fresh October brings the pheasents,\n",
    "Then to gather nuts is pleasent.\n",
    "\n",
    "Dull November brings the blast,\n",
    "Then the leaves are whirling fast.\n",
    "\n",
    "Chill December brings the sleet,\n",
    "Blazing fire, and Christmas treat. \"\"\""
   ]
  },
  {
   "cell_type": "markdown",
   "metadata": {},
   "source": [
    "The output should be like:\n",
    "\n",
    "```\n",
    "('January', 'MONTH')\n",
    "('brings', None)\n",
    "('the', None)\n",
    "('snow', None)\n",
    "...\n",
    "```"
   ]
  },
  {
   "cell_type": "code",
   "execution_count": 60,
   "metadata": {
    "collapsed": true
   },
   "outputs": [],
   "source": [
    "# TODO: Apply pattern to text\n"
   ]
  },
  {
   "cell_type": "code",
   "execution_count": 61,
   "metadata": {
    "collapsed": true
   },
   "outputs": [],
   "source": [
    "# Unit Test\n",
    "for tag in tags_nltk:\n",
    "    if tag[0] in months:\n",
    "        assert tag[1] == 'MONTH'"
   ]
  },
  {
   "cell_type": "raw",
   "metadata": {},
   "source": [
    "\n",
    "----\n",
    "\n",
    "Let's write another regular expression tagger for verbs\n",
    "\n",
    "- VB: base form, e.g., ‘go’\n",
    "- VBZ: 3rd person singular present, e.g., goes\n",
    "- VBN: past participle, e.g., ‘gone’\n",
    "- VBG: gerund, e.g., ‘going’\n",
    "- VB: simple past, ‘wen"
   ]
  },
  {
   "cell_type": "code",
   "execution_count": 62,
   "metadata": {
    "collapsed": true
   },
   "outputs": [],
   "source": [
    "# TODO: Add the following regex patterns\n",
    "# - VBG: gerund, e.g., ‘going’\n",
    "# - 'NN': capturing all remaining patterns\n",
    "patterns = [\n",
    "(r'.*ed$', 'VBD'),\n",
    "(r'.*es$', 'VBZ'),\n",
    "(r'.*ould$', 'MD'),\n",
    "(r'.*\\'s$', 'NN$'),\n",
    "(r'.*s$', 'NNS')]"
   ]
  },
  {
   "cell_type": "code",
   "execution_count": 63,
   "metadata": {
    "collapsed": false
   },
   "outputs": [],
   "source": []
  },
  {
   "cell_type": "code",
   "execution_count": 65,
   "metadata": {
    "collapsed": false
   },
   "outputs": [],
   "source": [
    "text = \"It's going going gone Go Cubs\".split()\n",
    "\n",
    "regexp_tagger = nltk.RegexpTagger(patterns)\n",
    "tagged = regexp_tagger.tag(text)"
   ]
  },
  {
   "cell_type": "code",
   "execution_count": 66,
   "metadata": {
    "collapsed": false
   },
   "outputs": [],
   "source": [
    "assert tagged == [(\"It's\", 'NN$'),\n",
    " ('going', 'VBG'),\n",
    " ('going', 'VBG'),\n",
    " ('gone', 'NN'),\n",
    " ('Go', 'NN'),\n",
    " ('Cubs', 'NNS')]"
   ]
  },
  {
   "cell_type": "markdown",
   "metadata": {},
   "source": [
    "<br>\n",
    "<br> \n",
    "<br>\n",
    "\n",
    "----"
   ]
  }
 ],
 "metadata": {
  "kernelspec": {
   "display_name": "Python [nlp]",
   "language": "python",
   "name": "Python [nlp]"
  },
  "language_info": {
   "codemirror_mode": {
    "name": "ipython",
    "version": 3
   },
   "file_extension": ".py",
   "mimetype": "text/x-python",
   "name": "python",
   "nbconvert_exporter": "python",
   "pygments_lexer": "ipython3",
   "version": "3.5.2"
  }
 },
 "nbformat": 4,
 "nbformat_minor": 1
}
