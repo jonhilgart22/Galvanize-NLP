{
 "cells": [
  {
   "cell_type": "markdown",
   "metadata": {},
   "source": [
    "---\n",
    "Word Tagging, primarily part-of-speech\n",
    "----\n",
    "\n",
    "![](https://cdn.andertoons.com/img/toons/cartoon7026.png)"
   ]
  },
  {
   "cell_type": "markdown",
   "metadata": {},
   "source": [
    "Words fall into a small number of lexical categories, or parts of speech. \n",
    "\n",
    "These categories include nouns, verbs, adjectives, determiners, prepositions, and conjunctions. \n",
    "\n",
    "Though you’ve probably been exposed to these categories at various points, you may not have seen them all at once or remember exactly what they mean. \n",
    "\n",
    "The next cell contains a chart of the basic lexical categories, a definition, and an example, after which we’ll go into some additional details about these high-level categories."
   ]
  },
  {
   "cell_type": "markdown",
   "metadata": {},
   "source": [
    "Definitions and examples of commonly occurring lexical categories\n",
    "-----\n",
    "\n",
    "![](images/parts.png)\n",
    "\n",
    "Source: Taming Text, p18"
   ]
  },
  {
   "cell_type": "markdown",
   "metadata": {},
   "source": [
    "__Student Activity__: Create example sentences and tag an example word for each of these lexical categories"
   ]
  },
  {
   "cell_type": "code",
   "execution_count": 1,
   "metadata": {
    "collapsed": false
   },
   "outputs": [
    {
     "data": {
      "text/plain": [
       "'There is a friend around the bend named Ben.'"
      ]
     },
     "execution_count": 1,
     "metadata": {},
     "output_type": "execute_result"
    }
   ],
   "source": [
    "'There is a friend around the bend named Ben.'"
   ]
  },
  {
   "cell_type": "code",
   "execution_count": 2,
   "metadata": {
    "collapsed": true
   },
   "outputs": [],
   "source": [
    "#Friends - Noun\n",
    "# the -determiner"
   ]
  },
  {
   "cell_type": "code",
   "execution_count": null,
   "metadata": {
    "collapsed": true
   },
   "outputs": [],
   "source": [
    "#around - verb"
   ]
  },
  {
   "cell_type": "code",
   "execution_count": null,
   "metadata": {
    "collapsed": true
   },
   "outputs": [],
   "source": []
  },
  {
   "cell_type": "code",
   "execution_count": null,
   "metadata": {
    "collapsed": true
   },
   "outputs": [],
   "source": []
  },
  {
   "cell_type": "markdown",
   "metadata": {
    "collapsed": true
   },
   "source": [
    "----\n",
    "Definitions and examples of commonly occurring parts of speech\n",
    "-----\n",
    "\n",
    "![](images/tags.png)"
   ]
  },
  {
   "cell_type": "code",
   "execution_count": null,
   "metadata": {
    "collapsed": true
   },
   "outputs": [],
   "source": []
  },
  {
   "cell_type": "code",
   "execution_count": null,
   "metadata": {
    "collapsed": true
   },
   "outputs": [],
   "source": []
  },
  {
   "cell_type": "code",
   "execution_count": null,
   "metadata": {
    "collapsed": true
   },
   "outputs": [],
   "source": []
  },
  {
   "cell_type": "markdown",
   "metadata": {},
   "source": [
    "__Student Activity__: For each of these 5 groups, create a single example and all permutations within the group\n",
    "\n",
    "for example:\n",
    "\n",
    "| Tag | Example  |  \n",
    "|:-------:|:------:|\n",
    "| NN | school |\n",
    "| NNS | schools |  \n",
    "| NNS | Galvanize |  \n",
    "| NNPS | UCs |  "
   ]
  },
  {
   "cell_type": "code",
   "execution_count": 3,
   "metadata": {
    "collapsed": true
   },
   "outputs": [],
   "source": [
    "#student - NN\n",
    "#students - NNS\n",
    "#Carles - NNP\n",
    "\n"
   ]
  },
  {
   "cell_type": "markdown",
   "metadata": {},
   "source": [
    "<br>\n",
    "<br> \n",
    "<br>\n",
    "\n",
    "----"
   ]
  }
 ],
 "metadata": {
  "kernelspec": {
   "display_name": "Python [Root]",
   "language": "python",
   "name": "Python [Root]"
  },
  "language_info": {
   "codemirror_mode": {
    "name": "ipython",
    "version": 3
   },
   "file_extension": ".py",
   "mimetype": "text/x-python",
   "name": "python",
   "nbconvert_exporter": "python",
   "pygments_lexer": "ipython3",
   "version": "3.5.2"
  }
 },
 "nbformat": 4,
 "nbformat_minor": 1
}
