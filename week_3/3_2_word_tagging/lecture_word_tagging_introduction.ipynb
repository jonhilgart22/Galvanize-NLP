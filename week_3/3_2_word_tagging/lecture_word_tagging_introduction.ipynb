{
 "cells": [
  {
   "cell_type": "markdown",
   "metadata": {
    "slideshow": {
     "slide_type": "slide"
    }
   },
   "source": [
    "----\n",
    "Part-of-Speech (POS) Tagging\n",
    "===\n",
    "\n",
    "![](https://s-media-cache-ak0.pinimg.com/564x/f0/be/22/f0be221344466e36e24c20b581b8d3d3.jpg)"
   ]
  },
  {
   "cell_type": "markdown",
   "metadata": {
    "slideshow": {
     "slide_type": "slide"
    }
   },
   "source": [
    "Is POS: classification, clustering or regression?"
   ]
  },
  {
   "cell_type": "markdown",
   "metadata": {
    "slideshow": {
     "slide_type": "fragment"
    }
   },
   "source": [
    "POS is classification."
   ]
  },
  {
   "cell_type": "markdown",
   "metadata": {
    "slideshow": {
     "slide_type": "fragment"
    }
   },
   "source": [
    "Is POS hard or soft classification?"
   ]
  },
  {
   "cell_type": "markdown",
   "metadata": {
    "slideshow": {
     "slide_type": "fragment"
    }
   },
   "source": [
    "POS is __hard classification__!"
   ]
  },
  {
   "cell_type": "markdown",
   "metadata": {
    "slideshow": {
     "slide_type": "slide"
    }
   },
   "source": [
    "By The End Of This Session You Should Be Able To:\n",
    "----\n",
    "\n",
    "- Explain how Part-of-Speech (POS) Tagging is hard classification\n",
    "- List multiple ways of doing POS)\n",
    "- Build your POS tagger"
   ]
  },
  {
   "cell_type": "markdown",
   "metadata": {
    "collapsed": true,
    "slideshow": {
     "slide_type": "slide"
    }
   },
   "source": [
    "Tagging Hierarchy\n",
    "----\n",
    "\n",
    "![](http://www.nltk.org/book_1ed/tree_images/ch07-tree-1.png)"
   ]
  },
  {
   "cell_type": "markdown",
   "metadata": {
    "slideshow": {
     "slide_type": "slide"
    }
   },
   "source": [
    "---\n",
    "POS Methods\n",
    "---\n",
    "\n",
    "1. Rule-based, aka make a dictionary\n",
    "2. Statistical Models, aka using Graphical Models\n",
    "3. Deep Learning, aka what everyone does now"
   ]
  },
  {
   "cell_type": "markdown",
   "metadata": {
    "slideshow": {
     "slide_type": "slide"
    }
   },
   "source": [
    "Rule-based methods\n",
    "-----\n",
    "\n",
    "Language is too complex for these to work well in most cases"
   ]
  },
  {
   "cell_type": "markdown",
   "metadata": {
    "slideshow": {
     "slide_type": "slide"
    }
   },
   "source": [
    "Challenge Question\n",
    "------\n",
    "\n",
    "When would rule-based model work well for POS?"
   ]
  },
  {
   "cell_type": "markdown",
   "metadata": {
    "slideshow": {
     "slide_type": "fragment"
    }
   },
   "source": [
    "Specific domains\n",
    "\n",
    "Emojis - 🤓 💐"
   ]
  },
  {
   "cell_type": "markdown",
   "metadata": {
    "slideshow": {
     "slide_type": "slide"
    }
   },
   "source": [
    "---\n",
    "2. Statistical Models\n",
    "---\n",
    "\n",
    "Typically the classifier looks at each word in a sentence and decides whether part of speech it is. By combining these predictions, you can use a classifier to identify a sequence of words that make up a tag.\n",
    "\n",
    "- Currently most common\n",
    "- \"Good enough\" for performance and speed\n",
    "- Examples:\n",
    "    - Conditional random fields (CRFs)\n",
    "    - Hidden Markov model (HMM)\n",
    "    - Viterbi"
   ]
  },
  {
   "cell_type": "markdown",
   "metadata": {
    "slideshow": {
     "slide_type": "slide"
    }
   },
   "source": [
    "Hidden Markov model (HMM) \n",
    "----\n",
    "\n",
    "![](images/HMM.JPG)\n",
    "\n",
    "Model a sequence of observed items generated from hidden/latent states"
   ]
  },
  {
   "cell_type": "markdown",
   "metadata": {
    "slideshow": {
     "slide_type": "fragment"
    }
   },
   "source": [
    "![](http://i.stack.imgur.com/6pdIT.png)"
   ]
  },
  {
   "cell_type": "markdown",
   "metadata": {
    "slideshow": {
     "slide_type": "slide"
    }
   },
   "source": [
    "Graphic Models\n",
    "---\n",
    "\n",
    "![](images/graph_models.png)"
   ]
  },
  {
   "cell_type": "markdown",
   "metadata": {
    "slideshow": {
     "slide_type": "slide"
    }
   },
   "source": [
    "3. Deep Learning via Recurrent Neural Network (RNN)\n",
    "----\n",
    "\n",
    "> Deep Learning is eating machine learning\n",
    "\n",
    "Neural network that takes previous states are inputs to next state."
   ]
  },
  {
   "cell_type": "markdown",
   "metadata": {
    "slideshow": {
     "slide_type": "slide"
    }
   },
   "source": [
    "Recurrent neural network (RNN)\n",
    "----\n",
    "\n",
    "![](images/rnn_over_time.jpg)"
   ]
  },
  {
   "cell_type": "markdown",
   "metadata": {
    "slideshow": {
     "slide_type": "-"
    }
   },
   "source": [
    "<br>\n",
    "<br> \n",
    "<br>\n",
    "\n",
    "----"
   ]
  }
 ],
 "metadata": {
  "celltoolbar": "Slideshow",
  "kernelspec": {
   "display_name": "Python 3",
   "language": "python",
   "name": "python3"
  },
  "language_info": {
   "codemirror_mode": {
    "name": "ipython",
    "version": 3
   },
   "file_extension": ".py",
   "mimetype": "text/x-python",
   "name": "python",
   "nbconvert_exporter": "python",
   "pygments_lexer": "ipython3",
   "version": "3.5.2"
  }
 },
 "nbformat": 4,
 "nbformat_minor": 0
}
