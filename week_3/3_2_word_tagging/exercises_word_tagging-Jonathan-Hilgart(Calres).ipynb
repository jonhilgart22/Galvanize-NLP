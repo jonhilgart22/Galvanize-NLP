{
 "cells": [
  {
   "cell_type": "markdown",
   "metadata": {},
   "source": [
    "POS tagging exercises\n",
    "----"
   ]
  },
  {
   "cell_type": "markdown",
   "metadata": {},
   "source": [
    "Compare packages: nltk vs. TextBlob"
   ]
  },
  {
   "cell_type": "code",
   "execution_count": 1,
   "metadata": {
    "collapsed": true
   },
   "outputs": [],
   "source": [
    "reset -fs"
   ]
  },
  {
   "cell_type": "code",
   "execution_count": 2,
   "metadata": {
    "collapsed": true
   },
   "outputs": [],
   "source": [
    "text = \"\"\"My whole life is about winning. I don't lose often. I almost never lose.\n",
    "- Donald Trump\"\"\"\n",
    "import nltk"
   ]
  },
  {
   "cell_type": "code",
   "execution_count": 3,
   "metadata": {
    "collapsed": false
   },
   "outputs": [],
   "source": [
    "# TODO: POS tag the tokens with nltk\n",
    "tags_nltk = nltk.pos_tag(nltk.tokenize.word_tokenize(text))"
   ]
  },
  {
   "cell_type": "code",
   "execution_count": 4,
   "metadata": {
    "collapsed": false
   },
   "outputs": [],
   "source": [
    "assert tags_nltk == [('My', 'PRP$'),\n",
    " ('whole', 'JJ'),\n",
    " ('life', 'NN'),\n",
    " ('is', 'VBZ'),\n",
    " ('about', 'IN'),\n",
    " ('winning', 'VBG'),\n",
    " ('.', '.'),\n",
    " ('I', 'PRP'),\n",
    " ('do', 'VBP'),\n",
    " (\"n't\", 'RB'),\n",
    " ('lose', 'VB'),\n",
    " ('often', 'RB'),\n",
    " ('.', '.'),\n",
    " ('I', 'PRP'),\n",
    " ('almost', 'RB'),\n",
    " ('never', 'RB'),\n",
    " ('lose', 'VBP'),\n",
    " ('.', '.'),\n",
    " ('-', ':'),\n",
    " ('Donald', 'NNP'),\n",
    " ('Trump', 'NNP')]"
   ]
  },
  {
   "cell_type": "code",
   "execution_count": 5,
   "metadata": {
    "collapsed": false
   },
   "outputs": [],
   "source": [
    "# TODO: POS tag the tokens with TextBlob\n",
    "from textblob import TextBlob\n",
    "\n"
   ]
  },
  {
   "cell_type": "code",
   "execution_count": 6,
   "metadata": {
    "collapsed": false
   },
   "outputs": [],
   "source": [
    "tags_blob = TextBlob(text)\n",
    "tags_blob = tags_blob.tags"
   ]
  },
  {
   "cell_type": "code",
   "execution_count": 7,
   "metadata": {
    "collapsed": false
   },
   "outputs": [],
   "source": [
    "assert tags_blob == [('My', 'PRP$'),\n",
    " ('whole', 'JJ'),\n",
    " ('life', 'NN'),\n",
    " ('is', 'VBZ'),\n",
    " ('about', 'IN'),\n",
    " ('winning', 'VBG'),\n",
    " ('I', 'PRP'),\n",
    " ('do', 'VBP'),\n",
    " (\"n't\", 'RB'),\n",
    " ('lose', 'VB'),\n",
    " ('often', 'RB'),\n",
    " ('I', 'PRP'),\n",
    " ('almost', 'RB'),\n",
    " ('never', 'RB'),\n",
    " ('lose', 'VBP'),\n",
    " ('Donald', 'NNP'),\n",
    " ('Trump', 'NNP')]\n"
   ]
  },
  {
   "cell_type": "code",
   "execution_count": 8,
   "metadata": {
    "collapsed": true
   },
   "outputs": [],
   "source": [
    "# TODO: Compare the results by hand (DO NOT WRITE ANY CODE). Are the same? Why or Why not?"
   ]
  },
  {
   "cell_type": "code",
   "execution_count": 9,
   "metadata": {
    "collapsed": false
   },
   "outputs": [
    {
     "name": "stdout",
     "output_type": "stream",
     "text": [
      "[(('My', 'PRP$'), 'nltk', ('My', 'PRP$'), 'textblob'), (('whole', 'JJ'), 'nltk', ('whole', 'JJ'), 'textblob'), (('life', 'NN'), 'nltk', ('life', 'NN'), 'textblob'), (('is', 'VBZ'), 'nltk', ('is', 'VBZ'), 'textblob'), (('about', 'IN'), 'nltk', ('about', 'IN'), 'textblob'), (('winning', 'VBG'), 'nltk', ('winning', 'VBG'), 'textblob'), (('.', '.'), 'nltk', ('I', 'PRP'), 'textblob'), (('I', 'PRP'), 'nltk', ('do', 'VBP'), 'textblob'), (('do', 'VBP'), 'nltk', (\"n't\", 'RB'), 'textblob'), ((\"n't\", 'RB'), 'nltk', ('lose', 'VB'), 'textblob'), (('lose', 'VB'), 'nltk', ('often', 'RB'), 'textblob'), (('often', 'RB'), 'nltk', ('I', 'PRP'), 'textblob'), (('.', '.'), 'nltk', ('almost', 'RB'), 'textblob'), (('I', 'PRP'), 'nltk', ('never', 'RB'), 'textblob'), (('almost', 'RB'), 'nltk', ('lose', 'VBP'), 'textblob'), (('never', 'RB'), 'nltk', ('Donald', 'NNP'), 'textblob'), (('lose', 'VBP'), 'nltk', ('Trump', 'NNP'), 'textblob')]\n"
     ]
    }
   ],
   "source": [
    "print([(a,'nltk',b,'textblob') for a,b in zip(tags_nltk,tags_blob)])"
   ]
  },
  {
   "cell_type": "markdown",
   "metadata": {},
   "source": [
    "## They are not the same.\n",
    "- NLTK includes punctuation in tokens\n",
    "- Textblob does not"
   ]
  },
  {
   "cell_type": "code",
   "execution_count": 10,
   "metadata": {
    "collapsed": true
   },
   "outputs": [],
   "source": [
    "# TODO: Which api is easier to use?\n",
    "\n",
    "# Why? Try to describe in it computer science / oop terms"
   ]
  },
  {
   "cell_type": "markdown",
   "metadata": {
    "collapsed": true
   },
   "source": [
    "> Textbob is more object oriented. You can create an object instance of a textblob class, and then called methods on this class. NLTK is more functional, where you have to call functions for each method. \n",
    "- Textblob allows you to chain methods together in an easier to read format.\n"
   ]
  },
  {
   "cell_type": "markdown",
   "metadata": {},
   "source": [
    "<details><summary>\n",
    "Click here for hints\n",
    "</summary>\n",
    "- [Class methods](https://julien.danjou.info/blog/2013/guide-python-static-class-abstract-methods)  \n",
    "- [Properties](http://www.python-course.eu/python3_properties.php)\n",
    "</details>"
   ]
  },
  {
   "cell_type": "markdown",
   "metadata": {},
   "source": [
    "----\n",
    "Let's define custom tags (fancy).\n",
    "\n",
    "![](https://media.giphy.com/media/VlchmIoZPjjYQ/giphy.gif)"
   ]
  },
  {
   "cell_type": "markdown",
   "metadata": {},
   "source": [
    "Default tagger: use the most frequent tag"
   ]
  },
  {
   "cell_type": "code",
   "execution_count": 11,
   "metadata": {
    "collapsed": false
   },
   "outputs": [],
   "source": [
    "tokens = \"Thieves leave young athletes in the dark\".split()"
   ]
  },
  {
   "cell_type": "code",
   "execution_count": 12,
   "metadata": {
    "collapsed": false
   },
   "outputs": [],
   "source": [
    "# TODO: Create a default tagger makes all tags NN - Noun, singular or mass\n",
    "class Default_Tag():\n",
    "    \"\"\"Set every token as a noun\"\"\"\n",
    "    def __init__(self,token):\n",
    "        self.token = token\n",
    "    def tag(self):\n",
    "        \n",
    "        return [(i,'NN') for i in self.token]"
   ]
  },
  {
   "cell_type": "code",
   "execution_count": 13,
   "metadata": {
    "collapsed": true
   },
   "outputs": [],
   "source": [
    "default_tagger = Default_Tag(tokens)"
   ]
  },
  {
   "cell_type": "code",
   "execution_count": 14,
   "metadata": {
    "collapsed": false
   },
   "outputs": [],
   "source": [
    "default_tags = default_tagger.tag()"
   ]
  },
  {
   "cell_type": "code",
   "execution_count": 15,
   "metadata": {
    "collapsed": true
   },
   "outputs": [],
   "source": [
    "assert default_tags == [('Thieves', 'NN'),\n",
    " ('leave', 'NN'),\n",
    " ('young', 'NN'),\n",
    " ('athletes', 'NN'),\n",
    " ('in', 'NN'),\n",
    " ('the', 'NN'),\n",
    " ('dark', 'NN')]"
   ]
  },
  {
   "cell_type": "code",
   "execution_count": 16,
   "metadata": {
    "collapsed": true
   },
   "outputs": [],
   "source": [
    "# TODO: Is a default tagger good for anything?"
   ]
  },
  {
   "cell_type": "markdown",
   "metadata": {
    "collapsed": true
   },
   "source": [
    "- This default tagger is good for evaluating baseline performance of your POS tagger."
   ]
  },
  {
   "cell_type": "markdown",
   "metadata": {},
   "source": [
    "The regular expression tagger"
   ]
  },
  {
   "cell_type": "code",
   "execution_count": 17,
   "metadata": {
    "collapsed": true
   },
   "outputs": [],
   "source": [
    "text = 'He was born in March 1991'"
   ]
  },
  {
   "cell_type": "markdown",
   "metadata": {},
   "source": [
    "tags:  \n",
    "```('He', 'PRP')\n",
    "('was', 'VBD')\n",
    "('born', 'VBN')\n",
    "('in', 'IN')\n",
    "('March', 'NNP')\n",
    "('1991', 'CD')```"
   ]
  },
  {
   "cell_type": "markdown",
   "metadata": {},
   "source": [
    "('March', 'NNP') is not a great category."
   ]
  },
  {
   "cell_type": "code",
   "execution_count": 18,
   "metadata": {
    "collapsed": false
   },
   "outputs": [
    {
     "name": "stdout",
     "output_type": "stream",
     "text": [
      "('He', None)\n",
      "('was', None)\n",
      "('born', None)\n",
      "('in', None)\n",
      "('March', 'MONTH')\n",
      "('1991', None)\n"
     ]
    }
   ],
   "source": [
    "# Custom POS tags\n",
    "pattern = [(r'(March)$','MONTH')]\n",
    "tagger = nltk.RegexpTagger(pattern)\n",
    "\n",
    "print(*tagger.tag(nltk.word_tokenize(text)), sep='\\n')"
   ]
  },
  {
   "cell_type": "code",
   "execution_count": 19,
   "metadata": {
    "collapsed": true
   },
   "outputs": [],
   "source": [
    "# TODO: Change pattern to include all months. "
   ]
  },
  {
   "cell_type": "code",
   "execution_count": 20,
   "metadata": {
    "collapsed": true
   },
   "outputs": [],
   "source": [
    "import calendar"
   ]
  },
  {
   "cell_type": "code",
   "execution_count": 21,
   "metadata": {
    "collapsed": false
   },
   "outputs": [],
   "source": [
    "from calendar import month\n"
   ]
  },
  {
   "cell_type": "code",
   "execution_count": 22,
   "metadata": {
    "collapsed": false
   },
   "outputs": [
    {
     "name": "stdout",
     "output_type": "stream",
     "text": [
      "<calendar.TextCalendar object at 0x1167a6278>\n"
     ]
    }
   ],
   "source": [
    "print(calendar.TextCalendar(0))"
   ]
  },
  {
   "cell_type": "code",
   "execution_count": 36,
   "metadata": {
    "collapsed": false
   },
   "outputs": [
    {
     "ename": "TypeError",
     "evalue": "'module' object is not callable",
     "output_type": "error",
     "traceback": [
      "\u001b[0;31m---------------------------------------------------------------------------\u001b[0m",
      "\u001b[0;31mTypeError\u001b[0m                                 Traceback (most recent call last)",
      "\u001b[0;32m<ipython-input-36-b7fec2da0e37>\u001b[0m in \u001b[0;36m<module>\u001b[0;34m()\u001b[0m\n\u001b[0;32m----> 1\u001b[0;31m \u001b[0mcalendar\u001b[0m\u001b[0;34m.\u001b[0m\u001b[0mdatetime\u001b[0m\u001b[0;34m(\u001b[0m\u001b[0;34m)\u001b[0m\u001b[0;34m\u001b[0m\u001b[0m\n\u001b[0m",
      "\u001b[0;31mTypeError\u001b[0m: 'module' object is not callable"
     ]
    }
   ],
   "source": [
    "calendar."
   ]
  },
  {
   "cell_type": "code",
   "execution_count": null,
   "metadata": {
    "collapsed": true
   },
   "outputs": [],
   "source": []
  },
  {
   "cell_type": "code",
   "execution_count": null,
   "metadata": {
    "collapsed": true
   },
   "outputs": [],
   "source": []
  },
  {
   "cell_type": "code",
   "execution_count": null,
   "metadata": {
    "collapsed": true
   },
   "outputs": [],
   "source": []
  },
  {
   "cell_type": "markdown",
   "metadata": {},
   "source": [
    "<br>\n",
    "<br>\n",
    "<details><summary>\n",
    "Click here for a hint:\n",
    "</summary>\n",
    "Load months from Standard Library. Then programmatically write the pattern.\n",
    "</details>"
   ]
  },
  {
   "cell_type": "markdown",
   "metadata": {},
   "source": [
    "Text your new pattern against this text:"
   ]
  },
  {
   "cell_type": "code",
   "execution_count": 38,
   "metadata": {
    "collapsed": true
   },
   "outputs": [],
   "source": [
    "text = \"\"\"January brings the snow,\n",
    "makes our feet and fingers glow.\n",
    "\n",
    "February brings the rain,\n",
    "Thaws the frozen lake again.\n",
    "\n",
    "March brings breezes loud and shrill,\n",
    "stirs the dancing daffodil.\n",
    "\n",
    "April brings the primrose sweet,\n",
    "Scatters daises at our feet.\n",
    "\n",
    "May brings flocks of pretty lambs,\n",
    "Skipping by their fleecy damns.\n",
    "|\n",
    "June brings tulips, lilies, roses,\n",
    "Fills the children's hand with posies.\n",
    "\n",
    "Hot july brings cooling showers,\n",
    "Apricots and gillyflowers.\n",
    "\n",
    "August brings the sheaves of corn,\n",
    "Then the harvest home is borne.\n",
    "\n",
    "Warm september brings the fruit,\n",
    "Sportsmen then begin to shoot.\n",
    "\n",
    "Fresh October brings the pheasents,\n",
    "Then to gather nuts is pleasent.\n",
    "\n",
    "Dull November brings the blast,\n",
    "Then the leaves are whirling fast.\n",
    "\n",
    "Chill December brings the sleet,\n",
    "Blazing fire, and Christmas treat. \"\"\""
   ]
  },
  {
   "cell_type": "raw",
   "metadata": {},
   "source": [
    "#Improved\n",
    "\n"
   ]
  },
  {
   "cell_type": "code",
   "execution_count": 39,
   "metadata": {
    "collapsed": false
   },
   "outputs": [
    {
     "name": "stdout",
     "output_type": "stream",
     "text": [
      "('January', 'MONTH')\n",
      "('brings', None)\n",
      "('the', None)\n",
      "('snow', None)\n",
      "(',', None)\n",
      "('makes', None)\n",
      "('our', None)\n",
      "('feet', None)\n",
      "('and', None)\n",
      "('fingers', None)\n",
      "('glow', None)\n",
      "('.', None)\n",
      "('February', 'MONTH')\n",
      "('brings', None)\n",
      "('the', None)\n",
      "('rain', None)\n",
      "(',', None)\n",
      "('Thaws', None)\n",
      "('the', None)\n",
      "('frozen', None)\n",
      "('lake', None)\n",
      "('again', None)\n",
      "('.', None)\n",
      "('March', 'MONTH')\n",
      "('brings', None)\n",
      "('breezes', None)\n",
      "('loud', None)\n",
      "('and', None)\n",
      "('shrill', None)\n",
      "(',', None)\n",
      "('stirs', None)\n",
      "('the', None)\n",
      "('dancing', None)\n",
      "('daffodil', None)\n",
      "('.', None)\n",
      "('April', 'MONTH')\n",
      "('brings', None)\n",
      "('the', None)\n",
      "('primrose', None)\n",
      "('sweet', None)\n",
      "(',', None)\n",
      "('Scatters', None)\n",
      "('daises', None)\n",
      "('at', None)\n",
      "('our', None)\n",
      "('feet', None)\n",
      "('.', None)\n",
      "('May', 'MONTH')\n",
      "('brings', None)\n",
      "('flocks', None)\n",
      "('of', None)\n",
      "('pretty', None)\n",
      "('lambs', None)\n",
      "(',', None)\n",
      "('Skipping', None)\n",
      "('by', None)\n",
      "('their', None)\n",
      "('fleecy', None)\n",
      "('damns', None)\n",
      "('.', None)\n",
      "('|', None)\n",
      "('June', 'MONTH')\n",
      "('brings', None)\n",
      "('tulips', None)\n",
      "(',', None)\n",
      "('lilies', None)\n",
      "(',', None)\n",
      "('roses', None)\n",
      "(',', None)\n",
      "('Fills', None)\n",
      "('the', None)\n",
      "('children', None)\n",
      "(\"'s\", None)\n",
      "('hand', None)\n",
      "('with', None)\n",
      "('posies', None)\n",
      "('.', None)\n",
      "('Hot', None)\n",
      "('july', 'MONTH')\n",
      "('brings', None)\n",
      "('cooling', None)\n",
      "('showers', None)\n",
      "(',', None)\n",
      "('Apricots', None)\n",
      "('and', None)\n",
      "('gillyflowers', None)\n",
      "('.', None)\n",
      "('August', 'MONTH')\n",
      "('brings', None)\n",
      "('the', None)\n",
      "('sheaves', None)\n",
      "('of', None)\n",
      "('corn', None)\n",
      "(',', None)\n",
      "('Then', None)\n",
      "('the', None)\n",
      "('harvest', None)\n",
      "('home', None)\n",
      "('is', None)\n",
      "('borne', None)\n",
      "('.', None)\n",
      "('Warm', None)\n",
      "('september', 'MONTH')\n",
      "('brings', None)\n",
      "('the', None)\n",
      "('fruit', None)\n",
      "(',', None)\n",
      "('Sportsmen', None)\n",
      "('then', None)\n",
      "('begin', None)\n",
      "('to', None)\n",
      "('shoot', None)\n",
      "('.', None)\n",
      "('Fresh', None)\n",
      "('October', 'MONTH')\n",
      "('brings', None)\n",
      "('the', None)\n",
      "('pheasents', None)\n",
      "(',', None)\n",
      "('Then', None)\n",
      "('to', None)\n",
      "('gather', None)\n",
      "('nuts', None)\n",
      "('is', None)\n",
      "('pleasent', None)\n",
      "('.', None)\n",
      "('Dull', None)\n",
      "('November', 'MONTH')\n",
      "('brings', None)\n",
      "('the', None)\n",
      "('blast', None)\n",
      "(',', None)\n",
      "('Then', None)\n",
      "('the', None)\n",
      "('leaves', None)\n",
      "('are', None)\n",
      "('whirling', None)\n",
      "('fast', None)\n",
      "('.', None)\n",
      "('Chill', None)\n",
      "('December', 'MONTH')\n",
      "('brings', None)\n",
      "('the', None)\n",
      "('sleet', None)\n",
      "(',', None)\n",
      "('Blazing', None)\n",
      "('fire', None)\n",
      "(',', None)\n",
      "('and', None)\n",
      "('Christmas', None)\n",
      "('treat', None)\n",
      "('.', None)\n"
     ]
    }
   ],
   "source": [
    "# Custom POS tags\n",
    "pattern = [(r'(March)$','MONTH'),(r'(April)$','MONTH'),(r'(May)$','MONTH'),\\\n",
    "           (r'(June)$','MONTH'),(r'(July)$','MONTH'),(r'(August)$','MONTH'),\\\n",
    "           (r'(September)$','MONTH'),(r'(October)$','MONTH'), (r'(November)$','MONTH'),\n",
    "           (r'(December)$','MONTH'),(r'(January)$','MONTH'),(r'(February)$','MONTH'),\n",
    "          (r'(march)$','MONTH'),(r'(april)$','MONTH'),(r'(may)$','MONTH'),\\\n",
    "           (r'(june)$','MONTH'),(r'(july)$','MONTH'),(r'(august)$','MONTH'),\\\n",
    "           (r'(september)$','MONTH'),(r'(october)$','MONTH'), (r'(november)$','MONTH'),\n",
    "           (r'(december)$','MONTH'),(r'(january)$','MONTH'),(r'(february)$','MONTH')]\n",
    "tagger = nltk.RegexpTagger([i for i in pattern])\n",
    "\n",
    "print(*tagger.tag(nltk.word_tokenize(text)), sep='\\n')"
   ]
  },
  {
   "cell_type": "code",
   "execution_count": 44,
   "metadata": {
    "collapsed": false
   },
   "outputs": [],
   "source": [
    "import calendar\n",
    "import re\n",
    "import string\n",
    "import datetime\n",
    "now = datetime.datetime.now()\n",
    "current_year = now.year\n",
    "\n",
    "\n",
    "all_calendar = calendar.calendar(current_year)\n",
    "\n",
    "\n",
    "months = re.findall('([A-Z]\\w{3,})', all_calendar)\n",
    "\n",
    "\n",
    "all_months = \"\"\n",
    "for month in months:\n",
    "    all_months = all_months + month + \"|\"\n",
    "all_months\n",
    "\n",
    "\n",
    "all_months = all_months[:-1]\n",
    "\n",
    "pattern = [(r'({}|{})$'.format(all_months,all_months.lower()),'MONTH')]"
   ]
  },
  {
   "cell_type": "markdown",
   "metadata": {},
   "source": [
    "The output should be like:\n",
    "\n",
    "```\n",
    "('January', 'MONTH')\n",
    "('brings', None)\n",
    "('the', None)\n",
    "('snow', None)\n",
    "...\n",
    "```"
   ]
  },
  {
   "cell_type": "code",
   "execution_count": 45,
   "metadata": {
    "collapsed": false
   },
   "outputs": [],
   "source": [
    "# TODO: Apply pattern to text\n",
    "months = tagger.tag(nltk.word_tokenize(text))"
   ]
  },
  {
   "cell_type": "code",
   "execution_count": 46,
   "metadata": {
    "collapsed": false
   },
   "outputs": [
    {
     "data": {
      "text/plain": [
       "[('January', 'MONTH'),\n",
       " ('brings', None),\n",
       " ('the', None),\n",
       " ('snow', None),\n",
       " (',', None),\n",
       " ('makes', None),\n",
       " ('our', None),\n",
       " ('feet', None),\n",
       " ('and', None),\n",
       " ('fingers', None),\n",
       " ('glow', None),\n",
       " ('.', None),\n",
       " ('February', 'MONTH'),\n",
       " ('brings', None),\n",
       " ('the', None),\n",
       " ('rain', None),\n",
       " (',', None),\n",
       " ('Thaws', None),\n",
       " ('the', None),\n",
       " ('frozen', None),\n",
       " ('lake', None),\n",
       " ('again', None),\n",
       " ('.', None),\n",
       " ('March', 'MONTH'),\n",
       " ('brings', None),\n",
       " ('breezes', None),\n",
       " ('loud', None),\n",
       " ('and', None),\n",
       " ('shrill', None),\n",
       " (',', None),\n",
       " ('stirs', None),\n",
       " ('the', None),\n",
       " ('dancing', None),\n",
       " ('daffodil', None),\n",
       " ('.', None),\n",
       " ('April', 'MONTH'),\n",
       " ('brings', None),\n",
       " ('the', None),\n",
       " ('primrose', None),\n",
       " ('sweet', None),\n",
       " (',', None),\n",
       " ('Scatters', None),\n",
       " ('daises', None),\n",
       " ('at', None),\n",
       " ('our', None),\n",
       " ('feet', None),\n",
       " ('.', None),\n",
       " ('May', 'MONTH'),\n",
       " ('brings', None),\n",
       " ('flocks', None),\n",
       " ('of', None),\n",
       " ('pretty', None),\n",
       " ('lambs', None),\n",
       " (',', None),\n",
       " ('Skipping', None),\n",
       " ('by', None),\n",
       " ('their', None),\n",
       " ('fleecy', None),\n",
       " ('damns', None),\n",
       " ('.', None),\n",
       " ('|', None),\n",
       " ('June', 'MONTH'),\n",
       " ('brings', None),\n",
       " ('tulips', None),\n",
       " (',', None),\n",
       " ('lilies', None),\n",
       " (',', None),\n",
       " ('roses', None),\n",
       " (',', None),\n",
       " ('Fills', None),\n",
       " ('the', None),\n",
       " ('children', None),\n",
       " (\"'s\", None),\n",
       " ('hand', None),\n",
       " ('with', None),\n",
       " ('posies', None),\n",
       " ('.', None),\n",
       " ('Hot', None),\n",
       " ('july', 'MONTH'),\n",
       " ('brings', None),\n",
       " ('cooling', None),\n",
       " ('showers', None),\n",
       " (',', None),\n",
       " ('Apricots', None),\n",
       " ('and', None),\n",
       " ('gillyflowers', None),\n",
       " ('.', None),\n",
       " ('August', 'MONTH'),\n",
       " ('brings', None),\n",
       " ('the', None),\n",
       " ('sheaves', None),\n",
       " ('of', None),\n",
       " ('corn', None),\n",
       " (',', None),\n",
       " ('Then', None),\n",
       " ('the', None),\n",
       " ('harvest', None),\n",
       " ('home', None),\n",
       " ('is', None),\n",
       " ('borne', None),\n",
       " ('.', None),\n",
       " ('Warm', None),\n",
       " ('september', 'MONTH'),\n",
       " ('brings', None),\n",
       " ('the', None),\n",
       " ('fruit', None),\n",
       " (',', None),\n",
       " ('Sportsmen', None),\n",
       " ('then', None),\n",
       " ('begin', None),\n",
       " ('to', None),\n",
       " ('shoot', None),\n",
       " ('.', None),\n",
       " ('Fresh', None),\n",
       " ('October', 'MONTH'),\n",
       " ('brings', None),\n",
       " ('the', None),\n",
       " ('pheasents', None),\n",
       " (',', None),\n",
       " ('Then', None),\n",
       " ('to', None),\n",
       " ('gather', None),\n",
       " ('nuts', None),\n",
       " ('is', None),\n",
       " ('pleasent', None),\n",
       " ('.', None),\n",
       " ('Dull', None),\n",
       " ('November', 'MONTH'),\n",
       " ('brings', None),\n",
       " ('the', None),\n",
       " ('blast', None),\n",
       " (',', None),\n",
       " ('Then', None),\n",
       " ('the', None),\n",
       " ('leaves', None),\n",
       " ('are', None),\n",
       " ('whirling', None),\n",
       " ('fast', None),\n",
       " ('.', None),\n",
       " ('Chill', None),\n",
       " ('December', 'MONTH'),\n",
       " ('brings', None),\n",
       " ('the', None),\n",
       " ('sleet', None),\n",
       " (',', None),\n",
       " ('Blazing', None),\n",
       " ('fire', None),\n",
       " (',', None),\n",
       " ('and', None),\n",
       " ('Christmas', None),\n",
       " ('treat', None),\n",
       " ('.', None)]"
      ]
     },
     "execution_count": 46,
     "metadata": {},
     "output_type": "execute_result"
    }
   ],
   "source": [
    "months"
   ]
  },
  {
   "cell_type": "code",
   "execution_count": 43,
   "metadata": {
    "collapsed": false
   },
   "outputs": [],
   "source": [
    "# Unit Test\n",
    "for tag in tags_nltk:\n",
    "    if tag[0] in months:\n",
    "        assert tag[1] == 'MONTH'"
   ]
  },
  {
   "cell_type": "raw",
   "metadata": {},
   "source": [
    "\n",
    "----\n",
    "\n",
    "Let's write another regular expression tagger for verbs\n",
    "\n",
    "- VB: base form, e.g., ‘go’\n",
    "- VBZ: 3rd person singular present, e.g., goes\n",
    "- VBN: past participle, e.g., ‘gone’\n",
    "- VBG: gerund, e.g., ‘going’\n",
    "- VB: simple past, ‘wen"
   ]
  },
  {
   "cell_type": "code",
   "execution_count": 29,
   "metadata": {
    "collapsed": true
   },
   "outputs": [],
   "source": [
    "# TODO: Add the following regex patterns\n",
    "# - VBG: gerund, e.g., ‘going’\n",
    "# - 'NN': capturing all remaining patterns\n",
    "patterns = [\n",
    "(r'.*ed$', 'VBD'),\n",
    "(r'.*es$', 'VBZ'),\n",
    "(r'.*ould$', 'MD'),\n",
    "(r'.*\\'s$', 'NN$'),\n",
    "(r'.*s$', 'NNS'),\n",
    "(r'.*ing$', 'VBG'),\n",
    "(r'.*', 'NN')]"
   ]
  },
  {
   "cell_type": "code",
   "execution_count": null,
   "metadata": {
    "collapsed": true
   },
   "outputs": [],
   "source": []
  },
  {
   "cell_type": "code",
   "execution_count": null,
   "metadata": {
    "collapsed": false
   },
   "outputs": [],
   "source": []
  },
  {
   "cell_type": "code",
   "execution_count": 30,
   "metadata": {
    "collapsed": false
   },
   "outputs": [],
   "source": [
    "text = \"It's going going gone Go Cubs\".split()\n",
    "\n",
    "regexp_tagger = nltk.RegexpTagger(patterns)\n",
    "tagged = regexp_tagger.tag(text)"
   ]
  },
  {
   "cell_type": "code",
   "execution_count": 31,
   "metadata": {
    "collapsed": false
   },
   "outputs": [
    {
     "data": {
      "text/plain": [
       "[(\"It's\", 'NN$'),\n",
       " ('going', 'VBG'),\n",
       " ('going', 'VBG'),\n",
       " ('gone', 'NN'),\n",
       " ('Go', 'NN'),\n",
       " ('Cubs', 'NNS')]"
      ]
     },
     "execution_count": 31,
     "metadata": {},
     "output_type": "execute_result"
    }
   ],
   "source": [
    "tagged"
   ]
  },
  {
   "cell_type": "code",
   "execution_count": 32,
   "metadata": {
    "collapsed": false
   },
   "outputs": [],
   "source": [
    "assert tagged == [(\"It's\", 'NN$'),\n",
    " ('going', 'VBG'),\n",
    " ('going', 'VBG'),\n",
    " ('gone', 'NN'),\n",
    " ('Go', 'NN'),\n",
    " ('Cubs', 'NNS')]"
   ]
  },
  {
   "cell_type": "markdown",
   "metadata": {},
   "source": [
    "<br>\n",
    "<br> \n",
    "<br>\n",
    "\n",
    "----"
   ]
  }
 ],
 "metadata": {
  "anaconda-cloud": {},
  "kernelspec": {
   "display_name": "Python [nlp]",
   "language": "python",
   "name": "Python [nlp]"
  },
  "language_info": {
   "codemirror_mode": {
    "name": "ipython",
    "version": 3
   },
   "file_extension": ".py",
   "mimetype": "text/x-python",
   "name": "python",
   "nbconvert_exporter": "python",
   "pygments_lexer": "ipython3",
   "version": "3.5.2"
  }
 },
 "nbformat": 4,
 "nbformat_minor": 1
}
