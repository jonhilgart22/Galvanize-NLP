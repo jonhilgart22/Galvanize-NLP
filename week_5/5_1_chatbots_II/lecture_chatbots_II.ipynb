{
 "cells": [
  {
   "cell_type": "markdown",
   "metadata": {
    "collapsed": true,
    "slideshow": {
     "slide_type": "slide"
    }
   },
   "source": [
    "By The End Of This Session You Should Be Able To:\n",
    "----\n",
    "\n",
    "- List evaluation metrics in general and for chatbots\n",
    "- Think about how to model state in chatbots"
   ]
  },
  {
   "cell_type": "markdown",
   "metadata": {
    "collapsed": true,
    "slideshow": {
     "slide_type": "slide"
    }
   },
   "source": [
    "List evaluation metrics for:\n",
    "\n",
    "- IR\n",
    "- Machine Learning\n",
    "- SaaS Business\n",
    "- Website\n",
    "- Mobile\n",
    "- Chatbots"
   ]
  },
  {
   "cell_type": "markdown",
   "metadata": {
    "collapsed": true,
    "slideshow": {
     "slide_type": "slide"
    }
   },
   "source": [
    "IR\n",
    "----\n",
    "\n",
    "__System__\n",
    "\n",
    "- Google Search Axes\n",
    "\n",
    "__SERP__\n",
    "\n",
    "- Precision\n",
    "- Recall\n",
    "- F score"
   ]
  },
  {
   "cell_type": "markdown",
   "metadata": {
    "slideshow": {
     "slide_type": "slide"
    }
   },
   "source": [
    "Machine Learning\n",
    "-----\n",
    "\n",
    "1) Generalization\n",
    "\n",
    "- Accuracy\n",
    "- Area Under ROC Curve\n",
    "- Confusion Matrix\n",
    "\n"
   ]
  },
  {
   "cell_type": "markdown",
   "metadata": {
    "slideshow": {
     "slide_type": "fragment"
    }
   },
   "source": [
    "2) Value add to the company (aka, this model will make X dollars next year). Profit would be awesome cost function!"
   ]
  },
  {
   "cell_type": "markdown",
   "metadata": {
    "collapsed": true,
    "slideshow": {
     "slide_type": "slide"
    }
   },
   "source": [
    "SaaS Business\n",
    "----\n",
    "\n",
    "1. Monthly Recurring Revenue (MRR)\n",
    "2. Churn\n",
    "3. Customer Aquisition Cost (CAC)\n",
    "4. Customer Lifetime Value (CLTV)\n",
    "5. return on investment (ROI)\n",
    "\n",
    "ROI = (gain from investment - cost of investment) / cost of investment"
   ]
  },
  {
   "cell_type": "markdown",
   "metadata": {
    "collapsed": true,
    "slideshow": {
     "slide_type": "slide"
    }
   },
   "source": [
    "Website\n",
    "----\n",
    "\n",
    "- Website traffic\n",
    "- Traffic sources\n",
    "- Bounce rate\n",
    "- Time on site\n",
    "- Conversion rate"
   ]
  },
  {
   "cell_type": "markdown",
   "metadata": {
    "collapsed": true,
    "slideshow": {
     "slide_type": "slide"
    }
   },
   "source": [
    "Mobile\n",
    "----\n",
    "\n",
    "- Downloads\n",
    "- Installs\n",
    "- The number and quality of reviews and ratings\n",
    "- Daily Active Users (DAU) / Monthly Active Users (MAU) \n",
    "- Daily sessions per DAU"
   ]
  },
  {
   "cell_type": "markdown",
   "metadata": {
    "collapsed": true,
    "slideshow": {
     "slide_type": "slide"
    }
   },
   "source": [
    "Chatbots\n",
    "----\n",
    "\n",
    "?\n",
    "\n",
    "- Active and engaged rates (Number of interactions)\n",
    "- Conversation steps (Length of interactions)\n",
    "- Average number of conversations per user\n",
    "- Retention: 1 day, 7 day, and 30 day\n",
    "\n",
    "[Learn more here](https://www.getbotmetrics.com/)"
   ]
  },
  {
   "cell_type": "markdown",
   "metadata": {
    "collapsed": true,
    "slideshow": {
     "slide_type": "slide"
    }
   },
   "source": [
    "![](https://qph.ec.quoracdn.net/main-qimg-e0d5d1b2dd6d9bc329a197c2ee359e88?convert_to_webp=true)"
   ]
  },
  {
   "cell_type": "markdown",
   "metadata": {
    "collapsed": true,
    "slideshow": {
     "slide_type": "slide"
    }
   },
   "source": [
    "Beyond (Simple) Pattern Matching\n",
    "-----\n",
    "\n",
    "- Language modeling matching\n",
    "- Logical conjunctions and disjunctions\n",
    "- Topic-based rule application\n",
    "\n",
    "[Source](http://www.gamasutra.com/view/feature/6305/beyond_fa%C3%A7ade_pattern_matching_.php)"
   ]
  },
  {
   "cell_type": "markdown",
   "metadata": {
    "collapsed": true,
    "slideshow": {
     "slide_type": "slide"
    }
   },
   "source": [
    "Language Modeling Matching\n",
    "-----\n",
    "\n",
    "Matching sets of words instead of single words approximates matching meaning."
   ]
  },
  {
   "cell_type": "markdown",
   "metadata": {
    "collapsed": true,
    "slideshow": {
     "slide_type": "slide"
    }
   },
   "source": [
    "Logical conjunctions and disjunctions\n",
    "-----\n",
    "\n",
    "The absence of words is as important as the presence.\n",
    "\n",
    "`(Apple ∧ Computer) ∧ (¬ fruit)`"
   ]
  },
  {
   "cell_type": "markdown",
   "metadata": {
    "slideshow": {
     "slide_type": "slide"
    }
   },
   "source": [
    "Topic-based rule application\n",
    "----\n",
    "\n",
    "Prioritizes rules inside a matching topic over rules outside of it.\n",
    "\n",
    "Probabilistic decision tree\n",
    "\n",
    "For example of topic, could \"angry customer\".\n"
   ]
  },
  {
   "cell_type": "markdown",
   "metadata": {
    "slideshow": {
     "slide_type": "slide"
    }
   },
   "source": [
    "Modeling State\n",
    "----\n",
    "\n",
    "Stolen from _Using Deep Reinforcement Learning for Dialogue Systems_ @MLconf SF 2016\n",
    "\n",
    "- [Video](https://www.youtube.com/watch?v=s-8WkKhHYqA&list=PLrbAIdPI69Pi88waiIv8gZ3agEU_hBaVM&index=3)\n",
    "- [Slides](http://www.slideshare.net/SessionsEvents/harm-van-seijen-research-scientist-maluuba-at-mlconf-sf-2016)"
   ]
  },
  {
   "cell_type": "markdown",
   "metadata": {
    "slideshow": {
     "slide_type": "slide"
    }
   },
   "source": [
    "![](images/state.png)"
   ]
  },
  {
   "cell_type": "markdown",
   "metadata": {
    "slideshow": {
     "slide_type": "slide"
    }
   },
   "source": [
    "![](images/rl.png)"
   ]
  },
  {
   "cell_type": "markdown",
   "metadata": {
    "slideshow": {
     "slide_type": "slide"
    }
   },
   "source": [
    "The basic reinforcement learning model consists of:\n",
    "\n",
    "- A set of environment states S\n",
    "- A set of actions A\n",
    "- Rules of transitioning between states\n",
    "- Rules that determine the scalar immediate reward of a transition\n",
    "- Rules that describe what the agent observes\n",
    "\n",
    "[Source](https://en.wikipedia.org/wiki/Reinforcement_learning)"
   ]
  },
  {
   "cell_type": "markdown",
   "metadata": {
    "slideshow": {
     "slide_type": "slide"
    }
   },
   "source": [
    "Go read (or watch for 4th edition)\n",
    "----\n",
    "\n",
    "![](https://images-na.ssl-images-amazon.com/images/I/512DrLttdnL._SX377_BO1,204,203,200_.jpg)\n",
    "[Artificial Intelligence: A Modern Approach](http://aima.cs.berkeley.edu/)"
   ]
  },
  {
   "cell_type": "code",
   "execution_count": 1,
   "metadata": {
    "collapsed": false,
    "slideshow": {
     "slide_type": "slide"
    }
   },
   "outputs": [
    {
     "data": {
      "image/jpeg": "[encoded data removed]",
      "text/html": [
       "\n",
       "        <iframe\n",
       "            width=\"400\"\n",
       "            height=\"300\"\n",
       "            src=\"https://www.youtube.com/embed/V1eYniJ0Rnk\"\n",
       "            frameborder=\"0\"\n",
       "            allowfullscreen\n",
       "        ></iframe>\n",
       "        "
      ],
      "text/plain": [
       "<IPython.lib.display.YouTubeVideo at 0x10483b160>"
      ]
     },
     "execution_count": 1,
     "metadata": {},
     "output_type": "execute_result"
    }
   ],
   "source": [
    "from IPython.display import YouTubeVideo\n",
    "\n",
    "YouTubeVideo(\"V1eYniJ0Rnk\")"
   ]
  },
  {
   "cell_type": "markdown",
   "metadata": {
    "slideshow": {
     "slide_type": "slide"
    }
   },
   "source": [
    "![](images/dialogue.png)"
   ]
  },
  {
   "cell_type": "markdown",
   "metadata": {
    "slideshow": {
     "slide_type": "slide"
    }
   },
   "source": [
    "> We introduce a new model, the Recurrent Entity Network (EntNet). It is equipped\n",
    "with a dynamic long-term memory which allows it to maintain and update a representation\n",
    "of the state of the world as it receives new data. For language understanding\n",
    "tasks, it can reason on-the-fly as it reads text, not just when it is required\n",
    "to answer a question or respond...\n",
    "\n",
    "\n",
    "[https://openreview.net/pdf?id=rJTKKKqeg](TRACKING THE WORLD STATE WITH\n",
    "RECURRENT ENTITY NETWORKS)\n",
    "\n",
    "Plug: [Deep Learning Study Group (San Francisco)](https://www.meetup.com/deep-learning-sf/)\n",
    "\n"
   ]
  },
  {
   "cell_type": "markdown",
   "metadata": {
    "collapsed": true,
    "slideshow": {
     "slide_type": "slide"
    }
   },
   "source": [
    "End-to-End Dialog Agents\n",
    "-----\n",
    "\n",
    "- Be able to combine all its knowledge and reason to fulfill complex tasks\n",
    "- Handle long open-ended conversations involving effectively tracking and predicting dialog and world states\n",
    "- Be able to learn (new tasks) and acquire knowledge via conversation and reading (and observing the world in multimodal scenarios)"
   ]
  },
  {
   "cell_type": "markdown",
   "metadata": {
    "slideshow": {
     "slide_type": "slide"
    }
   },
   "source": [
    "Summary\n",
    "----\n",
    "\n",
    "- As Data Scientist, it is our job to pick evaluation metrics (then delegate the collection of them to someone else)\n",
    "- We have decent metrics for most things but not chatbots\n",
    "- We can move beyond simple pattern matching with better models, including topic modeling\n",
    "- It is unclear how to model state, RL might work"
   ]
  },
  {
   "cell_type": "markdown",
   "metadata": {
    "slideshow": {
     "slide_type": "slide"
    }
   },
   "source": [
    "<br>\n",
    "<br> \n",
    "<br>\n",
    "\n",
    "----"
   ]
  }
 ],
 "metadata": {
  "celltoolbar": "Slideshow",
  "kernelspec": {
   "display_name": "Python 3",
   "language": "python",
   "name": "python3"
  },
  "language_info": {
   "codemirror_mode": {
    "name": "ipython",
    "version": 3
   },
   "file_extension": ".py",
   "mimetype": "text/x-python",
   "name": "python",
   "nbconvert_exporter": "python",
   "pygments_lexer": "ipython3",
   "version": "3.5.2"
  }
 },
 "nbformat": 4,
 "nbformat_minor": 1
}
