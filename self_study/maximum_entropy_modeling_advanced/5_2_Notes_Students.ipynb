{
 "cells": [
  {
   "cell_type": "markdown",
   "metadata": {},
   "source": [
    "5.2 Maximum Entropy Modelling with Maximum A Posteriori (MAP) estimation\n",
    "==="
   ]
  },
  {
   "cell_type": "markdown",
   "metadata": {},
   "source": [
    "- Information Theory sidebar\n",
    "    - Entropy  uncertainity\n",
    "        - Max entropy = Uniform\n",
    "        - Min entropy = Impluse / Dirac delta function\n",
    "        - \"surprise\" = log(1/probability)"
   ]
  },
  {
   "cell_type": "markdown",
   "metadata": {},
   "source": [
    "![Dirac delta function](images/dirac_function.png)"
   ]
  },
  {
   "cell_type": "markdown",
   "metadata": {},
   "source": [
    "MaxEnt modeling: maximize entropy, given constraints generated from features \n",
    "\n",
    "Assume uniform (max entropy), unless we have data. Then we use the data to change our model of the world."
   ]
  },
  {
   "cell_type": "markdown",
   "metadata": {},
   "source": [
    "MaxEnt Example\n",
    "----\n",
    "\n",
    "Uniform Prior:\n",
    "    PERSON = .5\n",
    "    ORGANIZATION = .5\n",
    "\n",
    "Data counts:\n",
    "    PERSON = 50\n",
    "    ORGANIZATION = 10\n",
    "    \n",
    "Add feature:\n",
    "    PERSON is 5x more likely than ORGANIZATION\n",
    "    \n",
    "Updated Prior:\n",
    "    PERSON = 0.833\n",
    "    ORGANIZATION = 0.166\n",
    "    \n",
    "Segement data\n",
    "    PERSON_CLEB_FALSE = 100\n",
    "    PERSON_CLEB_TRUE = 10\n",
    "\n",
    "Add feature:\n",
    "    PERSON_CLEB_FALSE is 10x more likely than PERSON_CLEB_TRUE\n",
    "    \n",
    "![](images/update.jpg)"
   ]
  },
  {
   "cell_type": "markdown",
   "metadata": {},
   "source": [
    "Updated Prior:\n",
    "    PERSON = 0.833\n",
    "        PERSON_CLEB_FALSE = 0.757\n",
    "        PERSON_CLEB_TRUE = 0.0757 \n",
    "    ORGANIZATION = 0.166"
   ]
  },
  {
   "cell_type": "markdown",
   "metadata": {},
   "source": [
    "Modelling Highlights\n",
    "---\n",
    "- MaxEnt is Convex\n",
    "- Contrast to Naive Bayes: in MaxEnt there is no double counting\n",
    "- Greedy is \"good enough\"\n",
    "- Avoid overfitting, smooothing is regulariztion \n",
    "- Early stopping is \"good enough\""
   ]
  },
  {
   "cell_type": "markdown",
   "metadata": {},
   "source": [
    "MAP\n",
    "---\n",
    "Maximum A Posteriori (MAP) estimation\n",
    "\n",
    "Use all the information (weighted)\n"
   ]
  },
  {
   "cell_type": "markdown",
   "metadata": {},
   "source": [
    "MLE \n",
    "> The maximum likelihood estimate (MLE) of a parameter is the value of the parameter that maximizes the likelihood, where the likelihood is a function of the parameter and is actually equal to the probability of the data conditioning on that parameter."
   ]
  },
  {
   "cell_type": "markdown",
   "metadata": {},
   "source": [
    "MAP\n",
    "> Maximum a posteriori (MAP) estimation is the value of the parameter that maximizes the entire posterior distribution (which is calculated using the likelihood). A MAP estimate is the mode of the posterior distribution."
   ]
  },
  {
   "cell_type": "markdown",
   "metadata": {},
   "source": [
    "Note that there is no difference between the MLE and the MAP estimate if the prior distribution we were assuming was a constant."
   ]
  }
 ],
 "metadata": {
  "kernelspec": {
   "display_name": "Python 2",
   "language": "python",
   "name": "python2"
  },
  "language_info": {
   "codemirror_mode": {
    "name": "ipython",
    "version": 2
   },
   "file_extension": ".py",
   "mimetype": "text/x-python",
   "name": "python",
   "nbconvert_exporter": "python",
   "pygments_lexer": "ipython2",
   "version": "2.7.10"
  }
 },
 "nbformat": 4,
 "nbformat_minor": 0
}
