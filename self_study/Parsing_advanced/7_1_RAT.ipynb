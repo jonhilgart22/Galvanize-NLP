{
 "cells": [
  {
   "cell_type": "markdown",
   "metadata": {},
   "source": [
    "7.1 RAT\n",
    "====\n",
    "\n",
    "1) With the following grammar, what are valid ways to label each word in \"People people people people people\" with a part of speech?  (**Warning:** the grammar has changed slightly from the video quiz.) <br>\n",
    "      \n",
    "    S → NP VP  <br>\n",
    "    VP → V NP  <br>\n",
    "    VP → V NP PP  <br>\n",
    "    NP → NP NP   <br>\n",
    "    NP → NP PP   <br>\n",
    "    NP → N   <br>\n",
    "    PP → P NP   <br>\n",
    "       <br>\n",
    "    N → people   <br>\n",
    "    V → people   <br>\n",
    "     <br>\n",
    "    A. V N N N N  <br>\n",
    "    B. N V N N N  <br>\n",
    "    D. N N V N N  <br>\n",
    "    D. N N N V N  <br>\n",
    "    E. N N N N V   <br>\n",
    "\n",
    "2) Convert the following small grammar into Chomsky Normal Form:   <br>\n",
    "     S → NP VP  <br>\n",
    "     NP → N  <br>\n",
    "     VP → V NP <br>\n",
    "     VP → V NP PP <br>\n",
    "     PP → P NP   <br>\n",
    " <br>\n",
    "\n",
    "3) Which of the following constituents (and with what maximum probability) can you make?\n",
    "        \n",
    "|  |  |  \n",
    "|:-------|:------|\n",
    "| NNS   0.0023\t<br> IN     0.0014 <br> VB     0.001 <br>  |??   ?? <br> ??   ?? |\n",
    "| |PP     0.2 <br> NNS    0.0001 |  \n",
    "\n",
    "__Rules__:  <br>\n",
    "        PP → IN: 0.002\t\tNP → NNS NNS: 0.01 <br>\n",
    "        NP → NNS NP: 0.005    NP → NNS PP: 0.01 <br>\n",
    "        VP → VB PP: 0.015\t VP → VB NP: 0.045 <br>\n",
    "\n",
    "4) What is the labeled __recall__ of the following guess parse?  \n",
    "    **Guess:** `S(0:14), NP(0:2), VP(2:13), NP(3:13), NP(3:4), ADJP(4:13), PP(5:13), NP(6:13), NP(6:10), PP(10:13), NP(11:13)`  \n",
    "    **Gold:**  `S(0:14), NP(0:2), VP(2:13), ADJP(3:13), PP(5:13), NP(6:13), NP(6:10), PP(10:13), NP(11:13)`"
   ]
  }
 ],
 "metadata": {
  "kernelspec": {
   "display_name": "Python 2",
   "language": "python",
   "name": "python2"
  },
  "language_info": {
   "codemirror_mode": {
    "name": "ipython",
    "version": 2
   },
   "file_extension": ".py",
   "mimetype": "text/x-python",
   "name": "python",
   "nbconvert_exporter": "python",
   "pygments_lexer": "ipython2",
   "version": "2.7.10"
  }
 },
 "nbformat": 4,
 "nbformat_minor": 0
}
