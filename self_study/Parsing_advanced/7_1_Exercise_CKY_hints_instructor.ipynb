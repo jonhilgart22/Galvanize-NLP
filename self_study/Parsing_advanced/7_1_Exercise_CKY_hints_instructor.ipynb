{
 "cells": [
  {
   "cell_type": "markdown",
   "metadata": {},
   "source": [
    "Hints for CKY\n",
    "===="
   ]
  },
  {
   "cell_type": "markdown",
   "metadata": {},
   "source": [
    "issue: reading in *.rmg file <br>\n",
    "resolution: uses Sublime Text\n",
    "\n",
    "----"
   ]
  },
  {
   "cell_type": "markdown",
   "metadata": {},
   "source": [
    "issue: class TreeAnnotations is confusing <br>\n",
    "resolution: Implement vertical markovization is extra Extra Credit\n",
    "\n",
    "---"
   ]
  },
  {
   "cell_type": "markdown",
   "metadata": {},
   "source": [
    "issue: namespace conflict with `io` python standard library <br>\n",
    "resolution: need to manually alias local `io`\n",
    "\n",
    "---"
   ]
  },
  {
   "cell_type": "markdown",
   "metadata": {},
   "source": [
    "issue: ntlk `Tree` != CKY code base `Tree` <br>\n",
    "resolution: look at `TreeClassAnontation` very closely, use a subpart\n",
    "\n",
    "---"
   ]
  },
  {
   "cell_type": "markdown",
   "metadata": {},
   "source": [
    "issue: General confusion (even after re-watching video) <br>\n",
    "resolution: Look deeply at pseudo-code\n",
    "\n",
    "----"
   ]
  },
  {
   "cell_type": "markdown",
   "metadata": {},
   "source": [
    "issue: more general confusion <br>\n",
    "resolution: look at Norvig AI book has even better pseudo-code\n",
    "\n",
    "---"
   ]
  },
  {
   "cell_type": "markdown",
   "metadata": {},
   "source": [
    "issue: too much in a file\n",
    "resolution: put a separate class into a file\n",
    "\n",
    "---"
   ]
  },
  {
   "cell_type": "markdown",
   "metadata": {},
   "source": [
    "there is has been discussion around `@classmethod`\n",
    "\n",
    "the `@` means it is a decorator. \n",
    "learn more - http://simeonfranklin.com/blog/2012/jul/1/python-decorators-in-12-steps/\n",
    "\n",
    "the `@classmethod` is special kind of decorator. \n",
    "learn more -  https://julien.danjou.info/blog/2013/guide-python-static-class-abstract-methods\n",
    "\n",
    "---"
   ]
  },
  {
   "cell_type": "markdown",
   "metadata": {},
   "source": [
    "issue: excessive suffering <br>\n",
    "resolution: [example solution in python](https://github.com/peterwilliams97/nlp-class/blob/master/pa6-cky-v3/python/PCFGParserTester.py)\n",
    "\n",
    "---\n"
   ]
  },
  {
   "cell_type": "markdown",
   "metadata": {},
   "source": [
    "part 3 help\n",
    "http://www.nltk.org/_modules/nltk/treetransforms.html\n",
    "\n",
    "---"
   ]
  },
  {
   "cell_type": "markdown",
   "metadata": {},
   "source": [
    "Example solutions:\n",
    "- [in Java](https://code.google.com/p/tdx-nlp/source/browse/trunk/pa3/java/src/cs224n/assignments/PCFGParserTester.java?r=84)"
   ]
  },
  {
   "cell_type": "code",
   "execution_count": 2,
   "metadata": {
    "collapsed": false
   },
   "outputs": [],
   "source": [
    "import copy"
   ]
  },
  {
   "cell_type": "code",
   "execution_count": null,
   "metadata": {
    "collapsed": true
   },
   "outputs": [],
   "source": [
    "copy.copy"
   ]
  }
 ],
 "metadata": {
  "kernelspec": {
   "display_name": "Python 2",
   "language": "python",
   "name": "python2"
  },
  "language_info": {
   "codemirror_mode": {
    "name": "ipython",
    "version": 2
   },
   "file_extension": ".py",
   "mimetype": "text/x-python",
   "name": "python",
   "nbconvert_exporter": "python",
   "pygments_lexer": "ipython2",
   "version": "2.7.10"
  }
 },
 "nbformat": 4,
 "nbformat_minor": 0
}
