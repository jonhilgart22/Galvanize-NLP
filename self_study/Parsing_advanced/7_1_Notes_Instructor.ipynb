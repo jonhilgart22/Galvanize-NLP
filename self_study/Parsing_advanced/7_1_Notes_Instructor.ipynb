{
 "cells": [
  {
   "cell_type": "markdown",
   "metadata": {},
   "source": [
    "7.1 PCFG\n",
    "===\n"
   ]
  },
  {
   "cell_type": "markdown",
   "metadata": {},
   "source": [
    "Agenda\n",
    "---------------------\n",
    "1. OYO\n",
    "2. Review\n",
    "3. RATs\n",
    "4. intro_ntlk_grammar.ipynb\n",
    "5. Exercise"
   ]
  },
  {
   "cell_type": "markdown",
   "metadata": {},
   "source": [
    "OYO\n",
    "----\n",
    "\n",
    "No you can't \"People puke on the party bus.\"\n",
    "1. There are no adjectives or determiners in our lanauage."
   ]
  },
  {
   "cell_type": "markdown",
   "metadata": {},
   "source": [
    "Review\n",
    "-----\n",
    "\n",
    "See 5.4 for intro to CFG\n",
    "\n",
    "### PCFG:\n",
    "\n",
    "1. Add conditional probablities (constrainsted to sum to 1)\n",
    "2. A grammar generates a language model\n",
    "3. Remeber previous lanaguage models like ngrams!\n",
    "\n",
    "We can cacluate the probability of each possible tree.\n",
    "We sum all the possible trees to give the probality of the grammaer creating that particular sentence (i.e., sequence of words.)\n",
    "\n",
    "This __way more powerful__ than ngrams!\n",
    "\n",
    "We might not get all the semnantics right be we can chain together more likely sequences.\n",
    "\n",
    "### Chomksky Normal Form:\n",
    "\n",
    "Rewrite rules:\n",
    "1. Remove more than binary rewrites.\n",
    "2. Remove unary (including empty) rewrites. \n",
    "\n",
    "Replace #1 with new categories.\n",
    "\n",
    "Replace #2 with a direct transformation.\n",
    "\n",
    "Makes the grammar have __way more__ rules. But each one is simplier.\n",
    "\n",
    "This makes it CFGs less human readable but more computer readable. Computers love simple rules and binary trees.\n",
    "\n",
    "### CKY Algorthim\n",
    "\n",
    "we don't want to permutation and evaluation (exponential time).\n",
    "\n",
    "Dynamic programming for the win\n",
    "\n",
    "parse triangle / chart\n",
    "\n",
    "__steps__:\n",
    "1. fill in single word parse cells\n",
    "2. fill in double word parse cells\n",
    "3. fill ... \n",
    "\n",
    "Dynamic programming: we build up a solution chart out of nested sub-solutions by \"memorize\" previous solutions\n",
    "\n",
    "### Evaluation\n",
    "\n",
    "divide a sentence with sign posts:\n",
    "\n",
    "> See Spot Run\n",
    "\n",
    "0 See 1 Spot 2 Run 3\n",
    "\n",
    "HT Dijkstra  [Numbering should start at zero](https://www.cs.utexas.edu/users/EWD/transcriptions/EWD08xx/EWD831.html)\n",
    "\n",
    "Look at each phrase as an unit. Each pharse unit can right or wrong. Calculate precsion and recall same way.\n",
    "\n",
    "\n"
   ]
  },
  {
   "cell_type": "markdown",
   "metadata": {},
   "source": [
    "RAT Solutions\n",
    "----\n",
    "1. B, C, D. The grammer does **not** allow V at begining or end\n",
    "2.  S → NP VP | NP → N | VP → V NP | PP → P NP (Doesn't change)\n",
    "     VP → V @VP_V | @VP_V → NP PP (Binarize the rule) \n",
    "3. 2, 3  \n",
    "    We cannot get PP because there is only a unary rule PP → IN, and there is no way to form IN in the next cell.  \n",
    "    We get NP with maximum probability (of 4.6×10−6) using the rule NP → NNS PP.  \n",
    "    We get VP by using the rule VP → VB PP with probability 9×10−6.  \n",
    "    Although we can form NP from NP → NNS NNS with probability 2.3×10−9, there is a higher probability way of forming the NP (NP → NNS PP).\n",
    "4. The recall is 8/9, since 8 of the guess parse's guess extactly macth the 9 brackets in gold parse."
   ]
  },
  {
   "cell_type": "markdown",
   "metadata": {},
   "source": [
    "More CFG code\n",
    "----\n",
    "intro_ntlk_grammar.ipynb"
   ]
  },
  {
   "cell_type": "markdown",
   "metadata": {},
   "source": [
    "Exercise Notes\n",
    "---\n",
    "\n",
    "- Students find this exercise very challenging. Level set. The goal is better understand CKY, the complexitites of working a larger code base and messy data structures. Focus on process (over outcome).\n",
    "- Suggest using a IDE (e.g., wing, pycharm, eclipse)\n",
    "- The output is very hard to interpert. It is easy to get lost in the weeds\n",
    "- Since they have the entire week, running it [Scrum-style](https://en.wikipedia.org/wiki/Scrum_(software_development)#Daily_scrum) works while"
   ]
  }
 ],
 "metadata": {
  "kernelspec": {
   "display_name": "Python 2",
   "language": "python",
   "name": "python2"
  },
  "language_info": {
   "codemirror_mode": {
    "name": "ipython",
    "version": 2
   },
   "file_extension": ".py",
   "mimetype": "text/x-python",
   "name": "python",
   "nbconvert_exporter": "python",
   "pygments_lexer": "ipython2",
   "version": "2.7.10"
  }
 },
 "nbformat": 4,
 "nbformat_minor": 0
}
