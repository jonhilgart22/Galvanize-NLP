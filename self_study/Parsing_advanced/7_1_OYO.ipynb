{
 "cells": [
  {
   "cell_type": "markdown",
   "metadata": {},
   "source": [
    "7.1 On Your Own (with a friend)\n",
    "=====\n",
    "\n",
    "Make your own pairs and use this Context Free Grammar (CFG):\n",
    "\n",
    "    S -> NP VP\n",
    "    VP -> V NP\n",
    "    VP -> V NP PP\n",
    "    NP -> NP NP\n",
    "    NP -> NP PP\n",
    "    NP -> N\n",
    "    NP -> e\n",
    "    PP -> P NP\n",
    "    \n",
    "    N -> people\n",
    "    N -> bus\n",
    "    V -> party\n",
    "    V -> puke\n",
    "    P -> on\n",
    "\n",
    "1. Can \"People party on people.\"? Why or why not?\n",
    "2. Can \"People puke on the party bus.\"? Why or why not? \n",
    "3. Finish this setence: People party `________`.\n",
    "4. Finish this senstence: People puke `___________`.\n",
    "5. Make up your sentence: `_______________________`.\n",
    "\n",
    "(Hint: Diagram each of the sentences.)\n",
    "\n",
    "In this example, what is the interplay between syntax and semantics?"
   ]
  }
 ],
 "metadata": {
  "kernelspec": {
   "display_name": "Python 2",
   "language": "python",
   "name": "python2"
  },
  "language_info": {
   "codemirror_mode": {
    "name": "ipython",
    "version": 2
   },
   "file_extension": ".py",
   "mimetype": "text/x-python",
   "name": "python",
   "nbconvert_exporter": "python",
   "pygments_lexer": "ipython2",
   "version": "2.7.10"
  }
 },
 "nbformat": 4,
 "nbformat_minor": 0
}
