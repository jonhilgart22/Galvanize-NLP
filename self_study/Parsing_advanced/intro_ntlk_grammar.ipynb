{
 "cells": [
  {
   "cell_type": "markdown",
   "metadata": {},
   "source": [
    "# Constituent-based Syntactic Parsing with NLTK"
   ]
  },
  {
   "cell_type": "markdown",
   "metadata": {},
   "source": [
    "NLTK contains classes to work with PCFGs. This document reviews existing building blocks in NLTK 3.0.\n",
    "\n",
    "1. Treebank\n",
    "1. Trees\n",
    "1. CFG\n",
    "1. PCFG\n",
    "1. Parsers"
   ]
  },
  {
   "cell_type": "markdown",
   "metadata": {},
   "source": [
    "## Treebank"
   ]
  },
  {
   "cell_type": "markdown",
   "metadata": {},
   "source": [
    "NLTK includes a 5% fragment of the Penn Treebank corpus (about 1,600 sentences). You can observe the parsed trees using the treebank corpus reader:"
   ]
  },
  {
   "cell_type": "code",
   "execution_count": 2,
   "metadata": {
    "collapsed": false
   },
   "outputs": [
    {
     "name": "stdout",
     "output_type": "stream",
     "text": [
      "(S\n",
      "  (NP-SBJ\n",
      "    (NP (NNP Pierre) (NNP Vinken))\n",
      "    (, ,)\n",
      "    (ADJP (NP (CD 61) (NNS years)) (JJ old))\n",
      "    (, ,))\n",
      "  (VP\n",
      "    (MD will)\n",
      "    (VP\n",
      "      (VB join)\n",
      "      (NP (DT the) (NN board))\n",
      "      (PP-CLR (IN as) (NP (DT a) (JJ nonexecutive) (NN director)))\n",
      "      (NP-TMP (NNP Nov.) (CD 29))))\n",
      "  (. .))\n"
     ]
    }
   ],
   "source": [
    "import nltk\n",
    "print nltk.corpus.treebank.parsed_sents('wsj_0001.mrg')[0]"
   ]
  },
  {
   "cell_type": "markdown",
   "metadata": {},
   "source": [
    "The draw() method produces a graphical rendering of the trees:"
   ]
  },
  {
   "cell_type": "code",
   "execution_count": 3,
   "metadata": {
    "collapsed": false
   },
   "outputs": [
    {
     "ename": "KeyboardInterrupt",
     "evalue": "",
     "output_type": "error",
     "traceback": [
      "\u001b[0;31m---------------------------------------------------------------------------\u001b[0m",
      "\u001b[0;31mKeyboardInterrupt\u001b[0m                         Traceback (most recent call last)",
      "\u001b[0;32m<ipython-input-3-f4bb4e2a8078>\u001b[0m in \u001b[0;36m<module>\u001b[0;34m()\u001b[0m\n\u001b[0;32m----> 1\u001b[0;31m \u001b[0mnltk\u001b[0m\u001b[0;34m.\u001b[0m\u001b[0mcorpus\u001b[0m\u001b[0;34m.\u001b[0m\u001b[0mtreebank\u001b[0m\u001b[0;34m.\u001b[0m\u001b[0mparsed_sents\u001b[0m\u001b[0;34m(\u001b[0m\u001b[0;34m'wsj_0001.mrg'\u001b[0m\u001b[0;34m)\u001b[0m\u001b[0;34m[\u001b[0m\u001b[0;36m0\u001b[0m\u001b[0;34m]\u001b[0m\u001b[0;34m.\u001b[0m\u001b[0mdraw\u001b[0m\u001b[0;34m(\u001b[0m\u001b[0;34m)\u001b[0m\u001b[0;34m\u001b[0m\u001b[0m\n\u001b[0m",
      "\u001b[0;32m/Users/brian/anaconda/lib/python2.7/site-packages/nltk/tree.pyc\u001b[0m in \u001b[0;36mdraw\u001b[0;34m(self)\u001b[0m\n\u001b[1;32m    684\u001b[0m         \"\"\"\n\u001b[1;32m    685\u001b[0m         \u001b[0;32mfrom\u001b[0m \u001b[0mnltk\u001b[0m\u001b[0;34m.\u001b[0m\u001b[0mdraw\u001b[0m\u001b[0;34m.\u001b[0m\u001b[0mtree\u001b[0m \u001b[0;32mimport\u001b[0m \u001b[0mdraw_trees\u001b[0m\u001b[0;34m\u001b[0m\u001b[0m\n\u001b[0;32m--> 686\u001b[0;31m         \u001b[0mdraw_trees\u001b[0m\u001b[0;34m(\u001b[0m\u001b[0mself\u001b[0m\u001b[0;34m)\u001b[0m\u001b[0;34m\u001b[0m\u001b[0m\n\u001b[0m\u001b[1;32m    687\u001b[0m \u001b[0;34m\u001b[0m\u001b[0m\n\u001b[1;32m    688\u001b[0m     \u001b[0;32mdef\u001b[0m \u001b[0mpretty_print\u001b[0m\u001b[0;34m(\u001b[0m\u001b[0mself\u001b[0m\u001b[0;34m,\u001b[0m \u001b[0msentence\u001b[0m\u001b[0;34m=\u001b[0m\u001b[0mNone\u001b[0m\u001b[0;34m,\u001b[0m \u001b[0mhighlight\u001b[0m\u001b[0;34m=\u001b[0m\u001b[0;34m(\u001b[0m\u001b[0;34m)\u001b[0m\u001b[0;34m,\u001b[0m \u001b[0mstream\u001b[0m\u001b[0;34m=\u001b[0m\u001b[0mNone\u001b[0m\u001b[0;34m,\u001b[0m \u001b[0;34m**\u001b[0m\u001b[0mkwargs\u001b[0m\u001b[0;34m)\u001b[0m\u001b[0;34m:\u001b[0m\u001b[0;34m\u001b[0m\u001b[0m\n",
      "\u001b[0;32m/Users/brian/anaconda/lib/python2.7/site-packages/nltk/draw/tree.pyc\u001b[0m in \u001b[0;36mdraw_trees\u001b[0;34m(*trees)\u001b[0m\n\u001b[1;32m    864\u001b[0m     \u001b[0;34m:\u001b[0m\u001b[0mrtype\u001b[0m\u001b[0;34m:\u001b[0m \u001b[0mNone\u001b[0m\u001b[0;34m\u001b[0m\u001b[0m\n\u001b[1;32m    865\u001b[0m     \"\"\"\n\u001b[0;32m--> 866\u001b[0;31m     \u001b[0mTreeView\u001b[0m\u001b[0;34m(\u001b[0m\u001b[0;34m*\u001b[0m\u001b[0mtrees\u001b[0m\u001b[0;34m)\u001b[0m\u001b[0;34m.\u001b[0m\u001b[0mmainloop\u001b[0m\u001b[0;34m(\u001b[0m\u001b[0;34m)\u001b[0m\u001b[0;34m\u001b[0m\u001b[0m\n\u001b[0m\u001b[1;32m    867\u001b[0m     \u001b[0;32mreturn\u001b[0m\u001b[0;34m\u001b[0m\u001b[0m\n\u001b[1;32m    868\u001b[0m \u001b[0;34m\u001b[0m\u001b[0m\n",
      "\u001b[0;32m/Users/brian/anaconda/lib/python2.7/site-packages/nltk/draw/tree.pyc\u001b[0m in \u001b[0;36mmainloop\u001b[0;34m(self, *args, **kwargs)\u001b[0m\n\u001b[1;32m    855\u001b[0m         \"\"\"\n\u001b[1;32m    856\u001b[0m         \u001b[0;32mif\u001b[0m \u001b[0min_idle\u001b[0m\u001b[0;34m(\u001b[0m\u001b[0;34m)\u001b[0m\u001b[0;34m:\u001b[0m \u001b[0;32mreturn\u001b[0m\u001b[0;34m\u001b[0m\u001b[0m\n\u001b[0;32m--> 857\u001b[0;31m         \u001b[0mself\u001b[0m\u001b[0;34m.\u001b[0m\u001b[0m_top\u001b[0m\u001b[0;34m.\u001b[0m\u001b[0mmainloop\u001b[0m\u001b[0;34m(\u001b[0m\u001b[0;34m*\u001b[0m\u001b[0margs\u001b[0m\u001b[0;34m,\u001b[0m \u001b[0;34m**\u001b[0m\u001b[0mkwargs\u001b[0m\u001b[0;34m)\u001b[0m\u001b[0;34m\u001b[0m\u001b[0m\n\u001b[0m\u001b[1;32m    858\u001b[0m \u001b[0;34m\u001b[0m\u001b[0m\n\u001b[1;32m    859\u001b[0m \u001b[0;32mdef\u001b[0m \u001b[0mdraw_trees\u001b[0m\u001b[0;34m(\u001b[0m\u001b[0;34m*\u001b[0m\u001b[0mtrees\u001b[0m\u001b[0;34m)\u001b[0m\u001b[0;34m:\u001b[0m\u001b[0;34m\u001b[0m\u001b[0m\n",
      "\u001b[0;32m/Users/brian/anaconda/lib/python2.7/lib-tk/Tkinter.pyc\u001b[0m in \u001b[0;36mmainloop\u001b[0;34m(self, n)\u001b[0m\n\u001b[1;32m   1123\u001b[0m     \u001b[0;32mdef\u001b[0m \u001b[0mmainloop\u001b[0m\u001b[0;34m(\u001b[0m\u001b[0mself\u001b[0m\u001b[0;34m,\u001b[0m \u001b[0mn\u001b[0m\u001b[0;34m=\u001b[0m\u001b[0;36m0\u001b[0m\u001b[0;34m)\u001b[0m\u001b[0;34m:\u001b[0m\u001b[0;34m\u001b[0m\u001b[0m\n\u001b[1;32m   1124\u001b[0m         \u001b[0;34m\"\"\"Call the mainloop of Tk.\"\"\"\u001b[0m\u001b[0;34m\u001b[0m\u001b[0m\n\u001b[0;32m-> 1125\u001b[0;31m         \u001b[0mself\u001b[0m\u001b[0;34m.\u001b[0m\u001b[0mtk\u001b[0m\u001b[0;34m.\u001b[0m\u001b[0mmainloop\u001b[0m\u001b[0;34m(\u001b[0m\u001b[0mn\u001b[0m\u001b[0;34m)\u001b[0m\u001b[0;34m\u001b[0m\u001b[0m\n\u001b[0m\u001b[1;32m   1126\u001b[0m     \u001b[0;32mdef\u001b[0m \u001b[0mquit\u001b[0m\u001b[0;34m(\u001b[0m\u001b[0mself\u001b[0m\u001b[0;34m)\u001b[0m\u001b[0;34m:\u001b[0m\u001b[0;34m\u001b[0m\u001b[0m\n\u001b[1;32m   1127\u001b[0m         \u001b[0;34m\"\"\"Quit the Tcl interpreter. All widgets will be destroyed.\"\"\"\u001b[0m\u001b[0;34m\u001b[0m\u001b[0m\n",
      "\u001b[0;31mKeyboardInterrupt\u001b[0m: "
     ]
    }
   ],
   "source": [
    "nltk.corpus.treebank.parsed_sents('wsj_0001.mrg')[0].draw()"
   ]
  },
  {
   "cell_type": "markdown",
   "metadata": {},
   "source": [
    "## Trees"
   ]
  },
  {
   "cell_type": "markdown",
   "metadata": {},
   "source": [
    "NLTK includes a [tree](http://www.nltk.org/_modules/nltk/tree.html) class. \n",
    "\n",
    "The class has accessors for root and children, parsers to read a parenthesized representation of trees, mutators to change nodes within a tree, and tree transformations to turn a tree into a Chomsky-Normal-Form (CNF) tree. There is also a method to draw trees in a graphical manner. The code in nltk.tree.demo() demonstrates how this class can be used."
   ]
  },
  {
   "cell_type": "code",
   "execution_count": 4,
   "metadata": {
    "collapsed": false
   },
   "outputs": [
    {
     "name": "stdout",
     "output_type": "stream",
     "text": [
      "Convert bracketed string into tree:\n",
      "(S (NP (DT the) (NN cat)) (VP (VBD ate) (NP (DT a) (NN cookie))))\n",
      "Tree('S', [Tree('NP', [Tree('DT', ['the']), Tree('NN', ['cat'])]), Tree('VP', [Tree('VBD', ['ate']), Tree('NP', [Tree('DT', ['a']), Tree('NN', ['cookie'])])])])\n"
     ]
    }
   ],
   "source": [
    "from nltk import Tree\n",
    "\n",
    "# Parse a tree from a string with parentheses.\n",
    "s = '(S (NP (DT the) (NN cat)) (VP (VBD ate) (NP (DT a) (NN cookie))))'\n",
    "t = Tree.fromstring(s)\n",
    "print \"Convert bracketed string into tree:\"\n",
    "print t\n",
    "print t.__repr__()"
   ]
  },
  {
   "cell_type": "markdown",
   "metadata": {},
   "source": [
    "### Tree Accessors"
   ]
  },
  {
   "cell_type": "code",
   "execution_count": 5,
   "metadata": {
    "collapsed": false
   },
   "outputs": [
    {
     "name": "stdout",
     "output_type": "stream",
     "text": [
      "Display tree properties:\n",
      "S\n",
      "(NP (DT the) (NN cat))\n",
      "(VP (VBD ate) (NP (DT a) (NN cookie)))\n"
     ]
    }
   ],
   "source": [
    "print \"Display tree properties:\"\n",
    "print t.label()   # tree's constituent type\n",
    "print t[0] # tree's first child\n",
    "print t[1] # tree's second child"
   ]
  },
  {
   "cell_type": "code",
   "execution_count": 6,
   "metadata": {
    "collapsed": false
   },
   "outputs": [
    {
     "name": "stdout",
     "output_type": "stream",
     "text": [
      "5\n"
     ]
    }
   ],
   "source": [
    "print t.height()"
   ]
  },
  {
   "cell_type": "code",
   "execution_count": 7,
   "metadata": {
    "collapsed": false
   },
   "outputs": [
    {
     "name": "stdout",
     "output_type": "stream",
     "text": [
      "['the', 'cat', 'ate', 'a', 'cookie']\n"
     ]
    }
   ],
   "source": [
    "print t.leaves()"
   ]
  },
  {
   "cell_type": "code",
   "execution_count": 8,
   "metadata": {
    "collapsed": false
   },
   "outputs": [
    {
     "name": "stdout",
     "output_type": "stream",
     "text": [
      "(VP (VBD ate) (NP (DT a) (NN cookie)))\n",
      "(NP (DT a) (NN cookie))\n",
      "(DT a)\n"
     ]
    }
   ],
   "source": [
    "print t[1]\n",
    "print t[1,1]\n",
    "print t[1,1,0]"
   ]
  },
  {
   "cell_type": "markdown",
   "metadata": {},
   "source": [
    "### Tree Mutators"
   ]
  },
  {
   "cell_type": "code",
   "execution_count": 9,
   "metadata": {
    "collapsed": false
   },
   "outputs": [
    {
     "name": "stdout",
     "output_type": "stream",
     "text": [
      "Tree modification:\n",
      "(S\n",
      "  (NP (DT the) (JJ big) (NN cat))\n",
      "  (VP (VBD ate) (NP (DT a) (NN cookie))))\n",
      "(S\n",
      "  (NP (DT the) (JJ big) (NN cat))\n",
      "  (VP (VBD ate) (NP (DT a) (NN cake))))\n",
      "\n"
     ]
    }
   ],
   "source": [
    "# Demonstrate tree modification.\n",
    "the_cat = t[0]\n",
    "the_cat.insert(1, Tree.fromstring('(JJ big)'))\n",
    "print \"Tree modification:\"\n",
    "print t\n",
    "t[1,1,1] = Tree.fromstring('(NN cake)')\n",
    "print t\n",
    "print"
   ]
  },
  {
   "cell_type": "markdown",
   "metadata": {},
   "source": [
    "### Tree Transformations"
   ]
  },
  {
   "cell_type": "code",
   "execution_count": 10,
   "metadata": {
    "collapsed": false
   },
   "outputs": [
    {
     "name": "stdout",
     "output_type": "stream",
     "text": [
      "Collapse unary:\n",
      "(S\n",
      "  (NP (DT the) (JJ big) (NN cat))\n",
      "  (VP (VBD ate) (NP (DT a) (NN cake))))\n",
      "Chomsky normal form:\n",
      "(S\n",
      "  (NP (DT the) (NP|<JJ-NN> (JJ big) (NN cat)))\n",
      "  (VP (VBD ate) (NP (DT a) (NN cake))))\n",
      "\n"
     ]
    }
   ],
   "source": [
    "# Tree transforms\n",
    "print \"Collapse unary:\"\n",
    "t.collapse_unary()\n",
    "print t\n",
    "print \"Chomsky normal form:\"\n",
    "t.chomsky_normal_form()\n",
    "print t\n",
    "print\n"
   ]
  },
  {
   "cell_type": "markdown",
   "metadata": {},
   "source": [
    "### Probabilistic Trees"
   ]
  },
  {
   "cell_type": "code",
   "execution_count": 14,
   "metadata": {
    "collapsed": false
   },
   "outputs": [
    {
     "name": "stdout",
     "output_type": "stream",
     "text": [
      "Probabilistic Tree:\n",
      "(x y z) (p=0.5)\n",
      "\n"
     ]
    }
   ],
   "source": [
    "from nltk import tree\n",
    "\n",
    "# Demonstrate probabilistic trees.\n",
    "pt = tree.ProbabilisticTree('x', ['y', 'z'], prob=0.5)\n",
    "print \"Probabilistic Tree:\"\n",
    "print pt\n",
    "print"
   ]
  },
  {
   "cell_type": "code",
   "execution_count": 16,
   "metadata": {
    "collapsed": false
   },
   "outputs": [],
   "source": [
    "# # Demonstrate LaTeX output\n",
    "# print \"LaTeX output:\"\n",
    "# print t.pprint_latex_qtree()\n",
    "# print"
   ]
  },
  {
   "cell_type": "code",
   "execution_count": 17,
   "metadata": {
    "collapsed": false
   },
   "outputs": [
    {
     "name": "stdout",
     "output_type": "stream",
     "text": [
      "(S\n",
      "  (NP (DT the) (NP|<JJ-NN> (JJ big) (NN cat)))\n",
      "  (VP (VBD ate) (NP (DT a) (NN cake))))\n",
      "Production output:\n",
      "[S -> NP VP, NP -> DT NP|<JJ-NN>, DT -> 'the', NP|<JJ-NN> -> JJ NN, JJ -> 'big', NN -> 'cat', VP -> VBD NP, VBD -> 'ate', NP -> DT NN, DT -> 'a', NN -> 'cake']\n",
      "\n"
     ]
    }
   ],
   "source": [
    "print t\n",
    "\n",
    "# Demonstrate Productions\n",
    "print \"Production output:\"\n",
    "print t.productions()\n",
    "print"
   ]
  },
  {
   "cell_type": "code",
   "execution_count": 18,
   "metadata": {
    "collapsed": false
   },
   "outputs": [
    {
     "name": "stdout",
     "output_type": "stream",
     "text": [
      "(('test', 3)\n",
      "  (NP (DT the) (NP|<JJ-NN> (JJ big) (NN cat)))\n",
      "  (VP (VBD ate) (NP (DT a) (NN cake))))\n"
     ]
    }
   ],
   "source": [
    "# Demonstrate tree nodes containing objects other than strings\n",
    "t.set_label(('test', 3))\n",
    "print t"
   ]
  },
  {
   "cell_type": "markdown",
   "metadata": {},
   "source": [
    "## CFG"
   ]
  },
  {
   "cell_type": "markdown",
   "metadata": {},
   "source": [
    "NLTK includes several classes to encode CFG and PCFG grammars in the nltk.grammar module:\n",
    "\n",
    "1. Nonterminal\n",
    "1. Production (for rules)\n",
    "1. WeightedProduction (for rules in a PCFG)\n",
    "1. ContextFreeGrammar\n",
    "1. PCFG\n",
    "\n",
    "The classes include convenient parsers to convert strings into grammars.\n",
    "The method grammar.check_coverage(ws) determines whether the words that appear in ws can ever be parsed by the grammar.\n",
    "\n",
    "The function nltk.grammar.cfg_demo() illustrates how these classes are used.\n"
   ]
  },
  {
   "cell_type": "code",
   "execution_count": 19,
   "metadata": {
    "collapsed": false
   },
   "outputs": [
    {
     "name": "stdout",
     "output_type": "stream",
     "text": [
      "Some nonterminals: [S, NP, VP, PP, N, V, P, Det, VP/NP]\n",
      "S.symbol() => u'S'\n",
      "\n"
     ]
    }
   ],
   "source": [
    "from nltk import nonterminals, Production\n",
    "\n",
    "# Create some nonterminals\n",
    "S, NP, VP, PP = nonterminals('S, NP, VP, PP')\n",
    "N, V, P, Det = nonterminals('N, V, P, Det')\n",
    "VP_slash_NP = VP/NP\n",
    "\n",
    "print 'Some nonterminals:', [S, NP, VP, PP, N, V, P, Det, VP/NP]\n",
    "print 'S.symbol() =>', `S.symbol()`\n",
    "print\n"
   ]
  },
  {
   "cell_type": "code",
   "execution_count": 20,
   "metadata": {
    "collapsed": false
   },
   "outputs": [
    {
     "name": "stdout",
     "output_type": "stream",
     "text": [
      "S -> NP\n"
     ]
    }
   ],
   "source": [
    "print Production(S, [NP])"
   ]
  },
  {
   "cell_type": "code",
   "execution_count": 21,
   "metadata": {
    "collapsed": false
   },
   "outputs": [
    {
     "name": "stdout",
     "output_type": "stream",
     "text": [
      "A Grammar: <Grammar with 14 productions>\n",
      "grammar.start()   => S\n",
      "grammar.productions() => [S -> NP VP,\n",
      "                          PP -> P NP,\n",
      "                          NP -> Det N,\n",
      "                          NP -> NP PP,\n",
      "                          VP -> V NP,\n",
      "                          VP -> VP PP,\n",
      "                          Det -> 'a',\n",
      "                          Det -> 'the',\n",
      "                          N -> 'dog',\n",
      "                          N -> 'cat',\n",
      "                          V -> 'chased',\n",
      "                          V -> 'sat',\n",
      "                          P -> 'on',\n",
      "                          P -> 'in']\n",
      "\n"
     ]
    }
   ],
   "source": [
    "# Create some Grammar Productions\n",
    "from nltk import CFG\n",
    "\n",
    "grammar = CFG.fromstring(\"\"\"\n",
    "  S -> NP VP\n",
    "  PP -> P NP\n",
    "  NP -> Det N | NP PP\n",
    "  VP -> V NP | VP PP\n",
    "  Det -> 'a' | 'the'\n",
    "  N -> 'dog' | 'cat'\n",
    "  V -> 'chased' | 'sat'\n",
    "  P -> 'on' | 'in'\n",
    "\"\"\")\n",
    "\n",
    "print 'A Grammar:', `grammar`\n",
    "print 'grammar.start()   =>', `grammar.start()`\n",
    "print 'grammar.productions() =>',\n",
    "# Use string.replace(...) is to line-wrap the output.\n",
    "print `grammar.productions()`.replace(',', ',\\n'+' '*25)\n",
    "print"
   ]
  },
  {
   "cell_type": "code",
   "execution_count": 22,
   "metadata": {
    "collapsed": false
   },
   "outputs": [
    {
     "name": "stdout",
     "output_type": "stream",
     "text": [
      "Coverage of input words by a grammar:\n",
      "All words covered\n",
      "Some words not covered\n"
     ]
    }
   ],
   "source": [
    "print 'Coverage of input words by a grammar:'\n",
    "try:\n",
    "    grammar.check_coverage(['a','dog'])\n",
    "    print \"All words covered\"\n",
    "except:\n",
    "    print \"Strange\"\n",
    "try:\n",
    "    print grammar.check_coverage(['a','toy'])\n",
    "except:\n",
    "    print \"Some words not covered\"\n"
   ]
  },
  {
   "cell_type": "markdown",
   "metadata": {},
   "source": [
    "## PCFG"
   ]
  },
  {
   "cell_type": "markdown",
   "metadata": {},
   "source": [
    "PCFGs are very similar to CFGs - they just have an additional probability for each production.\n",
    "For a given left-hand-side non-terminal, the sum of the probabilities must be 1.0."
   ]
  },
  {
   "cell_type": "code",
   "execution_count": 23,
   "metadata": {
    "collapsed": false
   },
   "outputs": [],
   "source": [
    "from nltk import PCFG\n",
    "toy_pcfg1 = PCFG.fromstring(\"\"\"\n",
    "    S -> NP VP [1.0]\n",
    "    NP -> Det N [0.5] | NP PP [0.25] | 'John' [0.1] | 'I' [0.15]\n",
    "    Det -> 'the' [0.8] | 'my' [0.2]\n",
    "    N -> 'man' [0.5] | 'telescope' [0.5]\n",
    "    VP -> VP PP [0.1] | V NP [0.7] | V [0.2]\n",
    "    V -> 'ate' [0.35] | 'saw' [0.65]\n",
    "    PP -> P NP [1.0]\n",
    "    P -> 'with' [0.61] | 'under' [0.39]\n",
    "\"\"\")"
   ]
  },
  {
   "cell_type": "markdown",
   "metadata": {},
   "source": [
    "The function nltk.grammar.pcfg_demo() illustrates how PCFGs can be constructed and manipulated.\n",
    "The most important method consists of inducing a PCFG from trees in a treebank (induce_pcfg()).\n",
    "Before we induce the PCFG, we take care of transforming the trees into CNF.\n",
    "Note how tree.productions() returns the list of CFG rules that \"explain\" the tree:\n",
    "for each non-terminal node in the tree, tree.productions() will return a production with the\n",
    "parent node as LHS and the children as RHS.\n"
   ]
  },
  {
   "cell_type": "code",
   "execution_count": 24,
   "metadata": {
    "collapsed": false
   },
   "outputs": [
    {
     "name": "stdout",
     "output_type": "stream",
     "text": [
      "A PCFG production: NP -> NP PP [0.25]\n",
      "pcfg_prod.lhs()  => NP\n",
      "pcfg_prod.rhs()  => (NP, PP)\n",
      "pcfg_prod.prob() => 0.25\n",
      "\n"
     ]
    }
   ],
   "source": [
    "from nltk.corpus import treebank\n",
    "from nltk import treetransforms\n",
    "from nltk import induce_pcfg\n",
    "from nltk.parse import pchart\n",
    "\n",
    "pcfg_prods = toy_pcfg1.productions()\n",
    "\n",
    "pcfg_prod = pcfg_prods[2]\n",
    "print 'A PCFG production:', `pcfg_prod`\n",
    "print 'pcfg_prod.lhs()  =>', `pcfg_prod.lhs()`\n",
    "print 'pcfg_prod.rhs()  =>', `pcfg_prod.rhs()`\n",
    "print 'pcfg_prod.prob() =>', `pcfg_prod.prob()`\n",
    "print"
   ]
  },
  {
   "cell_type": "code",
   "execution_count": 25,
   "metadata": {
    "collapsed": false
   },
   "outputs": [
    {
     "name": "stdout",
     "output_type": "stream",
     "text": [
      "Induce PCFG grammar from treebank data:\n"
     ]
    }
   ],
   "source": [
    "# extract productions from three trees and induce the PCFG\n",
    "print \"Induce PCFG grammar from treebank data:\"\n",
    "\n",
    "productions = []\n",
    "for item in treebank.fileids()[:2]:\n",
    "  for tree in treebank.parsed_sents(item):\n",
    "    # perform optional tree transformations, e.g.:\n",
    "    tree.collapse_unary(collapsePOS = False)# Remove branches A-B-C into A-B+C\n",
    "    tree.chomsky_normal_form(horzMarkov = 2)# Remove A->(B,C,D) into A->B,C+D->D\n",
    "    productions += tree.productions()"
   ]
  },
  {
   "cell_type": "code",
   "execution_count": 26,
   "metadata": {
    "collapsed": false
   },
   "outputs": [
    {
     "name": "stdout",
     "output_type": "stream",
     "text": [
      "Grammar with 86 productions (start state = S)\n",
      "    NNP -> 'Agnew' [0.0714286]\n",
      "    JJ -> 'industrial' [0.142857]\n",
      "    VP -> VBZ NP-PRD [0.2]\n",
      "    VP|<PP-CLR-NP-TMP> -> PP-CLR NP-TMP [1.0]\n",
      "    NP -> NN [0.0666667]\n",
      "    NP -> NNP NNP [0.2]\n",
      "    VP -> MD VP [0.2]\n",
      "    NP-TMP -> NNP CD [1.0]\n",
      "    NP-SBJ -> -NONE- [0.333333]\n",
      "    . -> '.' [1.0]\n",
      "    NN -> 'group' [0.142857]\n",
      "    NN -> 'conglomerate' [0.142857]\n",
      "    DT -> 'a' [0.4]\n",
      "    IN -> 'of' [0.75]\n",
      "    NP|<NNP-NNP> -> NNP NNP [0.5]\n",
      "    CC -> 'and' [1.0]\n",
      "    NP|<VBG-NN> -> VBG NN [1.0]\n",
      "    NNP -> 'Rudolph' [0.0714286]\n",
      "    NP -> NP PP [0.0666667]\n",
      "    NNP -> 'PLC' [0.0714286]\n",
      "    NP-SBJ|<,-ADJP> -> , NP-SBJ|<ADJP-,> [1.0]\n",
      "    CD -> '61' [0.333333]\n",
      "    PP -> IN NP [1.0]\n",
      "    NP|<JJ-NN> -> JJ NN [1.0]\n",
      "    JJ -> 'nonexecutive' [0.285714]\n",
      "    NNP -> 'N.V.' [0.0714286]\n",
      "    NNS -> 'years' [1.0]\n",
      "    VP -> VB VP|<NP-PP-CLR> [0.2]\n",
      "    NNP -> 'Dutch' [0.0714286]\n",
      "    NNP -> 'Mr.' [0.0714286]\n",
      "    NP -> DT NP|<JJ-JJ> [0.0666667]\n",
      "    NP -> DT NP|<NNP-VBG> [0.0666667]\n",
      "    JJ -> 'former' [0.142857]\n",
      "    DT -> 'the' [0.4]\n",
      "    CD -> '55' [0.333333]\n",
      "    NNP -> 'Consolidated' [0.0714286]\n",
      "    VP|<NP-PP-CLR> -> NP VP|<PP-CLR-NP-TMP> [1.0]\n",
      "    DT -> 'this' [0.2]\n",
      "    S -> NP-SBJ-1 S|<VP-.> [0.25]\n",
      "    NP -> JJ NN [0.0666667]\n",
      "    VB -> 'join' [1.0]\n",
      "    NNP -> 'Nov.' [0.0714286]\n",
      "    NP|<NNP-VBG> -> NNP NP|<VBG-NN> [1.0]\n",
      "    NP -> CD NNS [0.133333]\n",
      "    , -> ',' [1.0]\n",
      "    NNP -> 'Pierre' [0.0714286]\n",
      "    S -> NP-SBJ NP-PRD [0.25]\n",
      "    VP -> VBN S [0.2]\n",
      "    NP -> NP NP|<,-NP> [0.0666667]\n",
      "    NP-PRD -> NP PP [1.0]\n",
      "    NP -> DT NN [0.0666667]\n",
      "    PP-CLR -> IN NP [1.0]\n",
      "    NNP -> 'Gold' [0.0714286]\n",
      "    CD -> '29' [0.333333]\n",
      "    NP|<NNP-NNP> -> NNP NP|<NNP-NNP> [0.5]\n",
      "    VBG -> 'publishing' [1.0]\n",
      "    NNP -> 'Fields' [0.0714286]\n",
      "    NP-SBJ -> NP NP-SBJ|<,-ADJP> [0.333333]\n",
      "    NN -> 'chairman' [0.285714]\n",
      "    JJ -> 'British' [0.142857]\n",
      "    VBN -> 'named' [1.0]\n",
      "    NNP -> 'Elsevier' [0.0714286]\n",
      "    NP -> NNP NP|<NNP-NNP> [0.0666667]\n",
      "    NN -> 'director' [0.285714]\n",
      "    S|<VP-.> -> VP . [1.0]\n",
      "    NP-SBJ-1|<UCP-,> -> UCP , [1.0]\n",
      "    VP -> VBD VP [0.2]\n",
      "    -NONE- -> '*-1' [1.0]\n",
      "    UCP|<CC-NP> -> CC NP [1.0]\n",
      "    NP-SBJ-1|<,-UCP> -> , NP-SBJ-1|<UCP-,> [1.0]\n",
      "    IN -> 'as' [0.25]\n",
      "    UCP -> ADJP UCP|<CC-NP> [1.0]\n",
      "    NP-SBJ|<ADJP-,> -> ADJP , [1.0]\n",
      "    JJ -> 'old' [0.285714]\n",
      "    MD -> 'will' [1.0]\n",
      "    NP-SBJ -> NNP NNP [0.333333]\n",
      "    ADJP -> NP JJ [1.0]\n",
      "    NP|<JJ-JJ> -> JJ NP|<JJ-NN> [1.0]\n",
      "    S -> NP-SBJ S|<VP-.> [0.5]\n",
      "    NP -> DT NP|<JJ-NN> [0.133333]\n",
      "    NNP -> 'Vinken' [0.142857]\n",
      "    VBD -> 'was' [1.0]\n",
      "    NN -> 'board' [0.142857]\n",
      "    VBZ -> 'is' [1.0]\n",
      "    NP|<,-NP> -> , NP [1.0]\n",
      "    NP-SBJ-1 -> NP NP-SBJ-1|<,-UCP> [1.0]\n",
      "\n"
     ]
    }
   ],
   "source": [
    "from nltk import Nonterminal\n",
    "S = Nonterminal('S')\n",
    "grammar = induce_pcfg(S, productions)\n",
    "print grammar\n",
    "print"
   ]
  },
  {
   "cell_type": "markdown",
   "metadata": {},
   "source": [
    "## Parsers"
   ]
  },
  {
   "cell_type": "markdown",
   "metadata": {},
   "source": [
    "There are different types of parsers implemented in NLTK. One that implements the Viterbi CKY n-best parses over a PCFG is available in \n",
    "the [parse.viterbi](http://www.nltk.org/_modules/nltk/parse/viterbi.html) module."
   ]
  },
  {
   "cell_type": "code",
   "execution_count": 27,
   "metadata": {
    "collapsed": false
   },
   "outputs": [
    {
     "name": "stdout",
     "output_type": "stream",
     "text": [
      "Parse sentence using induced grammar:\n",
      "[u'Pierre', u'Vinken', u',', u'61', u'years', u'old', u',', u'will', u'join', u'the', u'board', u'as', u'a', u'nonexecutive', u'director', u'Nov.', u'29', u'.']\n",
      "  |[-] . . . . . . . . . . . . . . . . .| [0:1] 'Pierre' [1.0]\n",
      "  |. [-] . . . . . . . . . . . . . . . .| [1:2] 'Vinken' [1.0]\n",
      "  |. . [-] . . . . . . . . . . . . . . .| [2:3] ','  [1.0]\n",
      "  |. . . [-] . . . . . . . . . . . . . .| [3:4] '61' [1.0]\n",
      "  |. . . . [-] . . . . . . . . . . . . .| [4:5] 'years' [1.0]\n",
      "  |. . . . . [-] . . . . . . . . . . . .| [5:6] 'old' [1.0]\n",
      "  |. . . . . . [-] . . . . . . . . . . .| [6:7] ','  [1.0]\n",
      "  |. . . . . . . [-] . . . . . . . . . .| [7:8] 'will' [1.0]\n",
      "  |. . . . . . . . [-] . . . . . . . . .| [8:9] 'join' [1.0]\n",
      "  |. . . . . . . . . [-] . . . . . . . .| [9:10] 'the' [1.0]\n",
      "  |. . . . . . . . . . [-] . . . . . . .| [10:11] 'board' [1.0]\n",
      "  |. . . . . . . . . . . [-] . . . . . .| [11:12] 'as' [1.0]\n",
      "  |. . . . . . . . . . . . [-] . . . . .| [12:13] 'a' [1.0]\n",
      "  |. . . . . . . . . . . . . [-] . . . .| [13:14] 'nonexecutive' [1.0]\n",
      "  |. . . . . . . . . . . . . . [-] . . .| [14:15] 'director' [1.0]\n",
      "  |. . . . . . . . . . . . . . . [-] . .| [15:16] 'Nov.' [1.0]\n",
      "  |. . . . . . . . . . . . . . . . [-] .| [16:17] '29' [1.0]\n",
      "  |. . . . . . . . . . . . . . . . . [-]| [17:18] '.' [1.0]\n",
      "  |. . . . . . . . . . . . . . . . . [-]| [17:18] '.' [1.0]\n",
      "  |. . . . . . . . . . . . . . . . . [-]| [17:18] .  -> '.' * [1.0]\n",
      "  |. . . . . . . . . . . . . . . . . > .| [17:17] .  -> * '.' [1.0]\n",
      "  |. . . . . . . . . . . . . . . . [-] .| [16:17] '29' [1.0]\n",
      "  |. . . . . . . . . . . . . . . [-] . .| [15:16] 'Nov.' [1.0]\n",
      "  |. . . . . . . . . . . . . . [-] . . .| [14:15] 'director' [1.0]\n",
      "  |. . . . . . . . . . . . . [-] . . . .| [13:14] 'nonexecutive' [1.0]\n",
      "  |. . . . . . . . . . . . [-] . . . . .| [12:13] 'a' [1.0]\n",
      "  |. . . . . . . . . . . [-] . . . . . .| [11:12] 'as' [1.0]\n",
      "  |. . . . . . . . . . [-] . . . . . . .| [10:11] 'board' [1.0]\n",
      "  |. . . . . . . . . [-] . . . . . . . .| [9:10] 'the' [1.0]\n",
      "  |. . . . . . . . [-] . . . . . . . . .| [8:9] 'join' [1.0]\n",
      "  |. . . . . . . . [-] . . . . . . . . .| [8:9] VB -> 'join' * [1.0]\n",
      "  |. . . . . . . . > . . . . . . . . . .| [8:8] VB -> * 'join' [1.0]\n",
      "  |. . . . . . . [-] . . . . . . . . . .| [7:8] 'will' [1.0]\n",
      "  |. . . . . . . [-] . . . . . . . . . .| [7:8] MD -> 'will' * [1.0]\n",
      "  |. . . . . . . > . . . . . . . . . . .| [7:7] MD -> * 'will' [1.0]\n",
      "  |. . . . . . [-] . . . . . . . . . . .| [6:7] ','  [1.0]\n",
      "  |. . . . . . [-] . . . . . . . . . . .| [6:7] ,  -> ',' * [1.0]\n",
      "  |. . . . . . [-> . . . . . . . . . . .| [6:7] NP|<,-NP> -> , * NP [1.0]\n",
      "  |. . . . . . [-> . . . . . . . . . . .| [6:7] NP-SBJ-1|<,-UCP> -> , * NP-SBJ-1|<UCP-,> [1.0]\n",
      "  |. . . . . . [-> . . . . . . . . . . .| [6:7] NP-SBJ|<,-ADJP> -> , * NP-SBJ|<ADJP-,> [1.0]\n",
      "  |. . . . . . > . . . . . . . . . . . .| [6:6] NP|<,-NP> -> * , NP [1.0]\n",
      "  |. . . . . . > . . . . . . . . . . . .| [6:6] NP-SBJ-1|<,-UCP> -> * , NP-SBJ-1|<UCP-,> [1.0]\n",
      "  |. . . . . . > . . . . . . . . . . . .| [6:6] NP-SBJ|<,-ADJP> -> * , NP-SBJ|<ADJP-,> [1.0]\n",
      "  |. . . . . . > . . . . . . . . . . . .| [6:6] ,  -> * ',' [1.0]\n",
      "  |. . . . . [-] . . . . . . . . . . . .| [5:6] 'old' [1.0]\n",
      "  |. . . . [-] . . . . . . . . . . . . .| [4:5] 'years' [1.0]\n",
      "  |. . . . [-] . . . . . . . . . . . . .| [4:5] NNS -> 'years' * [1.0]\n",
      "  |. . . . > . . . . . . . . . . . . . .| [4:4] NNS -> * 'years' [1.0]\n",
      "  |. . . [-] . . . . . . . . . . . . . .| [3:4] '61' [1.0]\n",
      "  |. . [-] . . . . . . . . . . . . . . .| [2:3] ','  [1.0]\n",
      "  |. . [-] . . . . . . . . . . . . . . .| [2:3] ,  -> ',' * [1.0]\n",
      "  |. . [-> . . . . . . . . . . . . . . .| [2:3] NP|<,-NP> -> , * NP [1.0]\n",
      "  |. . [-> . . . . . . . . . . . . . . .| [2:3] NP-SBJ-1|<,-UCP> -> , * NP-SBJ-1|<UCP-,> [1.0]\n",
      "  |. . [-> . . . . . . . . . . . . . . .| [2:3] NP-SBJ|<,-ADJP> -> , * NP-SBJ|<ADJP-,> [1.0]\n",
      "  |. . > . . . . . . . . . . . . . . . .| [2:2] NP|<,-NP> -> * , NP [1.0]\n",
      "  |. . > . . . . . . . . . . . . . . . .| [2:2] NP-SBJ-1|<,-UCP> -> * , NP-SBJ-1|<UCP-,> [1.0]\n",
      "  |. . > . . . . . . . . . . . . . . . .| [2:2] NP-SBJ|<,-ADJP> -> * , NP-SBJ|<ADJP-,> [1.0]\n",
      "  |. . > . . . . . . . . . . . . . . . .| [2:2] ,  -> * ',' [1.0]\n",
      "  |. [-] . . . . . . . . . . . . . . . .| [1:2] 'Vinken' [1.0]\n",
      "  |[-] . . . . . . . . . . . . . . . . .| [0:1] 'Pierre' [1.0]\n",
      "  |. . . . . . . . . [-] . . . . . . . .| [9:10] DT -> 'the' * [0.4]\n",
      "  |. . . . . . . . . > . . . . . . . . .| [9:9] DT -> * 'the' [0.4]\n",
      "  |. . . . . . . . . . . . [-] . . . . .| [12:13] DT -> 'a' * [0.4]\n",
      "  |. . . . . . . . . . . . > . . . . . .| [12:12] DT -> * 'a' [0.4]\n",
      "  |. . . [-] . . . . . . . . . . . . . .| [3:4] CD -> '61' * [0.333333333333]\n",
      "  |. . . > . . . . . . . . . . . . . . .| [3:3] CD -> * '61' [0.333333333333]\n",
      "  |. . . . . . . . . . . . . . . . [-] .| [16:17] CD -> '29' * [0.333333333333]\n",
      "  |. . . . . . . . . . . . . . . . > . .| [16:16] CD -> * '29' [0.333333333333]\n",
      "  |. . . . . [-] . . . . . . . . . . . .| [5:6] JJ -> 'old' * [0.285714285714]\n",
      "  |. . . . . > . . . . . . . . . . . . .| [5:5] NP|<JJ-JJ> -> * JJ NP|<JJ-NN> [1.0]\n",
      "  |. . . . . > . . . . . . . . . . . . .| [5:5] NP|<JJ-NN> -> * JJ NN [1.0]\n",
      "  |. . . . . [-> . . . . . . . . . . . .| [5:6] NP|<JJ-JJ> -> JJ * NP|<JJ-NN> [0.285714285714]\n",
      "  |. . . . . [-> . . . . . . . . . . . .| [5:6] NP|<JJ-NN> -> JJ * NN [0.285714285714]\n",
      "  |. . . . . > . . . . . . . . . . . . .| [5:5] JJ -> * 'old' [0.285714285714]\n",
      "  |. . . . . . . . . . . . . [-] . . . .| [13:14] JJ -> 'nonexecutive' * [0.285714285714]\n",
      "  |. . . . . . . . . . . . . > . . . . .| [13:13] NP|<JJ-JJ> -> * JJ NP|<JJ-NN> [1.0]\n",
      "  |. . . . . . . . . . . . . > . . . . .| [13:13] NP|<JJ-NN> -> * JJ NN [1.0]\n",
      "  |. . . . . . . . . . . . . [-> . . . .| [13:14] NP|<JJ-JJ> -> JJ * NP|<JJ-NN> [0.285714285714]\n",
      "  |. . . . . . . . . . . . . [-> . . . .| [13:14] NP|<JJ-NN> -> JJ * NN [0.285714285714]\n",
      "  |. . . . . . . . . . . . . > . . . . .| [13:13] JJ -> * 'nonexecutive' [0.285714285714]\n",
      "  |. . . . . . . . . . . . . . [-] . . .| [14:15] NN -> 'director' * [0.285714285714]\n",
      "  |. . . . . . . . . . . . . . > . . . .| [14:14] NN -> * 'director' [0.285714285714]\n",
      "  |. . . . . . . . . . . [-] . . . . . .| [11:12] IN -> 'as' * [0.25]\n",
      "  |. . . . . . . . . . . > . . . . . . .| [11:11] PP-CLR -> * IN NP [1.0]\n",
      "  |. . . . . . . . . . . > . . . . . . .| [11:11] PP -> * IN NP [1.0]\n",
      "  |. . . . . . . . . . . [-> . . . . . .| [11:12] PP-CLR -> IN * NP [0.25]\n",
      "  |. . . . . . . . . . . [-> . . . . . .| [11:12] PP -> IN * NP [0.25]\n",
      "  |. . . . . . . . . . . > . . . . . . .| [11:11] IN -> * 'as' [0.25]\n",
      "  |. . . . . . . [-> . . . . . . . . . .| [7:8] VP -> MD * VP [0.2]\n",
      "  |. . . . . . . > . . . . . . . . . . .| [7:7] VP -> * MD VP [0.2]\n",
      "  |. . . . . . . . [-> . . . . . . . . .| [8:9] VP -> VB * VP|<NP-PP-CLR> [0.2]\n",
      "  |. . . . . . . . > . . . . . . . . . .| [8:8] VP -> * VB VP|<NP-PP-CLR> [0.2]\n",
      "  |. [-] . . . . . . . . . . . . . . . .| [1:2] NNP -> 'Vinken' * [0.142857142857]\n",
      "  |. > . . . . . . . . . . . . . . . . .| [1:1] NP|<NNP-VBG> -> * NNP NP|<VBG-NN> [1.0]\n",
      "  |. > . . . . . . . . . . . . . . . . .| [1:1] NP-TMP -> * NNP CD [1.0]\n",
      "  |. > . . . . . . . . . . . . . . . . .| [1:1] NP|<NNP-NNP> -> * NNP NP|<NNP-NNP> [0.5]\n",
      "  |. > . . . . . . . . . . . . . . . . .| [1:1] NP|<NNP-NNP> -> * NNP NNP [0.5]\n",
      "  |. > . . . . . . . . . . . . . . . . .| [1:1] NP-SBJ -> * NNP NNP [0.333333333333]\n",
      "  |. > . . . . . . . . . . . . . . . . .| [1:1] NP -> * NNP NNP [0.2]\n",
      "  |. [-> . . . . . . . . . . . . . . . .| [1:2] NP|<NNP-VBG> -> NNP * NP|<VBG-NN> [0.142857142857]\n",
      "  |. [-> . . . . . . . . . . . . . . . .| [1:2] NP-TMP -> NNP * CD [0.142857142857]\n",
      "  |. > . . . . . . . . . . . . . . . . .| [1:1] NNP -> * 'Vinken' [0.142857142857]\n",
      "  |. . . . . . . . . . [-] . . . . . . .| [10:11] NN -> 'board' * [0.142857142857]\n",
      "  |. . . . . . . . . . > . . . . . . . .| [10:10] NN -> * 'board' [0.142857142857]\n",
      "  |. . . . . . . . . . . . . . . . > . .| [16:16] NP -> * CD NNS [0.133333333333]\n",
      "  |. . . > . . . . . . . . . . . . . . .| [3:3] NP -> * CD NNS [0.133333333333]\n",
      "  |. . . . . . . . . . . . > . . . . . .| [12:12] NP -> * DT NP|<JJ-NN> [0.133333333333]\n",
      "  |. . . . . . . . . > . . . . . . . . .| [9:9] NP -> * DT NP|<JJ-NN> [0.133333333333]\n",
      "  |. . . . . . . . . . . . . [---] . . .| [13:15] NP|<JJ-NN> -> JJ NN * [0.0816326530612]\n",
      "  |. [-> . . . . . . . . . . . . . . . .| [1:2] NP|<NNP-NNP> -> NNP * NP|<NNP-NNP> [0.0714285714286]\n",
      "  |. [-> . . . . . . . . . . . . . . . .| [1:2] NP|<NNP-NNP> -> NNP * NNP [0.0714285714286]\n",
      "  |[-] . . . . . . . . . . . . . . . . .| [0:1] NNP -> 'Pierre' * [0.0714285714286]\n",
      "  |> . . . . . . . . . . . . . . . . . .| [0:0] NP|<NNP-VBG> -> * NNP NP|<VBG-NN> [1.0]\n",
      "  |> . . . . . . . . . . . . . . . . . .| [0:0] NP-TMP -> * NNP CD [1.0]\n",
      "  |> . . . . . . . . . . . . . . . . . .| [0:0] NP|<NNP-NNP> -> * NNP NP|<NNP-NNP> [0.5]\n",
      "  |> . . . . . . . . . . . . . . . . . .| [0:0] NP|<NNP-NNP> -> * NNP NNP [0.5]\n",
      "  |> . . . . . . . . . . . . . . . . . .| [0:0] NP-SBJ -> * NNP NNP [0.333333333333]\n",
      "  |> . . . . . . . . . . . . . . . . . .| [0:0] NP -> * NNP NNP [0.2]\n",
      "  |[-> . . . . . . . . . . . . . . . . .| [0:1] NP|<NNP-VBG> -> NNP * NP|<VBG-NN> [0.0714285714286]\n",
      "  |[-> . . . . . . . . . . . . . . . . .| [0:1] NP-TMP -> NNP * CD [0.0714285714286]\n",
      "  |> . . . . . . . . . . . . . . . . . .| [0:0] NNP -> * 'Pierre' [0.0714285714286]\n",
      "  |. . . . . . . . . . . . . . . [-] . .| [15:16] NNP -> 'Nov.' * [0.0714285714286]\n",
      "  |. . . . . . . . . . . . . . . > . . .| [15:15] NP|<NNP-VBG> -> * NNP NP|<VBG-NN> [1.0]\n",
      "  |. . . . . . . . . . . . . . . > . . .| [15:15] NP-TMP -> * NNP CD [1.0]\n",
      "  |. . . . . . . . . . . . . . . > . . .| [15:15] NP|<NNP-NNP> -> * NNP NP|<NNP-NNP> [0.5]\n",
      "  |. . . . . . . . . . . . . . . > . . .| [15:15] NP|<NNP-NNP> -> * NNP NNP [0.5]\n",
      "  |. . . . . . . . . . . . . . . > . . .| [15:15] NP-SBJ -> * NNP NNP [0.333333333333]\n",
      "  |. . . . . . . . . . . . . . . > . . .| [15:15] NP -> * NNP NNP [0.2]\n",
      "  |. . . . . . . . . . . . . . . [-> . .| [15:16] NP|<NNP-VBG> -> NNP * NP|<VBG-NN> [0.0714285714286]\n",
      "  |. . . . . . . . . . . . . . . [-> . .| [15:16] NP-TMP -> NNP * CD [0.0714285714286]\n",
      "  |. . . . . . . . . . . . . . . > . . .| [15:15] NNP -> * 'Nov.' [0.0714285714286]\n",
      "  |. . . . . . . . . . . . . . . > . . .| [15:15] NP -> * NNP NP|<NNP-NNP> [0.0666666666667]\n",
      "  |> . . . . . . . . . . . . . . . . . .| [0:0] NP -> * NNP NP|<NNP-NNP> [0.0666666666667]\n",
      "  |. . . . . . . . . . > . . . . . . . .| [10:10] NP -> * NN [0.0666666666667]\n",
      "  |. > . . . . . . . . . . . . . . . . .| [1:1] NP -> * NNP NP|<NNP-NNP> [0.0666666666667]\n",
      "  |. . . . . . . . . . . . . . > . . . .| [14:14] NP -> * NN [0.0666666666667]\n",
      "  |. . . . . . . . . . . . . > . . . . .| [13:13] NP -> * JJ NN [0.0666666666667]\n",
      "  |. . . . . > . . . . . . . . . . . . .| [5:5] NP -> * JJ NN [0.0666666666667]\n",
      "  |. . . . . . . . . . . . > . . . . . .| [12:12] NP -> * DT NN [0.0666666666667]\n",
      "  |. . . . . . . . . . . . > . . . . . .| [12:12] NP -> * DT NP|<NNP-VBG> [0.0666666666667]\n",
      "  |. . . . . . . . . . . . > . . . . . .| [12:12] NP -> * DT NP|<JJ-JJ> [0.0666666666667]\n",
      "  |. . . . . . . . . > . . . . . . . . .| [9:9] NP -> * DT NN [0.0666666666667]\n",
      "  |. . . . . . . . . > . . . . . . . . .| [9:9] NP -> * DT NP|<NNP-VBG> [0.0666666666667]\n",
      "  |. . . . . . . . . > . . . . . . . . .| [9:9] NP -> * DT NP|<JJ-JJ> [0.0666666666667]\n",
      "  |. . . . . . . . . . . . [-> . . . . .| [12:13] NP -> DT * NP|<JJ-NN> [0.0533333333333]\n",
      "  |. . . . . . . . . [-> . . . . . . . .| [9:10] NP -> DT * NP|<JJ-NN> [0.0533333333333]\n",
      "  |. [-> . . . . . . . . . . . . . . . .| [1:2] NP-SBJ -> NNP * NNP [0.047619047619]\n",
      "  |. . . . . . . . . . . . . . . . [-> .| [16:17] NP -> CD * NNS [0.0444444444444]\n",
      "  |. . . [-> . . . . . . . . . . . . . .| [3:4] NP -> CD * NNS [0.0444444444444]\n",
      "  |. . . [---] . . . . . . . . . . . . .| [3:5] NP -> CD NNS * [0.0444444444444]\n",
      "  |. . . > . . . . . . . . . . . . . . .| [3:3] NP-SBJ-1 -> * NP NP-SBJ-1|<,-UCP> [1.0]\n",
      "  |. . . > . . . . . . . . . . . . . . .| [3:3] ADJP -> * NP JJ [1.0]\n",
      "  |. . . > . . . . . . . . . . . . . . .| [3:3] NP-PRD -> * NP PP [1.0]\n",
      "  |. . . > . . . . . . . . . . . . . . .| [3:3] VP|<NP-PP-CLR> -> * NP VP|<PP-CLR-NP-TMP> [1.0]\n",
      "  |. . . > . . . . . . . . . . . . . . .| [3:3] NP-SBJ -> * NP NP-SBJ|<,-ADJP> [0.333333333333]\n",
      "  |. . . > . . . . . . . . . . . . . . .| [3:3] NP -> * NP NP|<,-NP> [0.0666666666667]\n",
      "  |. . . > . . . . . . . . . . . . . . .| [3:3] NP -> * NP PP [0.0666666666667]\n",
      "  |. . . [---> . . . . . . . . . . . . .| [3:5] NP-SBJ-1 -> NP * NP-SBJ-1|<,-UCP> [0.0444444444444]\n",
      "  |. . . [---> . . . . . . . . . . . . .| [3:5] ADJP -> NP * JJ [0.0444444444444]\n",
      "  |. . . [---> . . . . . . . . . . . . .| [3:5] NP-PRD -> NP * PP [0.0444444444444]\n",
      "  |. . . [---> . . . . . . . . . . . . .| [3:5] VP|<NP-PP-CLR> -> NP * VP|<PP-CLR-NP-TMP> [0.0444444444444]\n",
      "  |. . [-----] . . . . . . . . . . . . .| [2:5] NP|<,-NP> -> , NP * [0.0444444444444]\n",
      "  |. . . . . . . . . . . . . . . [-> . .| [15:16] NP|<NNP-NNP> -> NNP * NP|<NNP-NNP> [0.0357142857143]\n",
      "  |. . . . . . . . . . . . . . . [-> . .| [15:16] NP|<NNP-NNP> -> NNP * NNP [0.0357142857143]\n",
      "  |[-> . . . . . . . . . . . . . . . . .| [0:1] NP|<NNP-NNP> -> NNP * NP|<NNP-NNP> [0.0357142857143]\n",
      "  |[-> . . . . . . . . . . . . . . . . .| [0:1] NP|<NNP-NNP> -> NNP * NNP [0.0357142857143]\n",
      "  |. [-> . . . . . . . . . . . . . . . .| [1:2] NP -> NNP * NNP [0.0285714285714]\n",
      "  |. . . . . . . . . . . . [-> . . . . .| [12:13] NP -> DT * NN [0.0266666666667]\n",
      "  |. . . . . . . . . . . . [-> . . . . .| [12:13] NP -> DT * NP|<NNP-VBG> [0.0266666666667]\n",
      "  |. . . . . . . . . . . . [-> . . . . .| [12:13] NP -> DT * NP|<JJ-JJ> [0.0266666666667]\n",
      "  |. . . . . . . . . [-> . . . . . . . .| [9:10] NP -> DT * NN [0.0266666666667]\n",
      "  |. . . . . . . . . [-> . . . . . . . .| [9:10] NP -> DT * NP|<NNP-VBG> [0.0266666666667]\n",
      "  |. . . . . . . . . [-> . . . . . . . .| [9:10] NP -> DT * NP|<JJ-JJ> [0.0266666666667]\n",
      "  |. . . . . . . . . . . . . . . [---] .| [15:17] NP-TMP -> NNP CD * [0.0238095238095]\n",
      "  |. . . . . . . . . . . . . . . [-> . .| [15:16] NP-SBJ -> NNP * NNP [0.0238095238095]\n",
      "  |[-> . . . . . . . . . . . . . . . . .| [0:1] NP-SBJ -> NNP * NNP [0.0238095238095]\n",
      "  |. . . . . . . . . . . . . . [-] . . .| [14:15] NP -> NN * [0.0190476190476]\n",
      "  |. . . . . . . . . . . . . . > . . . .| [14:14] NP-SBJ-1 -> * NP NP-SBJ-1|<,-UCP> [1.0]\n",
      "  |. . . . . . . . . . . . . . > . . . .| [14:14] ADJP -> * NP JJ [1.0]\n",
      "  |. . . . . . . . . . . . . . > . . . .| [14:14] NP-PRD -> * NP PP [1.0]\n",
      "  |. . . . . . . . . . . . . . > . . . .| [14:14] VP|<NP-PP-CLR> -> * NP VP|<PP-CLR-NP-TMP> [1.0]\n",
      "  |. . . . . . . . . . . . . . > . . . .| [14:14] NP-SBJ -> * NP NP-SBJ|<,-ADJP> [0.333333333333]\n",
      "  |. . . . . . . . . . . . . . > . . . .| [14:14] NP -> * NP NP|<,-NP> [0.0666666666667]\n",
      "  |. . . . . . . . . . . . . . > . . . .| [14:14] NP -> * NP PP [0.0666666666667]\n",
      "  |. . . . . . . . . . . . . . [-> . . .| [14:15] NP-SBJ-1 -> NP * NP-SBJ-1|<,-UCP> [0.0190476190476]\n",
      "  |. . . . . . . . . . . . . . [-> . . .| [14:15] ADJP -> NP * JJ [0.0190476190476]\n",
      "  |. . . . . . . . . . . . . . [-> . . .| [14:15] NP-PRD -> NP * PP [0.0190476190476]\n",
      "  |. . . . . . . . . . . . . . [-> . . .| [14:15] VP|<NP-PP-CLR> -> NP * VP|<PP-CLR-NP-TMP> [0.0190476190476]\n",
      "  |. . . . . . . . . . . . . [-> . . . .| [13:14] NP -> JJ * NN [0.0190476190476]\n",
      "  |. . . . . [-> . . . . . . . . . . . .| [5:6] NP -> JJ * NN [0.0190476190476]\n",
      "  |. . . [---> . . . . . . . . . . . . .| [3:5] NP-SBJ -> NP * NP-SBJ|<,-ADJP> [0.0148148148148]\n",
      "  |. . . . . . . . . . . . . . . [-> . .| [15:16] NP -> NNP * NNP [0.0142857142857]\n",
      "  |[-> . . . . . . . . . . . . . . . . .| [0:1] NP -> NNP * NNP [0.0142857142857]\n",
      "  |. . . [-----] . . . . . . . . . . . .| [3:6] ADJP -> NP JJ * [0.0126984126984]\n",
      "  |. . . > . . . . . . . . . . . . . . .| [3:3] NP-SBJ|<ADJP-,> -> * ADJP , [1.0]\n",
      "  |. . . > . . . . . . . . . . . . . . .| [3:3] UCP -> * ADJP UCP|<CC-NP> [1.0]\n",
      "  |. . . [-----> . . . . . . . . . . . .| [3:6] NP-SBJ|<ADJP-,> -> ADJP * , [0.0126984126984]\n",
      "  |. . . [-------] . . . . . . . . . . .| [3:7] NP-SBJ|<ADJP-,> -> ADJP , * [0.0126984126984]\n",
      "  |. . [---------] . . . . . . . . . . .| [2:7] NP-SBJ|<,-ADJP> -> , NP-SBJ|<ADJP-,> * [0.0126984126984]\n",
      "  |. . . [-----> . . . . . . . . . . . .| [3:6] UCP -> ADJP * UCP|<CC-NP> [0.0126984126984]\n",
      "  |. . . . . . . . . . [-] . . . . . . .| [10:11] NP -> NN * [0.00952380952381]\n",
      "  |. . . . . . . . . . > . . . . . . . .| [10:10] NP-SBJ-1 -> * NP NP-SBJ-1|<,-UCP> [1.0]\n",
      "  |. . . . . . . . . . > . . . . . . . .| [10:10] ADJP -> * NP JJ [1.0]\n",
      "  |. . . . . . . . . . > . . . . . . . .| [10:10] NP-PRD -> * NP PP [1.0]\n",
      "  |. . . . . . . . . . > . . . . . . . .| [10:10] VP|<NP-PP-CLR> -> * NP VP|<PP-CLR-NP-TMP> [1.0]\n",
      "  |. . . . . . . . . . > . . . . . . . .| [10:10] NP-SBJ -> * NP NP-SBJ|<,-ADJP> [0.333333333333]\n",
      "  |. . . . . . . . . . > . . . . . . . .| [10:10] NP -> * NP NP|<,-NP> [0.0666666666667]\n",
      "  |. . . . . . . . . . > . . . . . . . .| [10:10] NP -> * NP PP [0.0666666666667]\n",
      "  |. . . . . . . . . . [-> . . . . . . .| [10:11] NP-SBJ-1 -> NP * NP-SBJ-1|<,-UCP> [0.00952380952381]\n",
      "  |. . . . . . . . . . [-> . . . . . . .| [10:11] ADJP -> NP * JJ [0.00952380952381]\n",
      "  |. . . . . . . . . . [-> . . . . . . .| [10:11] NP-PRD -> NP * PP [0.00952380952381]\n",
      "  |. . . . . . . . . . [-> . . . . . . .| [10:11] VP|<NP-PP-CLR> -> NP * VP|<PP-CLR-NP-TMP> [0.00952380952381]\n",
      "  |. [-> . . . . . . . . . . . . . . . .| [1:2] NP -> NNP * NP|<NNP-NNP> [0.00952380952381]\n",
      "  |. . . . . . . . . . . . . . [-> . . .| [14:15] NP-SBJ -> NP * NP-SBJ|<,-ADJP> [0.00634920634921]\n",
      "  |. . . . . . . . . . . . . [---] . . .| [13:15] NP -> JJ NN * [0.00544217687075]\n",
      "  |. . . . . . . . . . . . . > . . . . .| [13:13] NP-SBJ-1 -> * NP NP-SBJ-1|<,-UCP> [1.0]\n",
      "  |. . . . . . . . . . . . . > . . . . .| [13:13] ADJP -> * NP JJ [1.0]\n",
      "  |. . . . . . . . . . . . . > . . . . .| [13:13] NP-PRD -> * NP PP [1.0]\n",
      "  |. . . . . . . . . . . . . > . . . . .| [13:13] VP|<NP-PP-CLR> -> * NP VP|<PP-CLR-NP-TMP> [1.0]\n",
      "  |. . . . . . . . . . . . . > . . . . .| [13:13] NP-SBJ -> * NP NP-SBJ|<,-ADJP> [0.333333333333]\n",
      "  |. . . . . . . . . . . . . > . . . . .| [13:13] NP -> * NP NP|<,-NP> [0.0666666666667]\n",
      "  |. . . . . . . . . . . . . > . . . . .| [13:13] NP -> * NP PP [0.0666666666667]\n",
      "  |. . . . . . . . . . . . . [---> . . .| [13:15] NP-SBJ-1 -> NP * NP-SBJ-1|<,-UCP> [0.00544217687075]\n",
      "  |. . . . . . . . . . . . . [---> . . .| [13:15] ADJP -> NP * JJ [0.00544217687075]\n",
      "  |. . . . . . . . . . . . . [---> . . .| [13:15] NP-PRD -> NP * PP [0.00544217687075]\n",
      "  |. . . . . . . . . . . . . [---> . . .| [13:15] VP|<NP-PP-CLR> -> NP * VP|<PP-CLR-NP-TMP> [0.00544217687075]\n",
      "  |[---] . . . . . . . . . . . . . . . .| [0:2] NP|<NNP-NNP> -> NNP NNP * [0.00510204081633]\n",
      "  |. . . . . . . . . . . . . . . [-> . .| [15:16] NP -> NNP * NP|<NNP-NNP> [0.0047619047619]\n",
      "  |[-> . . . . . . . . . . . . . . . . .| [0:1] NP -> NNP * NP|<NNP-NNP> [0.0047619047619]\n",
      "  |. . . . . . . . . . . . [-----] . . .| [12:15] NP -> DT NP|<JJ-NN> * [0.0043537414966]\n",
      "  |. . . . . . . . . . . . > . . . . . .| [12:12] NP-SBJ-1 -> * NP NP-SBJ-1|<,-UCP> [1.0]\n",
      "  |. . . . . . . . . . . . > . . . . . .| [12:12] ADJP -> * NP JJ [1.0]\n",
      "  |. . . . . . . . . . . . > . . . . . .| [12:12] NP-PRD -> * NP PP [1.0]\n",
      "  |. . . . . . . . . . . . > . . . . . .| [12:12] VP|<NP-PP-CLR> -> * NP VP|<PP-CLR-NP-TMP> [1.0]\n",
      "  |. . . . . . . . . . . . > . . . . . .| [12:12] NP-SBJ -> * NP NP-SBJ|<,-ADJP> [0.333333333333]\n",
      "  |. . . . . . . . . . . . > . . . . . .| [12:12] NP -> * NP NP|<,-NP> [0.0666666666667]\n",
      "  |. . . . . . . . . . . . > . . . . . .| [12:12] NP -> * NP PP [0.0666666666667]\n",
      "  |. . . . . . . . . . . . [-----> . . .| [12:15] NP-SBJ-1 -> NP * NP-SBJ-1|<,-UCP> [0.0043537414966]\n",
      "  |. . . . . . . . . . . . [-----> . . .| [12:15] ADJP -> NP * JJ [0.0043537414966]\n",
      "  |. . . . . . . . . . . . [-----> . . .| [12:15] NP-PRD -> NP * PP [0.0043537414966]\n",
      "  |. . . . . . . . . . . . [-----> . . .| [12:15] VP|<NP-PP-CLR> -> NP * VP|<PP-CLR-NP-TMP> [0.0043537414966]\n",
      "  |. . . . . . . . . [---] . . . . . . .| [9:11] NP -> DT NN * [0.00380952380952]\n",
      "  |. . . . . . . . . > . . . . . . . . .| [9:9] NP-SBJ-1 -> * NP NP-SBJ-1|<,-UCP> [1.0]\n",
      "  |. . . . . . . . . > . . . . . . . . .| [9:9] ADJP -> * NP JJ [1.0]\n",
      "  |. . . . . . . . . > . . . . . . . . .| [9:9] NP-PRD -> * NP PP [1.0]\n",
      "  |. . . . . . . . . > . . . . . . . . .| [9:9] VP|<NP-PP-CLR> -> * NP VP|<PP-CLR-NP-TMP> [1.0]\n",
      "  |. . . . . . . . . > . . . . . . . . .| [9:9] NP-SBJ -> * NP NP-SBJ|<,-ADJP> [0.333333333333]\n",
      "  |. . . . . . . . . > . . . . . . . . .| [9:9] NP -> * NP NP|<,-NP> [0.0666666666667]\n",
      "  |. . . . . . . . . > . . . . . . . . .| [9:9] NP -> * NP PP [0.0666666666667]\n",
      "  |. . . . . . . . . [---> . . . . . . .| [9:11] NP-SBJ-1 -> NP * NP-SBJ-1|<,-UCP> [0.00380952380952]\n",
      "  |. . . . . . . . . [---> . . . . . . .| [9:11] ADJP -> NP * JJ [0.00380952380952]\n",
      "  |. . . . . . . . . [---> . . . . . . .| [9:11] NP-PRD -> NP * PP [0.00380952380952]\n",
      "  |. . . . . . . . . [---> . . . . . . .| [9:11] VP|<NP-PP-CLR> -> NP * VP|<PP-CLR-NP-TMP> [0.00380952380952]\n",
      "  |[---] . . . . . . . . . . . . . . . .| [0:2] NP-SBJ -> NNP NNP * [0.00340136054422]\n",
      "  |> . . . . . . . . . . . . . . . . . .| [0:0] S  -> * NP-SBJ S|<VP-.> [0.5]\n",
      "  |> . . . . . . . . . . . . . . . . . .| [0:0] S  -> * NP-SBJ NP-PRD [0.25]\n",
      "  |. . . . . . . . . . [-> . . . . . . .| [10:11] NP-SBJ -> NP * NP-SBJ|<,-ADJP> [0.0031746031746]\n",
      "  |. . . [---> . . . . . . . . . . . . .| [3:5] NP -> NP * NP|<,-NP> [0.00296296296296]\n",
      "  |. . . [---> . . . . . . . . . . . . .| [3:5] NP -> NP * PP [0.00296296296296]\n",
      "  |[---] . . . . . . . . . . . . . . . .| [0:2] NP -> NNP NNP * [0.00204081632653]\n",
      "  |> . . . . . . . . . . . . . . . . . .| [0:0] NP-SBJ-1 -> * NP NP-SBJ-1|<,-UCP> [1.0]\n",
      "  |> . . . . . . . . . . . . . . . . . .| [0:0] ADJP -> * NP JJ [1.0]\n",
      "  |> . . . . . . . . . . . . . . . . . .| [0:0] NP-PRD -> * NP PP [1.0]\n",
      "  |> . . . . . . . . . . . . . . . . . .| [0:0] VP|<NP-PP-CLR> -> * NP VP|<PP-CLR-NP-TMP> [1.0]\n",
      "  |> . . . . . . . . . . . . . . . . . .| [0:0] NP-SBJ -> * NP NP-SBJ|<,-ADJP> [0.333333333333]\n",
      "  |> . . . . . . . . . . . . . . . . . .| [0:0] NP -> * NP NP|<,-NP> [0.0666666666667]\n",
      "  |> . . . . . . . . . . . . . . . . . .| [0:0] NP -> * NP PP [0.0666666666667]\n",
      "  |[---> . . . . . . . . . . . . . . . .| [0:2] NP-SBJ-1 -> NP * NP-SBJ-1|<,-UCP> [0.00204081632653]\n",
      "  |[---> . . . . . . . . . . . . . . . .| [0:2] ADJP -> NP * JJ [0.00204081632653]\n",
      "  |[---> . . . . . . . . . . . . . . . .| [0:2] NP-PRD -> NP * PP [0.00204081632653]\n",
      "  |[---> . . . . . . . . . . . . . . . .| [0:2] VP|<NP-PP-CLR> -> NP * VP|<PP-CLR-NP-TMP> [0.00204081632653]\n",
      "  |. . . . . . . . . . . . . [---> . . .| [13:15] NP-SBJ -> NP * NP-SBJ|<,-ADJP> [0.00181405895692]\n",
      "  |[---> . . . . . . . . . . . . . . . .| [0:2] S  -> NP-SBJ * S|<VP-.> [0.00170068027211]\n",
      "  |. . . . . . . . . . . . [-----> . . .| [12:15] NP-SBJ -> NP * NP-SBJ|<,-ADJP> [0.00145124716553]\n",
      "  |. . . . . . . . . [---> . . . . . . .| [9:11] NP-SBJ -> NP * NP-SBJ|<,-ADJP> [0.00126984126984]\n",
      "  |. . . . . . . . . . . . . . [-> . . .| [14:15] NP -> NP * NP|<,-NP> [0.00126984126984]\n",
      "  |. . . . . . . . . . . . . . [-> . . .| [14:15] NP -> NP * PP [0.00126984126984]\n",
      "  |. . . . . . . . . . . [-------] . . .| [11:15] PP-CLR -> IN NP * [0.00108843537415]\n",
      "  |. . . . . . . . . . . > . . . . . . .| [11:11] VP|<PP-CLR-NP-TMP> -> * PP-CLR NP-TMP [1.0]\n",
      "  |. . . . . . . . . . . [-------> . . .| [11:15] VP|<PP-CLR-NP-TMP> -> PP-CLR * NP-TMP [0.00108843537415]\n",
      "  |. . . . . . . . . . . [-------] . . .| [11:15] PP -> IN NP * [0.00108843537415]\n",
      "  |[---> . . . . . . . . . . . . . . . .| [0:2] S  -> NP-SBJ * NP-PRD [0.000850340136054]\n",
      "  |[---> . . . . . . . . . . . . . . . .| [0:2] NP-SBJ -> NP * NP-SBJ|<,-ADJP> [0.000680272108844]\n",
      "  |. . . . . . . . . . [-> . . . . . . .| [10:11] NP -> NP * NP|<,-NP> [0.000634920634921]\n",
      "  |. . . . . . . . . . [-> . . . . . . .| [10:11] NP -> NP * PP [0.000634920634921]\n",
      "  |. . . . . . . . . . . . . [---> . . .| [13:15] NP -> NP * NP|<,-NP> [0.000362811791383]\n",
      "  |. . . . . . . . . . . . . [---> . . .| [13:15] NP -> NP * PP [0.000362811791383]\n",
      "  |. . . . . . . . . . . . [-----> . . .| [12:15] NP -> NP * NP|<,-NP> [0.000290249433107]\n",
      "  |. . . . . . . . . . . . [-----> . . .| [12:15] NP -> NP * PP [0.000290249433107]\n",
      "  |. . . . . . . . . [---> . . . . . . .| [9:11] NP -> NP * NP|<,-NP> [0.000253968253968]\n",
      "  |. . . . . . . . . [---> . . . . . . .| [9:11] NP -> NP * PP [0.000253968253968]\n",
      "  |[---> . . . . . . . . . . . . . . . .| [0:2] NP -> NP * NP|<,-NP> [0.000136054421769]\n",
      "  |[---> . . . . . . . . . . . . . . . .| [0:2] NP -> NP * PP [0.000136054421769]\n",
      "  |. . . . . . . . . . . [-----------] .| [11:17] VP|<PP-CLR-NP-TMP> -> PP-CLR NP-TMP * [2.59151279559e-05]\n",
      "  |. . . . . . . . . . [---------] . . .| [10:15] NP-PRD -> NP PP * [1.03660511824e-05]\n",
      "  |[-------------] . . . . . . . . . . .| [0:7] NP-SBJ -> NP NP-SBJ|<,-ADJP> * [8.63837598531e-06]\n",
      "  |[---------] . . . . . . . . . . . . .| [0:5] NP -> NP NP|<,-NP> * [6.04686318972e-06]\n",
      "  |[---------> . . . . . . . . . . . . .| [0:5] NP-SBJ-1 -> NP * NP-SBJ-1|<,-UCP> [6.04686318972e-06]\n",
      "  |[---------> . . . . . . . . . . . . .| [0:5] ADJP -> NP * JJ [6.04686318972e-06]\n",
      "  |[---------> . . . . . . . . . . . . .| [0:5] NP-PRD -> NP * PP [6.04686318972e-06]\n",
      "  |[---------> . . . . . . . . . . . . .| [0:5] VP|<NP-PP-CLR> -> NP * VP|<PP-CLR-NP-TMP> [6.04686318972e-06]\n",
      "  |[-------------> . . . . . . . . . . .| [0:7] S  -> NP-SBJ * S|<VP-.> [4.31918799266e-06]\n",
      "  |. . . . . . . . . [-----------] . . .| [9:15] NP-PRD -> NP PP * [4.14642047295e-06]\n",
      "  |[-------------> . . . . . . . . . . .| [0:7] S  -> NP-SBJ * NP-PRD [2.15959399633e-06]\n",
      "  |[---------> . . . . . . . . . . . . .| [0:5] NP-SBJ -> NP * NP-SBJ|<,-ADJP> [2.01562106324e-06]\n",
      "  |[-----------] . . . . . . . . . . . .| [0:6] ADJP -> NP JJ * [1.72767519706e-06]\n",
      "  |> . . . . . . . . . . . . . . . . . .| [0:0] NP-SBJ|<ADJP-,> -> * ADJP , [1.0]\n",
      "  |> . . . . . . . . . . . . . . . . . .| [0:0] UCP -> * ADJP UCP|<CC-NP> [1.0]\n",
      "  |[-----------> . . . . . . . . . . . .| [0:6] NP-SBJ|<ADJP-,> -> ADJP * , [1.72767519706e-06]\n",
      "  |[-------------] . . . . . . . . . . .| [0:7] NP-SBJ|<ADJP-,> -> ADJP , * [1.72767519706e-06]\n",
      "  |[-----------> . . . . . . . . . . . .| [0:6] UCP -> ADJP * UCP|<CC-NP> [1.72767519706e-06]\n",
      "  |. . . . . . . . . . [---------] . . .| [10:15] NP -> NP PP * [6.91070078825e-07]\n",
      "  |. . . . . . . . . . [---------> . . .| [10:15] NP-SBJ-1 -> NP * NP-SBJ-1|<,-UCP> [6.91070078825e-07]\n",
      "  |. . . . . . . . . . [---------> . . .| [10:15] ADJP -> NP * JJ [6.91070078825e-07]\n",
      "  |. . . . . . . . . . [---------> . . .| [10:15] NP-PRD -> NP * PP [6.91070078825e-07]\n",
      "  |. . . . . . . . . . [---------> . . .| [10:15] VP|<NP-PP-CLR> -> NP * VP|<PP-CLR-NP-TMP> [6.91070078825e-07]\n",
      "  |[---------> . . . . . . . . . . . . .| [0:5] NP -> NP * NP|<,-NP> [4.03124212648e-07]\n",
      "  |[---------> . . . . . . . . . . . . .| [0:5] NP -> NP * PP [4.03124212648e-07]\n",
      "  |. . . . . . . . . [-----------] . . .| [9:15] NP -> NP PP * [2.7642803153e-07]\n",
      "  |. . . . . . . . . [-----------> . . .| [9:15] NP-SBJ-1 -> NP * NP-SBJ-1|<,-UCP> [2.7642803153e-07]\n",
      "  |. . . . . . . . . [-----------> . . .| [9:15] ADJP -> NP * JJ [2.7642803153e-07]\n",
      "  |. . . . . . . . . [-----------> . . .| [9:15] NP-PRD -> NP * PP [2.7642803153e-07]\n",
      "  |. . . . . . . . . [-----------> . . .| [9:15] VP|<NP-PP-CLR> -> NP * VP|<PP-CLR-NP-TMP> [2.7642803153e-07]\n",
      "  |. . . . . . . . . . [-------------] .| [10:17] VP|<NP-PP-CLR> -> NP VP|<PP-CLR-NP-TMP> * [2.46810742438e-07]\n",
      "  |. . . . . . . . . . [---------> . . .| [10:15] NP-SBJ -> NP * NP-SBJ|<,-ADJP> [2.30356692942e-07]\n",
      "  |. . . . . . . . . [---------------] .| [9:17] VP|<NP-PP-CLR> -> NP VP|<PP-CLR-NP-TMP> * [9.8724296975e-08]\n",
      "  |. . . . . . . . . [-----------> . . .| [9:15] NP-SBJ -> NP * NP-SBJ|<,-ADJP> [9.21426771767e-08]\n",
      "  |. . . . . . . . . . [---------> . . .| [10:15] NP -> NP * NP|<,-NP> [4.60713385883e-08]\n",
      "  |. . . . . . . . . . [---------> . . .| [10:15] NP -> NP * PP [4.60713385883e-08]\n",
      "  |. . . . . . . . [-----------------] .| [8:17] VP -> VB VP|<NP-PP-CLR> * [1.9744859395e-08]\n",
      "  |. . . . . . . . > . . . . . . . . . .| [8:8] S|<VP-.> -> * VP . [1.0]\n",
      "  |. . . . . . . . [-----------------> .| [8:17] S|<VP-.> -> VP * . [1.9744859395e-08]\n",
      "  |. . . . . . . . [-------------------]| [8:18] S|<VP-.> -> VP . * [1.9744859395e-08]\n",
      "  |. . . . . . . . . [-----------> . . .| [9:15] NP -> NP * NP|<,-NP> [1.84285354353e-08]\n",
      "  |. . . . . . . . . [-----------> . . .| [9:15] NP -> NP * PP [1.84285354353e-08]\n",
      "  |. . . . . . . [-------------------] .| [7:17] VP -> MD VP * [3.948971879e-09]\n",
      "  |. . . . . . . > . . . . . . . . . . .| [7:7] S|<VP-.> -> * VP . [1.0]\n",
      "  |. . . . . . . [-------------------> .| [7:17] S|<VP-.> -> VP * . [3.948971879e-09]\n",
      "  |. . . . . . . [---------------------]| [7:18] S|<VP-.> -> VP . * [3.948971879e-09]\n",
      "  |[===================================]| [0:18] S  -> NP-SBJ S|<VP-.> * [1.70563519231e-14]\n",
      "(S\n",
      "  (NP-SBJ\n",
      "    (NP (NNP Pierre) (NNP Vinken))\n",
      "    (NP-SBJ|<,-ADJP>\n",
      "      (, ,)\n",
      "      (NP-SBJ|<ADJP-,>\n",
      "        (ADJP (NP (CD 61) (NNS years)) (JJ old))\n",
      "        (, ,))))\n",
      "  (S|<VP-.>\n",
      "    (VP\n",
      "      (MD will)\n",
      "      (VP\n",
      "        (VB join)\n",
      "        (VP|<NP-PP-CLR>\n",
      "          (NP (DT the) (NN board))\n",
      "          (VP|<PP-CLR-NP-TMP>\n",
      "            (PP-CLR\n",
      "              (IN as)\n",
      "              (NP\n",
      "                (DT a)\n",
      "                (NP|<JJ-NN>\n",
      "                  (JJ nonexecutive)\n",
      "                  (NN director))))\n",
      "            (NP-TMP (NNP Nov.) (CD 29))))))\n",
      "    (. .))) (p=1.70564e-14)\n"
     ]
    }
   ],
   "source": [
    "print \"Parse sentence using induced grammar:\"\n",
    "\n",
    "parser = pchart.InsideChartParser(grammar)\n",
    "parser.trace(3)\n",
    "\n",
    "sent = treebank.parsed_sents('wsj_0001.mrg')[0].leaves()\n",
    "print sent\n",
    "\n",
    "for parse in parser.parse(sent):\n",
    "  print parse"
   ]
  },
  {
   "cell_type": "markdown",
   "metadata": {},
   "source": [
    "The parsers are defined in module nltk.parse."
   ]
  },
  {
   "cell_type": "code",
   "execution_count": 28,
   "metadata": {
    "collapsed": false
   },
   "outputs": [],
   "source": [
    "import sys, time\n",
    "from nltk import tokenize\n",
    "from nltk.grammar import toy_pcfg1\n",
    "from nltk.parse import pchart\n",
    "from nltk.parse import ViterbiParser\n",
    "\n",
    "demos = [('I saw John with my telescope', toy_pcfg1)]\n",
    "sent, grammar = demos[0]\n",
    "\n",
    "# Tokenize the sentence.\n",
    "tokens = sent.split()\n",
    "\n",
    "# Define a list of parsers.  We'll use all parsers.\n",
    "parsers = [\n",
    "ViterbiParser(grammar),\n",
    "pchart.InsideChartParser(grammar),\n",
    "pchart.RandomChartParser(grammar),\n",
    "pchart.UnsortedChartParser(grammar),\n",
    "pchart.LongestChartParser(grammar),\n",
    "pchart.InsideChartParser(grammar, beam_size = len(tokens)+1)\n",
    "]"
   ]
  },
  {
   "cell_type": "code",
   "execution_count": 103,
   "metadata": {
    "collapsed": false
   },
   "outputs": [
    {
     "name": "stdout",
     "output_type": "stream",
     "text": [
      "\n",
      "s: I saw John with my telescope\n",
      "parser: <nltk.parse.pchart.InsideChartParser object at 0x000000001677C240>\n",
      "grammar: Grammar with 17 productions (start state = S)\n",
      "    S -> NP VP [1.0]\n",
      "    NP -> Det N [0.5]\n",
      "    NP -> NP PP [0.25]\n",
      "    NP -> 'John' [0.1]\n",
      "    NP -> 'I' [0.15]\n",
      "    Det -> 'the' [0.8]\n",
      "    Det -> 'my' [0.2]\n",
      "    N -> 'man' [0.5]\n",
      "    N -> 'telescope' [0.5]\n",
      "    VP -> VP PP [0.1]\n",
      "    VP -> V NP [0.7]\n",
      "    VP -> V [0.2]\n",
      "    V -> 'ate' [0.35]\n",
      "    V -> 'saw' [0.65]\n",
      "    PP -> P NP [1.0]\n",
      "    P -> 'with' [0.61]\n",
      "    P -> 'under' [0.39]\n",
      "  |[-] . . . . .| [0:1] 'I'                          [1.0]\n",
      "  |. [-] . . . .| [1:2] 'saw'                        [1.0]\n",
      "  |. . [-] . . .| [2:3] 'John'                       [1.0]\n",
      "  |. . . [-] . .| [3:4] 'with'                       [1.0]\n",
      "  |. . . . [-] .| [4:5] 'my'                         [1.0]\n",
      "  |. . . . . [-]| [5:6] 'telescope'                  [1.0]\n",
      "  |. . . . . [-]| [5:6] 'telescope'                  [1.0]\n",
      "  |. . . . [-] .| [4:5] 'my'                         [1.0]\n",
      "  |. . . [-] . .| [3:4] 'with'                       [1.0]\n",
      "  |. . [-] . . .| [2:3] 'John'                       [1.0]\n",
      "  |. [-] . . . .| [1:2] 'saw'                        [1.0]\n",
      "  |[-] . . . . .| [0:1] 'I'                          [1.0]\n",
      "  |. [-] . . . .| [1:2] V  -> 'saw' *                [0.65]\n",
      "  |. > . . . . .| [1:1] VP -> * V NP                 [0.7]\n",
      "  |. > . . . . .| [1:1] V  -> * 'saw'                [0.65]\n",
      "  |. . . [-] . .| [3:4] P  -> 'with' *               [0.61]\n",
      "  |. . . > . . .| [3:3] PP -> * P NP                 [1.0]\n",
      "  |. . . [-> . .| [3:4] PP -> P * NP                 [0.61]\n",
      "  |. . . > . . .| [3:3] P  -> * 'with'               [0.61]\n",
      "  |. . . . . [-]| [5:6] N  -> 'telescope' *          [0.5]\n",
      "  |. . . . . > .| [5:5] N  -> * 'telescope'          [0.5]\n",
      "  |. [-> . . . .| [1:2] VP -> V * NP                 [0.455]\n",
      "  |. > . . . . .| [1:1] VP -> * V                    [0.2]\n",
      "  |. . . . [-] .| [4:5] Det -> 'my' *                [0.2]\n",
      "  |. . . . > . .| [4:4] NP -> * Det N                [0.5]\n",
      "  |. . . . > . .| [4:4] Det -> * 'my'                [0.2]\n",
      "  |[-] . . . . .| [0:1] NP -> 'I' *                  [0.15]\n",
      "  |> . . . . . .| [0:0] S  -> * NP VP                [1.0]\n",
      "  |> . . . . . .| [0:0] NP -> * NP PP                [0.25]\n",
      "  |[-> . . . . .| [0:1] S  -> NP * VP                [0.15]\n",
      "  |> . . . . . .| [0:0] NP -> * 'I'                  [0.15]\n",
      "  |. [-] . . . .| [1:2] VP -> V *                    [0.13]\n",
      "  |. > . . . . .| [1:1] VP -> * VP PP                [0.1]\n",
      "  |. . . . [-> .| [4:5] NP -> Det * N                [0.1]\n",
      "  |. . [-] . . .| [2:3] NP -> 'John' *               [0.1]\n",
      "  |. . > . . . .| [2:2] S  -> * NP VP                [1.0]\n",
      "  |. . > . . . .| [2:2] NP -> * NP PP                [0.25]\n",
      "  |. . [-> . . .| [2:3] S  -> NP * VP                [0.1]\n",
      "  |. . > . . . .| [2:2] NP -> * 'John'               [0.1]\n",
      "  |. . . . [---]| [4:6] NP -> Det N *                [0.05]\n",
      "  |. . . . > . .| [4:4] S  -> * NP VP                [1.0]\n",
      "  |. . . . > . .| [4:4] NP -> * NP PP                [0.25]\n",
      "  |. . . . [--->| [4:6] S  -> NP * VP                [0.05]\n",
      "  |. [---] . . .| [1:3] VP -> V NP *                 [0.0455]\n",
      "  |[-> . . . . .| [0:1] NP -> NP * PP                [0.0375]\n",
      "  |. . . [-----]| [3:6] PP -> P NP *                 [0.0305]\n",
      "  |. . [-> . . .| [2:3] NP -> NP * PP                [0.025]\n",
      "  |[---] . . . .| [0:2] S  -> NP VP *                [0.0195]\n",
      "  |. [-> . . . .| [1:2] VP -> VP * PP                [0.013]\n",
      "  |. . . . [--->| [4:6] NP -> NP * PP                [0.0125]\n",
      "  |[-----] . . .| [0:3] S  -> NP VP *                [0.006825]\n",
      "  |. [---> . . .| [1:3] VP -> VP * PP                [0.00455]\n",
      "  |. . [-------]| [2:6] NP -> NP PP *                [0.0007625]\n",
      "  |. . [------->| [2:6] S  -> NP * VP                [0.0007625]\n",
      "  |. [---------]| [1:6] VP -> V NP *                 [0.0003469375]\n",
      "  |. . [------->| [2:6] NP -> NP * PP                [0.000190625]\n",
      "  |. [---------]| [1:6] VP -> VP PP *                [0.000138775]\n",
      "  |[===========]| [0:6] S  -> NP VP *                [5.2040625e-05]\n",
      "  |. [--------->| [1:6] VP -> VP * PP                [3.469375e-05]\n",
      "  |[===========]| [0:6] S  -> NP VP *                [2.081625e-05]\n",
      "  |. [--------->| [1:6] VP -> VP * PP                [1.38775e-05]\n",
      "\n",
      "s: I saw John with my telescope\n",
      "parser: <nltk.parse.pchart.RandomChartParser object at 0x000000001677C278>\n",
      "grammar: Grammar with 17 productions (start state = S)\n",
      "    S -> NP VP [1.0]\n",
      "    NP -> Det N [0.5]\n",
      "    NP -> NP PP [0.25]\n",
      "    NP -> 'John' [0.1]\n",
      "    NP -> 'I' [0.15]\n",
      "    Det -> 'the' [0.8]\n",
      "    Det -> 'my' [0.2]\n",
      "    N -> 'man' [0.5]\n",
      "    N -> 'telescope' [0.5]\n",
      "    VP -> VP PP [0.1]\n",
      "    VP -> V NP [0.7]\n",
      "    VP -> V [0.2]\n",
      "    V -> 'ate' [0.35]\n",
      "    V -> 'saw' [0.65]\n",
      "    PP -> P NP [1.0]\n",
      "    P -> 'with' [0.61]\n",
      "    P -> 'under' [0.39]\n",
      "  |[-] . . . . .| [0:1] 'I'                          [1.0]\n",
      "  |. [-] . . . .| [1:2] 'saw'                        [1.0]\n",
      "  |. . [-] . . .| [2:3] 'John'                       [1.0]\n",
      "  |. . . [-] . .| [3:4] 'with'                       [1.0]\n",
      "  |. . . . [-] .| [4:5] 'my'                         [1.0]\n",
      "  |. . . . . [-]| [5:6] 'telescope'                  [1.0]\n",
      "  |. . . . . [-]| [5:6] 'telescope'                  [1.0]\n",
      "  |. . . . [-] .| [4:5] 'my'                         [1.0]\n",
      "  |[-] . . . . .| [0:1] 'I'                          [1.0]\n",
      "  |. . . . [-] .| [4:5] Det -> 'my' *                [0.2]\n",
      "  |. . [-] . . .| [2:3] 'John'                       [1.0]\n",
      "  |. . > . . . .| [2:2] NP -> * 'John'               [0.1]\n",
      "  |. . . . . [-]| [5:6] N  -> 'telescope' *          [0.5]\n",
      "  |. . . . . > .| [5:5] N  -> * 'telescope'          [0.5]\n",
      "  |> . . . . . .| [0:0] NP -> * 'I'                  [0.15]\n",
      "  |. . . . [-> .| [4:5] NP -> Det * N                [0.1]\n",
      "  |. . . . > . .| [4:4] Det -> * 'my'                [0.2]\n",
      "  |. . . [-] . .| [3:4] 'with'                       [1.0]\n",
      "  |. . . . [---]| [4:6] NP -> Det N *                [0.05]\n",
      "  |. . . > . . .| [3:3] P  -> * 'with'               [0.61]\n",
      "  |. . [-] . . .| [2:3] NP -> 'John' *               [0.1]\n",
      "  |. . > . . . .| [2:2] NP -> * NP PP                [0.25]\n",
      "  |. . . . [--->| [4:6] S  -> NP * VP                [0.05]\n",
      "  |[-] . . . . .| [0:1] NP -> 'I' *                  [0.15]\n",
      "  |. . > . . . .| [2:2] S  -> * NP VP                [1.0]\n",
      "  |[-> . . . . .| [0:1] NP -> NP * PP                [0.0375]\n",
      "  |> . . . . . .| [0:0] NP -> * NP PP                [0.25]\n",
      "  |. . . . > . .| [4:4] NP -> * NP PP                [0.25]\n",
      "  |. . . . > . .| [4:4] NP -> * Det N                [0.5]\n",
      "  |. . . . [--->| [4:6] NP -> NP * PP                [0.0125]\n",
      "  |. . [-> . . .| [2:3] S  -> NP * VP                [0.1]\n",
      "  |[-> . . . . .| [0:1] S  -> NP * VP                [0.15]\n",
      "  |. [-] . . . .| [1:2] 'saw'                        [1.0]\n",
      "  |. . . [-] . .| [3:4] P  -> 'with' *               [0.61]\n",
      "  |. . [-> . . .| [2:3] NP -> NP * PP                [0.025]\n",
      "  |. . . . > . .| [4:4] S  -> * NP VP                [1.0]\n",
      "  |> . . . . . .| [0:0] S  -> * NP VP                [1.0]\n",
      "  |. > . . . . .| [1:1] V  -> * 'saw'                [0.65]\n",
      "  |. . . [-> . .| [3:4] PP -> P * NP                 [0.61]\n",
      "  |. . . [-----]| [3:6] PP -> P NP *                 [0.0305]\n",
      "  |. . [-------]| [2:6] NP -> NP PP *                [0.0007625]\n",
      "  |. . [------->| [2:6] NP -> NP * PP                [0.000190625]\n",
      "  |. [-] . . . .| [1:2] V  -> 'saw' *                [0.65]\n",
      "  |. > . . . . .| [1:1] VP -> * V NP                 [0.7]\n",
      "  |. . . > . . .| [3:3] PP -> * P NP                 [1.0]\n",
      "  |. [-> . . . .| [1:2] VP -> V * NP                 [0.455]\n",
      "  |. [-] . . . .| [1:2] VP -> V *                    [0.13]\n",
      "  |. > . . . . .| [1:1] VP -> * V                    [0.2]\n",
      "  |. [---] . . .| [1:3] VP -> V NP *                 [0.0455]\n",
      "  |. > . . . . .| [1:1] VP -> * VP PP                [0.1]\n",
      "  |[-----] . . .| [0:3] S  -> NP VP *                [0.006825]\n",
      "  |[---] . . . .| [0:2] S  -> NP VP *                [0.0195]\n",
      "  |. [-> . . . .| [1:2] VP -> VP * PP                [0.013]\n",
      "  |. [---------]| [1:6] VP -> V NP *                 [0.0003469375]\n",
      "  |. [--------->| [1:6] VP -> VP * PP                [3.469375e-05]\n",
      "  |. [---> . . .| [1:3] VP -> VP * PP                [0.00455]\n",
      "  |[===========]| [0:6] S  -> NP VP *                [5.2040625e-05]\n",
      "  |. [---------]| [1:6] VP -> VP PP *                [0.000138775]\n",
      "  |. [--------->| [1:6] VP -> VP * PP                [1.38775e-05]\n",
      "  |[===========]| [0:6] S  -> NP VP *                [2.081625e-05]\n",
      "  |. . [------->| [2:6] S  -> NP * VP                [0.0007625]\n",
      "\n",
      "s: I saw John with my telescope\n",
      "parser: <nltk.parse.pchart.UnsortedChartParser object at 0x000000001677C208>\n",
      "grammar: Grammar with 17 productions (start state = S)\n",
      "    S -> NP VP [1.0]\n",
      "    NP -> Det N [0.5]\n",
      "    NP -> NP PP [0.25]\n",
      "    NP -> 'John' [0.1]\n",
      "    NP -> 'I' [0.15]\n",
      "    Det -> 'the' [0.8]\n",
      "    Det -> 'my' [0.2]\n",
      "    N -> 'man' [0.5]\n",
      "    N -> 'telescope' [0.5]\n",
      "    VP -> VP PP [0.1]\n",
      "    VP -> V NP [0.7]\n",
      "    VP -> V [0.2]\n",
      "    V -> 'ate' [0.35]\n",
      "    V -> 'saw' [0.65]\n",
      "    PP -> P NP [1.0]\n",
      "    P -> 'with' [0.61]\n",
      "    P -> 'under' [0.39]\n",
      "  |[-] . . . . .| [0:1] 'I'                          [1.0]\n",
      "  |. [-] . . . .| [1:2] 'saw'                        [1.0]\n",
      "  |. . [-] . . .| [2:3] 'John'                       [1.0]\n",
      "  |. . . [-] . .| [3:4] 'with'                       [1.0]\n",
      "  |. . . . [-] .| [4:5] 'my'                         [1.0]\n",
      "  |. . . . . [-]| [5:6] 'telescope'                  [1.0]\n",
      "  |. . . . . [-]| [5:6] 'telescope'                  [1.0]\n",
      "  |. . . . . [-]| [5:6] N  -> 'telescope' *          [0.5]\n",
      "  |. . . . . > .| [5:5] N  -> * 'telescope'          [0.5]\n",
      "  |. . . . [-] .| [4:5] 'my'                         [1.0]\n",
      "  |. . . . [-] .| [4:5] Det -> 'my' *                [0.2]\n",
      "  |. . . . [-> .| [4:5] NP -> Det * N                [0.1]\n",
      "  |. . . . [---]| [4:6] NP -> Det N *                [0.05]\n",
      "  |. . . . [--->| [4:6] NP -> NP * PP                [0.0125]\n",
      "  |. . . . [--->| [4:6] S  -> NP * VP                [0.05]\n",
      "  |. . . . > . .| [4:4] NP -> * NP PP                [0.25]\n",
      "  |. . . . > . .| [4:4] S  -> * NP VP                [1.0]\n",
      "  |. . . . > . .| [4:4] NP -> * Det N                [0.5]\n",
      "  |. . . . > . .| [4:4] Det -> * 'my'                [0.2]\n",
      "  |. . . [-] . .| [3:4] 'with'                       [1.0]\n",
      "  |. . . [-] . .| [3:4] P  -> 'with' *               [0.61]\n",
      "  |. . . [-> . .| [3:4] PP -> P * NP                 [0.61]\n",
      "  |. . . [-----]| [3:6] PP -> P NP *                 [0.0305]\n",
      "  |. . . > . . .| [3:3] PP -> * P NP                 [1.0]\n",
      "  |. . . > . . .| [3:3] P  -> * 'with'               [0.61]\n",
      "  |. . [-] . . .| [2:3] 'John'                       [1.0]\n",
      "  |. . [-] . . .| [2:3] NP -> 'John' *               [0.1]\n",
      "  |. . [-> . . .| [2:3] NP -> NP * PP                [0.025]\n",
      "  |. . [-------]| [2:6] NP -> NP PP *                [0.0007625]\n",
      "  |. . [------->| [2:6] NP -> NP * PP                [0.000190625]\n",
      "  |. . [------->| [2:6] S  -> NP * VP                [0.0007625]\n",
      "  |. . [-> . . .| [2:3] S  -> NP * VP                [0.1]\n",
      "  |. . > . . . .| [2:2] NP -> * NP PP                [0.25]\n",
      "  |. . > . . . .| [2:2] S  -> * NP VP                [1.0]\n",
      "  |. . > . . . .| [2:2] NP -> * 'John'               [0.1]\n",
      "  |. [-] . . . .| [1:2] 'saw'                        [1.0]\n",
      "  |. [-] . . . .| [1:2] V  -> 'saw' *                [0.65]\n",
      "  |. [-] . . . .| [1:2] VP -> V *                    [0.13]\n",
      "  |. [-> . . . .| [1:2] VP -> VP * PP                [0.013]\n",
      "  |. > . . . . .| [1:1] VP -> * VP PP                [0.1]\n",
      "  |. [-> . . . .| [1:2] VP -> V * NP                 [0.455]\n",
      "  |. [---------]| [1:6] VP -> V NP *                 [0.0003469375]\n",
      "  |. [--------->| [1:6] VP -> VP * PP                [3.469375e-05]\n",
      "  |. [---] . . .| [1:3] VP -> V NP *                 [0.0455]\n",
      "  |. [---> . . .| [1:3] VP -> VP * PP                [0.00455]\n",
      "  |. [---------]| [1:6] VP -> VP PP *                [0.000138775]\n",
      "  |. [--------->| [1:6] VP -> VP * PP                [1.38775e-05]\n",
      "  |. > . . . . .| [1:1] VP -> * V                    [0.2]\n",
      "  |. > . . . . .| [1:1] VP -> * V NP                 [0.7]\n",
      "  |. > . . . . .| [1:1] V  -> * 'saw'                [0.65]\n",
      "  |[-] . . . . .| [0:1] 'I'                          [1.0]\n",
      "  |[-] . . . . .| [0:1] NP -> 'I' *                  [0.15]\n",
      "  |[-> . . . . .| [0:1] NP -> NP * PP                [0.0375]\n",
      "  |[-> . . . . .| [0:1] S  -> NP * VP                [0.15]\n",
      "  |[===========]| [0:6] S  -> NP VP *                [2.081625e-05]\n",
      "  |[===========]| [0:6] S  -> NP VP *                [5.2040625e-05]\n",
      "  |[-----] . . .| [0:3] S  -> NP VP *                [0.006825]\n",
      "  |[---] . . . .| [0:2] S  -> NP VP *                [0.0195]\n",
      "  |> . . . . . .| [0:0] NP -> * NP PP                [0.25]\n",
      "  |> . . . . . .| [0:0] S  -> * NP VP                [1.0]\n",
      "  |> . . . . . .| [0:0] NP -> * 'I'                  [0.15]\n",
      "\n",
      "s: I saw John with my telescope\n",
      "parser: <nltk.parse.pchart.LongestChartParser object at 0x000000001677C2E8>\n",
      "grammar: Grammar with 17 productions (start state = S)\n",
      "    S -> NP VP [1.0]\n",
      "    NP -> Det N [0.5]\n",
      "    NP -> NP PP [0.25]\n",
      "    NP -> 'John' [0.1]\n",
      "    NP -> 'I' [0.15]\n",
      "    Det -> 'the' [0.8]\n",
      "    Det -> 'my' [0.2]\n",
      "    N -> 'man' [0.5]\n",
      "    N -> 'telescope' [0.5]\n",
      "    VP -> VP PP [0.1]\n",
      "    VP -> V NP [0.7]\n",
      "    VP -> V [0.2]\n",
      "    V -> 'ate' [0.35]\n",
      "    V -> 'saw' [0.65]\n",
      "    PP -> P NP [1.0]\n",
      "    P -> 'with' [0.61]\n",
      "    P -> 'under' [0.39]\n",
      "  |[-] . . . . .| [0:1] 'I'                          [1.0]\n",
      "  |. [-] . . . .| [1:2] 'saw'                        [1.0]\n",
      "  |. . [-] . . .| [2:3] 'John'                       [1.0]\n",
      "  |. . . [-] . .| [3:4] 'with'                       [1.0]\n",
      "  |. . . . [-] .| [4:5] 'my'                         [1.0]\n",
      "  |. . . . . [-]| [5:6] 'telescope'                  [1.0]\n",
      "  |. . . . . [-]| [5:6] 'telescope'                  [1.0]\n",
      "  |. . . . . [-]| [5:6] N  -> 'telescope' *          [0.5]\n",
      "  |. . . . [-] .| [4:5] 'my'                         [1.0]\n",
      "  |. . . . [-] .| [4:5] Det -> 'my' *                [0.2]\n",
      "  |. . . . [-> .| [4:5] NP -> Det * N                [0.1]\n",
      "  |. . . . [---]| [4:6] NP -> Det N *                [0.05]\n",
      "  |. . . . [--->| [4:6] NP -> NP * PP                [0.0125]\n",
      "  |. . . . [--->| [4:6] S  -> NP * VP                [0.05]\n",
      "  |. . . [-] . .| [3:4] 'with'                       [1.0]\n",
      "  |. . . [-] . .| [3:4] P  -> 'with' *               [0.61]\n",
      "  |. . . [-> . .| [3:4] PP -> P * NP                 [0.61]\n",
      "  |. . . [-----]| [3:6] PP -> P NP *                 [0.0305]\n",
      "  |. . [-] . . .| [2:3] 'John'                       [1.0]\n",
      "  |. . [-] . . .| [2:3] NP -> 'John' *               [0.1]\n",
      "  |. . [-> . . .| [2:3] NP -> NP * PP                [0.025]\n",
      "  |. . [-------]| [2:6] NP -> NP PP *                [0.0007625]\n",
      "  |. . [------->| [2:6] NP -> NP * PP                [0.000190625]\n",
      "  |. . [------->| [2:6] S  -> NP * VP                [0.0007625]\n",
      "  |. . [-> . . .| [2:3] S  -> NP * VP                [0.1]\n",
      "  |. [-] . . . .| [1:2] 'saw'                        [1.0]\n",
      "  |. [-] . . . .| [1:2] V  -> 'saw' *                [0.65]\n",
      "  |. [-] . . . .| [1:2] VP -> V *                    [0.13]\n",
      "  |. [-> . . . .| [1:2] VP -> VP * PP                [0.013]\n",
      "  |. [-> . . . .| [1:2] VP -> V * NP                 [0.455]\n",
      "  |. [---------]| [1:6] VP -> V NP *                 [0.0003469375]\n",
      "  |. [--------->| [1:6] VP -> VP * PP                [3.469375e-05]\n",
      "  |. [---] . . .| [1:3] VP -> V NP *                 [0.0455]\n",
      "  |. [---> . . .| [1:3] VP -> VP * PP                [0.00455]\n",
      "  |. [---------]| [1:6] VP -> VP PP *                [0.000138775]\n",
      "  |. [--------->| [1:6] VP -> VP * PP                [1.38775e-05]\n",
      "  |[-] . . . . .| [0:1] 'I'                          [1.0]\n",
      "  |[-] . . . . .| [0:1] NP -> 'I' *                  [0.15]\n",
      "  |[-> . . . . .| [0:1] NP -> NP * PP                [0.0375]\n",
      "  |[-> . . . . .| [0:1] S  -> NP * VP                [0.15]\n",
      "  |[===========]| [0:6] S  -> NP VP *                [2.081625e-05]\n",
      "  |[===========]| [0:6] S  -> NP VP *                [5.2040625e-05]\n",
      "  |[-----] . . .| [0:3] S  -> NP VP *                [0.006825]\n",
      "  |[---] . . . .| [0:2] S  -> NP VP *                [0.0195]\n",
      "  |> . . . . . .| [0:0] NP -> * NP PP                [0.25]\n",
      "  |> . . . . . .| [0:0] S  -> * NP VP                [1.0]\n",
      "  |> . . . . . .| [0:0] NP -> * 'I'                  [0.15]\n",
      "  |. > . . . . .| [1:1] VP -> * VP PP                [0.1]\n",
      "  |. > . . . . .| [1:1] VP -> * V                    [0.2]\n",
      "  |. > . . . . .| [1:1] VP -> * V NP                 [0.7]\n",
      "  |. > . . . . .| [1:1] V  -> * 'saw'                [0.65]\n",
      "  |. . > . . . .| [2:2] NP -> * NP PP                [0.25]\n",
      "  |. . > . . . .| [2:2] S  -> * NP VP                [1.0]\n",
      "  |. . > . . . .| [2:2] NP -> * 'John'               [0.1]\n",
      "  |. . . > . . .| [3:3] PP -> * P NP                 [1.0]\n",
      "  |. . . > . . .| [3:3] P  -> * 'with'               [0.61]\n",
      "  |. . . . > . .| [4:4] NP -> * NP PP                [0.25]\n",
      "  |. . . . > . .| [4:4] S  -> * NP VP                [1.0]\n",
      "  |. . . . > . .| [4:4] NP -> * Det N                [0.5]\n",
      "  |. . . . > . .| [4:4] Det -> * 'my'                [0.2]\n",
      "  |. . . . . > .| [5:5] N  -> * 'telescope'          [0.5]\n",
      "\n",
      "s: I saw John with my telescope\n",
      "parser: <nltk.parse.pchart.InsideChartParser object at 0x000000001677C320>\n",
      "grammar: Grammar with 17 productions (start state = S)\n",
      "    S -> NP VP [1.0]\n",
      "    NP -> Det N [0.5]\n",
      "    NP -> NP PP [0.25]\n",
      "    NP -> 'John' [0.1]\n",
      "    NP -> 'I' [0.15]\n",
      "    Det -> 'the' [0.8]\n",
      "    Det -> 'my' [0.2]\n",
      "    N -> 'man' [0.5]\n",
      "    N -> 'telescope' [0.5]\n",
      "    VP -> VP PP [0.1]\n",
      "    VP -> V NP [0.7]\n",
      "    VP -> V [0.2]\n",
      "    V -> 'ate' [0.35]\n",
      "    V -> 'saw' [0.65]\n",
      "    PP -> P NP [1.0]\n",
      "    P -> 'with' [0.61]\n",
      "    P -> 'under' [0.39]\n",
      "  |[-] . . . . .| [0:1] 'I'                          [1.0]\n",
      "  |. [-] . . . .| [1:2] 'saw'                        [1.0]\n",
      "  |. . [-] . . .| [2:3] 'John'                       [1.0]\n",
      "  |. . . [-] . .| [3:4] 'with'                       [1.0]\n",
      "  |. . . . [-] .| [4:5] 'my'                         [1.0]\n",
      "  |. . . . . [-]| [5:6] 'telescope'                  [1.0]\n",
      "  |. . . . . [-]| [5:6] 'telescope'                  [1.0]\n",
      "  |. . . . [-] .| [4:5] 'my'                         [1.0]\n",
      "  |. . . . > . .| [4:4] Det -> * 'my'                [DISCARDED]\n",
      "  |. . . [-] . .| [3:4] 'with'                       [1.0]\n",
      "  |. . . . [-] .| [4:5] Det -> 'my' *                [DISCARDED]\n",
      "  |. . [-] . . .| [2:3] 'John'                       [1.0]\n",
      "  |. . > . . . .| [2:2] NP -> * 'John'               [DISCARDED]\n",
      "  |. [-] . . . .| [1:2] 'saw'                        [1.0]\n",
      "  |. . [-] . . .| [2:3] NP -> 'John' *               [DISCARDED]\n",
      "  |[-] . . . . .| [0:1] 'I'                          [1.0]\n",
      "  |> . . . . . .| [0:0] NP -> * 'I'                  [DISCARDED]\n",
      "  |. [-] . . . .| [1:2] V  -> 'saw' *                [0.65]\n",
      "  |. [-] . . . .| [1:2] VP -> V *                    [DISCARDED]\n",
      "  |[-] . . . . .| [0:1] NP -> 'I' *                  [DISCARDED]\n",
      "  |. > . . . . .| [1:1] VP -> * V                    [DISCARDED]\n",
      "  |. > . . . . .| [1:1] VP -> * V NP                 [0.7]\n",
      "  |. > . . . . .| [1:1] V  -> * 'saw'                [0.65]\n",
      "  |. . . [-] . .| [3:4] P  -> 'with' *               [0.61]\n",
      "  |. . . > . . .| [3:3] PP -> * P NP                 [1.0]\n",
      "  |. . . [-> . .| [3:4] PP -> P * NP                 [0.61]\n",
      "  |. . . > . . .| [3:3] P  -> * 'with'               [0.61]\n",
      "  |. . . . . [-]| [5:6] N  -> 'telescope' *          [0.5]\n",
      "  |. . . . . > .| [5:5] N  -> * 'telescope'          [0.5]\n",
      "  |. [-> . . . .| [1:2] VP -> V * NP                 [0.455]\n",
      "  |. [---] . . .| [1:3] VP -> V NP *                 [0.0455]\n",
      "  |. > . . . . .| [1:1] VP -> * VP PP                [0.1]\n",
      "  |. [-> . . . .| [1:2] VP -> VP * PP                [0.013]\n",
      "  |. [---> . . .| [1:3] VP -> VP * PP                [0.00455]\n",
      "\n",
      "   Parser  Beam | Time (secs)   # Parses   Average P(parse)\n",
      "------------------------+------------------------------------------\n",
      " InsideChartParser    0 |     0.0080          2   0.00007285687500\n",
      " RandomChartParser    0 |     0.0060          2   0.00007285687500\n",
      "UnsortedChartParser    0 |     0.0050          2   0.00007285687500\n",
      "LongestChartParser    0 |     0.0060          2   0.00007285687500\n",
      " InsideChartParser    7 |     0.0030          0   0.00000000000000\n",
      "------------------------+------------------------------------------\n",
      "      (All Parses)  |        n/a          2   0.00003642843750\n",
      "(S\n",
      "  (NP I)\n",
      "  (VP\n",
      "    (VP (V saw) (NP John))\n",
      "    (PP (P with) (NP (Det my) (N telescope))))) [2.081625e-05]\n",
      "(S\n",
      "  (NP I)\n",
      "  (VP\n",
      "    (V saw)\n",
      "    (NP\n",
      "      (NP John)\n",
      "      (PP (P with) (NP (Det my) (N telescope)))))) [5.2040625e-05]\n"
     ]
    }
   ],
   "source": [
    "# Run the parsers on the tokenized sentence.\n",
    "times = []\n",
    "average_p = []\n",
    "num_parses = []\n",
    "all_parses = {}\n",
    "for parser in parsers:\n",
    "    print '\\ns: %s\\nparser: %s\\ngrammar: %s' % (sent,parser,grammar)\n",
    "    parser.trace(3)\n",
    "    t = time.time()\n",
    "    parses = parser.parse_all(tokens)\n",
    "    times.append(time.time()-t)\n",
    "    if parses: \n",
    "        lp = len(parses)\n",
    "        p = reduce(lambda a,b:a+b.prob(), parses, 0.0)\n",
    "    else: \n",
    "        p = 0\n",
    "    average_p.append(p)\n",
    "    num_parses.append(len(parses))\n",
    "    for p in parses: \n",
    "        all_parses[p.freeze()] = 1\n",
    "\n",
    "# Print summary statistics\n",
    "print\n",
    "print '   Parser  Beam | Time (secs)   # Parses   Average P(parse)'\n",
    "print '------------------------+------------------------------------------'\n",
    "for i in range(len(parsers)):\n",
    "    print '%18s %4d |%11.4f%11d%19.14f' % (parsers[i].__class__.__name__,\n",
    "    parsers[i].beam_size,\n",
    "    times[i],num_parses[i],average_p[i])\n",
    "parses = all_parses.keys()\n",
    "if parses: \n",
    "    p = reduce(lambda a,b:a+b.prob(), parses, 0)/len(parses)\n",
    "else: \n",
    "    p = 0\n",
    "print '------------------------+------------------------------------------'\n",
    "print '%18s  |%11s%11d%19.14f' % ('(All Parses)', 'n/a', len(parses), p)\n",
    "\n",
    "for parse in parses:\n",
    "    print parse\n"
   ]
  },
  {
   "cell_type": "code",
   "execution_count": null,
   "metadata": {
    "collapsed": false
   },
   "outputs": [],
   "source": []
  }
 ],
 "metadata": {
  "kernelspec": {
   "display_name": "Python 2",
   "language": "python",
   "name": "python2"
  },
  "language_info": {
   "codemirror_mode": {
    "name": "ipython",
    "version": 2
   },
   "file_extension": ".py",
   "mimetype": "text/x-python",
   "name": "python",
   "nbconvert_exporter": "python",
   "pygments_lexer": "ipython2",
   "version": "2.7.10"
  }
 },
 "nbformat": 4,
 "nbformat_minor": 0
}
