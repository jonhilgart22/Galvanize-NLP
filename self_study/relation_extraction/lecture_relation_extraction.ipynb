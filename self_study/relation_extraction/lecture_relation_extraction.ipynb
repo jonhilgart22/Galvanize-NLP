{
 "cells": [
  {
   "cell_type": "markdown",
   "metadata": {},
   "source": [
    "---\n",
    "Relation Extraction\n",
    "====\n",
    "\n",
    "![](http://reel.cs.columbia.edu/frames/description_files/image002.png)"
   ]
  },
  {
   "cell_type": "markdown",
   "metadata": {},
   "source": [
    "---\n",
    "By the end of this session, you should be able to:\n",
    "---\n",
    "- Define relation extraction\n",
    "- List the common methods of relation extraction\n",
    "- Describe relation extraction feature engineering\n",
    "- Identify rdf triples\n",
    "- Outline a relation extraction system"
   ]
  },
  {
   "cell_type": "markdown",
   "metadata": {},
   "source": [
    "----\n",
    "What is Relation Extraction?\n",
    "----\n",
    "\n",
    "Define Named Entity Recognition (NER) in Plain English.\n",
    "\n",
    "![](images/relationExtractionDiagram.jpg)\n",
    "\n",
    "Relations are the subject, relationship/action, and object relations within sentences.\n",
    "\n",
    "You need parse sentences:\n",
    "- Find subject\n",
    "- Create relationship/action and object form \n",
    "- Add additional semantic information such as\n",
    "    - entity extraction\n",
    "    - keyword extraction\n",
    "    - sentiment analysis\n",
    "    - location identification\n",
    "   "
   ]
  },
  {
   "cell_type": "markdown",
   "metadata": {},
   "source": [
    "----\n",
    "Relation Extraction Methods:\n",
    "----\n",
    "\n",
    "1. Pattern Matching\n",
    "1. Bootstrapping methods\n",
    "1. Supervised methods\n",
    "1. Distant supervision\n",
    "1. Unsupervised methods"
   ]
  },
  {
   "cell_type": "markdown",
   "metadata": {},
   "source": [
    "### Pattern Matching\n",
    "----\n",
    "\n",
    "- Human\n",
    "- Manual regex\n",
    "- Automatically make regex, similar to Trifacta"
   ]
  },
  {
   "cell_type": "markdown",
   "metadata": {},
   "source": [
    "### Bootstrapping methods\n",
    "-----\n",
    " \n",
    "![](images/bootstrapping_system.png)"
   ]
  },
  {
   "cell_type": "markdown",
   "metadata": {},
   "source": [
    "### Supervised methods\n",
    "-----\n",
    "\n",
    "- __Must__ know ground truth\n",
    "- Now use any (multiclass) classifier you like:\n",
    "    - Naive Bayes\n",
    "    - MaxEnt (logistic regression)\n",
    "    - SVM\n",
    "    - ....\n"
   ]
  },
  {
   "cell_type": "markdown",
   "metadata": {},
   "source": [
    "#### Feature Engineering\n",
    "\n",
    "- Lightweight features — require little pre-processing\n",
    "    - Bags of words & bigrams between, before, and after the entities\n",
    "    - Stemmed versions of the same\n",
    "    - The types of the entities\n",
    "    - The distance (number of words) between the entities\n",
    "- Medium-weight features — require base phrase chunking\n",
    "    - chunking\n",
    "        - Base-phrase chunk paths\n",
    "        - Bags of chunk heads\n",
    "- Heavyweight features — require full syntactic parsing\n",
    "    - Dependency-tree paths between the entities\n",
    "    - Constituent-tree paths between the entities\n",
    "    - Tree distance between the entities\n",
    "    - Presence of particular constructions in a constituent"
   ]
  },
  {
   "cell_type": "markdown",
   "metadata": {},
   "source": [
    "### Distant supervision\n",
    "----\n",
    "\n",
    "__Hypothesis__: If two entities belong to a certain relation, any sentence containing those two entities is likely to express that relation\n",
    " \n",
    " \n",
    "Need very large corpus and very few entities (relative)\n",
    "\n",
    "Hints at word2vec"
   ]
  },
  {
   "cell_type": "markdown",
   "metadata": {},
   "source": [
    "### Unsupervised methods\n",
    "----\n",
    "\n",
    "<details><summary>\n",
    "What is the go to unsupervised method?\n",
    "</summary>\n",
    "Clustering\n",
    "</details>\n",
    "\n",
    "One of the better methods is (Latent Dirichlet allocation) LDA, which we'll cover later in the course"
   ]
  },
  {
   "cell_type": "markdown",
   "metadata": {},
   "source": [
    "---\n",
    "Resource Description Framework (RDF), aka Triples\n",
    "-----\n",
    "\n",
    "![](http://sett.ociweb.com/sett/settFeb2011_files/triples.gif)\n",
    "\n",
    "### Graph:\n",
    "\n",
    "- nodes (subject, object)\n",
    "- edges directional (relationship / predicate) "
   ]
  },
  {
   "cell_type": "markdown",
   "metadata": {},
   "source": [
    "---\n",
    "Relation extraction into RDF\n",
    "---\n",
    "\n",
    "![](images/rdf_exmaple.png)"
   ]
  },
  {
   "cell_type": "markdown",
   "metadata": {},
   "source": [
    "---\n",
    "RDF features\n",
    "----\n",
    "\n",
    "- RDF is not a data format\n",
    "- RDF: Data Model to express relationships between\n",
    "(arbitrary) data elements\n",
    "\n",
    "- RDF files can be serialized in multiple formats: RDF/XML\n",
    "- Stored in Files & Databases (triple-store)"
   ]
  },
  {
   "cell_type": "markdown",
   "metadata": {},
   "source": [
    "---\n",
    "Wordnet\n",
    "----\n",
    "\n",
    "Wordnet is specific type of predicate, the part of the sentence which talks about the subject and which has a verb\n",
    "\n",
    "![](images/word_net.png)"
   ]
  },
  {
   "cell_type": "markdown",
   "metadata": {},
   "source": [
    "\n"
   ]
  },
  {
   "cell_type": "markdown",
   "metadata": {},
   "source": [
    "---\n",
    "Summary\n",
    "----\n",
    "\n",
    "- Relation Extraction is a valuable (and difficult) technique\n",
    "- It involves processes text and identifying the subject, relationship/action, object relationships.\n",
    "- Methods vary from Pattern Matching to different types of supervised and unsupervised methods\n",
    "- RDF triples is the best data structure to store relationships"
   ]
  },
  {
   "cell_type": "markdown",
   "metadata": {},
   "source": [
    "<br>\n",
    "<br>\n",
    "----"
   ]
  }
 ],
 "metadata": {
  "kernelspec": {
   "display_name": "Python 3",
   "language": "python",
   "name": "python3"
  },
  "language_info": {
   "codemirror_mode": {
    "name": "ipython",
    "version": 3
   },
   "file_extension": ".py",
   "mimetype": "text/x-python",
   "name": "python",
   "nbconvert_exporter": "python",
   "pygments_lexer": "ipython3",
   "version": "3.5.1"
  }
 },
 "nbformat": 4,
 "nbformat_minor": 0
}
