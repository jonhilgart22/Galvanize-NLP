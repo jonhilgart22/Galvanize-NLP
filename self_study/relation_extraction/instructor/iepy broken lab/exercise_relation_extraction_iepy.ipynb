{
 "cells": [
  {
   "cell_type": "markdown",
   "metadata": {},
   "source": [
    "----\n",
    "Exercises\n",
    "===="
   ]
  },
  {
   "cell_type": "markdown",
   "metadata": {},
   "source": [
    "How do you get the RDF triples?\n",
    "---"
   ]
  },
  {
   "cell_type": "markdown",
   "metadata": {},
   "source": [
    "[IEPY](https://github.com/machinalis/iepy) - a Python for Information Extraction focused on Relation Extraction."
   ]
  },
  {
   "cell_type": "code",
   "execution_count": 16,
   "metadata": {
    "collapsed": false
   },
   "outputs": [],
   "source": [
    "import iepy"
   ]
  },
  {
   "cell_type": "code",
   "execution_count": 17,
   "metadata": {
    "collapsed": false
   },
   "outputs": [
    {
     "name": "stdout",
     "output_type": "stream",
     "text": [
      "Traceback (most recent call last):\n",
      "  File \"/Users/brian/anaconda/envs/py3_nlp/bin/iepy\", line 7, in <module>\n",
      "    from iepy.instantiation.command_line import execute_from_command_line\n",
      "  File \"/Users/brian/anaconda/envs/py3_nlp/lib/python3.5/site-packages/iepy/instantiation/command_line.py\", line 20, in <module>\n",
      "    import nltk.data\n",
      "  File \"/Users/brian/anaconda/envs/py3_nlp/lib/python3.5/site-packages/nltk/__init__.py\", line 117, in <module>\n",
      "    from nltk.align import *\n",
      "  File \"/Users/brian/anaconda/envs/py3_nlp/lib/python3.5/site-packages/nltk/align/__init__.py\", line 15, in <module>\n",
      "    from nltk.align.ibm1 import IBMModel1\n",
      "  File \"/Users/brian/anaconda/envs/py3_nlp/lib/python3.5/site-packages/nltk/align/ibm1.py\", line 18, in <module>\n",
      "    from nltk.corpus import comtrans\n",
      "  File \"/Users/brian/anaconda/envs/py3_nlp/lib/python3.5/site-packages/nltk/corpus/__init__.py\", line 64, in <module>\n",
      "    from nltk.tokenize import RegexpTokenizer\n",
      "  File \"/Users/brian/anaconda/envs/py3_nlp/lib/python3.5/site-packages/nltk/tokenize/__init__.py\", line 65, in <module>\n",
      "    from nltk.tokenize.regexp   import (RegexpTokenizer, WhitespaceTokenizer,\n",
      "  File \"/Users/brian/anaconda/envs/py3_nlp/lib/python3.5/site-packages/nltk/tokenize/regexp.py\", line 201, in <module>\n",
      "    blankline_tokenize = BlanklineTokenizer().tokenize\n",
      "  File \"/Users/brian/anaconda/envs/py3_nlp/lib/python3.5/site-packages/nltk/tokenize/regexp.py\", line 172, in __init__\n",
      "    RegexpTokenizer.__init__(self, r'\\s*\\n\\s*\\n\\s*', gaps=True)\n",
      "  File \"/Users/brian/anaconda/envs/py3_nlp/lib/python3.5/site-packages/nltk/tokenize/regexp.py\", line 119, in __init__\n",
      "    self._regexp = compile_regexp_to_noncapturing(pattern, flags)\n",
      "  File \"/Users/brian/anaconda/envs/py3_nlp/lib/python3.5/site-packages/nltk/internals.py\", line 54, in compile_regexp_to_noncapturing\n",
      "    return sre_compile.compile(convert_regexp_to_noncapturing_parsed(sre_parse.parse(pattern)), flags=flags)\n",
      "  File \"/Users/brian/anaconda/envs/py3_nlp/lib/python3.5/site-packages/nltk/internals.py\", line 50, in convert_regexp_to_noncapturing_parsed\n",
      "    parsed_pattern.pattern.groups = 1\n",
      "AttributeError: can't set attribute\n"
     ]
    }
   ],
   "source": [
    "! iepy --create test_application"
   ]
  },
  {
   "cell_type": "code",
   "execution_count": null,
   "metadata": {
    "collapsed": true
   },
   "outputs": [],
   "source": []
  },
  {
   "cell_type": "markdown",
   "metadata": {
    "collapsed": true
   },
   "source": []
  },
  {
   "cell_type": "code",
   "execution_count": null,
   "metadata": {
    "collapsed": true
   },
   "outputs": [],
   "source": []
  },
  {
   "cell_type": "code",
   "execution_count": null,
   "metadata": {
    "collapsed": true
   },
   "outputs": [],
   "source": []
  },
  {
   "cell_type": "code",
   "execution_count": null,
   "metadata": {
    "collapsed": true
   },
   "outputs": [],
   "source": []
  },
  {
   "cell_type": "markdown",
   "metadata": {
    "collapsed": true
   },
   "source": [
    "[Another example of iepy to mine Tech Crunch](http://iepycrunch.machinalis.com/)"
   ]
  },
  {
   "cell_type": "markdown",
   "metadata": {},
   "source": [
    "<br>  \n",
    "<br> \n",
    "----"
   ]
  }
 ],
 "metadata": {
  "kernelspec": {
   "display_name": "Python 3",
   "language": "python",
   "name": "python3"
  },
  "language_info": {
   "codemirror_mode": {
    "name": "ipython",
    "version": 3
   },
   "file_extension": ".py",
   "mimetype": "text/x-python",
   "name": "python",
   "nbconvert_exporter": "python",
   "pygments_lexer": "ipython3",
   "version": "3.5.1"
  }
 },
 "nbformat": 4,
 "nbformat_minor": 0
}
