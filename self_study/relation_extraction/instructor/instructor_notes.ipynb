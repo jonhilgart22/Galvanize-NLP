{
 "cells": [
  {
   "cell_type": "markdown",
   "metadata": {},
   "source": [
    "---\n",
    "Relationship Extraction\n",
    "===="
   ]
  },
  {
   "cell_type": "markdown",
   "metadata": {},
   "source": [
    "----\n",
    "TODOs:\n",
    "---\n",
    "\n",
    "- Find the right lectures for this\n",
    "\n",
    "----\n",
    "Gazetteer\n",
    "----\n",
    "\n",
    "![](http://shop.milwaukeemap.com/content/images/thumbs/0001610_maine-atlas-gazetteer.jpeg)\n",
    "\n",
    "> a geographical dictionary or directory used in conjunction with a map or atlas. They typically contain information concerning the geographical makeup, social statistics and physical features of a country, region, or continent. \n",
    "[Source](https://en.wikipedia.org/wiki/Gazetteer)\n",
    "\n",
    "\n",
    "> Gazetteers have been widely used in a variety of information extraction systems, including both rule-based systems and statistical models. In addition to lists of people names, locations, etc., ... In general gazetteers are thought to provide a useful source of external knowledge that is helpful when an entity cannot be identified from knowledge contained solely within the data set used for\n",
    "training.\n",
    "[Source](http://homepages.inf.ed.ac.uk/miles/papers/conll06.pdf)"
   ]
  },
  {
   "cell_type": "markdown",
   "metadata": {},
   "source": [
    "Agenda\n",
    "----\n",
    "1. OYO\n",
    "2. Review\n",
    "3. RAT\n",
    "4. Exercises"
   ]
  },
  {
   "cell_type": "markdown",
   "metadata": {},
   "source": [
    "---\n",
    "RAT Solutions\n",
    "----\n",
    "\n",
    "1) ORG AFFLIATION - founder  \n",
    "(Mark Zuckerber, is the founder of, The Facebook)\n",
    "\n",
    "\n",
    "2) A, C, D \n",
    "A telephone book, eBay, and Facebook are good candidates for using hand-written patterns because the information contained in those documents/on those websites is very structured and so there shouldn't be too many patterns to consider. \n",
    "\n",
    "A biography, however, is not structured and there may be a large number of patterns specifying the relationship between a person and his or her friends.\n",
    "\n",
    "3) C \n",
    "\n",
    "The bootstrap method can use the same classifiers as supervised methods. It requires an initial seed of known relations, and so needs human selected features to create its initial feature set. Once the bootstrap acquires this initial seed, it finds features which are later used to find more relations, and thus the bootstrap iteratively increases the number of features it examines. This differs from supervised methods which have a set number of features to examine. \n",
    "\n",
    "Finally, the bootstrap method is deterministic, despite not having a pre-defined feature set with which to begin.\n",
    "\n",
    "4) Named Entity Recognition (NER) is finding and tagging important proper nouns.\n",
    "\n",
    "5) It is adding a count of 1 to __all__ tokens when we do the frequency count.\n",
    "\n",
    "It is useful so no word in our vocubray has a zero chance of happening. It might be small but not zero."
   ]
  },
  {
   "cell_type": "markdown",
   "metadata": {
    "collapsed": true
   },
   "source": [
    "----\n",
    "RAT (EXTra)\n",
    "----\n",
    "\n",
    "3. Assume we are trying to extract the relation of the words in caps using a Max-Ent classifier that we have trained on the entire internet. In which of the following examples would the feature combining entity heads (such as the feature \"Airlines-Wagner\" described previously) prove very helpful if the sentence appeared in our test set? (Select all that apply)\n",
    "    2. BILL works at MICROSOFT\n",
    "    3. THE VATICAN is in ROME, ITALY\n",
    "    4. JIM DETERS is a co-founder of GALVANIZE\n",
    "    1. FRANK drinks PABST BLUE RIBBON\n",
    " >3. 3, 4 - San Francisco to California and Bill Gates to Microsoft have a very specific and well-defined relationship that should become quite apparent after training on a fairly large and general corpus like the Internet. Jimmy to Starbucks and Victoria to Google, though, are not well-defined relationships, as there are many Jimmys and Victorias, and similarly, many people who eat at Starbucks and work at Google."
   ]
  },
  {
   "cell_type": "markdown",
   "metadata": {
    "collapsed": true
   },
   "source": [
    "---\n",
    "Exercise Notes\n",
    "---"
   ]
  },
  {
   "cell_type": "markdown",
   "metadata": {},
   "source": [
    "Semantic Python: Mastering Linked Data with Python\n",
    "\n",
    "https://www.youtube.com/watch?v=5DCS9LE-8rE\n"
   ]
  },
  {
   "cell_type": "code",
   "execution_count": null,
   "metadata": {
    "collapsed": true
   },
   "outputs": [],
   "source": []
  }
 ],
 "metadata": {
  "kernelspec": {
   "display_name": "Python 3",
   "language": "python",
   "name": "python3"
  },
  "language_info": {
   "codemirror_mode": {
    "name": "ipython",
    "version": 3
   },
   "file_extension": ".py",
   "mimetype": "text/x-python",
   "name": "python",
   "nbconvert_exporter": "python",
   "pygments_lexer": "ipython3",
   "version": "3.5.1"
  }
 },
 "nbformat": 4,
 "nbformat_minor": 0
}
