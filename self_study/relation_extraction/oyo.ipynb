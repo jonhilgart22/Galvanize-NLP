{
 "cells": [
  {
   "cell_type": "markdown",
   "metadata": {},
   "source": [
    "OYO\n",
    "===="
   ]
  },
  {
   "cell_type": "markdown",
   "metadata": {},
   "source": [
    "<img src=\"images/google_knowledge_graph.png\" style=\"width: 400px;\"/>  \n",
    "\n",
    "Google uses its Knowledge Graph/Vault to present information directly to users. This is in contrast to providing links to information. This has improved user experience (while keeping people on the homepage looking at ads longer).\n",
    "\n",
    "Given that Google has an estimate of \"ground-true\" of facts, it is increasing the ranking of webpages that have factual content, one previous strong signal was popularity (i.e., PageRank). \n",
    "\n",
    "For example, a _Vaccines-Cause-Autism_ webpage could be popular but might have incorrect facts. Google would lower its search engine results page (SERP) ranking.\n",
    "\n",
    "What the possible impacts on the web? Fact-based \"honey-pot\" websites?"
   ]
  },
  {
   "cell_type": "markdown",
   "metadata": {},
   "source": [
    "<br>\n",
    "<br>\n",
    "----"
   ]
  }
 ],
 "metadata": {
  "kernelspec": {
   "display_name": "Python 3",
   "language": "python",
   "name": "python3"
  },
  "language_info": {
   "codemirror_mode": {
    "name": "ipython",
    "version": 3
   },
   "file_extension": ".py",
   "mimetype": "text/x-python",
   "name": "python",
   "nbconvert_exporter": "python",
   "pygments_lexer": "ipython3",
   "version": "3.5.1"
  }
 },
 "nbformat": 4,
 "nbformat_minor": 0
}
