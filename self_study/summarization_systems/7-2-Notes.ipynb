{
 "cells": [
  {
   "cell_type": "markdown",
   "metadata": {},
   "source": [
    "7-3-Notes\n",
    "=====================\n",
    "Agenda\n",
    "---------------------\n",
    "1. On Your Own\n",
    "2. Questions\n",
    "3. Teams\n",
    "3. i[RAT](#RAT)\n",
    "4. t[RAT](#RAT)\n",
    "5. Review [RAT](#RAT-Solutions)\n",
    "7. Pair [Exercises](#Exercises)\n",
    "7. Presentations\n",
    "8. Peer Review\n",
    "9. [Next Time](#Before-Monday)"
   ]
  },
  {
   "cell_type": "markdown",
   "metadata": {},
   "source": [
    "### On Your Own\n",
    "\n",
    "Look into [Automatic Statistician](http://www.automaticstatistician.com/)  \n",
    "A nice overview - http://googleresearch.blogspot.com/2014/12/automatically-making-sense-of-data.html\n",
    "\n",
    "What are the pros?  \n",
    "What are the cons?  \n",
    "If you were to help build the system, what techniques from lecture would you use?  \n",
    "(Are you worried?)"
   ]
  },
  {
   "cell_type": "markdown",
   "metadata": {},
   "source": [
    "###  Teams\n",
    "\n",
    "\n",
    "| Team | A     | B      |\n",
    "| ----:|:-----:|:------:|\n",
    "| 1 | Michael Thorne\t|\tAndrew Huang\t\t|\n",
    "| 2 | Balaji Vijayan\t|\tXiaolin Wang\t\t|\n",
    "| 3 | Katherine Aquino\t|\tBrandon Fetters\t\t|\n",
    "| 4 | Michael Mansour\t|\tAlexander Barriga\t|\n",
    "\n"
   ]
  },
  {
   "cell_type": "markdown",
   "metadata": {},
   "source": [
    "RAT\n",
    "---------------------\n",
    "1. See pages document"
   ]
  },
  {
   "cell_type": "markdown",
   "metadata": {},
   "source": [
    "### RAT Solutions\n",
    "\n",
    "1. Which of the following techniques focuses on generating novel sentences for the summary? (Pick the single, best answer)\n",
    "a. multi-lingual summarization  \n",
    "b. extractive summarization  \n",
    "c. query-focused summarization   \n",
    "d. **abstractive summarization**  \n",
    "\n",
    "2. Fill the blanks with a selection from the options:  \n",
    "**Topic signature** finds a set of salient terms.  \n",
    "**tf-idf**  is a numerical statistic that reflects how important a word is in a corpus.\n",
    "\n",
    "3. ROUGE is a completely automated algorithm (i.e., there are no human elements)  \n",
    "\tTrue  \n",
    "\t**False** *Why? It comes human generic summaries to computer generated*\n",
    "   \n",
    "   ROUGE uses count of bigrams as one element in the algorithm.  \n",
    "\t**True**  \n",
    "\tFalse  \n",
    "\n",
    "4. Choose the terms that best completes the sentence:\n",
    "Higher maximal marginal relevance (MMR) means the considered item is both **relevant** to the query and contains **minimal** similarity to other retrieved items.    "
   ]
  },
  {
   "cell_type": "markdown",
   "metadata": {},
   "source": [
    " .  Exercises\n",
    "---------------------\n",
    "\n",
    "Do scrum check-in!\n",
    "\n",
    "Can you program Jeopardy!? Part II (Google)\n",
    "\n",
    "#### FAQs\n",
    "- Hearst methods is covered in 5.3 Relation Extraction\n",
    "\n",
    "\n",
    "#### Instructor Notes    "
   ]
  },
  {
   "cell_type": "markdown",
   "metadata": {
    "collapsed": true
   },
   "source": [
    "Before \n",
    "---------------------"
   ]
  },
  {
   "cell_type": "code",
   "execution_count": null,
   "metadata": {
    "collapsed": true
   },
   "outputs": [],
   "source": []
  }
 ],
 "metadata": {
  "kernelspec": {
   "display_name": "Python 2",
   "language": "python",
   "name": "python2"
  },
  "language_info": {
   "codemirror_mode": {
    "name": "ipython",
    "version": 2
   },
   "file_extension": ".py",
   "mimetype": "text/x-python",
   "name": "python",
   "nbconvert_exporter": "python",
   "pygments_lexer": "ipython2",
   "version": "2.7.10"
  }
 },
 "nbformat": 4,
 "nbformat_minor": 0
}
