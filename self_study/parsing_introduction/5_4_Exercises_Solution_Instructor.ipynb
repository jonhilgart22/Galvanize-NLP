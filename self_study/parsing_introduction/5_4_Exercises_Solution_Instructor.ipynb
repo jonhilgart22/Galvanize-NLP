{
 "cells": [
  {
   "cell_type": "code",
   "execution_count": 2,
   "metadata": {
    "collapsed": true
   },
   "outputs": [],
   "source": [
    "from nltk import Tree\n",
    "\n",
    "from pattern.en import parse, parsetree"
   ]
  },
  {
   "cell_type": "code",
   "execution_count": 5,
   "metadata": {
    "collapsed": false
   },
   "outputs": [
    {
     "name": "stdout",
     "output_type": "stream",
     "text": [
      "Sentence('old/JJ/B-NP/O man/NN/I-NP/O and/CC/O/O woman/NN/B-NP/O')\n"
     ]
    },
    {
     "data": {
      "text/plain": [
       "[Chunk('old man/NP'), Chunk('woman/NP')]"
      ]
     },
     "execution_count": 5,
     "metadata": {},
     "output_type": "execute_result"
    }
   ],
   "source": [
    "s = parsetree(\"old man and woman\")[0]\n",
    "print(s)\n",
    "s.phrases"
   ]
  },
  {
   "cell_type": "code",
   "execution_count": 8,
   "metadata": {
    "collapsed": false
   },
   "outputs": [
    {
     "name": "stdout",
     "output_type": "stream",
     "text": [
      "(u'NP', [(u'old', u'JJ'), (u'man', u'NN')])\n",
      "(u'NP', [(u'woman', u'NN')])\n"
     ]
    }
   ],
   "source": [
    "for chunk in s.chunks:\n",
    "    print(chunk.type, [(w.string, w.type) for w in chunk.words])"
   ]
  },
  {
   "cell_type": "markdown",
   "metadata": {},
   "source": [
    "`(NP (JJ old) (NNS (NNS men) (CC and) (NNS women)))` <br>\n",
    "`(NP (NP (JJ old) (NNS men)) (CC and) (NP (NNS women)))` <br>\n",
    "[Source](http://www.cs.pomona.edu/~kim/CSC181S08/lectures/Lec11/Lec11.pdf)"
   ]
  },
  {
   "cell_type": "code",
   "execution_count": 10,
   "metadata": {
    "collapsed": false
   },
   "outputs": [],
   "source": [
    "from nltk.corpus import treebank"
   ]
  },
  {
   "cell_type": "code",
   "execution_count": 11,
   "metadata": {
    "collapsed": false
   },
   "outputs": [
    {
     "name": "stderr",
     "output_type": "stream",
     "text": [
      "/Users/brian/anaconda/lib/python2.7/site-packages/nltk/compat.py:659: RuntimeWarning: Argument <type 'str'> is not an unicode object. Passing an encoded string will likely have unexpected results.\n",
      "  return transliterate(method(self))\n"
     ]
    }
   ],
   "source": [
    "treebank?"
   ]
  },
  {
   "cell_type": "code",
   "execution_count": null,
   "metadata": {
    "collapsed": true
   },
   "outputs": [],
   "source": []
  }
 ],
 "metadata": {
  "kernelspec": {
   "display_name": "Python 2",
   "language": "python",
   "name": "python2"
  },
  "language_info": {
   "codemirror_mode": {
    "name": "ipython",
    "version": 2
   },
   "file_extension": ".py",
   "mimetype": "text/x-python",
   "name": "python",
   "nbconvert_exporter": "python",
   "pygments_lexer": "ipython2",
   "version": "2.7.10"
  }
 },
 "nbformat": 4,
 "nbformat_minor": 0
}
