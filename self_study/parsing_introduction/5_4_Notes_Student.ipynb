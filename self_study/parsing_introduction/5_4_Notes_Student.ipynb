{
 "cells": [
  {
   "cell_type": "markdown",
   "metadata": {},
   "source": [
    "5.4 Notes\n",
    "==="
   ]
  },
  {
   "cell_type": "markdown",
   "metadata": {},
   "source": [
    "Grammar\n",
    "> Fundamental mechanism of making sentences in given language\n",
    "\n",
    "> Real speech encode in rules\n",
    "\n",
    "__Why is parsing natural language so hard (and complicated)?__\n",
    "\n",
    "Natural language is surprisingly ambiguous\n"
   ]
  },
  {
   "cell_type": "markdown",
   "metadata": {},
   "source": [
    "> We ate pizza with achovies.\n",
    "\n"
   ]
  },
  {
   "cell_type": "markdown",
   "metadata": {},
   "source": [
    "![](images/pizza_with_anchovies.jpg)"
   ]
  },
  {
   "cell_type": "markdown",
   "metadata": {},
   "source": [
    "![](images/pizza_with_achovies_parsed.jpg)"
   ]
  },
  {
   "cell_type": "markdown",
   "metadata": {},
   "source": [
    "X-Bar Theory\n",
    "---\n",
    "1. Parse Sentences\n",
    "2. Tag the words\n",
    "3. Group words in phrases based on head word classes\n",
    "4. Connect the phrases in a tree"
   ]
  },
  {
   "cell_type": "markdown",
   "metadata": {},
   "source": [
    "Glossary\n",
    "------\n",
    "- phrase: groups of words/tokens/nodes\n",
    "    - consituent: a \"fancy\" word for phrase\n",
    "- head: primary word of a phrase\n",
    "- specifier: 1st non-head, non-complment words/tokens/nodes\n",
    "- complementor: branch from the head\n",
    "- terminal: the actual word!"
   ]
  },
  {
   "cell_type": "markdown",
   "metadata": {},
   "source": [
    "Groups of groups of groups = Arbitrarily complicated\n"
   ]
  },
  {
   "cell_type": "markdown",
   "metadata": {},
   "source": [
    "Linguistic Models\n",
    "------\n",
    "1. Constituency Structure: pharse into nested (mostly) independent parts\n",
    "2. Dependency Structure: find codependent words"
   ]
  },
  {
   "cell_type": "markdown",
   "metadata": {},
   "source": [
    "![](images/computational_linguists.png)"
   ]
  },
  {
   "cell_type": "markdown",
   "metadata": {},
   "source": [
    "Context Free Grammar (CFG)\n",
    "> A series of rewrite rules. A formal grammar in which every production rule has a single nonterminal symbol that can be written a string of terminals and/or nonterminals"
   ]
  },
  {
   "cell_type": "markdown",
   "metadata": {},
   "source": [
    "NP -> N ADV\n",
    "N -> \"man\", \"corner\"\n",
    "ADV -> \"tall\", \"sharp\""
   ]
  },
  {
   "cell_type": "markdown",
   "metadata": {},
   "source": [
    "A formal grammar is considered \"context free\" when its production rules can be applied regardless of the context of a nonterminal. Can be arbitary symbols (useful for compliers) but in English there are limits."
   ]
  },
  {
   "cell_type": "markdown",
   "metadata": {},
   "source": [
    "CFG \n",
    "---\n",
    "a tuple <N, T, S, R>\n",
    "- a set of non-terminals, N\n",
    "    - Phrasal categories: S, NP, VP, ADJP, etc.\n",
    "    - Parts-of-speech (pre-terminals): NN, JJ, DT, VB\n",
    "- a set of terminals, T\n",
    "    - the words of a language\n",
    "- a start symbol, S\n",
    "    - Often written as ROOT or TOP\n",
    "- a set of rules, R\n",
    "    - aka rewrites, productions, or local trees\n",
    "    - Examples:S→NPVP, VP→VPCCVP"
   ]
  },
  {
   "cell_type": "markdown",
   "metadata": {},
   "source": [
    "How about ways to attach constituents?\n",
    "> Catalan Numbers: exponentially growth for discrete numbers"
   ]
  },
  {
   "cell_type": "markdown",
   "metadata": {},
   "source": [
    "Making Coin Pyramid:\n",
    "![](images/stacking_coins.png)"
   ]
  },
  {
   "cell_type": "markdown",
   "metadata": {},
   "source": [
    "![](images/catalan_numbers_formula.png)"
   ]
  },
  {
   "cell_type": "code",
   "execution_count": null,
   "metadata": {
    "collapsed": true
   },
   "outputs": [],
   "source": []
  }
 ],
 "metadata": {
  "kernelspec": {
   "display_name": "Python 2",
   "language": "python",
   "name": "python2"
  },
  "language_info": {
   "codemirror_mode": {
    "name": "ipython",
    "version": 2
   },
   "file_extension": ".py",
   "mimetype": "text/x-python",
   "name": "python",
   "nbconvert_exporter": "python",
   "pygments_lexer": "ipython2",
   "version": "2.7.10"
  }
 },
 "nbformat": 4,
 "nbformat_minor": 0
}
