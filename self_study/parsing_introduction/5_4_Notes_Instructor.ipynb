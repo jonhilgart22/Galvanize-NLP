{
 "cells": [
  {
   "cell_type": "markdown",
   "metadata": {},
   "source": [
    "5.4 Parsing\n",
    "===\n"
   ]
  },
  {
   "cell_type": "markdown",
   "metadata": {},
   "source": [
    "Agenda\n",
    "---------------------\n",
    "1. OYO\n",
    "2. Review\n",
    "3. RAT\n",
    "4. [Syntax I](Syntax%20I.ipynb)\n",
    "4. Exercises"
   ]
  },
  {
   "cell_type": "markdown",
   "metadata": {
    "collapsed": true
   },
   "source": [
    "OYO\n",
    "---"
   ]
  },
  {
   "cell_type": "code",
   "execution_count": 2,
   "metadata": {
    "collapsed": false
   },
   "outputs": [],
   "source": [
    "from nltk import Tree\n",
    "from textblob import TextBlob\n",
    "from pattern.en import parse, parsetree\n",
    "\n",
    "%matplotlib inline  "
   ]
  },
  {
   "cell_type": "markdown",
   "metadata": {},
   "source": [
    "[pattern’s parser](http://www.clips.ua.ac.be/pages/pattern-en#parser)"
   ]
  },
  {
   "cell_type": "code",
   "execution_count": 20,
   "metadata": {
    "collapsed": false,
    "scrolled": true
   },
   "outputs": [
    {
     "name": "stdout",
     "output_type": "stream",
     "text": [
      "Sentence('Fish/NNP/B-NP/O that/IN/B-PP/B-PNP fish/NN/B-NP/I-PNP ././O/O')\n",
      "[Chunk('Fish/NP'), Chunk('that/PP'), Chunk('fish/NP')]\n",
      "(u'NP', [(u'Fish', u'NNP')])\n",
      "(u'PP', [(u'that', u'IN')])\n",
      "(u'NP', [(u'fish', u'NN')])\n"
     ]
    }
   ],
   "source": [
    "s = \"Spot is a dog.\"\n",
    "s = \"See Spot Run.\"\n",
    "s = \"They ate the pizza with anchovies.\"\n",
    "s = \"Fish. \"\n",
    "# s = \"Fish that fish.\"\n",
    "# s = \"Fish fish fish.\"\n",
    "# s = \"Fish fish fish fish.\"\n",
    "pt = parsetree(s)[0]\n",
    "print(pt)\n",
    "print(pt.phrases)  \n",
    "for chunk in pt.chunks:\n",
    "    print(chunk.type, [(w.string, w.type) for w in chunk.words])"
   ]
  },
  {
   "cell_type": "code",
   "execution_count": 12,
   "metadata": {
    "collapsed": false
   },
   "outputs": [],
   "source": [
    "# pt.nltk_tree()"
   ]
  },
  {
   "cell_type": "code",
   "execution_count": 13,
   "metadata": {
    "collapsed": false
   },
   "outputs": [
    {
     "ename": "KeyboardInterrupt",
     "evalue": "",
     "output_type": "error",
     "traceback": [
      "\u001b[0;31m---------------------------------------------------------------------------\u001b[0m",
      "\u001b[0;31mKeyboardInterrupt\u001b[0m                         Traceback (most recent call last)",
      "\u001b[0;32m<ipython-input-13-d6337131366b>\u001b[0m in \u001b[0;36m<module>\u001b[0;34m()\u001b[0m\n\u001b[1;32m      6\u001b[0m             (NN dog)))\"\"\"\n\u001b[1;32m      7\u001b[0m \u001b[0mt\u001b[0m \u001b[0;34m=\u001b[0m \u001b[0mTree\u001b[0m\u001b[0;34m.\u001b[0m\u001b[0mfromstring\u001b[0m\u001b[0;34m(\u001b[0m\u001b[0ms\u001b[0m\u001b[0;34m)\u001b[0m\u001b[0;34m\u001b[0m\u001b[0m\n\u001b[0;32m----> 8\u001b[0;31m \u001b[0mt\u001b[0m\u001b[0;34m.\u001b[0m\u001b[0mdraw\u001b[0m\u001b[0;34m(\u001b[0m\u001b[0;34m)\u001b[0m\u001b[0;34m\u001b[0m\u001b[0m\n\u001b[0m",
      "\u001b[0;32m/Users/brian/anaconda/lib/python2.7/site-packages/nltk/tree.pyc\u001b[0m in \u001b[0;36mdraw\u001b[0;34m(self)\u001b[0m\n\u001b[1;32m    684\u001b[0m         \"\"\"\n\u001b[1;32m    685\u001b[0m         \u001b[0;32mfrom\u001b[0m \u001b[0mnltk\u001b[0m\u001b[0;34m.\u001b[0m\u001b[0mdraw\u001b[0m\u001b[0;34m.\u001b[0m\u001b[0mtree\u001b[0m \u001b[0;32mimport\u001b[0m \u001b[0mdraw_trees\u001b[0m\u001b[0;34m\u001b[0m\u001b[0m\n\u001b[0;32m--> 686\u001b[0;31m         \u001b[0mdraw_trees\u001b[0m\u001b[0;34m(\u001b[0m\u001b[0mself\u001b[0m\u001b[0;34m)\u001b[0m\u001b[0;34m\u001b[0m\u001b[0m\n\u001b[0m\u001b[1;32m    687\u001b[0m \u001b[0;34m\u001b[0m\u001b[0m\n\u001b[1;32m    688\u001b[0m     \u001b[0;32mdef\u001b[0m \u001b[0mpretty_print\u001b[0m\u001b[0;34m(\u001b[0m\u001b[0mself\u001b[0m\u001b[0;34m,\u001b[0m \u001b[0msentence\u001b[0m\u001b[0;34m=\u001b[0m\u001b[0mNone\u001b[0m\u001b[0;34m,\u001b[0m \u001b[0mhighlight\u001b[0m\u001b[0;34m=\u001b[0m\u001b[0;34m(\u001b[0m\u001b[0;34m)\u001b[0m\u001b[0;34m,\u001b[0m \u001b[0mstream\u001b[0m\u001b[0;34m=\u001b[0m\u001b[0mNone\u001b[0m\u001b[0;34m,\u001b[0m \u001b[0;34m**\u001b[0m\u001b[0mkwargs\u001b[0m\u001b[0;34m)\u001b[0m\u001b[0;34m:\u001b[0m\u001b[0;34m\u001b[0m\u001b[0m\n",
      "\u001b[0;32m/Users/brian/anaconda/lib/python2.7/site-packages/nltk/draw/tree.pyc\u001b[0m in \u001b[0;36mdraw_trees\u001b[0;34m(*trees)\u001b[0m\n\u001b[1;32m    864\u001b[0m     \u001b[0;34m:\u001b[0m\u001b[0mrtype\u001b[0m\u001b[0;34m:\u001b[0m \u001b[0mNone\u001b[0m\u001b[0;34m\u001b[0m\u001b[0m\n\u001b[1;32m    865\u001b[0m     \"\"\"\n\u001b[0;32m--> 866\u001b[0;31m     \u001b[0mTreeView\u001b[0m\u001b[0;34m(\u001b[0m\u001b[0;34m*\u001b[0m\u001b[0mtrees\u001b[0m\u001b[0;34m)\u001b[0m\u001b[0;34m.\u001b[0m\u001b[0mmainloop\u001b[0m\u001b[0;34m(\u001b[0m\u001b[0;34m)\u001b[0m\u001b[0;34m\u001b[0m\u001b[0m\n\u001b[0m\u001b[1;32m    867\u001b[0m     \u001b[0;32mreturn\u001b[0m\u001b[0;34m\u001b[0m\u001b[0m\n\u001b[1;32m    868\u001b[0m \u001b[0;34m\u001b[0m\u001b[0m\n",
      "\u001b[0;32m/Users/brian/anaconda/lib/python2.7/site-packages/nltk/draw/tree.pyc\u001b[0m in \u001b[0;36mmainloop\u001b[0;34m(self, *args, **kwargs)\u001b[0m\n\u001b[1;32m    855\u001b[0m         \"\"\"\n\u001b[1;32m    856\u001b[0m         \u001b[0;32mif\u001b[0m \u001b[0min_idle\u001b[0m\u001b[0;34m(\u001b[0m\u001b[0;34m)\u001b[0m\u001b[0;34m:\u001b[0m \u001b[0;32mreturn\u001b[0m\u001b[0;34m\u001b[0m\u001b[0m\n\u001b[0;32m--> 857\u001b[0;31m         \u001b[0mself\u001b[0m\u001b[0;34m.\u001b[0m\u001b[0m_top\u001b[0m\u001b[0;34m.\u001b[0m\u001b[0mmainloop\u001b[0m\u001b[0;34m(\u001b[0m\u001b[0;34m*\u001b[0m\u001b[0margs\u001b[0m\u001b[0;34m,\u001b[0m \u001b[0;34m**\u001b[0m\u001b[0mkwargs\u001b[0m\u001b[0;34m)\u001b[0m\u001b[0;34m\u001b[0m\u001b[0m\n\u001b[0m\u001b[1;32m    858\u001b[0m \u001b[0;34m\u001b[0m\u001b[0m\n\u001b[1;32m    859\u001b[0m \u001b[0;32mdef\u001b[0m \u001b[0mdraw_trees\u001b[0m\u001b[0;34m(\u001b[0m\u001b[0;34m*\u001b[0m\u001b[0mtrees\u001b[0m\u001b[0;34m)\u001b[0m\u001b[0;34m:\u001b[0m\u001b[0;34m\u001b[0m\u001b[0m\n",
      "\u001b[0;32m/Users/brian/anaconda/lib/python2.7/lib-tk/Tkinter.pyc\u001b[0m in \u001b[0;36mmainloop\u001b[0;34m(self, n)\u001b[0m\n\u001b[1;32m   1123\u001b[0m     \u001b[0;32mdef\u001b[0m \u001b[0mmainloop\u001b[0m\u001b[0;34m(\u001b[0m\u001b[0mself\u001b[0m\u001b[0;34m,\u001b[0m \u001b[0mn\u001b[0m\u001b[0;34m=\u001b[0m\u001b[0;36m0\u001b[0m\u001b[0;34m)\u001b[0m\u001b[0;34m:\u001b[0m\u001b[0;34m\u001b[0m\u001b[0m\n\u001b[1;32m   1124\u001b[0m         \u001b[0;34m\"\"\"Call the mainloop of Tk.\"\"\"\u001b[0m\u001b[0;34m\u001b[0m\u001b[0m\n\u001b[0;32m-> 1125\u001b[0;31m         \u001b[0mself\u001b[0m\u001b[0;34m.\u001b[0m\u001b[0mtk\u001b[0m\u001b[0;34m.\u001b[0m\u001b[0mmainloop\u001b[0m\u001b[0;34m(\u001b[0m\u001b[0mn\u001b[0m\u001b[0;34m)\u001b[0m\u001b[0;34m\u001b[0m\u001b[0m\n\u001b[0m\u001b[1;32m   1126\u001b[0m     \u001b[0;32mdef\u001b[0m \u001b[0mquit\u001b[0m\u001b[0;34m(\u001b[0m\u001b[0mself\u001b[0m\u001b[0;34m)\u001b[0m\u001b[0;34m:\u001b[0m\u001b[0;34m\u001b[0m\u001b[0m\n\u001b[1;32m   1127\u001b[0m         \u001b[0;34m\"\"\"Quit the Tcl interpreter. All widgets will be destroyed.\"\"\"\u001b[0m\u001b[0;34m\u001b[0m\u001b[0m\n",
      "\u001b[0;31mKeyboardInterrupt\u001b[0m: "
     ]
    }
   ],
   "source": [
    "s = \"\"\"(S \n",
    "        (NN Spot)\n",
    "        (VBZ is)\n",
    "        (NP \n",
    "            (DT a) `\n",
    "            (NN dog)))\"\"\"\n",
    "t = Tree.fromstring(s)\n",
    "t.draw()"
   ]
  },
  {
   "cell_type": "markdown",
   "metadata": {},
   "source": [
    "*** \n",
    "<br>  \n",
    "<br> "
   ]
  },
  {
   "cell_type": "markdown",
   "metadata": {},
   "source": [
    "Review\n",
    "----\n",
    "\n",
    "We are going into modeling specific (and complete) languages. Pretend to be Linguist.\n",
    "\n",
    "Don't get lost in the weeds. There are comon highlevel important concepts\n",
    "\n",
    "Grammar\n",
    "> Fundamental mechanism of making sentences in given language\n",
    "\n",
    "Real speech encode in a rule\n",
    "\n",
    "__Why is parsing natural language so hard (and complicated)?__\n",
    "\n",
    "Natural language is surprisingly ambiguous\n",
    "\n",
    "### X-Bar Theory\n",
    "\n",
    "1. Parse Sentences\n",
    "2. Tag words\n",
    "3. Group words in phrases based on head word classes\n",
    "4. Connects phrases in a tree\n",
    "\n",
    "### Glossary\n",
    "- phrase: groups of words/tokens/nodes\n",
    "    - constituent: a fancy pants word for phrase\n",
    "- head: primary word of a phrase\n",
    "- specifier: 1st non-head, non-complment words/tokens/nodes\n",
    "- complementor: branch out from head\n",
    "- X-bar: \n",
    "- terminal: the actual word!\n",
    "\n",
    "\n",
    "Groups of groups of groups\n",
    "    Arbitrarily complicated\n",
    "\n",
    "Linguistics\n",
    "1. Constituency Structure: pharse into nested (mostly) independent parts\n",
    "2. Dependency Structure: find codependent words\n",
    "\n",
    "CFG: A series of rewrite rules. A formal grammar in which every production rule a single nonterminal symbol can be written a string of terminals and/or nonterminals\n",
    "\n",
    "A formal grammar is considered \"context free\" when its production rules can be applied regardless of the context of a nonterminal. Can be arbitary symbols (useful for compliers) but in English there are limits\n",
    "\n",
    "NP -> N ADV\n",
    "N -> \"man\", \"corner\"\n",
    "ADV -> \"tall\", \"sharp\"\n",
    "\n",
    "How about ways to attached constituents?\n",
    "> Catalan Numbers\n",
    "grows exponentially with the number of PPs\n",
    "\n",
    "Parser's could potential do exponential amount of work!"
   ]
  },
  {
   "cell_type": "markdown",
   "metadata": {},
   "source": [
    "CFG \n",
    "---\n",
    "a tuple <N, T, S, R>\n",
    "- a set of non-terminals, N\n",
    "    - Phrasal categories: S, NP, VP, ADJP, etc.\n",
    "    - Parts-of-speech (pre-terminals): NN, JJ, DT, VB\n",
    "- a set of terminals, T\n",
    "    - the words of a language\n",
    "- a start symbol, S\n",
    "    - Often written as ROOT or TOP\n",
    "- a set of rules, R\n",
    "    - aka rewrites, productions, or local trees\n",
    "    - Examples:S→NPVP, VP→VPCCVP"
   ]
  },
  {
   "cell_type": "markdown",
   "metadata": {},
   "source": [
    "### Catalan numbers\n",
    "\n",
    "a sequence of natural numbers that occur in various counting problems, \n",
    "often involving recursively-defined objects\n",
    "\n",
    "Making Coin Pyramid:\n",
    "![](images/stacking_coins.png)\n",
    "\n",
    "![](images/catalan_numbers_formula.png)"
   ]
  },
  {
   "cell_type": "markdown",
   "metadata": {},
   "source": [
    "*** \n",
    "<br>  \n",
    "<br> "
   ]
  },
  {
   "cell_type": "markdown",
   "metadata": {},
   "source": [
    "Example of grammer and parsing\n",
    "----"
   ]
  },
  {
   "cell_type": "code",
   "execution_count": 10,
   "metadata": {
    "collapsed": true
   },
   "outputs": [],
   "source": [
    "import nltk"
   ]
  },
  {
   "cell_type": "code",
   "execution_count": 14,
   "metadata": {
    "collapsed": false
   },
   "outputs": [],
   "source": [
    "# # http://www.nltk.org/book/ch08.html\n",
    "# >>> groucho_grammar = nltk.CFG.fromstring(\"\"\"\n",
    "# ... S -> NP VP\n",
    "# ... PP -> P NP\n",
    "# ... NP -> Det N | Det N PP | 'I'\n",
    "# ... VP -> V NP | VP PP\n",
    "# ... Det -> 'an' | 'my'\n",
    "# ... N -> 'elephant' | 'pajamas'\n",
    "# ... V -> 'shot'\n",
    "# ... P -> 'in'\n",
    "# ... \"\"\")"
   ]
  },
  {
   "cell_type": "code",
   "execution_count": 32,
   "metadata": {
    "collapsed": false
   },
   "outputs": [],
   "source": [
    "# >>> sent = ['I', 'shot', 'an', 'elephant', 'in', 'my', 'pajamas']\n",
    "# >>> parser = nltk.ChartParser(groucho_grammar)\n",
    "# >>> for tree in parser.parse(sent):\n",
    "# ...     print(tree)"
   ]
  },
  {
   "cell_type": "code",
   "execution_count": 27,
   "metadata": {
    "collapsed": false
   },
   "outputs": [],
   "source": [
    "# tree"
   ]
  },
  {
   "cell_type": "code",
   "execution_count": 28,
   "metadata": {
    "collapsed": true
   },
   "outputs": [],
   "source": [
    "# sentence = \"The son of the pharoah's daughter is the daughter of the pharaoh's son.\""
   ]
  },
  {
   "cell_type": "markdown",
   "metadata": {},
   "source": [
    "*** \n",
    "<br>  \n",
    "<br> "
   ]
  },
  {
   "cell_type": "markdown",
   "metadata": {},
   "source": [
    "RAT Solutions\n",
    "----\n",
    "1. A, D \n",
    "2. D nice\n",
    "3. Cosine similarity: a inverse of distance between 2 vectors. 1 means the vectors are the same. -1 means the vectors are opposite. 0 means the vectors are othongoarl (not related).\n",
    "4. "
   ]
  },
  {
   "cell_type": "markdown",
   "metadata": {},
   "source": [
    "*** \n",
    "<br>  \n",
    "<br> "
   ]
  },
  {
   "cell_type": "markdown",
   "metadata": {},
   "source": [
    "Exercises\n",
    "-----\n",
    "\n",
    "http://www.nltk.org/howto/parse.html\n",
    "\n",
    "https://honnibal.wordpress.com/2013/12/18/a-simple-fast-algorithm-for-natural-language-dependency-parsing/\n",
    "\n",
    "http://www.cs.bgu.ac.il/~elhadad/nlp15/hw3.html\n"
   ]
  }
 ],
 "metadata": {
  "kernelspec": {
   "display_name": "Python 2",
   "language": "python",
   "name": "python2"
  },
  "language_info": {
   "codemirror_mode": {
    "name": "ipython",
    "version": 2
   },
   "file_extension": ".py",
   "mimetype": "text/x-python",
   "name": "python",
   "nbconvert_exporter": "python",
   "pygments_lexer": "ipython2",
   "version": "2.7.10"
  }
 },
 "nbformat": 4,
 "nbformat_minor": 0
}
