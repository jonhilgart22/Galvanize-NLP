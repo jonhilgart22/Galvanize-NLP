{
 "cells": [
  {
   "cell_type": "markdown",
   "metadata": {},
   "source": [
    "5.4 On Your Own (with a friend)\n",
    "====\n",
    "\n",
    "Mark the following sentences as grammatical or ungrammatical:\n",
    "\n",
    "     (1)  Wash your own monkey's ears.\n",
    "     (2) * Wash your monkey's own ears.\n",
    "     (3)  Harvey wants me to wash myself.\n",
    "     (4) * I want Harvey to wash myself.\n",
    "     (5) * The rumor that I was dead surprised myself.\n",
    "     (6) * A pig that the sky is blue is a happy pig.\n",
    "     (7)  A pig that can fly is a happy pig.\n",
    "     (8)  It was me.\n",
    "     (9) ? There were assumed to be errors in the proof.\n",
    "    (10)  The errors were assumed to be in the first two steps.\n",
    "    (11)  There weren't any errors, were there?\n",
    "    (12) * There goes the argument against the proof, doesn't there?\n",
    "    (13)  The children aren't going to be hard to persuade to paint themselves blue.\n",
    "    (14) * The children aren't going to be hard to promise to paint themselves blue.\n",
    "    (15)  Bob seems to want to like abstract art.\n",
    "    (16)  Bob wants to seem to like abstract art.\n",
    "    (17) ? Bob wants to seem to want to like abstract art.\n",
    "    (18) * Bob wants to seem to persuade to like abstract art.\n",
    "    (19)  Andy tends to be easy to persuade to like any kind of food.\n",
    "    (20) * Andy tends to be likely to persuade to like any kind of food.\n",
    "    (21)  Andy tends to be likely to pretend to like whatever is put before him.\n",
    "    (22)  I have an old tin can to keep my money in."
   ]
  },
  {
   "cell_type": "code",
   "execution_count": null,
   "metadata": {
    "collapsed": true
   },
   "outputs": [],
   "source": []
  }
 ],
 "metadata": {
  "kernelspec": {
   "display_name": "Python 2",
   "language": "python",
   "name": "python2"
  },
  "language_info": {
   "codemirror_mode": {
    "name": "ipython",
    "version": 2
   },
   "file_extension": ".py",
   "mimetype": "text/x-python",
   "name": "python",
   "nbconvert_exporter": "python",
   "pygments_lexer": "ipython2",
   "version": "2.7.10"
  }
 },
 "nbformat": 4,
 "nbformat_minor": 0
}
