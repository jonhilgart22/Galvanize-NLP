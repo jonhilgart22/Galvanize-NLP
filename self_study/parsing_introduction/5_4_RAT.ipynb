{
 "cells": [
  {
   "cell_type": "markdown",
   "metadata": {},
   "source": [
    "5.4 RAT\n",
    "====\n",
    "\n",
    "1) Given the bracket groups of the following sentence, which of the word groups is a constituent? (pick all that apply)\n",
    "> When she was younger she would play outside with her friends until the bell rang for dinner.\n",
    "\n",
    "[When she was younger] [[she would play] outside ] [with her friends] [ [until the bell rang ] for dinner].  <br>\n",
    "<br>\n",
    "&nbsp;&nbsp;&nbsp;&nbsp; A. When she was younger <br>\n",
    "&nbsp;&nbsp;&nbsp;&nbsp; B. play outside <br>\n",
    "&nbsp;&nbsp;&nbsp;&nbsp; C. the bell rang for dinner <br>\n",
    "&nbsp;&nbsp;&nbsp;&nbsp; D. until the bell rang for dinner <br>\n",
    "\n",
    "2) In the following sentence, which word is \"warm\" a dependent of?\n",
    "\n",
    "> It was a warm breezy day in the park.\n",
    "    \n",
    "&nbsp;&nbsp;&nbsp;&nbsp; A. in <br>\n",
    "&nbsp;&nbsp;&nbsp;&nbsp; B. breezy <br>\n",
    "&nbsp;&nbsp;&nbsp;&nbsp; C. park <br>\n",
    "&nbsp;&nbsp;&nbsp;&nbsp; D. day <br>\n",
    "\n",
    "3) Define cosine similarity in Plain English.\n",
    "\n",
    "4) Name an alterative to Naïve Bayes for text classification. Why would it be better or worse?"
   ]
  }
 ],
 "metadata": {
  "kernelspec": {
   "display_name": "Python 2",
   "language": "python",
   "name": "python2"
  },
  "language_info": {
   "codemirror_mode": {
    "name": "ipython",
    "version": 2
   },
   "file_extension": ".py",
   "mimetype": "text/x-python",
   "name": "python",
   "nbconvert_exporter": "python",
   "pygments_lexer": "ipython2",
   "version": "2.7.10"
  }
 },
 "nbformat": 4,
 "nbformat_minor": 0
}
