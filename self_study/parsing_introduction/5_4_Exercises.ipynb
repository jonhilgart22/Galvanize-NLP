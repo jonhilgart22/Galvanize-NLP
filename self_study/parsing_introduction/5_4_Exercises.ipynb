{
 "cells": [
  {
   "cell_type": "markdown",
   "metadata": {},
   "source": [
    "5.4 Exercises\n",
    "===="
   ]
  },
  {
   "cell_type": "code",
   "execution_count": 11,
   "metadata": {
    "collapsed": true
   },
   "outputs": [],
   "source": [
    "from __future__ import (absolute_import, \n",
    "                        division,\n",
    "                        print_function,\n",
    "                        unicode_literals)"
   ]
  },
  {
   "cell_type": "markdown",
   "metadata": {},
   "source": [
    "The Tree class implements a variety of other useful methods. See the Tree help documentation for more details"
   ]
  },
  {
   "cell_type": "code",
   "execution_count": 1,
   "metadata": {
    "collapsed": true
   },
   "outputs": [],
   "source": [
    "from nltk import Tree"
   ]
  },
  {
   "cell_type": "code",
   "execution_count": 2,
   "metadata": {
    "collapsed": true
   },
   "outputs": [],
   "source": [
    "Tree?"
   ]
  },
  {
   "cell_type": "markdown",
   "metadata": {},
   "source": [
    "In this exercise you will manually construct some parse trees.\n",
    "\n",
    "1) Write code to produce two trees, one for each reading of the phrase:\n",
    "> old men and women\n",
    "\n",
    "2) Now use draw() to display both trees <br>\n",
    "<br>\n",
    "3) How does compare to `pattern.en.parsetree` results?"
   ]
  },
  {
   "cell_type": "code",
   "execution_count": null,
   "metadata": {
    "collapsed": true
   },
   "outputs": [],
   "source": []
  },
  {
   "cell_type": "markdown",
   "metadata": {},
   "source": [
    "Consider the sequence of words: \n",
    "> Buffalo buffalo Buffalo buffalo buffalo buffalo Buffalo buffalo.\n",
    "\n",
    "This is a grammatically correct sentence, as explained at http://en.wikipedia.org/wiki/Buffalo_buffalo_Buffalo_buffalo_buffalo_buffalo_Buffalo_buffalo. \n",
    "\n",
    "1) Considering the tree diagram presented on this Wikipedia page, write down a suitable grammar. <br>\n",
    "2) Can you find other parses for this sentence? <br>\n",
    "3) How does the number of parse trees grow as the sentence gets longer? <br>\n",
    "\n",
    "(More examples of these awful type of sentences can be found at [here](https://en.wikipedia.org/wiki/User:Benjamin_Mako_Hill/List_of_homophonous_phrases))"
   ]
  },
  {
   "cell_type": "code",
   "execution_count": null,
   "metadata": {
    "collapsed": true
   },
   "outputs": [],
   "source": []
  },
  {
   "cell_type": "markdown",
   "metadata": {},
   "source": [
    "Write a function to find the longest sentences in a corpus. \n",
    "\n",
    "1. What is the longest sentence you can find in each book in the Gutenberg Corpus? What is the longest overall sentence?\n",
    "2. Are any of them ambiguous for English Grammer?\n",
    "3. What syntactic construction(s) are responsible for such long sentences?"
   ]
  },
  {
   "cell_type": "code",
   "execution_count": 3,
   "metadata": {
    "collapsed": true
   },
   "outputs": [],
   "source": [
    "from nltk.corpus import gutenberg"
   ]
  },
  {
   "cell_type": "code",
   "execution_count": null,
   "metadata": {
    "collapsed": true
   },
   "outputs": [],
   "source": []
  },
  {
   "cell_type": "markdown",
   "metadata": {},
   "source": [
    "One common way of defining the subject of a sentence S in English is as the noun phrase that is the child of S and the sibling of VP. \n",
    "\n",
    "1. Write a function that takes the tree for a sentence and returns the subtree corresponding to the subject of the sentence. \n",
    "2. What should it do if the root node of the tree passed to this function is not S, or it lacks a subject?"
   ]
  },
  {
   "cell_type": "code",
   "execution_count": null,
   "metadata": {
    "collapsed": true
   },
   "outputs": [],
   "source": []
  },
  {
   "cell_type": "markdown",
   "metadata": {},
   "source": [
    "Check your work against `pattern` package"
   ]
  },
  {
   "cell_type": "code",
   "execution_count": 1,
   "metadata": {
    "collapsed": false
   },
   "outputs": [],
   "source": [
    "from pattern.en import parsetree"
   ]
  },
  {
   "cell_type": "code",
   "execution_count": 16,
   "metadata": {
    "collapsed": false
   },
   "outputs": [],
   "source": [
    "# s = \"We run all day.\"\n",
    "s = \"See Spot Run.\"\n",
    "pt = parsetree(s,  \n",
    "               relations=True)[0]"
   ]
  },
  {
   "cell_type": "code",
   "execution_count": 15,
   "metadata": {
    "collapsed": false
   },
   "outputs": [
    {
     "data": {
      "text/plain": [
       "{'OBJ': {1: Chunk('Spot Run/NP-OBJ-1')},\n",
       " 'SBJ': {},\n",
       " 'VP': {1: Chunk('See/VP-1')}}"
      ]
     },
     "execution_count": 15,
     "metadata": {},
     "output_type": "execute_result"
    }
   ],
   "source": [
    "pt.relations"
   ]
  },
  {
   "cell_type": "code",
   "execution_count": null,
   "metadata": {
    "collapsed": true
   },
   "outputs": [],
   "source": []
  },
  {
   "cell_type": "markdown",
   "metadata": {
    "collapsed": true
   },
   "source": [
    "---\n",
    "Given the following Phrase Structure Grammar and the Lexicon below:\n",
    "\n",
    "\tS  -> NP VP\n",
    "\tVP -> V (NP)\n",
    "\tNP -> (D) N\n",
    "\n",
    "\tN: pig, answer, pitchfork\n",
    "\tV: knew, lied, came, became\n",
    "\tD: a, the\n",
    "\n",
    "For each of the sentences given below,\n",
    "\n",
    "\t(i)   Is it grammatical?\n",
    "\t(ii)  Is it generated by the grammar?\n",
    "\t(iii) If the answers to (i) and (ii) are different, propose\n",
    "\t      a modification to the grammar.  Discuss the consequences.\n",
    "\n",
    "NOTE: This asks for a modification to the GRAMMAR.  Don't modify the examples.\n",
    "\n",
    "    (1)  The pig knew the answer.\n",
    "    (2)  The answer knew the pig.\n",
    "    (3)  Knew the answer the pig.\n",
    "    (4)  Knew the pig the answer.\n",
    "    (5)  The pig lied.\n",
    "    (6)  The pitchfork lied the pig.\n",
    "    (7)  The pig lied the pitchfork.\n",
    "    (8)  Pig the pitchfork the lied the.\n",
    "    (9)  The pig came a pitchfork.\n",
    "    (10) The pig became a pitchfork.\n",
    "    (11) The pig became.\n",
    "    (12) An answer came to the pig.\n",
    "    (13) The pitchfork lied to the pig.\n",
    "    (14) My pig lied to my pitchfork."
   ]
  },
  {
   "cell_type": "code",
   "execution_count": null,
   "metadata": {
    "collapsed": true
   },
   "outputs": [],
   "source": []
  },
  {
   "cell_type": "markdown",
   "metadata": {},
   "source": [
    "---\n",
    "Optional:\n",
    "----"
   ]
  },
  {
   "cell_type": "markdown",
   "metadata": {},
   "source": [
    "Write a function that takes a grammar and returns a random sentence generated by the grammar. \n",
    "\n",
    "__Hints__:\n",
    "- Use `grammar.start()` to find the start symbol of the grammar\n",
    "- `grammar.productions(lhs)` to get the list of productions from the grammar that have the specified left-hand side - - `production.rhs()` to get the right-hand side of a production"
   ]
  },
  {
   "cell_type": "code",
   "execution_count": null,
   "metadata": {
    "collapsed": true
   },
   "outputs": [],
   "source": [
    "grammar1 = nltk.parse_cfg(\"\"\"\n",
    "  S -> NP VP\n",
    "  VP -> V NP | V NP PP\n",
    "  PP -> P NP\n",
    "  V -> \"saw\" | \"ate\" | \"walked\"\n",
    "  NP -> \"John\" | \"Mary\" | \"Bob\" | Det N | Det N PP\n",
    "  Det -> \"a\" | \"an\" | \"the\" | \"my\"\n",
    "  N -> \"man\" | \"dog\" | \"cat\" | \"telescope\" | \"park\"\n",
    "  P -> \"in\" | \"on\" | \"by\" | \"with\"\n",
    "  \"\"\")"
   ]
  },
  {
   "cell_type": "code",
   "execution_count": null,
   "metadata": {
    "collapsed": true
   },
   "outputs": [],
   "source": []
  }
 ],
 "metadata": {
  "kernelspec": {
   "display_name": "Python 2",
   "language": "python",
   "name": "python2"
  },
  "language_info": {
   "codemirror_mode": {
    "name": "ipython",
    "version": 2
   },
   "file_extension": ".py",
   "mimetype": "text/x-python",
   "name": "python",
   "nbconvert_exporter": "python",
   "pygments_lexer": "ipython2",
   "version": "2.7.10"
  }
 },
 "nbformat": 4,
 "nbformat_minor": 0
}
