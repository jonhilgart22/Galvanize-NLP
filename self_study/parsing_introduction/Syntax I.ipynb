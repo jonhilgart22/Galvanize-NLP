{
 "cells": [
  {
   "cell_type": "markdown",
   "metadata": {},
   "source": [
    "Syntax I\n",
    "========\n",
    "\n",
    "*Notebook adapted from notes from the first session of Jorge Hankamer's [Syntax I](http://babel.ucsc.edu/~hank/112.W14.html) course at UCSC*"
   ]
  },
  {
   "cell_type": "code",
   "execution_count": 1,
   "metadata": {
    "collapsed": true
   },
   "outputs": [],
   "source": [
    "import nltk"
   ]
  },
  {
   "cell_type": "markdown",
   "metadata": {},
   "source": [
    "Start with the following grammar:"
   ]
  },
  {
   "cell_type": "code",
   "execution_count": 2,
   "metadata": {
    "collapsed": true
   },
   "outputs": [],
   "source": [
    "syntax1 = nltk.CFG.fromstring(\"\"\"\n",
    "S -> NP VP\n",
    "NP -> Art N\n",
    "VP -> V NP\n",
    "N -> 'pig' | 'cat' | 'farmer' | 'pitchfork'\n",
    "V -> 'sleeps' | 'eats' | 'walks' | 'admires'\n",
    "Art -> 'the' | 'a'\n",
    "\"\"\")"
   ]
  },
  {
   "cell_type": "markdown",
   "metadata": {},
   "source": [
    "using this we get \"the farmer eats a pig\""
   ]
  },
  {
   "cell_type": "code",
   "execution_count": 3,
   "metadata": {
    "collapsed": false,
    "scrolled": true
   },
   "outputs": [
    {
     "data": {
      "image/png": "[encoded data removed]",
      "text/plain": [
       "Tree('S', [Tree('NP', [Tree('Art', ['the']), Tree('N', ['farmer'])]), Tree('VP', [Tree('V', ['eats']), Tree('NP', [Tree('Art', ['a']), Tree('N', ['pig'])])])])"
      ]
     },
     "execution_count": 3,
     "metadata": {},
     "output_type": "execute_result"
    }
   ],
   "source": [
    "sent = \"the farmer eats a pig\".split()\n",
    "parser = nltk.ChartParser(syntax1)\n",
    "parser.parse_one(sent)"
   ]
  },
  {
   "cell_type": "markdown",
   "metadata": {},
   "source": [
    "__NOTE__: The above cell does not work on all computers. Try this instead:\n",
    "```python\n",
    "sent = \"the farmer eats a pig\".split()\n",
    "parser = nltk.ChartParser(syntax1)\n",
    "pt = parser.parse_one(sent)\n",
    "pt.draw() # Draw parse tree in external window\n",
    "```"
   ]
  },
  {
   "cell_type": "markdown",
   "metadata": {},
   "source": [
    "However, we also get \"\\*the farmer sleeps a cat\""
   ]
  },
  {
   "cell_type": "code",
   "execution_count": 4,
   "metadata": {
    "collapsed": false
   },
   "outputs": [
    {
     "data": {
      "image/png": "[encoded data removed]",
      "text/plain": [
       "Tree('S', [Tree('NP', [Tree('Art', ['the']), Tree('N', ['farmer'])]), Tree('VP', [Tree('V', ['sleeps']), Tree('NP', [Tree('Art', ['a']), Tree('N', ['cat'])])])])"
      ]
     },
     "execution_count": 4,
     "metadata": {},
     "output_type": "execute_result"
    }
   ],
   "source": [
    "sent = \"the farmer sleeps a cat\".split()\n",
    "parser = nltk.ChartParser(syntax1)\n",
    "parser.parse_one(sent)"
   ]
  },
  {
   "cell_type": "markdown",
   "metadata": {},
   "source": [
    "Verbs come in two _subcategories_:\n",
    "- transitive (takes a NP after it)\n",
    "- intranstitive (doesn't take a NP)"
   ]
  },
  {
   "cell_type": "code",
   "execution_count": 5,
   "metadata": {
    "collapsed": false
   },
   "outputs": [
    {
     "data": {
      "image/png": "[encoded data removed]",
      "text/plain": [
       "Tree('S', [Tree('NP', [Tree('Art', ['the']), Tree('N', ['farmer'])]), Tree('VP', [Tree('TV', ['eats']), Tree('NP', [Tree('Art', ['a']), Tree('N', ['pig'])])])])"
      ]
     },
     "execution_count": 5,
     "metadata": {},
     "output_type": "execute_result"
    }
   ],
   "source": [
    "syntax2 = nltk.CFG.fromstring(\"\"\"\n",
    "S -> NP VP\n",
    "NP -> Art N\n",
    "VP -> IV\n",
    "VP -> TV NP\n",
    "N -> 'pig' | 'cat' | 'farmer' | 'pitchfork'\n",
    "IV -> 'sleeps' | 'eats' | 'walks'\n",
    "TV -> 'eats' | 'walks' | 'admires'\n",
    "Art -> 'the' | 'a'\n",
    "\"\"\")\n",
    "sent = \"the farmer eats a pig\".split()\n",
    "parser = nltk.ChartParser(syntax2)\n",
    "parser.parse_one(sent)"
   ]
  },
  {
   "cell_type": "code",
   "execution_count": 6,
   "metadata": {
    "collapsed": false
   },
   "outputs": [],
   "source": [
    "sent = \"the farmer sleeps a cat\".split()\n",
    "parser = nltk.ChartParser(syntax2)\n",
    "parser.parse_one(sent)"
   ]
  },
  {
   "cell_type": "markdown",
   "metadata": {},
   "source": [
    "Good.  \n",
    "\n",
    "A verb may be in _present_ or _past_ form:"
   ]
  },
  {
   "cell_type": "code",
   "execution_count": 7,
   "metadata": {
    "collapsed": false
   },
   "outputs": [
    {
     "data": {
      "image/png": "[encoded data removed]",
      "text/plain": [
       "Tree('S', [Tree('NP', [Tree('Art', ['the']), Tree('N', ['farmer'])]), Tree('VP', [Tree('TV', ['ate']), Tree('NP', [Tree('Art', ['a']), Tree('N', ['pig'])])])])"
      ]
     },
     "execution_count": 7,
     "metadata": {},
     "output_type": "execute_result"
    }
   ],
   "source": [
    "syntax3 = nltk.CFG.fromstring(\"\"\"\n",
    "S -> NP VP\n",
    "NP -> Art N\n",
    "VP -> IV\n",
    "VP -> TV NP\n",
    "N -> 'pig' | 'cat' | 'farmer' | 'pitchfork'\n",
    "IV -> 'sleeps' | 'eats' | 'walks'\n",
    "IV -> 'slept' | 'ate' | 'walked'\n",
    "TV -> 'eats' | 'walks' | 'admires'\n",
    "TV -> 'ate' | 'walked' | 'admired'\n",
    "Art -> 'the' | 'a'\n",
    "\"\"\")\n",
    "sent = \"the farmer ate a pig\".split()\n",
    "parser = nltk.ChartParser(syntax3)\n",
    "parser.parse_one(sent)"
   ]
  },
  {
   "cell_type": "markdown",
   "metadata": {},
   "source": [
    "Nouns and verbcs can be _singular_ or _plural_:"
   ]
  },
  {
   "cell_type": "code",
   "execution_count": 8,
   "metadata": {
    "collapsed": false
   },
   "outputs": [
    {
     "data": {
      "image/png": "[encoded data removed]",
      "text/plain": [
       "Tree('S', [Tree('NP_PL', [Tree('Art', ['the']), Tree('N_PL', ['farmers'])]), Tree('VP_PL', [Tree('TV_PL', ['eat']), Tree('NP_SG', [Tree('Art', ['a']), Tree('N_SG', ['pig'])])])])"
      ]
     },
     "execution_count": 8,
     "metadata": {},
     "output_type": "execute_result"
    }
   ],
   "source": [
    "syntax4 = nltk.CFG.fromstring(\"\"\"\n",
    "S -> NP_SG VP_SG\n",
    "S -> NP_PL VP_PL\n",
    "NP_SG -> Art N_SG\n",
    "NP_PL -> Art N_PL\n",
    "VP_SG -> IV_SG\n",
    "VP_PL -> IV_PL\n",
    "VP_SG -> TV_SG NP_SG\n",
    "VP_SG -> TV_SG NP_PL\n",
    "VP_PL -> TV_PL NP_SG\n",
    "VP_PL -> TV_PL NP_PL\n",
    "N_SG -> 'pig' | 'cat' | 'farmer' | 'pitchfork'\n",
    "N_PL -> 'pigs' | 'cats' | 'farmers' | 'pitchforks'\n",
    "IV_SG -> 'sleeps' | 'eats' | 'walks'\n",
    "IV_PL -> 'sleep' | 'eat' | 'walk'\n",
    "IV_SG -> 'slept' | 'ate' | 'walked'\n",
    "IV_PL -> 'slept' | 'ate' | 'walked'\n",
    "TV_SG -> 'eats' | 'walks' | 'admires'\n",
    "TV_PL -> 'eat' | 'walk' | 'admire'\n",
    "TV_SG -> 'ate' | 'walked' | 'admired'\n",
    "TV_PL -> 'ate' | 'walked' | 'admired'\n",
    "Art -> 'the' | 'a'\n",
    "\"\"\")\n",
    "sent = \"the farmers eat a pig\".split()\n",
    "parser = nltk.ChartParser(syntax4)\n",
    "parser.parse_one(sent)"
   ]
  },
  {
   "cell_type": "markdown",
   "metadata": {},
   "source": [
    "### Subject-Verb Agreement Rule:\n",
    "A V may be past.  \n",
    "If a V is -past, the number of the V must agree w/ the number of the N to its left.\n",
    "\n",
    "This is getting complicated, let's introduce features:"
   ]
  },
  {
   "cell_type": "code",
   "execution_count": 9,
   "metadata": {
    "collapsed": false
   },
   "outputs": [],
   "source": [
    "from nltk.grammar import FeatureGrammar"
   ]
  },
  {
   "cell_type": "code",
   "execution_count": 11,
   "metadata": {
    "collapsed": false
   },
   "outputs": [
    {
     "name": "stdout",
     "output_type": "stream",
     "text": [
      "(S[]\n",
      "  (NP[NUM='pl'] (Art[] the) (N[NUM='pl'] farmers))\n",
      "  (VP[NUM='pl', TENSE='pres']\n",
      "    (V[NUM='pl', TENSE='pres'] eat)\n",
      "    (NP[NUM='sg'] (Art[] a) (N[NUM='sg'] pig))))\n"
     ]
    }
   ],
   "source": [
    "syntax5 = FeatureGrammar.fromstring('''\n",
    "S -> NP[NUM=?n] VP[NUM=?n]\n",
    "NP[NUM=?n] -> Art N[NUM=?n]\n",
    "VP[TENSE=?t, NUM=?n] -> V[SUBCAT=intrans, TENSE=?t, NUM=?n]\n",
    "VP[TENSE=?t, NUM=?n] -> V[SUBCAT=trans, TENSE=?t, NUM=?n] NP\n",
    "N[NUM=sg] -> 'pig' | 'cat' | 'farmer' | 'pitchfork'\n",
    "N[NUM=pl] -> 'pigs' | 'cats' | 'farmers' | 'pitchforks' \n",
    "V[SUBCAT=intrans, TENSE=pres, NUM=sg] -> 'sleeps' \n",
    "V[TENSE=pres, NUM=sg] -> 'eats' | 'walks'\n",
    "V[SUBCAT=trans, TENSE=pres, NUM=sg] -> 'admires'\n",
    "V[SUBCAT=intrans, TENSE=pres, NUM=pl] -> 'sleep'\n",
    "V[TENSE=pres, NUM=pl] -> 'eat' | 'walk'\n",
    "V[SUBCAT=trans, TENSE=pres, NUM=pl] -> 'admire'\n",
    "V[SUBCAT=intrans,TENSE=past] -> 'slept' \n",
    "V[TENSE=past] -> 'ate' | 'walked'\n",
    "V[SUBCAT=trans, TENSE=past] -> 'admired'\n",
    "Art -> 'a' | 'the' \n",
    "''')\n",
    "sent = \"the farmers eat a pig\".split()\n",
    "parser = nltk.FeatureChartParser(syntax5)\n",
    "print parser.parse_one(sent)"
   ]
  },
  {
   "cell_type": "markdown",
   "metadata": {},
   "source": [
    "### Article-Noun Agreement Rule\n",
    "\n",
    "A N and its Art must agree in number.  \n",
    "A sg (count) N requires an Art.  \n",
    "N may be either _count_ or _mass_"
   ]
  },
  {
   "cell_type": "code",
   "execution_count": 12,
   "metadata": {
    "collapsed": false
   },
   "outputs": [
    {
     "name": "stdout",
     "output_type": "stream",
     "text": [
      "(S[]\n",
      "  (NP[NUM='pl'] (Art[] the) (N[NUM='pl'] farmers))\n",
      "  (VP[NUM='pl', TENSE='pres']\n",
      "    (V[NUM='pl', TENSE='pres'] eat)\n",
      "    (NP[NUM='mass'] (N[NUM='mass'] dirt))))\n"
     ]
    }
   ],
   "source": [
    "syntax6 = FeatureGrammar.fromstring('''\n",
    "S -> NP[NUM=?n] VP[NUM=?n]\n",
    "NP[NUM=?n] -> N[NUM=?n]\n",
    "NP[NUM=?n] -> Art N[NUM=?n]\n",
    "NP[NUM=?n] -> N[NUM=?n]\n",
    "VP[TENSE=?t, NUM=?n] -> V[SUBCAT=intrans, TENSE=?t, NUM=?n]\n",
    "VP[TENSE=?t, NUM=?n] -> V[SUBCAT=trans, TENSE=?t, NUM=?n] NP\n",
    "N[NUM=sg] -> 'pig' | 'cat' | 'farmer' | 'pitchfork'\n",
    "N[NUM=pl] -> 'pigs' | 'cats' | 'farmers' | 'pitchforks' \n",
    "N[NUM=mass] -> 'dirt' | 'blood' | 'water' \n",
    "V[SUBCAT=intrans, TENSE=pres, NUM=sg] -> 'sleeps' \n",
    "V[TENSE=pres, NUM=sg] -> 'eats' | 'walks'\n",
    "V[SUBCAT=trans, TENSE=pres, NUM=sg] -> 'admires'\n",
    "V[SUBCAT=intrans, TENSE=pres, NUM=pl] -> 'sleep'\n",
    "V[TENSE=pres, NUM=pl] -> 'eat' | 'walk'\n",
    "V[SUBCAT=trans, TENSE=pres, NUM=pl] -> 'admire'\n",
    "V[SUBCAT=intrans,TENSE=past] -> 'slept' \n",
    "V[TENSE=past] -> 'ate' | 'walked'\n",
    "V[SUBCAT=trans, TENSE=past] -> 'admired'\n",
    "Art[NUM=sg] -> 'a' | 'this' | 'that'\n",
    "Art[NUM=pl] -> 'these' | 'those'\n",
    "Art -> 'the' \n",
    "''')\n",
    "sent = \"the farmers eat dirt\".split()\n",
    "parser = nltk.FeatureChartParser(syntax6)\n",
    "print parser.parse_one(sent)"
   ]
  },
  {
   "cell_type": "markdown",
   "metadata": {},
   "source": [
    "### Assignment: \n",
    "Modify the grammar so I can say\n",
    "\n",
    "1. The hungry monkey in the cage ate a banana\n",
    "2. The hungry monkey put a banana in his ear\n",
    "3. The monkey sleeps in his cage\n",
    "4. White flowers turn brown in sunlight\n",
    "5. The children drive me crazy with their chatter\n",
    "6. \\*The monkey put a banana\n",
    "7. \\*The monkey put under the table\n",
    "8. \\*The monkey put  \n",
    "\n",
    "\\* means grammar should not produce"
   ]
  },
  {
   "cell_type": "code",
   "execution_count": null,
   "metadata": {
    "collapsed": true
   },
   "outputs": [],
   "source": []
  }
 ],
 "metadata": {
  "kernelspec": {
   "display_name": "Python 2",
   "language": "python",
   "name": "python2"
  },
  "language_info": {
   "codemirror_mode": {
    "name": "ipython",
    "version": 2
   },
   "file_extension": ".py",
   "mimetype": "text/x-python",
   "name": "python",
   "nbconvert_exporter": "python",
   "pygments_lexer": "ipython2",
   "version": "2.7.10"
  }
 },
 "nbformat": 4,
 "nbformat_minor": 0
}
