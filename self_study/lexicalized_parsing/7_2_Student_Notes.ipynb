{
 "cells": [
  {
   "cell_type": "markdown",
   "metadata": {},
   "source": [
    "7.2 Notes\n",
    "------"
   ]
  },
  {
   "cell_type": "markdown",
   "metadata": {},
   "source": [
    "Announcements\n",
    "------"
   ]
  },
  {
   "cell_type": "markdown",
   "metadata": {},
   "source": [
    "Review\n",
    "---\n",
    "![](images/silly_pcfg.png)\n",
    "\n",
    "PCFG don't use words until the end. That is silly! We should put the words to use through out."
   ]
  },
  {
   "cell_type": "markdown",
   "metadata": {},
   "source": [
    "PCFG limitations:\n",
    "    1. Lack of sensivity to lexical information\n",
    "    2. Lack of sensivity to structural information"
   ]
  },
  {
   "cell_type": "markdown",
   "metadata": {},
   "source": [
    "### Lexicalization of PCFGs\n",
    "\n",
    "Add “headwords” to each phrasal node\n",
    "\n",
    "Lexicalized parsers can be seen as producing dependency trees.\n",
    "Each local binary tree corresponds to an attachment in the dependency graph.\n",
    "\n",
    "P(h | ph, c, pc)\n",
    "P(head_word | parent_head_word, category, parent_category)\n",
    "\n",
    "P(r | h, c, pc)\n",
    "P(rule | head, category, parent_category)\n",
    "\n",
    "### Steps in Charniak parser\n",
    "1. Pase with the base grammar\n",
    "2. For each h calculate the P(h|ph, c, pc)\n",
    "3. Then do the full CKY\n",
    "\n",
    "P(h|c=ROOT)\n",
    "\n",
    "__PCFG & Independence__: At each node parsing is independent, don't care where we came from."
   ]
  },
  {
   "cell_type": "markdown",
   "metadata": {},
   "source": [
    "Horizontal Markovization: if repeated categories in row, can merge states to reduce calculation\n",
    "\n",
    "Vertical Markovization: Look at previous dependencies\n",
    "\n",
    "Use custom tags for task and corpus\n",
    "\n",
    "__Latent variable PCFG__: models hidden states and the probablities of transition\n",
    "\n",
    "![](images/splits.png) "
   ]
  },
  {
   "cell_type": "code",
   "execution_count": null,
   "metadata": {
    "collapsed": true
   },
   "outputs": [],
   "source": [
    "Tree.fromstring('''(S (PP (TO to) (NP (PRP him))) (NP (PRP she)) (VP (VBD was) (NP (DT a) (JJ good) (NN friend))) (. .))''')"
   ]
  },
  {
   "cell_type": "markdown",
   "metadata": {},
   "source": [
    "RAT Solutions\n",
    "-----\n",
    "\n",
    "1. $C^2$V\n",
    "2. B\n",
    "3. B\n",
    "4. `(S-was\n",
    "    (PP-to (TO to)\n",
    "      (NP-him (PRP him)))\n",
    "    (NP-she (PRP she))\n",
    "    (VP-was (VBD was)\n",
    "      (NP-friend (DT a) (JJ good) (NN friend))))\n",
    "  (. .))`"
   ]
  }
 ],
 "metadata": {
  "kernelspec": {
   "display_name": "Python 2",
   "language": "python",
   "name": "python2"
  },
  "language_info": {
   "codemirror_mode": {
    "name": "ipython",
    "version": 2
   },
   "file_extension": ".py",
   "mimetype": "text/x-python",
   "name": "python",
   "nbconvert_exporter": "python",
   "pygments_lexer": "ipython2",
   "version": "2.7.10"
  }
 },
 "nbformat": 4,
 "nbformat_minor": 0
}
