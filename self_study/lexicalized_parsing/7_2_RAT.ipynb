{
 "cells": [
  {
   "cell_type": "markdown",
   "metadata": {},
   "source": [
    "7.2 RAT\n",
    "====\n",
    "1. We mentioned previously that sparsity can be a problem with a lexicaled PCFG.  \n",
    "    In the particular case of P(h|ph,c,pc), if we have V words in our vocabulary and C different non-terminal categories, roughly how many different probability distributions do we have to estimate for any possibility of P(h|ph,c,pc)?\n",
    "<br>\n",
    "<br>\n",
    "2. Which of the following is true (i.e. a good assumption) about the dependencies of the labels of nodes in a parse tree?\n",
    "    2. The label of a node in a parse tree is independent of the head word of the phrase over which the node spans. \n",
    "    3. The label of a node is dependent on the labels of its children. \n",
    "    4. The label of a node in a parse tree is independent from the labels of the node's siblings.\n",
    "    1. For any node in a parse tree, its children are independent of its parent given its label. \n",
    "<br>\n",
    "<br>\n",
    "3. What changes about the parsing algorithm with lexicalization modification?\n",
    "    3. We can use CKY, but with some modifications. \n",
    "    1. Nothing except the time and space required. We can still use CKY. \n",
    "    2. We need a whole new parsing algorithm. \n",
    "    4. None of the above.\n",
    "<br>\n",
    "<br>\n",
    "4. Lexicalize the following parse tree (annotate each non-terminal with the head of the phrase over which it is a constituent):\n",
    "        (S\n",
    "          (PP (TO to)\n",
    "            (NP (PRP him)))\n",
    "          (NP (PRP she))\n",
    "          (VP (VBD was)\n",
    "            (NP (DT a) (JJ good) (NN friend)))\n",
    "        (. .))"
   ]
  }
 ],
 "metadata": {
  "kernelspec": {
   "display_name": "Python 2",
   "language": "python",
   "name": "python2"
  },
  "language_info": {
   "codemirror_mode": {
    "name": "ipython",
    "version": 2
   },
   "file_extension": ".py",
   "mimetype": "text/x-python",
   "name": "python",
   "nbconvert_exporter": "python",
   "pygments_lexer": "ipython2",
   "version": "2.7.10"
  }
 },
 "nbformat": 4,
 "nbformat_minor": 0
}
