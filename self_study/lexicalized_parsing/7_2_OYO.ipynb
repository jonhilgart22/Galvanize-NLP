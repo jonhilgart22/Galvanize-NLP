{
 "cells": [
  {
   "cell_type": "markdown",
   "metadata": {},
   "source": [
    "7.2 OYO\n",
    "====\n",
    "\n"
   ]
  },
  {
   "cell_type": "markdown",
   "metadata": {},
   "source": [
    "![](images/book_in_cow.png)\n",
    "\n",
    "Parsing performance drops considerably when shifting outside of the domain a parser was trained on.<br>\n",
    "<br>\n",
    "For example training on Brown corpus does not transfer to Wall Street Journal because the Brown corpus is more informal. [Kummerfeld, Jonathan K., et al., 2012](http://anthology.aclweb.org/D/D12/D12-1096.pdf) <br>\n",
    "<br>\n",
    "How we could improve this result? (Use proper machine learning terminology)"
   ]
  }
 ],
 "metadata": {
  "kernelspec": {
   "display_name": "Python 2",
   "language": "python",
   "name": "python2"
  },
  "language_info": {
   "codemirror_mode": {
    "name": "ipython",
    "version": 2
   },
   "file_extension": ".py",
   "mimetype": "text/x-python",
   "name": "python",
   "nbconvert_exporter": "python",
   "pygments_lexer": "ipython2",
   "version": "2.7.10"
  }
 },
 "nbformat": 4,
 "nbformat_minor": 0
}
