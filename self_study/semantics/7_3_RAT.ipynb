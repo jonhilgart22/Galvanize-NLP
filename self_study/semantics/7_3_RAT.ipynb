{
 "cells": [
  {
   "cell_type": "markdown",
   "metadata": {},
   "source": [
    "RAT\n",
    "----\n",
    "1) Consider the two word senses for the word “newspaper”: <br>\n",
    "    \n",
    "- newspaper$^1$: a company that publishes written news. <br>\n",
    "- newspaper$^2$: a single physical item published by the company. <br>\n",
    "    <br>\n",
    "Pick all terms that describe the relations between these two senses? <br>\n",
    "&nbsp;&nbsp;&nbsp;&nbsp; a. homonymy <br>\n",
    "&nbsp;&nbsp;&nbsp;&nbsp; b. polysemy <br>\n",
    "&nbsp;&nbsp;&nbsp;&nbsp; c. metonymy <br>\n",
    "&nbsp;&nbsp;&nbsp;&nbsp; d. hyponymy <br>\n",
    "<br>\n",
    "2. Given this term-context matrix which 2 words (musical groups) are most similar. Explain your logic. <br>\n",
    "\n",
    "| | twitter | young | righteous | funky |  \n",
    "|:-------:|:------:| :-------:| :-------:| :-------:|\n",
    "| taylor_swift | 4 | 2 | 0 | 0 |\n",
    "| justen_beiber | 12 | 5 | 0 | 0 |   \n",
    "| anthrax | 1 | 0 | 10 | 0 |\n",
    "| omozmatli | 2 | 0 | 2 | 1 |\n",
    "<br>\n",
    "3) Define Heaps' Law in Plain English.\n",
    "<br>\n",
    "4) Draw Heaps' Law by hand. (When submitting it, just state X and Y axis and the form of the function)\n",
    "<br>\n",
    "<br>\n",
    "<br>\n",
    "<br>\n",
    "<br>\n",
    "<br>\n",
    "<br>\n",
    "<br>\n",
    "5) Define recall in Plain English. Give an example of a hit and a miss in recall."
   ]
  },
  {
   "cell_type": "code",
   "execution_count": null,
   "metadata": {
    "collapsed": true
   },
   "outputs": [],
   "source": []
  }
 ],
 "metadata": {
  "kernelspec": {
   "display_name": "Python 2",
   "language": "python",
   "name": "python2"
  },
  "language_info": {
   "codemirror_mode": {
    "name": "ipython",
    "version": 2
   },
   "file_extension": ".py",
   "mimetype": "text/x-python",
   "name": "python",
   "nbconvert_exporter": "python",
   "pygments_lexer": "ipython2",
   "version": "2.7.10"
  }
 },
 "nbformat": 4,
 "nbformat_minor": 0
}
