{
 "cells": [
  {
   "cell_type": "markdown",
   "metadata": {},
   "source": [
    " 7.3 OYO\n",
    "===\n",
    "\n",
    "![](images/thesarus.png)\n",
    "\n",
    "![](images/path_sim.png)\n",
    "\n",
    "![](images/vector_sim.png)\n",
    "\n",
    "When would path similarity a better measure than a vector similarity?"
   ]
  }
 ],
 "metadata": {
  "kernelspec": {
   "display_name": "Python 2",
   "language": "python",
   "name": "python2"
  },
  "language_info": {
   "codemirror_mode": {
    "name": "ipython",
    "version": 2
   },
   "file_extension": ".py",
   "mimetype": "text/x-python",
   "name": "python",
   "nbconvert_exporter": "python",
   "pygments_lexer": "ipython2",
   "version": "2.7.10"
  }
 },
 "nbformat": 4,
 "nbformat_minor": 0
}
