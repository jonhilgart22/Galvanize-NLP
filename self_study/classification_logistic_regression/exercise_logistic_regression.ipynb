{
 "cells": [
  {
   "cell_type": "markdown",
   "metadata": {},
   "source": [
    "----\n",
    "Exercise: Classification with Logistic Regression\n",
    "====\n",
    "\n",
    "![](http://www.newspapers.psu.edu/wp-content/uploads/sites/1856/2013/02/NYTLogo.jpg)\n",
    "\n",
    "![](http://www.capitalnewyork.com/sites/default/files/imagecache/big_article_pic/a%20-%20times%20autos_0.png)"
   ]
  },
  {
   "cell_type": "markdown",
   "metadata": {},
   "source": [
    "For these exercises, we will classify a corpus of New York Times (NYT) articles to see if we can pick which section the article using Logistic Regression (a.k.a, MaxEnt).\n",
    "\n",
    "1) Read the `articles.pk`l file using the `read_pickle` function in Pandas 🐼."
   ]
  },
  {
   "cell_type": "code",
   "execution_count": null,
   "metadata": {
    "collapsed": true
   },
   "outputs": [],
   "source": []
  },
  {
   "cell_type": "markdown",
   "metadata": {},
   "source": [
    "2) Look at the raw data and conduct EDA to understand the structure of your data. \n",
    "\n",
    "The `content` column is the text of the article. The `section_name` is the section (e.g.,'Sports', 'U.S.', 'Business Day', 'World', ...).\n",
    "\n",
    "- Is `content` formatted and encoded correctly?\n",
    "- Is there something about `section_name` that could cause modeling trouble?"
   ]
  },
  {
   "cell_type": "code",
   "execution_count": null,
   "metadata": {
    "collapsed": true
   },
   "outputs": [],
   "source": []
  },
  {
   "cell_type": "markdown",
   "metadata": {},
   "source": [
    "3) Apply Scikit-Learn's [CountVectorizer](http://scikit-learn.org/stable/modules/generated/sklearn.feature_extraction.text.CountVectorizer.html) to turn the content of the news stories into a document-term matrix. "
   ]
  },
  {
   "cell_type": "code",
   "execution_count": null,
   "metadata": {
    "collapsed": true
   },
   "outputs": [],
   "source": []
  },
  {
   "cell_type": "markdown",
   "metadata": {},
   "source": [
    "4) Apply [Logistic Regression](http://scikit-learn.org/stable/modules/linear_model.html#logistic-regression) to build a classifer. Use `solver = 'lbfgs'`. \n",
    "\n",
    "Why do we use this solver?"
   ]
  },
  {
   "cell_type": "code",
   "execution_count": null,
   "metadata": {
    "collapsed": true
   },
   "outputs": [],
   "source": []
  },
  {
   "cell_type": "markdown",
   "metadata": {},
   "source": [
    "----\n",
    "Optional:\n",
    "----"
   ]
  },
  {
   "cell_type": "markdown",
   "metadata": {},
   "source": [
    "1) Compare results to [Naïve Bayes](http://scikit-learn.org/stable/modules/naive_bayes.html) (either [Multinomial](http://scikit-learn.org/stable/modules/generated/sklearn.naive_bayes.MultinomialNB.html) or [Bernoulli](http://scikit-learn.org/stable/modules/generated/sklearn.naive_bayes.BernoulliNB.html))\n",
    "\n",
    "\n",
    "2) Compare results to Scikit-Learn's [Linear SVM](http://scikit-learn.org/stable/modules/generated/sklearn.svm.LinearSVC.html) (see [documentation](http://scikit-learn.org/stable/modules/svm.html) for details on how it works)\n",
    "\n",
    "3) Compare results to NLTK's [Maximum Entropy](http://www.nltk.org/_modules/nltk/classify/maxent.html) classifier (see [HOWTO](http://www.nltk.org/howto/classify.html) for help)"
   ]
  },
  {
   "cell_type": "code",
   "execution_count": null,
   "metadata": {
    "collapsed": true
   },
   "outputs": [],
   "source": []
  },
  {
   "cell_type": "markdown",
   "metadata": {},
   "source": [
    "<br>\n",
    "<br>\n",
    "---"
   ]
  }
 ],
 "metadata": {
  "kernelspec": {
   "display_name": "Python 3",
   "language": "python",
   "name": "python3"
  },
  "language_info": {
   "codemirror_mode": {
    "name": "ipython",
    "version": 3
   },
   "file_extension": ".py",
   "mimetype": "text/x-python",
   "name": "python",
   "nbconvert_exporter": "python",
   "pygments_lexer": "ipython3",
   "version": "3.5.1"
  }
 },
 "nbformat": 4,
 "nbformat_minor": 0
}
