{
 "cells": [
  {
   "cell_type": "markdown",
   "metadata": {},
   "source": [
    "6-2-FeatGram\n",
    "=====================\n",
    "Agenda\n",
    "---------------------\n",
    "1. Questions\n",
    "2. Teams\n",
    "3. i[RAT](#RAT)\n",
    "4. t[RAT](#RAT)\n",
    "5. Review [RAT](#RAT-Solutions)\n",
    "6. Pair [Exercise](#6.1-Exercise)\n",
    "7. Presentations\n",
    "8. Peer Review\n",
    "9. [Next Time](#Before-Tomorrow)"
   ]
  },
  {
   "cell_type": "markdown",
   "metadata": {},
   "source": [
    "#### FAQs\n",
    "- ?x = \"placeholder\", not a single variable\n",
    "- (1) is a cache; D.R.Y.\n",
    "- emphasis simplification during unify()\n",
    "- `unify()` is hard for students, they should practice. The demo should have been fleshed out."
   ]
  },
  {
   "cell_type": "markdown",
   "metadata": {},
   "source": [
    "###  Teams\n",
    "\n",
    "| A       | B       |\n",
    "|:-------:|:-------:|\n",
    "| Xiaolin Wang\t\t|\tAndrew Huang\t\t|\t\n",
    "| Michael Thorne\t|\tBrandon Fetters\t\t|\n",
    "| Balaji Vijayan\t|\tKatherine Aquino\t|\n",
    "| Alexander Barriga\t|\tMichael Mansour\t\t|\n",
    "\n",
    "RAT\n",
    "---------------------\n",
    "Consider the feature structures shown below:\n",
    "```python\n",
    "\n",
    "fs1 = nltk.FeatStruct(\"\"\"[A = ?x,\n",
    "                          B = [C = ?x]]\"\"\")\n",
    "fs2 = nltk.FeatStruct(\"\"\"[B = [D = d]]\"\"\")\n",
    "fs3 = nltk.FeatStruct(\"\"\"[B = [C = d]]\"\"\")\n",
    "fs4 = nltk.FeatStruct(\"\"\"[A = (1)[B = b],\n",
    "                          C -> (1)]\"\"\")\n",
    "fs5 = nltk.FeatStruct(\"\"\"[A = (1)[D = ?x],\n",
    "                          C = [E -> (1),\n",
    "                               F = ?x] ]\"\"\")\n",
    "fs6 = nltk.FeatStruct(\"\"\"[A = [D = d]]\"\"\")\n",
    "fs7 = nltk.FeatStruct(\"\"\"[A = [D = d], \n",
    "                          C = [F = [D = d]]]\"\"\")\n",
    "fs8 = nltk.FeatStruct(\"\"\"[A = (1)[D = ?x, \n",
    "                                  G = ?x],\n",
    "                          C = [B = ?x, \n",
    "                               E -> (1)]]\"\"\")\n",
    "fs9 = nltk.FeatStruct(\"\"\"[A = [B = b],\n",
    "                          C = [E = [G = e]]]\"\"\")\n",
    "fs10 = nltk.FeatStruct(\"\"\"[A = (1)[B = b],\n",
    "                           C -> (1)]\"\"\")\n",
    "```\n",
    "Work out on paper what the result is of the following unifications. (Hint: you might find it useful to draw the graph structures.)\n",
    "\n",
    "1. `fs1` and `fs2`\n",
    "2. `fs1` and `fs3`\n",
    "3. `fs4` and `fs5`\n",
    "4. `fs5` and `fs6`\n",
    "5. `fs5` and `fs7`\n",
    "6. `fs8` and `fs9`\n",
    "7. `fs8` and `fs10`\n",
    "\n",
    "### RAT Solutions"
   ]
  },
  {
   "cell_type": "code",
   "execution_count": 3,
   "metadata": {
    "collapsed": false
   },
   "outputs": [],
   "source": [
    "import nltk"
   ]
  },
  {
   "cell_type": "code",
   "execution_count": 28,
   "metadata": {
    "collapsed": false
   },
   "outputs": [
    {
     "name": "stdout",
     "output_type": "stream",
     "text": [
      "[ A = ?x          ]\n",
      "[                 ]\n",
      "[ B = [ C = ?x  ] ]\n",
      "[     [ D = 'd' ] ]\n"
     ]
    }
   ],
   "source": [
    "# Question 1\n",
    "fs1 = nltk.FeatStruct(\"\"\"[A = ?x,\n",
    "                          B = [C = ?x]]\"\"\")\n",
    "fs2 = nltk.FeatStruct(\"\"\"[B = [D = d]]\"\"\")\n",
    "print(fs1.unify(fs2))  # Append fs2"
   ]
  },
  {
   "cell_type": "code",
   "execution_count": 37,
   "metadata": {
    "collapsed": false
   },
   "outputs": [
    {
     "name": "stdout",
     "output_type": "stream",
     "text": [
      "[ A = 'd'         ]\n",
      "[                 ]\n",
      "[ B = [ C = 'd' ] ]\n"
     ]
    }
   ],
   "source": [
    "# Question 2\n",
    "fs1 = nltk.FeatStruct(\"\"\"[A = ?x,\n",
    "                          B = [C = ?x]]\"\"\")\n",
    "fs3 = nltk.FeatStruct(\"\"\"[B = [C = d]]\"\"\")\n",
    "print fs1.unify(fs3) # Replace"
   ]
  },
  {
   "cell_type": "code",
   "execution_count": 38,
   "metadata": {
    "collapsed": false
   },
   "outputs": [
    {
     "name": "stdout",
     "output_type": "stream",
     "text": [
      "[         [ B = 'b'  ] ]\n",
      "[ A = (1) [ D = ?x   ] ]\n",
      "[         [ E -> (1) ] ]\n",
      "[         [ F = ?x   ] ]\n",
      "[                      ]\n",
      "[ C -> (1)             ]\n"
     ]
    }
   ],
   "source": [
    "# Question 3\n",
    "fs4 = nltk.FeatStruct(\"\"\"[A = (1)[B = b],\n",
    "                          C -> (1)]\"\"\")\n",
    "fs5 = nltk.FeatStruct(\"\"\"[A = (1)[D = ?x],\n",
    "                          C = [E -> (1),\n",
    "                               F = ?x] ]\"\"\")\n",
    "print fs4.unify(fs5) # Remap, then simplify"
   ]
  },
  {
   "cell_type": "code",
   "execution_count": 39,
   "metadata": {
    "collapsed": false
   },
   "outputs": [
    {
     "name": "stdout",
     "output_type": "stream",
     "text": [
      "[ A = (1) [ D = 'd' ] ]\n",
      "[                     ]\n",
      "[ C = [ E -> (1) ]    ]\n",
      "[     [ F = 'd'  ]    ]\n"
     ]
    }
   ],
   "source": [
    "# Question 4\n",
    "fs5 = nltk.FeatStruct(\"\"\"[A = (1)[D = ?x],\n",
    "                          C = [E -> (1),\n",
    "                               F = ?x] ]\"\"\")\n",
    "fs6 = nltk.FeatStruct(\"\"\"[A = [D = d]]\"\"\")\n",
    "print fs5.unify(fs6) # Replace"
   ]
  },
  {
   "cell_type": "code",
   "execution_count": 4,
   "metadata": {
    "collapsed": false
   },
   "outputs": [
    {
     "name": "stdout",
     "output_type": "stream",
     "text": [
      "None\n"
     ]
    }
   ],
   "source": [
    "# Question 5\n",
    "fs5 = nltk.FeatStruct(\"\"\"[A = (1)[D = ?x],\n",
    "                          C = [E -> (1),\n",
    "                               F = ?x] ]\"\"\")\n",
    "fs7 = nltk.FeatStruct(\"\"\"[A = [D = d], \n",
    "                          C = [F = [D = d]]]\"\"\")\n",
    "print fs5.unify(fs7) # Inconsistent feature structures \n",
    "\n",
    "# F -> D -> ?x & F -> ?x; incomplatinet feature path"
   ]
  },
  {
   "cell_type": "code",
   "execution_count": 36,
   "metadata": {
    "collapsed": false
   },
   "outputs": [
    {
     "name": "stdout",
     "output_type": "stream",
     "text": [
      "[ A = (1) [ D = 'd' ]     ]\n",
      "[                         ]\n",
      "[     [ E -> (1)        ] ]\n",
      "[     [                 ] ]\n",
      "[ C = [ F = [ D = 'd' ] ] ]\n",
      "[     [                 ] ]\n",
      "[     [ z = 'd'         ] ]\n"
     ]
    }
   ],
   "source": [
    "# Make Question 5 pass\n",
    "fs5 = nltk.FeatStruct(\"\"\"[A = (1)[D = ?x],\n",
    "                          C = [E -> (1),\n",
    "                               z = ?x] ]\"\"\")\n",
    "fs7 = nltk.FeatStruct(\"\"\"[A = [D = d], \n",
    "                          C = [F = [D = d]]]\"\"\")\n",
    "print fs5.unify(fs7) "
   ]
  },
  {
   "cell_type": "code",
   "execution_count": 41,
   "metadata": {
    "collapsed": false
   },
   "outputs": [
    {
     "name": "stdout",
     "output_type": "stream",
     "text": [
      "[         [ B = 'b' ] ]\n",
      "[ A = (1) [ D = 'e' ] ]\n",
      "[         [ G = 'e' ] ]\n",
      "[                     ]\n",
      "[ C = [ B = 'e'  ]    ]\n",
      "[     [ E -> (1) ]    ]\n"
     ]
    }
   ],
   "source": [
    "# Question 6\n",
    "fs8 = nltk.FeatStruct(\"\"\"[A = (1)[D = ?x, \n",
    "                                  G = ?x],\n",
    "                          C = [B = ?x, \n",
    "                               E -> (1)] ]\"\"\")\n",
    "fs9 = nltk.FeatStruct(\"\"\"[A = [B = b],\n",
    "                          C = [E = [G = e]]]\"\"\")\n",
    "print fs8.unify(fs9) # Map A; Un-nest C; Simplify"
   ]
  },
  {
   "cell_type": "code",
   "execution_count": 42,
   "metadata": {
    "collapsed": false
   },
   "outputs": [
    {
     "name": "stdout",
     "output_type": "stream",
     "text": [
      "[         [ B = 'b'  ] ]\n",
      "[ A = (1) [ D = 'b'  ] ]\n",
      "[         [ E -> (1) ] ]\n",
      "[         [ G = 'b'  ] ]\n",
      "[                      ]\n",
      "[ C -> (1)             ]\n"
     ]
    }
   ],
   "source": [
    "# Question 7\n",
    "fs8 = nltk.FeatStruct(\"\"\"[A = (1)[D = ?x, \n",
    "                                  G = ?x],\n",
    "                          C = [B = ?x, \n",
    "                               E -> (1)] ]\"\"\")\n",
    "fs10 = nltk.FeatStruct(\"\"\"[A = (1)[B = b],\n",
    "                           C -> (1)]\"\"\")\n",
    "print fs8.unify(fs10) # #Map ?x to all values in fs10; Simplify"
   ]
  },
  {
   "cell_type": "markdown",
   "metadata": {},
   "source": [
    "Before Tomorrow\n",
    "---------------------\n",
    "+ Review chapters [8](http://www.nltk.org/book_1ed/ch08.html) [and](http://www.nltk.org/book_1ed/ch08-extras.html) [9](http://www.nltk.org/book_1ed/ch09.html) of _Natural Language Processing with Python_\n",
    "+ Watch:\n",
    "    - [Lexicalization of PCFGs](https://class.coursera.org/nlp/lecture/170)\n",
    "    - [Charniak's Model](https://class.coursera.org/nlp/lecture/171)\n",
    "    - [PCFG Independence Assumptions](https://class.coursera.org/nlp/lecture/172)\n",
    "    - [The Return of Unlexicalized PCFGs](https://class.coursera.org/nlp/lecture/173)\n",
    "    - [Latent Variable PCFGs](https://class.coursera.org/nlp/lecture/174)"
   ]
  }
 ],
 "metadata": {
  "kernelspec": {
   "display_name": "Python 2",
   "language": "python",
   "name": "python2"
  },
  "language_info": {
   "codemirror_mode": {
    "name": "ipython",
    "version": 2
   },
   "file_extension": ".py",
   "mimetype": "text/x-python",
   "name": "python",
   "nbconvert_exporter": "python",
   "pygments_lexer": "ipython2",
   "version": "2.7.10"
  }
 },
 "nbformat": 4,
 "nbformat_minor": 0
}
