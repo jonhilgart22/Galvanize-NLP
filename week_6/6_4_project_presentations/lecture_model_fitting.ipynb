{
 "cells": [
  {
   "cell_type": "markdown",
   "metadata": {
    "slideshow": {
     "slide_type": "slide"
    }
   },
   "source": [
    "Machine Learning: High level implementation\n",
    "------\n",
    "![](http://sorenandersson.com/wp-content/uploads/2013/07/Cant-see-the-forest-for-the-trees-680x233.jpg)"
   ]
  },
  {
   "cell_type": "markdown",
   "metadata": {
    "slideshow": {
     "slide_type": "slide"
    }
   },
   "source": [
    "By The End Of This Session You Should Be Able To:\n",
    "----\n",
    "\n",
    "- Describe the goal of machine learning\n",
    "- Diagram pipelines to achieve that goal\n",
    "- Architect a system to implement machine learning pipelines"
   ]
  },
  {
   "cell_type": "markdown",
   "metadata": {
    "slideshow": {
     "slide_type": "slide"
    }
   },
   "source": [
    "What is the goal of machine learning?\n",
    "-----"
   ]
  },
  {
   "cell_type": "markdown",
   "metadata": {
    "slideshow": {
     "slide_type": "fragment"
    }
   },
   "source": [
    "Create a system that learns from data to predict the future\n",
    "\n"
   ]
  },
  {
   "cell_type": "markdown",
   "metadata": {
    "slideshow": {
     "slide_type": "fragment"
    }
   },
   "source": [
    "(__DO NOT__ just describe the past)"
   ]
  },
  {
   "cell_type": "markdown",
   "metadata": {
    "collapsed": false,
    "slideshow": {
     "slide_type": "slide"
    }
   },
   "source": [
    "Machine learning is hard\n",
    "------"
   ]
  },
  {
   "cell_type": "markdown",
   "metadata": {
    "slideshow": {
     "slide_type": "fragment"
    }
   },
   "source": [
    "\n",
    "![](https://media.giphy.com/media/7LG6PqAubrWBa/giphy.gif)"
   ]
  },
  {
   "cell_type": "markdown",
   "metadata": {
    "collapsed": true,
    "slideshow": {
     "slide_type": "slide"
    }
   },
   "source": [
    "![](http://ai.stanford.edu/~zayd/images/lattice.png)"
   ]
  },
  {
   "cell_type": "markdown",
   "metadata": {
    "slideshow": {
     "slide_type": "slide"
    }
   },
   "source": [
    "![](http://ai.stanford.edu/~zayd/images/lattice2.png)\n",
    "\n",
    "[Source](images/http://ai.stanford.edu/~zayd/why-is-machine-learning-hard.html)"
   ]
  },
  {
   "cell_type": "markdown",
   "metadata": {
    "slideshow": {
     "slide_type": "slide"
    }
   },
   "source": [
    "Elements of a Machine learning system\n",
    "-----\n",
    "- Data \n",
    "- Features\n",
    "- Model\n",
    "- Hyperparameters (Parameters of a Model)\n",
    "- Evaluation metrics"
   ]
  },
  {
   "cell_type": "markdown",
   "metadata": {
    "slideshow": {
     "slide_type": "slide"
    }
   },
   "source": [
    "![](images/ml_pipeline_large.png)"
   ]
  },
  {
   "cell_type": "markdown",
   "metadata": {
    "slideshow": {
     "slide_type": "slide"
    }
   },
   "source": [
    "![](images/nlp.png)"
   ]
  },
  {
   "cell_type": "markdown",
   "metadata": {
    "slideshow": {
     "slide_type": "slide"
    }
   },
   "source": [
    "![](http://pipeline.consumerenergyalliance.org/cms/wp-content/uploads/2016/07/pipelines-1024x490.jpg)"
   ]
  },
  {
   "cell_type": "markdown",
   "metadata": {
    "slideshow": {
     "slide_type": "slide"
    }
   },
   "source": [
    "```python\n",
    "pipeline = Pipeline(data=data_raw,\n",
    "                    stages=[preprocess, \n",
    "                            featurize, \n",
    "                            model, \n",
    "                            evaluate])\n"
   ]
  },
  {
   "cell_type": "markdown",
   "metadata": {
    "slideshow": {
     "slide_type": "fragment"
    }
   },
   "source": [
    "For each stage, enumerate possible options"
   ]
  },
  {
   "cell_type": "code",
   "execution_count": null,
   "metadata": {
    "collapsed": true,
    "slideshow": {
     "slide_type": "fragment"
    }
   },
   "outputs": [],
   "source": [
    "```python\n",
    "preprocess = Preprocess(tokenize=True,\n",
    "                        stemmer=\"Porter\",\n",
    "                        remove_punctuation=True)\n",
    "```"
   ]
  },
  {
   "cell_type": "markdown",
   "metadata": {
    "slideshow": {
     "slide_type": "slide"
    }
   },
   "source": [
    "ML Pipelines\n",
    "-----\n",
    "\n",
    "| Preprocess | Features | Model |\n",
    "|:-------:|:------:|:-------:|\n",
    "| tokenize | boolean count  | Naive Bayes  |  \n",
    "| stem | word count| Logistic Regression | \n",
    "| remove punctuation | tf-idf | Random Forest | \n",
    "| | | SVM |"
   ]
  },
  {
   "cell_type": "markdown",
   "metadata": {
    "slideshow": {
     "slide_type": "slide"
    }
   },
   "source": [
    "Models (between & within)\n",
    "----\n",
    "\n",
    "| Naive Bayes | Logistic Regression | Random Forest | SVM | \n",
    "|:-------:|:------:|:-------:|:------:|\n",
    "| None | regularization type (None, L1, L2, Elastic Net) | n estimators | kernel |\n",
    "| None | | max features | soft or had |"
   ]
  },
  {
   "cell_type": "markdown",
   "metadata": {
    "slideshow": {
     "slide_type": "slide"
    }
   },
   "source": [
    "![](https://upload.wikimedia.org/wikipedia/commons/thumb/a/a6/Rubik's_cube.svg/220px-Rubik's_cube.svg.png)"
   ]
  },
  {
   "cell_type": "markdown",
   "metadata": {
    "slideshow": {
     "slide_type": "slide"
    }
   },
   "source": [
    "![](https://www.rubiks.com/images/content/207/5x5.png)"
   ]
  },
  {
   "cell_type": "markdown",
   "metadata": {
    "slideshow": {
     "slide_type": "slide"
    }
   },
   "source": [
    "![](http://thumbs3.ebaystatic.com/d/l225/m/melVhWsKANUiaKOG9q1l-mA.jpg)"
   ]
  },
  {
   "cell_type": "markdown",
   "metadata": {
    "slideshow": {
     "slide_type": "slide"
    }
   },
   "source": [
    "![](http://d2ydh70d4b5xgv.cloudfront.net/images/9/0/megaminx-high-speed-rubik-s-twist-magic-cube-puzzle-toy-free-shipping-from-usa-c5909e8811c2ef9cd4e166beb996bce6.jpg)"
   ]
  },
  {
   "cell_type": "markdown",
   "metadata": {
    "slideshow": {
     "slide_type": "slide"
    }
   },
   "source": [
    "How to find the right machine learning parameters\n",
    "------"
   ]
  },
  {
   "cell_type": "markdown",
   "metadata": {
    "slideshow": {
     "slide_type": "fragment"
    }
   },
   "source": [
    "1. Package defaults\n",
    "1. Your best guess\n",
    "1. Grid Search\n",
    "1. Random Search"
   ]
  },
  {
   "cell_type": "markdown",
   "metadata": {
    "slideshow": {
     "slide_type": "slide"
    }
   },
   "source": [
    "Start Here\n",
    "-----\n",
    "\n",
    "http://scikit-learn.org/stable/modules/grid_search.html"
   ]
  },
  {
   "cell_type": "markdown",
   "metadata": {
    "slideshow": {
     "slide_type": "slide"
    }
   },
   "source": [
    "Sidebar\n",
    "------\n",
    "\n",
    "What is the goal of programming (aka, how you tell bad programming from good)?"
   ]
  },
  {
   "cell_type": "markdown",
   "metadata": {
    "slideshow": {
     "slide_type": "fragment"
    }
   },
   "source": [
    "Reduce complexity"
   ]
  },
  {
   "cell_type": "markdown",
   "metadata": {
    "slideshow": {
     "slide_type": "slide"
    }
   },
   "source": [
    "Summary\n",
    "-----\n",
    "\n",
    "- The goal of ML is generalize, either sample, space (domain), or time\n",
    "- ML has many moving parts, thus easy to break\n",
    "- Focus on: Data, Features, Models (breadth & depth), Evaluation Metrics\n",
    "- Build programming pipelines!"
   ]
  },
  {
   "cell_type": "markdown",
   "metadata": {
    "slideshow": {
     "slide_type": "slide"
    }
   },
   "source": [
    "<br>\n",
    "<br> \n",
    "<br>\n",
    "\n",
    "----"
   ]
  },
  {
   "cell_type": "markdown",
   "metadata": {
    "collapsed": true,
    "slideshow": {
     "slide_type": "slide"
    }
   },
   "source": [
    "Further Study\n",
    "------\n",
    "\n",
    "Using Bayesian Optimization to Tune Machine Learning Models:\n",
    "\n",
    "- http://www.slideshare.net/SessionsEvents/scott-clark-cofounder-and-ceo-sigopt-at-mlconf-sf-2016\n",
    "- https://www.youtube.com/watch?v=J6UcAdH54RE&list=PLrbAIdPI69Pi88waiIv8gZ3agEU_hBaVM&index=13"
   ]
  },
  {
   "cell_type": "markdown",
   "metadata": {
    "slideshow": {
     "slide_type": "slide"
    }
   },
   "source": [
    "![](images/state.png)"
   ]
  },
  {
   "cell_type": "markdown",
   "metadata": {
    "slideshow": {
     "slide_type": "slide"
    }
   },
   "source": [
    "![](images/estimate.png)"
   ]
  },
  {
   "cell_type": "markdown",
   "metadata": {
    "slideshow": {
     "slide_type": "slide"
    }
   },
   "source": [
    "Try this https://github.com/fmfn/BayesianOptimization\n",
    "\n",
    "Here is an example: https://github.com/mpearmain/BayesBoost/blob/master/examples/sklearn_example.py"
   ]
  },
  {
   "cell_type": "markdown",
   "metadata": {
    "slideshow": {
     "slide_type": "slide"
    }
   },
   "source": [
    "<br>\n",
    "<br> \n",
    "<br>\n",
    "\n",
    "----"
   ]
  }
 ],
 "metadata": {
  "celltoolbar": "Slideshow",
  "kernelspec": {
   "display_name": "Python 3",
   "language": "python",
   "name": "python3"
  },
  "language_info": {
   "codemirror_mode": {
    "name": "ipython",
    "version": 3
   },
   "file_extension": ".py",
   "mimetype": "text/x-python",
   "name": "python",
   "nbconvert_exporter": "python",
   "pygments_lexer": "ipython3",
   "version": "3.5.2"
  }
 },
 "nbformat": 4,
 "nbformat_minor": 1
}
