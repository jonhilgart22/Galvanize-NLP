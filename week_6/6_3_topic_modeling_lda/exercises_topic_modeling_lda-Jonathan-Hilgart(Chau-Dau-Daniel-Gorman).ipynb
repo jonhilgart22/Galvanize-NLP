{
 "cells": [
  {
   "cell_type": "markdown",
   "metadata": {},
   "source": [
    "---\n",
    "Exercises: Topic Modeling with LDA\n",
    "----\n",
    "\n",
    "![](http://www.thewrap.com/wp-content/uploads/2015/12/New-York-Times-paper.jpg)\n",
    "\n",
    "Today you will apply Latent Dirichlet allocation (LDA) to a corpus of NYT articles to discover latent topics. \n",
    "_Yes - the same the NYT articles_ as previously."
   ]
  },
  {
   "cell_type": "markdown",
   "metadata": {},
   "source": [
    "Load the data\n",
    "----\n",
    "\n",
    "Same as last lab"
   ]
  },
  {
   "cell_type": "code",
   "execution_count": 49,
   "metadata": {
    "collapsed": true
   },
   "outputs": [],
   "source": [
    "import pandas as pd\n",
    "import numpy as np\n",
    "from sklearn.feature_extraction.text import TfidfVectorizer\n",
    "from sklearn.decomposition import NMF"
   ]
  },
  {
   "cell_type": "code",
   "execution_count": 2,
   "metadata": {
    "collapsed": true
   },
   "outputs": [],
   "source": [
    "df = pd.read_pickle(\"../../corpora/nyt_articles.pkl\")"
   ]
  },
  {
   "cell_type": "markdown",
   "metadata": {},
   "source": [
    "Vectorize data\n",
    "-----\n",
    "\n",
    "Let's use tf-idf \n",
    "\n",
    "[It is \"fight\" whether that is \"theoretical\" correct. But it works better in practice](https://groups.google.com/forum/#!topic/gensim/OESG1jcaXaQ)"
   ]
  },
  {
   "cell_type": "code",
   "execution_count": 58,
   "metadata": {
    "collapsed": true
   },
   "outputs": [],
   "source": [
    "tfidf = TfidfVectorizer(max_features=2000,max_df=.95,min_df=2,stop_words='english')\n",
    "tfidf_matrix = tfidf.fit_transform(df.content)"
   ]
  },
  {
   "cell_type": "code",
   "execution_count": 59,
   "metadata": {
    "collapsed": false
   },
   "outputs": [
    {
     "data": {
      "text/plain": [
       "<1405x2000 sparse matrix of type '<class 'numpy.float64'>'\n",
       "\twith 181848 stored elements in Compressed Sparse Row format>"
      ]
     },
     "execution_count": 59,
     "metadata": {},
     "output_type": "execute_result"
    }
   ],
   "source": [
    "tfidf_matrix"
   ]
  },
  {
   "cell_type": "code",
   "execution_count": null,
   "metadata": {
    "collapsed": true
   },
   "outputs": [],
   "source": []
  },
  {
   "cell_type": "code",
   "execution_count": null,
   "metadata": {
    "collapsed": true
   },
   "outputs": [],
   "source": []
  },
  {
   "cell_type": "markdown",
   "metadata": {},
   "source": [
    "---\n",
    "Scikit-learn's LDA\n",
    "------\n",
    "\n",
    "Use [Scikit-learn's LDA](http://scikit-learn.org/stable/modules/generated/sklearn.decomposition.LatentDirichletAllocation.html) to find topics."
   ]
  },
  {
   "cell_type": "code",
   "execution_count": 60,
   "metadata": {
    "collapsed": false
   },
   "outputs": [],
   "source": [
    "from sklearn.decomposition.online_lda import LatentDirichletAllocation"
   ]
  },
  {
   "cell_type": "code",
   "execution_count": 82,
   "metadata": {
    "collapsed": true
   },
   "outputs": [],
   "source": [
    "lda = LatentDirichletAllocation(n_topics=15,\n",
    "                                max_iter=5,\n",
    "                                learning_method='online',\n",
    "                                learning_offset=50.,\n",
    "                                random_state=42)\n",
    "lda.fit(tfidf_matrix)"
   ]
  },
  {
   "cell_type": "code",
   "execution_count": 83,
   "metadata": {
    "collapsed": false
   },
   "outputs": [
    {
     "data": {
      "text/plain": [
       "LatentDirichletAllocation(batch_size=128, doc_topic_prior=None,\n",
       "             evaluate_every=-1, learning_decay=0.7,\n",
       "             learning_method='online', learning_offset=50.0,\n",
       "             max_doc_update_iter=100, max_iter=5, mean_change_tol=0.001,\n",
       "             n_jobs=1, n_topics=15, perp_tol=0.1, random_state=42,\n",
       "             topic_word_prior=None, total_samples=1000000.0, verbose=0)"
      ]
     },
     "execution_count": 83,
     "metadata": {},
     "output_type": "execute_result"
    }
   ],
   "source": []
  },
  {
   "cell_type": "markdown",
   "metadata": {},
   "source": [
    "Write a function to print topics and words:\n",
    "\n",
    "It should look like this:  \n",
    "`Topic #0:\n",
    "said mr year game new season team like time government state people ms company percent republican work million city party`\n",
    "\n",
    "<br>\n",
    "<details><summary>\n",
    "Click here for a hint…\n",
    "</summary>\n",
    "lda.components_   \n",
    "tf_feature_names = vectorizer.get_feature_names()\n",
    "</details>\n",
    "\n",
    "<br>\n",
    "<details><summary>\n",
    "Click here for the solution…\n",
    "</summary>\n",
    "```\n",
    "def print_top_words(model, feature_names, n_top_words=20):\n",
    "    for topic_idx, topic in enumerate(model.components_):\n",
    "        print(\"Topic #%d:\" % topic_idx)\n",
    "        print(\" \".join([feature_names[i]\n",
    "                        for i in topic.argsort()[:-n_top_words - 1:-1]]))\n",
    "    print()\n",
    "    \n",
    "print(\"Topics in LDA model:\")\n",
    "tf_feature_names = vectorizer.get_feature_names()\n",
    "print_top_words(lda, tf_feature_names)\n",
    "```\n",
    "</details>"
   ]
  },
  {
   "cell_type": "code",
   "execution_count": 84,
   "metadata": {
    "collapsed": false
   },
   "outputs": [
    {
     "data": {
      "text/plain": [
       "array([[ 0.14516064,  0.13677774,  0.14248406, ...,  0.12968623,\n",
       "         0.13319879,  0.14408009],\n",
       "       [ 0.11829146,  0.13801389,  0.13182979, ...,  0.13226887,\n",
       "         0.11760735,  0.14014631],\n",
       "       [ 1.16823389,  3.98714025,  0.85274236, ...,  0.23356189,\n",
       "         3.10296438,  0.78222631],\n",
       "       ..., \n",
       "       [ 0.13332768,  0.13273025,  0.12754854, ...,  0.12070242,\n",
       "         0.12528881,  0.11884131],\n",
       "       [ 0.13558369,  0.13571441,  0.1286715 , ...,  0.14539968,\n",
       "         0.15015816,  0.12436963],\n",
       "       [ 0.17839324,  0.14199029,  0.13585885, ...,  0.13436469,\n",
       "         0.12590932,  0.13920161]])"
      ]
     },
     "execution_count": 84,
     "metadata": {},
     "output_type": "execute_result"
    }
   ],
   "source": [
    "# each row is a topic each column is a word e\n",
    "lda.components_"
   ]
  },
  {
   "cell_type": "code",
   "execution_count": 85,
   "metadata": {
    "collapsed": false
   },
   "outputs": [],
   "source": [
    "def lda_topic(tfidf,lda,number_of_words):\n",
    "    for count,topic in enumerate(lda.components_):\n",
    "        top_indicies = np.argsort(topic)[::-1][:number_of_words]\n",
    "        term_ranking = [tfidf.get_feature_names()[i] for i in top_indicies]\n",
    "        print('Topic {} :'.format(count+1),term_ranking)\n",
    "\n",
    "   \n",
    "    "
   ]
  },
  {
   "cell_type": "code",
   "execution_count": 90,
   "metadata": {
    "collapsed": false
   },
   "outputs": [
    {
     "data": {
      "text/plain": [
       "LatentDirichletAllocation(batch_size=128, doc_topic_prior=None,\n",
       "             evaluate_every=-1, learning_decay=0.7,\n",
       "             learning_method='online', learning_offset=50.0,\n",
       "             max_doc_update_iter=100, max_iter=5, mean_change_tol=0.001,\n",
       "             n_jobs=1, n_topics=10, perp_tol=0.1, random_state=42,\n",
       "             topic_word_prior=None, total_samples=1000000.0, verbose=0)"
      ]
     },
     "execution_count": 90,
     "metadata": {},
     "output_type": "execute_result"
    }
   ],
   "source": [
    "lda_2 = LatentDirichletAllocation(n_topics=10,\n",
    "                                max_iter=5,\n",
    "                                learning_method='online',\n",
    "                                learning_offset=50.,\n",
    "                                random_state=42)\n",
    "lda_2.fit(tfidf_matrix)"
   ]
  },
  {
   "cell_type": "code",
   "execution_count": 95,
   "metadata": {
    "collapsed": false
   },
   "outputs": [
    {
     "data": {
      "text/plain": [
       "LatentDirichletAllocation(batch_size=128, doc_topic_prior=None,\n",
       "             evaluate_every=-1, learning_decay=0.7,\n",
       "             learning_method='online', learning_offset=50.0,\n",
       "             max_doc_update_iter=100, max_iter=5, mean_change_tol=0.001,\n",
       "             n_jobs=1, n_topics=5, perp_tol=0.1, random_state=42,\n",
       "             topic_word_prior=None, total_samples=1000000.0, verbose=0)"
      ]
     },
     "execution_count": 95,
     "metadata": {},
     "output_type": "execute_result"
    }
   ],
   "source": [
    "lda_3 = LatentDirichletAllocation(n_topics=5,\n",
    "                                max_iter=5,\n",
    "                                learning_method='online',\n",
    "                                learning_offset=50.,\n",
    "                                random_state=42)\n",
    "lda_3.fit(tfidf_matrix)"
   ]
  },
  {
   "cell_type": "code",
   "execution_count": 99,
   "metadata": {
    "collapsed": false
   },
   "outputs": [
    {
     "name": "stdout",
     "output_type": "stream",
     "text": [
      "Topic 1 : ['said', 'mr', 'government', 'state', 'year', 'people', 'new', 'republican', 'united', 'percent', 'president', 'party', 'country', 'company', 'official', 'house', 'american', 'iran', 'law', 'health']\n",
      "Topic 2 : ['oil', 'cup', 'said', 'bank', 'russian', 'film', 'judge', 'company', 'gas', 'team', 'entertainment', 'million', 'nation', 'report', 'world', 'financial', 'tuesday', 'month', 'victim', 'determined']\n",
      "Topic 3 : ['game', 'team', 'season', 'said', 'player', 'league', 'yankee', 'yard', 'cup', 'play', 'coach', 'win', 'rivera', 'second', 'year', 'run', 'inning', 'time', 'hit', 'race']\n",
      "Topic 4 : ['said', 'game', 'pettitte', 'rivera', 'girardi', 'teacher', 'team', 'season', 'school', 'brand', 'yankee', 'year', 'giant', 'sept', 'coughlin', 'series', 'national', 'street', 'government', 'like']\n",
      "Topic 5 : ['mr', 'music', 'art', 'ms', 'song', 'dance', 'work', 'new', 'opera', 'like', 'night', 'film', 'band', 'museum', 'ballet', 'artist', 'orchestra', 'performance', 'album', 'series']\n"
     ]
    }
   ],
   "source": [
    "lda_topic(tfidf,lda_3,20)\n",
    "    "
   ]
  },
  {
   "cell_type": "code",
   "execution_count": 94,
   "metadata": {
    "collapsed": false
   },
   "outputs": [
    {
     "name": "stdout",
     "output_type": "stream",
     "text": [
      "Topic 1 : ['dawn', 'party', 'golden', 'judge', 'mr', 'ms', 'government', 'said', 'art', 'court']\n",
      "Topic 2 : ['pakistan', 'said', 'drug', 'state', 'attack', 'exchange', 'mr', 'federal', 'people', 'rodriguez']\n",
      "Topic 3 : ['sept', 'housing', 'student', 'israel', 'israeli', 'editor', 'iran', 'income', 'iranian', '2013']\n",
      "Topic 4 : ['republican', 'house', 'senate', 'cruz', 'boehner', 'health', 'reid', 'shutdown', 'vote', 'senator']\n",
      "Topic 5 : ['mr', 'said', 'government', 'obama', 'republican', 'korea', 'song', 'tax', 'debt', 'president']\n",
      "Topic 6 : ['gun', 'jackson', 'republican', 'energy', 'draft', 'death', 'mr', 'way', 'room', 'palestinian']\n",
      "Topic 7 : ['percent', 'bank', 'said', 'brand', 'european', 'sugar', 'rate', 'market', 'party', 'google']\n",
      "Topic 8 : ['iran', 'mr', 'rouhani', 'said', 'united', 'attack', 'syria', 'nuclear', 'weapon', 'iranian']\n",
      "Topic 9 : ['said', 'mr', 'year', 'game', 'new', 'season', 'team', 'like', 'time', 'government']\n",
      "Topic 10 : ['vatican', 'said', 'radio', 'game', 'injured', 'championship', 'italy', 'viewer', 'sunday', 'hockey']\n"
     ]
    }
   ],
   "source": [
    "lda_topic(tfidf,lda_2,10)"
   ]
  },
  {
   "cell_type": "code",
   "execution_count": 98,
   "metadata": {
    "collapsed": false
   },
   "outputs": [
    {
     "name": "stdout",
     "output_type": "stream",
     "text": [
      "Topic 1 : ['iran', 'mr', 'rouhani', 'iranian', 'obama', 'nuclear', 'war', 'rebel', 'israel', 'said', 'president', 'military', 'government', 'netanyahu', 'radio']\n",
      "Topic 2 : ['golden', 'energy', 'murder', 'party', 'government', 'dawn', 'jackson', 'mr', 'islamist', 'qaeda', 'minister', 'member', 'al', 'nation', 'said']\n",
      "Topic 3 : ['game', 'season', 'team', 'yankee', 'said', 'player', 'league', 'yard', 'play', 'rivera', 'win', 'coach', 'inning', 'cup', 'second']\n",
      "Topic 4 : ['government', 'religious', 'drug', 'said', 'default', 'french', 'sunday', 'republican', 'ranger', 'shutdown', 'company', 'wing', 'album', 'social', 'report']\n",
      "Topic 5 : ['mr', 'said', 'year', 'new', 'government', 'state', 'people', 'like', 'ms', 'republican', 'united', 'company', 'percent', 'american', 'president']\n",
      "Topic 6 : ['boat', 'republican', 'said', 'president', 'people', 'new', 'girardi', 'gun', 'teacher', 'continuing', 'killed', 'mr', 'green', 'government', 'attack']\n",
      "Topic 7 : ['jet', 'said', 'game', 'ms', 'johnson', 'entertainment', 'smith', 'mr', 'time', 'turnover', 'nbc', 'shot', 'season', 'jewish', 'week']\n",
      "Topic 8 : ['said', 'mr', 'million', 'channel', 'like', 'hour', 'exchange', 'tax', 'state', 'service', 'producer', 'people', 'time', 'new', 'run']\n",
      "Topic 9 : ['said', 'race', 'team', 'season', 'year', 'gas', 'mr', 'chicago', 'second', 'jet', 'european', 'election', 'adding', 'fuel', 'sugar']\n",
      "Topic 10 : ['italy', 'internet', 'broken', 'mr', 'police', 'china', 'sunday', 'government', 'employee', 'injured', 'winner', 'everybody', 'knee', 'department', 'american']\n",
      "Topic 11 : ['debt', 'said', 'ceiling', 'test', 'book', 'president', 'bank', 'child', 'water', 'texas', 'street', 'drug', 'shutdown', 'brown', 'soccer']\n",
      "Topic 12 : ['touchdown', 'yard', 'hockey', 'threw', 'scored', 'game', 'devil', 'beat', 'florida', 'google', 'train', 'pittsburgh', 'playoff', 'spieth', 'season']\n",
      "Topic 13 : ['brand', 'miller', 'said', 'year', 'time', 'airport', 'oil', 'golf', 'number', 'houston', 'season', 'yard', 'original', 'hole', 'new']\n",
      "Topic 14 : ['game', 'air', 'india', 'shabab', 'government', 'party', 'college', 'yard', 'income', 'need', 'follow', 'mr', 'play', 'lot', 'team']\n",
      "Topic 15 : ['republican', 'said', 'house', 'mr', 'law', 'art', 'judge', 'party', 'state', 'texas', 'ms', 'health', 'government', 'song', '000']\n"
     ]
    }
   ],
   "source": [
    "lda_topic(tfidf,lda,15)"
   ]
  },
  {
   "cell_type": "code",
   "execution_count": 74,
   "metadata": {
    "collapsed": false
   },
   "outputs": [
    {
     "data": {
      "text/plain": [
       "(10, 2000)"
      ]
     },
     "execution_count": 74,
     "metadata": {},
     "output_type": "execute_result"
    }
   ],
   "source": [
    "np.shape(lda.components_)"
   ]
  },
  {
   "cell_type": "code",
   "execution_count": 75,
   "metadata": {
    "collapsed": false
   },
   "outputs": [
    {
     "name": "stdout",
     "output_type": "stream",
     "text": [
      "Topic:  1  Top 10 terms : ['mr', 'said', 'court', 'judge', 'case', 'state', 'justice', 'prison', 'official', 'lawyer']\n",
      "Topic:  2  Top 10 terms : ['game', 'season', 'team', 'yard', 'said', 'league', 'player', 'touchdown', 'coach', 'play']\n",
      "Topic:  3  Top 10 terms : ['iran', 'rouhani', 'nuclear', 'iranian', 'mr', 'obama', 'israel', 'united', 'netanyahu', 'president']\n",
      "Topic:  4  Top 10 terms : ['republican', 'house', 'health', 'government', 'care', 'senate', 'shutdown', 'obama', 'law', 'democrat']\n",
      "Topic:  5  Top 10 terms : ['attack', 'said', 'syria', 'killed', 'official', 'security', 'government', 'chemical', 'people', 'mall']\n",
      "Topic:  6  Top 10 terms : ['percent', 'company', 'said', 'market', 'year', 'million', 'bank', 'china', 'rate', 'price']\n",
      "Topic:  7  Top 10 terms : ['yankee', 'rivera', 'pettitte', 'inning', 'game', 'season', 'girardi', 'jeter', 'baseball', 'rodriguez']\n",
      "Topic:  8  Top 10 terms : ['ms', 'music', 'art', 'work', 'new', 'like', 'dance', 'mr', 'song', 'opera']\n",
      "Topic:  9  Top 10 terms : ['party', 'merkel', 'germany', 'european', 'german', 'europe', 'ms', 'election', 'euro', 'government']\n",
      "Topic:  10  Top 10 terms : ['cup', 'race', 'team', 'oracle', 'zealand', 'boat', 'said', 'club', 'america', 'racing']\n"
     ]
    }
   ],
   "source": [
    "#NFM\n",
    "\n",
    "model_3 = NMF(init=\"nndsvd\",\n",
    "            n_components=10,\n",
    "            max_iter=200)\n",
    "\n",
    "W_3 = model_3.fit_transform(tfidf_matrix)\n",
    "H_3 = model_3.components_\n",
    "\n",
    "terms = [\"\"] * len(tfidf.vocabulary_)\n",
    "for term in tfidf.vocabulary_.keys():\n",
    "    terms[tfidf.vocabulary_[term]] = term\n",
    "terms = np.array(terms)\n",
    "\n",
    "\n",
    "for c,topic in enumerate(H_3):\n",
    "    count = 0\n",
    "    current_terms = []\n",
    "    for term in  terms[np.argsort(topic)[::-1]]:\n",
    "        #print(term)\n",
    "        current_terms.append(term)\n",
    "        count+=1\n",
    "        if count ==10:\n",
    "            break\n",
    "            \n",
    "           \n",
    "    print('Topic: ',c+1,' Top 10 terms :',current_terms)\n",
    "            \n",
    "    "
   ]
  },
  {
   "cell_type": "code",
   "execution_count": 66,
   "metadata": {
    "collapsed": true
   },
   "outputs": [],
   "source": [
    "# NFM is a better match for the topics , the words choosen seem to make more sense.\n",
    "# LDA is including words like MR and MS that add not context to the given topic"
   ]
  },
  {
   "cell_type": "code",
   "execution_count": 93,
   "metadata": {
    "collapsed": false
   },
   "outputs": [
    {
     "data": {
      "text/plain": [
       "array(['Sports', 'U.S.', 'Business Day', 'World', 'Opinion', 'Arts',\n",
       "       'Travel', 'Magazine', 'Real Estate', 'Books'], dtype=object)"
      ]
     },
     "execution_count": 93,
     "metadata": {},
     "output_type": "execute_result"
    }
   ],
   "source": [
    "df.section_name.unique()"
   ]
  },
  {
   "cell_type": "markdown",
   "metadata": {},
   "source": [
    "Experiment with the number of topics. What patterns emerge?\n",
    "\n",
    "What is the best number of topics?"
   ]
  },
  {
   "cell_type": "code",
   "execution_count": 100,
   "metadata": {
    "collapsed": true
   },
   "outputs": [],
   "source": [
    "# It seems that 5 is the best number of topics based upon the similarity of the words for LDA"
   ]
  },
  {
   "cell_type": "markdown",
   "metadata": {},
   "source": [
    "How do the LDA topics compare to the NMF topics?"
   ]
  },
  {
   "cell_type": "markdown",
   "metadata": {},
   "source": [
    "#LDA topics\n",
    "- Topic 1 : ['dawn', 'party', 'golden', 'judge', 'mr', 'ms', 'government', 'said', 'art', 'court']\n",
    "- Topic 2 : ['pakistan', 'said', 'drug', 'state', 'attack', 'exchange', 'mr', 'federal', 'people', 'rodriguez']\n",
    "- Topic 3 : ['sept', 'housing', 'student', 'israel', 'israeli', 'editor', 'iran', 'income', 'iranian', '2013']\n",
    "- Topic 4 : ['republican', 'house', 'senate', 'cruz', 'boehner', 'health', 'reid', 'shutdown', 'vote', 'senator']- \n",
    "- Topic 5 : ['mr', 'said', 'government', 'obama', 'republican', 'korea', 'song', 'tax', 'debt', 'president']\n",
    "- Topic 6 : ['gun', 'jackson', 'republican', 'energy', 'draft', 'death', 'mr', 'way', 'room', 'palestinian']- \n",
    "- Topic 7 : ['percent', 'bank', 'said', 'brand', 'european', 'sugar', 'rate', 'market', 'party', 'google']\n",
    "- Topic 8 : ['iran', 'mr', 'rouhani', 'said', 'united', 'attack', 'syria', 'nuclear', 'weapon', 'iranian']\n",
    "- Topic 9 : ['said', 'mr', 'year', 'game', 'new', 'season', 'team', 'like', 'time', 'government']\n",
    "- Topic 10 : ['vatican', 'said', 'radio', 'game', 'injured', 'championship', 'italy', 'viewer', 'sunday', 'hockey']"
   ]
  },
  {
   "cell_type": "markdown",
   "metadata": {
    "collapsed": true
   },
   "source": [
    "# The LDA topics appear to be less intuitive to understand compared to the NMF topics.\n",
    "1:Government Party\n",
    "2: Iran deal\n",
    "3: student protests in Iran\n",
    "4: Obama Presidency\n",
    "5: Republicans and the govenment\n",
    "6: Gun deaths in Palenstine\n",
    "7: Bank recovery in Europe\n",
    "8: Iran deal\n",
    "9: Sports Season\n",
    "10: Pope Francis"
   ]
  },
  {
   "cell_type": "markdown",
   "metadata": {},
   "source": [
    "### LDA with 5 topics\n",
    "\n",
    "\n",
    "Topic 1 : ['said', 'mr', 'government', 'state', 'year', 'people', 'new', 'republican', 'united', 'percent', 'president', 'party', 'country', 'company', 'official', 'house', 'american', 'iran', 'law', 'health']\n",
    "Topic 2 : ['oil', 'cup', 'said', 'bank', 'russian', 'film', 'judge', 'company', 'gas', 'team', 'entertainment', 'million', 'nation', 'report', 'world', 'financial', 'tuesday', 'month', 'victim', 'determined']\n",
    "Topic 3 : ['game', 'team', 'season', 'said', 'player', 'league', 'yankee', 'yard', 'cup', 'play', 'coach', 'win', 'rivera', 'second', 'year', 'run', 'inning', 'time', 'hit', 'race']\n",
    "Topic 4 : ['said', 'game', 'pettitte', 'rivera', 'girardi', 'teacher', 'team', 'season', 'school', 'brand', 'yankee', 'year', 'giant', 'sept', 'coughlin', 'series', 'national', 'street', 'government', 'like']\n",
    "Topic 5 : ['mr', 'music', 'art', 'ms', 'song', 'dance', 'work', 'new', 'opera', 'like', 'night', 'film', 'band', 'museum', 'ballet', 'artist', 'orchestra', 'performance', 'album', 'series']\n",
    "\n",
    "\n",
    "- 1: Government\n",
    "- 2: International\n",
    "- 3: Sports\n",
    "- 4: Sports\n",
    "- 5: Arts/Culture"
   ]
  },
  {
   "cell_type": "markdown",
   "metadata": {},
   "source": [
    "How do the LDA topics compare to the NYT section labels?"
   ]
  },
  {
   "cell_type": "code",
   "execution_count": 101,
   "metadata": {
    "collapsed": true
   },
   "outputs": [],
   "source": [
    "#:LDA finds fewer topics than NYT has"
   ]
  },
  {
   "cell_type": "markdown",
   "metadata": {
    "collapsed": true
   },
   "source": [
    "---\n",
    "Challenge Exercises\n",
    "----"
   ]
  },
  {
   "cell_type": "markdown",
   "metadata": {},
   "source": [
    "1) Try the same analysis with the `lda` package.\n",
    "\n",
    "[RTFM](http://pythonhosted.org/lda/)"
   ]
  },
  {
   "cell_type": "code",
   "execution_count": 5,
   "metadata": {
    "collapsed": false
   },
   "outputs": [
    {
     "name": "stdout",
     "output_type": "stream",
     "text": [
      "Collecting lda\n",
      "  Downloading lda-1.0.4-cp35-cp35m-macosx_10_6_intel.macosx_10_9_intel.macosx_10_9_x86_64.macosx_10_10_intel.macosx_10_10_x86_64.whl (373kB)\n",
      "Requirement already satisfied: pbr>=0.6 in /Users/brian/anaconda3/envs/nlp/lib/python3.5/site-packages (from lda)\n",
      "Requirement already satisfied: numpy<2.0,>=1.6.1 in /Users/brian/anaconda3/envs/nlp/lib/python3.5/site-packages (from lda)\n",
      "Installing collected packages: lda\n",
      "Successfully installed lda-1.0.4\n"
     ]
    }
   ],
   "source": [
    "try:\n",
    "    import lda\n",
    "except ImportError:\n",
    "    import pip\n",
    "    pip.main(['install', 'lda'])"
   ]
  },
  {
   "cell_type": "code",
   "execution_count": null,
   "metadata": {
    "collapsed": true
   },
   "outputs": [],
   "source": []
  },
  {
   "cell_type": "markdown",
   "metadata": {},
   "source": [
    "2) Try with [genism](https://radimrehurek.com/gensim/tut2.html)"
   ]
  },
  {
   "cell_type": "code",
   "execution_count": null,
   "metadata": {
    "collapsed": true
   },
   "outputs": [],
   "source": []
  },
  {
   "cell_type": "markdown",
   "metadata": {},
   "source": [
    "3) Try the same analysis with [GraphLab's API](https://dato.com/products/create/docs/generated/graphlab.topic_model.create.html)\n",
    "\n",
    "Check out this notebook for a great [lda visualization](http://nbviewer.jupyter.org/github/bmabey/pyLDAvis/blob/master/notebooks/GraphLab.ipynb#topic=2&lambda=0.41&term=).\n",
    "\n",
    "__NOTE:__ GraphLab only supports Python 2.7"
   ]
  },
  {
   "cell_type": "code",
   "execution_count": null,
   "metadata": {
    "collapsed": true
   },
   "outputs": [],
   "source": [
    "%%bash\n",
    "# Install graphlab\n",
    "sudo pip2 install graphlab-create\n",
    "echo '[Product]\n",
    "product_key=D868-7DBE-AC8A-0343-45F3-E250-34B4-24CA' > ~/.graphlab/config"
   ]
  },
  {
   "cell_type": "code",
   "execution_count": null,
   "metadata": {
    "collapsed": true
   },
   "outputs": [],
   "source": [
    "import graphlab as gl"
   ]
  },
  {
   "cell_type": "code",
   "execution_count": null,
   "metadata": {
    "collapsed": true
   },
   "outputs": [],
   "source": []
  },
  {
   "cell_type": "markdown",
   "metadata": {
    "collapsed": true
   },
   "source": [
    "<br>\n",
    "<br>\n",
    "<br>\n",
    "\n",
    "---"
   ]
  }
 ],
 "metadata": {
  "anaconda-cloud": {},
  "kernelspec": {
   "display_name": "Python [default]",
   "language": "python",
   "name": "python3"
  },
  "language_info": {
   "codemirror_mode": {
    "name": "ipython",
    "version": 3
   },
   "file_extension": ".py",
   "mimetype": "text/x-python",
   "name": "python",
   "nbconvert_exporter": "python",
   "pygments_lexer": "ipython3",
   "version": "3.5.2"
  }
 },
 "nbformat": 4,
 "nbformat_minor": 0
}
