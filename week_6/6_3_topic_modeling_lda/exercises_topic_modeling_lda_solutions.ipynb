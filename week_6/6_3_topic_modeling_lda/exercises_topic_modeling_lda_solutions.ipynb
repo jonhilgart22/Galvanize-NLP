{
 "cells": [
  {
   "cell_type": "code",
   "execution_count": 3,
   "metadata": {
    "collapsed": true
   },
   "outputs": [],
   "source": [
    "reset -fs"
   ]
  },
  {
   "cell_type": "code",
   "execution_count": 4,
   "metadata": {
    "collapsed": true
   },
   "outputs": [],
   "source": [
    "import pandas as pd"
   ]
  },
  {
   "cell_type": "code",
   "execution_count": 5,
   "metadata": {
    "collapsed": true
   },
   "outputs": [],
   "source": [
    "# Load data\n",
    "df = pd.read_pickle(\"../../../corpora/nyt_articles.pkl\")"
   ]
  },
  {
   "cell_type": "code",
   "execution_count": 6,
   "metadata": {
    "collapsed": true
   },
   "outputs": [],
   "source": [
    "from sklearn.feature_extraction.text import TfidfVectorizer"
   ]
  },
  {
   "cell_type": "code",
   "execution_count": 7,
   "metadata": {
    "collapsed": false
   },
   "outputs": [],
   "source": [
    "vectorizer = TfidfVectorizer(max_df=0.95,  \n",
    "                            min_df=2,\n",
    "                            max_features=1000,\n",
    "                            stop_words='english')\n",
    "\n",
    "vectorized = vectorizer.fit_transform(df.content)"
   ]
  },
  {
   "cell_type": "code",
   "execution_count": 8,
   "metadata": {
    "collapsed": true
   },
   "outputs": [],
   "source": [
    "from sklearn.decomposition import LatentDirichletAllocation\n"
   ]
  },
  {
   "cell_type": "code",
   "execution_count": 27,
   "metadata": {
    "collapsed": false
   },
   "outputs": [],
   "source": [
    "lda = LatentDirichletAllocation(n_topics=10,\n",
    "                                max_iter=5,\n",
    "                                learning_method='online',\n",
    "                                learning_offset=50.,\n",
    "                                random_state=42)"
   ]
  },
  {
   "cell_type": "code",
   "execution_count": 28,
   "metadata": {
    "collapsed": false
   },
   "outputs": [
    {
     "data": {
      "text/plain": [
       "LatentDirichletAllocation(batch_size=128, doc_topic_prior=None,\n",
       "             evaluate_every=-1, learning_decay=0.7,\n",
       "             learning_method='online', learning_offset=50.0,\n",
       "             max_doc_update_iter=100, max_iter=5, mean_change_tol=0.001,\n",
       "             n_jobs=1, n_topics=10, perp_tol=0.1, random_state=42,\n",
       "             topic_word_prior=None, total_samples=1000000.0, verbose=0)"
      ]
     },
     "execution_count": 28,
     "metadata": {},
     "output_type": "execute_result"
    }
   ],
   "source": [
    "lda.fit(vectorized)"
   ]
  },
  {
   "cell_type": "code",
   "execution_count": 29,
   "metadata": {
    "collapsed": false
   },
   "outputs": [],
   "source": [
    "def print_top_words(model, feature_names, n_top_words=20):\n",
    "    for topic_n, topic in enumerate(model.components_, 1):\n",
    "        print(\"Topic #{}:\".format(topic_n))\n",
    "        print(\" \".join([feature_names[i]\n",
    "                        for i in topic.argsort()[:-n_top_words - 1:-1]]))\n",
    "    print()\n",
    "    "
   ]
  },
  {
   "cell_type": "code",
   "execution_count": 30,
   "metadata": {
    "collapsed": false
   },
   "outputs": [
    {
     "name": "stdout",
     "output_type": "stream",
     "text": [
      "Topics in LDA model:\n",
      "Topic #1:\n",
      "republican cruz debt house shutdown percent senate bond government investor senator ceiling stock congress said democrat vote boehner market spending\n",
      "Topic #2:\n",
      "twitter follow visit web view site international work police chinese internet merkel party europe pakistan mr attack said government golden\n",
      "Topic #3:\n",
      "mr said new ms like music work year art people time sept company city york world life night series school\n",
      "Topic #4:\n",
      "game season team said player league yankee cup yard play coach year win second run rivera inning time race sunday\n",
      "Topic #5:\n",
      "korea south north oil said music festival government award defense military giant economy gas game nuclear mr cut meeting new\n",
      "Topic #6:\n",
      "song race film bank mr said music new year art like time government design history people republican political work ms\n",
      "Topic #7:\n",
      "miller drug federal county rule law department said court final judge state race employee group year vice nbc company play\n",
      "Topic #8:\n",
      "mr said government state republican year party united official people iran country president law percent new court obama american health\n",
      "Topic #9:\n",
      "mr opera drug wednesday starting bomb clinton live said lawyer big republican network united concert access meeting court case man\n",
      "Topic #10:\n",
      "syria chemical weapon mr syrian state said united government council resolution nation russia security coalition group gas opposition war al\n",
      "\n"
     ]
    }
   ],
   "source": [
    "print(\"Topics in LDA model:\")\n",
    "tf_feature_names = vectorizer.get_feature_names()\n",
    "print_top_words(lda, tf_feature_names)"
   ]
  },
  {
   "cell_type": "markdown",
   "metadata": {
    "collapsed": true
   },
   "source": [
    "-----\n",
    "\n",
    "Explore Document-by-Topic"
   ]
  },
  {
   "cell_type": "code",
   "execution_count": 31,
   "metadata": {
    "collapsed": false
   },
   "outputs": [
    {
     "data": {
      "text/plain": [
       "1405"
      ]
     },
     "execution_count": 31,
     "metadata": {},
     "output_type": "execute_result"
    }
   ],
   "source": [
    "lda.transform(vectorized).shape[0] # Number of documents"
   ]
  },
  {
   "cell_type": "code",
   "execution_count": 32,
   "metadata": {
    "collapsed": false
   },
   "outputs": [],
   "source": [
    "# Pick a random document\n",
    "import random\n",
    "\n",
    "doc_id = random.randint(0, lda.transform(vectorized).shape[0])"
   ]
  },
  {
   "cell_type": "code",
   "execution_count": 33,
   "metadata": {
    "collapsed": false
   },
   "outputs": [
    {
     "name": "stdout",
     "output_type": "stream",
     "text": [
      "For Document: The National Coalition Against Censorship disputes claims that fantasy violence leads to antisocial behavior. Readers are invited to respond.\n",
      "----------\n",
      "topic number: 1 \t weight: 0.013\n",
      "topic number: 2 \t weight: 0.013\n",
      "topic number: 3 \t weight: 0.88\n",
      "topic number: 4 \t weight: 0.013\n",
      "topic number: 5 \t weight: 0.013\n",
      "topic number: 6 \t weight: 0.013\n",
      "topic number: 7 \t weight: 0.013\n",
      "topic number: 8 \t weight: 0.013\n",
      "topic number: 9 \t weight: 0.013\n",
      "topic number: 10 \t weight: 0.013\n"
     ]
    }
   ],
   "source": [
    "print(\"For Document:\", df.snippet[doc_id])\n",
    "print(\"-\"*10)\n",
    "for topic_number, topic_weighting in enumerate(lda.transform(vectorized)[doc_id], 1):\n",
    "    print(\"topic number: {} \\t weight: {:.2}\".format(topic_number, topic_weighting))"
   ]
  },
  {
   "cell_type": "code",
   "execution_count": 35,
   "metadata": {
    "collapsed": false
   },
   "outputs": [
    {
     "data": {
      "text/plain": [
       "'to editor recent article sunday review “does medium violence lead real thing aug. 25 claim “a consensus exposure medium violence linked actual violent behavior.” the claim fantasy violence cause real violence debated endlessly not long ago question came supreme court far finding consensus court found evidence support “not compelling.” at best show correlation “minuscule real-world effects” indistinguishable effect watching “cartoons starring bug bunny road runner.” even study article refers equivocal the 2013 pediatrics article studied “excessive” television watching new zealand child noted “we know program viewed therefore certain viewing violence contributes antisocial behavior.” it also said “the relationship television viewing negative outcome may complicated simple violence-begets-violence model.” good point given crime rate fallen medium consumption increased there may good reason parent limit amount time kid spend front tv computer screen game console but justify dispensing half-truth effect popular entertainment diverts attention real cause violence fuel impulse censor effort ban restrict creative imaginative diverting material novel film comic book popular music video game always relied oversimplified claim “caused” problem ranging juvenile delinquency sexual promiscuity these argument proved groundless seem foolish hindsight think however drab place world would prevailed joan bertin new york sept. 20 2013 the writer executive director national coalition against censorship editors’ note we invite reader respond briefly thursday sunday dialogue we plan publish response rejoinder sunday review e-mail letter nytimes.com to editor recent article sunday review “does medium violence lead real thing aug. 25 claim “a consensus exposure medium violence linked actual violent behavior.” the claim fantasy violence cause real violence debated endlessly not long ago question came supreme court far finding consensus court found evidence support “not compelling.” at best show correlation “minuscule real-world effects” indistinguishable effect watching “cartoons starring bug bunny road runner.” even study article refers equivocal the 2013 pediatrics article studied “excessive” television watching new zealand child noted “we know program viewed therefore certain viewing violence contributes antisocial behavior.” it also said “the relationship television viewing negative outcome may complicated simple violence-begets-violence model.” good point given crime rate fallen medium consumption increased there may good reason parent limit amount time kid spend front tv computer screen game console but justify dispensing half-truth effect popular entertainment diverts attention real cause violence fuel impulse censor effort ban restrict creative imaginative diverting material novel film comic book popular music video game always relied oversimplified claim “caused” problem ranging juvenile delinquency sexual promiscuity these argument proved groundless seem foolish hindsight think however drab place world would prevailed joan bertin new york sept. 20 2013 the writer executive director national coalition against censorship editors’ note we invite reader respond briefly thursday sunday dialogue we plan publish response rejoinder sunday review e-mail letter nytimes.com'"
      ]
     },
     "execution_count": 35,
     "metadata": {},
     "output_type": "execute_result"
    }
   ],
   "source": [
    "df.content[doc_id]"
   ]
  },
  {
   "cell_type": "code",
   "execution_count": null,
   "metadata": {
    "collapsed": true
   },
   "outputs": [],
   "source": []
  }
 ],
 "metadata": {
  "kernelspec": {
   "display_name": "Python 3",
   "language": "python",
   "name": "python3"
  },
  "language_info": {
   "codemirror_mode": {
    "name": "ipython",
    "version": 3
   },
   "file_extension": ".py",
   "mimetype": "text/x-python",
   "name": "python",
   "nbconvert_exporter": "python",
   "pygments_lexer": "ipython3",
   "version": "3.5.2"
  }
 },
 "nbformat": 4,
 "nbformat_minor": 0
}
