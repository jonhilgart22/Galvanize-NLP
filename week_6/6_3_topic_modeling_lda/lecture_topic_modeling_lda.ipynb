{
 "cells": [
  {
   "cell_type": "markdown",
   "metadata": {
    "slideshow": {
     "slide_type": "slide"
    }
   },
   "source": [
    "---\n",
    "Latent Dirichlet allocation (LDA)\n",
    "----\n",
    "\n",
    "![](images/lda_overview.jpg)"
   ]
  },
  {
   "cell_type": "markdown",
   "metadata": {
    "slideshow": {
     "slide_type": "slide"
    }
   },
   "source": [
    "----\n",
    "By the end of this session, you should be able to:\n",
    "---\n",
    "- Explain what is Latent Dirichlet allocation (LDA) \n",
    "- Draw the LDA model with parameters and connection to text\n",
    "- Discuss how to evaluate LDA and its limitations\n",
    "- Apply LDA to find topics in a text corpus"
   ]
  },
  {
   "cell_type": "markdown",
   "metadata": {
    "slideshow": {
     "slide_type": "slide"
    }
   },
   "source": [
    "Suppose you have the following set of sentences:\n",
    "\n",
    "1. I ate a banana and spinach smoothie for breakfast.  \n",
    "2. I like to eat broccoli and bananas.  \n",
    "3. Chinchillas and kittens are cute.  \n",
    "4. My sister adopted a kitten yesterday.  \n",
    "5. Look at this cute hamster munching on a piece of broccoli.  \n",
    "\n",
    "Sentences 1 and 2: 100% Topic A  \n",
    "Sentences 3 and 4: 100% Topic B  \n",
    "Sentence 5: 60% Topic A, 40% Topic B  \n",
    "\n",
    "Topic A: 30% broccoli, 15% bananas, 10% breakfast, 10% munching, ...   \n",
    "(at which point, you could interpret topic A to be about food)  \n",
    "Topic B: 20% chinchillas, 20% kittens, 20% cute, 15% hamster, ...  \n",
    "(at which point, you could interpret topic B to be about cute animals)  \n",
    "\n",
    "[Source](https://www.quora.com/What-is-a-good-explanation-of-Latent-Dirichlet-Allocation)"
   ]
  },
  {
   "cell_type": "markdown",
   "metadata": {
    "slideshow": {
     "slide_type": "slide"
    }
   },
   "source": [
    "Suppose you have the following set of sentences:\n",
    "\n",
    "1. I ate a banana and spinach smoothie for breakfast.  \n",
    "2. I like to eat broccoli and bananas.  \n",
    "3. Chinchillas and kittens are cute.  \n",
    "4. My sister adopted a kitten yesterday.  \n",
    "5. Look at this cute hamster munching on a piece of broccoli.  \n",
    "\n",
    "Topic A: 30% broccoli, 15% bananas, 10% breakfast, 10% munching, ...   \n",
    "(at which point, you could interpret topic A to be about food)  \n",
    "Topic B: 20% chinchillas, 20% kittens, 20% cute, 15% hamster, ...  \n",
    "(at which point, you could interpret topic B to be about cute animals)  "
   ]
  },
  {
   "cell_type": "markdown",
   "metadata": {
    "collapsed": true,
    "slideshow": {
     "slide_type": "slide"
    }
   },
   "source": [
    "---\n",
    "What is LDA?\n",
    "---\n",
    "\n",
    "Latent Dirichlet allocation (LDA) a way of automatically discovering topics.\n",
    "\n",
    "LDA is a generative probabilistic model for collections of discrete data. Text data is an ideal candidate for LDA (but not the only domain).\n",
    "\n",
    "LDA models each document as a “mixture” of a subset of the topics.\n",
    "\n",
    "[Source](http://www.jmlr.org/papers/volume3/blei03a/blei03a.pdf)"
   ]
  },
  {
   "cell_type": "markdown",
   "metadata": {
    "slideshow": {
     "slide_type": "slide"
    }
   },
   "source": [
    "![](images/probablistic_models.png)"
   ]
  },
  {
   "cell_type": "markdown",
   "metadata": {
    "slideshow": {
     "slide_type": "slide"
    }
   },
   "source": [
    "Generative model review\n",
    "---\n",
    "\n",
    "Generative model means that model observable data values, typically given some hidden parameters.\n",
    "\n",
    "Create a joint model of the form p(y,x) = p(y)p(x|y) then condition on observed features x thereby deriving the class posterior p(y|x)\n",
    "\n",
    "![](images/gen_model.png)"
   ]
  },
  {
   "cell_type": "markdown",
   "metadata": {
    "slideshow": {
     "slide_type": "slide"
    }
   },
   "source": [
    "![](images/gen_model_image.png)"
   ]
  },
  {
   "cell_type": "markdown",
   "metadata": {
    "slideshow": {
     "slide_type": "slide"
    }
   },
   "source": [
    "![](images/gen_model_text.png)"
   ]
  },
  {
   "cell_type": "markdown",
   "metadata": {
    "collapsed": false,
    "slideshow": {
     "slide_type": "slide"
    }
   },
   "source": [
    "---\n",
    "Check for understanding\n",
    "---\n",
    "\n",
    "What are other discrete data that LDA could be applied to?\n"
   ]
  },
  {
   "cell_type": "markdown",
   "metadata": {
    "slideshow": {
     "slide_type": "fragment"
    }
   },
   "source": [
    "- E-commerce (words=purchases, documents=households, topics = categories)  \n",
    "- Music  \n",
    "- Genes\n",
    "- Images  "
   ]
  },
  {
   "cell_type": "markdown",
   "metadata": {
    "collapsed": true,
    "slideshow": {
     "slide_type": "slide"
    }
   },
   "source": [
    "LDA Assumptions\n",
    "----\n",
    "\n",
    "In reality, we __only__ observe the documents (aka, the data).\n",
    "We must infere other structures, (aka, the parameters) and compute their distribution conditioned on the documents:"
   ]
  },
  {
   "cell_type": "markdown",
   "metadata": {
    "slideshow": {
     "slide_type": "fragment"
    }
   },
   "source": [
    "`p(topics, proportions, assignments|documents)`"
   ]
  },
  {
   "cell_type": "markdown",
   "metadata": {
    "slideshow": {
     "slide_type": "slide"
    }
   },
   "source": [
    "LDA representations\n",
    "-----\n",
    "\n",
    "1. Plate model\n",
    "1. Written description\n",
    "1. Applied example\n",
    "1. Formal equations\n",
    "1. Pictural\n",
    "\n",
    "(Pick your favorite)"
   ]
  },
  {
   "cell_type": "markdown",
   "metadata": {
    "slideshow": {
     "slide_type": "slide"
    }
   },
   "source": [
    "![](images/lda_plate2.png)"
   ]
  },
  {
   "cell_type": "markdown",
   "metadata": {
    "slideshow": {
     "slide_type": "fragment"
    }
   },
   "source": [
    "LDA assumes:\n",
    "- There are K topics shared by the collection.\n",
    "- Each document exhibits the topics with different proportions. \n",
    "- Each word is drawn from one topic in each document.\n",
    "- We discover the structure that best explain a corpus."
   ]
  },
  {
   "cell_type": "markdown",
   "metadata": {
    "collapsed": true,
    "slideshow": {
     "slide_type": "slide"
    }
   },
   "source": [
    "---\n",
    "3 Levels of LDA\n",
    "---\n",
    "\n",
    "![](images/lda_plate2.png)\n",
    "\n",
    "1. The parameters α and β are corpus-level parameters, assumed to be sampled once in the process of generating a corpus.   \n",
    "2. The variables $θ_d$ are document-level variables, sampled once per document.  \n",
    "3. The variables $z_dn$ and $w_dn$ are word-level variables and are sampled once for each word."
   ]
  },
  {
   "cell_type": "markdown",
   "metadata": {
    "slideshow": {
     "slide_type": "slide"
    }
   },
   "source": [
    "![](images/joint.png)"
   ]
  },
  {
   "cell_type": "markdown",
   "metadata": {
    "collapsed": true,
    "slideshow": {
     "slide_type": "slide"
    }
   },
   "source": [
    "---\n",
    "LDA Example\n",
    "----\n",
    "\n",
    "![](images/lda_example.png)"
   ]
  },
  {
   "cell_type": "markdown",
   "metadata": {
    "collapsed": true,
    "slideshow": {
     "slide_type": "slide"
    }
   },
   "source": [
    "Deeper Dive into LDA\n",
    "---\n",
    "\n",
    "LDA represents documents as mixtures of topics that spit out words with certain probabilities. \n",
    "\n",
    "![](images/lda_text.png)\n",
    "\n",
    "\n",
    "\n",
    "\n"
   ]
  },
  {
   "cell_type": "markdown",
   "metadata": {
    "slideshow": {
     "slide_type": "slide"
    }
   },
   "source": [
    "![](images/lda_model.png)"
   ]
  },
  {
   "cell_type": "markdown",
   "metadata": {
    "slideshow": {
     "slide_type": "slide"
    }
   },
   "source": [
    "Plate sidebar\n",
    "----\n",
    "![](images/plate_diagrams.png)"
   ]
  },
  {
   "cell_type": "markdown",
   "metadata": {
    "slideshow": {
     "slide_type": "slide"
    }
   },
   "source": [
    "LDA as a generative model\n",
    "------\n",
    "\n",
    "Documents are produced in the following way: \n",
    "\n",
    "- Creating a document decide on the number of words N the document will have (say, according to a Poisson distribution)"
   ]
  },
  {
   "cell_type": "markdown",
   "metadata": {
    "slideshow": {
     "slide_type": "fragment"
    }
   },
   "source": [
    "- Choose a topic mixture for the document (according to a Dirichlet distribution over a fixed set of K topics). For example, a document is 1/3 one topic and 2/3 other topic"
   ]
  },
  {
   "cell_type": "markdown",
   "metadata": {
    "slideshow": {
     "slide_type": "slide"
    }
   },
   "source": [
    "- Generate each word in the document by:\n",
    "    1. Picking a topic (according to the multinomial distribution that you sampled above). For example, you might pick one topic with 1/3 probability and another topic with 2/3 probability.\n",
    "    3. Then using the topic to generate the word itself (according to the topic's multinomial distribution). For example, a food topic might output the word \"broccoli\" with 30% probability, \"bananas\" with 15% probability, ..."
   ]
  },
  {
   "cell_type": "markdown",
   "metadata": {
    "slideshow": {
     "slide_type": "fragment"
    }
   },
   "source": [
    "Assuming this generative model for a collection of documents, LDA then tries to backtrack from the documents to find a set of topics that are likely to have generated the collection."
   ]
  },
  {
   "cell_type": "markdown",
   "metadata": {
    "slideshow": {
     "slide_type": "slide"
    }
   },
   "source": [
    "Multinomial distribution\n",
    "-----\n",
    "\n"
   ]
  },
  {
   "cell_type": "markdown",
   "metadata": {
    "slideshow": {
     "slide_type": "fragment"
    }
   },
   "source": [
    "A generalization of the binomial distribution\n",
    "\n",
    "A sequence of independent, identically distributed random variables each taking k possible discrete values\n",
    "\n"
   ]
  },
  {
   "cell_type": "markdown",
   "metadata": {
    "slideshow": {
     "slide_type": "fragment"
    }
   },
   "source": [
    "![](images/multinomial.png)\n",
    "\n",
    "The probability mass for each possible combination of 2 outcomes\n",
    "\n"
   ]
  },
  {
   "cell_type": "markdown",
   "metadata": {
    "slideshow": {
     "slide_type": "slide"
    }
   },
   "source": [
    "Dirichlet Distribution\n",
    "-----\n",
    "\n",
    "The Dirichlet distribution is a probability distribution over the space of multinomial distributions.\n",
    "\n",
    "We have introduced one level of indirection in the model, instead of saying directly what generated the model, we choose the hyperparameters which dictate what probability distributions are likely to occur, and then draw samples  according to the random variables.\n",
    "\n",
    "[Source](https://www.quora.com/What-is-an-intuitive-explanation-of-the-Dirichlet-distribution)"
   ]
  },
  {
   "cell_type": "markdown",
   "metadata": {
    "slideshow": {
     "slide_type": "slide"
    }
   },
   "source": [
    "Dirichlet Distribution: Probability density function (pdf)\n",
    "-----\n",
    "\n",
    "![](images/Dirichlet-3d-panel.png)"
   ]
  },
  {
   "cell_type": "markdown",
   "metadata": {
    "slideshow": {
     "slide_type": "slide"
    }
   },
   "source": [
    "Dirichlet Distribution\n",
    "-----\n",
    "\n",
    "![](images/formula.png)\n",
    "\n",
    "- $α_i$ are parameters\n",
    "- [simplex](https://en.wikipedia.org/wiki/Simplex) is a constraint"
   ]
  },
  {
   "cell_type": "markdown",
   "metadata": {
    "slideshow": {
     "slide_type": "slide"
    }
   },
   "source": [
    "![](images/joint.png)"
   ]
  },
  {
   "cell_type": "markdown",
   "metadata": {
    "slideshow": {
     "slide_type": "slide"
    }
   },
   "source": [
    "The Generative Process\n",
    "------\n",
    "\n",
    "- For each topic 1..k:\n",
    "    - Draw a multinomial over words $β_k ~ Dir(η)$\n",
    "- For each document 1..d:\n",
    "    - Draw a multinomial over topics $Θ_d ~ Dir(α)$\n",
    "    - For each word $w_{d,n}$:\n",
    "        - Draw a topic $Z_{d,n} ~ Mult(Θ_d)$\n",
    "        - Draw a word  $w_{d,n} ~ Mult(β_{Zk_d})$\n",
    "\n",
    "Draw means sample from a distribution."
   ]
  },
  {
   "cell_type": "markdown",
   "metadata": {
    "slideshow": {
     "slide_type": "slide"
    }
   },
   "source": [
    "Geometric Interpretation of LDA\n",
    "-------\n",
    "\n",
    "![](images/geo_interpretation.png)"
   ]
  },
  {
   "cell_type": "markdown",
   "metadata": {
    "slideshow": {
     "slide_type": "slide"
    }
   },
   "source": [
    "![](images/dirichlet_wieghts.png)"
   ]
  },
  {
   "cell_type": "markdown",
   "metadata": {
    "slideshow": {
     "slide_type": "slide"
    }
   },
   "source": [
    "Evaluating LDA\n",
    "----\n",
    "\n",
    "Given that topic modeling is a version of clustering, it is more difficult and nuanced to evaluate model performance.\n",
    "\n"
   ]
  },
  {
   "cell_type": "markdown",
   "metadata": {
    "slideshow": {
     "slide_type": "fragment"
    }
   },
   "source": [
    "LDA is typically evaluated by either measuring performance on some secondary task, such as document classification or information retrieval, or by estimating the probability of unseen held-out documents given some training documents.\n",
    "\n",
    "[Source](http://mimno.infosci.cornell.edu/papers/wallach09evaluation.pdf)"
   ]
  },
  {
   "cell_type": "markdown",
   "metadata": {
    "slideshow": {
     "slide_type": "slide"
    }
   },
   "source": [
    "---\n",
    "Check for understanding\n",
    "---\n",
    "\n",
    "In what contexts would LDA __not__ work well and why?\n"
   ]
  },
  {
   "cell_type": "markdown",
   "metadata": {
    "slideshow": {
     "slide_type": "fragment"
    }
   },
   "source": [
    "- There are less than k topics in the corpus. The model will overfit.  \n",
    "- Each document is only \"truly\" about one topic.  \n",
    "- Where there are too few documents (e.g., Shakespeare’s plays)  \n",
    "- The documents are too short (e.g., tweets, queries)  \n",
    "- Document contains many topics (e.g., books)  \n",
    "[Source](http://jmlr.org/proceedings/papers/v32/tang14.pdf)\n"
   ]
  },
  {
   "cell_type": "markdown",
   "metadata": {
    "slideshow": {
     "slide_type": "slide"
    }
   },
   "source": [
    "Limitations of LDA\n",
    "---\n",
    "\n",
    "![](images/theory.jpeg)\n",
    "\n",
    "LDA works well in practice. However it lacks formal proofs and optimization guarantees on parameter estimation.\n",
    "\n",
    "[Source](http://jmlr.org/proceedings/papers/v32/tang14.pdf)"
   ]
  },
  {
   "cell_type": "markdown",
   "metadata": {
    "slideshow": {
     "slide_type": "slide"
    }
   },
   "source": [
    "---\n",
    "Building Data Products with LDA\n",
    "----\n",
    "\n",
    "OpenTable finds the sentiment (clasfication) for LDA topics (clustering) to help better understand restaurants for their users.\n",
    "\n",
    "![](images/sentiment_by_topic.png)"
   ]
  },
  {
   "cell_type": "markdown",
   "metadata": {
    "slideshow": {
     "slide_type": "slide"
    }
   },
   "source": [
    "What is topic modeling? (redux)\n",
    "----\n",
    "\n",
    "> A topic is a probability distribution over the vocabulary"
   ]
  },
  {
   "cell_type": "markdown",
   "metadata": {
    "slideshow": {
     "slide_type": "fragment"
    }
   },
   "source": [
    "or\n",
    "\n",
    "> Documents are mixtures of topics, where a topic is a probability distribution over words.\n",
    "\n",
    "per cognitive scientists Mark Steyvers and Tom Griffiths."
   ]
  },
  {
   "cell_type": "markdown",
   "metadata": {
    "slideshow": {
     "slide_type": "slide"
    }
   },
   "source": [
    "---\n",
    "Summary\n",
    "----\n",
    "\n",
    "- LDA is a graphic Bayesian unsupervised learning model to find topics in discrete data, most often text.\n",
    "- We discover the structure that best explain a corpus by:\n",
    "    - Assuming there are K topics shared by the collection.\n",
    "    - Each document exhibits the topics with different proportions.\n",
    "    - Each word is drawn from one topic.\n",
    "- LDA is practical algorithm to explore and recommend documents"
   ]
  },
  {
   "cell_type": "markdown",
   "metadata": {
    "slideshow": {
     "slide_type": "slide"
    }
   },
   "source": [
    "Disclaimer\n",
    "-----\n",
    "\n",
    "![](http://tclhost.com/ZyIat1D.gif)\n",
    "\n",
    "In __no__ way have I prepared to fully undertand LDA nor could RYO LDA.\n",
    "\n",
    "I have laid a fundation for you to understand, apply, and interpert LDA."
   ]
  },
  {
   "cell_type": "markdown",
   "metadata": {
    "slideshow": {
     "slide_type": "slide"
    }
   },
   "source": [
    "<br>\n",
    "<br> \n",
    "<br>\n",
    "\n",
    "----"
   ]
  },
  {
   "cell_type": "markdown",
   "metadata": {
    "slideshow": {
     "slide_type": "slide"
    }
   },
   "source": [
    "Discriminative model review\n",
    "---\n",
    "\n",
    "![](images/discriminative1.png)"
   ]
  },
  {
   "cell_type": "markdown",
   "metadata": {
    "slideshow": {
     "slide_type": "slide"
    }
   },
   "source": [
    "![](images/discriminative2.png)"
   ]
  },
  {
   "cell_type": "markdown",
   "metadata": {
    "collapsed": true,
    "slideshow": {
     "slide_type": "slide"
    }
   },
   "source": [
    "Further Study\n",
    "----\n",
    "\n",
    "[LDA applied to xkcd comics](http://cpsievert.github.io/projects/615/xkcd/)\n",
    "\n",
    "[Machine Learning: A Probabilistic Perspective](https://mitpress.mit.edu/books/machine-learning-0) has detailed coverage of LDA"
   ]
  },
  {
   "cell_type": "code",
   "execution_count": 1,
   "metadata": {
    "collapsed": false,
    "slideshow": {
     "slide_type": "slide"
    }
   },
   "outputs": [
    {
     "data": {
      "image/jpeg": "[encoded data removed]",
      "text/html": [
       "\n",
       "        <iframe\n",
       "            width=\"400\"\n",
       "            height=\"300\"\n",
       "            src=\"https://www.youtube.com/embed/_R66X_udxZQ\"\n",
       "            frameborder=\"0\"\n",
       "            allowfullscreen\n",
       "        ></iframe>\n",
       "        "
      ],
      "text/plain": [
       "<IPython.lib.display.YouTubeVideo at 0x106a83550>"
      ]
     },
     "execution_count": 1,
     "metadata": {},
     "output_type": "execute_result"
    }
   ],
   "source": [
    "from IPython.display import YouTubeVideo\n",
    "\n",
    "YouTubeVideo(\"_R66X_udxZQ\")"
   ]
  },
  {
   "cell_type": "markdown",
   "metadata": {
    "slideshow": {
     "slide_type": "slide"
    }
   },
   "source": [
    "- https://github.com/tdhopper/pydata-nyc-2015\n",
    "- https://github.com/tdhopper/notes-on-dirichlet-processes"
   ]
  },
  {
   "cell_type": "markdown",
   "metadata": {
    "slideshow": {
     "slide_type": "slide"
    }
   },
   "source": [
    "Model how Topics change over Time: Dynamic Topic Modeling\n",
    "-----\n",
    "\n",
    "Change Drichlet Distrubtion to Dirchelet Process.\n",
    "\n",
    "A stochastic process is a probability model used to describe phenomena that evolve over __time__ or space. \n",
    "\n",
    "More specifically, in probability theory, a stochastic process is a time sequence representing the evolution of some system represented by a variable whose change is subject to a random variation.\n",
    "\n",
    "A statistical distribution is a snapshot. A statistical process is movie.\n",
    "\n",
    "[Learn more](https://mimno.infosci.cornell.edu/info6150/readings/dynamic_topic_models.pdf)\n",
    "\n",
    "[Source](https://en.wikipedia.org/wiki/Stochastic_process)"
   ]
  },
  {
   "cell_type": "markdown",
   "metadata": {
    "slideshow": {
     "slide_type": "slide"
    }
   },
   "source": [
    "<br>\n",
    "<br>\n",
    "<br>\n",
    "\n",
    "----"
   ]
  }
 ],
 "metadata": {
  "celltoolbar": "Slideshow",
  "kernelspec": {
   "display_name": "Python 3",
   "language": "python",
   "name": "python3"
  },
  "language_info": {
   "codemirror_mode": {
    "name": "ipython",
    "version": 3
   },
   "file_extension": ".py",
   "mimetype": "text/x-python",
   "name": "python",
   "nbconvert_exporter": "python",
   "pygments_lexer": "ipython3",
   "version": "3.5.2"
  }
 },
 "nbformat": 4,
 "nbformat_minor": 0
}
