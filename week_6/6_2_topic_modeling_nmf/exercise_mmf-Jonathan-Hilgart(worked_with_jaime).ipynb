{
 "cells": [
  {
   "cell_type": "markdown",
   "metadata": {},
   "source": [
    "----\n",
    "Exercises: Topic Modeling with Non-Negative Matrix factorization (NMF) \n",
    "----\n",
    "\n",
    "Today we will apply the Non-Negative Matrix factorization (NMF) algorithm to discover latent topics in New York Times articles.\n",
    "\n",
    "![](http://1.bp.blogspot.com/_JNTikHKvtnY/S6tLPRWmxjI/AAAAAAAABcQ/-eszxl-WIQ0/s1600/New-York-Times.jpg)"
   ]
  },
  {
   "cell_type": "markdown",
   "metadata": {},
   "source": [
    "---\n",
    "Preprocessing\n",
    "----\n",
    "\n",
    "1) Read the articles.pkl file using the `df.read_pickle` function in Pandas and transform the data into a structure for sci-kit learn."
   ]
  },
  {
   "cell_type": "code",
   "execution_count": 1,
   "metadata": {
    "collapsed": true
   },
   "outputs": [],
   "source": [
    "reset -fs"
   ]
  },
  {
   "cell_type": "code",
   "execution_count": 10,
   "metadata": {
    "collapsed": true
   },
   "outputs": [],
   "source": [
    "import pandas as pd\n",
    "import numpy as np"
   ]
  },
  {
   "cell_type": "code",
   "execution_count": 4,
   "metadata": {
    "collapsed": false
   },
   "outputs": [],
   "source": [
    "df = pd.read_pickle(\"../../corpora/nyt_articles.pkl\")"
   ]
  },
  {
   "cell_type": "code",
   "execution_count": 5,
   "metadata": {
    "collapsed": false
   },
   "outputs": [
    {
     "data": {
      "text/html": [
       "<div>\n",
       "<table border=\"1\" class=\"dataframe\">\n",
       "  <thead>\n",
       "    <tr style=\"text-align: right;\">\n",
       "      <th></th>\n",
       "      <th>document_type</th>\n",
       "      <th>web_url</th>\n",
       "      <th>lead_paragraph</th>\n",
       "      <th>abstract</th>\n",
       "      <th>snippet</th>\n",
       "      <th>news_desk</th>\n",
       "      <th>word_count</th>\n",
       "      <th>source</th>\n",
       "      <th>section_name</th>\n",
       "      <th>subsection_name</th>\n",
       "      <th>_id</th>\n",
       "      <th>pub_date</th>\n",
       "      <th>print_page</th>\n",
       "      <th>headline</th>\n",
       "      <th>content</th>\n",
       "    </tr>\n",
       "  </thead>\n",
       "  <tbody>\n",
       "    <tr>\n",
       "      <th>0</th>\n",
       "      <td>article</td>\n",
       "      <td>http://www.nytimes.com/2013/10/03/sports/footb...</td>\n",
       "      <td>You would think that in a symmetric zero-sum s...</td>\n",
       "      <td>None</td>\n",
       "      <td>You would think that in a symmetric zero-sum s...</td>\n",
       "      <td>Sports</td>\n",
       "      <td>347</td>\n",
       "      <td>The New York Times</td>\n",
       "      <td>Sports</td>\n",
       "      <td>Pro Football</td>\n",
       "      <td>524d4e3a38f0d8198974001f</td>\n",
       "      <td>2013-10-03T00:00:00Z</td>\n",
       "      <td>None</td>\n",
       "      <td>Week 5 Probabilities: Why Offense Is More Impo...</td>\n",
       "      <td>the original goal building model football fore...</td>\n",
       "    </tr>\n",
       "    <tr>\n",
       "      <th>1</th>\n",
       "      <td>article</td>\n",
       "      <td>http://www.nytimes.com/2013/10/03/us/new-immig...</td>\n",
       "      <td>House Democrats on Wednesday unveiled an immig...</td>\n",
       "      <td>House Democrats unveil immigration bill that p...</td>\n",
       "      <td>House Democrats on Wednesday unveiled an immig...</td>\n",
       "      <td>National</td>\n",
       "      <td>83</td>\n",
       "      <td>The New York Times</td>\n",
       "      <td>U.S.</td>\n",
       "      <td>None</td>\n",
       "      <td>524cf71338f0d8198973ff7b</td>\n",
       "      <td>2013-10-03T00:00:00Z</td>\n",
       "      <td>21</td>\n",
       "      <td>New Immigration Bill Put Forward</td>\n",
       "      <td>house unveiled immigration bill provides path ...</td>\n",
       "    </tr>\n",
       "  </tbody>\n",
       "</table>\n",
       "</div>"
      ],
      "text/plain": [
       "  document_type                                            web_url  \\\n",
       "0       article  http://www.nytimes.com/2013/10/03/sports/footb...   \n",
       "1       article  http://www.nytimes.com/2013/10/03/us/new-immig...   \n",
       "\n",
       "                                      lead_paragraph  \\\n",
       "0  You would think that in a symmetric zero-sum s...   \n",
       "1  House Democrats on Wednesday unveiled an immig...   \n",
       "\n",
       "                                            abstract  \\\n",
       "0                                               None   \n",
       "1  House Democrats unveil immigration bill that p...   \n",
       "\n",
       "                                             snippet news_desk word_count  \\\n",
       "0  You would think that in a symmetric zero-sum s...    Sports        347   \n",
       "1  House Democrats on Wednesday unveiled an immig...  National         83   \n",
       "\n",
       "               source section_name subsection_name                       _id  \\\n",
       "0  The New York Times       Sports    Pro Football  524d4e3a38f0d8198974001f   \n",
       "1  The New York Times         U.S.            None  524cf71338f0d8198973ff7b   \n",
       "\n",
       "               pub_date print_page  \\\n",
       "0  2013-10-03T00:00:00Z       None   \n",
       "1  2013-10-03T00:00:00Z         21   \n",
       "\n",
       "                                            headline  \\\n",
       "0  Week 5 Probabilities: Why Offense Is More Impo...   \n",
       "1                   New Immigration Bill Put Forward   \n",
       "\n",
       "                                             content  \n",
       "0  the original goal building model football fore...  \n",
       "1  house unveiled immigration bill provides path ...  "
      ]
     },
     "execution_count": 5,
     "metadata": {},
     "output_type": "execute_result"
    }
   ],
   "source": [
    "# Look that data...\n",
    "# What are the columns?\n",
    "# What are the rows?\n",
    "df.head(n=2)"
   ]
  },
  {
   "cell_type": "code",
   "execution_count": 42,
   "metadata": {
    "collapsed": false
   },
   "outputs": [
    {
     "data": {
      "text/plain": [
       "0       the original goal building model football fore...\n",
       "1       house unveiled immigration bill provides path ...\n",
       "2       federal judge wednesday ordered appointment in...\n",
       "3       texas nation’s active death-penalty state turn...\n",
       "4       rafael nadal aiming end novak djokovic’s run 1...\n",
       "5       brazilian labor judge ordered suspension const...\n",
       "6       defending champion bayern munich produced powe...\n",
       "7       simone bile used superb floor vault exercise s...\n",
       "8       the devil announced cory schneider would start...\n",
       "9       lindsey vonn’s surgically repaired right knee ...\n",
       "10      the whitney handicap winner cross traffic run ...\n",
       "11      atlanta at least eight people died front tire ...\n",
       "12      farmer waste management company energy industr...\n",
       "13      juba south sudan even standard fashion model w...\n",
       "14      to editor read interest “three sister not chek...\n",
       "15      to editor re “data back bloomberg disparity wi...\n",
       "16      safety big issue american many danger persist ...\n",
       "17      a government shutdown dragged gloom mounted ja...\n",
       "18      a national zoo close congressional zoo remains...\n",
       "19      glasgow scotland in year scotland hold referen...\n",
       "20      president hassan rouhani iran wednesday dismis...\n",
       "21      glendale ariz. just three month ago phoenix co...\n",
       "22      an armed mob broke russian embassy compound li...\n",
       "23      new satellite imagery offer sign north korea r...\n",
       "24      the international criminal court issued arrest...\n",
       "25      court paris wednesday threw lawsuit claimed il...\n",
       "26      in mid-1990s baseball added division series pl...\n",
       "27      california jury decided wednesday michael jack...\n",
       "28      washington debate federal government shutdown ...\n",
       "29      pedigree matter maybe pet spouse television cr...\n",
       "                              ...                        \n",
       "1375    united nation prime minister benjamin netanyah...\n",
       "1376    by tuesday morning leadership failure speaker ...\n",
       "1377    london he tall mean provocative big-game winne...\n",
       "1378    twenty month ago eli manning giant won super b...\n",
       "1379    million american visited new online health ins...\n",
       "1380    minneapolis osmo vanska resigned tuesday music...\n",
       "1381    washington if symbol tuesday america’s pent-up...\n",
       "1382    beirut lebanon an advance team organization ch...\n",
       "1383    global investor reacted calmly tuesday governm...\n",
       "1384    onibury england near england’s border wale sch...\n",
       "1385    arlington tex the first person david price loo...\n",
       "1386    when bmw i3 finally roll year europe next year...\n",
       "1387    to editor re “health insurance exchange scramb...\n",
       "1388    khartoum sudan the worst week violent unrest c...\n",
       "1389    among 12- 17-year-olds 47 percent girl 34 perc...\n",
       "1390    pittsburgh it natural cincinnati red first pla...\n",
       "1391    the federal reserve confounded bond market las...\n",
       "1392    rome for outside italy assumed era silvio berl...\n",
       "1393    greenburgh n.y. it didn’t take long steve mill...\n",
       "1394    washington two senior marine corp general orde...\n",
       "1395    following president obama’s remark white house...\n",
       "1396    richmond va. in music business still talk “lar...\n",
       "1397    london jobless briton could forced community w...\n",
       "1398    kabul afghanistan so many people buried alive ...\n",
       "1399    washington neither president obama prime minis...\n",
       "1400    washington flurry last-minute move house senat...\n",
       "1401    how carnage upscale shopping mall nairobi link...\n",
       "1402    baghdad several explosion suicide bomber struc...\n",
       "1403    minneapolis it past quitting time new textile ...\n",
       "1404    one sunny friday morning late january wendy da...\n",
       "Name: content, dtype: object"
      ]
     },
     "execution_count": 42,
     "metadata": {},
     "output_type": "execute_result"
    }
   ],
   "source": [
    "# Look at a sample of the data - content of the news stories\n",
    "df.content"
   ]
  },
  {
   "cell_type": "markdown",
   "metadata": {},
   "source": [
    "2) Use the [CountVectorizer](http://scikit-learn.org/stable/modules/generated/sklearn.feature_extraction.text.CountVectorizer.html) from scikit-learn to turn the content of the news stories into the document-term matrix $\\textbf{A}$ \n",
    "\n",
    "(I call it \"vectorized\")"
   ]
  },
  {
   "cell_type": "code",
   "execution_count": 7,
   "metadata": {
    "collapsed": true
   },
   "outputs": [],
   "source": [
    "from sklearn.feature_extraction.text import CountVectorizer"
   ]
  },
  {
   "cell_type": "code",
   "execution_count": null,
   "metadata": {
    "collapsed": true
   },
   "outputs": [],
   "source": [
    "# Here are some good defaults\n",
    "\n",
    "\n",
    "max_features=1000\n",
    "max_df=0.95,  \n",
    "min_df=2,\n",
    "max_features=1000,\n",
    "stop_words='english'"
   ]
  },
  {
   "cell_type": "code",
   "execution_count": 47,
   "metadata": {
    "collapsed": false
   },
   "outputs": [],
   "source": [
    "vectorized = CountVectorizer(max_features=1000,max_df=.95,min_df=2,stop_words='english')\n",
    "doc_term = vectorized.fit_transform(df.content)"
   ]
  },
  {
   "cell_type": "code",
   "execution_count": 49,
   "metadata": {
    "collapsed": false
   },
   "outputs": [
    {
     "data": {
      "text/plain": [
       "(1405,)"
      ]
     },
     "execution_count": 49,
     "metadata": {},
     "output_type": "execute_result"
    }
   ],
   "source": [
    "np.shape(df.content)"
   ]
  },
  {
   "cell_type": "markdown",
   "metadata": {},
   "source": [
    "What is the size of the document-term matrix?"
   ]
  },
  {
   "cell_type": "code",
   "execution_count": 50,
   "metadata": {
    "collapsed": false
   },
   "outputs": [
    {
     "data": {
      "text/plain": [
       "<1405x1000 sparse matrix of type '<class 'numpy.int64'>'\n",
       "\twith 135271 stored elements in Compressed Sparse Row format>"
      ]
     },
     "execution_count": 50,
     "metadata": {},
     "output_type": "execute_result"
    }
   ],
   "source": [
    "#1405 docs by 1000 terms is the matrix size\n",
    "doc_term"
   ]
  },
  {
   "cell_type": "code",
   "execution_count": 57,
   "metadata": {
    "collapsed": false
   },
   "outputs": [
    {
     "data": {
      "text/plain": [
       "{'online': 622,\n",
       " 'meet': 554,\n",
       " 'chief': 166,\n",
       " 'pick': 662,\n",
       " 'national': 592,\n",
       " 'development': 261,\n",
       " 'rivera': 763,\n",
       " 'society': 837,\n",
       " 'club': 184,\n",
       " 'speech': 847,\n",
       " 'mayor': 548,\n",
       " 'pressure': 689,\n",
       " 'home': 412,\n",
       " 'south': 844,\n",
       " 'growth': 389,\n",
       " 'texas': 904,\n",
       " 'gun': 391,\n",
       " 'track': 922,\n",
       " 'police': 674,\n",
       " 'speed': 848,\n",
       " 'gallery': 365,\n",
       " 'ceiling': 153,\n",
       " 'image': 422,\n",
       " 'opportunity': 628,\n",
       " 'access': 34,\n",
       " 'report': 743,\n",
       " 'sent': 809,\n",
       " 'leading': 497,\n",
       " 'cup': 231,\n",
       " 'radio': 714,\n",
       " 'sanction': 783,\n",
       " 'nbc': 594,\n",
       " 'offered': 616,\n",
       " 'west': 972,\n",
       " 'son': 840,\n",
       " 'record': 732,\n",
       " 'album': 57,\n",
       " 'twitter': 934,\n",
       " 'hand': 395,\n",
       " 'ms': 586,\n",
       " 'action': 39,\n",
       " 'test': 903,\n",
       " 'reported': 744,\n",
       " 'situation': 833,\n",
       " 'stage': 858,\n",
       " 'crisis': 227,\n",
       " 'israel': 455,\n",
       " 'hill': 408,\n",
       " 'study': 878,\n",
       " 'seeking': 801,\n",
       " 'including': 427,\n",
       " 'bit': 111,\n",
       " 'run': 774,\n",
       " 'popular': 679,\n",
       " 'doesn': 271,\n",
       " 'named': 590,\n",
       " 'title': 914,\n",
       " 'floor': 341,\n",
       " 'chance': 160,\n",
       " 'nation': 591,\n",
       " 'fourth': 355,\n",
       " 'america': 61,\n",
       " 'called': 139,\n",
       " 'race': 713,\n",
       " 'sea': 795,\n",
       " 'education': 290,\n",
       " 'current': 232,\n",
       " 'oct': 612,\n",
       " 'address': 44,\n",
       " 'web': 967,\n",
       " 'march': 542,\n",
       " 'festival': 328,\n",
       " 'charge': 163,\n",
       " 'ahead': 54,\n",
       " 'conference': 202,\n",
       " 'attempt': 80,\n",
       " 'hospital': 414,\n",
       " 'global': 377,\n",
       " 'democratic': 255,\n",
       " 'hall': 394,\n",
       " 'past': 649,\n",
       " 'country': 217,\n",
       " 'hit': 410,\n",
       " 'association': 78,\n",
       " 'mail': 532,\n",
       " 'resident': 750,\n",
       " 'trying': 930,\n",
       " 'chinese': 169,\n",
       " 'law': 490,\n",
       " 'monday': 576,\n",
       " 'effect': 291,\n",
       " 'budget': 132,\n",
       " '21': 21,\n",
       " 'stand': 859,\n",
       " 'returned': 757,\n",
       " 'beginning': 103,\n",
       " 'stay': 868,\n",
       " 'friday': 361,\n",
       " 'television': 899,\n",
       " '30': 28,\n",
       " 'touchdown': 919,\n",
       " 'partner': 645,\n",
       " 'couple': 219,\n",
       " 'winning': 981,\n",
       " 'iranian': 452,\n",
       " 'right': 760,\n",
       " '000': 0,\n",
       " 'michael': 562,\n",
       " 'phone': 661,\n",
       " 'competition': 198,\n",
       " 'ray': 721,\n",
       " 'zone': 999,\n",
       " 'wrote': 993,\n",
       " 'leave': 499,\n",
       " 'finally': 334,\n",
       " 'poor': 678,\n",
       " 'create': 223,\n",
       " 'britain': 126,\n",
       " 'success': 881,\n",
       " 'housing': 418,\n",
       " 'leaving': 500,\n",
       " 'break': 123,\n",
       " 'red': 733,\n",
       " 'revenue': 758,\n",
       " 'live': 515,\n",
       " 'relationship': 738,\n",
       " 'capital': 143,\n",
       " 'george': 371,\n",
       " 'didn': 262,\n",
       " 'biggest': 109,\n",
       " 'exchange': 309,\n",
       " 'used': 939,\n",
       " 'second': 798,\n",
       " 'vehicle': 944,\n",
       " 'child': 167,\n",
       " 'benefit': 105,\n",
       " 'conservative': 206,\n",
       " 'professor': 701,\n",
       " 'east': 284,\n",
       " 'work': 986,\n",
       " 'longer': 521,\n",
       " '2014': 20,\n",
       " 'dollar': 272,\n",
       " 'syrian': 889,\n",
       " 'declined': 249,\n",
       " 'late': 487,\n",
       " 'eastern': 285,\n",
       " 'measure': 551,\n",
       " 'july': 467,\n",
       " 'director': 267,\n",
       " 'subject': 880,\n",
       " 'thursday': 912,\n",
       " '2009': 15,\n",
       " 'contract': 211,\n",
       " 'reached': 723,\n",
       " 'instead': 440,\n",
       " 'fell': 326,\n",
       " 'willing': 977,\n",
       " 'common': 195,\n",
       " 'scene': 789,\n",
       " 'care': 146,\n",
       " 'cbs': 152,\n",
       " 'india': 432,\n",
       " 'step': 869,\n",
       " 'penalty': 653,\n",
       " 'bay': 99,\n",
       " 'site': 832,\n",
       " 'quarter': 708,\n",
       " 'organization': 634,\n",
       " 'continue': 209,\n",
       " 'job': 462,\n",
       " 'joined': 465,\n",
       " 'rate': 719,\n",
       " 'hold': 411,\n",
       " 'small': 834,\n",
       " 'running': 775,\n",
       " 'free': 359,\n",
       " 'politics': 677,\n",
       " 'eye': 314,\n",
       " 'season': 796,\n",
       " 'medium': 553,\n",
       " 'issue': 457,\n",
       " 'indian': 433,\n",
       " 'wall': 958,\n",
       " 'island': 454,\n",
       " 'netanyahu': 601,\n",
       " 'rookie': 768,\n",
       " 'voice': 955,\n",
       " 'author': 84,\n",
       " 'white': 974,\n",
       " 'tax': 894,\n",
       " 'concern': 199,\n",
       " 'money': 577,\n",
       " 'ballet': 92,\n",
       " 'analyst': 63,\n",
       " 'blue': 113,\n",
       " 'total': 918,\n",
       " 'production': 700,\n",
       " 'increasingly': 430,\n",
       " 'decision': 248,\n",
       " 'london': 519,\n",
       " 'student': 877,\n",
       " 'final': 333,\n",
       " 'business': 136,\n",
       " 'set': 814,\n",
       " 'death': 243,\n",
       " 'border': 120,\n",
       " 'employee': 294,\n",
       " 'research': 749,\n",
       " 'moved': 581,\n",
       " 'manager': 541,\n",
       " 'european': 304,\n",
       " 'choice': 170,\n",
       " 'level': 506,\n",
       " 'happened': 397,\n",
       " 'raise': 715,\n",
       " 'angeles': 64,\n",
       " 'fact': 316,\n",
       " 'today': 915,\n",
       " 'mike': 564,\n",
       " 'california': 138,\n",
       " 'release': 739,\n",
       " 'pas': 647,\n",
       " 'told': 916,\n",
       " 'better': 107,\n",
       " 'paid': 638,\n",
       " 'chemical': 164,\n",
       " 'page': 637,\n",
       " 'worker': 988,\n",
       " 'beat': 100,\n",
       " 'stock': 870,\n",
       " 'town': 921,\n",
       " 'senator': 806,\n",
       " 'large': 484,\n",
       " 'great': 384,\n",
       " 'passed': 648,\n",
       " 'order': 632,\n",
       " 'golden': 380,\n",
       " 'went': 971,\n",
       " 'score': 793,\n",
       " 'character': 162,\n",
       " 'jet': 461,\n",
       " 'able': 33,\n",
       " 'post': 683,\n",
       " 'example': 308,\n",
       " 'stadium': 856,\n",
       " 'sport': 853,\n",
       " 'left': 502,\n",
       " 'intelligence': 443,\n",
       " 'similar': 829,\n",
       " 'later': 488,\n",
       " 'cast': 150,\n",
       " 'john': 463,\n",
       " 'assembly': 77,\n",
       " 'information': 436,\n",
       " 'act': 38,\n",
       " 'turned': 933,\n",
       " 'movement': 582,\n",
       " 'football': 349,\n",
       " 'justice': 469,\n",
       " 'daughter': 237,\n",
       " 'product': 699,\n",
       " 'washington': 962,\n",
       " 'st': 855,\n",
       " 'base': 95,\n",
       " 'democrat': 254,\n",
       " 'los': 524,\n",
       " 'role': 767,\n",
       " 'fear': 323,\n",
       " 'begin': 102,\n",
       " 'modern': 574,\n",
       " 'met': 560,\n",
       " 'comment': 192,\n",
       " 'huge': 419,\n",
       " 'million': 569,\n",
       " 'legal': 503,\n",
       " 'loss': 526,\n",
       " 'spent': 850,\n",
       " 'try': 929,\n",
       " 'focus': 342,\n",
       " 'breaking': 124,\n",
       " 'voter': 957,\n",
       " 'fight': 330,\n",
       " 'life': 507,\n",
       " 'affordable': 46,\n",
       " 'jersey': 460,\n",
       " 'drama': 278,\n",
       " '25': 25,\n",
       " 'spending': 849,\n",
       " 'largely': 485,\n",
       " 'office': 617,\n",
       " 'army': 72,\n",
       " 'leader': 495,\n",
       " 'guy': 392,\n",
       " 'rouhani': 771,\n",
       " '100': 2,\n",
       " 'responsibility': 753,\n",
       " '17': 9,\n",
       " 'division': 269,\n",
       " 'coach': 185,\n",
       " 'inside': 439,\n",
       " 'wild': 976,\n",
       " 'born': 121,\n",
       " 'medical': 552,\n",
       " '2010': 16,\n",
       " 'painting': 639,\n",
       " 'project': 703,\n",
       " 'trade': 923,\n",
       " 'government': 383,\n",
       " 'iraq': 453,\n",
       " 'war': 961,\n",
       " 'news': 604,\n",
       " 'korea': 480,\n",
       " 'use': 938,\n",
       " 'supreme': 886,\n",
       " 'house': 417,\n",
       " 'james': 458,\n",
       " 'sunday': 883,\n",
       " 'come': 189,\n",
       " 'event': 306,\n",
       " 'line': 512,\n",
       " 'mets': 561,\n",
       " 'firm': 339,\n",
       " '2012': 18,\n",
       " 'major': 534,\n",
       " 'david': 238,\n",
       " 'form': 353,\n",
       " 'reach': 722,\n",
       " '27': 27,\n",
       " 'mile': 565,\n",
       " 'outside': 635,\n",
       " 'social': 836,\n",
       " 'finished': 338,\n",
       " 'hope': 413,\n",
       " 'saturday': 784,\n",
       " 'lower': 531,\n",
       " 'friend': 362,\n",
       " 'foreign': 352,\n",
       " 'light': 508,\n",
       " 'obamacare': 611,\n",
       " '24': 24,\n",
       " 'losing': 525,\n",
       " 'reporting': 746,\n",
       " 'senate': 805,\n",
       " 'figure': 331,\n",
       " 'killing': 474,\n",
       " 'latest': 489,\n",
       " 'real': 725,\n",
       " 'technology': 898,\n",
       " 'inning': 438,\n",
       " 'attention': 81,\n",
       " 'maybe': 547,\n",
       " '12': 4,\n",
       " '15': 7,\n",
       " 'certain': 157,\n",
       " 'staff': 857,\n",
       " 'campaign': 141,\n",
       " 'civil': 175,\n",
       " 'return': 756,\n",
       " 'dozen': 276,\n",
       " 'yard': 995,\n",
       " 'francisco': 358,\n",
       " 'prime': 692,\n",
       " '11': 3,\n",
       " 'crime': 225,\n",
       " 'period': 657,\n",
       " 'morning': 579,\n",
       " 'union': 935,\n",
       " 'good': 381,\n",
       " 'raising': 717,\n",
       " 'control': 213,\n",
       " 'meant': 550,\n",
       " 'coalition': 186,\n",
       " 'russia': 776,\n",
       " 'ryan': 778,\n",
       " 'offer': 615,\n",
       " 'case': 149,\n",
       " 'self': 803,\n",
       " 'forward': 354,\n",
       " 'help': 404,\n",
       " 'worth': 991,\n",
       " 'term': 901,\n",
       " 'car': 144,\n",
       " 'supporter': 885,\n",
       " 'point': 673,\n",
       " '2008': 14,\n",
       " 'com': 188,\n",
       " 'iran': 451,\n",
       " 'lawyer': 492,\n",
       " 'price': 691,\n",
       " 'include': 425,\n",
       " '19': 11,\n",
       " 'military': 567,\n",
       " 'brown': 131,\n",
       " 'key': 472,\n",
       " 'ended': 296,\n",
       " 'making': 537,\n",
       " 'opening': 625,\n",
       " 'nuclear': 608,\n",
       " 'soldier': 839,\n",
       " 'started': 863,\n",
       " '18': 10,\n",
       " 'tell': 900,\n",
       " 'family': 319,\n",
       " 'victim': 948,\n",
       " 'company': 197,\n",
       " 'began': 101,\n",
       " 'pettitte': 660,\n",
       " 'really': 726,\n",
       " 'card': 145,\n",
       " 'pitch': 664,\n",
       " 'matter': 546,\n",
       " 'face': 315,\n",
       " 'episode': 300,\n",
       " 'want': 959,\n",
       " 'earned': 283,\n",
       " 'focused': 343,\n",
       " 'member': 556,\n",
       " 'idea': 421,\n",
       " 'local': 518,\n",
       " 'writer': 992,\n",
       " 'street': 874,\n",
       " 'plan': 666,\n",
       " 'boehner': 116,\n",
       " 'private': 694,\n",
       " 'turn': 932,\n",
       " 'moving': 584,\n",
       " 'attack': 79,\n",
       " 'message': 559,\n",
       " 'weapon': 966,\n",
       " 'customer': 233,\n",
       " 'euro': 302,\n",
       " 'center': 154,\n",
       " 'russian': 777,\n",
       " 'following': 346,\n",
       " 'cut': 234,\n",
       " 'baseball': 96,\n",
       " 'brother': 129,\n",
       " 'lot': 528,\n",
       " 'school': 791,\n",
       " 'announced': 65,\n",
       " 'parent': 641,\n",
       " 'review': 759,\n",
       " 'effort': 292,\n",
       " 'april': 69,\n",
       " 'expected': 311,\n",
       " 'got': 382,\n",
       " 'reflect': 734,\n",
       " 'decade': 246,\n",
       " 'resolution': 751,\n",
       " 'drive': 279,\n",
       " 'congress': 205,\n",
       " 'yankee': 994,\n",
       " 'pay': 651,\n",
       " 'agent': 50,\n",
       " 'mind': 570,\n",
       " 'brand': 122,\n",
       " 'opera': 626,\n",
       " 'fall': 318,\n",
       " 'shooting': 820,\n",
       " 'october': 613,\n",
       " 'doctor': 270,\n",
       " 'process': 697,\n",
       " 'city': 174,\n",
       " 'senior': 807,\n",
       " 'wood': 984,\n",
       " 'probably': 695,\n",
       " 'built': 135,\n",
       " 'community': 196,\n",
       " 'easy': 286,\n",
       " 'dance': 235,\n",
       " 'paul': 650,\n",
       " 'american': 62,\n",
       " 'king': 476,\n",
       " 'majority': 535,\n",
       " 'significant': 828,\n",
       " 'owner': 636,\n",
       " 'human': 420,\n",
       " 'district': 268,\n",
       " 'debate': 244,\n",
       " 'table': 890,\n",
       " 'fund': 363,\n",
       " 'generation': 370,\n",
       " 'israeli': 456,\n",
       " 'region': 736,\n",
       " 'regular': 737,\n",
       " 'shutdown': 825,\n",
       " 'investor': 449,\n",
       " 'shut': 824,\n",
       " 'flight': 340,\n",
       " 'dr': 277,\n",
       " 'rock': 766,\n",
       " 'miller': 568,\n",
       " 'le': 493,\n",
       " 'close': 182,\n",
       " 'sale': 781,\n",
       " 'bomb': 117,\n",
       " 'spoke': 851,\n",
       " 'build': 133,\n",
       " 'field': 329,\n",
       " 'protest': 704,\n",
       " 'round': 772,\n",
       " 'prison': 693,\n",
       " 'ball': 91,\n",
       " 'men': 557,\n",
       " 'new': 603,\n",
       " 'central': 155,\n",
       " 'look': 522,\n",
       " 'market': 544,\n",
       " 'mall': 538,\n",
       " 'gave': 368,\n",
       " 'finding': 336,\n",
       " 'veteran': 946,\n",
       " 'western': 973,\n",
       " 'ready': 724,\n",
       " 'minister': 571,\n",
       " 'bring': 125,\n",
       " 'parliament': 643,\n",
       " 'election': 293,\n",
       " 'support': 884,\n",
       " 'artist': 75,\n",
       " '500': 31,\n",
       " 'sense': 808,\n",
       " 'nearly': 596,\n",
       " 'head': 399,\n",
       " 'knew': 477,\n",
       " 'data': 236,\n",
       " 'strong': 876,\n",
       " 'citizen': 173,\n",
       " 'service': 813,\n",
       " 'mark': 543,\n",
       " 'father': 322,\n",
       " 'movie': 583,\n",
       " 'single': 831,\n",
       " 'judge': 466,\n",
       " 'increase': 429,\n",
       " 'adding': 43,\n",
       " 'remains': 742,\n",
       " 'soon': 842,\n",
       " 'championship': 159,\n",
       " 'feel': 325,\n",
       " 'despite': 259,\n",
       " 'training': 924,\n",
       " 'video': 950,\n",
       " 'threw': 911,\n",
       " 'played': 669,\n",
       " 'month': 578,\n",
       " 'think': 907,\n",
       " 'kept': 471,\n",
       " 'likely': 510,\n",
       " 'saying': 788,\n",
       " 'afternoon': 47,\n",
       " 'took': 917,\n",
       " 'evening': 305,\n",
       " 'style': 879,\n",
       " 'delay': 252,\n",
       " 'program': 702,\n",
       " 'smith': 835,\n",
       " 'north': 606,\n",
       " 'gas': 367,\n",
       " 'talk': 893,\n",
       " 'quality': 707,\n",
       " 'org': 633,\n",
       " 'decided': 247,\n",
       " 'wednesday': 968,\n",
       " 'reporter': 745,\n",
       " 'little': 514,\n",
       " '13': 5,\n",
       " 'oil': 620,\n",
       " 'performance': 656,\n",
       " 'letter': 505,\n",
       " 'old': 621,\n",
       " 'ago': 51,\n",
       " 'crowd': 228,\n",
       " 'dead': 241,\n",
       " 'guard': 390,\n",
       " 've': 943,\n",
       " 'saw': 786,\n",
       " 'previous': 690,\n",
       " '2013': 19,\n",
       " 'black': 112,\n",
       " 'described': 257,\n",
       " 'band': 93,\n",
       " 'contributed': 212,\n",
       " 'injury': 437,\n",
       " 'quite': 712,\n",
       " 'note': 607,\n",
       " 'helped': 405,\n",
       " 'minnesota': 572,\n",
       " 'art': 73,\n",
       " 'orchestra': 631,\n",
       " 'present': 687,\n",
       " 'victory': 949,\n",
       " 'china': 168,\n",
       " 'france': 357,\n",
       " 'risk': 762,\n",
       " 'militant': 566,\n",
       " 'win': 978,\n",
       " 'authority': 85,\n",
       " 'trip': 927,\n",
       " 'management': 540,\n",
       " 'bad': 90,\n",
       " 'playing': 671,\n",
       " 'far': 321,\n",
       " 'based': 97,\n",
       " 'place': 665,\n",
       " 'kind': 475,\n",
       " 'offensive': 614,\n",
       " 'president': 688,\n",
       " 'arm': 71,\n",
       " 'coverage': 222,\n",
       " 'released': 740,\n",
       " 'position': 681,\n",
       " 'threat': 910,\n",
       " 'league': 498,\n",
       " 'trial': 925,\n",
       " 'comedy': 190,\n",
       " 'practice': 686,\n",
       " 'given': 376,\n",
       " 'scored': 794,\n",
       " 'industry': 435,\n",
       " 'statement': 866,\n",
       " 'start': 862,\n",
       " 'county': 218,\n",
       " 'secretary': 799,\n",
       " 'follow': 344,\n",
       " 'hard': 398,\n",
       " 'provide': 705,\n",
       " 'standard': 860,\n",
       " 'body': 115,\n",
       " 'save': 785,\n",
       " 'award': 88,\n",
       " 'problem': 696,\n",
       " 'building': 134,\n",
       " 'rule': 773,\n",
       " 'fan': 320,\n",
       " 'brought': 130,\n",
       " 'french': 360,\n",
       " 'design': 258,\n",
       " '26': 26,\n",
       " 'century': 156,\n",
       " 'activist': 40,\n",
       " 'result': 755,\n",
       " 'group': 387,\n",
       " 'meeting': 555,\n",
       " 'power': 685,\n",
       " 'representative': 747,\n",
       " 'world': 990,\n",
       " 'deep': 250,\n",
       " 'international': 444,\n",
       " 'financial': 335,\n",
       " 'reason': 727,\n",
       " 'woman': 982,\n",
       " 'need': 597,\n",
       " '10': 1,\n",
       " 'domestic': 273,\n",
       " 'low': 530,\n",
       " 'forced': 351,\n",
       " 'officer': 618,\n",
       " 'share': 818,\n",
       " 'person': 658,\n",
       " 'weekend': 970,\n",
       " 'van': 942,\n",
       " 'player': 670,\n",
       " 'special': 846,\n",
       " 'considered': 207,\n",
       " 'davis': 239,\n",
       " 'history': 409,\n",
       " 'way': 965,\n",
       " 'say': 787,\n",
       " 'winner': 980,\n",
       " 'strike': 875,\n",
       " 'spokesman': 852,\n",
       " 'high': 406,\n",
       " 'age': 48,\n",
       " 'cost': 215,\n",
       " 'san': 782,\n",
       " 'needed': 598,\n",
       " 'bank': 94,\n",
       " 'sept': 810,\n",
       " 'believe': 104,\n",
       " 'agreed': 52,\n",
       " 'short': 821,\n",
       " 'potential': 684,\n",
       " 'policy': 675,\n",
       " 'rating': 720,\n",
       " 'difficult': 265,\n",
       " 'closed': 183,\n",
       " 'earlier': 281,\n",
       " 'conflict': 204,\n",
       " 'agency': 49,\n",
       " 'week': 969,\n",
       " 'state': 865,\n",
       " 'expert': 313,\n",
       " 'billion': 110,\n",
       " 'big': 108,\n",
       " 'consumer': 208,\n",
       " 'august': 83,\n",
       " 'shabab': 817,\n",
       " 'shot': 822,\n",
       " 'sign': 826,\n",
       " 'theater': 905,\n",
       " 'going': 379,\n",
       " 'taking': 892,\n",
       " 'seat': 797,\n",
       " 'candidate': 142,\n",
       " 'important': 424,\n",
       " '20': 12,\n",
       " 'list': 513,\n",
       " 'ground': 386,\n",
       " 'lost': 527,\n",
       " 'water': 964,\n",
       " 'interview': 446,\n",
       " 'simply': 830,\n",
       " 'mr': 585,\n",
       " 'goal': 378,\n",
       " 'peace': 652,\n",
       " 'don': 274,\n",
       " 'summer': 882,\n",
       " 'actually': 41,\n",
       " 'institute': 441,\n",
       " 'using': 940,\n",
       " 'investigation': 447,\n",
       " 'middle': 563,\n",
       " 'ran': 718,\n",
       " 'health': 400,\n",
       " 'included': 426,\n",
       " 'johnson': 464,\n",
       " 'road': 764,\n",
       " 'produced': 698,\n",
       " 'independent': 431,\n",
       " 'diplomatic': 266,\n",
       " 'hour': 416,\n",
       " 'room': 769,\n",
       " 'income': 428,\n",
       " 'scheduled': 790,\n",
       " 'average': 87,\n",
       " 'growing': 388,\n",
       " 'administration': 45,\n",
       " 'audience': 82,\n",
       " 'happen': 396,\n",
       " 'tuesday': 931,\n",
       " 'accused': 37,\n",
       " 'network': 602,\n",
       " 'rise': 761,\n",
       " 'spot': 854,\n",
       " 'watch': 963,\n",
       " 'thought': 908,\n",
       " 'account': 36,\n",
       " 'syria': 888,\n",
       " 'said': 780,\n",
       " 'sell': 804,\n",
       " 'muslim': 589,\n",
       " 'series': 812,\n",
       " 'obama': 610,\n",
       " 'brooklyn': 128,\n",
       " 'approach': 68,\n",
       " 'star': 861,\n",
       " 'piece': 663,\n",
       " '22': 22,\n",
       " 'music': 588,\n",
       " 'council': 216,\n",
       " 'demand': 253,\n",
       " 'safety': 779,\n",
       " 'game': 366,\n",
       " 'followed': 345,\n",
       " 'team': 897,\n",
       " 'individual': 434,\n",
       " 'held': 403,\n",
       " 'young': 998,\n",
       " 'possible': 682,\n",
       " 'foot': 348,\n",
       " 'received': 729,\n",
       " 'reform': 735,\n",
       " 'buy': 137,\n",
       " 'cruz': 229,\n",
       " 'evidence': 307,\n",
       " 'different': 264,\n",
       " 'station': 867,\n",
       " 'board': 114,\n",
       " 'stop': 871,\n",
       " 'know': 478,\n",
       " 'tour': 920,\n",
       " 'claim': 177,\n",
       " 'population': 680,\n",
       " 'public': 706,\n",
       " 'mother': 580,\n",
       " 'cause': 151,\n",
       " 'largest': 486,\n",
       " 'area': 70,\n",
       " 'asked': 76,\n",
       " 'green': 385,\n",
       " 'al': 56,\n",
       " 'entire': 299,\n",
       " 'republican': 748,\n",
       " '2007': 13,\n",
       " 'vote': 956,\n",
       " 'strategy': 873,\n",
       " 'bond': 118,\n",
       " 'wind': 979,\n",
       " 'thousand': 909,\n",
       " 'internet': 445,\n",
       " 'ally': 60,\n",
       " 'future': 364,\n",
       " 'allowed': 59,\n",
       " 'correction': 214,\n",
       " 'christian': 171,\n",
       " 'view': 951,\n",
       " 'air': 55,\n",
       " 'energy': 297,\n",
       " 'play': 668,\n",
       " '16': 8,\n",
       " 'wanted': 960,\n",
       " 'man': 539,\n",
       " 'debt': 245,\n",
       " 'economic': 287,\n",
       " 'best': 106,\n",
       " 'people': 654,\n",
       " 'coming': 191,\n",
       " 'drug': 280,\n",
       " 'opposition': 629,\n",
       " 'museum': 587,\n",
       " 'seven': 815,\n",
       " 'died': 263,\n",
       " 'natural': 593,\n",
       " 'york': 997,\n",
       " 'plant': 667,\n",
       " 'church': 172,\n",
       " 'open': 623,\n",
       " 'according': 35,\n",
       " 'let': 504,\n",
       " 'showed': 823,\n",
       " 'worked': 987,\n",
       " 'tea': 895,\n",
       " 'match': 545,\n",
       " 'recent': 730,\n",
       " 'value': 941,\n",
       " 'english': 298,\n",
       " 'time': 913,\n",
       " 'won': 983,\n",
       " 'night': 605,\n",
       " 'negotiation': 599,\n",
       " 'appeared': 67,\n",
       " 'chicago': 165,\n",
       " 'europe': 303,\n",
       " 'article': 74,\n",
       " 'clear': 179,\n",
       " 'carry': 148,\n",
       " 'like': 509,\n",
       " 'labor': 481,\n",
       " 'vice': 947,\n",
       " 'rest': 754,\n",
       " 'detroit': 260,\n",
       " 'food': 347,\n",
       " 'giant': 375,\n",
       " 'continued': 210,\n",
       " 'particularly': 644,\n",
       " 'college': 187,\n",
       " 'version': 945,\n",
       " '50': 30,\n",
       " 'long': 520,\n",
       " 'taken': 891,\n",
       " 'neighborhood': 600,\n",
       " 'condition': 201,\n",
       " 'especially': 301,\n",
       " 'language': 483,\n",
       " 'recently': 731,\n",
       " 'known': 479,\n",
       " 'remain': 741,\n",
       " 'day': 240,\n",
       " 'sold': 838,\n",
       " 'general': 369,\n",
       " 'number': 609,\n",
       " 'led': 501,\n",
       " 'lawmaker': 491,\n",
       " 'executive': 310,\n",
       " 'security': 800,\n",
       " 'land': 482,\n",
       " 'main': 533,\n",
       " 'rose': 770,\n",
       " 'moment': 575,\n",
       " 'wife': 975,\n",
       " 'official': 619,\n",
       " 'end': 295,\n",
       " 'clinton': 181,\n",
       " 'park': 642,\n",
       " 'department': 256,\n",
       " 'book': 119,\n",
       " 'force': 350,\n",
       " 'playoff': 672,\n",
       " 'early': 282,\n",
       " 'word': 985,\n",
       " 'heard': 401,\n",
       " 'challenge': 158,\n",
       " 'getting': 374,\n",
       " 'terrorist': 902,\n",
       " 'half': 393,\n",
       " 'course': 220,\n",
       " 'political': 676,\n",
       " '2011': 17,\n",
       " 'annual': 66,\n",
       " 'came': 140,\n",
       " 'party': 646,\n",
       " 'economy': 288,\n",
       " 'opened': 624,\n",
       " 'story': 872,\n",
       " 'university': 937,\n",
       " '23': 23,\n",
       " 'violence': 953,\n",
       " 'change': 161,\n",
       " 'visit': 954,\n",
       " 'make': 536,\n",
       " 'll': 517,\n",
       " 'added': 42,\n",
       " 'host': 415,\n",
       " 'signed': 827,\n",
       " 'june': 468,\n",
       " 'year': 996,\n",
       " 'class': 178,\n",
       " 'court': 221,\n",
       " 'germany': 373,\n",
       " 'japan': 459,\n",
       " 'fox': 356,\n",
       " 'viewer': 952,\n",
       " 'question': 710,\n",
       " 'minute': 573,\n",
       " 'impact': 423,\n",
       " 'battle': 98,\n",
       " 'leadership': 496,\n",
       " 'concert': 200,\n",
       " 'song': 841,\n",
       " 'quickly': 711,\n",
       " 'felt': 327,\n",
       " 'personal': 659,\n",
       " 'committee': 194,\n",
       " 'lead': 494,\n",
       " 'science': 792,\n",
       " 'defense': 251,\n",
       " 'tried': 926,\n",
       " 'editor': 289,\n",
       " 'german': 372,\n",
       " 'away': 89,\n",
       " 'kenya': 470,\n",
       " '60': 32,\n",
       " 'united': 936,\n",
       " 'quarterback': 709,\n",
       " 'sure': 887,\n",
       " '14': 6,\n",
       " 'living': 516,\n",
       " 'fine': 337,\n",
       " 'near': 595,\n",
       " 'confidence': 203,\n",
       " 'option': 630,\n",
       " 'robert': 765,\n",
       " 'available': 86,\n",
       " 'investment': 448,\n",
       " 'culture': 230,\n",
       " 'september': 811,\n",
       " 'film': 332,\n",
       " 'limit': 511,\n",
       " 'involved': 450,\n",
       " 'true': 928,\n",
       " 'insurance': 442,\n",
       " 'heart': 402,\n",
       " 'seen': 802,\n",
       " 'allow': 58,\n",
       " 'civilian': 176,\n",
       " 'rebel': 728,\n",
       " 'higher': 407,\n",
       " 'climate': 180,\n",
       " 'federal': 324,\n",
       " 'pakistan': 640,\n",
       " 'career': 147,\n",
       " 'starting': 864,\n",
       " 'deal': 242,\n",
       " 'looking': 523,\n",
       " 'killed': 473,\n",
       " 'sex': 816,\n",
       " 'operation': 627,\n",
       " 'criminal': 226,\n",
       " 'sound': 843,\n",
       " 'thing': 906,\n",
       " 'teacher': 896,\n",
       " 'space': 845,\n",
       " 'agreement': 53,\n",
       " '40': 29,\n",
       " 'response': 752,\n",
       " 'mean': 549,\n",
       " 'british': 127,\n",
       " 'created': 224,\n",
       " 'percent': 655,\n",
       " 'door': 275,\n",
       " 'merkel': 558,\n",
       " 'working': 989,\n",
       " 'commission': 193,\n",
       " 'love': 529,\n",
       " 'experience': 312,\n",
       " 'raised': 716,\n",
       " 'ship': 819,\n",
       " 'failed': 317}"
      ]
     },
     "execution_count": 57,
     "metadata": {},
     "output_type": "execute_result"
    }
   ],
   "source": [
    "vectorized.vocabulary_"
   ]
  },
  {
   "cell_type": "markdown",
   "metadata": {},
   "source": [
    "----\n",
    "NMF with scikit-learn \n",
    "------\n",
    "\n",
    "Hint: [Here is an example](http://scikit-learn.org/stable/auto_examples/applications/topics_extraction_with_nmf_lda.html)"
   ]
  },
  {
   "cell_type": "code",
   "execution_count": 51,
   "metadata": {
    "collapsed": true
   },
   "outputs": [],
   "source": [
    "import sklearn\n",
    "\n",
    "assert sklearn.__version__ == '0.18' # Make sure we are in the modern age"
   ]
  },
  {
   "cell_type": "code",
   "execution_count": 52,
   "metadata": {
    "collapsed": true
   },
   "outputs": [],
   "source": [
    "from sklearn.decomposition import NMF"
   ]
  },
  {
   "cell_type": "markdown",
   "metadata": {},
   "source": [
    "Apply NMF with SVD-based initialization to the document-term matrix $\\text{A}$ generate 4 topics."
   ]
  },
  {
   "cell_type": "code",
   "execution_count": 53,
   "metadata": {
    "collapsed": false
   },
   "outputs": [],
   "source": [
    "model = NMF(init=\"nndsvd\",\n",
    "            n_components=4,\n",
    "            max_iter=200)"
   ]
  },
  {
   "cell_type": "markdown",
   "metadata": {},
   "source": [
    "Get the factors $\\text{W}$ and $\\text{H}$ from the resulting model."
   ]
  },
  {
   "cell_type": "code",
   "execution_count": 55,
   "metadata": {
    "collapsed": false
   },
   "outputs": [],
   "source": [
    "W = model.fit_transform(doc_term)\n",
    "H = model.components_"
   ]
  },
  {
   "cell_type": "code",
   "execution_count": 95,
   "metadata": {
    "collapsed": false
   },
   "outputs": [
    {
     "data": {
      "text/plain": [
       "array([  0.00000000e+00,   0.00000000e+00,   6.00670745e-02,\n",
       "         7.19590348e-02,   0.00000000e+00,   2.96473692e-02,\n",
       "         2.54871183e-02,   1.09730065e-02,   0.00000000e+00,\n",
       "         7.08346396e-02,   0.00000000e+00,   4.05933677e-01,\n",
       "         7.82687398e-01,   7.21490987e-01,   3.73559476e-01,\n",
       "         1.70544914e-01,   2.99002649e-01,   1.66389567e-01,\n",
       "         0.00000000e+00,   4.08411481e-01,   0.00000000e+00,\n",
       "         5.54626515e-01,   1.86451654e-01,   1.40120017e-01,\n",
       "         0.00000000e+00,   1.12657534e-01,   0.00000000e+00,\n",
       "         7.58065691e-01,   9.12978787e-02,   1.18726844e-01,\n",
       "         8.59929137e-02,   0.00000000e+00,   3.97143189e-02,\n",
       "         9.54671582e-02,   2.67524960e-01,   2.09066979e-01,\n",
       "         1.36032642e+00,   8.52540223e-01,   1.86869149e-01,\n",
       "         4.05289948e-02,   7.41148653e-01,   7.54246731e-01,\n",
       "         1.11175020e+00,   1.25670998e-01,   3.12460244e-01,\n",
       "         3.79526966e-01,   6.11516237e-01,   8.66073649e-02,\n",
       "         0.00000000e+00,   1.53074830e-01,   4.36501355e-01,\n",
       "         1.18241403e+00,   6.92827580e-02,   2.81402591e-02,\n",
       "         1.71615437e-02,   8.65727547e-05,   1.58086552e-02,\n",
       "         0.00000000e+00,   0.00000000e+00,   1.08456304e-01,\n",
       "         1.08653523e-01,   5.66939783e-01,   3.51889973e-01,\n",
       "         7.05248190e-01,   2.10208323e-02,   0.00000000e+00,\n",
       "         2.93445029e-02,   6.73799054e-02,   2.82335358e-01,\n",
       "         3.18172794e-01,   6.10941211e-01,   3.40261750e-01,\n",
       "         1.02640463e+00,   0.00000000e+00,   4.46881086e-01,\n",
       "         4.47441626e-02,   8.13507008e-02,   2.24728968e-01,\n",
       "         2.27420510e-01,   1.32539664e-01,   2.55763797e-01,\n",
       "         8.13133912e-01,   2.06083386e-01,   2.57817358e-01,\n",
       "         2.11788733e-01,   1.54937617e-01,   8.91375950e-01,\n",
       "         8.55417416e-02,   2.03884931e-02,   2.89511397e-01,\n",
       "         4.78790176e-02,   4.38480545e-01,   8.83200503e-02,\n",
       "         7.58725377e-01,   9.05630581e-02,   7.50528377e-02,\n",
       "         2.99228350e-01,   7.27082623e-02,   5.93518087e-01,\n",
       "         4.24370014e-01])"
      ]
     },
     "execution_count": 95,
     "metadata": {},
     "output_type": "execute_result"
    }
   ],
   "source": [
    "W[:100,0]"
   ]
  },
  {
   "cell_type": "code",
   "execution_count": 62,
   "metadata": {
    "collapsed": false
   },
   "outputs": [
    {
     "data": {
      "text/plain": [
       "array([[ 1.97109492,  1.08278721,  0.50624774, ...,  1.93792322,\n",
       "         0.80479987,  0.32067983],\n",
       "       [ 0.14001152,  1.14926156,  0.15534813, ...,  0.15976554,\n",
       "         0.48232903,  0.04306665],\n",
       "       [ 0.34525608,  0.10497164,  0.05540141, ...,  0.04922689,\n",
       "         0.        ,  0.07341733],\n",
       "       [ 0.05793673,  0.10327576,  0.03387658, ...,  0.71556379,\n",
       "         0.2551675 ,  0.        ]])"
      ]
     },
     "execution_count": 62,
     "metadata": {},
     "output_type": "execute_result"
    }
   ],
   "source": [
    "H"
   ]
  },
  {
   "cell_type": "markdown",
   "metadata": {},
   "source": [
    "What is are sizes of W and H?"
   ]
  },
  {
   "cell_type": "code",
   "execution_count": 56,
   "metadata": {
    "collapsed": false
   },
   "outputs": [
    {
     "name": "stdout",
     "output_type": "stream",
     "text": [
      "(1405, 4)\n",
      "(4, 1000)\n"
     ]
    }
   ],
   "source": [
    "print(np.shape(W)) #docs by topics\n",
    "print(np.shape(H)) # topics by terms"
   ]
  },
  {
   "cell_type": "markdown",
   "metadata": {},
   "source": [
    "Get the list of all terms whose indices correspond to the columns of the document-term matrix."
   ]
  },
  {
   "cell_type": "code",
   "execution_count": 59,
   "metadata": {
    "collapsed": false
   },
   "outputs": [],
   "source": [
    "terms = [\"\"] * len(vectorized.vocabulary_)\n",
    "for term in vectorized.vocabulary_.keys():\n",
    "    terms[vectorized.vocabulary_[term]] = term"
   ]
  },
  {
   "cell_type": "code",
   "execution_count": 81,
   "metadata": {
    "collapsed": false
   },
   "outputs": [],
   "source": [
    "# Have a look that some of the terms\n",
    "terms=np.array(terms)"
   ]
  },
  {
   "cell_type": "code",
   "execution_count": 78,
   "metadata": {
    "collapsed": false
   },
   "outputs": [
    {
     "data": {
      "text/plain": [
       "1000"
      ]
     },
     "execution_count": 78,
     "metadata": {},
     "output_type": "execute_result"
    }
   ],
   "source": [
    "len(terms)"
   ]
  },
  {
   "cell_type": "code",
   "execution_count": 93,
   "metadata": {
    "collapsed": false
   },
   "outputs": [
    {
     "name": "stdout",
     "output_type": "stream",
     "text": [
      "Topic:  1  Top 10 terms : ['said', 'year', 'new', 'people', 'state', 'company', 'gun', 'work', 'like', 'percent']\n",
      "Topic:  2  Top 10 terms : ['game', 'season', 'said', 'team', 'year', 'player', 'time', 'play', 'yankee', 'league']\n",
      "Topic:  3  Top 10 terms : ['republican', 'government', 'house', 'health', 'law', 'care', 'party', 'shutdown', 'senate', 'president']\n",
      "Topic:  4  Top 10 terms : ['mr', 'said', 'iran', 'rouhani', 'united', 'nuclear', 'president', 'obama', 'state', 'netanyahu']\n"
     ]
    }
   ],
   "source": [
    "for c,topic in enumerate(H):\n",
    "    count = 0\n",
    "    current_terms = []\n",
    "    for term in  terms[np.argsort(topic)[::-1]]:\n",
    "        #print(term)\n",
    "        current_terms.append(term)\n",
    "        count+=1\n",
    "        if count ==10:\n",
    "            break\n",
    "           \n",
    "    print('Topic: ',c+1,' Top 10 terms :',current_terms)\n",
    "            \n",
    "    "
   ]
  },
  {
   "cell_type": "code",
   "execution_count": null,
   "metadata": {
    "collapsed": true
   },
   "outputs": [],
   "source": []
  },
  {
   "cell_type": "code",
   "execution_count": null,
   "metadata": {
    "collapsed": true
   },
   "outputs": [],
   "source": []
  },
  {
   "cell_type": "code",
   "execution_count": null,
   "metadata": {
    "collapsed": true
   },
   "outputs": [],
   "source": []
  },
  {
   "cell_type": "markdown",
   "metadata": {},
   "source": [
    "Print the top 10 ranked terms for each topic, by sorting the values in the rows of the $\\text{H}$ factor \n",
    "\n",
    "<br>\n",
    "\n",
    "<details><summary>\n",
    "Click here for a hint…\n",
    "</summary>\n",
    "```\n",
    "for topic_index in None:\n",
    "    top_indices = np.argsort(None)[None][None]\n",
    "    term_ranking = [None[i] for i in None]\n",
    "    print(\"Topic {}: {}\".format(topic_index, \", \".join(term_ranking)))\n",
    "```\n",
    "</details>\n",
    "\n",
    "<br>\n",
    "\n",
    "<details><summary>\n",
    "Click here for the answer…\n",
    "</summary>\n",
    "```\n",
    "for topic_index in range(H.shape[0]):\n",
    "    top_indices = np.argsort(H[topic_index,:])[::-1][0:10]\n",
    "    term_ranking = [terms[i] for i in top_indices]\n",
    "    print(\"Topic {}: {}\".format(topic_index, \", \".join(term_ranking)))\n",
    "```\n",
    "</details>"
   ]
  },
  {
   "cell_type": "code",
   "execution_count": null,
   "metadata": {
    "collapsed": true
   },
   "outputs": [],
   "source": [
    "# Topic 1: State Gun Regulation in the New Year"
   ]
  },
  {
   "cell_type": "code",
   "execution_count": null,
   "metadata": {
    "collapsed": true
   },
   "outputs": [],
   "source": [
    "#Topic 2: Yankee lead the baseball season\n",
    "    "
   ]
  },
  {
   "cell_type": "code",
   "execution_count": null,
   "metadata": {
    "collapsed": true
   },
   "outputs": [],
   "source": [
    "#Topic 3: The Republican Government"
   ]
  },
  {
   "cell_type": "code",
   "execution_count": null,
   "metadata": {
    "collapsed": true
   },
   "outputs": [],
   "source": [
    "#Topic 4:Iran Nuclear Deal"
   ]
  },
  {
   "cell_type": "markdown",
   "metadata": {},
   "source": [
    "Look at the words in the numbered topics. For each one, make-up a label that describes it.\n",
    "\n",
    "For example:  \n",
    "`Topic 3: people, mobile, said, phone, technology, music, digital, users, microsoft, software`  \n",
    "is about \"The Singularity\" 😉\n",
    "\n",
    "Are there any topics that don't make sense (i.e., the words don't go together)?"
   ]
  },
  {
   "cell_type": "code",
   "execution_count": 1,
   "metadata": {
    "collapsed": true
   },
   "outputs": [],
   "source": [
    "# No, all of the topics seem to go together"
   ]
  },
  {
   "cell_type": "markdown",
   "metadata": {},
   "source": [
    "Change the number of topics to match the number of topics in NYT section labels"
   ]
  },
  {
   "cell_type": "code",
   "execution_count": 104,
   "metadata": {
    "collapsed": false
   },
   "outputs": [
    {
     "data": {
      "text/plain": [
       "array(['Sports', 'U.S.', 'Business Day', 'World', 'Opinion', 'Arts',\n",
       "       'Travel', 'Magazine', 'Real Estate', 'Books'], dtype=object)"
      ]
     },
     "execution_count": 104,
     "metadata": {},
     "output_type": "execute_result"
    }
   ],
   "source": [
    "df.section_name.unique()"
   ]
  },
  {
   "cell_type": "code",
   "execution_count": 102,
   "metadata": {
    "collapsed": true
   },
   "outputs": [],
   "source": [
    "model_2 = NMF(init=\"nndsvd\",\n",
    "            n_components=10,\n",
    "            max_iter=200)\n",
    "\n",
    "W_2 = model_2.fit_transform(doc_term)\n",
    "H_2 = model_2.components_\n"
   ]
  },
  {
   "cell_type": "code",
   "execution_count": 103,
   "metadata": {
    "collapsed": false
   },
   "outputs": [
    {
     "name": "stdout",
     "output_type": "stream",
     "text": [
      "Topic:  1  Top 10 terms : ['said', 'year', 'day', 'people', 'official', 'case', 'time', 'decision', 'court', 'added']\n",
      "Topic:  2  Top 10 terms : ['game', 'season', 'team', 'year', 'player', 'time', 'league', 'yankee', 'run', 'play']\n",
      "Topic:  3  Top 10 terms : ['republican', 'house', 'government', 'health', 'law', 'care', 'party', 'president', 'shutdown', 'obama']\n",
      "Topic:  4  Top 10 terms : ['mr', 'year', 'party', 'political', 'case', 'like', 'leader', 'state', 'court', 'night']\n",
      "Topic:  5  Top 10 terms : ['new', 'work', 'company', 'like', 'york', 'people', 'ms', 'job', 'worker', 'executive']\n",
      "Topic:  6  Top 10 terms : ['gun', 'child', 'death', 'year', 'law', 'state', 'time', 'shooting', 'old', 'killed']\n",
      "Topic:  7  Top 10 terms : ['iran', 'rouhani', 'nuclear', 'obama', 'iranian', 'netanyahu', 'president', 'israel', 'united', 'mr']\n",
      "Topic:  8  Top 10 terms : ['davis', 'state', 'story', 'texas', 'woman', 'democratic', 'city', 'new', 'republican', 'candidate']\n",
      "Topic:  9  Top 10 terms : ['percent', 'year', 'government', 'market', 'company', 'million', 'month', 'country', 'bank', 'economy']\n",
      "Topic:  10  Top 10 terms : ['united', 'government', 'syria', 'state', 'weapon', 'chemical', 'security', 'attack', 'official', 'nation']\n"
     ]
    }
   ],
   "source": [
    "for c,topic in enumerate(H_2):\n",
    "    count = 0\n",
    "    current_terms = []\n",
    "    for term in  terms[np.argsort(topic)[::-1]]:\n",
    "        #print(term)\n",
    "        current_terms.append(term)\n",
    "        count+=1\n",
    "        if count ==10:\n",
    "            break\n",
    "           \n",
    "    print('Topic: ',c+1,' Top 10 terms :',current_terms)\n",
    "            \n",
    "    "
   ]
  },
  {
   "cell_type": "markdown",
   "metadata": {
    "collapsed": false
   },
   "source": [
    "How do the NMF topics compare to the NYT section labels?"
   ]
  },
  {
   "cell_type": "code",
   "execution_count": 105,
   "metadata": {
    "collapsed": false
   },
   "outputs": [],
   "source": [
    "#array(['Sports', 'U.S.', 'Business Day', 'World', 'Opinion', 'Arts',\n",
    "   #    'Travel', 'Magazine', 'Real Estate', 'Books'], dtype=object)\n",
    "#They seem to match but it is harder to find a topic name using NFM"
   ]
  },
  {
   "cell_type": "markdown",
   "metadata": {
    "collapsed": true
   },
   "source": [
    "Which would you use to filter your news?"
   ]
  },
  {
   "cell_type": "code",
   "execution_count": 106,
   "metadata": {
    "collapsed": true
   },
   "outputs": [],
   "source": [
    "#I would use the NYT topics since they have an additional screen on the topic modeling."
   ]
  },
  {
   "cell_type": "markdown",
   "metadata": {},
   "source": [
    "Repeat with the same modeling with [`tf-idf`](http://scikit-learn.org/stable/modules/generated/sklearn.feature_extraction.text.TfidfVectorizer.html). "
   ]
  },
  {
   "cell_type": "code",
   "execution_count": 107,
   "metadata": {
    "collapsed": true
   },
   "outputs": [],
   "source": [
    "from sklearn.feature_extraction.text import TfidfVectorizer"
   ]
  },
  {
   "cell_type": "code",
   "execution_count": 117,
   "metadata": {
    "collapsed": false
   },
   "outputs": [],
   "source": [
    "tfidf = TfidfVectorizer(max_features=1000,max_df=.95,min_df=2,stop_words='english')\n",
    "tfidf_matrix = tfidf.fit_transform(df.content)"
   ]
  },
  {
   "cell_type": "code",
   "execution_count": 118,
   "metadata": {
    "collapsed": false
   },
   "outputs": [
    {
     "data": {
      "text/plain": [
       "<1405x1000 sparse matrix of type '<class 'numpy.float64'>'\n",
       "\twith 135271 stored elements in Compressed Sparse Row format>"
      ]
     },
     "execution_count": 118,
     "metadata": {},
     "output_type": "execute_result"
    }
   ],
   "source": [
    "tfidf_matrix"
   ]
  },
  {
   "cell_type": "code",
   "execution_count": 119,
   "metadata": {
    "collapsed": true
   },
   "outputs": [],
   "source": [
    "model_3 = NMF(init=\"nndsvd\",\n",
    "            n_components=10,\n",
    "            max_iter=200)\n",
    "\n",
    "W_3 = model_3.fit_transform(tfidf_matrix)\n",
    "H_3 = model_3.components_\n"
   ]
  },
  {
   "cell_type": "code",
   "execution_count": 120,
   "metadata": {
    "collapsed": false
   },
   "outputs": [
    {
     "name": "stdout",
     "output_type": "stream",
     "text": [
      "(1405, 10)\n"
     ]
    }
   ],
   "source": [
    "print(np.shape(W_3))"
   ]
  },
  {
   "cell_type": "code",
   "execution_count": 121,
   "metadata": {
    "collapsed": false
   },
   "outputs": [
    {
     "name": "stdout",
     "output_type": "stream",
     "text": [
      "(10, 1000)\n"
     ]
    }
   ],
   "source": [
    "print(np.shape(H_3))"
   ]
  },
  {
   "cell_type": "code",
   "execution_count": 122,
   "metadata": {
    "collapsed": false
   },
   "outputs": [
    {
     "name": "stdout",
     "output_type": "stream",
     "text": [
      "Topic:  1  Top 10 terms : ['mr', 'said', 'court', 'case', 'judge', 'state', 'justice', 'lawyer', 'prison', 'official']\n",
      "Topic:  2  Top 10 terms : ['game', 'season', 'yard', 'team', 'said', 'league', 'player', 'coach', 'play', 'touchdown']\n",
      "Topic:  3  Top 10 terms : ['republican', 'house', 'health', 'care', 'government', 'senate', 'shutdown', 'obama', 'law', 'democrat']\n",
      "Topic:  4  Top 10 terms : ['iran', 'rouhani', 'nuclear', 'iranian', 'obama', 'israel', 'united', 'mr', 'netanyahu', 'president']\n",
      "Topic:  5  Top 10 terms : ['ms', 'music', 'art', 'new', 'work', 'like', 'dance', 'york', 'museum', 'song']\n",
      "Topic:  6  Top 10 terms : ['company', 'percent', 'said', 'market', 'year', 'million', 'bank', 'china', 'price', 'state']\n",
      "Topic:  7  Top 10 terms : ['yankee', 'rivera', 'pettitte', 'inning', 'game', 'season', 'baseball', 'run', 'pitch', 'stadium']\n",
      "Topic:  8  Top 10 terms : ['attack', 'said', 'official', 'syria', 'killed', 'people', 'government', 'police', 'security', 'mall']\n",
      "Topic:  9  Top 10 terms : ['party', 'merkel', 'government', 'germany', 'european', 'election', 'political', 'europe', 'german', 'ms']\n",
      "Topic:  10  Top 10 terms : ['cup', 'team', 'race', 'said', 'club', 'player', 'year', 'america', 'won', 've']\n"
     ]
    }
   ],
   "source": [
    "for c,topic in enumerate(H_3):\n",
    "    count = 0\n",
    "    current_terms = []\n",
    "    for term in  terms[np.argsort(topic)[::-1]]:\n",
    "        #print(term)\n",
    "        current_terms.append(term)\n",
    "        count+=1\n",
    "        if count ==10:\n",
    "            break\n",
    "           \n",
    "    print('Topic: ',c+1,' Top 10 terms :',current_terms)\n",
    "            \n",
    "    "
   ]
  },
  {
   "cell_type": "markdown",
   "metadata": {},
   "source": [
    "How does that change the topics?\n",
    "\n",
    "Are they \"tighter\"? Easier to describe?"
   ]
  },
  {
   "cell_type": "code",
   "execution_count": 123,
   "metadata": {
    "collapsed": true
   },
   "outputs": [],
   "source": [
    "# The topics seem to be more closely related to eachother now. The top words almost create a sentence,\n",
    "#this is due to the way TF-IDF weights the features (more frequent and rarer words have higher weight). "
   ]
  },
  {
   "cell_type": "markdown",
   "metadata": {},
   "source": [
    "---\n",
    "Challenge Exercises\n",
    "===="
   ]
  },
  {
   "cell_type": "markdown",
   "metadata": {},
   "source": [
    "Rolling Your Own (RYO) NMF\n",
    "-----\n",
    "\n",
    "With the document matrix (our bags of words), we can begin implementing the NMF algorithm.  \n",
    "\n",
    "1. Create a NMF class to that is initialized with a document matrix (bag of words or tf-idf) __V__.  As arguments (in addition to the document matrix) it should also take parameters __k__ (# of latent topics) and the maximum # of iterations to perform. \n",
    "  \n",
    "  First we need to initialize our weights (__W__) and features (__H__) matrices.  \n",
    "\n",
    "2. Initialize the weights matrix (W) with (positive) random values to be a __n x k__ matrix, where __n__ is the number of documents and __k__ is the number of latent topics.\n",
    "\n",
    "2.  Initialize the feature matrix (H) to be __k x m__ where __m__ is the number of words in our vocabulary (i.e. length of bag).  Our original document matrix (__V__) is a __n x m__ matrix.  __NOTICE: shape(V) = shape(W * H)__\n",
    "\n",
    "3. Now that we have initialized our matrices and defined our cost, we can begin iterating. Update your weights and features matrices accordingly.  7. Repeat this update until convergence (i.e. change in __cost(V, W*H)__ close to 0). or until our max # of iterations.\n",
    "\n",
    "4. Assume we want to use a least-squares error metric when we update the matrices __W__ and __H__. This allows us to use the numpy.linalg.lstsq solver. \n",
    "Update __H__ by calling lstsq, holding __W__ fixed and minimizing the sum of squared errors predicting the document matrix. Since these values should all be at least 0, clip all the values in __H__ after the call to lstsq.\n",
    "\n",
    "5. Use the lstsq solver to update __W__ while holding __H__ fixed. The lstsq solver assumes it is optimizing the right matrix of the multiplication (e.g. x in the equation __ax=b__). So you will need to get creative so you can use it and have the dimensions line up correctly.  Brainstorm on paper or a whiteboard how to manipulate the matrices so lstsq can get the dimensionality correct and optimize __W__. __hint: it involves transposes.__ Clip __W__ appropriately after updating it with lstsq to ensure it is at least 0.  \n",
    "`from numpy.linalg import lstsq`\n",
    "\n",
    "6. Repeat steps 4 and 5 for a fixed number of iterations.\n",
    "\n",
    "7. Return the computed weights matrix and features matrix.\n",
    "\n"
   ]
  },
  {
   "cell_type": "code",
   "execution_count": null,
   "metadata": {
    "collapsed": true
   },
   "outputs": [],
   "source": []
  },
  {
   "cell_type": "markdown",
   "metadata": {},
   "source": [
    "Using Your NMF Function\n",
    "----\n",
    "\n",
    "1. Write a function that takes __W__, __H__ and the document matrix as arguments, and returns the mean-squared error (of __document matrix - WH__).\n",
    "\n",
    "2. Using argsort on each topic in __H__, find the index values of the words most associated with that topic.  Combine these index values with the word-names you stored in the __Preliminaries__ section to print out the most common words for each topic.\n",
    "\n",
    "\n"
   ]
  },
  {
   "cell_type": "code",
   "execution_count": null,
   "metadata": {
    "collapsed": true
   },
   "outputs": [],
   "source": []
  },
  {
   "cell_type": "markdown",
   "metadata": {},
   "source": [
    "Run the code you wrote for the __Using Your NMF Function__ on the SKlearn classifier.  How close is the output to what you found writing your own NMF classifier?"
   ]
  },
  {
   "cell_type": "code",
   "execution_count": null,
   "metadata": {
    "collapsed": true
   },
   "outputs": [],
   "source": []
  },
  {
   "cell_type": "markdown",
   "metadata": {},
   "source": [
    "__Design an API__:\n",
    "1. Put your nmf function in an nmf class.\n",
    "2. Define a function that displays the headlines/titles of the top 10 documents for each topic.\n",
    "3. Define a function that takes as input a document and displays the top 3 topics it belongs to.\n",
    "4. Define a function that ensure consistent ordering between your nmf function and the sklearn nmf class."
   ]
  },
  {
   "cell_type": "code",
   "execution_count": null,
   "metadata": {
    "collapsed": true
   },
   "outputs": [],
   "source": []
  },
  {
   "cell_type": "markdown",
   "metadata": {
    "collapsed": true
   },
   "source": [
    "<br>\n",
    "<br>\n",
    "<br>\n",
    "\n",
    "---"
   ]
  }
 ],
 "metadata": {
  "anaconda-cloud": {},
  "kernelspec": {
   "display_name": "Python [conda env:nlp]",
   "language": "python",
   "name": "conda-env-nlp-py"
  },
  "language_info": {
   "codemirror_mode": {
    "name": "ipython",
    "version": 3
   },
   "file_extension": ".py",
   "mimetype": "text/x-python",
   "name": "python",
   "nbconvert_exporter": "python",
   "pygments_lexer": "ipython3",
   "version": "3.5.2"
  }
 },
 "nbformat": 4,
 "nbformat_minor": 0
}
