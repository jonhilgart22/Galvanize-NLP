{
 "cells": [
  {
   "cell_type": "markdown",
   "metadata": {
    "slideshow": {
     "slide_type": "slide"
    }
   },
   "source": [
    "---\n",
    "Nonnegative Matrix Factorization (NMF)\n",
    "---- \n",
    "\n",
    "![](images/nmf.png)"
   ]
  },
  {
   "cell_type": "markdown",
   "metadata": {
    "slideshow": {
     "slide_type": "slide"
    }
   },
   "source": [
    "By The End Of This Session You Should Be Able To:\n",
    "----\n",
    "\n",
    "- Explain how NMF can model topics\n",
    "- Define each of the terms in NMF\n",
    "- Explain how Alternating Least Squares (ALS) Algorithm works\n",
    "- Find topics in New York Times articles\n"
   ]
  },
  {
   "cell_type": "markdown",
   "metadata": {
    "slideshow": {
     "slide_type": "slide"
    }
   },
   "source": [
    "What is the goal of Nonnegative Matrix Factorization (NMF)?\n",
    "----\n",
    "\n",
    "Identify clusters of items that share the same latent features."
   ]
  },
  {
   "cell_type": "markdown",
   "metadata": {
    "slideshow": {
     "slide_type": "slide"
    }
   },
   "source": [
    "Example\n",
    "---\n",
    "\n",
    "Which Points of Interest (POIs) are tourists interested in?\n",
    "\n",
    "![](http://4.bp.blogspot.com/-kIp5OkLAGYg/ToCjhj_o1SI/AAAAAAAAHQI/ciEoC3nInlM/s1600/NMF.png)"
   ]
  },
  {
   "cell_type": "markdown",
   "metadata": {
    "slideshow": {
     "slide_type": "fragment"
    }
   },
   "source": [
    "- Each K is a latent feature or cluster.  \n",
    "For example, \"military\" or \"shopping\"."
   ]
  },
  {
   "cell_type": "markdown",
   "metadata": {
    "slideshow": {
     "slide_type": "fragment"
    }
   },
   "source": [
    "- NMF then returns two matrices, W and H, whose product approximates the original data.  \n",
    "- W has one row per tourist that tells you how much each tourist belongs to each cluster. \n",
    "- H has one column per Point of Interest (POI) which tells you how much each POI belongs to each cluster."
   ]
  },
  {
   "cell_type": "markdown",
   "metadata": {
    "slideshow": {
     "slide_type": "slide"
    }
   },
   "source": [
    "---\n",
    "Check for understanding\n",
    "---\n",
    "\n",
    "Why are objective evaluation metrics difficult for topic modeling?"
   ]
  },
  {
   "cell_type": "markdown",
   "metadata": {
    "slideshow": {
     "slide_type": "fragment"
    }
   },
   "source": [
    "There is often no \"ground-truth\" for what is and what is not a topic. Thus hard to find the \"correct\" number of topics."
   ]
  },
  {
   "cell_type": "markdown",
   "metadata": {
    "slideshow": {
     "slide_type": "slide"
    }
   },
   "source": [
    "Steps in Nonnegative Matrix Factorization (NMF)\n",
    "---\n",
    "\n",
    "![](images/setup.png)\n",
    "\n",
    "1. Data preparation / input matrix\n",
    "3. Pick K (number of topics)\n",
    "3. Find W and H through optimization (typically alternating least squares (ALS))"
   ]
  },
  {
   "cell_type": "markdown",
   "metadata": {
    "slideshow": {
     "slide_type": "slide"
    }
   },
   "source": [
    "Alternating Least Squares (ALS) Algorithm\n",
    "----\n",
    "\n",
    "Setup:\n",
    "\n",
    "1. Pick k\n",
    "2. Intialize W to random `abs(randn(m,k))`"
   ]
  },
  {
   "cell_type": "markdown",
   "metadata": {
    "slideshow": {
     "slide_type": "slide"
    }
   },
   "source": [
    "Alternating Least Squares (ALS) Algorithm\n",
    "----\n",
    "\n",
    "for i for 1:maximum_iterations"
   ]
  },
  {
   "cell_type": "markdown",
   "metadata": {
    "slideshow": {
     "slide_type": "fragment"
    }
   },
   "source": [
    "- solve $W^TWH = W^TA$ for H"
   ]
  },
  {
   "cell_type": "markdown",
   "metadata": {
    "slideshow": {
     "slide_type": "fragment"
    }
   },
   "source": [
    "- Constrain elements of H >= 0"
   ]
  },
  {
   "cell_type": "markdown",
   "metadata": {
    "slideshow": {
     "slide_type": "fragment"
    }
   },
   "source": [
    "- solve $HH^TW^T = HA^TA$ for W"
   ]
  },
  {
   "cell_type": "markdown",
   "metadata": {
    "slideshow": {
     "slide_type": "fragment"
    }
   },
   "source": [
    "- Constrain elements of W >= 0"
   ]
  },
  {
   "cell_type": "markdown",
   "metadata": {
    "slideshow": {
     "slide_type": "skip"
    }
   },
   "source": [
    "[Source](http://meyer.math.ncsu.edu/Meyer/Talks/SAS_6_9_05_NmfWorkshop.pdf)"
   ]
  },
  {
   "cell_type": "markdown",
   "metadata": {
    "slideshow": {
     "slide_type": "slide"
    }
   },
   "source": [
    "Alternating Least Squares (ALS) Algorithm\n",
    "----\n",
    "\n",
    "__Pros__:\n",
    "\n",
    "- Fast (computers are _very fast_ at linear algebra\n",
    "- Practical (works well with large-scale, real-world data)  \n",
    "- Speedy convergence (each iteration step creates better latent factors/topics)\n",
    "- Simple (only need to pick k)\n",
    "- Flexible (Since all cells of W and H are free to vary it can model complex data)"
   ]
  },
  {
   "cell_type": "markdown",
   "metadata": {
    "slideshow": {
     "slide_type": "slide"
    }
   },
   "source": [
    "Alternating Least Squares (ALS) Algorithm\n",
    "----\n",
    "\n",
    "__Cons__:\n",
    "- Ad hoc nonnegativity (negative elements are set to 0)\n",
    "- Ad hoc sparsity (negative elements are set to 0)\n",
    "- No convergence theory (there is no guarantee the algorithm will stop or reach a global minimum)"
   ]
  },
  {
   "cell_type": "markdown",
   "metadata": {
    "slideshow": {
     "slide_type": "slide"
    }
   },
   "source": [
    "How does Nonnegative Matrix Factorization (NMF) work for topic modeling?\n",
    "----\n",
    "\n",
    "Identify topics in documents based on words"
   ]
  },
  {
   "cell_type": "markdown",
   "metadata": {
    "slideshow": {
     "slide_type": "fragment"
    }
   },
   "source": [
    "![](images/tmn_nmf.png)"
   ]
  },
  {
   "cell_type": "markdown",
   "metadata": {
    "slideshow": {
     "slide_type": "slide"
    }
   },
   "source": [
    "Input: Document-term matrix (A), typically with tf-idf values in cells; User-specified number of topics k.\n",
    "\n",
    "Output: Two k-dimensional factors W and H approximating A.\n",
    "    \n",
    "[Source](http://www.slideshare.net/SebastianRuder/dynamic-topic-modeling-via-nonnegative-matrix-factorization-dr-derek-greene)"
   ]
  },
  {
   "cell_type": "markdown",
   "metadata": {
    "slideshow": {
     "slide_type": "slide"
    }
   },
   "source": [
    "![](images/ex1.png)"
   ]
  },
  {
   "cell_type": "markdown",
   "metadata": {
    "slideshow": {
     "slide_type": "slide"
    }
   },
   "source": [
    "![](images/ex2.png)"
   ]
  },
  {
   "cell_type": "markdown",
   "metadata": {
    "slideshow": {
     "slide_type": "slide"
    }
   },
   "source": [
    "---\n",
    "Check for understanding\n",
    "---\n",
    "\n",
    "Why should we remove hapaxes (words that only appear once)?"
   ]
  },
  {
   "cell_type": "markdown",
   "metadata": {
    "slideshow": {
     "slide_type": "fragment"
    }
   },
   "source": [
    "Our topic modeling would overfit these words. \n",
    "\n",
    "Each word would only appear in a single topic, thus be perfectly correlated with the topic. The prediction might not generalize well to the next occurrence of the word."
   ]
  },
  {
   "cell_type": "markdown",
   "metadata": {
    "slideshow": {
     "slide_type": "slide"
    }
   },
   "source": [
    "Summary\n",
    "-----\n",
    "\n",
    "- NMF is a quick and dirty topic modeling algorithm\n",
    "- You setup $A$, pick $k$, find $W$ and $H$\n",
    "- Don't forget Linear Algebra - it will help you \"solve\" NMF via ALS\n"
   ]
  },
  {
   "cell_type": "markdown",
   "metadata": {
    "slideshow": {
     "slide_type": "slide"
    }
   },
   "source": [
    "<br>\n",
    "<br>\n",
    "----"
   ]
  }
 ],
 "metadata": {
  "anaconda-cloud": {},
  "celltoolbar": "Slideshow",
  "kernelspec": {
   "display_name": "Python 3",
   "language": "python",
   "name": "python3"
  },
  "language_info": {
   "codemirror_mode": {
    "name": "ipython",
    "version": 3
   },
   "file_extension": ".py",
   "mimetype": "text/x-python",
   "name": "python",
   "nbconvert_exporter": "python",
   "pygments_lexer": "ipython3",
   "version": "3.5.2"
  }
 },
 "nbformat": 4,
 "nbformat_minor": 0
}
