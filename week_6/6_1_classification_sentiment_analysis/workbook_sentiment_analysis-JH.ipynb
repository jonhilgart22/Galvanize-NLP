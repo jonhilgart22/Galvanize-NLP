{
 "cells": [
  {
   "cell_type": "markdown",
   "metadata": {},
   "source": [
    "Sentiment Analysis\n",
    "===\n",
    "\n",
    "![](images/pos_neg_sentiment.png/)"
   ]
  },
  {
   "cell_type": "markdown",
   "metadata": {},
   "source": [
    "By The End of This Session You Will:\n",
    "---\n",
    "- Application of sentiment analysis\n",
    "- Be able to utilize different labels for sentiment analysis\n",
    "- Be able to list the elements in a sentiment analysis problem\n",
    "- Baseline algorithm of sentiment analysis (Naive Bayes)"
   ]
  },
  {
   "cell_type": "markdown",
   "metadata": {},
   "source": [
    "***\n",
    "<br>\n",
    "<br>"
   ]
  },
  {
   "cell_type": "markdown",
   "metadata": {},
   "source": [
    "Application of Sentiment Analysis\n",
    "===\n",
    "\n",
    "There are many real-world applications to being able to classify if a document is of positive or negative sentiment"
   ]
  },
  {
   "cell_type": "markdown",
   "metadata": {},
   "source": [
    "Summary \n",
    "---\n",
    "\n",
    "1. __Classify if product reviews are positive or negative__\n",
    "   - This allows us to assign rating to various aspects of a product\n",
    "   - E.g. __customer service__ will receive a high rating if most of \n",
    "     the comments related to customer service are positive \n",
    "   - Such as __\"I DO like honest technical support people__\n",
    "   \n",
    "   <img src=\"images/product.png\" width=\"500px\">\n",
    "   \n",
    "   <br>\n",
    "   \n",
    "2. __Twitter sentiment analysis to predict poll results or stock market__\n",
    "\n",
    "   - If people feel more negatively towards a subject, the polls are lower. Visit \n",
    "     [Gallup Polls](http://www.gallup.com/)\n",
    "     \n",
    "     <img src=\"images/twitter.png\" width=\"500px\">\n",
    "     \n",
    "   - Certain sentiments, such as calmness, predicts stock market price during the financial crisis\n",
    "   \n",
    "     <img src=\"images/stock.png\" height=\"200px\">\n",
    "\n",
    "\n",
    "     \n",
    "  \n"
   ]
  },
  {
   "cell_type": "markdown",
   "metadata": {},
   "source": [
    "***\n",
    "<br>\n",
    "<br>"
   ]
  },
  {
   "cell_type": "markdown",
   "metadata": {},
   "source": [
    "Knowledge Check Questions\n",
    "---\n",
    "\n",
    "1) List 2 other applications of sentiment analysis. State the business value in each case."
   ]
  },
  {
   "cell_type": "code",
   "execution_count": null,
   "metadata": {
    "collapsed": true
   },
   "outputs": [],
   "source": [
    "# How do people feel about a movie? Is it good or bad?\n",
    "# How do people feel about a brand? Do you like United Airlines?"
   ]
  },
  {
   "cell_type": "markdown",
   "metadata": {},
   "source": [
    "<details><summary>\n",
    "Click here for solution to 1.\n",
    "</summary>\n",
    "`\n",
    "1. Sentiment of movie reviews to predict box office ahead of time\n",
    "\n",
    "2. Sentiment of political candidicates on social media to predict election results\n",
    "`\n",
    "</details>"
   ]
  },
  {
   "cell_type": "markdown",
   "metadata": {},
   "source": [
    "***\n",
    "<br>\n",
    "<br>"
   ]
  },
  {
   "cell_type": "markdown",
   "metadata": {},
   "source": [
    "Different Sentiment Labels\n",
    "===\n",
    "\n",
    "Here we show a variety of sentiment other than just positive and negative.\n",
    "\n",
    "The examples given below are by no means exhastive."
   ]
  },
  {
   "cell_type": "markdown",
   "metadata": {},
   "source": [
    "Summary\n",
    "---\n",
    "\n",
    "1. ___Emotion_ is brief and organically synchronized. Usually evaluation of a major event__\n",
    "  - Angry\n",
    "  - Sad\n",
    "  - Joyful\n",
    "  - Fearful\n",
    "  - Ashamed\n",
    "  \n",
    "  <br>\n",
    "\n",
    "2. ___Mood_ is a more long-term and low intensity subjective feeling__\n",
    "   - Cheerful\n",
    "   - Gloomy\n",
    "   - Irritable\n",
    "   - Depressed\n",
    "   - Buoyant\n",
    "\n",
    "   <br>\n",
    " \n",
    "3. ___Interpersonal stances_ are attitudes towards another person in a specific interaction__\n",
    "   - Friendly\n",
    "   - Flirtatious\n",
    "   - Distant\n",
    "   - Warm\n",
    "   - Supportive\n",
    "   - Contemptuous\n",
    "   \n",
    "   <br>\n",
    "   \n",
    "4. ___Attitudes_ are enduring beliefs towards certain objects or persons__\n",
    "   - Liking\n",
    "   - Loving\n",
    "   - Valuing\n",
    "   - Desiring\n",
    "   \n",
    "   <br>\n",
    "   \n",
    "5. ___Personality traits_ are stable personalities and behavior tendencies__\n",
    "   - Nervous\n",
    "   - Anxious\n",
    "   - Reckless\n",
    "   - Morose\n",
    "   - Hostile"
   ]
  },
  {
   "cell_type": "markdown",
   "metadata": {},
   "source": [
    "***\n",
    "<br>\n",
    "<br>"
   ]
  },
  {
   "cell_type": "markdown",
   "metadata": {},
   "source": [
    "Knowledge Check Questions\n",
    "---\n",
    "\n",
    "1) What is the category of labels I should use if I am developing an app for detecting short-term and real-time sentiments ?"
   ]
  },
  {
   "cell_type": "code",
   "execution_count": null,
   "metadata": {
    "collapsed": true
   },
   "outputs": [],
   "source": [
    "#Emotions"
   ]
  },
  {
   "cell_type": "markdown",
   "metadata": {},
   "source": [
    "<details><summary>\n",
    "Click here for solution 1.\n",
    "</summary>\n",
    "`\n",
    "Emotions\n",
    "`\n",
    "</details>"
   ]
  },
  {
   "cell_type": "markdown",
   "metadata": {},
   "source": [
    "2) What is the category of labels Google should consider if Google Chat is to add an extra feature indicating if the person talking to you like you or not ?"
   ]
  },
  {
   "cell_type": "code",
   "execution_count": null,
   "metadata": {
    "collapsed": true
   },
   "outputs": [],
   "source": [
    "#Interpersonal Stances"
   ]
  },
  {
   "cell_type": "markdown",
   "metadata": {},
   "source": [
    "<details><summary>\n",
    "Click here for solution 2.\n",
    "</summary>\n",
    "`\n",
    "Interpersonal stances\n",
    "`\n",
    "</details>"
   ]
  },
  {
   "cell_type": "markdown",
   "metadata": {},
   "source": [
    "3) What is the category of labels I should use for detecting the general atmosphere of the stock market ?"
   ]
  },
  {
   "cell_type": "code",
   "execution_count": null,
   "metadata": {
    "collapsed": true
   },
   "outputs": [],
   "source": [
    "#Mood "
   ]
  },
  {
   "cell_type": "markdown",
   "metadata": {},
   "source": [
    "<details><summary>\n",
    "Click here for solution 3.\n",
    "</summary>\n",
    "`\n",
    "Mood\n",
    "`\n",
    "</details>"
   ]
  },
  {
   "cell_type": "markdown",
   "metadata": {},
   "source": [
    "***\n",
    "<br>\n",
    "<br>"
   ]
  },
  {
   "cell_type": "markdown",
   "metadata": {},
   "source": [
    "Elements of Sentiment Analysis\n",
    "===\n",
    "\n",
    "Below are the __3 possible elements__ of a sentiment analysis problem.\n",
    "\n",
    "One can tackle one or more elements in a sentiment analysis problem.\n"
   ]
  },
  {
   "cell_type": "markdown",
   "metadata": {},
   "source": [
    "Summary\n",
    "---\n",
    "\n",
    "1. __Holder of sentiment__\n",
    "\n",
    "   - For example: __John (Holder)__ is angry at Joe.\n",
    "   \n",
    "   <br>\n",
    "\n",
    "2. __Target of sentiment__\n",
    "\n",
    "   - For example: John is angry at __Joe (Target)__.\n",
    "\n",
    "   <br>\n",
    "   \n",
    "3. __Type of sentiment__\n",
    "\n",
    "   - As listed above: __Emotion__, __Mood__, __Interpersonal stances__ ..."
   ]
  },
  {
   "cell_type": "markdown",
   "metadata": {},
   "source": [
    "***\n",
    "<br>\n",
    "<br>"
   ]
  },
  {
   "cell_type": "markdown",
   "metadata": {},
   "source": [
    "Knowledge Check Questions\n",
    "---\n",
    "\n",
    "1) List the 3 elements in a sentiment analysis problem."
   ]
  },
  {
   "cell_type": "code",
   "execution_count": null,
   "metadata": {
    "collapsed": true
   },
   "outputs": [],
   "source": [
    "#Holder of sentiment\n",
    "#Target of sentiment\n",
    "#Type of sentiment"
   ]
  },
  {
   "cell_type": "markdown",
   "metadata": {},
   "source": [
    "<details><summary>\n",
    "Click here for solution 1.\n",
    "</summary>\n",
    "`\n",
    "1. Holder of sentiment\n",
    "2. Target of sentiment\n",
    "3. Type of sentiment\n",
    "`\n",
    "</details>"
   ]
  },
  {
   "cell_type": "markdown",
   "metadata": {},
   "source": [
    "***\n",
    "<br>\n",
    "<br>"
   ]
  },
  {
   "cell_type": "markdown",
   "metadata": {},
   "source": [
    "Baseline Model for Sentiment Analysis\n",
    "===\n",
    "\n",
    "Here we will walk through the basic steps of getting a baseline model for sentiment analysis."
   ]
  },
  {
   "cell_type": "markdown",
   "metadata": {},
   "source": [
    "Summary\n",
    "---\n",
    "\n",
    "1. __Tokenization__\n",
    "   \n",
    "   - Depending on the source, different tokenizer might be used to replace special characters (covered perviously)\n",
    "   - Accounting for __negation__ is especially important for sentiment analysis\n",
    "   - __For example:__\n",
    "     \n",
    "     `I didn't eat the pie => I didn't NOT_eat NOT_the NOT_pie`\n",
    "   \n",
    "   <br>\n",
    "   \n",
    "2. __Boolean featurization__\n",
    "\n",
    "   - In __text classification__, we have covered the __Bag of Words__ representation\n",
    "   - In __sentiment analysis__, we care more about if the word occurred more than how many times it occurred\n",
    "   - __Boolean featurization__ indicates if a particular word occurs in the document\n",
    "   - __For example:__\n",
    "   \n",
    "     <br> \n",
    "     \n",
    "     - __2 documents:__\n",
    "     \n",
    "     ```\n",
    "     1. this is ridiculous, abosolutly ridiculous. Ridiculous\n",
    "     2. I love this. Simply love this.\n",
    "     ```\n",
    "     \n",
    "     ![](images/boolean_feature.png)\n",
    "\n",
    "   <br>\n",
    "\n",
    "3. __Naive Bayes__\n",
    "\n",
    "   - The baseline machine learning model for sentiment analysis is usually Naive Bayes\n",
    "   - There will be other discriminative models covered later (MaxEnt and SVM)"
   ]
  },
  {
   "cell_type": "markdown",
   "metadata": {},
   "source": [
    "***\n",
    "<br>\n",
    "<br>"
   ]
  },
  {
   "cell_type": "markdown",
   "metadata": {},
   "source": [
    "Exercises\n",
    "---\n",
    "\n",
    "1) You are given the following documents. Write a function that will tokenize the documents and featurize the tokens.\n",
    "\n",
    "   You can expect the following output, a list of the vocab and a list of list of boolean features (one list per documnet)\n",
    "   \n",
    "   ``\n",
    "   (['abosolutly', 'love', 'this', 'is', 'i', 'ridiculous', 'simply'],\n",
    "   [[1, 0, 1, 1, 0, 1, 0], [0, 1, 1, 0, 1, 0, 1]])\n",
    "   ``"
   ]
  },
  {
   "cell_type": "code",
   "execution_count": 50,
   "metadata": {
    "collapsed": false
   },
   "outputs": [],
   "source": [
    "documents = ['This is ridiculous, abosolutly ridiculous. Ridiculous',\n",
    "             'I love this. Simply love this.']\n",
    "\n",
    "import re\n",
    "def featurize(documents):\n",
    "    doc_set = set()\n",
    "    vocab = []\n",
    "    for doc in documents:\n",
    "        doc=doc.split(' ')\n",
    "        \n",
    "        for word in doc:\n",
    "            word= word.lower()\n",
    "            word=re.sub(r'[.,]','',word)\n",
    "            if word in doc_set:\n",
    "                pass\n",
    "            else:\n",
    "                doc_set.add(word)\n",
    "    \n",
    "    for v in doc_set:\n",
    "   \n",
    "        for doc in documents:\n",
    "            doc=doc.split(' ')\n",
    "            doc = [i.lower() for i in doc]\n",
    "            current_vocab=[]\n",
    "            \n",
    "            if v in doc:\n",
    "                current_vocab.append(1)\n",
    "            else:\n",
    "                current_vocab.append(0)\n",
    "                \n",
    "            \n",
    "            vocab.append(current_vocab)\n",
    "            \n",
    "\n",
    "    \n",
    "    print(doc_set)\n",
    "    print(vocab)\n",
    "    # your code here\n",
    "    "
   ]
  },
  {
   "cell_type": "code",
   "execution_count": 51,
   "metadata": {
    "collapsed": false
   },
   "outputs": [
    {
     "name": "stdout",
     "output_type": "stream",
     "text": [
      "{'i', 'simply', 'this', 'love', 'abosolutly', 'ridiculous', 'is'}\n",
      "[[0], [1], [0], [1], [1], [0], [0], [1], [1], [0], [1], [0], [1], [0]]\n"
     ]
    }
   ],
   "source": [
    "featurize(documents)"
   ]
  },
  {
   "cell_type": "markdown",
   "metadata": {},
   "source": [
    "<details><summary>\n",
    "Click here for solution 1.\n",
    "</summary>\n",
    "```\n",
    "import re\n",
    "def featurize(documents):\n",
    "    vocab = set()\n",
    "    tokenized_docs = []\n",
    "    for doc in documents:\n",
    "        clean_doc = re.sub('[.|,]', ' ', doc).lower().strip()\n",
    "        doc_token_lst = re.split('\\s+', clean_doc)\n",
    "        tokenized_docs.append(set(doc_token_lst))\n",
    "        vocab.update(doc_token_lst)\n",
    "    \n",
    "    vocab_lst = list(vocab)\n",
    "    results = []\n",
    "    for tokenized_doc_set in tokenized_docs:\n",
    "        boolean_vector = [1 if word in tokenized_doc_set else 0 for word in vocab_lst] \n",
    "        results.append(boolean_vector)\n",
    "    \n",
    "    return vocab_lst, results\n",
    "```\n",
    "</details>"
   ]
  },
  {
   "cell_type": "markdown",
   "metadata": {},
   "source": [
    "***\n",
    "<br>\n",
    "<br>"
   ]
  },
  {
   "cell_type": "markdown",
   "metadata": {},
   "source": [
    "Summary\n",
    "===\n",
    "\n",
    "__Application of Sentiment Analysis__:\n",
    "- Classify sentiment of product reviews to gather opinions about product\n",
    "- Classify sentiment of tweets to make predictions about outcome of polls\n",
    "\n",
    "\n",
    "__Sentiment labels__:\n",
    "- __Emotions__, e.g. Angry, Happy\n",
    "- __Mood__, e.g. Cheerful, Gloomy\n",
    "- __Interpersonal stance__: e.g Friendly, Hostile\n",
    "- __Attitude__: e.g. Loving, Liking\n",
    "- __Personality__: e.g. Nervous, Anxious\n",
    "\n",
    "__Element of sentiment analysis__:\n",
    "- Holder of sentiment\n",
    "- Target of sentiment\n",
    "- Type of sentiment\n",
    "\n",
    "__Baseline model for sentiment analysis__:\n",
    "- Tokenization accounting for negation\n",
    "- Boolean feature\n",
    "- Naive Bayes\n"
   ]
  },
  {
   "cell_type": "markdown",
   "metadata": {},
   "source": [
    "<br>\n",
    "<br> \n",
    "<br>\n",
    "\n",
    "----"
   ]
  }
 ],
 "metadata": {
  "anaconda-cloud": {},
  "kernelspec": {
   "display_name": "Python [default]",
   "language": "python",
   "name": "python3"
  },
  "language_info": {
   "codemirror_mode": {
    "name": "ipython",
    "version": 3
   },
   "file_extension": ".py",
   "mimetype": "text/x-python",
   "name": "python",
   "nbconvert_exporter": "python",
   "pygments_lexer": "ipython3",
   "version": "3.5.2"
  }
 },
 "nbformat": 4,
 "nbformat_minor": 0
}
