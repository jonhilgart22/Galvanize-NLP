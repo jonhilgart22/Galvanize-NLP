{
 "cells": [
  {
   "cell_type": "markdown",
   "metadata": {
    "slideshow": {
     "slide_type": "slide"
    }
   },
   "source": [
    "----\n",
    "Sentiment Analysis\n",
    "====\n",
    "\n",
    "![](http://www.polyvista.com/blog/wp-content/uploads/2015/06/sentiment-customer-exp-large.png)"
   ]
  },
  {
   "cell_type": "markdown",
   "metadata": {
    "slideshow": {
     "slide_type": "slide"
    }
   },
   "source": [
    "Sentiment Analysis is common <br> (but not solved)\n",
    "---\n",
    "\n",
    "![](http://www.bloomberglabs.com/content/uploads/sites/2/2014/01/bloomberg-labs.jpg)\n",
    "\n",
    "![](https://fisher.osu.edu/blogs/gradlife/files/bloomberg-terminal-o1.jpg)\n",
    "\n",
    "[Bloomberg Labs is investing heavily in it for financial insights](http://www.bloomberglabs.com/data-science/projects/sentiment-analysis-financial-news-social-media/)"
   ]
  },
  {
   "cell_type": "markdown",
   "metadata": {
    "collapsed": true,
    "slideshow": {
     "slide_type": "slide"
    }
   },
   "source": [
    "By The End Of This Session You Should Be Able To:\n",
    "----\n",
    "\n",
    "- Evaluate any supervised learning model with more than 2 groups\n",
    "- Explain the basics of sentiment analysis\n",
    "- Explain the nuances of sentiment analysis\n",
    "- Handle negation to improve sentiment analysis "
   ]
  },
  {
   "cell_type": "markdown",
   "metadata": {
    "slideshow": {
     "slide_type": "slide"
    }
   },
   "source": [
    "Supervised learning\n",
    "------\n",
    "\n",
    "<img src=\"images/flow_chart.png\" style=\"width: 300px;\"/>"
   ]
  },
  {
   "cell_type": "markdown",
   "metadata": {
    "slideshow": {
     "slide_type": "slide"
    }
   },
   "source": [
    "![](images/modeling_for_cash.jpg)"
   ]
  },
  {
   "cell_type": "markdown",
   "metadata": {
    "slideshow": {
     "slide_type": "slide"
    }
   },
   "source": [
    "What are common evaluation metrics for classification?\n",
    "-----"
   ]
  },
  {
   "cell_type": "markdown",
   "metadata": {
    "slideshow": {
     "slide_type": "slide"
    }
   },
   "source": [
    "Accuary\n",
    "------"
   ]
  },
  {
   "cell_type": "markdown",
   "metadata": {
    "slideshow": {
     "slide_type": "fragment"
    }
   },
   "source": [
    "$$Accuracy = \\frac{All\\ Correct}{Total}$$"
   ]
  },
  {
   "cell_type": "markdown",
   "metadata": {
    "slideshow": {
     "slide_type": "fragment"
    }
   },
   "source": [
    "- Fraction of docs classified correctly\n",
    "- (1 - error rate)"
   ]
  },
  {
   "cell_type": "markdown",
   "metadata": {
    "slideshow": {
     "slide_type": "slide"
    }
   },
   "source": [
    "![](images/roc.png)\n",
    "\n",
    "[Source](https://en.wikipedia.org/wiki/Receiver_operating_characteristic)"
   ]
  },
  {
   "cell_type": "markdown",
   "metadata": {
    "slideshow": {
     "slide_type": "slide"
    }
   },
   "source": [
    "Precision\n",
    "------\n",
    "\n",
    "$$Precision = \\frac{Class\\ Correct}{Class\\ Total\\ Predicted}$$"
   ]
  },
  {
   "cell_type": "markdown",
   "metadata": {
    "slideshow": {
     "slide_type": "fragment"
    }
   },
   "source": [
    "Fraction of documents assigned to a class that are actually members of the class"
   ]
  },
  {
   "cell_type": "markdown",
   "metadata": {
    "slideshow": {
     "slide_type": "slide"
    }
   },
   "source": [
    "Recall\n",
    "-----\n",
    "\n",
    "$$Recall = \\frac{Class\\ Correct}{Class\\ Total\\ Actual}$$"
   ]
  },
  {
   "cell_type": "markdown",
   "metadata": {
    "slideshow": {
     "slide_type": "fragment"
    }
   },
   "source": [
    "Fraction of documents in class that classified correctly"
   ]
  },
  {
   "cell_type": "markdown",
   "metadata": {
    "slideshow": {
     "slide_type": "slide"
    }
   },
   "source": [
    "![](images/p_r.png)"
   ]
  },
  {
   "cell_type": "markdown",
   "metadata": {
    "slideshow": {
     "slide_type": "slide"
    }
   },
   "source": [
    "F-score\n",
    "-------\n",
    "\n",
    "$$F_1\\ Score = 2•\\frac{Precision•Recall}{Precision+Recall}$$"
   ]
  },
  {
   "cell_type": "markdown",
   "metadata": {
    "slideshow": {
     "slide_type": "slide"
    }
   },
   "source": [
    "----\n",
    "What is Sentiment Analysis?\n",
    "----\n",
    "\n"
   ]
  },
  {
   "cell_type": "markdown",
   "metadata": {
    "slideshow": {
     "slide_type": "fragment"
    }
   },
   "source": [
    "- Simplest task: Is the attitude of this text positive or negative?\n"
   ]
  },
  {
   "cell_type": "markdown",
   "metadata": {
    "slideshow": {
     "slide_type": "fragment"
    }
   },
   "source": [
    "- More complex: Rank the attitude of this text from 1 to 5\n"
   ]
  },
  {
   "cell_type": "markdown",
   "metadata": {
    "slideshow": {
     "slide_type": "fragment"
    }
   },
   "source": [
    "- Advanced: Detect the target, source, or complex emotions"
   ]
  },
  {
   "cell_type": "markdown",
   "metadata": {
    "slideshow": {
     "slide_type": "slide"
    }
   },
   "source": [
    "Why sentiment analysis?\n",
    "----\n",
    "\n",
    "- Movie: is this review positive or negative?\n",
    "- Products: what do people think about the new iPhone?\n",
    "- Public sentiment: how is consumer confidence? Is despair increasing?\n",
    "- Politics: what do people think about this candidate or issue?\n",
    "- Prediction: predict election outcomes (sometimes) or market trends from sentiment"
   ]
  },
  {
   "cell_type": "markdown",
   "metadata": {
    "slideshow": {
     "slide_type": "slide"
    }
   },
   "source": [
    "Sentiment Analysis by other names\n",
    "----\n",
    "\n",
    "- Opinion extraction\n",
    "- Opinion mining\n",
    "- Sentiment mining\n",
    "- Subjectivity analysis"
   ]
  },
  {
   "cell_type": "markdown",
   "metadata": {
    "slideshow": {
     "slide_type": "slide"
    }
   },
   "source": [
    "(real) Sentiment Analysis\n",
    "----\n",
    "\n",
    "<img src=\"images/emotions.png\" style=\"width: 300px;\"/>\n",
    "\n",
    "Try to building computer system to capture the rich tapestry of human emotions"
   ]
  },
  {
   "cell_type": "markdown",
   "metadata": {
    "slideshow": {
     "slide_type": "slide"
    }
   },
   "source": [
    "---\n",
    "Tips & Tricks\n",
    "---\n",
    "\n",
    "- [Sentiment lexicons](https://github.com/bohana/sentlex) can help\n",
    "- Start simple and add features. One of the next best features is __negation__"
   ]
  },
  {
   "cell_type": "markdown",
   "metadata": {
    "slideshow": {
     "slide_type": "slide"
    }
   },
   "source": [
    "\n",
    "![](images/wordnet_polarity.png)"
   ]
  },
  {
   "cell_type": "markdown",
   "metadata": {
    "slideshow": {
     "slide_type": "slide"
    }
   },
   "source": [
    "Negation\n",
    "-----\n",
    "\n",
    "![](images/negation.png)"
   ]
  },
  {
   "cell_type": "markdown",
   "metadata": {
    "slideshow": {
     "slide_type": "slide"
    }
   },
   "source": [
    "Negation\n",
    "----\n",
    "\n",
    "Domain-specific features and weights: very important in real performance\n",
    "\n",
    "Negation is a domain-specific (sentiment) feature."
   ]
  },
  {
   "cell_type": "markdown",
   "metadata": {
    "slideshow": {
     "slide_type": "slide"
    }
   },
   "source": [
    "Modeling Negation\n",
    "-----\n",
    "\n",
    "Add NOT_ to every word between negation and following punctuation:\n",
    "\n",
    "> didn’t like this movie , but I\n",
    "\n",
    "` didn’t NOT_like NOT_this NOT_movie but I`"
   ]
  },
  {
   "cell_type": "markdown",
   "metadata": {
    "slideshow": {
     "slide_type": "slide"
    }
   },
   "source": [
    "Negation is hard to perfectly model\n",
    "-----\n",
    "\n",
    "__Thwarted Expectations__\n",
    "\n",
    "> “This film should be brilliant. It sounds like a great plot, the actors are first grade, and the supporting cast is good as well, and Stallone is attempting to deliver a good performance. However, it can’t hold up.”"
   ]
  },
  {
   "cell_type": "markdown",
   "metadata": {
    "slideshow": {
     "slide_type": "fragment"
    }
   },
   "source": [
    "__Ordering Effects__\n",
    "\n",
    "> Well as usual Keanu Reeves is nothing special, but surprisingly, the very talented Laurence Fishbourne is not so good either, I was surprised."
   ]
  },
  {
   "cell_type": "markdown",
   "metadata": {
    "slideshow": {
     "slide_type": "slide"
    }
   },
   "source": [
    "---\n",
    "Create Data Products with Sentiment Analysis\n",
    "--- \n",
    "Sentiment by Topic from OpenTable\n",
    "![](images/pos_sentiments.png)\n"
   ]
  },
  {
   "cell_type": "markdown",
   "metadata": {
    "slideshow": {
     "slide_type": "slide"
    }
   },
   "source": [
    "![](images/neg_sentiment.png)"
   ]
  },
  {
   "cell_type": "markdown",
   "metadata": {
    "slideshow": {
     "slide_type": "slide"
    }
   },
   "source": [
    "![](images/sentiment_by_topic.png)"
   ]
  },
  {
   "cell_type": "markdown",
   "metadata": {
    "slideshow": {
     "slide_type": "slide"
    }
   },
   "source": [
    "---\n",
    "Challenge question\n",
    "---\n",
    "\n",
    "What is type of documents do __not__ have sentiment?"
   ]
  },
  {
   "cell_type": "markdown",
   "metadata": {
    "slideshow": {
     "slide_type": "slide"
    }
   },
   "source": [
    "- Resumes / job postings (cover letters do)\n",
    "- News articles\n"
   ]
  },
  {
   "cell_type": "markdown",
   "metadata": {
    "slideshow": {
     "slide_type": "slide"
    }
   },
   "source": [
    "Summary\n",
    "-----\n",
    "\n",
    "- Sentiment Analysis is a text classification problem\n",
    "    - Typically - binary\n",
    "    + Sometimes - degree\n",
    "    + Should be - multi-class\n",
    "- Sentiment Analysis is very hard\n",
    "    + Need labeled data\n",
    "    + More features help\n",
    "    + Negation is usually the best feature to add\n",
    "- Don't forget about our old friends: Precision, Recall, and F1 \n",
    "    + Apply to classification\n",
    "    + Extend to multi-class"
   ]
  },
  {
   "cell_type": "markdown",
   "metadata": {
    "slideshow": {
     "slide_type": "slide"
    }
   },
   "source": [
    "<br>\n",
    "<br>\n",
    "---"
   ]
  }
 ],
 "metadata": {
  "anaconda-cloud": {},
  "celltoolbar": "Slideshow",
  "kernelspec": {
   "display_name": "Python 3",
   "language": "python",
   "name": "python3"
  },
  "language_info": {
   "codemirror_mode": {
    "name": "ipython",
    "version": 3
   },
   "file_extension": ".py",
   "mimetype": "text/x-python",
   "name": "python",
   "nbconvert_exporter": "python",
   "pygments_lexer": "ipython3",
   "version": "3.5.2"
  }
 },
 "nbformat": 4,
 "nbformat_minor": 0
}
