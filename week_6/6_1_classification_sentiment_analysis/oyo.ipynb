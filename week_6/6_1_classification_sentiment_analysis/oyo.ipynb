{
 "cells": [
  {
   "cell_type": "markdown",
   "metadata": {
    "nbpresent": {
     "id": "6e157d56-c2b0-48d2-acb9-c64e137b6994"
    },
    "slideshow": {
     "slide_type": "slide"
    }
   },
   "source": [
    "\n",
    "<img src=\"images/sarcasm.png\" style=\"width: 375px;\"/>\n",
    "\n",
    "How you would algorithmically detect scarasm in text?"
   ]
  },
  {
   "cell_type": "markdown",
   "metadata": {
    "nbpresent": {
     "id": "95b510fc-1202-429e-a27d-1f808d59ed25"
    },
    "slideshow": {
     "slide_type": "slide"
    }
   },
   "source": [
    "<br>\n",
    "<br>\n",
    "<br>\n",
    "---"
   ]
  }
 ],
 "metadata": {
  "anaconda-cloud": {},
  "celltoolbar": "Slideshow",
  "kernelspec": {
   "display_name": "Python 3",
   "language": "python",
   "name": "python3"
  },
  "language_info": {
   "codemirror_mode": {
    "name": "ipython",
    "version": 3
   },
   "file_extension": ".py",
   "mimetype": "text/x-python",
   "name": "python",
   "nbconvert_exporter": "python",
   "pygments_lexer": "ipython3",
   "version": "3.5.2"
  },
  "nbpresent": {
   "slides": {
    "7507338c-5113-4364-ab25-3bfca4c433f8": {
     "id": "7507338c-5113-4364-ab25-3bfca4c433f8",
     "prev": null,
     "regions": {
      "67aa4b53-4ef8-4e30-bf39-b54b8894908d": {
       "attrs": {
        "height": 0.8,
        "width": 0.8,
        "x": 0.1,
        "y": 0.1
       },
       "content": {
        "cell": "6e157d56-c2b0-48d2-acb9-c64e137b6994",
        "part": "whole"
       },
       "id": "67aa4b53-4ef8-4e30-bf39-b54b8894908d"
      }
     }
    },
    "d0887ca4-4963-4ca6-8b83-8790042f5022": {
     "id": "d0887ca4-4963-4ca6-8b83-8790042f5022",
     "prev": "7507338c-5113-4364-ab25-3bfca4c433f8",
     "regions": {
      "5e42aed7-924f-4608-8175-e5d6b87dd008": {
       "attrs": {
        "height": 0.8,
        "width": 0.8,
        "x": 0.1,
        "y": 0.1
       },
       "content": {
        "cell": "95b510fc-1202-429e-a27d-1f808d59ed25",
        "part": "whole"
       },
       "id": "5e42aed7-924f-4608-8175-e5d6b87dd008"
      }
     }
    }
   },
   "themes": {}
  }
 },
 "nbformat": 4,
 "nbformat_minor": 0
}
