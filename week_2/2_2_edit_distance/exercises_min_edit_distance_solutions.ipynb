{
 "cells": [
  {
   "cell_type": "code",
   "execution_count": 1,
   "metadata": {
    "collapsed": true
   },
   "outputs": [],
   "source": [
    "reset -fs"
   ]
  },
  {
   "cell_type": "markdown",
   "metadata": {},
   "source": [
    "Levenshtein Distance\n",
    "---\n",
    "\n",
    "[Solution](https://en.wikibooks.org/wiki/Algorithm_Implementation/Strings/Levenshtein_distance#Python)\n",
    "[Another solution](http://www.geeksforgeeks.org/dynamic-programming-set-5-edit-distance/)"
   ]
  },
  {
   "cell_type": "code",
   "execution_count": 6,
   "metadata": {
    "collapsed": true
   },
   "outputs": [],
   "source": [
    "def levenshtein(s1, s2):\n",
    "    \"\"\"Takes 2 strings, returns Levenshtein distance.\n",
    "    \n",
    "    See https://en.wikipedia.org/wiki/Levenshtein_distance\n",
    "    \"\"\"\n",
    "    \n",
    "    if len(s1) < len(s2): # If one word is shorter than the other then change the order (bookkeeping to be consistent)\n",
    "        return levenshtein(s2, s1)\n",
    " \n",
    "    if len(s2) == 0: # Make sure we get a word\n",
    "        return len(s1) # If not the cost is simply dropping all the letters in one of the words, i.e. the length\n",
    " \n",
    "    previous_row = range(len(s2)+1) # Create an array of length of the second word+1\n",
    "   \n",
    "    for i, c1 in enumerate(s1): # Interate through the first word \n",
    "        current_row = [i + 1]\n",
    "        for j, c2 in enumerate(s2): # Interate through the second word\n",
    "            insertions = previous_row[j + 1] + 1 \n",
    "            deletions = current_row[j] + 1       # Take the current row value and add cost\n",
    "            substitutions = previous_row[j] + (c1 != c2) # Take the previous row value and boolean difference\n",
    "            current_row.append(min(insertions, deletions, substitutions))\n",
    "        previous_row = current_row\n",
    " \n",
    "    return previous_row[-1]"
   ]
  },
  {
   "cell_type": "code",
   "execution_count": 7,
   "metadata": {
    "collapsed": true
   },
   "outputs": [],
   "source": [
    "from nltk.metrics.distance import edit_distance "
   ]
  },
  {
   "cell_type": "code",
   "execution_count": 9,
   "metadata": {
    "collapsed": false
   },
   "outputs": [],
   "source": [
    "pairs = [('foo', 'poo'),\n",
    "         ('intention', 'execution')]\n",
    "\n",
    "for pair in pairs:\n",
    "    assert levenshtein(*pair) == edit_distance(*pair)"
   ]
  },
  {
   "cell_type": "markdown",
   "metadata": {},
   "source": [
    "-----"
   ]
  },
  {
   "cell_type": "code",
   "execution_count": 10,
   "metadata": {
    "collapsed": true
   },
   "outputs": [],
   "source": [
    "def levenshtein(s1, s2, cost_sub):\n",
    "    \"\"\"Takes 2 strings, returns Levenshtein distance.\n",
    "    \n",
    "    See https://en.wikipedia.org/wiki/Levenshtein_distance\n",
    "    \"\"\"\n",
    "    \n",
    "    if len(s1) < len(s2): # If one word is shorter than the other then change the order (bookkeeping to be consistent)\n",
    "        return levenshtein(s2, s1)\n",
    " \n",
    "    if len(s2) == 0: # Make sure we get a word\n",
    "        return len(s1) # If not the cost is simply dropping all the letters in one of the words, i.e. the length\n",
    " \n",
    "    previous_row = range(len(s2)+1) # Create an array of length of the second word+1\n",
    "   \n",
    "    for i, c1 in enumerate(s1): # Interate through the first word \n",
    "        current_row = [i + 1]\n",
    "        for j, c2 in enumerate(s2): # Interate through the second word\n",
    "            insertions = previous_row[j + 1] + 1 \n",
    "            deletions = current_row[j] + 1       # Take the current row value and add cost\n",
    "            substitutions = previous_row[j] + (c1 != c2)*cost_sub # Take the previous row value and boolean difference\n",
    "            current_row.append(min(insertions, deletions, substitutions))\n",
    "        previous_row = current_row\n",
    " \n",
    "    return previous_row[-1]"
   ]
  },
  {
   "cell_type": "code",
   "execution_count": 11,
   "metadata": {
    "collapsed": true
   },
   "outputs": [],
   "source": [
    "assert levenshtein('foo', 'poo', cost_sub=2) == 2\n",
    "assert levenshtein('intention', 'execution', cost_sub=2) == 8"
   ]
  },
  {
   "cell_type": "code",
   "execution_count": null,
   "metadata": {
    "collapsed": true
   },
   "outputs": [],
   "source": []
  },
  {
   "cell_type": "code",
   "execution_count": null,
   "metadata": {
    "collapsed": true
   },
   "outputs": [],
   "source": [
    "#TODO: Refactor `levenshtein` to use `numpy`. Compare runtime performance.\n",
    "\n",
    "# Not finished\n",
    "def levenshtein(source, target):\n",
    "    if len(source) < len(target):\n",
    "        return levenshtein(target, source)\n",
    "\n",
    "    # So now we have len(source) >= len(target).\n",
    "    if len(target) == 0:\n",
    "        return len(source)\n",
    "\n",
    "    # We call tuple() to force strings to be used as sequences\n",
    "    # ('c', 'a', 't', 's') - numpy uses them as values by default.\n",
    "    source = np.array(tuple(source))\n",
    "    target = np.array(tuple(target))\n",
    "\n",
    "    # We use a dynamic programming algorithm, but with the\n",
    "    # added optimization that we only need the last two rows\n",
    "    # of the matrix.\n",
    "    previous_row = np.arange(target.size + 1)\n",
    "    for s in source:\n",
    "        # Insertion (target grows longer than source):\n",
    "        current_row = previous_row + 1\n",
    "\n",
    "        # Substitution or matching:\n",
    "        # Target and source items are aligned, and either\n",
    "        # are different (cost of 1), or are the same (cost of 0).\n",
    "        current_row[1:] = np.minimum(\n",
    "                current_row[1:],\n",
    "                np.add(previous_row[:-1], target!=s))\n",
    "\n",
    "        # Deletion (target grows shorter than source):\n",
    "        current_row[1:] = np.minimum(\n",
    "                current_row[1:],\n",
    "                current_row[0:-1] + 1)\n",
    "\n",
    "        previous_row = current_row\n",
    "\n",
    "    return previous_row[-1]"
   ]
  },
  {
   "cell_type": "code",
   "execution_count": null,
   "metadata": {
    "collapsed": true
   },
   "outputs": [],
   "source": []
  },
  {
   "cell_type": "code",
   "execution_count": null,
   "metadata": {
    "collapsed": true
   },
   "outputs": [],
   "source": []
  },
  {
   "cell_type": "markdown",
   "metadata": {},
   "source": [
    "Change making problem\n",
    "--"
   ]
  },
  {
   "cell_type": "code",
   "execution_count": 14,
   "metadata": {
    "collapsed": false
   },
   "outputs": [],
   "source": [
    "def make_change(currency=[], value=0):\n",
    "    \"\"\"Given a list of coins, find the minimum number of coins and which ones.\n",
    "    Use dynamic programming.\n",
    "    \n",
    "    >>> make_change(coins=[1, 5, 10], value=10)\n",
    "    (1, [10]) # 1 coin, 10 denomination\n",
    "    \n",
    "    >>> make_change(coins=[1, 5, 10], value=15)\n",
    "    (2, [10, 5]) # 2 coins, 10 and 5 in denomination\n",
    "    \n",
    "    >>> make_change(coins=[5, 10], value=3)\n",
    "    No solution possible\n",
    "    \"\"\"\n",
    "\n",
    "    table = [None]*(value+1) # Initialize the table\n",
    "    table[0] = [] \n",
    "    for i in range(1, value+1):\n",
    "        for current in currency:\n",
    "            if current > i: continue\n",
    "            elif not table[i] or len(table[i - current]) + 1 < len(table[i]):\n",
    "                if table[i - current] != None:\n",
    "                    table[i] = table[i - current][:]\n",
    "                    table[i].append(current)\n",
    "\n",
    "    if table[-1] != None:\n",
    "        return len(table[-1]), table[-1] # Number of coins, which coins\n",
    "    else:\n",
    "        return 'No solution possible'"
   ]
  },
  {
   "cell_type": "code",
   "execution_count": 16,
   "metadata": {
    "collapsed": false
   },
   "outputs": [],
   "source": [
    "assert make_change(currency=[1, 5, 10], value=10) == (1, [10])\n",
    "assert make_change(currency=[1, 5, 10], value=15) == (2, [10, 5])\n",
    "assert make_change(currency=[1, 5, 10], value=30) == (3, [10, 10, 10])\n",
    "assert make_change(currency=[1, 5, 21, 25], value=63) == (3, [21, 21, 21])\n",
    "assert make_change(currency=[5, 10], value=3) == 'No solution possible'"
   ]
  },
  {
   "cell_type": "markdown",
   "metadata": {},
   "source": [
    "remeber: [Python Tutor](http://www.pythontutor.com/)"
   ]
  },
  {
   "cell_type": "code",
   "execution_count": null,
   "metadata": {
    "collapsed": true
   },
   "outputs": [],
   "source": []
  },
  {
   "cell_type": "code",
   "execution_count": 25,
   "metadata": {
    "collapsed": false
   },
   "outputs": [],
   "source": [
    "\"\"\"__2__) Refactor `make_change` to generate all possible ways of making change (i.e., combinations) from the given coins. Then find minimum valid way. \"\"\"\n",
    "# Hint: \n",
    "# from itertools import combinations_with_replacement\n",
    "\n",
    "# Not finished\n",
    "\n",
    "from itertools import combinations_with_replacement as comb_w_replace\n",
    "\n",
    "def make_change_combos(currency=[], value=0):\n",
    "    \"\"\"Given a list of coins, find the minimum number of coins and which ones.\n",
    "    Generate all possible combinations and find min valid one.\n",
    "    \"\"\"\n",
    "    valid_combinations = []\n",
    "    for i in range(1, value//min(currency)+1):\n",
    "        contenders = [list(x) for x in comb_w_replace(currency, i)]\n",
    "        for contender in contenders:  \n",
    "            # Check if valid and unique way to make change\n",
    "            if (sum(contender) == value) and (tuple(contender) not in set(tuple(_) for _ in valid_combinations)):\n",
    "                valid_combinations.append(contender)\n",
    "\n",
    "    # Return the min value (if it exists)\n",
    "    try:\n",
    "        winner = sorted(valid_combinations, key=len)[0]\n",
    "        return len(winner), winner # number of coins, which coins\n",
    "    except IndexError:\n",
    "        return \"No solution possible\""
   ]
  },
  {
   "cell_type": "code",
   "execution_count": 24,
   "metadata": {
    "collapsed": false
   },
   "outputs": [
    {
     "ename": "AssertionError",
     "evalue": "",
     "output_type": "error",
     "traceback": [
      "\u001b[0;31m---------------------------------------------------------------------------\u001b[0m",
      "\u001b[0;31mAssertionError\u001b[0m                            Traceback (most recent call last)",
      "\u001b[0;32m<ipython-input-24-59da75b9b5a2>\u001b[0m in \u001b[0;36m<module>\u001b[0;34m()\u001b[0m\n\u001b[1;32m      1\u001b[0m \u001b[0;32massert\u001b[0m \u001b[0mmake_change_combos\u001b[0m\u001b[0;34m(\u001b[0m\u001b[0mcurrency\u001b[0m\u001b[0;34m=\u001b[0m\u001b[0;34m[\u001b[0m\u001b[0;36m1\u001b[0m\u001b[0;34m,\u001b[0m \u001b[0;36m5\u001b[0m\u001b[0;34m,\u001b[0m \u001b[0;36m10\u001b[0m\u001b[0;34m]\u001b[0m\u001b[0;34m,\u001b[0m \u001b[0mvalue\u001b[0m\u001b[0;34m=\u001b[0m\u001b[0;36m10\u001b[0m\u001b[0;34m)\u001b[0m \u001b[0;34m==\u001b[0m \u001b[0;34m(\u001b[0m\u001b[0;36m1\u001b[0m\u001b[0;34m,\u001b[0m \u001b[0;34m[\u001b[0m\u001b[0;36m10\u001b[0m\u001b[0;34m]\u001b[0m\u001b[0;34m)\u001b[0m\u001b[0;34m\u001b[0m\u001b[0m\n\u001b[0;32m----> 2\u001b[0;31m \u001b[0;32massert\u001b[0m \u001b[0mmake_change_combos\u001b[0m\u001b[0;34m(\u001b[0m\u001b[0mcurrency\u001b[0m\u001b[0;34m=\u001b[0m\u001b[0;34m[\u001b[0m\u001b[0;36m1\u001b[0m\u001b[0;34m,\u001b[0m \u001b[0;36m5\u001b[0m\u001b[0;34m,\u001b[0m \u001b[0;36m10\u001b[0m\u001b[0;34m]\u001b[0m\u001b[0;34m,\u001b[0m \u001b[0mvalue\u001b[0m\u001b[0;34m=\u001b[0m\u001b[0;36m15\u001b[0m\u001b[0;34m)\u001b[0m \u001b[0;34m==\u001b[0m \u001b[0;34m(\u001b[0m\u001b[0;36m2\u001b[0m\u001b[0;34m,\u001b[0m \u001b[0;34m[\u001b[0m\u001b[0;36m10\u001b[0m\u001b[0;34m,\u001b[0m \u001b[0;36m5\u001b[0m\u001b[0;34m]\u001b[0m\u001b[0;34m)\u001b[0m\u001b[0;34m\u001b[0m\u001b[0m\n\u001b[0m\u001b[1;32m      3\u001b[0m \u001b[0;32massert\u001b[0m \u001b[0mmake_change_combos\u001b[0m\u001b[0;34m(\u001b[0m\u001b[0mcurrency\u001b[0m\u001b[0;34m=\u001b[0m\u001b[0;34m[\u001b[0m\u001b[0;36m1\u001b[0m\u001b[0;34m,\u001b[0m \u001b[0;36m5\u001b[0m\u001b[0;34m,\u001b[0m \u001b[0;36m10\u001b[0m\u001b[0;34m]\u001b[0m\u001b[0;34m,\u001b[0m \u001b[0mvalue\u001b[0m\u001b[0;34m=\u001b[0m\u001b[0;36m30\u001b[0m\u001b[0;34m)\u001b[0m \u001b[0;34m==\u001b[0m \u001b[0;34m(\u001b[0m\u001b[0;36m3\u001b[0m\u001b[0;34m,\u001b[0m \u001b[0;34m[\u001b[0m\u001b[0;36m10\u001b[0m\u001b[0;34m,\u001b[0m \u001b[0;36m10\u001b[0m\u001b[0;34m,\u001b[0m \u001b[0;36m10\u001b[0m\u001b[0;34m]\u001b[0m\u001b[0;34m)\u001b[0m\u001b[0;34m\u001b[0m\u001b[0m\n\u001b[1;32m      4\u001b[0m \u001b[0;32massert\u001b[0m \u001b[0mmake_change_combos\u001b[0m\u001b[0;34m(\u001b[0m\u001b[0mcurrency\u001b[0m\u001b[0;34m=\u001b[0m\u001b[0;34m[\u001b[0m\u001b[0;36m1\u001b[0m\u001b[0;34m,\u001b[0m \u001b[0;36m5\u001b[0m\u001b[0;34m,\u001b[0m \u001b[0;36m21\u001b[0m\u001b[0;34m,\u001b[0m \u001b[0;36m25\u001b[0m\u001b[0;34m]\u001b[0m\u001b[0;34m,\u001b[0m \u001b[0mvalue\u001b[0m\u001b[0;34m=\u001b[0m\u001b[0;36m63\u001b[0m\u001b[0;34m)\u001b[0m \u001b[0;34m==\u001b[0m \u001b[0;34m(\u001b[0m\u001b[0;36m3\u001b[0m\u001b[0;34m,\u001b[0m \u001b[0;34m[\u001b[0m\u001b[0;36m21\u001b[0m\u001b[0;34m,\u001b[0m \u001b[0;36m21\u001b[0m\u001b[0;34m,\u001b[0m \u001b[0;36m21\u001b[0m\u001b[0;34m]\u001b[0m\u001b[0;34m)\u001b[0m\u001b[0;34m\u001b[0m\u001b[0m\n\u001b[1;32m      5\u001b[0m \u001b[0;32massert\u001b[0m \u001b[0mmake_change_combos\u001b[0m\u001b[0;34m(\u001b[0m\u001b[0mcurrency\u001b[0m\u001b[0;34m=\u001b[0m\u001b[0;34m[\u001b[0m\u001b[0;36m5\u001b[0m\u001b[0;34m,\u001b[0m \u001b[0;36m10\u001b[0m\u001b[0;34m]\u001b[0m\u001b[0;34m,\u001b[0m \u001b[0mvalue\u001b[0m\u001b[0;34m=\u001b[0m\u001b[0;36m3\u001b[0m\u001b[0;34m)\u001b[0m \u001b[0;34m==\u001b[0m \u001b[0;34m'No solution possible'\u001b[0m\u001b[0;34m\u001b[0m\u001b[0m\n",
      "\u001b[0;31mAssertionError\u001b[0m: "
     ]
    }
   ],
   "source": [
    "assert make_change_combos(currency=[1, 5, 10], value=10) == (1, [10])\n",
    "assert make_change_combos(currency=[1, 5, 10], value=15) == (2, [10, 5])\n",
    "assert make_change_combos(currency=[1, 5, 10], value=30) == (3, [10, 10, 10])\n",
    "assert make_change_combos(currency=[1, 5, 21, 25], value=63) == (3, [21, 21, 21])\n",
    "assert make_change_combos(currency=[5, 10], value=3) == 'No solution possible'\n"
   ]
  },
  {
   "cell_type": "code",
   "execution_count": null,
   "metadata": {
    "collapsed": true
   },
   "outputs": [],
   "source": []
  }
 ],
 "metadata": {
  "kernelspec": {
   "display_name": "Python 3",
   "language": "python",
   "name": "python3"
  },
  "language_info": {
   "codemirror_mode": {
    "name": "ipython",
    "version": 3
   },
   "file_extension": ".py",
   "mimetype": "text/x-python",
   "name": "python",
   "nbconvert_exporter": "python",
   "pygments_lexer": "ipython3",
   "version": "3.5.2"
  }
 },
 "nbformat": 4,
 "nbformat_minor": 0
}
