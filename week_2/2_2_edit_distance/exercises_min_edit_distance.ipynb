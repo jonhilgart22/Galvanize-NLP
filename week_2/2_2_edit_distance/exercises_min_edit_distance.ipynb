{
 "cells": [
  {
   "cell_type": "markdown",
   "metadata": {},
   "source": [
    "Exercises: Calculating Minimum Edit Distance with Dynamic Programming\n",
    "==="
   ]
  },
  {
   "cell_type": "markdown",
   "metadata": {},
   "source": [
    "---\n",
    "Levenshtein Distance\n",
    "---\n",
    "\n",
    "![](http://image.slidesharecdn.com/knnandtreedistance2-090624110504-phpapp02/95/tree-distance-algorithm-5-728.jpg?cb=1245841553)\n",
    "\n",
    "Levenshtein distance (LD) is a measure of the similarity between two strings. \n",
    "\n",
    "The distance is the number of deletions, insertions, or substitutions required to transform one string into another.\n",
    "\n",
    "We are going to calculate Levenshtein Distance using Dynamic Programming."
   ]
  },
  {
   "cell_type": "code",
   "execution_count": 1,
   "metadata": {
    "collapsed": false
   },
   "outputs": [],
   "source": [
    "def levenshtein(s1, s2):\n",
    "    \"\"\"Takes 2 strings, returns Levenshtein distance.\n",
    "    \n",
    "    See https://en.wikipedia.org/wiki/Levenshtein_distance\n",
    "    \"\"\"\n",
    "    \n",
    "    if len(s1) < len(s2): # If one word is shorter than the other then change the order (bookkeeping to be consistent)\n",
    "        return levenshtein(s2, s1)\n",
    " \n",
    "    if len(s2) == 0: # Make sure we get a word\n",
    "        return len(s1) # If not the cost is simply dropping all the letters in one of the words, i.e. the length\n",
    " \n",
    "    previous_row = range(len(s2)+1) # Create an array of length of the second word+1\n",
    "   \n",
    "    for i, c1 in enumerate(s1): # Interate through the first word \n",
    "        current_row = [i + 1]\n",
    "        for j, c2 in enumerate(s2): # Interate through the second word\n",
    "            insertions = previous_row[j + 1] + 1 \n",
    "            deletions = None # TODO: WRITE CODE TO DETEMINE DELETIONS     \n",
    "            substitutions = None # TODO: WRITE CODE TO DETEMINE SUBSTITUTION\n",
    "            current_row.append(min(insertions, deletions, substitutions))\n",
    "        previous_row = current_rows\n",
    " \n",
    "    return previous_row[-1]"
   ]
  },
  {
   "cell_type": "markdown",
   "metadata": {},
   "source": [
    "Hints\n",
    "----\n",
    "\n",
    "> The sooner you start to code, the longer the program will take.  \n",
    "> – Roy Carlson, University of Wisconsin\n",
    "\n",
    "- You will write 2 lines of code that will be ~140 characters. Like most computer science challenges, it will require more thinking that writing.\n",
    "\n",
    "> If you can’t write it down in English, you can’t code it.\n",
    "> – Peter Halpern\n",
    "\n",
    "- Practice the algorithm on your white desk table several times before trying to code.\n",
    " "
   ]
  },
  {
   "cell_type": "markdown",
   "metadata": {
    "collapsed": true
   },
   "source": [
    "-----"
   ]
  },
  {
   "cell_type": "markdown",
   "metadata": {},
   "source": [
    "Let's compare your solution to the built-in solution"
   ]
  },
  {
   "cell_type": "code",
   "execution_count": 2,
   "metadata": {
    "collapsed": false
   },
   "outputs": [],
   "source": [
    "from nltk.metrics.distance import edit_distance "
   ]
  },
  {
   "cell_type": "code",
   "execution_count": 3,
   "metadata": {
    "collapsed": false
   },
   "outputs": [
    {
     "data": {
      "text/plain": [
       "1"
      ]
     },
     "execution_count": 3,
     "metadata": {},
     "output_type": "execute_result"
    }
   ],
   "source": [
    "edit_distance('foo', 'poo') # Assumes a substitution cost of 1"
   ]
  },
  {
   "cell_type": "code",
   "execution_count": 5,
   "metadata": {
    "collapsed": false
   },
   "outputs": [
    {
     "ename": "TypeError",
     "evalue": "unorderable types: NoneType() < int()",
     "output_type": "error",
     "traceback": [
      "\u001b[0;31m---------------------------------------------------------------------------\u001b[0m",
      "\u001b[0;31mTypeError\u001b[0m                                 Traceback (most recent call last)",
      "\u001b[0;32m<ipython-input-5-e1d056e95872>\u001b[0m in \u001b[0;36m<module>\u001b[0;34m()\u001b[0m\n\u001b[1;32m      3\u001b[0m \u001b[0;34m\u001b[0m\u001b[0m\n\u001b[1;32m      4\u001b[0m \u001b[0;32mfor\u001b[0m \u001b[0mpair\u001b[0m \u001b[0;32min\u001b[0m \u001b[0mpairs\u001b[0m\u001b[0;34m:\u001b[0m\u001b[0;34m\u001b[0m\u001b[0m\n\u001b[0;32m----> 5\u001b[0;31m     \u001b[0;32massert\u001b[0m \u001b[0mlevenshtein\u001b[0m\u001b[0;34m(\u001b[0m\u001b[0;34m*\u001b[0m\u001b[0mpair\u001b[0m\u001b[0;34m)\u001b[0m \u001b[0;34m==\u001b[0m \u001b[0medit_distance\u001b[0m\u001b[0;34m(\u001b[0m\u001b[0;34m*\u001b[0m\u001b[0mpair\u001b[0m\u001b[0;34m)\u001b[0m\u001b[0;34m\u001b[0m\u001b[0m\n\u001b[0m",
      "\u001b[0;32m<ipython-input-1-05324317fdd9>\u001b[0m in \u001b[0;36mlevenshtein\u001b[0;34m(s1, s2)\u001b[0m\n\u001b[1;32m     20\u001b[0m             \u001b[0mdeletions\u001b[0m \u001b[0;34m=\u001b[0m \u001b[0;32mNone\u001b[0m \u001b[0;31m# TODO: WRITE CODE TO DETEMINE DELETIONS\u001b[0m\u001b[0;34m\u001b[0m\u001b[0m\n\u001b[1;32m     21\u001b[0m             \u001b[0msubstitutions\u001b[0m \u001b[0;34m=\u001b[0m \u001b[0;32mNone\u001b[0m \u001b[0;31m# TODO: WRITE CODE TO DETEMINE SUBSTITUTION\u001b[0m\u001b[0;34m\u001b[0m\u001b[0m\n\u001b[0;32m---> 22\u001b[0;31m             \u001b[0mcurrent_row\u001b[0m\u001b[0;34m.\u001b[0m\u001b[0mappend\u001b[0m\u001b[0;34m(\u001b[0m\u001b[0mmin\u001b[0m\u001b[0;34m(\u001b[0m\u001b[0minsertions\u001b[0m\u001b[0;34m,\u001b[0m \u001b[0mdeletions\u001b[0m\u001b[0;34m,\u001b[0m \u001b[0msubstitutions\u001b[0m\u001b[0;34m)\u001b[0m\u001b[0;34m)\u001b[0m\u001b[0;34m\u001b[0m\u001b[0m\n\u001b[0m\u001b[1;32m     23\u001b[0m         \u001b[0mprevious_row\u001b[0m \u001b[0;34m=\u001b[0m \u001b[0mcurrent_rows\u001b[0m\u001b[0;34m\u001b[0m\u001b[0m\n\u001b[1;32m     24\u001b[0m \u001b[0;34m\u001b[0m\u001b[0m\n",
      "\u001b[0;31mTypeError\u001b[0m: unorderable types: NoneType() < int()"
     ]
    }
   ],
   "source": [
    "pairs = [('foo', 'poo'),\n",
    "         ('intention', 'execution')]\n",
    "\n",
    "for pair in pairs:\n",
    "    assert levenshtein(*pair) == edit_distance(*pair)"
   ]
  },
  {
   "cell_type": "markdown",
   "metadata": {},
   "source": [
    "TODO: extend the function to include substitution cost argument"
   ]
  },
  {
   "cell_type": "code",
   "execution_count": 5,
   "metadata": {
    "collapsed": true
   },
   "outputs": [],
   "source": [
    "def levenshtein(s1, s2, cost_sub):\n",
    "    \"\"\"Takes 2 words and a cost of substitution, returns Levenshtein distance.\n",
    "    \"\"\"\n",
    "    pass"
   ]
  },
  {
   "cell_type": "code",
   "execution_count": 7,
   "metadata": {
    "collapsed": false
   },
   "outputs": [
    {
     "ename": "TypeError",
     "evalue": "levenshtein() got an unexpected keyword argument 'cost_sub'",
     "output_type": "error",
     "traceback": [
      "\u001b[0;31m---------------------------------------------------------------------------\u001b[0m",
      "\u001b[0;31mTypeError\u001b[0m                                 Traceback (most recent call last)",
      "\u001b[0;32m<ipython-input-7-97987d6d9756>\u001b[0m in \u001b[0;36m<module>\u001b[0;34m()\u001b[0m\n\u001b[0;32m----> 1\u001b[0;31m \u001b[0;32massert\u001b[0m \u001b[0mlevenshtein\u001b[0m\u001b[0;34m(\u001b[0m\u001b[0;34m'foo'\u001b[0m\u001b[0;34m,\u001b[0m \u001b[0;34m'poo'\u001b[0m\u001b[0;34m,\u001b[0m \u001b[0mcost_sub\u001b[0m\u001b[0;34m=\u001b[0m\u001b[0;36m2\u001b[0m\u001b[0;34m)\u001b[0m \u001b[0;34m==\u001b[0m \u001b[0;36m2\u001b[0m\u001b[0;34m\u001b[0m\u001b[0m\n\u001b[0m\u001b[1;32m      2\u001b[0m \u001b[0;32massert\u001b[0m \u001b[0mlevenshtein\u001b[0m\u001b[0;34m(\u001b[0m\u001b[0;34m'intention'\u001b[0m\u001b[0;34m,\u001b[0m \u001b[0;34m'execution'\u001b[0m\u001b[0;34m,\u001b[0m \u001b[0mcost_sub\u001b[0m\u001b[0;34m=\u001b[0m\u001b[0;36m2\u001b[0m\u001b[0;34m)\u001b[0m \u001b[0;34m==\u001b[0m \u001b[0;36m8\u001b[0m\u001b[0;34m\u001b[0m\u001b[0m\n",
      "\u001b[0;31mTypeError\u001b[0m: levenshtein() got an unexpected keyword argument 'cost_sub'"
     ]
    }
   ],
   "source": [
    "assert levenshtein('foo', 'poo', cost_sub=2) == 2\n",
    "assert levenshtein('intention', 'execution', cost_sub=2) == 8"
   ]
  },
  {
   "cell_type": "markdown",
   "metadata": {},
   "source": [
    "----\n",
    "Challenge Exercises\n",
    "----"
   ]
  },
  {
   "cell_type": "markdown",
   "metadata": {},
   "source": [
    "__1)__ Making change\n",
    "\n",
    "![](http://i1183.photobucket.com/albums/x464/elj4s/Screenshot2012-09-20at42821PM_zpsdb433335.png)\n",
    "\n",
    "__Problem__: making change problem. The objective is to determine the smallest number of currency of a particular denomination required to make change for a given amount. \n",
    "\n",
    "This algorithm could be applied for automated self-checkout at the grocery store.\n",
    "\n",
    "![](https://si.wsj.net/public/resources/images/MK-CG842_HIGHDE_G_20131006174545.jpg)\n",
    "\n",
    "__Solution__:\n",
    "Today we are going to explore dynamic programming (DP). \n",
    "\n",
    "For example, if the denomination of the currency are \\$1 and \\$2 and it was required to make change for \\$3 then we would use \\$1 + \\$2 i.e. 2 pieces of currency. \n",
    "\n",
    "However if the amount was \\$4 then we would could either use \\$1+\\$1+\\$1+\\$1 or \\$1+\\$1+\\$2 or \\$2+\\$2 and the minimum number of currency would 2 (\\$2+\\$2). \n",
    "\n",
    "The minimum number of coins required to make change for \\$P is the number of coins required to make change for the amount \\$P-x plus 1 (+1 because we need another coin to get us from \\$P-x to P). \n",
    "\n",
    "These can be illustrated mathematically as: \n",
    "\n",
    "> Let us assume that we have $n$ currecy of distinct denomination. Where the denomination of the currency $i$ is $v_i$. We can sort the currency according to denomination values such that $v_1<v_2<v_3<..<v_n$\n",
    "\n",
    "> Let us use $C(p)$ to denote the minimum number of currency required to make change for $ \\$p$ \n",
    "\n",
    "> Using the principles of recursion $C(p)=min_i C(p-v_i)+1$\n",
    "\n",
    "> For example, assume we want to make 5, and $v_1=1, v_2=2, v_3=3$. <br>\n",
    "Therefore $C(5) = min(C(5-1)+1, C(5-2)+1, C(5-3)+1)$  $\\Longrightarrow min(C(4)+1, C(3)+1, C(2)+1)$"
   ]
  },
  {
   "cell_type": "code",
   "execution_count": 7,
   "metadata": {
    "collapsed": true
   },
   "outputs": [],
   "source": [
    "def make_change(currency=[], value=0):\n",
    "    \"\"\"Given a list of currency and the target value, return the minimum number of currency and a list of values.\n",
    "    Dynamic programming (DP) is an efficient solution.    \n",
    "    \"\"\"\n",
    "    pass"
   ]
  },
  {
   "cell_type": "code",
   "execution_count": 8,
   "metadata": {
    "collapsed": false
   },
   "outputs": [
    {
     "ename": "AssertionError",
     "evalue": "",
     "output_type": "error",
     "traceback": [
      "\u001b[0;31m---------------------------------------------------------------------------\u001b[0m",
      "\u001b[0;31mAssertionError\u001b[0m                            Traceback (most recent call last)",
      "\u001b[0;32m<ipython-input-8-87e2cbc0fe1f>\u001b[0m in \u001b[0;36m<module>\u001b[0;34m()\u001b[0m\n\u001b[0;32m----> 1\u001b[0;31m \u001b[0;32massert\u001b[0m \u001b[0mmake_change\u001b[0m\u001b[0;34m(\u001b[0m\u001b[0mcurrency\u001b[0m\u001b[0;34m=\u001b[0m\u001b[0;34m[\u001b[0m\u001b[0;36m1\u001b[0m\u001b[0;34m,\u001b[0m \u001b[0;36m5\u001b[0m\u001b[0;34m,\u001b[0m \u001b[0;36m10\u001b[0m\u001b[0;34m]\u001b[0m\u001b[0;34m,\u001b[0m \u001b[0mvalue\u001b[0m\u001b[0;34m=\u001b[0m\u001b[0;36m10\u001b[0m\u001b[0;34m)\u001b[0m \u001b[0;34m==\u001b[0m \u001b[0;34m(\u001b[0m\u001b[0;36m1\u001b[0m\u001b[0;34m,\u001b[0m \u001b[0;34m[\u001b[0m\u001b[0;36m10\u001b[0m\u001b[0;34m]\u001b[0m\u001b[0;34m)\u001b[0m \u001b[0;31m# 1 piece of currency, value of 10\u001b[0m\u001b[0;34m\u001b[0m\u001b[0m\n\u001b[0m\u001b[1;32m      2\u001b[0m \u001b[0;32massert\u001b[0m \u001b[0mmake_change\u001b[0m\u001b[0;34m(\u001b[0m\u001b[0mcurrency\u001b[0m\u001b[0;34m=\u001b[0m\u001b[0;34m[\u001b[0m\u001b[0;36m1\u001b[0m\u001b[0;34m,\u001b[0m \u001b[0;36m5\u001b[0m\u001b[0;34m,\u001b[0m \u001b[0;36m10\u001b[0m\u001b[0;34m]\u001b[0m\u001b[0;34m,\u001b[0m \u001b[0mvalue\u001b[0m\u001b[0;34m=\u001b[0m\u001b[0;36m15\u001b[0m\u001b[0;34m)\u001b[0m \u001b[0;34m==\u001b[0m \u001b[0;34m(\u001b[0m\u001b[0;36m2\u001b[0m\u001b[0;34m,\u001b[0m \u001b[0;34m[\u001b[0m\u001b[0;36m10\u001b[0m\u001b[0;34m,\u001b[0m \u001b[0;36m5\u001b[0m\u001b[0;34m]\u001b[0m\u001b[0;34m)\u001b[0m \u001b[0;31m# 2 pieces of currency, values of 10 and 5\u001b[0m\u001b[0;34m\u001b[0m\u001b[0m\n\u001b[1;32m      3\u001b[0m \u001b[0;32massert\u001b[0m \u001b[0mmake_change\u001b[0m\u001b[0;34m(\u001b[0m\u001b[0mcurrency\u001b[0m\u001b[0;34m=\u001b[0m\u001b[0;34m[\u001b[0m\u001b[0;36m1\u001b[0m\u001b[0;34m,\u001b[0m \u001b[0;36m5\u001b[0m\u001b[0;34m,\u001b[0m \u001b[0;36m10\u001b[0m\u001b[0;34m]\u001b[0m\u001b[0;34m,\u001b[0m \u001b[0mvalue\u001b[0m\u001b[0;34m=\u001b[0m\u001b[0;36m30\u001b[0m\u001b[0;34m)\u001b[0m \u001b[0;34m==\u001b[0m \u001b[0;34m(\u001b[0m\u001b[0;36m3\u001b[0m\u001b[0;34m,\u001b[0m \u001b[0;34m[\u001b[0m\u001b[0;36m10\u001b[0m\u001b[0;34m,\u001b[0m \u001b[0;36m10\u001b[0m\u001b[0;34m,\u001b[0m \u001b[0;36m10\u001b[0m\u001b[0;34m]\u001b[0m\u001b[0;34m)\u001b[0m\u001b[0;34m\u001b[0m\u001b[0m\n\u001b[1;32m      4\u001b[0m \u001b[0;32massert\u001b[0m \u001b[0mmake_change\u001b[0m\u001b[0;34m(\u001b[0m\u001b[0mcurrency\u001b[0m\u001b[0;34m=\u001b[0m\u001b[0;34m[\u001b[0m\u001b[0;36m1\u001b[0m\u001b[0;34m,\u001b[0m \u001b[0;36m5\u001b[0m\u001b[0;34m,\u001b[0m \u001b[0;36m21\u001b[0m\u001b[0;34m,\u001b[0m \u001b[0;36m25\u001b[0m\u001b[0;34m]\u001b[0m\u001b[0;34m,\u001b[0m \u001b[0mvalue\u001b[0m\u001b[0;34m=\u001b[0m\u001b[0;36m63\u001b[0m\u001b[0;34m)\u001b[0m \u001b[0;34m==\u001b[0m \u001b[0;34m(\u001b[0m\u001b[0;36m3\u001b[0m\u001b[0;34m,\u001b[0m \u001b[0;34m[\u001b[0m\u001b[0;36m21\u001b[0m\u001b[0;34m,\u001b[0m \u001b[0;36m21\u001b[0m\u001b[0;34m,\u001b[0m \u001b[0;36m21\u001b[0m\u001b[0;34m]\u001b[0m\u001b[0;34m)\u001b[0m\u001b[0;34m\u001b[0m\u001b[0m\n\u001b[1;32m      5\u001b[0m \u001b[0;32massert\u001b[0m \u001b[0mmake_change\u001b[0m\u001b[0;34m(\u001b[0m\u001b[0mcurrency\u001b[0m\u001b[0;34m=\u001b[0m\u001b[0;34m[\u001b[0m\u001b[0;36m5\u001b[0m\u001b[0;34m,\u001b[0m \u001b[0;36m10\u001b[0m\u001b[0;34m]\u001b[0m\u001b[0;34m,\u001b[0m \u001b[0mvalue\u001b[0m\u001b[0;34m=\u001b[0m\u001b[0;36m3\u001b[0m\u001b[0;34m)\u001b[0m \u001b[0;34m==\u001b[0m \u001b[0;34m'No solution possible'\u001b[0m \u001b[0;31m# Error handling\u001b[0m\u001b[0;34m\u001b[0m\u001b[0m\n",
      "\u001b[0;31mAssertionError\u001b[0m: "
     ]
    }
   ],
   "source": [
    "assert make_change(currency=[1, 5, 10], value=10) == (1, [10]) # 1 piece of currency, value of 10\n",
    "assert make_change(currency=[1, 5, 10], value=15) == (2, [10, 5]) # 2 pieces of currency, values of 10 and 5\n",
    "assert make_change(currency=[1, 5, 10], value=30) == (3, [10, 10, 10]) \n",
    "assert make_change(currency=[1, 5, 21, 25], value=63) == (3, [21, 21, 21])\n",
    "assert make_change(currency=[5, 10], value=3) == 'No solution possible' # Error handling"
   ]
  },
  {
   "cell_type": "markdown",
   "metadata": {},
   "source": [
    "<br>\n",
    "<br>\n",
    "---"
   ]
  }
 ],
 "metadata": {
  "anaconda-cloud": {},
  "kernelspec": {
   "display_name": "Python 3",
   "language": "python",
   "name": "python3"
  },
  "language_info": {
   "codemirror_mode": {
    "name": "ipython",
    "version": 3
   },
   "file_extension": ".py",
   "mimetype": "text/x-python",
   "name": "python",
   "nbconvert_exporter": "python",
   "pygments_lexer": "ipython3",
   "version": "3.5.2"
  }
 },
 "nbformat": 4,
 "nbformat_minor": 0
}
