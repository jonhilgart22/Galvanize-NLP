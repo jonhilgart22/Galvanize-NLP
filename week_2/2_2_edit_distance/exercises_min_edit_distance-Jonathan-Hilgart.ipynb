{
 "cells": [
  {
   "cell_type": "markdown",
   "metadata": {},
   "source": [
    "Exercises: Calculating Minimum Edit Distance with Dynamic Programming\n",
    "==="
   ]
  },
  {
   "cell_type": "markdown",
   "metadata": {},
   "source": [
    "---\n",
    "Levenshtein Distance\n",
    "---\n",
    "\n",
    "![](http://image.slidesharecdn.com/knnandtreedistance2-090624110504-phpapp02/95/tree-distance-algorithm-5-728.jpg?cb=1245841553)\n",
    "\n",
    "Levenshtein distance (LD) is a measure of the similarity between two strings. \n",
    "\n",
    "The distance is the number of deletions, insertions, or substitutions required to transform one string into another.\n",
    "\n",
    "We are going to calculate Levenshtein Distance using Dynamic Programming."
   ]
  },
  {
   "cell_type": "code",
   "execution_count": 125,
   "metadata": {
    "collapsed": false
   },
   "outputs": [],
   "source": [
    "def levenshtein(s1, s2):\n",
    "    \"\"\"Takes 2 strings, returns Levenshtein distance.\n",
    "    \n",
    "    See https://en.wikipedia.org/wiki/Levenshtein_distance\n",
    "    \"\"\"\n",
    "    \n",
    "    if len(s1) < len(s2): # If one word is shorter than the other then change the order (bookkeeping to be consistent)\n",
    "        return levenshtein(s2, s1)\n",
    " \n",
    "    if len(s2) == 0: # Make sure we get a word\n",
    "        return len(s1) # If not the cost is simply dropping all the letters in one of the words, i.e. the length\n",
    " \n",
    "    previous_row = range(len(s2)+1) # Create an array of length of the second word+1\n",
    "\n",
    "    \n",
    "    for i, c1 in enumerate(s1): # Interate through the first word \n",
    "        current_row = [i + 1]\n",
    "\n",
    "        for j, c2 in enumerate(s2): # Interate through the second word\n",
    "\n",
    "            insertions = previous_row[j + 1] + 1 \n",
    "            \n",
    "\n",
    "            deletions =current_row[j]+1  # TODO: WRITE CODE TO DETEMINE DELETIONS  \n",
    "            \n",
    "\n",
    "            if c1==c2:\n",
    "\n",
    "                substitutions =previous_row[j]+0\n",
    "            else:\n",
    "\n",
    "                substitutions =previous_row[j]+1 # TODO: WRITE CODE TO DETEMINE SUBSTITUTION\n",
    "            \n",
    "\n",
    "            current_row.append(min(insertions, deletions, substitutions))\n",
    "           \n",
    "\n",
    "        previous_row = current_row\n",
    "\n",
    "    return previous_row[-1]"
   ]
  },
  {
   "cell_type": "code",
   "execution_count": 126,
   "metadata": {
    "collapsed": false
   },
   "outputs": [
    {
     "data": {
      "text/plain": [
       "5"
      ]
     },
     "execution_count": 126,
     "metadata": {},
     "output_type": "execute_result"
    }
   ],
   "source": [
    "levenshtein('intention','execution')"
   ]
  },
  {
   "cell_type": "markdown",
   "metadata": {},
   "source": [
    "Hints\n",
    "----\n",
    "\n",
    "> The sooner you start to code, the longer the program will take.  \n",
    "> – Roy Carlson, University of Wisconsin\n",
    "\n",
    "- You will write 2 lines of code that will be ~140 characters. Like most computer science challenges, it will require more thinking that writing.\n",
    "\n",
    "> If you can’t write it down in English, you can’t code it.\n",
    "> – Peter Halpern\n",
    "\n",
    "- Practice the algorithm on your white desk table several times before trying to code.\n",
    " "
   ]
  },
  {
   "cell_type": "markdown",
   "metadata": {
    "collapsed": true
   },
   "source": [
    "-----"
   ]
  },
  {
   "cell_type": "markdown",
   "metadata": {},
   "source": [
    "Let's compare your solution to the built-in solution"
   ]
  },
  {
   "cell_type": "code",
   "execution_count": 127,
   "metadata": {
    "collapsed": false
   },
   "outputs": [],
   "source": [
    "from nltk.metrics.distance import edit_distance "
   ]
  },
  {
   "cell_type": "code",
   "execution_count": 128,
   "metadata": {
    "collapsed": false
   },
   "outputs": [
    {
     "data": {
      "text/plain": [
       "5"
      ]
     },
     "execution_count": 128,
     "metadata": {},
     "output_type": "execute_result"
    }
   ],
   "source": [
    "edit_distance('foo', 'poo') # Assumes a substitution cost of 1\n",
    "edit_distance('intention', 'execution')"
   ]
  },
  {
   "cell_type": "code",
   "execution_count": 129,
   "metadata": {
    "collapsed": false
   },
   "outputs": [
    {
     "data": {
      "text/plain": [
       "5"
      ]
     },
     "execution_count": 129,
     "metadata": {},
     "output_type": "execute_result"
    }
   ],
   "source": [
    "levenshtein('foo','poo')\n",
    "levenshtein('intention', 'execution')"
   ]
  },
  {
   "cell_type": "code",
   "execution_count": 130,
   "metadata": {
    "collapsed": false
   },
   "outputs": [],
   "source": [
    "pairs = [('foo', 'poo'),\n",
    "         ('intention', 'execution')]\n",
    "\n",
    "for pair in pairs:\n",
    "    assert levenshtein(*pair) == edit_distance(*pair)"
   ]
  },
  {
   "cell_type": "markdown",
   "metadata": {},
   "source": [
    "TODO: extend the function to include substitution cost argument"
   ]
  },
  {
   "cell_type": "code",
   "execution_count": 131,
   "metadata": {
    "collapsed": true
   },
   "outputs": [],
   "source": [
    "def levenshtein(s1, s2, cost_sub):\n",
    "    \"\"\"Takes 2 words and a cost of substitution, returns Levenshtein distance.\n",
    "    \"\"\"\n",
    "    \n",
    "    if len(s1) < len(s2): # If one word is shorter than the other then change the order (bookkeeping to be consistent)\n",
    "        return levenshtein(s2, s1)\n",
    " \n",
    "    if len(s2) == 0: # Make sure we get a word\n",
    "        return len(s1) # If not the cost is simply dropping all the letters in one of the words, i.e. the length\n",
    " \n",
    "    previous_row = range(len(s2)+1) # Create an array of length of the second word+1\n",
    "\n",
    "    \n",
    "    for i, c1 in enumerate(s1): # Interate through the first word \n",
    "        current_row = [i + 1]\n",
    "\n",
    "        for j, c2 in enumerate(s2): # Interate through the second word\n",
    "\n",
    "            insertions = previous_row[j + 1] + 1 \n",
    "            \n",
    "\n",
    "            deletions =current_row[j]+1  # TODO: WRITE CODE TO DETEMINE DELETIONS  \n",
    "            \n",
    "\n",
    "            if c1==c2:\n",
    "\n",
    "                substitutions =previous_row[j]+0\n",
    "            else:\n",
    "\n",
    "                substitutions =previous_row[j]+cost_sub # TODO: WRITE CODE TO DETEMINE SUBSTITUTION\n",
    "            \n",
    "\n",
    "            current_row.append(min(insertions, deletions, substitutions))\n",
    "           \n",
    "\n",
    "        previous_row = current_row\n",
    "\n",
    "    return previous_row[-1]"
   ]
  },
  {
   "cell_type": "code",
   "execution_count": 132,
   "metadata": {
    "collapsed": false
   },
   "outputs": [],
   "source": [
    "assert levenshtein('foo', 'poo', cost_sub=2) == 2\n",
    "assert levenshtein('intention', 'execution', cost_sub=2) == 8"
   ]
  },
  {
   "cell_type": "markdown",
   "metadata": {},
   "source": [
    "----\n",
    "Challenge Exercises\n",
    "----"
   ]
  },
  {
   "cell_type": "markdown",
   "metadata": {},
   "source": [
    "__1)__ Making change\n",
    "\n",
    "![](http://i1183.photobucket.com/albums/x464/elj4s/Screenshot2012-09-20at42821PM_zpsdb433335.png)\n",
    "\n",
    "__Problem__: making change problem. The objective is to determine the smallest number of currency of a particular denomination required to make change for a given amount. \n",
    "\n",
    "This algorithm could be applied for automated self-checkout at the grocery store.\n",
    "\n",
    "![](https://si.wsj.net/public/resources/images/MK-CG842_HIGHDE_G_20131006174545.jpg)\n",
    "\n",
    "__Solution__:\n",
    "Today we are going to explore dynamic programming (DP). \n",
    "\n",
    "For example, if the denomination of the currency are \\$1 and \\$2 and it was required to make change for \\$3 then we would use \\$1 + \\$2 i.e. 2 pieces of currency. \n",
    "\n",
    "However if the amount was \\$4 then we would could either use \\$1+\\$1+\\$1+\\$1 or \\$1+\\$1+\\$2 or \\$2+\\$2 and the minimum number of currency would 2 (\\$2+\\$2). \n",
    "\n",
    "The minimum number of coins required to make change for \\$P is the number of coins required to make change for the amount \\$P-x plus 1 (+1 because we need another coin to get us from \\$P-x to P). \n",
    "\n",
    "These can be illustrated mathematically as: \n",
    "\n",
    "> Let us assume that we have $n$ currecy of distinct denomination. Where the denomination of the currency $i$ is $v_i$. We can sort the currency according to denomination values such that $v_1<v_2<v_3<..<v_n$\n",
    "\n",
    "> Let us use $C(p)$ to denote the minimum number of currency required to make change for $ \\$p$ \n",
    "\n",
    "> Using the principles of recursion $C(p)=min_i C(p-v_i)+1$\n",
    "\n",
    "> For example, assume we want to make 5, and $v_1=1, v_2=2, v_3=3$. <br>\n",
    "Therefore $C(5) = min(C(5-1)+1, C(5-2)+1, C(5-3)+1)$  $\\Longrightarrow min(C(4)+1, C(3)+1, C(2)+1)$"
   ]
  },
  {
   "cell_type": "code",
   "execution_count": 145,
   "metadata": {
    "collapsed": true
   },
   "outputs": [],
   "source": [
    "import numpy as np"
   ]
  },
  {
   "cell_type": "code",
   "execution_count": 513,
   "metadata": {
    "collapsed": false
   },
   "outputs": [],
   "source": [
    "def make_change(currency=[], value=0):\n",
    "    \"\"\"Given a list of currency and the target value, return the minimum number of currency and a list of values.\n",
    "    Dynamic programming (DP) is an efficient solution.    \n",
    "    \"\"\"\n",
    "    cur = sorted(currency,reverse=False)\n",
    "\n",
    "    #Check for the ability to give change\n",
    "\n",
    "    if value%cur[0] !=0:\n",
    "\n",
    "        return \"No solution possible\"\n",
    "      #sort the currency\n",
    "    M = np.zeros((len(currency),len(range(int(value)+1))))\n",
    "\n",
    "  \n",
    "\n",
    "    \n",
    "    row_append = []\n",
    "    \n",
    "    for row_count, row in enumerate(currency):\n",
    "        for column in range(cur[0],value+1,cur[0]):\n",
    "\n",
    "            if row_count ==0:\n",
    "\n",
    "                M[row_count,column]= column/row\n",
    "#                 print(M)\n",
    "            elif row <= column:\n",
    "                M[row_count,column] = int(column/row) + M[row_count,column%row]\n",
    "                \n",
    "            elif row > column:\n",
    "                 M[row_count,column]=M[row_count-1,column]\n",
    "  \n",
    "    # Now find the demonination that makes up the value\n",
    "\n",
    "    # This prints the row index for a numpy array, the col index will be value\n",
    "\n",
    "    if len(np.where(M[:,value]==min(M[:,value]))[0]) ==1: ## only one element for min\n",
    "        max_row_index= np.where(M[:,value]==min(M[:,value]))[0]\n",
    "    else:\n",
    "        max_row_index= np.where(M[:,value]==min(M[:,value]))[0][0]###multiple elements for min\n",
    "    max_col_index = value\n",
    "    pieces_of_currency = int(min(M[:,value]))\n",
    "    \n",
    "    if pieces_of_currency ==1: # one only piece of currency\n",
    "        return (1 ,[cur[max_row_index]])\n",
    "    \n",
    "    elif (pieces_of_currency*cur[max_row_index] % value) == 0: ## multiple pieces of the same currency\n",
    "        return (pieces_of_currency,[cur[max_row_index] for _ in range(pieces_of_currency)])\n",
    "    \n",
    "    else:  ## multiple pieces of difference currency . Only works for two currencies\n",
    "        # how many of current index? how many of leftover index?\n",
    "        #number from this row\n",
    "        \n",
    "        max_curr_num = int( value/cur[max_row_index] ) # curren number of pieces of max curr\n",
    "        max_curr_val = cur[max_row_index] # What is the denomination ?\n",
    "        \n",
    "        \n",
    "        leftover_num = value % (max_curr_num*cur[max_row_index]) # left over value needed\n",
    "        leftover_val = min(M[:,leftover_num])\n",
    "\n",
    "        \n",
    "        iterations_of_max = [max_curr_val for _ in range(int(max_curr_num))]\n",
    "        iterations_of_leftover = [leftover_num  for _ in range(int(leftover_val))]\n",
    "        iterations_of_max.extend(iterations_of_leftover)\n",
    "        \n",
    "        return (int(max_curr_num+leftover_val) ,iterations_of_max )"
   ]
  },
  {
   "cell_type": "code",
   "execution_count": 517,
   "metadata": {
    "collapsed": false
   },
   "outputs": [
    {
     "name": "stderr",
     "output_type": "stream",
     "text": [
      "/Users/jonathanhilgart/anaconda/envs/nlp/lib/python3.5/site-packages/ipykernel/__main__.py:49: VisibleDeprecationWarning: converting an array with ndim > 0 to an index will result in an error in the future\n",
      "/Users/jonathanhilgart/anaconda/envs/nlp/lib/python3.5/site-packages/ipykernel/__main__.py:56: VisibleDeprecationWarning: converting an array with ndim > 0 to an index will result in an error in the future\n",
      "/Users/jonathanhilgart/anaconda/envs/nlp/lib/python3.5/site-packages/ipykernel/__main__.py:57: VisibleDeprecationWarning: converting an array with ndim > 0 to an index will result in an error in the future\n",
      "/Users/jonathanhilgart/anaconda/envs/nlp/lib/python3.5/site-packages/ipykernel/__main__.py:60: VisibleDeprecationWarning: converting an array with ndim > 0 to an index will result in an error in the future\n"
     ]
    },
    {
     "data": {
      "text/plain": [
       "(3, [25, 25, 1])"
      ]
     },
     "execution_count": 517,
     "metadata": {},
     "output_type": "execute_result"
    }
   ],
   "source": [
    "make_change(l,51)"
   ]
  },
  {
   "cell_type": "markdown",
   "metadata": {},
   "source": []
  },
  {
   "cell_type": "code",
   "execution_count": 494,
   "metadata": {
    "collapsed": false
   },
   "outputs": [],
   "source": [
    "l = [1, 5, 21, 25]\n"
   ]
  },
  {
   "cell_type": "code",
   "execution_count": 245,
   "metadata": {
    "collapsed": false
   },
   "outputs": [
    {
     "name": "stdout",
     "output_type": "stream",
     "text": [
      "[2, 4, 6, 8]\n"
     ]
    }
   ],
   "source": [
    "print([i for i in range(2,10,2)])"
   ]
  },
  {
   "cell_type": "code",
   "execution_count": 385,
   "metadata": {
    "collapsed": false
   },
   "outputs": [
    {
     "data": {
      "text/plain": [
       "2"
      ]
     },
     "execution_count": 385,
     "metadata": {},
     "output_type": "execute_result"
    }
   ],
   "source": [
    "8%6"
   ]
  },
  {
   "cell_type": "code",
   "execution_count": 138,
   "metadata": {
    "collapsed": false
   },
   "outputs": [
    {
     "data": {
      "text/plain": [
       "1.2"
      ]
     },
     "execution_count": 138,
     "metadata": {},
     "output_type": "execute_result"
    }
   ],
   "source": [
    "min(6/5,6%5+int(6/5) )"
   ]
  },
  {
   "cell_type": "code",
   "execution_count": 515,
   "metadata": {
    "collapsed": false
   },
   "outputs": [
    {
     "name": "stderr",
     "output_type": "stream",
     "text": [
      "/Users/jonathanhilgart/anaconda/envs/nlp/lib/python3.5/site-packages/ipykernel/__main__.py:47: VisibleDeprecationWarning: converting an array with ndim > 0 to an index will result in an error in the future\n",
      "/Users/jonathanhilgart/anaconda/envs/nlp/lib/python3.5/site-packages/ipykernel/__main__.py:49: VisibleDeprecationWarning: converting an array with ndim > 0 to an index will result in an error in the future\n",
      "/Users/jonathanhilgart/anaconda/envs/nlp/lib/python3.5/site-packages/ipykernel/__main__.py:56: VisibleDeprecationWarning: converting an array with ndim > 0 to an index will result in an error in the future\n",
      "/Users/jonathanhilgart/anaconda/envs/nlp/lib/python3.5/site-packages/ipykernel/__main__.py:57: VisibleDeprecationWarning: converting an array with ndim > 0 to an index will result in an error in the future\n",
      "/Users/jonathanhilgart/anaconda/envs/nlp/lib/python3.5/site-packages/ipykernel/__main__.py:60: VisibleDeprecationWarning: converting an array with ndim > 0 to an index will result in an error in the future\n",
      "/Users/jonathanhilgart/anaconda/envs/nlp/lib/python3.5/site-packages/ipykernel/__main__.py:50: VisibleDeprecationWarning: converting an array with ndim > 0 to an index will result in an error in the future\n"
     ]
    }
   ],
   "source": [
    "assert make_change(currency=[1, 5, 10], value=10) == (1, [10]) # 1 piece of currency, value of 10\n",
    "assert make_change(currency=[1, 5, 10], value=15) == (2, [10, 5]) # 2 pieces of currency, values of 10 and 5\n",
    "assert make_change(currency=[1, 5, 10], value=30) == (3, [10, 10, 10]) \n",
    "assert make_change(currency=[1, 5, 21, 25], value=63) == (3, [21, 21, 21])\n",
    "assert make_change(currency=[5, 10], value=3) == 'No solution possible' # Error handling"
   ]
  },
  {
   "cell_type": "markdown",
   "metadata": {},
   "source": [
    "<br>\n",
    "<br>\n",
    "---"
   ]
  }
 ],
 "metadata": {
  "anaconda-cloud": {},
  "kernelspec": {
   "display_name": "Python [nlp]",
   "language": "python",
   "name": "Python [nlp]"
  },
  "language_info": {
   "codemirror_mode": {
    "name": "ipython",
    "version": 3
   },
   "file_extension": ".py",
   "mimetype": "text/x-python",
   "name": "python",
   "nbconvert_exporter": "python",
   "pygments_lexer": "ipython3",
   "version": "3.5.2"
  }
 },
 "nbformat": 4,
 "nbformat_minor": 0
}
