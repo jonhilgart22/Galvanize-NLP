{
 "cells": [
  {
   "cell_type": "markdown",
   "metadata": {
    "slideshow": {
     "slide_type": "slide"
    }
   },
   "source": [
    "---\n",
    "Edit Distance\n",
    "===\n",
    "\n",
    "![](http://assets.devx.com/devx/43469figure1.jpg)"
   ]
  },
  {
   "cell_type": "markdown",
   "metadata": {
    "slideshow": {
     "slide_type": "slide"
    }
   },
   "source": [
    "By The End Of This Session You Should Be Able To:\n",
    "----\n",
    "\n",
    "- Recognize when to solve a problem with Dynamic Programming\n",
    "- Write dynamic programming code\n",
    "- Recognize what edit distance is good for and how to calculate it\n",
    "- Explain 'backtrace'"
   ]
  },
  {
   "cell_type": "markdown",
   "metadata": {
    "slideshow": {
     "slide_type": "slide"
    }
   },
   "source": [
    "---\n",
    "What is Dynamic Programming (DP)?\n",
    "----\n",
    "\n",
    "DP breaks down problems into smaller subproblems and then stores the solutions in a data structure for later reference.\n",
    "\n",
    "\n"
   ]
  },
  {
   "cell_type": "markdown",
   "metadata": {
    "slideshow": {
     "slide_type": "fragment"
    }
   },
   "source": [
    "Dynamic programming is a programming technique that we can use when we have to make the same calculations multiple times and we don’t want to recalculate it every time.  \n",
    "\n",
    "\n"
   ]
  },
  {
   "cell_type": "markdown",
   "metadata": {
    "slideshow": {
     "slide_type": "fragment"
    }
   },
   "source": [
    "We store, aka __cache__, the calculations the first time so that we don’t have to go through the process of recalculating each time."
   ]
  },
  {
   "cell_type": "markdown",
   "metadata": {
    "slideshow": {
     "slide_type": "slide"
    }
   },
   "source": [
    "---\n",
    "Why DP?\n",
    "----\n",
    "\n",
    "It is usually the optimal method, far faster then recursion."
   ]
  },
  {
   "cell_type": "markdown",
   "metadata": {
    "slideshow": {
     "slide_type": "slide"
    }
   },
   "source": [
    "What is the relationship between DP and recursion?\n",
    "-----\n",
    "\n",
    "They are \"cousins\" (recursion being the inbred side of the family). Both use suproblems to build solutions to larger problems. "
   ]
  },
  {
   "cell_type": "markdown",
   "metadata": {
    "slideshow": {
     "slide_type": "slide"
    }
   },
   "source": [
    "---\n",
    "What is the difference between dynamic programming and recursion?\n",
    "---\n",
    "\n",
    "__1)__ Direction\n",
    "\n",
    "Recrusion: Starts at the end/largest and divides into subproblems.\n",
    "\n",
    "DP: Starts at the smallest and builds up a solution.\n",
    "\n",
    "\n",
    "__2)__ Amount of compute:\n",
    "\n",
    "During recursion, there may exist a case where same sub-problems are solved multiple times.\n",
    "\n",
    "DP is basically a memorization technique which uses a table to store the results of sub-problem so that if same sub-problem is encountered again in future, it could directly return the result instead of re-calculating it."
   ]
  },
  {
   "cell_type": "code",
   "execution_count": 19,
   "metadata": {
    "collapsed": false,
    "slideshow": {
     "slide_type": "slide"
    }
   },
   "outputs": [],
   "source": [
    "# TODO: Student activity\n",
    "def fib_recursive(n):\n",
    "    \"Calculate nth Fibonacci number using recursion\"\n",
    "    pass"
   ]
  },
  {
   "cell_type": "code",
   "execution_count": 20,
   "metadata": {
    "collapsed": false,
    "slideshow": {
     "slide_type": "fragment"
    }
   },
   "outputs": [
    {
     "ename": "AssertionError",
     "evalue": "",
     "output_type": "error",
     "traceback": [
      "\u001b[0;31m---------------------------------------------------------------------------\u001b[0m",
      "\u001b[0;31mAssertionError\u001b[0m                            Traceback (most recent call last)",
      "\u001b[0;32m<ipython-input-20-142b87ebc4e7>\u001b[0m in \u001b[0;36m<module>\u001b[0;34m()\u001b[0m\n\u001b[1;32m      6\u001b[0m \u001b[0;34m\u001b[0m\u001b[0m\n\u001b[1;32m      7\u001b[0m \u001b[0;32mfor\u001b[0m \u001b[0mkey\u001b[0m\u001b[0;34m,\u001b[0m \u001b[0mvalue\u001b[0m \u001b[0;32min\u001b[0m \u001b[0mfib_sequence\u001b[0m\u001b[0;34m.\u001b[0m\u001b[0mitems\u001b[0m\u001b[0;34m(\u001b[0m\u001b[0;34m)\u001b[0m\u001b[0;34m:\u001b[0m\u001b[0;34m\u001b[0m\u001b[0m\n\u001b[0;32m----> 8\u001b[0;31m     \u001b[0;32massert\u001b[0m \u001b[0mfib_recursive\u001b[0m\u001b[0;34m(\u001b[0m\u001b[0mkey\u001b[0m\u001b[0;34m)\u001b[0m \u001b[0;34m==\u001b[0m \u001b[0mvalue\u001b[0m\u001b[0;34m\u001b[0m\u001b[0m\n\u001b[0m",
      "\u001b[0;31mAssertionError\u001b[0m: "
     ]
    }
   ],
   "source": [
    "fib_sequence = {0:0,\n",
    "               1:1,\n",
    "               2:1,\n",
    "               3:2,\n",
    "               9:34}\n",
    "\n",
    "for key, value in fib_sequence.items():\n",
    "    assert fib_recursive(key) == value"
   ]
  },
  {
   "cell_type": "code",
   "execution_count": null,
   "metadata": {
    "collapsed": true,
    "slideshow": {
     "slide_type": "slide"
    }
   },
   "outputs": [],
   "source": [
    "def fib_recursive(n):\n",
    "    \"Calculate nth Fibonacci number using recursion\"\n",
    "    if n == 0: return 0\n",
    "    if n == 1: return 1\n",
    "    return fib_recursive(n-1) + fib_recursive(n-2)"
   ]
  },
  {
   "cell_type": "code",
   "execution_count": null,
   "metadata": {
    "collapsed": true,
    "slideshow": {
     "slide_type": "slide"
    }
   },
   "outputs": [],
   "source": [
    "def fib_dp(n):\n",
    "    \"Calculate nth Fibonacci number as overlapping subproblems\"\n",
    "    fib_seq = [0, 1]\n",
    "    for i in range(2,n+1):\n",
    "        fib_seq.append(fib_seq[i-1] + fib_seq[i-2])\n",
    "    return fib_seq[n]\n",
    "\n",
    "for key, value in fib_sequence.items():\n",
    "    assert fib_dp(key) == value"
   ]
  },
  {
   "cell_type": "markdown",
   "metadata": {
    "slideshow": {
     "slide_type": "slide"
    }
   },
   "source": [
    "Let's compare the runtime"
   ]
  },
  {
   "cell_type": "code",
   "execution_count": null,
   "metadata": {
    "collapsed": false,
    "slideshow": {
     "slide_type": "fragment"
    }
   },
   "outputs": [],
   "source": [
    "%timeit -n4 fib_recursive(30)"
   ]
  },
  {
   "cell_type": "code",
   "execution_count": null,
   "metadata": {
    "collapsed": false,
    "slideshow": {
     "slide_type": "fragment"
    }
   },
   "outputs": [],
   "source": [
    "%timeit -n4 fib_dp(100)  "
   ]
  },
  {
   "cell_type": "markdown",
   "metadata": {
    "slideshow": {
     "slide_type": "fragment"
    }
   },
   "source": [
    "> The difference between the right word and the almost right word is the difference between lightning and a lightning bug.  \n",
    "> \\- Mark Twain\n",
    "\n",
    "[Learn more about the difference between µs and ns](http://stackoverflow.com/questions/11813999/what-do-ns-and-us-stand-for-in-timeit-result)"
   ]
  },
  {
   "cell_type": "markdown",
   "metadata": {
    "slideshow": {
     "slide_type": "slide"
    }
   },
   "source": [
    "Important Point\n",
    "------\n",
    "\n",
    "The hardest parts of dynamic programming is:\n",
    "\n",
    "1. Recognizing when to use it \n",
    "2. Picking the right data structure for caching"
   ]
  },
  {
   "cell_type": "markdown",
   "metadata": {
    "slideshow": {
     "slide_type": "slide"
    }
   },
   "source": [
    "Check for Understanding\n",
    "------\n",
    "\n",
    "Name common data structures and type of data to cache in them"
   ]
  },
  {
   "cell_type": "markdown",
   "metadata": {
    "slideshow": {
     "slide_type": "fragment"
    }
   },
   "source": [
    "- array/list: ordered list of items, such as sequence\n",
    "- matrix/list of lists: \" \" in 2d\n",
    "- dictionary: precomputed key/value pairs\n",
    "- trie....\n",
    "\n",
    "![](http://d1gjlxt8vb0knt.cloudfront.net//wp-content/uploads/wordBreak1.png)"
   ]
  },
  {
   "cell_type": "markdown",
   "metadata": {
    "slideshow": {
     "slide_type": "slide"
    }
   },
   "source": [
    "---\n",
    "Brian's way: Apply Functional programming\n",
    "---"
   ]
  },
  {
   "cell_type": "code",
   "execution_count": null,
   "metadata": {
    "collapsed": false,
    "slideshow": {
     "slide_type": "slide"
    }
   },
   "outputs": [],
   "source": [
    "def fib():\n",
    "    \"A Fibonacci sequence generator\"\n",
    "    a, b = 0, 1\n",
    "    while True:\n",
    "        a, b = b, a+b\n",
    "        yield a\n",
    "        \n",
    "f = fib()\n",
    "for i in range(10):\n",
    "    print(next(f))"
   ]
  },
  {
   "cell_type": "code",
   "execution_count": null,
   "metadata": {
    "collapsed": true,
    "slideshow": {
     "slide_type": "slide"
    }
   },
   "outputs": [],
   "source": [
    "from itertools import islice"
   ]
  },
  {
   "cell_type": "code",
   "execution_count": null,
   "metadata": {
    "collapsed": true,
    "slideshow": {
     "slide_type": "fragment"
    }
   },
   "outputs": [],
   "source": [
    "islice?"
   ]
  },
  {
   "cell_type": "code",
   "execution_count": null,
   "metadata": {
    "collapsed": false,
    "slideshow": {
     "slide_type": "fragment"
    }
   },
   "outputs": [],
   "source": [
    "n = 100\n",
    "next(islice(fib(), n-1, n))"
   ]
  },
  {
   "cell_type": "code",
   "execution_count": null,
   "metadata": {
    "collapsed": false,
    "slideshow": {
     "slide_type": "slide"
    }
   },
   "outputs": [],
   "source": [
    "%timeit -n4 next(islice(fib(), n-1, n))"
   ]
  },
  {
   "cell_type": "markdown",
   "metadata": {
    "slideshow": {
     "slide_type": "slide"
    }
   },
   "source": [
    "[Visualize the code](http://pythontutor.com/visualize.html#code=from+itertools+import+islice%0A%0Adef+fib(%29%3A%0A++++%22A+Fibonacci+sequence+generator%22%0A++++a,+b+%3D+0,+1%0A++++while+True%3A%0A++++++++a,+b+%3D+b,+a%2Bb%0A++++++++yield+a%0A++++++++%0An+%3D+100%0Alist(islice(fib(%29,+n-1,+n%29%29&mode=display&origin=opt-frontend.js&cumulative=false&heapPrimitives=false&textReferences=false&py=3&rawInputLstJSON=%5B%5D&curInstr=0)"
   ]
  },
  {
   "cell_type": "markdown",
   "metadata": {
    "slideshow": {
     "slide_type": "slide"
    }
   },
   "source": [
    "### It's generators all the way down\n",
    "![](http://cdn.meme.am/instances/400x/66041700.jpg)"
   ]
  },
  {
   "cell_type": "markdown",
   "metadata": {
    "slideshow": {
     "slide_type": "slide"
    }
   },
   "source": [
    "---\n",
    "Levenshtein Demo\n",
    "----\n",
    "\n",
    "[demo](http://www.let.rug.nl/~kleiweg/lev/)\n",
    "\n",
    "'foo' -> 'poo'"
   ]
  },
  {
   "cell_type": "markdown",
   "metadata": {
    "slideshow": {
     "slide_type": "slide"
    }
   },
   "source": [
    "Check for Understanding\n",
    "------\n",
    "\n",
    "What are the givens for DP?"
   ]
  },
  {
   "cell_type": "markdown",
   "metadata": {
    "slideshow": {
     "slide_type": "fragment"
    }
   },
   "source": [
    "- A map\n",
    "- A goal"
   ]
  },
  {
   "cell_type": "markdown",
   "metadata": {
    "slideshow": {
     "slide_type": "slide"
    }
   },
   "source": [
    "What is the outpout of DP?"
   ]
  },
  {
   "cell_type": "markdown",
   "metadata": {
    "slideshow": {
     "slide_type": "fragment"
    }
   },
   "source": [
    "Best \"path\" from any \"location\""
   ]
  },
  {
   "cell_type": "markdown",
   "metadata": {
    "slideshow": {
     "slide_type": "slide"
    }
   },
   "source": [
    "How is the value calculated in DP?"
   ]
  },
  {
   "cell_type": "markdown",
   "metadata": {},
   "source": [
    "It is the min/max of:\n",
    "\n",
    "1. The previous max\n",
    "2. The current value"
   ]
  },
  {
   "cell_type": "markdown",
   "metadata": {
    "slideshow": {
     "slide_type": "slide"
    }
   },
   "source": [
    "How does DP generate the best \"path\"?"
   ]
  },
  {
   "cell_type": "markdown",
   "metadata": {
    "slideshow": {
     "slide_type": "slide"
    }
   },
   "source": [
    "Start at goal and calculate the value function for every step all the path back to start"
   ]
  },
  {
   "cell_type": "markdown",
   "metadata": {
    "slideshow": {
     "slide_type": "slide"
    }
   },
   "source": [
    "![](images/backtree.png)"
   ]
  },
  {
   "cell_type": "markdown",
   "metadata": {
    "slideshow": {
     "slide_type": "slide"
    }
   },
   "source": [
    "![](images/inital.png)"
   ]
  },
  {
   "cell_type": "markdown",
   "metadata": {
    "slideshow": {
     "slide_type": "slide"
    }
   },
   "source": [
    "![](images/fill.png)"
   ]
  },
  {
   "cell_type": "markdown",
   "metadata": {
    "slideshow": {
     "slide_type": "slide"
    }
   },
   "source": [
    "![](images/cell.png)"
   ]
  },
  {
   "cell_type": "markdown",
   "metadata": {
    "slideshow": {
     "slide_type": "slide"
    }
   },
   "source": [
    "![](images/final.png)"
   ]
  },
  {
   "cell_type": "markdown",
   "metadata": {
    "slideshow": {
     "slide_type": "slide"
    }
   },
   "source": [
    "----\n",
    "What is Backtrace?\n",
    "----\n",
    "\n",
    "\n",
    "Backtrace is how you got where you are\n",
    "\n",
    "Full backtrace path corresponds to an optimal alignment / edit transcript:\n",
    "\n",
    "A: From here\n",
    "Q: How did I get here?\n",
    "Start at end; at each step, ask: which predecessor gave the minimum?\n",
    "\n",
    "Backtrace is __metadata__ how we got to the final solution/location."
   ]
  },
  {
   "cell_type": "markdown",
   "metadata": {
    "slideshow": {
     "slide_type": "slide"
    }
   },
   "source": [
    "![](images/backtrace.png)"
   ]
  },
  {
   "cell_type": "markdown",
   "metadata": {
    "slideshow": {
     "slide_type": "slide"
    }
   },
   "source": [
    "---\n",
    "Common Computer Science themes: diffs & caches\n",
    "----\n",
    "\n"
   ]
  },
  {
   "cell_type": "markdown",
   "metadata": {
    "slideshow": {
     "slide_type": "slide"
    }
   },
   "source": [
    "---\n",
    "What are diffs?\n",
    "----\n",
    "\n",
    "![](http://r-pkgs.had.co.nz/screenshots/git-diff-window.png)\n",
    "\n",
    "Low-level difference between items. \n",
    "\n",
    "Storing just diffs reduces storage amount.\n",
    "\n",
    "For example, `git`"
   ]
  },
  {
   "cell_type": "markdown",
   "metadata": {
    "collapsed": true,
    "slideshow": {
     "slide_type": "slide"
    }
   },
   "source": [
    "---\n",
    "What are caches?\n",
    "---\n",
    "\n",
    "![](http://www.1024cores.net/_/rsrc/1468868468368/home/parallel-computing/cache-oblivious-algorithms/cpu_cache_structure.png)\n",
    "\n",
    "Caches are storing information to be used in the near future in a more accessible form."
   ]
  },
  {
   "cell_type": "markdown",
   "metadata": {
    "collapsed": true,
    "slideshow": {
     "slide_type": "slide"
    }
   },
   "source": [
    "---\n",
    "Summary\n",
    "----\n",
    "\n",
    "- Dynamic programming is a improved version of recrusion\n",
    "- Dynamic programming uses caches to save compute, storing the results of previous calculations in a systematic way for later use\n",
    "- Backtrace is storing the diff for later use."
   ]
  },
  {
   "cell_type": "markdown",
   "metadata": {
    "slideshow": {
     "slide_type": "slide"
    }
   },
   "source": [
    "<br>\n",
    "<br> \n",
    "<br>\n",
    "\n",
    "----"
   ]
  },
  {
   "cell_type": "markdown",
   "metadata": {},
   "source": [
    "Futher Study: DP\n",
    "----\n",
    "- http://20bits.com/article/introduction-to-dynamic-programming\n",
    "- http://www.geeksforgeeks.org/dynamic-programming-set-5-edit-distance/\n",
    "- http://interactivepython.org/runestone/static/pythonds/Recursion/DynamicProgramming.html\n",
    "- http://jeremykun.com/2012/01/12/a-spoonful-of-python/"
   ]
  },
  {
   "cell_type": "markdown",
   "metadata": {},
   "source": [
    "----\n",
    "Bonus Materials\n",
    "----"
   ]
  },
  {
   "cell_type": "markdown",
   "metadata": {},
   "source": [
    "----\n",
    "What is memoization?\n",
    "---\n",
    "\n",
    "Memoisation is a technique used in computing to speed up programs."
   ]
  },
  {
   "cell_type": "markdown",
   "metadata": {},
   "source": [
    "---\n",
    "Momoization 101\n",
    "---\n",
    "\n",
    "The term \"memoization\" was introduced by Donald Michie in the year 1968. \n",
    "\n",
    "It's based on the Latin word memorandum, meaning \"to be remembered\". \n",
    "\n",
    "It's not a misspelling of the word memorization, though in a way it has something in common. "
   ]
  },
  {
   "cell_type": "markdown",
   "metadata": {},
   "source": [
    "----\n",
    "How does memoization work?\n",
    "---\n",
    "\n",
    "This is accomplished by memorizing the calculation results of processed input such as the results of function calls. \n",
    "\n",
    "If the same input or a function call with the same parameters is used, the previously stored results can be used again and unnecessary calculation are avoided. \n",
    "\n",
    "In many cases a simple array is used for storing the results, but lots of other structures can be used as well, such as associative arrays, called hashes in Perl or dictionaries in Python. \n",
    "\n",
    "[Source: The Algorithm Design Manual](http://www.amazon.com/Algorithm-Design-Manual-Steve-Skiena/dp/0387948600)"
   ]
  },
  {
   "cell_type": "code",
   "execution_count": null,
   "metadata": {
    "collapsed": true
   },
   "outputs": [],
   "source": [
    "def fib_recursive(n):\n",
    "    \"Calculate nth Fibonacci number using recursion\"\n",
    "    if n == 0: return 0\n",
    "    if n == 1: return 1\n",
    "    return fib_recursive(n-1) + fib_recursive(n-2)"
   ]
  },
  {
   "cell_type": "code",
   "execution_count": null,
   "metadata": {
    "collapsed": true
   },
   "outputs": [],
   "source": [
    "def memoize(f):\n",
    "    memo = {}\n",
    "    def helper(x):\n",
    "        if x not in memo:            \n",
    "            memo[x] = f(x)\n",
    "        return memo[x]\n",
    "    return helper"
   ]
  },
  {
   "cell_type": "code",
   "execution_count": null,
   "metadata": {
    "collapsed": true
   },
   "outputs": [],
   "source": [
    "fib_recursive_memoized = memoize(fib_recursive)"
   ]
  },
  {
   "cell_type": "code",
   "execution_count": null,
   "metadata": {
    "collapsed": false
   },
   "outputs": [],
   "source": [
    "fib_recursive_memoized(9)"
   ]
  },
  {
   "cell_type": "code",
   "execution_count": null,
   "metadata": {
    "collapsed": false
   },
   "outputs": [],
   "source": [
    "%timeit fib_recursive(n)"
   ]
  },
  {
   "cell_type": "code",
   "execution_count": null,
   "metadata": {
    "collapsed": false
   },
   "outputs": [],
   "source": [
    "%timeit fib_recursive_memoized(n)"
   ]
  },
  {
   "cell_type": "markdown",
   "metadata": {},
   "source": [
    "---\n",
    "Memoization is already in Python "
   ]
  },
  {
   "cell_type": "code",
   "execution_count": null,
   "metadata": {
    "collapsed": true
   },
   "outputs": [],
   "source": [
    "from functools import lru_cache"
   ]
  },
  {
   "cell_type": "code",
   "execution_count": null,
   "metadata": {
    "collapsed": true
   },
   "outputs": [],
   "source": [
    "# I dislike the name and prefer memoize\n",
    "from functools import lru_cache as memoize "
   ]
  },
  {
   "cell_type": "code",
   "execution_count": null,
   "metadata": {
    "collapsed": true
   },
   "outputs": [],
   "source": [
    "@lru_cache()\n",
    "def fib_recursive(n):\n",
    "    \"Calculate nth Fibonacci number using recursion\"\n",
    "    if n == 0: return 0\n",
    "    if n == 1: return 1\n",
    "    return fib_recursive(n-1) + fib_recursive(n-2)"
   ]
  },
  {
   "cell_type": "code",
   "execution_count": null,
   "metadata": {
    "collapsed": false
   },
   "outputs": [],
   "source": [
    "%timeit fib_recursive(n)"
   ]
  },
  {
   "cell_type": "markdown",
   "metadata": {
    "collapsed": true
   },
   "source": [
    "[Source of memoization example](http://www.python-course.eu/python3_memoization.php)  \n",
    "[The docs on lru_cache](https://docs.python.org/3/library/functools.html)"
   ]
  },
  {
   "cell_type": "markdown",
   "metadata": {},
   "source": [
    "<br>\n",
    "<br>\n",
    "----"
   ]
  }
 ],
 "metadata": {
  "anaconda-cloud": {},
  "celltoolbar": "Slideshow",
  "kernelspec": {
   "display_name": "Python [Root]",
   "language": "python",
   "name": "Python [Root]"
  },
  "language_info": {
   "codemirror_mode": {
    "name": "ipython",
    "version": 3
   },
   "file_extension": ".py",
   "mimetype": "text/x-python",
   "name": "python",
   "nbconvert_exporter": "python",
   "pygments_lexer": "ipython3",
   "version": "3.5.2"
  }
 },
 "nbformat": 4,
 "nbformat_minor": 0
}
