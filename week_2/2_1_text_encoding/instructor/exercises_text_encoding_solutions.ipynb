{
 "cells": [
  {
   "cell_type": "code",
   "execution_count": 1,
   "metadata": {
    "collapsed": true
   },
   "outputs": [],
   "source": [
    "url = 'https://db.tt/S4xIuOL4'"
   ]
  },
  {
   "cell_type": "code",
   "execution_count": 2,
   "metadata": {
    "collapsed": true
   },
   "outputs": [],
   "source": [
    "import requests\n",
    "\n",
    "r = requests.get(url)"
   ]
  },
  {
   "cell_type": "code",
   "execution_count": 3,
   "metadata": {
    "collapsed": false
   },
   "outputs": [
    {
     "data": {
      "text/plain": [
       "bytes"
      ]
     },
     "execution_count": 3,
     "metadata": {},
     "output_type": "execute_result"
    }
   ],
   "source": [
    "type(r.content)"
   ]
  },
  {
   "cell_type": "code",
   "execution_count": 4,
   "metadata": {
    "collapsed": false
   },
   "outputs": [],
   "source": [
    "b = r.content"
   ]
  },
  {
   "cell_type": "code",
   "execution_count": 5,
   "metadata": {
    "collapsed": false
   },
   "outputs": [
    {
     "data": {
      "text/plain": [
       "'にな 珦饦フォ 䩨ぽ珦饦フォ 窯りゅウ穟\\tて わガ觜フェ嫧, げ拥 䥜駺コグァ谯 餚嶣卤ゞ蟤 ゐイを, フォ氩 イを焨䤤ミ きょきゅ覵ら䤎 にゃ盨穃ぢゃぶ 騌䪦代 砥ツォ イを焨䤤ミ 䋨襊僯にゅじょ 餚嶣卤ゞ蟤 苯楥り 狨キュ坣 び愦にな秚 尦解㛥祧靨 樚駌娦禞簯 そ窯, 簥㣌のづ䨣 ぜウァ狨キュ坣 こ查ッ襪褚 裪蝥 䋨襊僯, 䧪きぎゃ りれ짦ちょ樊 㠣ぢょ䧨どヴェ 襪褚 きゃぐ 極背媥 黨ぢゅ馨䧞ご 择ほぎゅ櫦みゅ, 珦饦フォ わガ觜フェ嫧 んぴょじゅ磊お きょきゅ覵ら䤎 勤睥 窯りゅウ穟\\tて げ拥けドひ リョ榯㠨 榞妦, ぜウァ狨キュ坣 ケ覟橣榧ゐ み鏨ぴ栧䤥 滩矩 じ䧺榊\\r\\rいジャぎ 杯まぞ䤂禯 馺シェ觩ざ䪥 んぴょじゅ磊お のづ, べぜウァ 䥜駺コグァ谯 棃じゃ䥺みょ果 馣ぱゔ榞妦 媥さ 簥㣌のづ䨣 黧いジャぎじ 裪蝥 褚礥へ, 姥そ窯 棃じゃ䥺みょ果 ㄦタ馦䦞ぼ りょく 㠨もし䏦べ 竤ホ*ン杦誣 秤詃 諧う秤, 䨵饣す馜窣 餚嶣卤ゞ蟤 查ッ襪 秚ふ 䧪きぎゃ苯楥 イを焨䤤ミ 䧺榊諧う秤 苯楥り シェ觩 る䏨 極背媥 きょきゅ覵ら䤎 ㄦタ馦䦞ぼ, 䝣狧 樊リュる 㠣ぢょ䧨どヴェ 礥へやぴゅびゃ, 㠣ぢょ䧨どヴェ にゃ盨穃ぢゃぶ イを 諧う秤 䧪きぎゃ 䩨ぽ珦饦フォ わガ觜フェ嫧 媥さ\\r\\r褚礥へ ひ尦 㠨もし䏦べ み鏨ぴ栧䤥 择ほぎゅ櫦みゅ ㄦタ馦䦞ぼ 䦤にょ奟 みゅ䣥, スィ䦤にょ奟グェ 馺シェ觩ざ䪥 䧺榊諧う秤 諧う秤 んぴょ ぜウァ狨キュ坣 嫯ヲ奎裪蝥 餚嶣卤ゞ蟤 イを 磊おぎょ, 姌饜竨ね姎 餚嶣卤ゞ蟤 滩矩 饜竨ね みゅ䣥𐤦 䨵饣す馜窣 きょきゅ覵ら䤎 簯み, ぎじ 黨ぢゅ馨 リュる䏨た餣 㠣ぢょ䧨どヴェ, 鰧䝣狧樃壃 馺シェ觩ざ䪥 グェ䨵饣 焯ろ 涯砥ツォ 焨䤤 スィ䦤にょ奟グェ わガ觜フェ嫧\\r\\rじゅ磊 リュる䏨た餣 嫯ヲ奎裪蝥 䋨襊僯にゅじょ 詃ヌ婩, ざ䪥 卤ゞ蟤 㠨もし䏦べ 餚嶣卤ゞ蟤 䦞ぼ び愦にな秚 䩨ぽ珦饦フォ 棃じゃ䥺みょ果 馯饎スィ, リュる䏨た餣 䨵饣す馜窣 觜フェ嫧 馯饎 び愦にな秚 窨しょ滩矩睢 諧う秤 にな, げ拥けドひ 黧いジャぎじ フェ嫧 㛥祧靨 窯りゅウ穟\\tて ル稧焯ろ䩎 ゝ㫤しゅ た餣, 䥺みょ ル稧焯ろ䩎 ヘ㛤饧りゃ駪 いジャぎ, 䩨ぽ珦饦フォ こ查ッ襪褚 え稪 ゝ㫤しゅ\\r\\r簥㣌のづ䨣 狥㠯む姥そ 竤ホ*ン杦誣 諧う秤 卤ゞ いジャぎ る䏨 㠣ぢょ䧨どヴェ 棃じゃ䥺みょ果, イを焨䤤ミ 餚嶣卤ゞ蟤 卤ゞ \\tて杯ま ぜウァ狨キュ坣 嫯ヲ奎裪蝥 餚嶣卤ゞ蟤 *ン杦 グェ䨵饣, 䥜駺コグァ谯 尦解㛥祧靨 择ほぎゅ櫦みゅ 䏨た餣 ミ嫯 䧨ど 騌䪦代 ル稧焯ろ䩎 馣ぱゔ榞妦\\r\\rりょくがひゃビェ ぎょ極背媥さ んぴょ ル稧焯, ヘ㛤 きょきゅ覵ら䤎 黨ぢゅ馨䧞ご \\tて杯ま え稪 卤ゞ蟤 䥜駺コグァ谯 杯まぞ䤂禯 餚嶣卤ゞ蟤 嫯ヲ奎裪蝥 ヘ㛤饧りゃ駪 ゐイを と馩, 姎餚嶣 リュる䏨た餣 りょくがひゃビェ わガ觜フェ嫧 襪褚 ぢゃぶ黧 栧䤥 げ拥けドひ 尦解㛥祧靨, イを焨䤤ミ 䋨襊僯にゅじょ ぱゔ \\tて杯ま, にゅじょ 䧪きぎゃ リュる䏨た餣 簥㣌のづ䨣 わガ觜フェ嫧 ヴョ䋧と馩ぬ 䣥𐤦涯砥ツォ りれ にゃ盨穃, 秚ふ 氩めぺ んぴょじゅ磊お 黨ぢゅ馨䧞ご み鏨ぴ栧䤥 極背媥 リュる䏨た餣 㠨もし䏦べ ヲ奎, ふえ稪廦メ こ查ッ襪褚 苯楥り 饜竨, 姌饜竨ね姎 择ほぎゅ櫦みゅ にゃ盨穃ぢゃぶ にゅじょ ぢゃぶ黧 樊リュ ひゃビェケ 䧪きぎゃ苯楥 み鏨ぴ栧䤥, 嫯ヲ奎裪蝥 こ查ッ襪褚 樚駌娦禞簯 ひ尦解 䨣䥜\\r\\r嫯ヲ奎 ふえ稪廦メ ゝ㫤しゅきゃぐ 榧ゐ, わガ觜フェ嫧 馺シェ觩ざ䪥 果馺 づ䨣䥜, にゃ盨穃 樚駌娦禞簯 䧺榊諧う秤 䦞ぼ 勤睥つ㨣ちゃ 簥㣌のづ䨣 ぢゃぶ黧 シェ觩, 氩めぺ 樚駌娦禞簯 䧺榊諧う秤 䧨ど, 䧨ど ぎょ極背媥さ み鏨ぴ栧䤥 嫯ヲ奎 グァ谯 䥜駺コグァ谯 ぎょ極背媥さ ヘ㛤饧りゃ駪 果馺シェ, 氩めぺ馯饎 ル稧焯ろ䩎 尦解㛥祧靨 苯楥り し䏦, 樚駌娦禞簯 ゝ㫤しゅきゃぐ 黧いジャぎじ ほぎゅ櫦 馜窣 娦禞 狥㠯む姥そ 嫯ヲ奎裪蝥 䧺榊諧う秤 れ짦ちょ 極背媥 杯まぞ䤂禯 鰧䝣狧樃壃 栧䤥, 簥㣌のづ䨣 餚嶣卤ゞ蟤 鰧䝣狧樃壃 ホ*ン杦 りゅウ ゐイを 氩めぺ馯饎 み鏨ぴ栧䤥 ビェケ, 涯砥ツォ 择ほぎゅ櫦みゅ 䣥𐤦涯砥ツォ 㫤しゅ\\r\\r鰧䝣狧樃壃 きょきゅ覵ら䤎 查ッ な秚ふ, む姥 禞簯み 狥㠯む姥そ 詃ヌ婩韥槥 ヲ奎 ケ覟橣榧ゐ イを焨䤤ミ 樊リュる, 鰧䝣狧 勤睥つ㨣ちゃ 䧪きぎゃ苯楥 黧いジャぎじ 廦メ 㠨も 勤睥つ㨣ちゃ 㠨もし䏦べ 餚嶣卤ゞ蟤 もし䏦 ぬ馣 わガ觜フェ嫧 黨ぢゅ馨䧞ご りゅウ穟, リュる䏨た餣 姌饜竨ね姎 䣥𐤦涯砥ツォ りゅウ穟 タ馦 る䏨 みゅ䣥𐤦 りれ짦ちょ樊 ぎょ極背媥さ 䣥𐤦涯砥ツォ, めぺ 窨しょ滩 ふえ稪廦メ 棃じゃ䥺みょ果 み鏨ぴ栧䤥, び愦にな秚 狥㠯む姥そ 查ッ す馜窣\\r\\rさきょきゅ 䦞ぼ 簥㣌のづ䨣 尦解㛥祧靨 馦䦞ぼ ミ嫯 騌䪦代リョ榯 こ查ッ襪褚 䣥𐤦涯砥ツォ ゝ㫤しゅきゃぐ 詃ヌ婩韥槥 べぜ じ䧺榊, 㠨もし䏦べ 择ほぎゅ櫦みゅ 黧いジャぎじ 卤ゞ蟤 にな じ䧺榊 䧪きぎゃ苯楥 リュる䏨た餣 䨵饣す馜窣 ヴェわ, リュる䏨た餣 イを焨䤤ミ 馺シェ觩ざ䪥 ゔ榞妦 ぞ䤂 騌䪦代リョ榯 りょくがひゃビェ 樃壃棃 樃壃 詃ヌ婩 騌䪦代リョ榯 きょきゅ覵ら䤎 ひ尦, 饜竨ね ビェケ 窯りゅウ穟\\tて 择ほぎゅ櫦みゅ\\r\\rきょきゅ づ䨣䥜 び愦にな秚 䋨襊僯にゅじょ 姌饜竨ね姎 餚嶣卤ゞ蟤 み鏨ぴ栧䤥 び愦 詃ヌ婩, 䧺榊 ケ覟橣榧ゐ 䋨襊僯にゅじょ きゃぐ择, る䏨 䥜駺コグァ谯 樚駌娦禞簯 ㄦタ馦䦞ぼ 詃ヌ婩 簯み りゅウ穟 ぜウァ狨キュ坣 䣥𐤦涯砥ツォ 黧いジャぎじ, び愦 ふえ稪廦メ ヘ㛤饧りゃ駪 りゅウ穟 㠣ぢょ䧨どヴェ 䣥𐤦涯砥ツォ 棃じゃ 卤ゞ蟤 りゅウ穟 裪蝥 簥㣌のづ䨣 樚駌娦禞簯, べぜ 䨵饣す馜窣 黨ぢゅ馨䧞ご \\tて杯ま れ짦ちょ ル稧焯ろ䩎 んぴょじゅ磊お にゃ盨穃ぢゃぶ *ン杦 誣ㄦ 䥜駺コグァ谯 㠣ぢょ䧨どヴェ 䣥𐤦涯砥ツォ きゃぐ择, 涯砥ツォ 䩨ぽ珦饦フォ 黧いジャぎじ 饣す\\r      '"
      ]
     },
     "execution_count": 5,
     "metadata": {},
     "output_type": "execute_result"
    }
   ],
   "source": [
    "b.decode(\"utf-8\")"
   ]
  },
  {
   "cell_type": "markdown",
   "metadata": {
    "collapsed": true
   },
   "source": [
    "---\n",
    "2)\n",
    "---"
   ]
  },
  {
   "cell_type": "code",
   "execution_count": 6,
   "metadata": {
    "collapsed": true
   },
   "outputs": [],
   "source": [
    "reset -fs"
   ]
  },
  {
   "cell_type": "code",
   "execution_count": 7,
   "metadata": {
    "collapsed": false,
    "scrolled": true
   },
   "outputs": [],
   "source": [
    "with open('../../../corpora/emoji_table.txt') as f:\n",
    "    emojis = f.read().splitlines()"
   ]
  },
  {
   "cell_type": "code",
   "execution_count": 8,
   "metadata": {
    "collapsed": false
   },
   "outputs": [
    {
     "data": {
      "text/plain": [
       "['👪,E_family',\n",
       " '👨\\u200d👩\\u200d👧,E_family1',\n",
       " '👨\\u200d👩\\u200d👧\\u200d👦,E_family2',\n",
       " '👨\\u200d👩\\u200d👦\\u200d👦,E_family3',\n",
       " '👨\\u200d👩\\u200d👧\\u200d👧,E_family4',\n",
       " '👩\\u200d👩\\u200d👦,E_family5',\n",
       " '👩\\u200d👩\\u200d👧,E_family6']"
      ]
     },
     "execution_count": 8,
     "metadata": {},
     "output_type": "execute_result"
    }
   ],
   "source": [
    "emojis[318:325]"
   ]
  },
  {
   "cell_type": "code",
   "execution_count": 9,
   "metadata": {
    "collapsed": false
   },
   "outputs": [
    {
     "data": {
      "text/plain": [
       "'👨\\u200d👩\\u200d👧\\u200d👦,E_family2'"
      ]
     },
     "execution_count": 9,
     "metadata": {},
     "output_type": "execute_result"
    }
   ],
   "source": [
    "emoji = emojis[320]\n",
    "emoji"
   ]
  },
  {
   "cell_type": "code",
   "execution_count": 10,
   "metadata": {
    "collapsed": true
   },
   "outputs": [],
   "source": [
    "import ftfy"
   ]
  },
  {
   "cell_type": "code",
   "execution_count": 11,
   "metadata": {
    "collapsed": false
   },
   "outputs": [
    {
     "name": "stdout",
     "output_type": "stream",
     "text": [
      "U+1F468  👨       [So] MAN\n",
      "U+200D  \\u200d  [Cf] ZERO WIDTH JOINER\n",
      "U+1F469  👩       [So] WOMAN\n",
      "U+200D  \\u200d  [Cf] ZERO WIDTH JOINER\n",
      "U+1F467  👧       [So] GIRL\n",
      "U+200D  \\u200d  [Cf] ZERO WIDTH JOINER\n",
      "U+1F466  👦       [So] BOY\n",
      "U+002C  ,       [Po] COMMA\n",
      "U+0045  E       [Lu] LATIN CAPITAL LETTER E\n",
      "U+005F  _       [Pc] LOW LINE\n",
      "U+0066  f       [Ll] LATIN SMALL LETTER F\n",
      "U+0061  a       [Ll] LATIN SMALL LETTER A\n",
      "U+006D  m       [Ll] LATIN SMALL LETTER M\n",
      "U+0069  i       [Ll] LATIN SMALL LETTER I\n",
      "U+006C  l       [Ll] LATIN SMALL LETTER L\n",
      "U+0079  y       [Ll] LATIN SMALL LETTER Y\n",
      "U+0032  2       [Nd] DIGIT TWO\n"
     ]
    }
   ],
   "source": [
    "ftfy.explain_unicode(emoji)"
   ]
  },
  {
   "cell_type": "markdown",
   "metadata": {},
   "source": [
    "http://www.fileformat.info/info/unicode/char/200d/index.htm"
   ]
  },
  {
   "cell_type": "code",
   "execution_count": 12,
   "metadata": {
    "collapsed": false
   },
   "outputs": [],
   "source": [
    "# Mungle the text\n",
    "emojis = [emoji.replace('\\u200d', '') for emoji in emojis]"
   ]
  },
  {
   "cell_type": "code",
   "execution_count": 13,
   "metadata": {
    "collapsed": false
   },
   "outputs": [
    {
     "data": {
      "text/plain": [
       "'👨👩👧👦,E_family2'"
      ]
     },
     "execution_count": 13,
     "metadata": {},
     "output_type": "execute_result"
    }
   ],
   "source": [
    "emoji = emojis[320]\n",
    "emoji"
   ]
  },
  {
   "cell_type": "code",
   "execution_count": 14,
   "metadata": {
    "collapsed": false
   },
   "outputs": [
    {
     "data": {
      "text/plain": [
       "[['emoji', 'meaning'],\n",
       " ['😄', 'A_smiley1'],\n",
       " ['😃', 'A_smiley2'],\n",
       " ['😀', 'A_smiley3'],\n",
       " ['😊', 'A_smiley4']]"
      ]
     },
     "execution_count": 14,
     "metadata": {},
     "output_type": "execute_result"
    }
   ],
   "source": [
    "emoji_label_splits = (emoji.split(\",\") for emoji in emojis)\n",
    "list(emoji_label_splits)[:5]"
   ]
  },
  {
   "cell_type": "code",
   "execution_count": 15,
   "metadata": {
    "collapsed": false
   },
   "outputs": [],
   "source": [
    "emoji_label_splits = (emoji.split(\",\") for emoji in emojis)\n",
    "emoji_map = {label.lower(): emoji for emoji,label in emoji_label_splits}"
   ]
  },
  {
   "cell_type": "code",
   "execution_count": 20,
   "metadata": {
    "collapsed": false
   },
   "outputs": [
    {
     "data": {
      "text/plain": [
       "dict_keys(['d_pointup', 'b_safety2', 'f_redheart', 'o_loop2', 't_button7', 'n_vehicle9', 'm_fooddrink7', 'a_devil2', 'a_sad10', 'l_letter5', 't_button14', 'l_book7', 'm_fooddrink37', 'l_sport13', 'd_wave1', 'f_umbrella', 'd_ear', 'l_sport3', 'b_girl4', 'c_redmask2', 'g_warthog', 'd_pound', 'd_wave2', 'm_fooddrink6', 'e_walk', 'n_flag4', 's_o', 'c_sad2', 'o_abcd2', 'l_camera2', 'p_asian4', 'e_women', 'r_18', 'd_pointdown5', 'd_raise5', 'e_o', 'o_2', 'o_upward', 'e_chrissy', 't_math1', 'e_o5', 'p_metro', 'p_nosmoking', 'i_acorn', 'e_family', 'l_game1', 'l_money5', 'o_fastforward', 'l_knife', 'l_santa1', 'd_nose2', 'l_bomb', 'f_brief', 'd_nose3', 'b_woman5', 'd_ear1', 't_card6', 'e_family11', 'c_hearteyes', 'm_fooddrink56', 'o_down', 'l_sport9', 'n_flag23', 'p_asian13', 'f_thought', 'b_grandma3', 't_card5', 'd_wave3', 'l_earphone', 'c_smile2', 'e_headdown', 'h_puffer', 'p_baggage', 'n_vehicle26', 'a_sad2', 't_time16', 'l_windsock', 'f_yellowheart', 'f_tophat', 'm_fooddrink55', 't_time21', 'e_sad4', 'e_family14', 'a_angry1', 'd_wave', 'l_cd1', 'l_office11', 't_time7', 'l_computer', 'a_sad6', 'n_vehicle14', 'l_speaker4', 'a_sad12', 't_time6', 'd_water1', 'n_square8', 'n_flag30', 'l_sport11_2', 'n_flag32', 'e_x', 'b_grandpa5', 'n_vehicle41', 'b_girl2', 't_time8', 'l_letter1', 'l_letter7', 'l_disk', 'b_blonde4', 'r_star3', 'o_vertical', 'l_toilet', 'h_whale1', 'o_new', 'o_upright', 'd_thumbsup3', 'm_fooddrink14', 'r_heart', 'd_thumbsup2', 'p_asian2', 'n_vehicle15', 'g_shell', 'b_boy3', 'p_women', 'a_laugh', 'n_vehicle2', 't_button2', 'o_upforward', 'd_pointright2', 't_math2', 'n_flag15', 't_button1', 'd_eyes', 'f_twohearts', 'l_book6', 'g_chick2', 'd_victory', 'l_graduation', 'd_pointup2', 'g_bear', 'p_asian6', 'l_clock1', 'm_fooddrink41', 'l_game2', 'o_cool', 'l_office21', 'e_men', 'l_santa2', 'g_horse', 'r_zodiac8', 's_doubleexcl', 'p_service2', 'r_zodiac2', 's_register', 'd_pointup1', 'b_grandma5', 'l_pager', 'e_walk1', 'n_square1', 'e_x5', 'l_plug', 't_card1', 'a_cheese2', 'n_sign15', 'l_office6', 'd_bicep1', 'j_globe2', 'vulcan4', 'n_building5', 'd_pointright3', 'l_sport18_1', 'd_thumbsup5', 'b_boy2', 'd_clap5', 'n_vehicle39', 't_card3', 'o_info', 'e_walk2', 'd_clap3', 'h_dragon', 'g_octopus', 'd_td5', 'd_td1', 'm_fooddrink44', 'b_grandpa4', 'n_vehicle28', 'a_worry2', 'm_fooddrink12', 'r_water', 'n_vehicle13', 'o_free', 'k_weather4', 'e_bride1', 'n_sign9', 'a_tongue1', 'e_handraise5', 'r_x', 'l_sport1', 'i_leaf2', 'l_sport13_1', 'n_flag29', 'l_pill', 'e_whistle', 'n_flag11', 'e_walk5', 'l_sport18_4', 'n_sign12', 'j_moon5', 'l_santa', 'd_ear2', 'm_fooddrink27', 't_time9', 'd_pointleft', 'j_moon6', 'j_globe1', 'l_lock1', 'd_pound3', 'l_party1', 'n_sign10', 'n_square18', 'a_straight2', 'h_horse', 'e_run', 'l_game7', 'p_trash', 'b_gua2', 'b_grandma', 'j_moon2', 'r_zodiac13', 'f_revolvingheart', 'd_lips', 'm_fooddrink19', 'a_devil1', 'j_globe3', 'd_victory1', 'l_book3', 'a_oh', 'n_sign7', 'd_pointdown3', 'b_police4', 'n_vehicle24', 't_button8', 'b_man2', 'd_pound5', 'l_sport11', 'n_flag21', 't_button6', 'o_shuffle', 'f_bow', 'd_prayer5', 'l_flags', 'n_flag2', 'a_kiss3', 'h_pig', 'h_tiger', 'l_office7', 'd_pointright4', 'f_letterheart', 's_end', 'd_ok5', 'l_book4', 'n_sign17', 'b_grandma2', 'r_enter', 'e_family12', 'd_ok3', 't_button9', 'i_flower2', 'l_book2', 'm_fooddrink45', 'd_clap4', 'd_firework', 'm_fooddrink16', 'o_10', 'e_family3', 'n_flag24', 'g_tiger', 't_button18', 'l_book1', 'b_safety', 'k_stars3', 'h_mouse2', 'l_wrench', 'd_victory5', 'g_cat', 'l_sport13_5', 'b_woman3', 'e_whistle1', 't_time1', 'e_nails4', 'l_sport10_1', 'n_vehicle5', 'o_movie', 'b_gua', 'i_flower7', 'i_flower6', 'l_sport7', 'r_litter', 'p_asian11', 'f_bag1', 'n_square4', 'vulcan3', 'l_music7', 't_check2', 'k_weather2', 'l_money3', 'l_lock4', 'l_camera3', 'f_greenheart', 'm_fooddrink1', 'f_bikini', 'm_fooddrink21', 'l_office14', 'o_horiz', 'a_nomouth', 'a_sad7', 'd_thumbsup1', 'l_book8', 'c_speakno', 't_time11', 'a_angry3', 'e_family1', 'o_1', 'e_sad3', 'b_russian2', 'l_office3', 's_copyright', 'h_poodle', 'g_mouse2', 'm_fooddrink53', 'd_number5', 'e_headdown1', 't_math4', 'l_sport17_1', 'd_w3', 't_time10', 'l_tub2', 't_time12', 't_time5', 's_top', 'l_gift', 's_excl', 's_tm', 'b_grandpa3', 'l_magnify2', 'n_sign8', 'j_moon3', 'n_vehicle22', 'a_respirator', 'f_lips', 'b_angel5', 'b_police3', 'f_ringingheart', 'n_square11', 'n_vehicle20', 'o_symbols', 'l_speaker6', 'd_raise2', 'f_footprint', 'd_ear3', 'n_sign13', 'p_water', 'g_ant', 'a_worry3', 'p_cl', 'l_cd2', 'e_x4', 'l_bright2', 'n_flag13', 'a_smirk', 'l_office4', 'm_fooddrink49', 'a_dead2', 'i_flower1', 'p_asian12', 'l_sport5', 'l_bamboo', 'n_square17', 'i_sprout', 'i_tree', 'm_fooddrink57', 'm_fooddrink22', 'n_sign16', 'n_square10', 'p_asian10', 'm_fooddrink29', 'c_kiss', 'd_pointup5', 'b_blonde2', 'l_firework1', 'a_sad4', 'n_flag31', 'p_handicap', 'l_speaker2', 'e_handraise', 'l_firework2', 'd_number2', 'e_family7', 'd_nose1', 'p_sos', 'r_zodiac11', 'e_run2', 'l_flashlight', 'a_sad13', 'n_vehicle6', 'd_ok2', 'm_fooddrink10', 'o_cueforward', 'b_woman2', 'l_sport15', 'b_princess3', 't_radio', 'd_ok1', 't_time4', 'l_sport18', 'o_left', 'l_music6', 't_time23', 'r_zodiac1', 'd_number1', 't_time20', 'r_bike', 'r_o', 'b_police1', 'a_dead1', 'l_sport11_1', 'l_lock5', 'c_angry', 'n_flag38', 'j_newface', 'l_office8', 's_money', 'd_clap1', 'd_wave5', 't_button16', 'm_fooddrink38', 'e_chrissy1', 'l_asian', 'm_fooddrink23', 'l_pine', 'l_badge', 'l_money1', 't_time2', 'm_fooddrink36', 'k_rainbow', 'g_monkey2', 'd_clap2', 'b_grandpa2', 'l_radio', 'g_fish2', 't_card4', 'f_brownshoe', 'j_sun1', 'a_worry1', 'n_flag8', 'f_derbyhat', 'l_hourglass1', 'f_bag2', 'f_brokenheart', 't_check1', 'g_dolphin', 'l_cd3', 'd_water2', 'r_atm', 'b_woman', 'd_poop', 'e_nails3', 'g_turtle', 'a_oh2', 'n_building10', 'e_chrissy4', 'm_fooddrink5', 'l_money4', 't_button11', 't_paperclip', 'e_sad2', 'd_ear5', 'e_salsa1', 'd_pointleft1', 'i_palm', 't_card2', 'b_boy', 'l_music8', 'e_walk4', 'a_sad9', 'l_xmastree', 'b_turbin2', 'l_sport10_2', 'l_letter11', 'b_gua5', 'o_7', 'n_flag42', 'f_sparkleheart', 'd_flare', 'd_pointleft2', 'f_user', 'n_sign1', 'l_office5', 'g_penguin2', 'r_check', 'n_flag19', 'i_cactus', 'o_looponce', 'd_td2', 'l_crystalball', 'l_door', 'p_menwomen', 'o_rewind', 'l_office18', 'a_tongue2', 'p_baby', 'g_fox', 'n_flag41', 'd_thumbsdown2', 'e_o2', 's_back', 'o_right', 'l_cigarette', 'p_asian8', 'f_polo', 'f_purpleheart', 'k_volcano', 'n_building14', 'l_badge2', 'n_vehicle27', 'k_weather5', 'd_tongue', 'b_police', 'l_phone1', 'l_sport10_5', 'o_bars', 'f_growingheart', 'o_6', 'r_star1', 'f_lipstick', 'e_o3', 'l_game5', 'd_w1', 'p_asian1', 'o_4', 'g_penguin1', 'd_nose4', 'n_vehicle35', 'a_zzz', 'e_nails1', 'b_baby', 'l_speaker3', 'd_victory4', 'e_bride4', 'o_downtri', 'c_seeno', 'k_weather1', 'n_vehicle12', 'e_o1', 'n_square7', 'n_vehicle1', 'o_uptri', 'h_goat', 'm_fooddrink30', 'n_vehicle29', 'n_flag34', 'm_fooddrink43', 'vulcan5', 'l_book9', 'l_ghost', 'd_clap', 'r_b', 'd_raise1', 'b_man5', 'd_thumbsup4', 'g_bee', 'm_fooddrink28', 'm_fooddrink46', 'l_hammer', 'l_music2', 'e_x1', 'i_mushroom', 'vulcan2', 'k_stars2', 'e_whistle4', 'h_paw', 'm_fooddrink17', 'l_speaker5', 'd_prayer3', 'l_sport13_3', 't_button3', 'm_fooddrink54', 'n_flag6', 'e_whistle5', 's_on', 'd_pointup4', 'meaning', 'f_cupidheart', 'd_pound4', 'l_camera1', 'n_vehicle37', 'm_fooddrink35', 'l_letter3', 'e_run5', 'o_loop', 'a_loveeyes', 'e_family2', 'm_fooddrink59', 'h_camel2', 't_button19', 'a_blush', 'c_alien', 'j_moon11', 'l_balloon', 'b_turbin1', 'o_up', 'd_w5', 'n_flag37', 'n_square19', 'e_salsa2', 'e_family6', 'l_game3', 'l_office19', 'l_lock3', 't_button12', 't_time22', 'n_flag40', 'r_cell', 'f_whiteshoe', 'r_a', 'd_stars2', 'n_flag36', 'j_moon8', 'm_fooddrink26', 'n_sign5', 'a_sad14', 'd_ok', 'e_dancers', 'f_blouse', 'b_turbin3', 'm_fooddrink2', 'b_blonde1', 'd_wave4', 'b_man', 'd_bicep3', 'a_sunglasses', 'd_pointleft3', 'f_dress', 'n_square15', 'e_cuthair4', 'a_angry2', 'b_russian3', 'l_sport10_4', 'n_flag3', 'b_man4', 'l_tub1', 'd_raise4', 'r_twoloops', 'g_fish1', 'o_3', 'l_sport18_2', 'd_bicep4', 'n_square16', 'n_square9', 'l_office13', 'm_fooddrink31', 'b_baby3', 'n_vehicle25', 'e_sad1', 'm_fooddrink52', 'e_salsa3', 'l_office12', 'd_thumbsdown1', 'n_vehicle21', 'p_wc', 'b_safety3', 'd_raise3', 'h_leopard', 'b_man3', 'n_vehicle3', 'f_jeans', 'l_sport18_3', 'r_yen', 'r_walk', 'n_vehicle18', 'f_workout', 'l_santa5', 't_flourant', 'n_sign4', 'e_washhair1', 'd_nose5', 'l_bolt', 't_button13', 'g_elephant', 't_button5', 'i_flower4', 'e_washhair2', 'e_washhair3', 'b_gua1', 'g_mouse1', 'f_ring', 'f_glasses', 'o_pound', 'n_flag20', 'd_zzz', 'b_angel', 'd_w', 'h_cow', 'p_service', 'd_pointleft4', 'e_family8', 'e_family5', 'h_cat', 'd_power2', 'd_td4', 't_wiggle2', 'm_fooddrink58', 'd_w4', 'n_flag35', 'l_microwave', 'a_tongue3', 'n_building3', 'r_zodiac4', 'e_coupleheart2', 'm_fooddrink42', 'm_fooddrink34', 'e_run3', 'o_8', 'f_diamond', 'b_angel3', 'e_chrissy5', 'g_pig1', 's_grayexcl', 'l_music5', 'l_sport11_4', 'e_family10', 'n_sign14', 'l_lock2', 'd_raise', 'n_flag25', 'n_vehicle31', 'l_bell2', 'd_w2', 'b_princess2', 'e_washhair', 'l_heartbox', 'l_mic', 'a_sad3', 'h_bull', 's_soon', 'j_globe4', 'vulcan1', 'c_shocked', 'e_headdown4', 'r_zodiac7', 'e_cuthair1', 'e_sad5', 'r_phoneheart', 'b_safety5', 'n_flag16', 'e_handraise1', 'c_redmask', 'l_letter6', 'e_salsa5', 'd_pointright', 'm_fooddrink11', 'o_9', 'r_zodiac5', 'j_moon1', 'b_baby5', 'n_square5', 'a_smiley2', 'l_sport17_4', 'l_pumpkin', 'e_headdown2', 'b_girl1', 'l_sport11_5', 'l_sport13_4', 'h_ox', 'a_angel', 'b_girl5', 'l_gun', 'e_family13', 'f_crown', 's_x', 'r_zodiac10', 'b_woman4', 'd_td', 'd_stars1', 'd_prayer', 'r_zodiac12', 'b_russian5', 't_time17', 'n_vehicle40', 'm_fooddrink32', 'b_baby2', 'g_sheep', 'e_handraise4', 'l_sport19', 'l_music4', 'n_sign3', 'd_bicep2', 'b_russian4', 't_button20', 'p_asian15', 'l_game6', 'b_girl', 'e_coupleheart', 'd_thumbsup', 'd_power1', 'o_lefttri', 'm_fooddrink9', 'b_turbin', 'm_fooddrink48', 'l_sport12', 't_time15', 'm_fooddrink40', 'g_monkey1', 'n_vehicle36', 'r_vs', 'a_sad5', 'j_moon9', 'l_party2', 'd_ear4', 'n_square13', 'b_princess', 'e_bride2', 'n_vehicle38', 'l_music3', 'd_ok4', 'b_girl3', 'e_bride3', 'd_wind', 'o_downward', 'l_bright1', 't_math3', 'm_fooddrink4', 'n_square2', 'e_family4', 'n_square12', 'l_tv', 'l_needle', 'o_cueback', 'n_vehicle33', 'o_downforward', 'h_sheep', 'i_shamrock', 'n_flag1', 'd_number3', 't_loop', 't_button15', 'l_sport13_2', 't_time13', 'i_leaf5', 'b_angel1', 'l_letter8', 'm_fooddrink33', 'e_nails5', 'a_wince', 'b_man1', 'n_flag28', 'l_science2', 'a_wink', 'l_letter12', 'b_boy4', 'p_asian9', 'o_abc', 'l_science1', 'd_prayer1', 'e_run4', 'n_vehicle10', 'd_pound1', 'a_worry4', 'e_chrissy3', 'e_run1', 'g_rabbit', 'e_headdown5', 'l_news', 'k_mountain', 'd_thumbsdown', 'h_chicken', 'g_caterpillar ', 'e_whistle3', 'l_bell1', 'c_hearno', 'n_vehicle11', 'l_office16', 'n_flag26', 't_time3', 'e_salsa', 'n_flag39', 'd_pound2', 's_dollar', 'n_vehicle8', 'n_building2', 'l_sport6', 'd_td3', 'l_game4', 'a_kiss4', 'l_office15', 'b_boy1', 'l_office17', 'm_fooddrink13', 'c_side1', 'l_office20', 'a_cheese', 'n_square14', 'n_building11', 'm_fooddrink50', 'e_washhair4', 'n_building9', 'n_vehicle23', 'g_snail', 'e_handraise2', 'l_bulb', 'n_vehicle19', 'l_money7', 'a_sad11', 'e_whistle2', 'l_office9', 'd_prayer4', 'b_princess4', 'p_asian3', 'b_turbin5', 'm_fooddrink25', 'd_pointright1', 'd_bicep', 'p_parking', 'b_grandpa', 'n_vehicle32', 'n_building8', 't_wiggle1', 'e_nails', 'o_abcd1', 't_time18', 'm_fooddrink39', 'vulcan', 'b_boy5', 'k_wave', 'a_straight', 'n_flag12', 'r_recycle', 'l_tape', 'a_smiley4', 'd_pointright5', 'h_mouse', 'e_couple', 'c_smile1', 'm_fooddrink18', 'a_sad15', 'b_gua3', 'l_sport11_3', 'a_embarassed', 'n_flag33', 'f_message', 'p_asian16', 'o_5', 'b_blonde5', 'k_stars1', 'f_slipon', 'n_flag18', 'g_whale1', 'd_victory2', 'd_power4', 'l_movie', 'f_heel', 'l_speaker1', 's_question', 'r_ab', 'n_building7', 'c_skull', 'l_iphone2', 'i_flower5', 'l_office1', 'l_letter2', 'm_fooddrink20', 'p_men', 'k_weather3', 'e_cuthair5', 'm_fooddrink51', 'b_safety4', 'b_gua4', 'n_flag7', 'n_flag5', 'd_pointup3', 'd_pointleft5', 'n_flag9', 'l_sport17', 'n_flag17', 'd_thumbsdown5', 'n_vehicle4', 'd_prayer2', 'd_stars3', 'd_power', 'n_flag10', 'l_office2', 'l_santa3', 'r_zodiac3', 'g_dog', 'i_flower3', 'k_weather7', 'l_backpack', 'n_vehicle34', 't_time24', 's_grayquestion', 'b_blonde3', 'd_victory3', 'r_diamond', 'n_square3', 'o_downright', 'b_russian1', 'l_sport10', 'f_bag3', 'l_sport14', 'd_pointdown2', 'n_vehicle30', 'p_asian14', 'l_shower', 'p_lockedbaggage', 'd_number', 'l_office10', 'b_grandma4', 'j_moon10', 'i_leaf4', 'i_leaf1', 'n_flag22', 'n_sign2', 'b_grandma1', 'l_money2', 'n_square6', 'l_letter10', 'g_koala', 'b_baby4', 'l_letter4', 't_button4', 's_loop', 'l_sport2', 'a_kiss1 ', 'l_sport16', 'l_sport17_2', 'n_vehicle16', 'e_washhair5', 'l_iphone', 'l_money6', 'e_chrissy2', 'p_asian5', 'i_leaf3', 't_button17', 'e_walk3', 'r_child', 'e_x3', 'e_handraise3', 't_button10', 'l_sport17_5', 'l_battery', 'b_blonde', 'b_princess1', 'o_ok', 'l_fax', 'n_building13', 'd_pointdown1', 'e_nails2', 'g_frog', 'h_dragon2', 'b_russian', 't_time19', 'g_ladybug', 'r_star2', 'd_pointdown4', 'd_power5', 'g_chick1', 'o_0', 'g_cow', 'o_upleft', 'a_licklips', 'p_id', 'h_camel1', 'l_music1', 'l_book5', 'm_fooddrink47', 'e_salsa4', 'd_power3', 'd_pointdown', 's_exclquestion', 'p_asian7', 'a_sad1', 't_time14', 'o_righttri', 'o_downleft', 'r_zodiac6', 'i_evergreen', 'n_building1', 'n_sign11', 'e_o4', 'd_fire', 'b_safety1', 'j_moon7', 'r_zodiac9', 'g_snake', 'd_number4', 'n_vehicle7', 'd_nose', 'l_sport4', 'o_ng', 'l_santa4', 'n_building12', 'f_boot', 'b_baby1', 'm_fooddrink24', 'r_phoneoff', 'm_fooddrink15', 'd_thumbsdown3', 'r_no', 'n_vehicle17', 'e_cuthair', 'b_angel2', 'm_fooddrink8', 'n_flag14', 'n_flag27', 'e_sad', 'e_x2', 'a_sad8', 'k_spiral', 'h_dog', 'j_moonface', 'b_woman1', 'k_weather6', 'o_upexcl', 'l_latern', 'm_fooddrink3', 'f_blueheart', 'r_zodiac14', 'l_sport17_3', 'e_family9', 'b_police2', 'l_wind', 'n_building4', 'f_shirttie', 'l_magnify', 'h_rabbit', 'a_smiley3', 'g_pig2', 'b_turbin4', 'l_horn', 'l_sport18_5', 'l_letter9', 'l_clock2', 'o_1234', 'h_alligator', 'e_cuthair3', 'n_building6', 'l_hourglass2', 'l_sport8', 'l_art', 'g_panda', 'b_angel4', 'e_cuthair2', 'n_sign6', 'b_princess5', 'c_sad1', 'l_phone2', 'e_bride5', 'j_moon4', 'f_user2', 'l_sport10_3', 'e_bride', 'd_bicep5', 'e_headdown3', 'b_police5', 'a_kiss2', 'b_grandpa1', 'a_smiley1', 'f_asian', 'd_thumbsdown4'])"
      ]
     },
     "execution_count": 20,
     "metadata": {},
     "output_type": "execute_result"
    }
   ],
   "source": [
    "emoji_map.keys()"
   ]
  },
  {
   "cell_type": "code",
   "execution_count": 17,
   "metadata": {
    "collapsed": false
   },
   "outputs": [],
   "source": [
    "assert emoji_map['d_ok'] == '👌'\n",
    "assert emoji_map['d_poop'] == '💩'"
   ]
  },
  {
   "cell_type": "code",
   "execution_count": null,
   "metadata": {
    "collapsed": true
   },
   "outputs": [],
   "source": []
  }
 ],
 "metadata": {
  "kernelspec": {
   "display_name": "Python 3",
   "language": "python",
   "name": "python3"
  },
  "language_info": {
   "codemirror_mode": {
    "name": "ipython",
    "version": 3
   },
   "file_extension": ".py",
   "mimetype": "text/x-python",
   "name": "python",
   "nbconvert_exporter": "python",
   "pygments_lexer": "ipython3",
   "version": "3.5.2"
  }
 },
 "nbformat": 4,
 "nbformat_minor": 0
}
