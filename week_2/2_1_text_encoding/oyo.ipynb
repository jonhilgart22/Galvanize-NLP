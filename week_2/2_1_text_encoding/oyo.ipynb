{
 "cells": [
  {
   "cell_type": "markdown",
   "metadata": {
    "slideshow": {
     "slide_type": "slide"
    }
   },
   "source": [
    "---\n",
    "On Your Own\n",
    "----\n",
    "\n",
    "![iPhone Message of Death](images/dodgy_unicode.png)\n",
    "[Source](http://www.theregister.co.uk/2015/05/27/text_message_unicode_ios_osx_vulnerability/) <br>\n",
    "\n",
    "__iPhone Unicode Message of Death__: If you text this message to someone with a iPhone, it will force the device to reboot. This is due to a vulnerability in the Unicode byte representation.\n",
    "\n",
    "How would you fix this bug?"
   ]
  },
  {
   "cell_type": "markdown",
   "metadata": {},
   "source": [
    "<br>\n",
    "<br>"
   ]
  }
 ],
 "metadata": {
  "celltoolbar": "Slideshow",
  "kernelspec": {
   "display_name": "Python 3",
   "language": "python",
   "name": "python3"
  },
  "language_info": {
   "codemirror_mode": {
    "name": "ipython",
    "version": 3
   },
   "file_extension": ".py",
   "mimetype": "text/x-python",
   "name": "python",
   "nbconvert_exporter": "python",
   "pygments_lexer": "ipython3",
   "version": "3.5.2"
  }
 },
 "nbformat": 4,
 "nbformat_minor": 0
}
