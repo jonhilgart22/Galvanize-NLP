{
 "cells": [
  {
   "cell_type": "markdown",
   "metadata": {
    "slideshow": {
     "slide_type": "slide"
    }
   },
   "source": [
    "---\n",
    "Hacking Unicode\n",
    "====\n",
    "\n",
    "![](images/chacter_encoding.png)"
   ]
  },
  {
   "cell_type": "markdown",
   "metadata": {
    "slideshow": {
     "slide_type": "slide"
    }
   },
   "source": [
    "By The End Of This Session You Should Be Able To:\n",
    "----\n",
    "\n",
    "- Fix Unicode encoding errors\n",
    "- Recognize mojibake\n",
    "- Describe what an Unicode sandwich is\n",
    "- Make your way out of Unicode Hell (I'm your Virgil)"
   ]
  },
  {
   "cell_type": "markdown",
   "metadata": {
    "slideshow": {
     "slide_type": "slide"
    }
   },
   "source": [
    "Remember earlier in the course, we had data locally ..."
   ]
  },
  {
   "cell_type": "code",
   "execution_count": 4,
   "metadata": {
    "collapsed": false,
    "slideshow": {
     "slide_type": "fragment"
    }
   },
   "outputs": [],
   "source": [
    "with open('../../corpora/shakespeare_all.txt') as f:\n",
    "    shakespeare = f.read()"
   ]
  },
  {
   "cell_type": "code",
   "execution_count": 5,
   "metadata": {
    "collapsed": false,
    "slideshow": {
     "slide_type": "fragment"
    }
   },
   "outputs": [
    {
     "data": {
      "text/plain": [
       "'\\ufeffTHE SONNETS\\nby William Shakespeare\\n\\n\\n\\n           '"
      ]
     },
     "execution_count": 5,
     "metadata": {},
     "output_type": "execute_result"
    }
   ],
   "source": [
    "shakespeare[:50]"
   ]
  },
  {
   "cell_type": "markdown",
   "metadata": {
    "slideshow": {
     "slide_type": "slide"
    }
   },
   "source": [
    "![](http://replygif.net/thumbnail/100.gif)"
   ]
  },
  {
   "cell_type": "markdown",
   "metadata": {
    "collapsed": true,
    "slideshow": {
     "slide_type": "slide"
    }
   },
   "source": [
    "---\n",
    "Mojibake\n",
    "---\n",
    "\n",
    "![](http://mihai-nita.net/wp-content/uploads/2006/08/Rez4.gif)"
   ]
  },
  {
   "cell_type": "markdown",
   "metadata": {
    "slideshow": {
     "slide_type": "slide"
    }
   },
   "source": [
    "What is mojibake?\n",
    "---\n",
    "\n",
    "![](http://s3.media.squarespace.com/production/920827/11462743/_wGr8njEWjtI/S_4ELCN3k7I/AAAAAAAAI3g/0wqbEFX0yjw/s1600/julian%2Bn.ow.thai%2Bfont%2B%2528story%2529.jpg)\n",
    "Incorrect, unreadable characters shown when computer software fails to show text correctly. "
   ]
  },
  {
   "cell_type": "markdown",
   "metadata": {
    "slideshow": {
     "slide_type": "slide"
    }
   },
   "source": [
    "Why is there mojibake?\n",
    "-----\n",
    "\n",
    "It is a result of text being decoded using an unintended character encoding.\n",
    "\n",
    "[Very common in Japanese websites](https://en.wikipedia.org/wiki/Mojibake), hence the name:  \n",
    "文字 (moji) \"character\" + 化け (bake) \"transform\""
   ]
  },
  {
   "cell_type": "markdown",
   "metadata": {
    "slideshow": {
     "slide_type": "fragment"
    }
   },
   "source": [
    "__Bad News__: Looks awful\n",
    "    \n",
    "__Good News__: It is systematic (find the right encoding) and easy to fix"
   ]
  },
  {
   "cell_type": "code",
   "execution_count": 1,
   "metadata": {
    "collapsed": true,
    "slideshow": {
     "slide_type": "slide"
    }
   },
   "outputs": [],
   "source": [
    "import ftfy"
   ]
  },
  {
   "cell_type": "code",
   "execution_count": 8,
   "metadata": {
    "collapsed": false,
    "slideshow": {
     "slide_type": "fragment"
    }
   },
   "outputs": [
    {
     "data": {
      "text/plain": [
       "'THE SONNETS\\nby William Shakespeare\\n\\n\\n\\n           '"
      ]
     },
     "execution_count": 8,
     "metadata": {},
     "output_type": "execute_result"
    }
   ],
   "source": [
    "ftfy.fix_text(shakespeare[:50])"
   ]
  },
  {
   "cell_type": "markdown",
   "metadata": {
    "slideshow": {
     "slide_type": "slide"
    }
   },
   "source": [
    "![](http://s2.quickmeme.com/img/0a/0ac84ebf42410c7c7325f8f7120723bd4ccede374902ab5c18000ab323a85a6b.jpg)\n",
    "\n",
    "[fifty package](https://github.com/LuminosoInsight/python-ftfy/blob/master/README.md) \n",
    "\n",
    "It automagically fixes all encoding errors!!!  "
   ]
  },
  {
   "cell_type": "code",
   "execution_count": null,
   "metadata": {
    "collapsed": true,
    "slideshow": {
     "slide_type": "fragment"
    }
   },
   "outputs": [],
   "source": [
    "ftfy."
   ]
  },
  {
   "cell_type": "markdown",
   "metadata": {
    "collapsed": false,
    "slideshow": {
     "slide_type": "slide"
    }
   },
   "source": [
    "What about the line breaks?"
   ]
  },
  {
   "cell_type": "code",
   "execution_count": 4,
   "metadata": {
    "collapsed": false,
    "slideshow": {
     "slide_type": "fragment"
    }
   },
   "outputs": [],
   "source": [
    "with open('../../corpora/shakespeare_all.txt') as f:\n",
    "    shakespeare = f.read().splitlines()"
   ]
  },
  {
   "cell_type": "code",
   "execution_count": 11,
   "metadata": {
    "collapsed": false,
    "slideshow": {
     "slide_type": "slide"
    }
   },
   "outputs": [
    {
     "data": {
      "text/plain": [
       "['\\ufeffTHE SONNETS',\n",
       " 'by William Shakespeare',\n",
       " '',\n",
       " '',\n",
       " '',\n",
       " '                     1',\n",
       " '  From fairest creatures we desire increase,',\n",
       " \"  That thereby beauty's rose might never die,\",\n",
       " '  But as the riper should by time decease,',\n",
       " '  His tender heir might bear his memory:']"
      ]
     },
     "execution_count": 11,
     "metadata": {},
     "output_type": "execute_result"
    }
   ],
   "source": [
    "shakespeare[:10]"
   ]
  },
  {
   "cell_type": "code",
   "execution_count": 9,
   "metadata": {
    "collapsed": false,
    "slideshow": {
     "slide_type": "slide"
    }
   },
   "outputs": [],
   "source": [
    "# Munging text\n",
    "shakespeare = [ftfy.fix_text(line.strip()) for line in shakespeare if line]"
   ]
  },
  {
   "cell_type": "code",
   "execution_count": 30,
   "metadata": {
    "collapsed": false,
    "slideshow": {
     "slide_type": "fragment"
    }
   },
   "outputs": [
    {
     "data": {
      "text/plain": [
       "['THE SONNETS',\n",
       " 'by William Shakespeare',\n",
       " '1',\n",
       " 'From fairest creatures we desire increase,',\n",
       " \"That thereby beauty's rose might never die,\",\n",
       " 'But as the riper should by time decease,',\n",
       " 'His tender heir might bear his memory:',\n",
       " 'But thou contracted to thine own bright eyes,',\n",
       " \"Feed'st thy light's flame with self-substantial fuel,\",\n",
       " 'Making a famine where abundance lies,']"
      ]
     },
     "execution_count": 30,
     "metadata": {},
     "output_type": "execute_result"
    }
   ],
   "source": [
    "shakespeare[:10]"
   ]
  },
  {
   "cell_type": "markdown",
   "metadata": {
    "collapsed": false,
    "slideshow": {
     "slide_type": "slide"
    }
   },
   "source": [
    "Point to Ponder\n",
    "-----\n",
    "\n",
    "<img src=\"http://www.quickmeme.com/img/ce/ce0e82f74fe1c1585ebdbdc2365bd9a69d222e16dcea6e95390136b2f1093a1f.jpg\" style=\"width: 400px;\"/>\n",
    "\n",
    "Should munging be done on load or after?"
   ]
  },
  {
   "cell_type": "markdown",
   "metadata": {
    "slideshow": {
     "slide_type": "slide"
    }
   },
   "source": [
    "---\n",
    "Unicode Sandwich (only popular in Silicon Valley)\n",
    "---"
   ]
  },
  {
   "cell_type": "markdown",
   "metadata": {
    "collapsed": true,
    "slideshow": {
     "slide_type": "fragment"
    }
   },
   "source": [
    "<img src=\"https://www.safaribooksonline.com/library/view/fluent-python/9781491946237/images/flup_0402.png.jpg\" style=\"width: 400px;\"/>"
   ]
  },
  {
   "cell_type": "markdown",
   "metadata": {
    "slideshow": {
     "slide_type": "slide"
    }
   },
   "source": [
    "<img src=\"http://1.bp.blogspot.com/-m4BldtOr4gw/UvzKDSP_YNI/AAAAAAAABGI/GgfyUAQuaQU/s1600/UnicodeSandwich.PNG\" style=\"width: 400px;\"/>"
   ]
  },
  {
   "cell_type": "markdown",
   "metadata": {
    "slideshow": {
     "slide_type": "slide"
    }
   },
   "source": [
    "What is Unicode?\n",
    "------\n",
    "\n",
    "Unicode provides a unique number for every character!\n",
    "\n"
   ]
  },
  {
   "cell_type": "markdown",
   "metadata": {
    "slideshow": {
     "slide_type": "fragment"
    }
   },
   "source": [
    "no matter what the platform,\n",
    "no matter what the program,\n",
    "no matter what the language.\n",
    "\n",
    "[Source](http://www.unicode.org/standard/WhatIsUnicode.html)"
   ]
  },
  {
   "cell_type": "markdown",
   "metadata": {
    "slideshow": {
     "slide_type": "slide"
    }
   },
   "source": [
    "![](images/unicode_support.png)\n",
    "\n",
    "> Humans use text. Computers speak bytes.  \n",
    "— Esther Nam and Travis Fischer  \n",
    "\n",
    "_Character encoding and Unicode in Python_"
   ]
  },
  {
   "cell_type": "markdown",
   "metadata": {
    "slideshow": {
     "slide_type": "slide"
    }
   },
   "source": [
    "Unicode Table\n",
    "-----"
   ]
  },
  {
   "cell_type": "code",
   "execution_count": 5,
   "metadata": {
    "collapsed": false,
    "slideshow": {
     "slide_type": "fragment"
    }
   },
   "outputs": [
    {
     "data": {
      "text/html": [
       "\n",
       "        <iframe\n",
       "            width=\"700\"\n",
       "            height=\"350\"\n",
       "            src=\"http://unicode-table.com/en/#0014\"\n",
       "            frameborder=\"0\"\n",
       "            allowfullscreen\n",
       "        ></iframe>\n",
       "        "
      ],
      "text/plain": [
       "<IPython.lib.display.IFrame at 0x106ac12b0>"
      ]
     },
     "execution_count": 5,
     "metadata": {},
     "output_type": "execute_result"
    }
   ],
   "source": [
    "from IPython.display import IFrame\n",
    "\n",
    "IFrame(\"http://unicode-table.com/en/#0014\",\n",
    "      width=700,\n",
    "      height=350)"
   ]
  },
  {
   "cell_type": "markdown",
   "metadata": {
    "slideshow": {
     "slide_type": "slide"
    }
   },
   "source": [
    "----\n",
    "Unicode: Do the best you can and then go home\n",
    "----\n",
    "\n",
    "<img src=\"http://imgs.xkcd.com/comics/unicode.png\" style=\"width: 400px;\"/>"
   ]
  },
  {
   "cell_type": "markdown",
   "metadata": {
    "slideshow": {
     "slide_type": "slide"
    }
   },
   "source": [
    "-----\n",
    "Summary\n",
    "----\n",
    "\n",
    "- Unicode is better than other options, but still kinda sux\n",
    "- Alway try to keep it Unicode\n",
    "- Be explicit about encodings\n",
    "- If you see mojibake, don't ╯°□°）╯︵ ┻━┻. ftfy"
   ]
  },
  {
   "cell_type": "markdown",
   "metadata": {
    "slideshow": {
     "slide_type": "slide"
    }
   },
   "source": [
    "<br>\n",
    "<br>\n",
    "--"
   ]
  },
  {
   "cell_type": "markdown",
   "metadata": {
    "slideshow": {
     "slide_type": "slide"
    }
   },
   "source": [
    "---\n",
    "Bonus\n",
    "---\n",
    "\n",
    "\n",
    "![](http://imgs.xkcd.com/comics/rtl.png )\n",
    "\n",
    "[Explain xckd](http://www.explainxkcd.com/wiki/index.php/RTL)"
   ]
  },
  {
   "cell_type": "markdown",
   "metadata": {
    "slideshow": {
     "slide_type": "slide"
    }
   },
   "source": [
    "<br>\n",
    "<br>"
   ]
  }
 ],
 "metadata": {
  "celltoolbar": "Slideshow",
  "kernelspec": {
   "display_name": "Python 3",
   "language": "python",
   "name": "python3"
  },
  "language_info": {
   "codemirror_mode": {
    "name": "ipython",
    "version": 3
   },
   "file_extension": ".py",
   "mimetype": "text/x-python",
   "name": "python",
   "nbconvert_exporter": "python",
   "pygments_lexer": "ipython3",
   "version": "3.5.2"
  }
 },
 "nbformat": 4,
 "nbformat_minor": 0
}
