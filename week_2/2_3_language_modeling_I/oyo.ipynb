{
 "cells": [
  {
   "cell_type": "markdown",
   "metadata": {
    "slideshow": {
     "slide_type": "slide"
    }
   },
   "source": [
    "----\n",
    "On Your Own\n",
    "----\n",
    "\n",
    "__Crowd Sourced biigram Model__:\n",
    "![](images/unigram_social_media.jpg)\n",
    "\n",
    "How could you re-engineer the game to keep it from going off the rails?\n",
    "\n",
    "<details><summary>\n",
    "Hint....\n",
    "</summary>\n",
    "<br>\n",
    "<br>\n",
    "What if you played the game with emojis?\n",
    "</details>"
   ]
  },
  {
   "cell_type": "markdown",
   "metadata": {
    "slideshow": {
     "slide_type": "slide"
    }
   },
   "source": [
    "<br>\n",
    "<br> \n",
    "<br>\n",
    "\n",
    "----"
   ]
  }
 ],
 "metadata": {
  "celltoolbar": "Slideshow",
  "kernelspec": {
   "display_name": "Python 3",
   "language": "python",
   "name": "python3"
  },
  "language_info": {
   "codemirror_mode": {
    "name": "ipython",
    "version": 3
   },
   "file_extension": ".py",
   "mimetype": "text/x-python",
   "name": "python",
   "nbconvert_exporter": "python",
   "pygments_lexer": "ipython3",
   "version": "3.5.2"
  }
 },
 "nbformat": 4,
 "nbformat_minor": 0
}
