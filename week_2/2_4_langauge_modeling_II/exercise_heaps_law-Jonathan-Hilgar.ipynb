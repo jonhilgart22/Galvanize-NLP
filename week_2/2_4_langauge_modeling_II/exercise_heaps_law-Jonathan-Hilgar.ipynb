{
 "cells": [
  {
   "cell_type": "markdown",
   "metadata": {},
   "source": [
    "Heaps' law\n",
    "------\n",
    "\n",
    "![](images/heaps_law.gif)\n",
    "\n",
    "x axis: size of corpus   \n",
    "y axis: size of vocabulary, aka word cardinality, aka number of distinct words"
   ]
  },
  {
   "cell_type": "markdown",
   "metadata": {},
   "source": [
    "----\n",
    "What is Heaps Law?\n",
    "----\n",
    "\n",
    "Heaps' law describes the number of distinct words as a function of document (or corpus) length.\n",
    "\n",
    "Read more here: https://en.wikipedia.org/wiki/Heaps%27_law"
   ]
  },
  {
   "cell_type": "code",
   "execution_count": 17,
   "metadata": {
    "collapsed": true
   },
   "outputs": [],
   "source": [
    "from textblob import TextBlob"
   ]
  },
  {
   "cell_type": "code",
   "execution_count": 18,
   "metadata": {
    "collapsed": false
   },
   "outputs": [],
   "source": [
    "with open('../../corpora/war_and_peace.txt') as f:\n",
    "    text = f.read()"
   ]
  },
  {
   "cell_type": "code",
   "execution_count": 19,
   "metadata": {
    "collapsed": false
   },
   "outputs": [
    {
     "data": {
      "text/plain": [
       "TextBlob(\"War and Pe\")"
      ]
     },
     "execution_count": 19,
     "metadata": {},
     "output_type": "execute_result"
    }
   ],
   "source": [
    "blob = TextBlob(text)\n",
    "blob[0:10]"
   ]
  },
  {
   "cell_type": "code",
   "execution_count": null,
   "metadata": {
    "collapsed": true
   },
   "outputs": [],
   "source": []
  },
  {
   "cell_type": "code",
   "execution_count": 20,
   "metadata": {
    "collapsed": false
   },
   "outputs": [],
   "source": [
    "# TODO: Process the tokens to find (mumber of words, number of unique words) in order from the first to last word\n",
    "tokens = blob.tokens\n",
    "\n",
    "\n"
   ]
  },
  {
   "cell_type": "code",
   "execution_count": 21,
   "metadata": {
    "collapsed": false
   },
   "outputs": [],
   "source": [
    "def word_data(blob):\n",
    "    memo = ()\n",
    "    counts = []\n",
    "    \n",
    "    vocab = set()\n",
    "    \n",
    "    for tok in blob.tokens:\n",
    "        if tok not in vocab:\n",
    "            vocab.add(tok)\n",
    "        \n",
    "        counts.append(len(vocab))\n",
    "            \n",
    "    \n",
    "    return[(i+1,counts[i]) for i  in range(len(counts))]\n",
    "    "
   ]
  },
  {
   "cell_type": "code",
   "execution_count": 95,
   "metadata": {
    "collapsed": false
   },
   "outputs": [],
   "source": [
    "heaps_data = word_data(blob)"
   ]
  },
  {
   "cell_type": "code",
   "execution_count": 96,
   "metadata": {
    "collapsed": false
   },
   "outputs": [],
   "source": [
    "assert heaps_data[:5] == [(1, 1), (2, 2), (3, 3), (4, 4), (5, 5)]"
   ]
  },
  {
   "cell_type": "code",
   "execution_count": 97,
   "metadata": {
    "collapsed": false
   },
   "outputs": [],
   "source": [
    "assert heaps_data[-3:] == [(668150, 20167), (668151, 20167), (668152, 20167)]"
   ]
  },
  {
   "cell_type": "code",
   "execution_count": 98,
   "metadata": {
    "collapsed": false
   },
   "outputs": [
    {
     "data": {
      "text/plain": [
       "[(668150, 20167), (668151, 20167), (668152, 20167)]"
      ]
     },
     "execution_count": 98,
     "metadata": {},
     "output_type": "execute_result"
    }
   ],
   "source": [
    "heaps_data[-3:]"
   ]
  },
  {
   "cell_type": "code",
   "execution_count": 99,
   "metadata": {
    "collapsed": true
   },
   "outputs": [],
   "source": [
    "#TODO: Plot Heaps' Law"
   ]
  },
  {
   "cell_type": "code",
   "execution_count": 100,
   "metadata": {
    "collapsed": false
   },
   "outputs": [
    {
     "name": "stdout",
     "output_type": "stream",
     "text": [
      "Populating the interactive namespace from numpy and matplotlib\n"
     ]
    },
    {
     "name": "stderr",
     "output_type": "stream",
     "text": [
      "/Users/jonathanhilgart/anaconda/envs/nlp/lib/python3.5/site-packages/IPython/core/magics/pylab.py:161: UserWarning: pylab import has clobbered these variables: ['text', 'f']\n",
      "`%matplotlib` prevents importing * from pylab and numpy\n",
      "  \"\\n`%matplotlib` prevents importing * from pylab and numpy\"\n"
     ]
    }
   ],
   "source": [
    "import matplotlib.pyplot as plt\n",
    "%pylab inline"
   ]
  },
  {
   "cell_type": "code",
   "execution_count": 101,
   "metadata": {
    "collapsed": false
   },
   "outputs": [
    {
     "data": {
      "text/plain": [
       "<matplotlib.text.Text at 0x139364080>"
      ]
     },
     "execution_count": 101,
     "metadata": {},
     "output_type": "execute_result"
    },
    {
     "data": {
      "image/png": "[encoded data removed]",
      "text/plain": [
       "<matplotlib.figure.Figure at 0x142870c88>"
      ]
     },
     "metadata": {},
     "output_type": "display_data"
    }
   ],
   "source": [
    "plt.plot(*zip(*heaps_data))\n",
    "plt.xlabel('number of words')\n",
    "plt.ylabel('size of vocab')"
   ]
  },
  {
   "cell_type": "code",
   "execution_count": null,
   "metadata": {
    "collapsed": true
   },
   "outputs": [],
   "source": []
  },
  {
   "cell_type": "markdown",
   "metadata": {},
   "source": [
    "Repeat for all the text data in the directory!"
   ]
  },
  {
   "cell_type": "code",
   "execution_count": 25,
   "metadata": {
    "collapsed": true
   },
   "outputs": [],
   "source": [
    "path = \"../../corpora/\"\n",
    "\n",
    "file_names = [\"the_kama_sutra.txt\",\n",
    "              \"manual_of_surgery.txt\",\n",
    "             \"history_usa.txt\",\n",
    "              \"ulysses.txt\",\n",
    "             \"alice_in_wonderland.txt\",\n",
    "             \"grimms_fairy_tales.txt\",\n",
    "            \"moby_dick.txt\",\n",
    "            \"shakespeare_all.txt\",\n",
    "            \"sherlock_all.txt\",\n",
    "            \"war_and_peace.txt\",\n",
    "             \"one_fish_by_dr_seuss.txt\"]"
   ]
  },
  {
   "cell_type": "code",
   "execution_count": 26,
   "metadata": {
    "collapsed": false
   },
   "outputs": [
    {
     "name": "stdout",
     "output_type": "stream",
     "text": [
      "['../../corpora/the_kama_sutra.txt', '../../corpora/manual_of_surgery.txt', '../../corpora/history_usa.txt', '../../corpora/ulysses.txt', '../../corpora/alice_in_wonderland.txt', '../../corpora/grimms_fairy_tales.txt', '../../corpora/moby_dick.txt', '../../corpora/shakespeare_all.txt', '../../corpora/sherlock_all.txt', '../../corpora/war_and_peace.txt', '../../corpora/one_fish_by_dr_seuss.txt']\n"
     ]
    }
   ],
   "source": [
    "print([path+i for i in file_names])"
   ]
  },
  {
   "cell_type": "code",
   "execution_count": 27,
   "metadata": {
    "collapsed": false
   },
   "outputs": [],
   "source": [
    "total_file = ''\n",
    "for file in file_names:\n",
    "    with open(path+file) as f:\n",
    "        text = f.read()\n",
    "        total_file+=text"
   ]
  },
  {
   "cell_type": "markdown",
   "metadata": {},
   "source": [
    "# My computer crashes here, but the following should work"
   ]
  },
  {
   "cell_type": "code",
   "execution_count": 28,
   "metadata": {
    "collapsed": false
   },
   "outputs": [],
   "source": [
    "all_data_blob = TextBlob(total_file)"
   ]
  },
  {
   "cell_type": "code",
   "execution_count": 1,
   "metadata": {
    "collapsed": true
   },
   "outputs": [],
   "source": [
    "def heaping(blob):\n",
    "    vocab = set()\n",
    "    counts = []\n",
    "    \n",
    "    \n",
    "    for tok in all_data_blob:\n",
    "        if tok not in vocab:\n",
    "            vocab.add(tok)\n",
    "        counts.append(len(vocab))\n",
    "    \n",
    "    print([(i+1,counts[i]) for i in range(len(counts))])"
   ]
  },
  {
   "cell_type": "code",
   "execution_count": 2,
   "metadata": {
    "collapsed": false
   },
   "outputs": [
    {
     "ename": "NameError",
     "evalue": "name 'all_data_blob' is not defined",
     "output_type": "error",
     "traceback": [
      "\u001b[0;31m---------------------------------------------------------------------------\u001b[0m",
      "\u001b[0;31mNameError\u001b[0m                                 Traceback (most recent call last)",
      "\u001b[0;32m<ipython-input-2-ad2e65b3ae9c>\u001b[0m in \u001b[0;36m<module>\u001b[0;34m()\u001b[0m\n\u001b[0;32m----> 1\u001b[0;31m \u001b[0mheaps_data\u001b[0m \u001b[0;34m=\u001b[0m \u001b[0mheaping\u001b[0m\u001b[0;34m(\u001b[0m\u001b[0mall_data_blob\u001b[0m\u001b[0;34m)\u001b[0m\u001b[0;34m\u001b[0m\u001b[0m\n\u001b[0m",
      "\u001b[0;31mNameError\u001b[0m: name 'all_data_blob' is not defined"
     ]
    }
   ],
   "source": [
    "heaps_data = heaping(all_data_blob)"
   ]
  },
  {
   "cell_type": "code",
   "execution_count": null,
   "metadata": {
    "collapsed": true
   },
   "outputs": [],
   "source": [
    "plt.plot(*zip(*heaps_data))"
   ]
  },
  {
   "cell_type": "code",
   "execution_count": 10,
   "metadata": {
    "collapsed": false
   },
   "outputs": [],
   "source": [
    "assert heaps_data[:5] == [(1, 1), (2, 2), (3, 3), (4, 4), (5, 5)]"
   ]
  },
  {
   "cell_type": "code",
   "execution_count": 9,
   "metadata": {
    "collapsed": false
   },
   "outputs": [
    {
     "ename": "AssertionError",
     "evalue": "",
     "output_type": "error",
     "traceback": [
      "\u001b[0;31m---------------------------------------------------------------------------\u001b[0m",
      "\u001b[0;31mAssertionError\u001b[0m                            Traceback (most recent call last)",
      "\u001b[0;32m<ipython-input-9-74ac68ce3d89>\u001b[0m in \u001b[0;36m<module>\u001b[0;34m()\u001b[0m\n\u001b[0;32m----> 1\u001b[0;31m \u001b[0;32massert\u001b[0m \u001b[0mheaps_data\u001b[0m\u001b[0;34m[\u001b[0m\u001b[0;34m-\u001b[0m\u001b[0;36m3\u001b[0m\u001b[0;34m:\u001b[0m\u001b[0;34m]\u001b[0m \u001b[0;34m==\u001b[0m \u001b[0;34m[\u001b[0m\u001b[0;34m(\u001b[0m\u001b[0;36m3189333\u001b[0m\u001b[0;34m,\u001b[0m \u001b[0;36m88488\u001b[0m\u001b[0;34m)\u001b[0m\u001b[0;34m,\u001b[0m \u001b[0;34m(\u001b[0m\u001b[0;36m3189334\u001b[0m\u001b[0;34m,\u001b[0m \u001b[0;36m88488\u001b[0m\u001b[0;34m)\u001b[0m\u001b[0;34m,\u001b[0m \u001b[0;34m(\u001b[0m\u001b[0;36m3189335\u001b[0m\u001b[0;34m,\u001b[0m \u001b[0;36m88488\u001b[0m\u001b[0;34m)\u001b[0m\u001b[0;34m]\u001b[0m\u001b[0;34m\u001b[0m\u001b[0m\n\u001b[0m",
      "\u001b[0;31mAssertionError\u001b[0m: "
     ]
    }
   ],
   "source": [
    "assert heaps_data[-3:] == [(3189333, 88488), (3189334, 88488), (3189335, 88488)]"
   ]
  },
  {
   "cell_type": "code",
   "execution_count": 11,
   "metadata": {
    "collapsed": false
   },
   "outputs": [],
   "source": [
    "# TODO: Plot Heaps' Law again\n"
   ]
  },
  {
   "cell_type": "markdown",
   "metadata": {},
   "source": [
    "TODO: \n",
    "\n",
    "How does your plot compare to Wikipedia's Heaps' Law?\n",
    "\n",
    "Does the order of document's matter?"
   ]
  },
  {
   "cell_type": "code",
   "execution_count": null,
   "metadata": {
    "collapsed": true
   },
   "outputs": [],
   "source": [
    "# the order of the documents shouldn't matter"
   ]
  },
  {
   "cell_type": "markdown",
   "metadata": {},
   "source": [
    "TODO: What is the relationship between Zipf's Law and Heaps' Law?"
   ]
  },
  {
   "cell_type": "code",
   "execution_count": 1,
   "metadata": {
    "collapsed": false
   },
   "outputs": [
    {
     "name": "stdout",
     "output_type": "stream",
     "text": [
      "HI\n"
     ]
    }
   ],
   "source": [
    "#Zipf's law states that the second most frequency occuring word will happen half \n",
    "#as often as the first occuring word. The third most frequenct word, will occur half\n",
    "#as much as the second.\n",
    "#Heap's Law states that as the size of the your corpus grows, the number of new \n",
    "#vocabulary words follows a log distribution."
   ]
  },
  {
   "cell_type": "markdown",
   "metadata": {},
   "source": [
    "<br>\n",
    "<br> \n",
    "<br>\n",
    "\n",
    "----"
   ]
  }
 ],
 "metadata": {
  "anaconda-cloud": {},
  "kernelspec": {
   "display_name": "Python [nlp]",
   "language": "python",
   "name": "Python [nlp]"
  },
  "language_info": {
   "codemirror_mode": {
    "name": "ipython",
    "version": 3
   },
   "file_extension": ".py",
   "mimetype": "text/x-python",
   "name": "python",
   "nbconvert_exporter": "python",
   "pygments_lexer": "ipython3",
   "version": "3.5.2"
  }
 },
 "nbformat": 4,
 "nbformat_minor": 1
}
