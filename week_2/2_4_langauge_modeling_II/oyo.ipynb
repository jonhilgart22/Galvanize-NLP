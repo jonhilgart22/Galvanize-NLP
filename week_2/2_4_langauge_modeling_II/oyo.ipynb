{
 "cells": [
  {
   "cell_type": "markdown",
   "metadata": {
    "slideshow": {
     "slide_type": "slide"
    }
   },
   "source": [
    "__ngram__ - groups of words that co-occur in a context\n",
    "\n",
    "__Collocations__ - groups of words that __commonly__ co-occur in a context\n",
    "\n",
    "The general heuristic that makes bigram a bigram collocation is when a pair of words is 10x more likely than the singletons.\n",
    "\n",
    "For example, \"San Francisco\" is very common. \"Francisco\" withoout \"San\" is not very common.\n",
    "\n",
    "Is this a good heuristic? How would you test that statistically?\n",
    "![](http://www.livhambrett.com/wp-content/uploads/2013/08/collocations.jpg)\n"
   ]
  },
  {
   "cell_type": "markdown",
   "metadata": {
    "slideshow": {
     "slide_type": "slide"
    }
   },
   "source": [
    "<br>\n",
    "<br> \n",
    "<br>\n",
    "\n",
    "----"
   ]
  }
 ],
 "metadata": {
  "celltoolbar": "Slideshow",
  "kernelspec": {
   "display_name": "Python 3",
   "language": "python",
   "name": "python3"
  },
  "language_info": {
   "codemirror_mode": {
    "name": "ipython",
    "version": 3
   },
   "file_extension": ".py",
   "mimetype": "text/x-python",
   "name": "python",
   "nbconvert_exporter": "python",
   "pygments_lexer": "ipython3",
   "version": "3.5.2"
  }
 },
 "nbformat": 4,
 "nbformat_minor": 1
}
