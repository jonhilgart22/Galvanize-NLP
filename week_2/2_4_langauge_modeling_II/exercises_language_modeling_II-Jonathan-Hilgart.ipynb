{
 "cells": [
  {
   "cell_type": "markdown",
   "metadata": {},
   "source": [
    "----\n",
    "Exercises: Language Modeling\n",
    "====\n",
    "\n",
    "Let's practice bigrams, MLE, and Laplace smoothing...."
   ]
  },
  {
   "cell_type": "code",
   "execution_count": 11,
   "metadata": {
    "collapsed": false
   },
   "outputs": [
    {
     "data": {
      "text/plain": [
       "8"
      ]
     },
     "execution_count": 11,
     "metadata": {},
     "output_type": "execute_result"
    }
   ],
   "source": [
    "corpus = \"en såg såg en såg en såg såg , en annan sågade en sågen sågen såg . </s>\".split()\n",
    "vocabulary = set(corpus)\n",
    "len(vocabulary)"
   ]
  },
  {
   "cell_type": "code",
   "execution_count": 12,
   "metadata": {
    "collapsed": true
   },
   "outputs": [],
   "source": [
    "import nltk"
   ]
  },
  {
   "cell_type": "code",
   "execution_count": 13,
   "metadata": {
    "collapsed": false
   },
   "outputs": [
    {
     "data": {
      "text/plain": [
       "ConditionalFreqDist(nltk.probability.FreqDist,\n",
       "                    {',': FreqDist({'en': 1}),\n",
       "                     '.': FreqDist({'</s>': 1}),\n",
       "                     'annan': FreqDist({'sågade': 1}),\n",
       "                     'en': FreqDist({'annan': 1, 'såg': 3, 'sågen': 1}),\n",
       "                     'såg': FreqDist({',': 1, '.': 1, 'en': 2, 'såg': 2}),\n",
       "                     'sågade': FreqDist({'en': 1}),\n",
       "                     'sågen': FreqDist({'såg': 1, 'sågen': 1})})"
      ]
     },
     "execution_count": 13,
     "metadata": {},
     "output_type": "execute_result"
    }
   ],
   "source": [
    "cfd = nltk.ConditionalFreqDist(nltk.bigrams(corpus))\n",
    "cfd"
   ]
  },
  {
   "cell_type": "code",
   "execution_count": 14,
   "metadata": {
    "collapsed": false
   },
   "outputs": [
    {
     "data": {
      "text/plain": [
       "FreqDist({',': 1,\n",
       "          '.': 1,\n",
       "          '</s>': 1,\n",
       "          'annan': 1,\n",
       "          'en': 5,\n",
       "          'såg': 6,\n",
       "          'sågade': 1,\n",
       "          'sågen': 2})"
      ]
     },
     "execution_count": 14,
     "metadata": {},
     "output_type": "execute_result"
    }
   ],
   "source": [
    "nltk.FreqDist(corpus)"
   ]
  },
  {
   "cell_type": "code",
   "execution_count": null,
   "metadata": {
    "collapsed": true
   },
   "outputs": [],
   "source": []
  },
  {
   "cell_type": "markdown",
   "metadata": {},
   "source": [
    "TODO: Describe cfd in your own words"
   ]
  },
  {
   "cell_type": "code",
   "execution_count": 15,
   "metadata": {
    "collapsed": true
   },
   "outputs": [],
   "source": [
    "#Conditional frequency tells you the count of a word given another token(s). "
   ]
  },
  {
   "cell_type": "code",
   "execution_count": 16,
   "metadata": {
    "collapsed": false
   },
   "outputs": [
    {
     "data": {
      "text/plain": [
       "['såg', 'såg', 'sågade', 'en', 'sågen']"
      ]
     },
     "execution_count": 16,
     "metadata": {},
     "output_type": "execute_result"
    }
   ],
   "source": [
    "sentence = \"såg såg sågade en sågen \".split()\n",
    "sentence"
   ]
  },
  {
   "cell_type": "code",
   "execution_count": 17,
   "metadata": {
    "collapsed": false
   },
   "outputs": [
    {
     "name": "stdout",
     "output_type": "stream",
     "text": [
      "word 1\tword 2\tbigram count\n",
      "såg\tsåg\t2\n",
      "såg\tsågade\t0\n",
      "sågade\ten\t1\n",
      "en\tsågen\t1\n"
     ]
    }
   ],
   "source": [
    "# The corpus counts of each bigram in the sentence:\n",
    "print(\"word 1\", \"word 2\", \"bigram count\", sep=\"\\t\")\n",
    "[print(a, b, cfd[a][b], sep=\"\\t\") for (a,b) in nltk.bigrams(sentence)];"
   ]
  },
  {
   "cell_type": "code",
   "execution_count": 18,
   "metadata": {
    "collapsed": true
   },
   "outputs": [],
   "source": [
    "from string import punctuation"
   ]
  },
  {
   "cell_type": "code",
   "execution_count": 19,
   "metadata": {
    "collapsed": false
   },
   "outputs": [
    {
     "data": {
      "text/plain": [
       "FreqDist({',': 1,\n",
       "          '.': 1,\n",
       "          '</s>': 1,\n",
       "          'annan': 1,\n",
       "          'en': 5,\n",
       "          'såg': 6,\n",
       "          'sågade': 1,\n",
       "          'sågen': 2})"
      ]
     },
     "execution_count": 19,
     "metadata": {},
     "output_type": "execute_result"
    }
   ],
   "source": [
    "\n",
    "nltk.FreqDist(corpus)"
   ]
  },
  {
   "cell_type": "code",
   "execution_count": 20,
   "metadata": {
    "collapsed": false
   },
   "outputs": [],
   "source": [
    "# TODO: The corpus counts for each word in the sentence:\n",
    "\n",
    "#print(\"word 1\", \"word 2\", \"bigram count\", sep=\"\\t\")\n",
    "\n",
    "def corp(words):\n",
    "    freq = nltk.FreqDist(corpus)\n",
    "    return [freq[word] for word in words ]\n",
    "\n",
    "corpus_count_unigram = corp(sentence)\n"
   ]
  },
  {
   "cell_type": "code",
   "execution_count": 21,
   "metadata": {
    "collapsed": false
   },
   "outputs": [],
   "source": [
    "assert corpus_count_unigram == [6, 6, 1, 5, 2]"
   ]
  },
  {
   "cell_type": "code",
   "execution_count": 22,
   "metadata": {
    "collapsed": false
   },
   "outputs": [
    {
     "name": "stdout",
     "output_type": "stream",
     "text": [
      "word 1\tword 2\tMLE probability\n",
      "såg\tsåg\t0.3333333333333333\n",
      "såg\tsågade\t0.0\n",
      "sågade\ten\t1.0\n",
      "en\tsågen\t0.2\n"
     ]
    }
   ],
   "source": [
    "# The MLE probability for each bigram:\n",
    "print(\"word 1\", \"word 2\", \"MLE probability\", sep=\"\\t\")\n",
    "[print(a, b, (cfd[a][b]/cfd[a].N()), sep=\"\\t\") for (a,b) in nltk.bigrams(sentence)];"
   ]
  },
  {
   "cell_type": "code",
   "execution_count": 26,
   "metadata": {
    "collapsed": false
   },
   "outputs": [
    {
     "data": {
      "text/plain": [
       "[('en', 'såg'),\n",
       " ('såg', 'såg'),\n",
       " ('såg', 'en'),\n",
       " ('en', 'såg'),\n",
       " ('såg', 'en'),\n",
       " ('en', 'såg'),\n",
       " ('såg', 'såg'),\n",
       " ('såg', ','),\n",
       " (',', 'en'),\n",
       " ('en', 'annan'),\n",
       " ('annan', 'sågade'),\n",
       " ('sågade', 'en'),\n",
       " ('en', 'sågen'),\n",
       " ('sågen', 'sågen'),\n",
       " ('sågen', 'såg'),\n",
       " ('såg', '.'),\n",
       " ('.', '</s>')]"
      ]
     },
     "execution_count": 26,
     "metadata": {},
     "output_type": "execute_result"
    }
   ],
   "source": [
    "list(nltk.bigrams(corpus))"
   ]
  },
  {
   "cell_type": "code",
   "execution_count": 27,
   "metadata": {
    "collapsed": false
   },
   "outputs": [
    {
     "data": {
      "text/plain": [
       "FreqDist({(',', 'en'): 1,\n",
       "          ('.', '</s>'): 1,\n",
       "          ('annan', 'sågade'): 1,\n",
       "          ('en', 'annan'): 1,\n",
       "          ('en', 'såg'): 3,\n",
       "          ('en', 'sågen'): 1,\n",
       "          ('såg', ','): 1,\n",
       "          ('såg', '.'): 1,\n",
       "          ('såg', 'en'): 2,\n",
       "          ('såg', 'såg'): 2,\n",
       "          ('sågade', 'en'): 1,\n",
       "          ('sågen', 'såg'): 1,\n",
       "          ('sågen', 'sågen'): 1})"
      ]
     },
     "execution_count": 27,
     "metadata": {},
     "output_type": "execute_result"
    }
   ],
   "source": [
    "nltk.FreqDist(nltk.bigrams(corpus))"
   ]
  },
  {
   "cell_type": "code",
   "execution_count": null,
   "metadata": {
    "collapsed": true
   },
   "outputs": [],
   "source": []
  },
  {
   "cell_type": "code",
   "execution_count": 28,
   "metadata": {
    "collapsed": false
   },
   "outputs": [
    {
     "name": "stdout",
     "output_type": "stream",
     "text": [
      "word 1\tword 2\tMLE probability\n",
      "[0.3333333333333333, 0.0, 1.0, 0.2]\n"
     ]
    }
   ],
   "source": [
    "#  TODO: Repeat using in the built-in methods for MLE probability:\n",
    "print(\"word 1\", \"word 2\", \"MLE probability\", sep=\"\\t\")\n",
    "print([cfd[a].freq(b) for (a,b) in nltk.bigrams(sentence)])"
   ]
  },
  {
   "cell_type": "code",
   "execution_count": null,
   "metadata": {
    "collapsed": true
   },
   "outputs": [],
   "source": []
  },
  {
   "cell_type": "code",
   "execution_count": 29,
   "metadata": {
    "collapsed": false
   },
   "outputs": [
    {
     "data": {
      "text/plain": [
       "0.0"
      ]
     },
     "execution_count": 29,
     "metadata": {},
     "output_type": "execute_result"
    }
   ],
   "source": [
    "# The probability of the sentence is the product of all bigram probabilities:\n",
    "from functools import reduce\n",
    "\n",
    "prob_bigram = [cfd[a][b]/cfd[a].N() for (a,b) in nltk.bigrams(sentence)]\n",
    "reduce(lambda x,y:x*y, prob_bigram)"
   ]
  },
  {
   "cell_type": "markdown",
   "metadata": {},
   "source": [
    "That is not a great model becuase it predicts zero for a sentence exists, even though we haven't seen it yet!"
   ]
  },
  {
   "cell_type": "code",
   "execution_count": 30,
   "metadata": {
    "collapsed": false
   },
   "outputs": [],
   "source": [
    "# Laplace smoothing of each bigram count:\n",
    "lps = [1 + cfd[a][b] for (a,b) in nltk.bigrams(sentence)]"
   ]
  },
  {
   "cell_type": "code",
   "execution_count": 31,
   "metadata": {
    "collapsed": false
   },
   "outputs": [],
   "source": [
    "# We need to normalise the counts for each word:\n",
    "normal = [len(vocabulary) + cfd[a].N() for (a,b) in nltk.bigrams(sentence)]"
   ]
  },
  {
   "cell_type": "code",
   "execution_count": 32,
   "metadata": {
    "collapsed": false
   },
   "outputs": [
    {
     "name": "stdout",
     "output_type": "stream",
     "text": [
      "word 1\tword 2\tLaplace smoothed probability\n",
      "[0.21428571428571427, 0.07142857142857142, 0.2222222222222222, 0.15384615384615385]\n"
     ]
    }
   ],
   "source": [
    "#TODO: Calculate and print the smoothed Laplace probability for each bigram:\n",
    "print(\"word 1\", \"word 2\", \"Laplace smoothed probability\", sep=\"\\t\")\n",
    "print([a/b for (a,b) in zip(lps,normal)], sep=\"\\t\")"
   ]
  },
  {
   "cell_type": "code",
   "execution_count": 33,
   "metadata": {
    "collapsed": true
   },
   "outputs": [],
   "source": [
    "smoothed_out = [a/b for (a,b) in zip(lps,normal)]"
   ]
  },
  {
   "cell_type": "code",
   "execution_count": 34,
   "metadata": {
    "collapsed": false
   },
   "outputs": [],
   "source": [
    "assert smoothed_out == [0.21428571428571427,\n",
    " 0.07142857142857142,\n",
    " 0.2222222222222222,\n",
    " 0.15384615384615385]"
   ]
  },
  {
   "cell_type": "code",
   "execution_count": 35,
   "metadata": {
    "collapsed": false
   },
   "outputs": [
    {
     "data": {
      "text/plain": [
       "0.0005232862375719518"
      ]
     },
     "execution_count": 35,
     "metadata": {},
     "output_type": "execute_result"
    }
   ],
   "source": [
    "# The smoothed probability of the sentence:\n",
    "reduce(lambda x,y:x*y, smoothed_out)"
   ]
  },
  {
   "cell_type": "code",
   "execution_count": 36,
   "metadata": {
    "collapsed": true
   },
   "outputs": [],
   "source": [
    "assert round(reduce(lambda x,y:x*y, smoothed_out),6) == 0.000523"
   ]
  },
  {
   "cell_type": "markdown",
   "metadata": {},
   "source": [
    "TODO: How can we interpret this probability?"
   ]
  },
  {
   "cell_type": "code",
   "execution_count": 37,
   "metadata": {
    "collapsed": true
   },
   "outputs": [],
   "source": [
    "#This is the smoothed probability of the sentence given that observed all of the bigrams in the sentence.\n",
    "#This probability is higher than the MLE probability (MLE assigns zero to bigrams we haven't seen). \n",
    "#The smoothed property gives a low, but non-zero, chance of observing bigrams we haven't seen before."
   ]
  },
  {
   "cell_type": "markdown",
   "metadata": {},
   "source": [
    "------\n",
    "Here is how it would look all together in a grown-up codebase."
   ]
  },
  {
   "cell_type": "code",
   "execution_count": 38,
   "metadata": {
    "collapsed": false
   },
   "outputs": [],
   "source": [
    "# MLEProbDist is the unsmoothed probability distribution:\n",
    "cpd_mle = nltk.ConditionalProbDist(cfd,\n",
    "                                   nltk.MLEProbDist,\n",
    "                                   bins=len(vocabulary))"
   ]
  },
  {
   "cell_type": "code",
   "execution_count": 39,
   "metadata": {
    "collapsed": false
   },
   "outputs": [
    {
     "name": "stdout",
     "output_type": "stream",
     "text": [
      "word 1\tword 2\tMLE probability\n",
      "såg\tsåg\t0.3333333333333333\n",
      "såg\tsågade\t0.0\n",
      "sågade\ten\t1.0\n",
      "en\tsågen\t0.2\n"
     ]
    }
   ],
   "source": [
    "# Now we can get the MLE probabilities by using the .prob method:\n",
    "print(\"word 1\", \"word 2\", \"MLE probability\", sep=\"\\t\")\n",
    "[print(a, b, cpd_mle[a].prob(b), sep=\"\\t\") for (a,b) in nltk.bigrams(sentence)];"
   ]
  },
  {
   "cell_type": "code",
   "execution_count": 40,
   "metadata": {
    "collapsed": true
   },
   "outputs": [],
   "source": [
    "# LaplaceProbDist is the add-one smoothed ProbDist:\n",
    "cpd_laplace = nltk.ConditionalProbDist(cfd, \n",
    "                                       nltk.LaplaceProbDist, \n",
    "                                       bins=len(vocabulary))"
   ]
  },
  {
   "cell_type": "code",
   "execution_count": 41,
   "metadata": {
    "collapsed": false
   },
   "outputs": [
    {
     "name": "stdout",
     "output_type": "stream",
     "text": [
      "word 1\tword 2\tLaplace smoothed probability\n",
      "såg\tsåg\t0.21428571428571427\n",
      "såg\tsågade\t0.07142857142857142\n",
      "sågade\ten\t0.2222222222222222\n",
      "en\tsågen\t0.15384615384615385\n"
     ]
    }
   ],
   "source": [
    "# Getting the Laplace probabilities is the same as for MLE:\n",
    "print(\"word 1\", \"word 2\", \"Laplace smoothed probability\", sep=\"\\t\")\n",
    "[print(a, b, cpd_laplace[a].prob(b), sep=\"\\t\") for (a,b) in nltk.bigrams(sentence)];"
   ]
  },
  {
   "cell_type": "markdown",
   "metadata": {
    "collapsed": true
   },
   "source": [
    "![](http://ljdchost.com/AbW1pPX.gif)"
   ]
  },
  {
   "cell_type": "markdown",
   "metadata": {},
   "source": [
    "<br>\n",
    "<br> \n",
    "<br>\n",
    "\n",
    "----"
   ]
  },
  {
   "cell_type": "markdown",
   "metadata": {},
   "source": [
    "<br>\n",
    "<br>\n",
    "---"
   ]
  }
 ],
 "metadata": {
  "anaconda-cloud": {},
  "kernelspec": {
   "display_name": "Python [conda env:nlp]",
   "language": "python",
   "name": "conda-env-nlp-py"
  },
  "language_info": {
   "codemirror_mode": {
    "name": "ipython",
    "version": 3
   },
   "file_extension": ".py",
   "mimetype": "text/x-python",
   "name": "python",
   "nbconvert_exporter": "python",
   "pygments_lexer": "ipython3",
   "version": "3.5.2"
  }
 },
 "nbformat": 4,
 "nbformat_minor": 0
}
