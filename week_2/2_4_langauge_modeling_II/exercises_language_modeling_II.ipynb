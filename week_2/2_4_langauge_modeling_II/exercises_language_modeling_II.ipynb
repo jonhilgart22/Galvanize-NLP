{
 "cells": [
  {
   "cell_type": "markdown",
   "metadata": {},
   "source": [
    "----\n",
    "Exercises: Language Modeling\n",
    "====\n",
    "\n",
    "Let's practice bigrams, MLE, and Laplace smoothing...."
   ]
  },
  {
   "cell_type": "code",
   "execution_count": 4,
   "metadata": {
    "collapsed": false
   },
   "outputs": [
    {
     "data": {
      "text/plain": [
       "8"
      ]
     },
     "execution_count": 4,
     "metadata": {},
     "output_type": "execute_result"
    }
   ],
   "source": [
    "corpus = \"en såg såg en såg en såg såg , en annan sågade en sågen sågen såg . </s>\".split()\n",
    "vocabulary = set(corpus)\n",
    "len(vocabulary)"
   ]
  },
  {
   "cell_type": "code",
   "execution_count": 5,
   "metadata": {
    "collapsed": true
   },
   "outputs": [],
   "source": [
    "import nltk"
   ]
  },
  {
   "cell_type": "code",
   "execution_count": 6,
   "metadata": {
    "collapsed": false
   },
   "outputs": [],
   "source": [
    "cfd = nltk.ConditionalFreqDist(nltk.bigrams(corpus))"
   ]
  },
  {
   "cell_type": "markdown",
   "metadata": {},
   "source": [
    "TODO: Describe cfd in your own words"
   ]
  },
  {
   "cell_type": "code",
   "execution_count": null,
   "metadata": {
    "collapsed": true
   },
   "outputs": [],
   "source": []
  },
  {
   "cell_type": "code",
   "execution_count": 7,
   "metadata": {
    "collapsed": true
   },
   "outputs": [],
   "source": [
    "sentence = \"såg såg sågade en sågen \".split()"
   ]
  },
  {
   "cell_type": "code",
   "execution_count": 8,
   "metadata": {
    "collapsed": false
   },
   "outputs": [
    {
     "name": "stdout",
     "output_type": "stream",
     "text": [
      "word 1\tword 2\tbigram count\n",
      "såg\tsåg\t2\n",
      "såg\tsågade\t0\n",
      "sågade\ten\t1\n",
      "en\tsågen\t1\n"
     ]
    }
   ],
   "source": [
    "# The corpus counts of each bigram in the sentence:\n",
    "print(\"word 1\", \"word 2\", \"bigram count\", sep=\"\\t\")\n",
    "[print(a, b, cfd[a][b], sep=\"\\t\") for (a,b) in nltk.bigrams(sentence)];"
   ]
  },
  {
   "cell_type": "code",
   "execution_count": 10,
   "metadata": {
    "collapsed": false
   },
   "outputs": [],
   "source": [
    "# TODO: The corpus counts for each word in the sentence:\n"
   ]
  },
  {
   "cell_type": "code",
   "execution_count": 9,
   "metadata": {
    "collapsed": false
   },
   "outputs": [
    {
     "ename": "NameError",
     "evalue": "name 'corpus_count_unigram' is not defined",
     "output_type": "error",
     "traceback": [
      "\u001b[0;31m---------------------------------------------------------------------------\u001b[0m",
      "\u001b[0;31mNameError\u001b[0m                                 Traceback (most recent call last)",
      "\u001b[0;32m<ipython-input-9-fab7767539d3>\u001b[0m in \u001b[0;36m<module>\u001b[0;34m()\u001b[0m\n\u001b[0;32m----> 1\u001b[0;31m \u001b[0;32massert\u001b[0m \u001b[0mcorpus_count_unigram\u001b[0m \u001b[0;34m==\u001b[0m \u001b[0;34m[\u001b[0m\u001b[0;36m6\u001b[0m\u001b[0;34m,\u001b[0m \u001b[0;36m6\u001b[0m\u001b[0;34m,\u001b[0m \u001b[0;36m1\u001b[0m\u001b[0;34m,\u001b[0m \u001b[0;36m5\u001b[0m\u001b[0;34m,\u001b[0m \u001b[0;36m2\u001b[0m\u001b[0;34m]\u001b[0m\u001b[0;34m\u001b[0m\u001b[0m\n\u001b[0m",
      "\u001b[0;31mNameError\u001b[0m: name 'corpus_count_unigram' is not defined"
     ]
    }
   ],
   "source": [
    "assert corpus_count_unigram == [6, 6, 1, 5, 2]"
   ]
  },
  {
   "cell_type": "code",
   "execution_count": 12,
   "metadata": {
    "collapsed": false
   },
   "outputs": [
    {
     "name": "stdout",
     "output_type": "stream",
     "text": [
      "word 1\tword 2\tprobability\n",
      "såg\tsåg\t0.3333333333333333\n",
      "såg\tsågade\t0.0\n",
      "sågade\ten\t1.0\n",
      "en\tsågen\t0.2\n"
     ]
    }
   ],
   "source": [
    "# The MLE probability for each bigram:\n",
    "print(\"word 1\", \"word 2\", \"MLE probability\", sep=\"\\t\")\n",
    "[print(a, b, (cfd[a][b]/cfd[a].N()), sep=\"\\t\") for (a,b) in nltk.bigrams(sentence)];"
   ]
  },
  {
   "cell_type": "code",
   "execution_count": 13,
   "metadata": {
    "collapsed": false
   },
   "outputs": [],
   "source": [
    "#  TODO: # Do the same thing again (calculate MLE probability), but this time use the built-in method on cfd instance\n"
   ]
  },
  {
   "cell_type": "code",
   "execution_count": 46,
   "metadata": {
    "collapsed": false
   },
   "outputs": [
    {
     "data": {
      "text/plain": [
       "0.0"
      ]
     },
     "execution_count": 46,
     "metadata": {},
     "output_type": "execute_result"
    }
   ],
   "source": [
    "# The probability of the sentence is the product of all bigram probabilities:\n",
    "from functools import reduce\n",
    "\n",
    "prob_bigram = [cfd[a][b]/cfd[a].N() for (a,b) in nltk.bigrams(sentence)]\n",
    "reduce(lambda x,y:x*y, prob_bigram)"
   ]
  },
  {
   "cell_type": "markdown",
   "metadata": {},
   "source": [
    "That is not a great model becuase it predicts zero for a sentence exists, even though we haven't seen it yet!"
   ]
  },
  {
   "cell_type": "code",
   "execution_count": 47,
   "metadata": {
    "collapsed": false
   },
   "outputs": [
    {
     "data": {
      "text/plain": [
       "[3, 1, 2, 2]"
      ]
     },
     "execution_count": 47,
     "metadata": {},
     "output_type": "execute_result"
    }
   ],
   "source": [
    "# Laplace smoothing of each bigram count:\n",
    "[1 + cfd[a][b] for (a,b) in nltk.bigrams(sentence)]"
   ]
  },
  {
   "cell_type": "code",
   "execution_count": 48,
   "metadata": {
    "collapsed": false
   },
   "outputs": [
    {
     "data": {
      "text/plain": [
       "[14, 14, 9, 13]"
      ]
     },
     "execution_count": 48,
     "metadata": {},
     "output_type": "execute_result"
    }
   ],
   "source": [
    "# We need to normalise the counts for each word:\n",
    "[len(vocabulary) + cfd[a].N() for (a,b) in nltk.bigrams(sentence)]"
   ]
  },
  {
   "cell_type": "code",
   "execution_count": 52,
   "metadata": {
    "collapsed": false
   },
   "outputs": [],
   "source": [
    "#TODO: Calculate and print the smoothed Laplace probability for each bigram:\n",
    "print(\"word 1\", \"word 2\", \"Laplace smoothed probability\", sep=\"\\t\")"
   ]
  },
  {
   "cell_type": "code",
   "execution_count": 53,
   "metadata": {
    "collapsed": false
   },
   "outputs": [
    {
     "ename": "NameError",
     "evalue": "name 'smoothed_out' is not defined",
     "output_type": "error",
     "traceback": [
      "\u001b[0;31m---------------------------------------------------------------------------\u001b[0m",
      "\u001b[0;31mNameError\u001b[0m                                 Traceback (most recent call last)",
      "\u001b[0;32m<ipython-input-53-628e0be18b09>\u001b[0m in \u001b[0;36m<module>\u001b[0;34m()\u001b[0m\n\u001b[0;32m----> 1\u001b[0;31m assert smoothed_out == [0.21428571428571427,\n\u001b[0m\u001b[1;32m      2\u001b[0m  \u001b[0;36m0.07142857142857142\u001b[0m\u001b[0;34m,\u001b[0m\u001b[0;34m\u001b[0m\u001b[0m\n\u001b[1;32m      3\u001b[0m  \u001b[0;36m0.2222222222222222\u001b[0m\u001b[0;34m,\u001b[0m\u001b[0;34m\u001b[0m\u001b[0m\n\u001b[1;32m      4\u001b[0m  0.15384615384615385]\n",
      "\u001b[0;31mNameError\u001b[0m: name 'smoothed_out' is not defined"
     ]
    }
   ],
   "source": [
    "assert smoothed_out == [0.21428571428571427,\n",
    " 0.07142857142857142,\n",
    " 0.2222222222222222,\n",
    " 0.15384615384615385]"
   ]
  },
  {
   "cell_type": "code",
   "execution_count": 54,
   "metadata": {
    "collapsed": false
   },
   "outputs": [
    {
     "ename": "NameError",
     "evalue": "name 'smoothed_out' is not defined",
     "output_type": "error",
     "traceback": [
      "\u001b[0;31m---------------------------------------------------------------------------\u001b[0m",
      "\u001b[0;31mNameError\u001b[0m                                 Traceback (most recent call last)",
      "\u001b[0;32m<ipython-input-54-6fddd2a112de>\u001b[0m in \u001b[0;36m<module>\u001b[0;34m()\u001b[0m\n\u001b[1;32m      1\u001b[0m \u001b[0;31m# The smoothed probability of the sentence:\u001b[0m\u001b[0;34m\u001b[0m\u001b[0;34m\u001b[0m\u001b[0m\n\u001b[0;32m----> 2\u001b[0;31m \u001b[0mreduce\u001b[0m\u001b[0;34m(\u001b[0m\u001b[0;32mlambda\u001b[0m \u001b[0mx\u001b[0m\u001b[0;34m,\u001b[0m\u001b[0my\u001b[0m\u001b[0;34m:\u001b[0m\u001b[0mx\u001b[0m\u001b[0;34m*\u001b[0m\u001b[0my\u001b[0m\u001b[0;34m,\u001b[0m \u001b[0msmoothed_out\u001b[0m\u001b[0;34m)\u001b[0m\u001b[0;34m\u001b[0m\u001b[0m\n\u001b[0m",
      "\u001b[0;31mNameError\u001b[0m: name 'smoothed_out' is not defined"
     ]
    }
   ],
   "source": [
    "# The smoothed probability of the sentence:\n",
    "reduce(lambda x,y:x*y, smoothed_out)"
   ]
  },
  {
   "cell_type": "code",
   "execution_count": null,
   "metadata": {
    "collapsed": true
   },
   "outputs": [],
   "source": [
    "assert round(reduce(lambda x,y:x*y, smoothed_out),6) == 0.000523"
   ]
  },
  {
   "cell_type": "markdown",
   "metadata": {},
   "source": [
    "TODO: How can we interpret this probability?"
   ]
  },
  {
   "cell_type": "code",
   "execution_count": null,
   "metadata": {
    "collapsed": true
   },
   "outputs": [],
   "source": []
  },
  {
   "cell_type": "markdown",
   "metadata": {},
   "source": [
    "------\n",
    "Here is how it would look all together in a grown-up codebase."
   ]
  },
  {
   "cell_type": "code",
   "execution_count": 14,
   "metadata": {
    "collapsed": false
   },
   "outputs": [],
   "source": [
    "# MLEProbDist is the unsmoothed probability distribution:\n",
    "cpd_mle = nltk.ConditionalProbDist(cfd,\n",
    "                                   nltk.MLEProbDist,\n",
    "                                   bins=len(vocabulary))"
   ]
  },
  {
   "cell_type": "code",
   "execution_count": 18,
   "metadata": {
    "collapsed": false
   },
   "outputs": [
    {
     "name": "stdout",
     "output_type": "stream",
     "text": [
      "word 1\tword 2\tMLE probability\n",
      "såg\tsåg\t0.3333333333333333\n",
      "såg\tsågade\t0.0\n",
      "sågade\ten\t1.0\n",
      "en\tsågen\t0.2\n"
     ]
    }
   ],
   "source": [
    "# Now we can get the MLE probabilities by using the .prob method:\n",
    "print(\"word 1\", \"word 2\", \"MLE probability\", sep=\"\\t\")\n",
    "[print(a, b, cpd_mle[a].prob(b), sep=\"\\t\") for (a,b) in nltk.bigrams(sentence)];"
   ]
  },
  {
   "cell_type": "code",
   "execution_count": 16,
   "metadata": {
    "collapsed": true
   },
   "outputs": [],
   "source": [
    "# LaplaceProbDist is the add-one smoothed ProbDist:\n",
    "cpd_laplace = nltk.ConditionalProbDist(cfd, \n",
    "                                       nltk.LaplaceProbDist, \n",
    "                                       bins=len(vocabulary))"
   ]
  },
  {
   "cell_type": "code",
   "execution_count": 19,
   "metadata": {
    "collapsed": false
   },
   "outputs": [
    {
     "name": "stdout",
     "output_type": "stream",
     "text": [
      "word 1\tword 2\tLaplace smoothed probability\n",
      "såg\tsåg\t0.21428571428571427\n",
      "såg\tsågade\t0.07142857142857142\n",
      "sågade\ten\t0.2222222222222222\n",
      "en\tsågen\t0.15384615384615385\n"
     ]
    }
   ],
   "source": [
    "# Getting the Laplace probabilities is the same as for MLE:\n",
    "print(\"word 1\", \"word 2\", \"Laplace smoothed probability\", sep=\"\\t\")\n",
    "[print(a, b, cpd_laplace[a].prob(b), sep=\"\\t\") for (a,b) in nltk.bigrams(sentence)];"
   ]
  },
  {
   "cell_type": "code",
   "execution_count": null,
   "metadata": {
    "collapsed": true
   },
   "outputs": [],
   "source": [
    "![](http://ljdchost.com/AbW1pPX.gif)"
   ]
  },
  {
   "cell_type": "markdown",
   "metadata": {},
   "source": [
    "<br>\n",
    "<br> \n",
    "<br>\n",
    "\n",
    "----"
   ]
  },
  {
   "cell_type": "markdown",
   "metadata": {},
   "source": [
    "<br>\n",
    "<br>\n",
    "---"
   ]
  }
 ],
 "metadata": {
  "kernelspec": {
   "display_name": "Python 3",
   "language": "python",
   "name": "python3"
  },
  "language_info": {
   "codemirror_mode": {
    "name": "ipython",
    "version": 3
   },
   "file_extension": ".py",
   "mimetype": "text/x-python",
   "name": "python",
   "nbconvert_exporter": "python",
   "pygments_lexer": "ipython3",
   "version": "3.5.2"
  }
 },
 "nbformat": 4,
 "nbformat_minor": 0
}
