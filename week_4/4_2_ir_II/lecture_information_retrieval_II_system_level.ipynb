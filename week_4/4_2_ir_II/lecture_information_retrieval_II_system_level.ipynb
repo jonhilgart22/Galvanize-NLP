{
 "cells": [
  {
   "cell_type": "markdown",
   "metadata": {
    "slideshow": {
     "slide_type": "slide"
    }
   },
   "source": [
    "Information Retrieval (IR)\n",
    "----\n",
    "\n",
    "![](http://aitopics.org/sites/default/files/representative_images/MLR-search-engine-example.png)"
   ]
  },
  {
   "cell_type": "markdown",
   "metadata": {
    "slideshow": {
     "slide_type": "slide"
    }
   },
   "source": [
    "By The End Of This Session You Should Be Able To:\n",
    "----\n",
    "\n",
    "- Explain the steps in an IR system\n",
    "- List common IR system evaluation frameworks\n",
    "- Describe a \"2 pass\" IR system"
   ]
  },
  {
   "cell_type": "markdown",
   "metadata": {
    "slideshow": {
     "slide_type": "slide"
    }
   },
   "source": [
    "How can a system __effecivtively__satisfy its objectives?\n",
    "\n",
    "How can a __efficiently__ satisfy its objectives?"
   ]
  },
  {
   "cell_type": "markdown",
   "metadata": {
    "slideshow": {
     "slide_type": "slide"
    }
   },
   "source": [
    "![](http://aitopics.org/sites/default/files/representative_images/MLR-search-engine-example.png)\n",
    "\n",
    "User Intention -> Query -> Search Engine Processing -> Select Documents  from Collection -> Return SERP"
   ]
  },
  {
   "cell_type": "markdown",
   "metadata": {
    "slideshow": {
     "slide_type": "slide"
    }
   },
   "source": [
    "- What is the user's intention?\n",
    "    - Is it get information?\n",
    "    - Is it to accomplish a task?\n",
    "- What is the query?\n",
    "    - Anything from single word to an entire document\n",
    "- How good is your Search Engine?\n",
    "- How good is your Document Collection?\n",
    "- SERP\n",
    "    - Content\n",
    "    - Presentation (possibly more important than content)"
   ]
  },
  {
   "cell_type": "markdown",
   "metadata": {
    "slideshow": {
     "slide_type": "slide"
    }
   },
   "source": [
    "User Queries Characteristics\n",
    "-----\n",
    "\n",
    "- Sessions baseds\n",
    "- Users revisit their queries\n",
    "- Very short queries, typically 2-3 words long\n",
    "- A large number of typos\n",
    "- A small number of popular queries\n",
    "- A long tail of infrequent ones\n",
    "- Almost no use of advanced query operators* (AND / OR)\n",
    "\n",
    "\\*with the exception of double quotes"
   ]
  },
  {
   "cell_type": "markdown",
   "metadata": {
    "slideshow": {
     "slide_type": "slide"
    }
   },
   "source": [
    "---\n",
    "Lancaster Criteria (1971)\n",
    "---\n",
    "\n",
    "1. Coverage of the system\n",
    "2. Ability of the system to retrieve wanted items (i.e. recall).\n",
    "3. Ability of the system to avoid retrieval of unwanted items (i.e. precision).\n",
    "4. The response time of the system\n",
    "5. The amount of effort required by the user."
   ]
  },
  {
   "cell_type": "markdown",
   "metadata": {
    "slideshow": {
     "slide_type": "slide"
    }
   },
   "source": [
    "Vickery Criteria\n",
    "----\n",
    "\n",
    "Set 1:\n",
    "\n",
    "1. Coverage - the proportion of the total potentially useful literature that has been analysed.\n",
    "2. Recall - the proportion of such references that are retrieved in a search, and\n",
    "3. Response time - the average time needed to obtain a response from the system.\n",
    "\n",
    "Set 2:\n",
    "\n",
    "4. Precision - the ability of the system to screen out irrelevant references\n",
    "5. Usability - the value of the references retrieved, in terms of such factors as their reliabilit and comprehensibility\n",
    "6. Presentation - the form in which search results are presented to the user."
   ]
  },
  {
   "cell_type": "markdown",
   "metadata": {
    "slideshow": {
     "slide_type": "slide"
    }
   },
   "source": [
    "Google's 5 axes of search\n",
    "----"
   ]
  },
  {
   "cell_type": "markdown",
   "metadata": {
    "slideshow": {
     "slide_type": "fragment"
    }
   },
   "source": [
    "1) Speed (fast is always better than slow)"
   ]
  },
  {
   "cell_type": "markdown",
   "metadata": {
    "slideshow": {
     "slide_type": "fragment"
    }
   },
   "source": [
    "2) Accuracy[sic] (How relevant are the results to the user’s query?)"
   ]
  },
  {
   "cell_type": "markdown",
   "metadata": {
    "slideshow": {
     "slide_type": "fragment"
    }
   },
   "source": [
    "3) Ease of use (Can everyone’s grandparents use Google?)"
   ]
  },
  {
   "cell_type": "markdown",
   "metadata": {
    "slideshow": {
     "slide_type": "fragment"
    }
   },
   "source": [
    "4) Comprehensiveness (Are we searching the entire Internet?)"
   ]
  },
  {
   "cell_type": "markdown",
   "metadata": {
    "slideshow": {
     "slide_type": "fragment"
    }
   },
   "source": [
    "5) Freshness (How fresh are the results?)\n",
    "\n",
    "[Source](http://www.bookbuzz.biz/google-works/)"
   ]
  },
  {
   "cell_type": "markdown",
   "metadata": {
    "slideshow": {
     "slide_type": "slide"
    }
   },
   "source": [
    "---\n",
    "Challenge question\n",
    "---\n",
    "\n",
    "How would you visualization these 5 axes?\n"
   ]
  },
  {
   "cell_type": "markdown",
   "metadata": {
    "slideshow": {
     "slide_type": "slide"
    }
   },
   "source": [
    "Radar graph  \n",
    "![](http://jpgraph.net/download/manuals/chunkhtml/images/fixscale_radarex1.png)"
   ]
  },
  {
   "cell_type": "markdown",
   "metadata": {
    "slideshow": {
     "slide_type": "slide"
    }
   },
   "source": [
    "![](http://i.imgur.com/SK9VCDJ.jpg)"
   ]
  },
  {
   "cell_type": "markdown",
   "metadata": {
    "slideshow": {
     "slide_type": "slide"
    }
   },
   "source": [
    "![](http://i.imgur.com/vrvjjmh.png)"
   ]
  },
  {
   "cell_type": "markdown",
   "metadata": {
    "slideshow": {
     "slide_type": "slide"
    }
   },
   "source": [
    "![](images/google.png)\n",
    "\n",
    "[Source](http://static.googleusercontent.com/media/research.google.com/en//people/jeff/Stanford-DL-Nov-2010.pdf)"
   ]
  },
  {
   "cell_type": "markdown",
   "metadata": {
    "collapsed": true,
    "slideshow": {
     "slide_type": "slide"
    }
   },
   "source": [
    "Modern Systems: 2 pass IR systems\n",
    "----\n",
    "1st Pass: High Recall - Fast & Loose  \n",
    "2nd Pass: High Precision - Slow & Accurate  \n",
    "<br>\n",
    "![](images/2_pass_IR_system.png)"
   ]
  },
  {
   "cell_type": "markdown",
   "metadata": {
    "slideshow": {
     "slide_type": "slide"
    }
   },
   "source": [
    "Summary\n",
    "----\n",
    "\n",
    "- An IR system tries to deliver what an user wants\n",
    "- We can evaluate a system using:\n",
    "    - Lancaster Criteria\n",
    "    - Vickery Criteria\n",
    "    - Google's 5 Axes of Search\n",
    "- A \"2 pass\" IR system:\n",
    "    1. High Recall\n",
    "    2. High Precision "
   ]
  },
  {
   "cell_type": "markdown",
   "metadata": {
    "collapsed": true,
    "slideshow": {
     "slide_type": "slide"
    }
   },
   "source": [
    "<br>\n",
    "<br> \n",
    "<br>\n",
    "\n",
    "----"
   ]
  }
 ],
 "metadata": {
  "celltoolbar": "Slideshow",
  "kernelspec": {
   "display_name": "Python 3",
   "language": "python",
   "name": "python3"
  },
  "language_info": {
   "codemirror_mode": {
    "name": "ipython",
    "version": 3
   },
   "file_extension": ".py",
   "mimetype": "text/x-python",
   "name": "python",
   "nbconvert_exporter": "python",
   "pygments_lexer": "ipython3",
   "version": "3.5.2"
  }
 },
 "nbformat": 4,
 "nbformat_minor": 0
}
