{
 "cells": [
  {
   "cell_type": "markdown",
   "metadata": {
    "slideshow": {
     "slide_type": "slide"
    }
   },
   "source": [
    "By The End Of This Session You Should Be Able To:\n",
    "----\n",
    "\n",
    "- Precision and recall\n",
    "    - Precision at k\n",
    "    - Mean average precision\n",
    " - Advanced evaluation\n",
    "    - F measure\n",
    "    - Normalized Discounted Cumulative Gain"
   ]
  },
  {
   "cell_type": "markdown",
   "metadata": {
    "slideshow": {
     "slide_type": "slide"
    }
   },
   "source": [
    "Precision & Recall Example\n",
    "-----"
   ]
  },
  {
   "cell_type": "markdown",
   "metadata": {
    "slideshow": {
     "slide_type": "slide"
    }
   },
   "source": [
    "![](images/results.png)\n",
    "\n",
    "The \"data\" is the ground truth. Red means a \"hit\"/positive. Blue is \"miss\"/negative.\n",
    "\n",
    "The \"model\"s could be a search engine results page (SERP) (or labels of a classifier)."
   ]
  },
  {
   "cell_type": "markdown",
   "metadata": {
    "slideshow": {
     "slide_type": "fragment"
    }
   },
   "source": [
    "What is the prevalence (aka rate of valuable data)?"
   ]
  },
  {
   "cell_type": "markdown",
   "metadata": {
    "slideshow": {
     "slide_type": "fragment"
    }
   },
   "source": [
    "20%"
   ]
  },
  {
   "cell_type": "markdown",
   "metadata": {
    "slideshow": {
     "slide_type": "slide"
    }
   },
   "source": [
    "![](images/results.png)\n",
    "\n",
    "What is the accuracy of Model 1? "
   ]
  },
  {
   "cell_type": "markdown",
   "metadata": {
    "slideshow": {
     "slide_type": "fragment"
    }
   },
   "source": [
    "80% accurate"
   ]
  },
  {
   "cell_type": "markdown",
   "metadata": {
    "slideshow": {
     "slide_type": "fragment"
    }
   },
   "source": [
    "What is the recall of Model 1?"
   ]
  },
  {
   "cell_type": "markdown",
   "metadata": {
    "slideshow": {
     "slide_type": "fragment"
    }
   },
   "source": [
    "0% recall "
   ]
  },
  {
   "cell_type": "markdown",
   "metadata": {
    "slideshow": {
     "slide_type": "slide"
    }
   },
   "source": [
    "![](images/results.png)\n",
    "\n",
    "\n",
    "What is the accuracy of Model 2? "
   ]
  },
  {
   "cell_type": "markdown",
   "metadata": {
    "slideshow": {
     "slide_type": "fragment"
    }
   },
   "source": [
    "70% accurate  "
   ]
  },
  {
   "cell_type": "markdown",
   "metadata": {
    "slideshow": {
     "slide_type": "fragment"
    }
   },
   "source": [
    "What is the recall of Model 2?"
   ]
  },
  {
   "cell_type": "markdown",
   "metadata": {
    "slideshow": {
     "slide_type": "fragment"
    }
   },
   "source": [
    "100% recall "
   ]
  },
  {
   "cell_type": "markdown",
   "metadata": {
    "slideshow": {
     "slide_type": "slide"
    }
   },
   "source": [
    "![](images/results.png)\n",
    "\n",
    "Which model would you deploy?"
   ]
  },
  {
   "cell_type": "markdown",
   "metadata": {
    "slideshow": {
     "slide_type": "slide"
    }
   },
   "source": [
    "ROC curve (redux)\n",
    "----"
   ]
  },
  {
   "cell_type": "markdown",
   "metadata": {
    "slideshow": {
     "slide_type": "fragment"
    }
   },
   "source": [
    "![](images/roc.png)\n",
    "\n",
    "ROC (receiver operating characteristic) curve \n",
    "\n",
    "When trying to detect a rare event (such as retrieving a relevant document), the number of negatives is very large. \n",
    "\n",
    "Hence comparing TPR = FPR is not very informative, since the FPR will be very small. All the “action” in the ROC curve will occur on the extreme left."
   ]
  },
  {
   "cell_type": "markdown",
   "metadata": {
    "slideshow": {
     "slide_type": "slide"
    }
   },
   "source": [
    "Precision recall curves\n",
    "-----\n",
    "\n",
    "![](images/pr.png)\n",
    "\n",
    "Precision vs recall as we vary the threshold τ.\n",
    "\n",
    "This curve can be summarized as a single number using the mean precision (averaging over recall values), which approximates the area under the curve. "
   ]
  },
  {
   "cell_type": "markdown",
   "metadata": {
    "slideshow": {
     "slide_type": "slide"
    }
   },
   "source": [
    "F1 score\n",
    "-----\n",
    "\n",
    "![](images/f.png)\n",
    "\n",
    "The harmonic mean of precision and recall"
   ]
  },
  {
   "cell_type": "markdown",
   "metadata": {
    "slideshow": {
     "slide_type": "slide"
    }
   },
   "source": [
    "F score\n",
    "-----\n",
    "\n",
    "![](images/f_score.png)\n",
    "\n",
    "F2 measure: weighs recall higher than precision (by placing more emphasis on false negatives)\n",
    "\n",
    "F0.5 measure: weighs recall lower than precision (by attenuating the influence of false negatives)"
   ]
  },
  {
   "cell_type": "markdown",
   "metadata": {
    "slideshow": {
     "slide_type": "slide"
    }
   },
   "source": [
    "SERP & CTR: It pays be to a winner\n",
    "----\n",
    "\n",
    "<img src=\"images/serp-ctr.svg\" style=\"width: 400px;\"/>\n",
    "\n",
    "The Internet is \"winner take most\". It is best to be #1 in a niche then lower in a wider area."
   ]
  },
  {
   "cell_type": "markdown",
   "metadata": {
    "slideshow": {
     "slide_type": "slide"
    }
   },
   "source": [
    "Discounted Cumulative Gain (DCG)\n",
    "-----\n",
    "\n",
    "The premise of DCG is that highly relevant documents appearing lower in a search result list should be penalized as the graded relevance value is reduced logarithmically proportional to the position of the result. \n"
   ]
  },
  {
   "cell_type": "markdown",
   "metadata": {
    "slideshow": {
     "slide_type": "fragment"
    }
   },
   "source": [
    "![](images/dcg.png)"
   ]
  },
  {
   "cell_type": "markdown",
   "metadata": {
    "slideshow": {
     "slide_type": "slide"
    }
   },
   "source": [
    "![](images/example.png)"
   ]
  },
  {
   "cell_type": "markdown",
   "metadata": {
    "slideshow": {
     "slide_type": "slide"
    }
   },
   "source": [
    "Summary\n",
    "-----\n",
    "\n",
    "- Precision and recall are the just the start of evaluating a IR system\n",
    "- Precision recall curves allow for comparisons across thresholds\n",
    "- F score is a single metric that balances precision and recall \n",
    "- Discounted Cumulative Gain (DCG) tells how log \"sucky\" your SERP is"
   ]
  },
  {
   "cell_type": "markdown",
   "metadata": {
    "slideshow": {
     "slide_type": "slide"
    }
   },
   "source": [
    "<br>\n",
    "<br> \n",
    "<br>\n",
    "\n",
    "----"
   ]
  }
 ],
 "metadata": {
  "celltoolbar": "Slideshow",
  "kernelspec": {
   "display_name": "Python 3",
   "language": "python",
   "name": "python3"
  },
  "language_info": {
   "codemirror_mode": {
    "name": "ipython",
    "version": 3
   },
   "file_extension": ".py",
   "mimetype": "text/x-python",
   "name": "python",
   "nbconvert_exporter": "python",
   "pygments_lexer": "ipython3",
   "version": "3.5.2"
  }
 },
 "nbformat": 4,
 "nbformat_minor": 0
}
