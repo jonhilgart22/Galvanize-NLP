{
 "cells": [
  {
   "cell_type": "markdown",
   "metadata": {},
   "source": [
    "Let's make a chatbot that greets people"
   ]
  },
  {
   "cell_type": "code",
   "execution_count": 7,
   "metadata": {
    "collapsed": true
   },
   "outputs": [],
   "source": [
    "reset -fs"
   ]
  },
  {
   "cell_type": "code",
   "execution_count": 8,
   "metadata": {
    "collapsed": true
   },
   "outputs": [],
   "source": [
    "greetings = set('hola hello hi Hi hey! hey'.split())"
   ]
  },
  {
   "cell_type": "code",
   "execution_count": 9,
   "metadata": {
    "collapsed": true
   },
   "outputs": [],
   "source": [
    "question = ['How are you?','How are you doing?']\n",
    "answers = set(\"Okay | I'm fine\".split(\" | \"))"
   ]
  },
  {
   "cell_type": "code",
   "execution_count": 10,
   "metadata": {
    "collapsed": true
   },
   "outputs": [],
   "source": [
    "import random"
   ]
  },
  {
   "cell_type": "code",
   "execution_count": 13,
   "metadata": {
    "collapsed": false
   },
   "outputs": [
    {
     "name": "stdout",
     "output_type": "stream",
     "text": [
      ">>> q\n",
      "Talk to you later\n"
     ]
    }
   ],
   "source": [
    "while True:\n",
    "    user_input = input(\"=> \")\n",
    "    if user_input in greetings:\n",
    "        print(random.sample(greetings, 1)[0])\n",
    "    elif user_input in question:\n",
    "        print(random.sample(answers, 1)[0])\n",
    "    elif user_input == 'q':\n",
    "        print('Talk to you later!')\n",
    "        break\n",
    "    else:\n",
    "        print(\"I did not understand what you said.\")"
   ]
  },
  {
   "cell_type": "markdown",
   "metadata": {},
   "source": [
    "-----"
   ]
  },
  {
   "cell_type": "code",
   "execution_count": 17,
   "metadata": {
    "collapsed": false
   },
   "outputs": [],
   "source": [
    "def random_response(repsonses):\n",
    "    \"Given a collection of responses, pick one at random\"\n",
    "    return random.sample(repsonses, 1)[0]"
   ]
  },
  {
   "cell_type": "code",
   "execution_count": 19,
   "metadata": {
    "collapsed": false
   },
   "outputs": [
    {
     "name": "stdout",
     "output_type": "stream",
     "text": [
      ">>> hi\n",
      "hi\n",
      ">>> q\n",
      "Talk to you later!\n"
     ]
    }
   ],
   "source": [
    "while True:\n",
    "    user_input = input(\"=> \")\n",
    "    if user_input in greetings:\n",
    "        print(random_response(greetings))\n",
    "    elif user_input in question:\n",
    "        print(random_response(answers))\n",
    "    elif user_input == 'q':\n",
    "        print('Talk to you later!')\n",
    "        break\n",
    "    else:\n",
    "        print(\"I did not understand what you said.\")"
   ]
  },
  {
   "cell_type": "code",
   "execution_count": null,
   "metadata": {
    "collapsed": true
   },
   "outputs": [],
   "source": []
  }
 ],
 "metadata": {
  "kernelspec": {
   "display_name": "Python 3",
   "language": "python",
   "name": "python3"
  },
  "language_info": {
   "codemirror_mode": {
    "name": "ipython",
    "version": 3
   },
   "file_extension": ".py",
   "mimetype": "text/x-python",
   "name": "python",
   "nbconvert_exporter": "python",
   "pygments_lexer": "ipython3",
   "version": "3.5.2"
  }
 },
 "nbformat": 4,
 "nbformat_minor": 1
}
