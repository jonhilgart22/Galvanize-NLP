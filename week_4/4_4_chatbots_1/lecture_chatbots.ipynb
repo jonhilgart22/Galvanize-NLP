{
 "cells": [
  {
   "cell_type": "markdown",
   "metadata": {
    "slideshow": {
     "slide_type": "slide"
    }
   },
   "source": [
    "<img src=\"http://cdn.ndtv.com/tech/images/gadgets/microsoft_satya_nadella_bloomberg.jpg?output-quality=80&output-format=jpg\" style=\"width: 400px;\"/>\n",
    "> “Bots are the new apps.”  \n",
    "> – Satya Nadella, Microsoft CEO"
   ]
  },
  {
   "cell_type": "markdown",
   "metadata": {
    "slideshow": {
     "slide_type": "slide"
    }
   },
   "source": [
    "By The End Of This Session You Should Be Able To:\n",
    "----\n",
    "\n",
    "- Define what is a chatbot / dialogue system / conversational agent \n",
    "- Explain why chatbots are trending now\n",
    "- Explain the difference between syntax and semantics\n",
    "- List Grice's Maxims for conversation\n",
    "- Build a chatbot with standard Python and regex"
   ]
  },
  {
   "cell_type": "code",
   "execution_count": 1,
   "metadata": {
    "collapsed": false,
    "slideshow": {
     "slide_type": "slide"
    }
   },
   "outputs": [
    {
     "data": {
      "text/html": [
       "\n",
       "        <iframe\n",
       "            width=\"600\"\n",
       "            height=\"400\"\n",
       "            src=\"http://www.cleverbot.com/\"\n",
       "            frameborder=\"0\"\n",
       "            allowfullscreen\n",
       "        ></iframe>\n",
       "        "
      ],
      "text/plain": [
       "<IPython.lib.display.IFrame at 0x10483a0b8>"
      ]
     },
     "execution_count": 1,
     "metadata": {},
     "output_type": "execute_result"
    }
   ],
   "source": [
    "from IPython.display import IFrame\n",
    "\n",
    "IFrame(\"http://www.cleverbot.com/\",\n",
    "        width=600,\n",
    "        height=400)"
   ]
  },
  {
   "cell_type": "markdown",
   "metadata": {
    "slideshow": {
     "slide_type": "slide"
    }
   },
   "source": [
    "Cleverbot\n",
    "----\n",
    "\n",
    "Launched in 1997, so far \\>  200 million conversations\n",
    "\n",
    "> the system finds all keywords or an exact phrase matching the input. \n",
    "\n",
    "> After searching through its saved conversations, it responds to the input by finding how a human responded to that input when it was asked, in part or in full, by Cleverbot\n",
    "\n",
    "In 2011, Cleverbot participated in a formal Turing test. Cleverbot was judged to be 59.3% human."
   ]
  },
  {
   "cell_type": "markdown",
   "metadata": {
    "slideshow": {
     "slide_type": "fragment"
    }
   },
   "source": [
    "Compared to the rating of 63.3% human achieved by human participants."
   ]
  },
  {
   "cell_type": "markdown",
   "metadata": {
    "slideshow": {
     "slide_type": "slide"
    }
   },
   "source": [
    "Chatbots: Why Now?\n",
    "-----"
   ]
  },
  {
   "cell_type": "markdown",
   "metadata": {
    "slideshow": {
     "slide_type": "fragment"
    }
   },
   "source": [
    "- Lots of compute\n",
    "- Mobile saturation\n",
    "- Slightly better algorithms (Deep Learning)\n",
    "- Hype cycle"
   ]
  },
  {
   "cell_type": "markdown",
   "metadata": {
    "slideshow": {
     "slide_type": "slide"
    }
   },
   "source": [
    "![](images/mobile.png)\n",
    "\n",
    "[Source](http://www.slideshare.net/a16z/mobile-is-eating-the-world-2016/76-Thank_you)"
   ]
  },
  {
   "cell_type": "markdown",
   "metadata": {
    "slideshow": {
     "slide_type": "slide"
    }
   },
   "source": [
    "Gartner hype cycle of innovation\n",
    "------\n",
    "\n",
    "![](http://www.smartinsights.com/wp-content/uploads/2015/12/Gartner-Marketing-Technology-Hypecycle-2016.jpg)"
   ]
  },
  {
   "cell_type": "markdown",
   "metadata": {
    "slideshow": {
     "slide_type": "slide"
    }
   },
   "source": [
    "![](https://format-com-cld-res.cloudinary.com/image/private/s--LpKDjJvM--/c_crop,h_1500,w_2000,x_0,y_0/c_fill,g_center,h_855,w_1140/a_auto,fl_keep_iptc.progressive,q_95/v1/19575bcc040a6dcff3097618ec9c585e/MI-Landscape-3_7.png)"
   ]
  },
  {
   "cell_type": "markdown",
   "metadata": {
    "slideshow": {
     "slide_type": "slide"
    }
   },
   "source": [
    "Chat as NLP interface for APIs\n",
    "------\n",
    "\n",
    "![](images/nopay.png)\n",
    "\n",
    "[Do Not Pay Chatbot](http://www.donotpay.co.uk/signup.php)"
   ]
  },
  {
   "cell_type": "markdown",
   "metadata": {
    "slideshow": {
     "slide_type": "slide"
    }
   },
   "source": [
    "Conversational Agents\n",
    "-----\n",
    "\n",
    "For complex requests, they spare the user the need to learn a formal query or command language.\n",
    "\n",
    "Conversational agents can serve as natural language front ends for such tasks as \n",
    "\n",
    "- Order taking\n",
    "- Deploying cloud services\n",
    "- Database querying"
   ]
  },
  {
   "cell_type": "markdown",
   "metadata": {
    "slideshow": {
     "slide_type": "slide"
    }
   },
   "source": [
    "Elements of Conversational Agents\n",
    "----\n",
    "\n",
    "It has to be able to accept a wide range of queries or it will be worse than useless (it will be much more frustrating than a formal query language --- it won't really be \"natural language\"). \n",
    "\n",
    "For example with a database query, the system has to translate a natural language query into a formal data base query. \n",
    "\n",
    "> Give me all the sales last month .\n",
    "\n",
    "```sql\n",
    "SELECT *\n",
    "FROM sales\n",
    "WHERE MONTH(Date) = DATEPART(MONTH, DATEADD(MONTH, -1, [Date]))\n",
    "    AND YEAR(Date) = DATEPART(YEAR, DATEADD(MONTH, -1, [Date])) \n",
    "```"
   ]
  },
  {
   "cell_type": "markdown",
   "metadata": {
    "slideshow": {
     "slide_type": "slide"
    }
   },
   "source": [
    "Sidebar: What is syntax vs. semantics?\n",
    "-----\n",
    "\n",
    "The syntax of a language is the arrangement of characters to form correct statements or expressions."
   ]
  },
  {
   "cell_type": "markdown",
   "metadata": {
    "slideshow": {
     "slide_type": "fragment"
    }
   },
   "source": [
    "The semantics is the meaning of those statements or expressions."
   ]
  },
  {
   "cell_type": "markdown",
   "metadata": {
    "slideshow": {
     "slide_type": "slide"
    }
   },
   "source": [
    "Syntax is what happens __between__ words.  \n",
    "Semantics is what happens __within__ words."
   ]
  },
  {
   "cell_type": "markdown",
   "metadata": {
    "slideshow": {
     "slide_type": "slide"
    }
   },
   "source": [
    "- Syntax: It needs to divide the query into phrases which correspond to different database attributes\n"
   ]
  },
  {
   "cell_type": "markdown",
   "metadata": {
    "slideshow": {
     "slide_type": "fragment"
    }
   },
   "source": [
    "- Lexical semantics: It needs to figure out how the phrases map into database relations"
   ]
  },
  {
   "cell_type": "markdown",
   "metadata": {
    "slideshow": {
     "slide_type": "fragment"
    }
   },
   "source": [
    "- Quantifier semantics: The system has figure out \"last month\" means"
   ]
  },
  {
   "cell_type": "markdown",
   "metadata": {
    "slideshow": {
     "slide_type": "fragment"
    }
   },
   "source": [
    "- Discourse: Handle pronouns and sentence fragments: in asking a sequence of questions, the user is likely to use pronouns and fragments to keep the queries short: \"How many tangelos did Whole Foods buy? How many kumquats? Did it buy any deviled horn fruit?\""
   ]
  },
  {
   "cell_type": "markdown",
   "metadata": {
    "slideshow": {
     "slide_type": "fragment"
    }
   },
   "source": [
    "<img src=\"http://www.specialtyproduce.com/sppics/656.png\" style=\"width: 300px;\"/>"
   ]
  },
  {
   "cell_type": "markdown",
   "metadata": {
    "slideshow": {
     "slide_type": "slide"
    }
   },
   "source": [
    "Coreference\n",
    "-----\n",
    "\n",
    "- When two or more expressions in a text refer to the same person or thing\n",
    "- An specific type of Word Disambiguation\n",
    "- Need to parse the grammatical tree\n",
    "\n",
    "> A boy was hit by a car. The poor kid broke his arm. The driver was arrested when he had no license.\n",
    "\n",
    "```python\n",
    "{\"enity_1\": {\"A boy\", \"the poor kid\", \"his\"},\n",
    "\"enity_2\": \"The driver\", \"he\"}\n",
    "```"
   ]
  },
  {
   "cell_type": "markdown",
   "metadata": {
    "slideshow": {
     "slide_type": "slide"
    }
   },
   "source": [
    "Grice's Maxims: aka, be a good conversation partner\n",
    "----\n",
    "\n",
    "1) __The maxim of quantity__, where one tries to be as informative as one possibly can, and gives as much information as is needed, and no more.\n",
    "\n"
   ]
  },
  {
   "cell_type": "markdown",
   "metadata": {
    "slideshow": {
     "slide_type": "fragment"
    }
   },
   "source": [
    "2) __The maxim of quality__, where one tries to be truthful, and does not give information that is false or that is not supported by evidence.\n",
    "\n"
   ]
  },
  {
   "cell_type": "markdown",
   "metadata": {
    "slideshow": {
     "slide_type": "fragment"
    }
   },
   "source": [
    "3) __The maxim of relation__, where one tries to be relevant, and says things that are pertinent to the discussion.\n",
    "\n",
    "\n"
   ]
  },
  {
   "cell_type": "markdown",
   "metadata": {
    "slideshow": {
     "slide_type": "fragment"
    }
   },
   "source": [
    "4) __The maxim of manner__, when one tries to be as clear, as brief, and as orderly as one can in what one says, and where one avoids obscurity and ambiguity."
   ]
  },
  {
   "cell_type": "markdown",
   "metadata": {
    "slideshow": {
     "slide_type": "slide"
    }
   },
   "source": [
    "A good interactive system will be responsive in its replies, pointing out false assumptions and asking for clarification:\n",
    "    \n",
    ">\"How many programmers in the child care department make over $50,000?\"\n",
    "> >\"There are no programmers in the child care department.\"\n",
    "\n",
    "----\n",
    "\n",
    ">\"How many people live in Washington?\"\n",
    "> >\"Washington, D.C. or the State of Washington?\""
   ]
  },
  {
   "cell_type": "markdown",
   "metadata": {
    "slideshow": {
     "slide_type": "slide"
    }
   },
   "source": [
    "Design (Redux)\n",
    "-----\n",
    "\n",
    "Domain knowledge: What does a user expect this bot to understand?\n",
    "\n",
    "Personality: What tone or vocabulary does the bot employ?"
   ]
  },
  {
   "cell_type": "markdown",
   "metadata": {
    "slideshow": {
     "slide_type": "slide"
    }
   },
   "source": [
    "![](https://i.ytimg.com/vi/P18EdAKuC1U/maxresdefault.jpg)\n",
    "\n",
    "IBM's Jeopardy-playing Watson “knew” facts and could construct realistic natural language responses, but it couldn’t schedule your meetings or deliver your groceries. "
   ]
  },
  {
   "cell_type": "code",
   "execution_count": 2,
   "metadata": {
    "collapsed": false,
    "slideshow": {
     "slide_type": "slide"
    }
   },
   "outputs": [
    {
     "data": {
      "image/jpeg": "[encoded data removed]",
      "text/html": [
       "\n",
       "        <iframe\n",
       "            width=\"400\"\n",
       "            height=\"300\"\n",
       "            src=\"https://www.youtube.com/embed/KoPFkjF-Bdo\"\n",
       "            frameborder=\"0\"\n",
       "            allowfullscreen\n",
       "        ></iframe>\n",
       "        "
      ],
      "text/plain": [
       "<IPython.lib.display.YouTubeVideo at 0x104823fd0>"
      ]
     },
     "execution_count": 2,
     "metadata": {},
     "output_type": "execute_result"
    }
   ],
   "source": [
    "from IPython.display import YouTubeVideo\n",
    "\n",
    "YouTubeVideo(\"KoPFkjF-Bdo\")"
   ]
  },
  {
   "cell_type": "markdown",
   "metadata": {
    "collapsed": true,
    "slideshow": {
     "slide_type": "slide"
    }
   },
   "source": [
    "Chatbots: Question Answering System with Personality\n",
    "------\n",
    "\n",
    "Question Answering is just a subdomain of Information Retrieval\n",
    "\n",
    "The constraints are:\n",
    "\n",
    "- The query is a question\n",
    "- The answer is a discrete, falsifiable statement\n",
    "\n",
    "Usually involving a facts about \"things\" thus dependent on relation extraction."
   ]
  },
  {
   "cell_type": "markdown",
   "metadata": {
    "slideshow": {
     "slide_type": "slide"
    }
   },
   "source": [
    "What happens when someone messes with your chatbot\n",
    "-----\n",
    "\n",
    "![](http://www.telegraph.co.uk/content/dam/technology/2016/03/14/siri9-xlarge_trans++IQn2CIjWeXyADFYWcnHvQ997QJnpkie65ataUzENj2Q.jpg)\n",
    "\n",
    "Respond with Personality"
   ]
  },
  {
   "cell_type": "markdown",
   "metadata": {
    "collapsed": true,
    "slideshow": {
     "slide_type": "slide"
    }
   },
   "source": [
    "Chatbot Heiarchy\n",
    "-----\n",
    "\n",
    "1. Regex with canned statements\n",
    "2. Language modeling with ngrams (ngram or setence level)\n",
    "3. Graphical models\n",
    "4. Deep Learning"
   ]
  },
  {
   "cell_type": "markdown",
   "metadata": {
    "collapsed": true,
    "slideshow": {
     "slide_type": "slide"
    }
   },
   "source": [
    "Like in Machine Learning...\n",
    "\n",
    "> Always Be Ensembling\n",
    "\n",
    "![](http://pubs.rsc.org/services/images/RSCpubs.ePlatform.Service.FreeContent.ImageService.svc/ImageService/Articleimage/2014/MB/c3mb70486f/c3mb70486f-f2_hi-res.gif)\n",
    " "
   ]
  },
  {
   "cell_type": "markdown",
   "metadata": {
    "slideshow": {
     "slide_type": "slide"
    }
   },
   "source": [
    "Chatbot Architecture\n",
    "-----\n",
    "\n",
    "![](images/system.png)"
   ]
  },
  {
   "cell_type": "markdown",
   "metadata": {
    "slideshow": {
     "slide_type": "slide"
    }
   },
   "source": [
    "Human-in-the-loop\n",
    "---\n",
    "\n",
    "![](images/agent.png)\n",
    "\n",
    "AgentIQ @ Galvanize"
   ]
  },
  {
   "cell_type": "markdown",
   "metadata": {
    "slideshow": {
     "slide_type": "slide"
    }
   },
   "source": [
    "Summary\n",
    "----\n",
    "\n",
    "- Chatbots are part the new wave in AI\n",
    "- They have a long history\n",
    "- Syntax is what happens __between__ words; Semantics is what happens __within__ words.\n",
    "- Grice's Maxims are heuristics for not being annoying\n",
    "- Use the tools you have build a chatbot"
   ]
  },
  {
   "cell_type": "markdown",
   "metadata": {
    "slideshow": {
     "slide_type": "slide"
    }
   },
   "source": [
    "Futher Study\n",
    "-----\n",
    "\n",
    "- [Cornell Movie-Dialogs Corpus](http://www.mpi-sws.org/~cristian/Cornell_Movie-Dialogs_Corpus.html)"
   ]
  },
  {
   "cell_type": "markdown",
   "metadata": {
    "slideshow": {
     "slide_type": "slide"
    }
   },
   "source": [
    "<br>\n",
    "<br> \n",
    "<br>\n",
    "\n",
    "----"
   ]
  }
 ],
 "metadata": {
  "celltoolbar": "Slideshow",
  "kernelspec": {
   "display_name": "Python 3",
   "language": "python",
   "name": "python3"
  },
  "language_info": {
   "codemirror_mode": {
    "name": "ipython",
    "version": 3
   },
   "file_extension": ".py",
   "mimetype": "text/x-python",
   "name": "python",
   "nbconvert_exporter": "python",
   "pygments_lexer": "ipython3",
   "version": "3.5.2"
  }
 },
 "nbformat": 4,
 "nbformat_minor": 1
}
