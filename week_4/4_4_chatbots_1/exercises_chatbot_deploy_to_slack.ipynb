{
 "cells": [
  {
   "cell_type": "markdown",
   "metadata": {},
   "source": [
    "Deploy Eliza to Slack\n",
    "------\n",
    "\n",
    "![](images/slack_bot.png)"
   ]
  },
  {
   "cell_type": "markdown",
   "metadata": {},
   "source": [
    "__Objective__: Deploy your chatbot Eliza to Slack.\n",
    "\n",
    "1. Join https://team-chatbot.slack.com to deploy your bot\n",
    "2. Follow these directions: https://www.fullstackpython.com/blog/build-first-slack-bot-python.html\n",
    "3. Modify StarterBot code to include Eliza's code"
   ]
  },
  {
   "cell_type": "markdown",
   "metadata": {},
   "source": [
    "Here is my deployment checklist from a hackathon that might help: https://github.com/brianspiering/family_style_chat_bot/blob/master/docs/deployment_checklist.md"
   ]
  },
  {
   "cell_type": "markdown",
   "metadata": {},
   "source": [
    "----\n",
    "Challenge Activities\n",
    "----"
   ]
  },
  {
   "cell_type": "markdown",
   "metadata": {},
   "source": [
    "Refactor your code to use a better Slack API https://www.fullstackpython.com/blog/build-first-slack-bot-python.html"
   ]
  },
  {
   "cell_type": "markdown",
   "metadata": {},
   "source": [
    "<br>\n",
    "<br> \n",
    "<br>\n",
    "\n",
    "----"
   ]
  }
 ],
 "metadata": {
  "kernelspec": {
   "display_name": "Python 3",
   "language": "python",
   "name": "python3"
  },
  "language_info": {
   "codemirror_mode": {
    "name": "ipython",
    "version": 3
   },
   "file_extension": ".py",
   "mimetype": "text/x-python",
   "name": "python",
   "nbconvert_exporter": "python",
   "pygments_lexer": "ipython3",
   "version": "3.5.2"
  }
 },
 "nbformat": 4,
 "nbformat_minor": 0
}
