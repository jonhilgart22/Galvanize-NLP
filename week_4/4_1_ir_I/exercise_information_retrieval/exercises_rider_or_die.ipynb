{
 "cells": [
  {
   "cell_type": "markdown",
   "metadata": {},
   "source": [
    "---\n",
    "Information Retrieval Exercises\n",
    "===="
   ]
  },
  {
   "cell_type": "markdown",
   "metadata": {},
   "source": [
    "---\n",
    "Rider or Die\n",
    "----\n",
    "\n",
    "![](http://i.telegraph.co.uk/multimedia/archive/02162/ridderhaggard_2162866i.jpg)"
   ]
  },
  {
   "cell_type": "markdown",
   "metadata": {},
   "source": [
    "You will be improving upon a rather poorly-made information retrieval system. You will build a system to quickly retrieve documents that match queries."
   ]
  },
  {
   "cell_type": "markdown",
   "metadata": {},
   "source": [
    "---\n",
    "Data \n",
    "---\n",
    "\n",
    ">“...one day a sunrise will come when we shall be among those who are lost, and then others will watch those glorious rays, and grow sad in the midst of beauty, and dream of Death in the \n",
    "full glow of arising Life!”   \n",
    "> \\- Rider Haggard\n",
    "\n",
    "Your IR system will find relevant documents among a collection of 60 short stories by the famed [Rider Haggard](http://en.wikipedia.org/wiki/H._Rider_Haggard). \n",
    "\n",
    "The training data is located in the `data/` directory under the subdirectory `RiderHaggard/`. Within this directory you will see yet another directory `raw/`. This contains the raw text files of 60 different short stories written by Rider Haggard.\n",
    "\n",
    "A set of development queries and their expected answers are in the `data/` directory, the files `queries.txt` and `solutions.txt` respectively."
   ]
  },
  {
   "cell_type": "markdown",
   "metadata": {},
   "source": [
    "----\n",
    "Part I\n",
    "---\n",
    "\n",
    "Improve upon the IR system provided. This involves implementing:\n",
    "\n",
    "- **Inverted Index:** a mapping from words to the documents in which they occur.\n",
    "- **Boolean Retrieval:** in which you return the list of documents that contain all words in a query* \n",
    "\n",
    "You will implement and/or improve upon the following functions:\n",
    "\n",
    "- `index():` This is where you will build the inverted index. The documents will have already been read in for you at this point, so you will want to look at some of the instance variables in the class:\n",
    "    - `self.titles`\n",
    "    - `self.docs`\n",
    "    - `self.vocab`\n",
    "- `get_posting():` This function returns a list of integers (document IDs) that identifies the documents in which the word is found. This is basically just an API into your inverted index, but you must implement it in order to be evaluated fully.\n",
    "- `boolean_retrieve():` This function performs Boolean retrieval, returning a list of document IDs corresponding to the documents in which all the words in `query` occur.\n",
    "\n",
    "\n",
    "\n",
    "\\* Yes, we only support conjunctions..."
   ]
  },
  {
   "cell_type": "markdown",
   "metadata": {},
   "source": [
    "----\n",
    "Evaluation\n",
    "----\n",
    "Your IR system will be evaluated on a development set of queries as well as a held-out set of queries. The queries are encoded in the file **queries.txt** and are:"
   ]
  },
  {
   "cell_type": "markdown",
   "metadata": {},
   "source": [
    "Running the code\n",
    "---"
   ]
  },
  {
   "cell_type": "code",
   "execution_count": 1,
   "metadata": {
    "collapsed": true
   },
   "outputs": [],
   "source": [
    "reset -fs"
   ]
  },
  {
   "cell_type": "markdown",
   "metadata": {},
   "source": [
    "That code will run you IR system and test it against the development set of queries. \n",
    "\n",
    "The first time you run the code the documents will be stemmed.\n",
    "\n",
    "Then you will see the evaluation metrics"
   ]
  },
  {
   "cell_type": "code",
   "execution_count": 2,
   "metadata": {
    "collapsed": false
   },
   "outputs": [
    {
     "name": "stdout",
     "output_type": "stream",
     "text": [
      "Reading in documents...\n",
      "Stemming Documents...\n",
      "    Doc 1 of 60: A Winter Pilgrimage (1901)\n",
      "    Doc 2 of 60: A Yellow God: an Idol of Africa\n",
      "    Doc 3 of 60: Allan and the Holy Flower\n",
      "    Doc 4 of 60: Allan and the Ice Gods (1927)\n",
      "    Doc 5 of 60: Allan Quatermain\n",
      "    Doc 6 of 60: Allan's Wife\n",
      "    Doc 7 of 60: Ayesha, the Return of She\n",
      "    Doc 8 of 60: Beatrice\n",
      "    Doc 9 of 60: Benita, an African romance\n",
      "    Doc 10 of 60: Black Heart and White Heart\n",
      "    Doc 11 of 60: Cetywayo and his White Neighbours Remarks on Recent Events in Zululand, Natal, and the Transvaal\n",
      "    Doc 12 of 60: Child of Storm\n",
      "    Doc 13 of 60: Cleopatra\n",
      "    Doc 14 of 60: Colonel Quaritch, V.C. A Tale of Country Life\n",
      "    Doc 15 of 60: Dawn\n",
      "    Doc 16 of 60: Doctor Therne\n",
      "    Doc 17 of 60: Elissa\n",
      "    Doc 18 of 60: Eric Brighteyes\n",
      "    Doc 19 of 60: Fair Margaret\n",
      "    Doc 20 of 60: Finished\n",
      "    Doc 21 of 60: Heu-Heu (1924)\n",
      "    Doc 22 of 60: Hunter Quatermain's Story\n",
      "    Doc 23 of 60: Jess\n",
      "    Doc 24 of 60: King Solomon's Mines\n",
      "    Doc 25 of 60: Long Odds\n",
      "    Doc 26 of 60: Love Eternal\n",
      "    Doc 27 of 60: Lysbeth, a Tale of the Dutch\n",
      "    Doc 28 of 60: Maiwa's Revenge\n",
      "    Doc 29 of 60: Marie An Episode in The Life of the late Allan Quatermain\n",
      "    Doc 30 of 60: Montezuma's Daughter\n",
      "    Doc 31 of 60: Moon of Israel\n",
      "    Doc 32 of 60: Morning Star\n",
      "    Doc 33 of 60: Mr. Meeson's Will\n",
      "    Doc 34 of 60: Nada the Lily\n",
      "    Doc 35 of 60: Pearl-Maiden\n",
      "    Doc 36 of 60: Queen of the Dawn (1925)\n",
      "    Doc 37 of 60: Queen Sheba's Ring\n",
      "    Doc 38 of 60: Red Eve\n",
      "    Doc 39 of 60: Regeneration\n",
      "    Doc 40 of 60: She\n",
      "    Doc 41 of 60: She and Allan\n",
      "    Doc 42 of 60: Smith and the Pharaohs, and other Tales\n",
      "    Doc 43 of 60: Stella Fregelius\n",
      "    Doc 44 of 60: Stories by English Authors: Africa (Selected by Scribners)\n",
      "    Doc 45 of 60: Swallow: a tale of the great trek\n",
      "    Doc 46 of 60: The Ancient Allan\n",
      "    Doc 47 of 60: The Brethren\n",
      "    Doc 48 of 60: The Ghost Kings\n",
      "    Doc 49 of 60: The Ivory Child\n",
      "    Doc 50 of 60: The Lady of Blossholme\n",
      "    Doc 51 of 60: The Mahatma and the Hare\n",
      "    Doc 52 of 60: The People of the Mist\n",
      "    Doc 53 of 60: The Tale of Three Lions\n",
      "    Doc 54 of 60: The Virgin of the Sun\n",
      "    Doc 55 of 60: The Wanderer's Necklace\n",
      "    Doc 56 of 60: The Witch's Head (1884)\n",
      "    Doc 57 of 60: The Wizard\n",
      "    Doc 58 of 60: The World's Desire\n",
      "    Doc 59 of 60: When the World Shook; being an account of the great adventure of Bastin, Bickley and Arbuthnot\n",
      "    Doc 60 of 60: Wisdom's Daughter (1923)\n",
      "Indexing...\n",
      "===== Running tests =====\n",
      "Inverted Index Test\n",
      "    Score: 0 Feedback: 0/5 Correct. Accuracy: 0.000000\n",
      "Boolean Retrieval Test\n",
      "    Score: 0 Feedback: 0/5 Correct. Accuracy: 0.000000\n"
     ]
    }
   ],
   "source": [
    "%run python/ir_system_part_1.py"
   ]
  },
  {
   "cell_type": "markdown",
   "metadata": {},
   "source": [
    "---\n",
    "\n",
    "\n",
    "__Note__: That the first time you run this, it will create a directory named `stemmed/` in `../data/RiderHaggard/.` This is meant to be a simple cache for the raw text documents. Later runs will be much faster after the first run. \n",
    "\n",
    "*However*, this means that if something happens during this first run and it does not get through processing all the documents, you may be left with an incomplete set of documents in `../data/RiderHaggard/stemmed/.` If this happens, simply remove the `stemmed/` directory and re-run!"
   ]
  },
  {
   "cell_type": "markdown",
   "metadata": {},
   "source": [
    "----\n",
    "Part II\n",
    "---\n",
    "\n",
    "Continue improving the IR system by implementing:\n",
    "\n",
    "- __tf-idf:__ Compute and store the term-frequency inverse-document- frequency value for every word-document co-occurrence: $w_{t,d}=(1+\\text{log}_{10}\\text{df}_{t,d})\\times\\text{log}_{10}(N/\\text{df}_t)$\n",
    "\n",
    "- **Cosine Similarity:** Implement cosine similarity in order to improve upon the ranked retrieval system, which currently retrieves documents based upon the Jaccard coefficient between the query and each document.\n",
    "\n",
    "__Also__ note that when computing $w_{t,q}$ (*i.e.* the weight for the word $w$ in the query) do *not* include the idf term. That is, $w_{t,q}=1+\\text{log}_{10}\\text{tf}_{t,q}$.\n",
    "\n",
    "To improve upon the information retrieval system, you must implement and/or improve upon the following functions:\n",
    "\n",
    "- `compute_tfidf():` This function computes and stores the tf-idf values for words and documents. For this you will probably want to be aware of the class variables `vocab` and `docs` which hold, respectively, the list of all unique words and the list of documents, where each document is a list of words.\n",
    "- `get_tfidf():` You must implement this function to return the tf-idf weight for a particular word and document ID.\n",
    "- `rank_retrieve():` This function returns a priority queue of the top ranked documents for a given query. Right now it ranks documents according to their Jaccard similarity with the query, but you will replace this method of ranking with a ranking using the cosine similarity between the documents and query.\n",
    "\n",
    "### Evaluation\n",
    "Your IR system will be evaluated on the same set of queries as Part I."
   ]
  },
  {
   "cell_type": "code",
   "execution_count": 10,
   "metadata": {
    "collapsed": false
   },
   "outputs": [
    {
     "name": "stdout",
     "output_type": "stream",
     "text": [
      "Reading in documents...\n",
      "Already stemmed!\n",
      "Indexing...\n",
      "Calculating tf-idf...\n",
      "===== Running tests =====\n",
      "Inverted Index Test\n",
      "    Score: 0 Feedback: 0/5 Correct. Accuracy: 0.000000\n",
      "Boolean Retrieval Test\n",
      "    Score: 0 Feedback: 0/5 Correct. Accuracy: 0.000000\n",
      "TF-IDF Test\n",
      "    Score: 0 Feedback: 0/5 Correct. Accuracy: 0.000000\n",
      "Cosine Similarity Test\n",
      "    Score: 0 Feedback: 0/5 Correct. Accuracy: 0.000000\n"
     ]
    }
   ],
   "source": [
    "%run python/ir_system_part_2.py"
   ]
  },
  {
   "cell_type": "markdown",
   "metadata": {},
   "source": [
    "---\n",
    "Hints\n",
    "---\n",
    "\n",
    "> Smart data structures and dumb code works a lot better than the other way around.\n",
    "\n",
    "- Take your time - Read the instructions, skim the code, and __read the instructions again__. \n",
    "- `sets`, `Counters`, and `defaultdict` are your friends\n",
    "- indexes are your best friends\n",
    "- `np.log10` is __not__ the same as `np.log`\n",
    "- Test your system with custom queries:"
   ]
  },
  {
   "cell_type": "code",
   "execution_count": 11,
   "metadata": {
    "collapsed": false
   },
   "outputs": [
    {
     "name": "stdout",
     "output_type": "stream",
     "text": [
      "Reading in documents...\n",
      "Already stemmed!\n",
      "Indexing...\n",
      "Calculating tf-idf...\n",
      "Best matching documents to 'My very own query':\n",
      "Long Odds: 2.240478e-03\n",
      "Hunter Quatermain's Story: 2.103787e-03\n",
      "The Tale of Three Lions: 1.574803e-03\n",
      "The Mahatma and the Hare: 1.283697e-03\n",
      "Black Heart and White Heart: 1.139818e-03\n",
      "Elissa: 1.117943e-03\n",
      "Moon of Israel: 1.059883e-03\n",
      "Morning Star: 9.930487e-04\n",
      "Maiwa's Revenge: 9.526834e-04\n",
      "Doctor Therne: 9.261403e-04\n"
     ]
    }
   ],
   "source": [
    "%run python/ir_system_part_2.py \"My very own query\""
   ]
  },
  {
   "cell_type": "code",
   "execution_count": 12,
   "metadata": {
    "collapsed": false
   },
   "outputs": [
    {
     "name": "stdout",
     "output_type": "stream",
     "text": [
      "Reading in documents...\n",
      "Already stemmed!\n",
      "Indexing...\n",
      "Calculating tf-idf...\n",
      "Best matching documents to 'dream of Death in the full glow of arising Life':\n",
      "Long Odds: 5.223881e-03\n",
      "Hunter Quatermain's Story: 4.905396e-03\n",
      "Black Heart and White Heart: 3.420753e-03\n",
      "The Tale of Three Lions: 3.146303e-03\n",
      "The Mahatma and the Hare: 2.994012e-03\n",
      "Elissa: 2.515372e-03\n",
      "The Wizard: 2.502781e-03\n",
      "Allan's Wife: 2.408994e-03\n",
      "Moon of Israel: 2.384738e-03\n",
      "Nada the Lily: 2.252816e-03\n"
     ]
    }
   ],
   "source": [
    "%run python/ir_system_part_2.py \"dream of Death in the full glow of arising Life\""
   ]
  },
  {
   "cell_type": "code",
   "execution_count": 13,
   "metadata": {
    "collapsed": false
   },
   "outputs": [
    {
     "name": "stdout",
     "output_type": "stream",
     "text": [
      "Reading in documents...\n",
      "Already stemmed!\n",
      "Indexing...\n",
      "Calculating tf-idf...\n",
      "Best matching documents to 'The space aliens were friendly':\n",
      "Hunter Quatermain's Story: 2.805049e-03\n",
      "Long Odds: 2.238806e-03\n",
      "The Tale of Three Lions: 1.573977e-03\n",
      "Black Heart and White Heart: 1.519757e-03\n",
      "The Mahatma and the Hare: 1.283148e-03\n",
      "Maiwa's Revenge: 1.270245e-03\n",
      "Queen of the Dawn (1925): 1.246572e-03\n",
      "The World's Desire: 1.238237e-03\n",
      "Allan and the Ice Gods (1927): 1.133530e-03\n",
      "The Wizard: 1.112038e-03\n"
     ]
    }
   ],
   "source": [
    "%run python/ir_system_part_2.py \"The space aliens were friendly\""
   ]
  },
  {
   "cell_type": "markdown",
   "metadata": {},
   "source": [
    "<br>\n",
    "<br>\n",
    "---"
   ]
  }
 ],
 "metadata": {
  "kernelspec": {
   "display_name": "Python 3",
   "language": "python",
   "name": "python3"
  },
  "language_info": {
   "codemirror_mode": {
    "name": "ipython",
    "version": 3
   },
   "file_extension": ".py",
   "mimetype": "text/x-python",
   "name": "python",
   "nbconvert_exporter": "python",
   "pygments_lexer": "ipython3",
   "version": "3.5.2"
  }
 },
 "nbformat": 4,
 "nbformat_minor": 0
}
