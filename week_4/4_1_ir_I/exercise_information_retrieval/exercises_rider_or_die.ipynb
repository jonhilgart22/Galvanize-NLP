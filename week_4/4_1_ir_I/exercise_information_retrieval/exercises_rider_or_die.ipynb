{
 "cells": [
  {
   "cell_type": "markdown",
   "metadata": {},
   "source": [
    "---\n",
    "Information Retrieval Exercises\n",
    "===="
   ]
  },
  {
   "cell_type": "markdown",
   "metadata": {},
   "source": [
    "---\n",
    "Rider or Die\n",
    "----\n",
    "\n",
    "![](http://i.telegraph.co.uk/multimedia/archive/02162/ridderhaggard_2162866i.jpg)"
   ]
  },
  {
   "cell_type": "markdown",
   "metadata": {},
   "source": [
    "You will be improving upon a rather poorly-made information retrieval system. You will build a system to quickly retrieve documents that match queries."
   ]
  },
  {
   "cell_type": "markdown",
   "metadata": {},
   "source": [
    "---\n",
    "Data \n",
    "---\n",
    "\n",
    ">“...one day a sunrise will come when we shall be among those who are lost, and then others will watch those glorious rays, and grow sad in the midst of beauty, and dream of Death in the \n",
    "full glow of arising Life!”   \n",
    "> \\- Rider Haggard\n",
    "\n",
    "Your IR system will find relevant documents among a collection of 60 short stories by the famed [Rider Haggard](http://en.wikipedia.org/wiki/H._Rider_Haggard). \n",
    "\n",
    "The training data is located in the `data/` directory under the subdirectory `RiderHaggard/`. Within this directory you will see yet another directory `raw/`. This contains the raw text files of 60 different short stories written by Rider Haggard.\n",
    "\n",
    "A set of development queries and their expected answers are in the `data/` directory, the files `queries.txt` and `solutions.txt` respectively."
   ]
  },
  {
   "cell_type": "markdown",
   "metadata": {},
   "source": [
    "----\n",
    "Part I\n",
    "---\n",
    "\n",
    "Improve upon the IR system provided. This involves implementing:\n",
    "\n",
    "- **Inverted Index:** a mapping from words to the documents in which they occur.\n",
    "- **Boolean Retrieval:** in which you return the list of documents that contain all words in a query* \n",
    "\n",
    "You will implement and/or improve upon the following functions:\n",
    "\n",
    "- `index():` This is where you will build the inverted index. The documents will have already been read in for you at this point, so you will want to look at some of the instance variables in the class:\n",
    "    - `self.titles`\n",
    "    - `self.docs`\n",
    "    - `self.vocab`\n",
    "- `get_posting():` This function returns a list of integers (document IDs) that identifies the documents in which the word is found. This is basically just an API into your inverted index, but you must implement it in order to be evaluated fully.\n",
    "- `boolean_retrieve():` This function performs Boolean retrieval, returning a list of document IDs corresponding to the documents in which all the words in `query` occur.\n",
    "\n",
    "\n",
    "\n",
    "\\* Yes, we only support conjunctions..."
   ]
  },
  {
   "cell_type": "markdown",
   "metadata": {},
   "source": [
    "----\n",
    "Evaluation\n",
    "----\n",
    "Your IR system will be evaluated on a development set of queries as well as a held-out set of queries. The queries are encoded in the file **queries.txt** and are:"
   ]
  },
  {
   "cell_type": "markdown",
   "metadata": {},
   "source": [
    "Running the code\n",
    "---"
   ]
  },
  {
   "cell_type": "code",
   "execution_count": 1,
   "metadata": {
    "collapsed": true
   },
   "outputs": [],
   "source": [
    "reset -fs"
   ]
  },
  {
   "cell_type": "markdown",
   "metadata": {},
   "source": [
    "That code will run you IR system and test it against the development set of queries. \n",
    "\n",
    "The first time you run the code the documents will be stemmed.\n",
    "\n",
    "Then you will see the evaluation metrics"
   ]
  },
  {
   "cell_type": "code",
   "execution_count": 29,
   "metadata": {
    "collapsed": false
   },
   "outputs": [],
   "source": [
    "from collections import defaultdict"
   ]
  },
  {
   "cell_type": "code",
   "execution_count": 34,
   "metadata": {
    "collapsed": false
   },
   "outputs": [
    {
     "data": {
      "text/plain": [
       "{'a'}"
      ]
     },
     "execution_count": 34,
     "metadata": {},
     "output_type": "execute_result"
    }
   ],
   "source": [
    "b.intersection(l)"
   ]
  },
  {
   "cell_type": "code",
   "execution_count": 41,
   "metadata": {
    "collapsed": true
   },
   "outputs": [],
   "source": [
    "h = [3,4,5,7,6,4,3,2,4,2]"
   ]
  },
  {
   "cell_type": "code",
   "execution_count": 43,
   "metadata": {
    "collapsed": false
   },
   "outputs": [
    {
     "data": {
      "text/plain": [
       "[2, 2, 3, 3, 4, 4, 4, 5, 6, 7]"
      ]
     },
     "execution_count": 43,
     "metadata": {},
     "output_type": "execute_result"
    }
   ],
   "source": [
    "p = sorted(h)\n",
    "p"
   ]
  },
  {
   "cell_type": "code",
   "execution_count": 20,
   "metadata": {
    "collapsed": false
   },
   "outputs": [
    {
     "data": {
      "text/plain": [
       "{'a', 'b'}"
      ]
     },
     "execution_count": 20,
     "metadata": {},
     "output_type": "execute_result"
    }
   ],
   "source": [
    "l = set(['a','a','a','b'])\n",
    "l"
   ]
  },
  {
   "cell_type": "code",
   "execution_count": 47,
   "metadata": {
    "collapsed": false
   },
   "outputs": [
    {
     "name": "stdout",
     "output_type": "stream",
     "text": [
      "Reading in documents...\n",
      "Already stemmed!\n",
      "Indexing...\n",
      "[0, 1, 2, 3, 4, 5, 6, 7, 8, 9, 10, 11, 12, 13, 14, 15, 16, 17, 18, 19, 20, 21, 22, 23, 24, 25, 26, 27, 28, 29, 30, 31, 32, 33, 34, 35, 36, 37, 38, 39, 40, 41, 42, 43, 44, 45, 46, 47, 48, 49, 50, 51, 52, 53, 54, 55, 56, 57, 58, 59]  inv index\n",
      "===== Running tests =====\n",
      "Inverted Index Test\n",
      "    Score: 3 Feedback: 5/5 Correct. Accuracy: 1.000000\n",
      "Boolean Retrieval Test\n",
      "    Score: 3 Feedback: 5/5 Correct. Accuracy: 1.000000\n"
     ]
    }
   ],
   "source": [
    "%run python/ir_system_part_1.py\n"
   ]
  },
  {
   "cell_type": "markdown",
   "metadata": {},
   "source": [
    "---\n",
    "\n",
    "\n",
    "__Note__: That the first time you run this, it will create a directory named `stemmed/` in `../data/RiderHaggard/.` This is meant to be a simple cache for the raw text documents. Later runs will be much faster after the first run. \n",
    "\n",
    "*However*, this means that if something happens during this first run and it does not get through processing all the documents, you may be left with an incomplete set of documents in `../data/RiderHaggard/stemmed/.` If this happens, simply remove the `stemmed/` directory and re-run!"
   ]
  },
  {
   "cell_type": "markdown",
   "metadata": {},
   "source": [
    "----\n",
    "Part II\n",
    "---\n",
    "\n",
    "Continue improving the IR system by implementing:\n",
    "\n",
    "- __tf-idf:__ Compute and store the term-frequency inverse-document- frequency value for every word-document co-occurrence: $w_{t,d}=(1+\\text{log}_{10}\\text{df}_{t,d})\\times\\text{log}_{10}(N/\\text{df}_t)$\n",
    "\n",
    "- **Cosine Similarity:** Implement cosine similarity in order to improve upon the ranked retrieval system, which currently retrieves documents based upon the Jaccard coefficient between the query and each document.\n",
    "\n",
    "__Also__ note that when computing $w_{t,q}$ (*i.e.* the weight for the word $w$ in the query) do *not* include the idf term. That is, $w_{t,q}=1+\\text{log}_{10}\\text{tf}_{t,q}$.\n",
    "\n",
    "To improve upon the information retrieval system, you must implement and/or improve upon the following functions:\n",
    "\n",
    "- `compute_tfidf():` This function computes and stores the tf-idf values for words and documents. For this you will probably want to be aware of the class variables `vocab` and `docs` which hold, respectively, the list of all unique words and the list of documents, where each document is a list of words.\n",
    "- `get_tfidf():` You must implement this function to return the tf-idf weight for a particular word and document ID.\n",
    "- `rank_retrieve():` This function returns a priority queue of the top ranked documents for a given query. Right now it ranks documents according to their Jaccard similarity with the query, but you will replace this method of ranking with a ranking using the cosine similarity between the documents and query.\n",
    "\n",
    "### Evaluation\n",
    "Your IR system will be evaluated on the same set of queries as Part I."
   ]
  },
  {
   "cell_type": "code",
   "execution_count": 5,
   "metadata": {
    "collapsed": false
   },
   "outputs": [
    {
     "ename": "SyntaxError",
     "evalue": "invalid syntax (ir_system_part_2.py, line 125)",
     "output_type": "error",
     "traceback": [
      "\u001b[0;36m  File \u001b[0;32m\"/Users/jonathanhilgart/DSCI6004-student/week_4/4_1_ir_I/exercise_information_retrieval/python/ir_system_part_2.py\"\u001b[0;36m, line \u001b[0;32m125\u001b[0m\n\u001b[0;31m    `\u001b[0m\n\u001b[0m    ^\u001b[0m\n\u001b[0;31mSyntaxError\u001b[0m\u001b[0;31m:\u001b[0m invalid syntax\n"
     ]
    }
   ],
   "source": [
    "%run python/ir_system_part_2.py"
   ]
  },
  {
   "cell_type": "markdown",
   "metadata": {},
   "source": [
    "---\n",
    "Hints\n",
    "---\n",
    "\n",
    "> Smart data structures and dumb code works a lot better than the other way around.\n",
    "\n",
    "- Take your time - Read the instructions, skim the code, and __read the instructions again__. \n",
    "- `sets`, `Counters`, and `defaultdict` are your friends\n",
    "- indexes are your best friends\n",
    "- `np.log10` is __not__ the same as `np.log`\n",
    "- Test your system with custom queries:"
   ]
  },
  {
   "cell_type": "code",
   "execution_count": 8,
   "metadata": {
    "collapsed": false
   },
   "outputs": [
    {
     "ename": "SyntaxError",
     "evalue": "invalid syntax (ir_system_part_2.py, line 125)",
     "output_type": "error",
     "traceback": [
      "\u001b[0;36m  File \u001b[0;32m\"/Users/jonathanhilgart/DSCI6004-student/week_4/4_1_ir_I/exercise_information_retrieval/python/ir_system_part_2.py\"\u001b[0;36m, line \u001b[0;32m125\u001b[0m\n\u001b[0;31m    `\u001b[0m\n\u001b[0m    ^\u001b[0m\n\u001b[0;31mSyntaxError\u001b[0m\u001b[0;31m:\u001b[0m invalid syntax\n"
     ]
    }
   ],
   "source": [
    "\n",
    "%run python/ir_system_part_2.py \"My very own query\""
   ]
  },
  {
   "cell_type": "code",
   "execution_count": 7,
   "metadata": {
    "collapsed": false
   },
   "outputs": [
    {
     "ename": "SyntaxError",
     "evalue": "invalid syntax (ir_system_part_2.py, line 125)",
     "output_type": "error",
     "traceback": [
      "\u001b[0;36m  File \u001b[0;32m\"/Users/jonathanhilgart/DSCI6004-student/week_4/4_1_ir_I/exercise_information_retrieval/python/ir_system_part_2.py\"\u001b[0;36m, line \u001b[0;32m125\u001b[0m\n\u001b[0;31m    `\u001b[0m\n\u001b[0m    ^\u001b[0m\n\u001b[0;31mSyntaxError\u001b[0m\u001b[0;31m:\u001b[0m invalid syntax\n"
     ]
    }
   ],
   "source": [
    "%run python/ir_system_part_2.py \"dream of Death in the full glow of arising Life\""
   ]
  },
  {
   "cell_type": "code",
   "execution_count": 13,
   "metadata": {
    "collapsed": false
   },
   "outputs": [
    {
     "name": "stdout",
     "output_type": "stream",
     "text": [
      "Reading in documents...\n",
      "Already stemmed!\n",
      "Indexing...\n",
      "Calculating tf-idf...\n",
      "Best matching documents to 'The space aliens were friendly':\n",
      "Hunter Quatermain's Story: 2.805049e-03\n",
      "Long Odds: 2.238806e-03\n",
      "The Tale of Three Lions: 1.573977e-03\n",
      "Black Heart and White Heart: 1.519757e-03\n",
      "The Mahatma and the Hare: 1.283148e-03\n",
      "Maiwa's Revenge: 1.270245e-03\n",
      "Queen of the Dawn (1925): 1.246572e-03\n",
      "The World's Desire: 1.238237e-03\n",
      "Allan and the Ice Gods (1927): 1.133530e-03\n",
      "The Wizard: 1.112038e-03\n"
     ]
    }
   ],
   "source": [
    "%run python/ir_system_part_2.py \"The space aliens were friendly\""
   ]
  },
  {
   "cell_type": "markdown",
   "metadata": {},
   "source": [
    "<br>\n",
    "<br>\n",
    "---"
   ]
  }
 ],
 "metadata": {
  "kernelspec": {
   "display_name": "Python [nlp]",
   "language": "python",
   "name": "Python [nlp]"
  },
  "language_info": {
   "codemirror_mode": {
    "name": "ipython",
    "version": 3
   },
   "file_extension": ".py",
   "mimetype": "text/x-python",
   "name": "python",
   "nbconvert_exporter": "python",
   "pygments_lexer": "ipython3",
   "version": "3.5.2"
  }
 },
 "nbformat": 4,
 "nbformat_minor": 0
}
