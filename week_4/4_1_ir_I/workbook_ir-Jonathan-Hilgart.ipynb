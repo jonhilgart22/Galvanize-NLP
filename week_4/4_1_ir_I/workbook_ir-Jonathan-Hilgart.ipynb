{
 "cells": [
  {
   "cell_type": "markdown",
   "metadata": {},
   "source": [
    "Information Retrieval\n",
    "===="
   ]
  },
  {
   "cell_type": "markdown",
   "metadata": {},
   "source": [
    "Indexing is the process of making content searable.\n",
    "\n",
    "In order to make a document searchable, the indexing process must analyze the content of the document. Document analysis usually consists of splitting the document up into tokens and, optionally, making one or more changes to each token to create a normalized token, called a term. Changes applied to tokens to produce terms may include stemming, downcasing, or complete removal.\n",
    "\n",
    "The goal is to standardize documents and queries to enable faster and more accurate matches."
   ]
  },
  {
   "cell_type": "markdown",
   "metadata": {},
   "source": [
    "__Student Activity__: For each of the following terms, define and explain why it is important.\n",
    "\n",
    "[Reference this chapter for help](http://nlp.stanford.edu/IR-book/pdf/02voc.pdf)"
   ]
  },
  {
   "cell_type": "markdown",
   "metadata": {},
   "source": [
    "Tokenization"
   ]
  },
  {
   "cell_type": "markdown",
   "metadata": {
    "collapsed": true
   },
   "source": [
    "- #Tokenization is the process of taking sentences of words and extracting the unique words and punctuation marks that \n",
    "make up the sentence\n",
    "- It is important to consider alternative forms of tokens as well to increase the chance of matching with a user request. For example, U.S.A should also match USA."
   ]
  },
  {
   "cell_type": "markdown",
   "metadata": {},
   "source": [
    "<details><summary>\n",
    "Click here for a solution\n",
    "</summary>\n",
    "Process of breaking up a string into tokens to be indexed. \n",
    "\n",
    "Proper, consistent handling of punctuation, numbers, and other symbols is important. \n",
    "\n",
    "For instance, tokenizing microprocessor might mean outputting several tokens (micro, processor, and microprocessor) so that user queries for variations are more likely to succeed.\n",
    "</details>"
   ]
  },
  {
   "cell_type": "markdown",
   "metadata": {
    "collapsed": true
   },
   "source": [
    "-----"
   ]
  },
  {
   "cell_type": "markdown",
   "metadata": {},
   "source": [
    "Downcasing"
   ]
  },
  {
   "cell_type": "markdown",
   "metadata": {
    "collapsed": true
   },
   "source": [
    "- Downcasing is the process of removing capital and uppercase letters. This makes is easier to do case-insensitive matching."
   ]
  },
  {
   "cell_type": "markdown",
   "metadata": {},
   "source": [
    "<details><summary>\n",
    "Click here for a solution\n",
    "</summary>\n",
    "All words are converted to lowercase.\n",
    "\n",
    "Making it easy to do case-insensitive search.\n",
    "</details>"
   ]
  },
  {
   "cell_type": "markdown",
   "metadata": {
    "collapsed": true
   },
   "source": [
    "----"
   ]
  },
  {
   "cell_type": "markdown",
   "metadata": {},
   "source": [
    "Stemming"
   ]
  },
  {
   "cell_type": "markdown",
   "metadata": {
    "collapsed": true
   },
   "source": [
    "- Stemming takes words and chops off the suffixes of the word to arrive at the 'stem' of the word. This is useful if you have words like John and John's, the stem of John's would be John and thus John's would match a search for John."
   ]
  },
  {
   "cell_type": "markdown",
   "metadata": {},
   "source": [
    "<details><summary>\n",
    "Click here for a solution\n",
    "</summary>\n",
    "Strips words of suffixes.\n",
    "\n",
    "Match on the core part of the word.\n",
    "</details>"
   ]
  },
  {
   "cell_type": "markdown",
   "metadata": {
    "collapsed": true
   },
   "source": [
    "------"
   ]
  },
  {
   "cell_type": "markdown",
   "metadata": {},
   "source": [
    "Stopword removal"
   ]
  },
  {
   "cell_type": "markdown",
   "metadata": {
    "collapsed": true
   },
   "source": [
    "- Stopwords are the small words, determiners or conjunctions, that usually do not add any context to the document. Therefore, stopwords are typically removed when creating an index of a document. Originally, this was used to save space, but more recently stopwords have been included for more advanced queries"
   ]
  },
  {
   "cell_type": "markdown",
   "metadata": {},
   "source": [
    "<details><summary>\n",
    "Click here for a solution.\n",
    "</summary>\n",
    "Remove commonly occurring words like the, and, and a that occur in most documents. \n",
    "\n",
    "Originally done to save space in the index, but some newer search engines no longer remove stopwords since they can help in more parsing more advanced queries.\n",
    "</details>"
   ]
  },
  {
   "cell_type": "markdown",
   "metadata": {
    "collapsed": true
   },
   "source": [
    "----"
   ]
  },
  {
   "cell_type": "markdown",
   "metadata": {},
   "source": [
    "Synonym expansion"
   ]
  },
  {
   "cell_type": "markdown",
   "metadata": {
    "collapsed": true
   },
   "source": [
    "- Sunonyms are two different words that mean the same thing. Therefore, in a query a user might want to match with cold but also freezing."
   ]
  },
  {
   "cell_type": "markdown",
   "metadata": {},
   "source": [
    "<details><summary>\n",
    "Click here for a solution.\n",
    "</summary>\n",
    "For each token, synonyms are looked up in a thesaurus and added to the index. \n",
    "\n",
    "This is often done on the query terms instead of the index terms, since updates to the synonym list can be accounted for dynamically at query time without the need to re-index.\n",
    "</details>"
   ]
  },
  {
   "cell_type": "markdown",
   "metadata": {},
   "source": [
    "<br>\n",
    "<br> \n",
    "<br>\n",
    "\n",
    "----"
   ]
  }
 ],
 "metadata": {
  "kernelspec": {
   "display_name": "Python [Root]",
   "language": "python",
   "name": "Python [Root]"
  },
  "language_info": {
   "codemirror_mode": {
    "name": "ipython",
    "version": 3
   },
   "file_extension": ".py",
   "mimetype": "text/x-python",
   "name": "python",
   "nbconvert_exporter": "python",
   "pygments_lexer": "ipython3",
   "version": "3.5.2"
  }
 },
 "nbformat": 4,
 "nbformat_minor": 1
}
