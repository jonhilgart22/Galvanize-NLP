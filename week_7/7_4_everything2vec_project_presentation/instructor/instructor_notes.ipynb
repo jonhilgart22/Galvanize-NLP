{
 "cells": [
  {
   "cell_type": "markdown",
   "metadata": {},
   "source": [
    "----\n",
    "*2vec\n",
    "====\n",
    "\n"
   ]
  },
  {
   "cell_type": "markdown",
   "metadata": {},
   "source": [
    "---\n",
    "TODOs\n",
    "----\n",
    "\n",
    "- watch video 42:30 https://www.youtube.com/watch?v=eHcBeVnAiD4\n",
    "- Train up a local demo of spacy\n",
    "- make a working `lda2vec_demo.ipynb`\n",
    "- Create a lab for like2vec or lda2vec"
   ]
  },
  {
   "cell_type": "markdown",
   "metadata": {},
   "source": [
    "---\n",
    "Agenda\n",
    "----\n",
    "- OYO\n",
    "- Lecture\n",
    "    - lda2vec\n",
    "    - \n",
    "    - GLOVE\n",
    "- Q&A\n",
    "- RAT\n",
    "- Final Project Work Session"
   ]
  },
  {
   "cell_type": "markdown",
   "metadata": {},
   "source": [
    "---\n",
    "RAT Solutions\n",
    "----\n",
    "\n",
    "1. word2vec is respresenting semantic meaning in a dense high (50-300) dimensional space inferred from context.\n",
    "\n",
    "2. lda2vec usising topic to constrain the model to sume to 1 and increase interperatablity\n",
    "\n",
    "3. lda2vec is very slow to fit. take two slow algorithms and use both\n",
    "\n",
    "5. Convert words to into numbers"
   ]
  },
  {
   "cell_type": "code",
   "execution_count": null,
   "metadata": {
    "collapsed": true
   },
   "outputs": [],
   "source": []
  },
  {
   "cell_type": "code",
   "execution_count": null,
   "metadata": {
    "collapsed": true
   },
   "outputs": [],
   "source": []
  }
 ],
 "metadata": {
  "kernelspec": {
   "display_name": "Python 3",
   "language": "python",
   "name": "python3"
  },
  "language_info": {
   "codemirror_mode": {
    "name": "ipython",
    "version": 3
   },
   "file_extension": ".py",
   "mimetype": "text/x-python",
   "name": "python",
   "nbconvert_exporter": "python",
   "pygments_lexer": "ipython3",
   "version": "3.5.1"
  }
 },
 "nbformat": 4,
 "nbformat_minor": 0
}
